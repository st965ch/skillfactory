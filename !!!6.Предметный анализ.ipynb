{
 "cells": [
  {
   "cell_type": "code",
   "execution_count": 6,
   "id": "b96c02bb-42bd-45ed-95dc-a9df3d2723a4",
   "metadata": {
    "editable": true,
    "slideshow": {
     "slide_type": ""
    },
    "tags": []
   },
   "outputs": [],
   "source": [
    "import pandas as pd\n",
    "import psycopg2"
   ]
  },
  {
   "cell_type": "code",
   "execution_count": 7,
   "id": "64ac8e1b-30f6-4566-9211-bdecd0c61239",
   "metadata": {
    "editable": true,
    "slideshow": {
     "slide_type": ""
    },
    "tags": []
   },
   "outputs": [],
   "source": [
    "DBNAME = 'project_sql'\n",
    "USER = 'skillfactory'\n",
    "PASSWORD = 'cCkxxLVrDE8EbvjueeMedPKt'\n",
    "HOST = '84.201.134.129'\n",
    "PORT = 5432"
   ]
  },
  {
   "cell_type": "code",
   "execution_count": 8,
   "id": "f040a362-f7b9-4e7a-8bfd-a46beff0ce31",
   "metadata": {
    "editable": true,
    "slideshow": {
     "slide_type": ""
    },
    "tags": []
   },
   "outputs": [],
   "source": [
    "connection = psycopg2.connect(\n",
    "    dbname=DBNAME,\n",
    "    user=USER,\n",
    "    host=HOST,\n",
    "    password=PASSWORD,\n",
    "    port=PORT\n",
    ")"
   ]
  },
  {
   "cell_type": "markdown",
   "id": "7fd88b82-2daa-4e72-b34f-e79b24fb2c45",
   "metadata": {
    "editable": true,
    "slideshow": {
     "slide_type": ""
    },
    "tags": []
   },
   "source": [
    "6. Предметный \n",
    "✍ Переходим к самому интересному — нам предстоит исследовать требования работодателей к дата-сайентистам."
   ]
  },
  {
   "cell_type": "markdown",
   "id": "f37f589e-4ba3-4eb2-8b13-720d38fc052c",
   "metadata": {},
   "source": [
    "Задание 6.1\n",
    "Сколько вакансий имеет отношение к данным"
   ]
  },
  {
   "cell_type": "code",
   "execution_count": 8,
   "id": "e95b40f5-01b6-468a-855e-2755cd1a0c66",
   "metadata": {
    "editable": true,
    "scrolled": true,
    "slideshow": {
     "slide_type": ""
    },
    "tags": []
   },
   "outputs": [],
   "source": [
    "query = f''' select count(2)\n",
    "\n",
    " from public.vacancies v\n",
    "    where \n",
    "      name ilike '%данн%'\n",
    "      or name ilike '%data%' \n",
    "          \n",
    "       '''  "
   ]
  },
  {
   "cell_type": "code",
   "execution_count": 9,
   "id": "9507c7a1-e672-4163-b16c-787aff13a0d2",
   "metadata": {},
   "outputs": [
    {
     "name": "stderr",
     "output_type": "stream",
     "text": [
      "C:\\Users\\Станислав\\AppData\\Local\\Temp\\ipykernel_1308\\137330334.py:1: UserWarning: pandas only supports SQLAlchemy connectable (engine/connection) or database string URI or sqlite3 DBAPI2 connection. Other DBAPI2 objects are not tested. Please consider using SQLAlchemy.\n",
      "  df = pd.read_sql_query(query, connection)\n"
     ]
    },
    {
     "data": {
      "text/html": [
       "<div>\n",
       "<style scoped>\n",
       "    .dataframe tbody tr th:only-of-type {\n",
       "        vertical-align: middle;\n",
       "    }\n",
       "\n",
       "    .dataframe tbody tr th {\n",
       "        vertical-align: top;\n",
       "    }\n",
       "\n",
       "    .dataframe thead th {\n",
       "        text-align: right;\n",
       "    }\n",
       "</style>\n",
       "<table border=\"1\" class=\"dataframe\">\n",
       "  <thead>\n",
       "    <tr style=\"text-align: right;\">\n",
       "      <th></th>\n",
       "      <th>count</th>\n",
       "    </tr>\n",
       "  </thead>\n",
       "  <tbody>\n",
       "    <tr>\n",
       "      <th>0</th>\n",
       "      <td>1771</td>\n",
       "    </tr>\n",
       "  </tbody>\n",
       "</table>\n",
       "</div>"
      ],
      "text/plain": [
       "   count\n",
       "0   1771"
      ]
     },
     "execution_count": 9,
     "metadata": {},
     "output_type": "execute_result"
    }
   ],
   "source": [
    "df = pd.read_sql_query(query, connection)\n",
    "df"
   ]
  },
  {
   "cell_type": "markdown",
   "id": "070132dc-933d-4c58-9fe6-5821cb40d32c",
   "metadata": {
    "editable": true,
    "slideshow": {
     "slide_type": ""
    },
    "tags": []
   },
   "source": [
    "Задание 6.2\n",
    "Будем считать вакансиями для дата-сайентистов такие, в названии которых есть хотя бы одно из следующих сочетаний:\n",
    "В следующих заданиях мы продолжим работать с вакансиями по указанному выше условию (уже не учитывая вакансии уровня Junior)."
   ]
  },
  {
   "cell_type": "markdown",
   "id": "7da4680c-6efa-4c4f-aea2-999752080756",
   "metadata": {
    "editable": true,
    "slideshow": {
     "slide_type": ""
    },
    "tags": []
   },
   "source": [
    "Будем считать вакансиями для дата-сайентистов такие, в названии которых есть хотя бы одно из следующих сочетаний:\n",
    "‘data scientist’;\n",
    "‘data science’;\n",
    "‘исследователь данных’;\n",
    "‘ML’ (здесь не нужно брать вакансии по HTML);\n",
    "‘machine learning’;\n",
    "‘машинн%обучен%’.\n",
    "\n",
    "Считаем вакансиями для специалистов уровня Junior следующие:\n",
    "в названии есть слово “junior” или\n",
    "требуемый опыт — «Нет опыта» или\n",
    "тип трудоустройства — «Стажировка»."
   ]
  },
  {
   "cell_type": "code",
   "execution_count": 31,
   "id": "bfb486b5-9f7d-4dc4-bb95-a52ac20c0624",
   "metadata": {
    "editable": true,
    "scrolled": true,
    "slideshow": {
     "slide_type": ""
    },
    "tags": []
   },
   "outputs": [],
   "source": [
    "query = f''' select count(*)\n",
    "     from public.vacancies v\n",
    "     where \n",
    "     (name ilike '%data scientist%'\n",
    "     or name ilike '%data science%'\n",
    "     or name ilike '%исследователь данных%'\n",
    "     or (name ilike '%ML%' \n",
    "     and name not ilike '%HTML%')\n",
    "     or name ilike '%machine learning%'\n",
    "     or name ilike 'машинн%обучен%')\n",
    "     and (name ilike '%junior%'\n",
    "     or experience ilike '%Нет опыта%'\n",
    "     or employment ilike '%Стажировка%')\n",
    "    '''  "
   ]
  },
  {
   "cell_type": "code",
   "execution_count": 33,
   "id": "b9857bc0-24ea-483f-b0b6-3b56abfc04ee",
   "metadata": {},
   "outputs": [],
   "source": [
    "wquery = '''\n",
    "SELECT COUNT(*) AS junior_ds_count\n",
    "FROM public.vacancies\n",
    "WHERE \n",
    "    (name ILIKE '%data scientist%'\n",
    "    OR name ILIKE '%data science%'\n",
    "    OR name ILIKE '%исследователь данных%'\n",
    "    OR (name ILIKE '%ML%' AND name NOT ILIKE '%HTML%')\n",
    "    OR name ILIKE '%machine learning%'\n",
    "    OR name ILIKE 'машинн%обучен%')\n",
    "    AND \n",
    "    (name ILIKE '%junior%'\n",
    "    OR experience ILIKE '%Нет опыта%'\n",
    "    OR employment ILIKE '%Стажировка%')\n",
    "'''"
   ]
  },
  {
   "cell_type": "code",
   "execution_count": 34,
   "id": "4e122147-d9a3-4d88-bf08-848f817ba2a0",
   "metadata": {
    "editable": true,
    "slideshow": {
     "slide_type": ""
    },
    "tags": []
   },
   "outputs": [
    {
     "name": "stderr",
     "output_type": "stream",
     "text": [
      "C:\\Users\\Станислав\\AppData\\Local\\Temp\\ipykernel_6684\\137330334.py:1: UserWarning: pandas only supports SQLAlchemy connectable (engine/connection) or database string URI or sqlite3 DBAPI2 connection. Other DBAPI2 objects are not tested. Please consider using SQLAlchemy.\n",
      "  df = pd.read_sql_query(query, connection)\n"
     ]
    },
    {
     "data": {
      "text/html": [
       "<div>\n",
       "<style scoped>\n",
       "    .dataframe tbody tr th:only-of-type {\n",
       "        vertical-align: middle;\n",
       "    }\n",
       "\n",
       "    .dataframe tbody tr th {\n",
       "        vertical-align: top;\n",
       "    }\n",
       "\n",
       "    .dataframe thead th {\n",
       "        text-align: right;\n",
       "    }\n",
       "</style>\n",
       "<table border=\"1\" class=\"dataframe\">\n",
       "  <thead>\n",
       "    <tr style=\"text-align: right;\">\n",
       "      <th></th>\n",
       "      <th>count</th>\n",
       "    </tr>\n",
       "  </thead>\n",
       "  <tbody>\n",
       "    <tr>\n",
       "      <th>0</th>\n",
       "      <td>49</td>\n",
       "    </tr>\n",
       "  </tbody>\n",
       "</table>\n",
       "</div>"
      ],
      "text/plain": [
       "   count\n",
       "0     49"
      ]
     },
     "execution_count": 34,
     "metadata": {},
     "output_type": "execute_result"
    }
   ],
   "source": [
    "df = pd.read_sql_query(query, connection)\n",
    "df"
   ]
  },
  {
   "cell_type": "markdown",
   "id": "33948bf4-598f-4ac0-9078-3171b05abc5c",
   "metadata": {},
   "source": [
    "qSELECT COUNT(*) AS junior_ds_vacancies\n",
    "FROM vacancies\n",
    "WHERE (\n",
    "    -- Условия по названию (Data Science / ML)\n",
    "    LOWER(title) LIKE '%data scientist%'\n",
    "    OR LOWER(title) LIKE '%data science%'\n",
    "    OR LOWER(title) LIKE '%исследователь данных%'\n",
    "    OR (LOWER(title) LIKE '%ml%' AND LOWER(title) NOT LIKE '%html%')\n",
    "    OR LOWER(title) LIKE '%machine learning%'\n",
    "    OR LOWER(title) LIKE '%машинн%обучен%'\n",
    ")\n",
    "AND (\n",
    "    -- Условия для Junior\n",
    "    LOWER(title) LIKE '%junior%'\n",
    "    OR experience = 'Нет опыта'\n",
    "    OR employment = 'Стажировка'\n",
    ");"
   ]
  },
  {
   "cell_type": "markdown",
   "id": "02aec441-e665-468c-845e-01ce30eb9350",
   "metadata": {
    "editable": true,
    "slideshow": {
     "slide_type": ""
    },
    "tags": []
   },
   "source": [
    "Чтобы определить количество подходящих вакансий для начинающего дата-сайентиста, нужно выполнить следующие шаги:\n",
    "\n",
    "1. Фильтрация вакансий по названию (Data Science / ML)\n",
    "Отбираем вакансии, в названии которых есть хотя бы одно из указанных сочетаний:\n",
    "\n",
    "data scientist\n",
    "\n",
    "data science\n",
    "\n",
    "исследователь данных\n",
    "\n",
    "ML (но не HTML)\n",
    "\n",
    "machine learning\n",
    "\n",
    "машинн%обучен% (здесь % означает любые символы, например, \"машинное обучение\", \"машинному обучению\" и т. д.)\n",
    "\n",
    "2. Фильтрация по уровню Junior\n",
    "Из отобранных вакансий выбираем те, которые подходят для начинающих специалистов, по критериям:\n",
    "\n",
    "В названии есть слово junior (регистр не учитывается, например, Junior, JUNIOR, junior), или\n",
    "\n",
    "Требуемый опыт работы — Нет опыта, или\n",
    "\n",
    "Тип трудоустройства — Стажировка.\n",
    "\n",
    "Итоговый запрос (пример для SQL)\n",
    "sql\n",
    "Copy\n",
    "SELECT COUNT(*) AS junior_ds_vacancies\n",
    "FROM vacancies\n",
    "WHERE (\n",
    "    -- Условия по названию (Data Science / ML)\n",
    "    LOWER(title) LIKE '%data scientist%'\n",
    "    OR LOWER(title) LIKE '%data science%'\n",
    "    OR LOWER(title) LIKE '%исследователь данных%'\n",
    "    OR (LOWER(title) LIKE '%ml%' AND LOWER(title) NOT LIKE '%html%')\n",
    "    OR LOWER(title) LIKE '%machine learning%'\n",
    "    OR LOWER(title) LIKE '%машинн%обучен%'\n",
    ")\n",
    "AND (\n",
    "    -- Условия для Junior\n",
    "    LOWER(title) LIKE '%junior%'\n",
    "    OR experience = 'Нет опыта'\n",
    "    OR employment = 'Стажировка'\n",
    ");\n",
    "Приблизительное количество вакансий (оценка)\n",
    "Точное число зависит от базы данных (например, HeadHunter, LinkedIn, Indeed). В среднем, для российского рынка (на HH.ru) может быть от 50 до 200+ Junior-вакансий в Data Science / ML, но это сильно зависит от времени года и текущего спроса.\n",
    "\n",
    "Если у вас есть доступ к конкретной базе данных, можно выполнить запрос выше для точного подсчёта.\n",
    "\n",
    "New chat\n",
    "Message DeepSeek\n"
   ]
  },
  {
   "cell_type": "markdown",
   "id": "67790ba5-57b9-4c57-8c6b-5428b733a2fa",
   "metadata": {
    "editable": true,
    "slideshow": {
     "slide_type": ""
    },
    "tags": []
   },
   "source": [
    "Задание 6.3\n",
    "Сколько есть вакансий для DS, в которых в качестве ключевого навыка указан SQL или postgres?\n",
    "В качестве ответа запишите количество, которое вернул запрос."
   ]
  },
  {
   "cell_type": "code",
   "execution_count": 42,
   "id": "b2be09ae-6414-4791-b57d-76efdeb68b95",
   "metadata": {
    "editable": true,
    "scrolled": true,
    "slideshow": {
     "slide_type": ""
    },
    "tags": []
   },
   "outputs": [],
   "source": [
    "query = f''' select count(*)\n",
    "     from public.vacancies v\n",
    "     where\n",
    "     (name ilike '%data scientist%'\n",
    "     or name ilike '%data science%'\n",
    "     or name ilike '%исследователь данных%'\n",
    "     or (name ilike '%ML%' and name not ilike '%HTML%')\n",
    "     or name ilike '%machine learning%'\n",
    "     or name ilike '%машинн%обучен%')\n",
    "     \n",
    "     and (key_skills ilike '%SQL%' \n",
    "     or key_skills ilike '%postgres%')\n",
    "         \n",
    "    '''  \n"
   ]
  },
  {
   "cell_type": "code",
   "execution_count": 21,
   "id": "5f3ff727-9b93-4ec7-bae7-2a6ce4eecaf7",
   "metadata": {
    "editable": true,
    "slideshow": {
     "slide_type": ""
    },
    "tags": []
   },
   "outputs": [
    {
     "name": "stderr",
     "output_type": "stream",
     "text": [
      "C:\\Users\\Станислав\\AppData\\Local\\Temp\\ipykernel_6684\\137330334.py:1: UserWarning: pandas only supports SQLAlchemy connectable (engine/connection) or database string URI or sqlite3 DBAPI2 connection. Other DBAPI2 objects are not tested. Please consider using SQLAlchemy.\n",
      "  df = pd.read_sql_query(query, connection)\n"
     ]
    },
    {
     "data": {
      "text/html": [
       "<div>\n",
       "<style scoped>\n",
       "    .dataframe tbody tr th:only-of-type {\n",
       "        vertical-align: middle;\n",
       "    }\n",
       "\n",
       "    .dataframe tbody tr th {\n",
       "        vertical-align: top;\n",
       "    }\n",
       "\n",
       "    .dataframe thead th {\n",
       "        text-align: right;\n",
       "    }\n",
       "</style>\n",
       "<table border=\"1\" class=\"dataframe\">\n",
       "  <thead>\n",
       "    <tr style=\"text-align: right;\">\n",
       "      <th></th>\n",
       "      <th>id</th>\n",
       "      <th>name</th>\n",
       "      <th>key_skills</th>\n",
       "      <th>schedule</th>\n",
       "      <th>experience</th>\n",
       "      <th>employment</th>\n",
       "      <th>salary_from</th>\n",
       "      <th>salary_to</th>\n",
       "      <th>area_id</th>\n",
       "      <th>employer_id</th>\n",
       "    </tr>\n",
       "  </thead>\n",
       "  <tbody>\n",
       "    <tr>\n",
       "      <th>0</th>\n",
       "      <td>55312386</td>\n",
       "      <td>Компьютерный Мастер</td>\n",
       "      <td>Пользователь ПК\\tРабота в команде\\tРемонт ноут...</td>\n",
       "      <td>Полный день</td>\n",
       "      <td>Нет опыта</td>\n",
       "      <td>Полная занятость</td>\n",
       "      <td>64000.0</td>\n",
       "      <td>NaN</td>\n",
       "      <td>1516</td>\n",
       "      <td>5724811</td>\n",
       "    </tr>\n",
       "    <tr>\n",
       "      <th>1</th>\n",
       "      <td>55843014</td>\n",
       "      <td>Системный администратор</td>\n",
       "      <td>Средства криптографической защиты информации\\t...</td>\n",
       "      <td>Полный день</td>\n",
       "      <td>От 3 до 6 лет</td>\n",
       "      <td>Полная занятость</td>\n",
       "      <td>NaN</td>\n",
       "      <td>NaN</td>\n",
       "      <td>130</td>\n",
       "      <td>4903713</td>\n",
       "    </tr>\n",
       "    <tr>\n",
       "      <th>2</th>\n",
       "      <td>54525964</td>\n",
       "      <td>Lead Java Developer to Poland</td>\n",
       "      <td>Spring Framework\\tSQL\\tHibernate ORM\\tJava\\tGit</td>\n",
       "      <td>Удаленная работа</td>\n",
       "      <td>От 3 до 6 лет</td>\n",
       "      <td>Полная занятость</td>\n",
       "      <td>NaN</td>\n",
       "      <td>NaN</td>\n",
       "      <td>160</td>\n",
       "      <td>69961</td>\n",
       "    </tr>\n",
       "    <tr>\n",
       "      <th>3</th>\n",
       "      <td>54525965</td>\n",
       "      <td>Lead Java Developer to Poland</td>\n",
       "      <td>Spring Framework\\tSQL\\tHibernate ORM\\tJava\\tGit</td>\n",
       "      <td>Удаленная работа</td>\n",
       "      <td>От 3 до 6 лет</td>\n",
       "      <td>Полная занятость</td>\n",
       "      <td>NaN</td>\n",
       "      <td>NaN</td>\n",
       "      <td>159</td>\n",
       "      <td>69961</td>\n",
       "    </tr>\n",
       "    <tr>\n",
       "      <th>4</th>\n",
       "      <td>55354053</td>\n",
       "      <td>Специалист службы поддержки с техническими зна...</td>\n",
       "      <td>None</td>\n",
       "      <td>Удаленная работа</td>\n",
       "      <td>Нет опыта</td>\n",
       "      <td>Частичная занятость</td>\n",
       "      <td>15000.0</td>\n",
       "      <td>NaN</td>\n",
       "      <td>1955</td>\n",
       "      <td>1740</td>\n",
       "    </tr>\n",
       "    <tr>\n",
       "      <th>...</th>\n",
       "      <td>...</td>\n",
       "      <td>...</td>\n",
       "      <td>...</td>\n",
       "      <td>...</td>\n",
       "      <td>...</td>\n",
       "      <td>...</td>\n",
       "      <td>...</td>\n",
       "      <td>...</td>\n",
       "      <td>...</td>\n",
       "      <td>...</td>\n",
       "    </tr>\n",
       "    <tr>\n",
       "      <th>49192</th>\n",
       "      <td>55589514</td>\n",
       "      <td>Специалист по информационным технологиям</td>\n",
       "      <td>Электронный документооборот\\t1С: Предприятие 8...</td>\n",
       "      <td>Полный день</td>\n",
       "      <td>От 3 до 6 лет</td>\n",
       "      <td>Полная занятость</td>\n",
       "      <td>NaN</td>\n",
       "      <td>NaN</td>\n",
       "      <td>66</td>\n",
       "      <td>5109332</td>\n",
       "    </tr>\n",
       "    <tr>\n",
       "      <th>49193</th>\n",
       "      <td>55029668</td>\n",
       "      <td>Руководитель процессного офиса</td>\n",
       "      <td>Оптимизация бизнес-процессов\\tСтратегическое м...</td>\n",
       "      <td>Полный день</td>\n",
       "      <td>От 3 до 6 лет</td>\n",
       "      <td>Полная занятость</td>\n",
       "      <td>NaN</td>\n",
       "      <td>NaN</td>\n",
       "      <td>26</td>\n",
       "      <td>51333</td>\n",
       "    </tr>\n",
       "    <tr>\n",
       "      <th>49194</th>\n",
       "      <td>66172263</td>\n",
       "      <td>Начальник сервисной службы</td>\n",
       "      <td>Организаторские навыки\\tУправление персоналом\\...</td>\n",
       "      <td>Полный день</td>\n",
       "      <td>От 1 года до 3 лет</td>\n",
       "      <td>Полная занятость</td>\n",
       "      <td>60000.0</td>\n",
       "      <td>NaN</td>\n",
       "      <td>1930</td>\n",
       "      <td>4094700</td>\n",
       "    </tr>\n",
       "    <tr>\n",
       "      <th>49195</th>\n",
       "      <td>66180086</td>\n",
       "      <td>Senior IOS разработчик</td>\n",
       "      <td>Swift\\tRealm\\tiOS\\tАнглийский язык\\tMVP\\tMVVM\\...</td>\n",
       "      <td>Полный день</td>\n",
       "      <td>От 1 года до 3 лет</td>\n",
       "      <td>Полная занятость</td>\n",
       "      <td>146456.0</td>\n",
       "      <td>244094.0</td>\n",
       "      <td>160</td>\n",
       "      <td>4469939</td>\n",
       "    </tr>\n",
       "    <tr>\n",
       "      <th>49196</th>\n",
       "      <td>55547842</td>\n",
       "      <td>DataOps Engineer</td>\n",
       "      <td>None</td>\n",
       "      <td>Удаленная работа</td>\n",
       "      <td>От 3 до 6 лет</td>\n",
       "      <td>Полная занятость</td>\n",
       "      <td>NaN</td>\n",
       "      <td>NaN</td>\n",
       "      <td>160</td>\n",
       "      <td>4978627</td>\n",
       "    </tr>\n",
       "  </tbody>\n",
       "</table>\n",
       "<p>49197 rows × 10 columns</p>\n",
       "</div>"
      ],
      "text/plain": [
       "             id                                               name  \\\n",
       "0      55312386                                Компьютерный Мастер   \n",
       "1      55843014                            Системный администратор   \n",
       "2      54525964                      Lead Java Developer to Poland   \n",
       "3      54525965                      Lead Java Developer to Poland   \n",
       "4      55354053  Специалист службы поддержки с техническими зна...   \n",
       "...         ...                                                ...   \n",
       "49192  55589514           Специалист по информационным технологиям   \n",
       "49193  55029668                     Руководитель процессного офиса   \n",
       "49194  66172263                         Начальник сервисной службы   \n",
       "49195  66180086                             Senior IOS разработчик   \n",
       "49196  55547842                                   DataOps Engineer   \n",
       "\n",
       "                                              key_skills          schedule  \\\n",
       "0      Пользователь ПК\\tРабота в команде\\tРемонт ноут...       Полный день   \n",
       "1      Средства криптографической защиты информации\\t...       Полный день   \n",
       "2        Spring Framework\\tSQL\\tHibernate ORM\\tJava\\tGit  Удаленная работа   \n",
       "3        Spring Framework\\tSQL\\tHibernate ORM\\tJava\\tGit  Удаленная работа   \n",
       "4                                                   None  Удаленная работа   \n",
       "...                                                  ...               ...   \n",
       "49192  Электронный документооборот\\t1С: Предприятие 8...       Полный день   \n",
       "49193  Оптимизация бизнес-процессов\\tСтратегическое м...       Полный день   \n",
       "49194  Организаторские навыки\\tУправление персоналом\\...       Полный день   \n",
       "49195  Swift\\tRealm\\tiOS\\tАнглийский язык\\tMVP\\tMVVM\\...       Полный день   \n",
       "49196                                               None  Удаленная работа   \n",
       "\n",
       "               experience           employment  salary_from  salary_to  \\\n",
       "0               Нет опыта     Полная занятость      64000.0        NaN   \n",
       "1           От 3 до 6 лет     Полная занятость          NaN        NaN   \n",
       "2           От 3 до 6 лет     Полная занятость          NaN        NaN   \n",
       "3           От 3 до 6 лет     Полная занятость          NaN        NaN   \n",
       "4               Нет опыта  Частичная занятость      15000.0        NaN   \n",
       "...                   ...                  ...          ...        ...   \n",
       "49192       От 3 до 6 лет     Полная занятость          NaN        NaN   \n",
       "49193       От 3 до 6 лет     Полная занятость          NaN        NaN   \n",
       "49194  От 1 года до 3 лет     Полная занятость      60000.0        NaN   \n",
       "49195  От 1 года до 3 лет     Полная занятость     146456.0   244094.0   \n",
       "49196       От 3 до 6 лет     Полная занятость          NaN        NaN   \n",
       "\n",
       "       area_id  employer_id  \n",
       "0         1516      5724811  \n",
       "1          130      4903713  \n",
       "2          160        69961  \n",
       "3          159        69961  \n",
       "4         1955         1740  \n",
       "...        ...          ...  \n",
       "49192       66      5109332  \n",
       "49193       26        51333  \n",
       "49194     1930      4094700  \n",
       "49195      160      4469939  \n",
       "49196      160      4978627  \n",
       "\n",
       "[49197 rows x 10 columns]"
      ]
     },
     "execution_count": 21,
     "metadata": {},
     "output_type": "execute_result"
    }
   ],
   "source": [
    "df = pd.read_sql_query(query, connection)\n",
    "df"
   ]
  },
  {
   "cell_type": "code",
   "execution_count": 43,
   "id": "8ed210a9-08f2-4755-99c3-1ee0e9d49a2e",
   "metadata": {
    "editable": true,
    "slideshow": {
     "slide_type": ""
    },
    "tags": []
   },
   "outputs": [
    {
     "name": "stderr",
     "output_type": "stream",
     "text": [
      "C:\\Users\\Станислав\\AppData\\Local\\Temp\\ipykernel_6684\\137330334.py:1: UserWarning: pandas only supports SQLAlchemy connectable (engine/connection) or database string URI or sqlite3 DBAPI2 connection. Other DBAPI2 objects are not tested. Please consider using SQLAlchemy.\n",
      "  df = pd.read_sql_query(query, connection)\n"
     ]
    },
    {
     "data": {
      "text/html": [
       "<div>\n",
       "<style scoped>\n",
       "    .dataframe tbody tr th:only-of-type {\n",
       "        vertical-align: middle;\n",
       "    }\n",
       "\n",
       "    .dataframe tbody tr th {\n",
       "        vertical-align: top;\n",
       "    }\n",
       "\n",
       "    .dataframe thead th {\n",
       "        text-align: right;\n",
       "    }\n",
       "</style>\n",
       "<table border=\"1\" class=\"dataframe\">\n",
       "  <thead>\n",
       "    <tr style=\"text-align: right;\">\n",
       "      <th></th>\n",
       "      <th>count</th>\n",
       "    </tr>\n",
       "  </thead>\n",
       "  <tbody>\n",
       "    <tr>\n",
       "      <th>0</th>\n",
       "      <td>229</td>\n",
       "    </tr>\n",
       "  </tbody>\n",
       "</table>\n",
       "</div>"
      ],
      "text/plain": [
       "   count\n",
       "0    229"
      ]
     },
     "execution_count": 43,
     "metadata": {},
     "output_type": "execute_result"
    }
   ],
   "source": [
    "df = pd.read_sql_query(query, connection)\n",
    "df"
   ]
  },
  {
   "cell_type": "markdown",
   "id": "a3c3b604-5a3c-4efc-8eba-94b310280d8b",
   "metadata": {},
   "source": [
    "Задание 6.4\n",
    "С помощью запроса, аналогичного предыдущему, проверьте, насколько популярен Python в требованиях работодателей к DS. Вычислите количество вакансий, в которых в качестве ключевого навыка указан Python.\n",
    "В качестве ответа запишите количество, которое вернул запрос."
   ]
  },
  {
   "cell_type": "code",
   "execution_count": 46,
   "id": "60658793-0288-4d96-8f8b-7a043352a67d",
   "metadata": {
    "editable": true,
    "scrolled": true,
    "slideshow": {
     "slide_type": ""
    },
    "tags": []
   },
   "outputs": [],
   "source": [
    "query = f''' select count(*)\n",
    "     from public.vacancies v\n",
    "     where\n",
    "     (name ilike '%data scientist%'\n",
    "     or name ilike '%data science%'\n",
    "     or name ilike '%исследователь данных%'\n",
    "     or (name ilike '%ML%' and name not ilike '%HTML%')\n",
    "     or name ilike '%machine learning%'\n",
    "     or name ilike '%машинн%обучен%')\n",
    "     \n",
    "     and key_skills ilike '%Python%' \n",
    "    \n",
    "         \n",
    "    '''  \n"
   ]
  },
  {
   "cell_type": "code",
   "execution_count": 47,
   "id": "af4e6cba-d35f-4e46-a387-ace28dcb71ef",
   "metadata": {
    "editable": true,
    "slideshow": {
     "slide_type": ""
    },
    "tags": []
   },
   "outputs": [
    {
     "name": "stderr",
     "output_type": "stream",
     "text": [
      "C:\\Users\\Станислав\\AppData\\Local\\Temp\\ipykernel_6684\\137330334.py:1: UserWarning: pandas only supports SQLAlchemy connectable (engine/connection) or database string URI or sqlite3 DBAPI2 connection. Other DBAPI2 objects are not tested. Please consider using SQLAlchemy.\n",
      "  df = pd.read_sql_query(query, connection)\n"
     ]
    },
    {
     "data": {
      "text/html": [
       "<div>\n",
       "<style scoped>\n",
       "    .dataframe tbody tr th:only-of-type {\n",
       "        vertical-align: middle;\n",
       "    }\n",
       "\n",
       "    .dataframe tbody tr th {\n",
       "        vertical-align: top;\n",
       "    }\n",
       "\n",
       "    .dataframe thead th {\n",
       "        text-align: right;\n",
       "    }\n",
       "</style>\n",
       "<table border=\"1\" class=\"dataframe\">\n",
       "  <thead>\n",
       "    <tr style=\"text-align: right;\">\n",
       "      <th></th>\n",
       "      <th>count</th>\n",
       "    </tr>\n",
       "  </thead>\n",
       "  <tbody>\n",
       "    <tr>\n",
       "      <th>0</th>\n",
       "      <td>357</td>\n",
       "    </tr>\n",
       "  </tbody>\n",
       "</table>\n",
       "</div>"
      ],
      "text/plain": [
       "   count\n",
       "0    357"
      ]
     },
     "execution_count": 47,
     "metadata": {},
     "output_type": "execute_result"
    }
   ],
   "source": [
    "df = pd.read_sql_query(query, connection)\n",
    "df"
   ]
  },
  {
   "cell_type": "code",
   "execution_count": 72,
   "id": "fa20ceb7-038f-4580-8e51-743ecff19dbb",
   "metadata": {},
   "outputs": [],
   "source": [
    "query = f''' select name, key_skills\n",
    "     from public.vacancies v\n",
    "     where\n",
    "     name ilike '%DS%'\n",
    "\n",
    "  \n",
    "         \n",
    "    '''  "
   ]
  },
  {
   "cell_type": "code",
   "execution_count": 82,
   "id": "d22e8443-ba18-4015-b018-87e68af1b2c1",
   "metadata": {},
   "outputs": [],
   "source": [
    "query = '''\n",
    "SELECT ROUND(AVG(skill_count), 2) AS avg_skills\n",
    "FROM (\n",
    "    SELECT \n",
    "        CASE \n",
    "            WHEN key_skills IS NULL OR TRIM(key_skills) = '' THEN 0\n",
    "            ELSE ARRAY_LENGTH(STRING_TO_ARRAY(key_skills, ','), 1)\n",
    "        END AS skill_count\n",
    "    FROM public.vacancies\n",
    "    WHERE \n",
    "        name ~* 'data scientist|data science|исследователь данных|machine learning|машинн.*обучен'\n",
    "        OR (name ~* 'ML' AND name !~* 'HTML')\n",
    ") t;\n",
    "'''"
   ]
  },
  {
   "cell_type": "code",
   "execution_count": 86,
   "id": "df0a9074-af58-44b5-b0fc-881661393ed5",
   "metadata": {},
   "outputs": [],
   "source": [
    "query = '''\n",
    "SELECT ROUND(AVG(\n",
    "    CASE \n",
    "        WHEN key_skills IS NULL OR key_skills = '' THEN 0\n",
    "        ELSE (LENGTH(key_skills) - LENGTH(REPLACE(key_skills, ',', ''))) + 1\n",
    "    END\n",
    "), 2) AS avg_skills\n",
    "FROM public.vacancies\n",
    "WHERE \n",
    "    name ~* 'data scientist|data science|исследователь данных|machine learning|машинн.*обучен'\n",
    "    OR (name ~* 'ML' AND name !~* 'HTML');\n",
    "'''"
   ]
  },
  {
   "cell_type": "code",
   "execution_count": 87,
   "id": "ff0e6c25-61eb-43e0-9036-a7e5dcbbffb1",
   "metadata": {
    "editable": true,
    "scrolled": true,
    "slideshow": {
     "slide_type": ""
    },
    "tags": []
   },
   "outputs": [
    {
     "name": "stderr",
     "output_type": "stream",
     "text": [
      "C:\\Users\\Станислав\\AppData\\Local\\Temp\\ipykernel_6684\\137330334.py:1: UserWarning: pandas only supports SQLAlchemy connectable (engine/connection) or database string URI or sqlite3 DBAPI2 connection. Other DBAPI2 objects are not tested. Please consider using SQLAlchemy.\n",
      "  df = pd.read_sql_query(query, connection)\n"
     ]
    },
    {
     "data": {
      "text/html": [
       "<div>\n",
       "<style scoped>\n",
       "    .dataframe tbody tr th:only-of-type {\n",
       "        vertical-align: middle;\n",
       "    }\n",
       "\n",
       "    .dataframe tbody tr th {\n",
       "        vertical-align: top;\n",
       "    }\n",
       "\n",
       "    .dataframe thead th {\n",
       "        text-align: right;\n",
       "    }\n",
       "</style>\n",
       "<table border=\"1\" class=\"dataframe\">\n",
       "  <thead>\n",
       "    <tr style=\"text-align: right;\">\n",
       "      <th></th>\n",
       "      <th>avg_skills</th>\n",
       "    </tr>\n",
       "  </thead>\n",
       "  <tbody>\n",
       "    <tr>\n",
       "      <th>0</th>\n",
       "      <td>0.98</td>\n",
       "    </tr>\n",
       "  </tbody>\n",
       "</table>\n",
       "</div>"
      ],
      "text/plain": [
       "   avg_skills\n",
       "0        0.98"
      ]
     },
     "execution_count": 87,
     "metadata": {},
     "output_type": "execute_result"
    }
   ],
   "source": [
    "df = pd.read_sql_query(query, connection)\n",
    "df"
   ]
  },
  {
   "cell_type": "markdown",
   "id": "cf767bf7-c45e-41bc-9147-657c30a736eb",
   "metadata": {},
   "source": [
    "Подсказка (1 из 3): Посчитать количество определённых символов в строке с помощью SQL можно следующим образом: из длины исходной строки вычесть длину строки, в которой все вхождения этого символа заменены на пустую строку (''). Работа со строками изучалась в юните «*BONUS. SQL-5. Типы данных 6. Функции и операторы для работы со строками»."
   ]
  },
  {
   "cell_type": "code",
   "execution_count": null,
   "id": "aec77f76-1566-499b-b52c-b4d155c53198",
   "metadata": {},
   "outputs": [],
   "source": []
  },
  {
   "cell_type": "code",
   "execution_count": 182,
   "id": "2d0c13d6-7b41-49a4-9b4f-1794af3acf05",
   "metadata": {
    "editable": true,
    "scrolled": true,
    "slideshow": {
     "slide_type": ""
    },
    "tags": []
   },
   "outputs": [],
   "source": [
    "query = f''' select name, REPLACE(key_skills, ' ', ',')\n",
    "     from public.vacancies v\n",
    "      where\n",
    "     (name ilike '%data scientist%'\n",
    "     or name ilike '%data science%'\n",
    "     or name ilike '%исследователь данных%'\n",
    "     or (name ilike '%ML%' and name not ilike '%HTML%')\n",
    "     or name ilike '%machine learning%'\n",
    "     or name ilike '%машинн%обучен%')\n",
    "     \n",
    "     and (key_skills ilike '%SQL%' \n",
    "     or key_skills ilike '%postgres%')\n",
    "         \n",
    "    '''  \n"
   ]
  },
  {
   "cell_type": "code",
   "execution_count": 196,
   "id": "18cb101b-1b08-4faf-9550-cf27adc3e65e",
   "metadata": {
    "editable": true,
    "scrolled": true,
    "slideshow": {
     "slide_type": ""
    },
    "tags": []
   },
   "outputs": [],
   "source": [
    " query = f''' select name, v.key_skills\n",
    "      from public.vacancies v\n",
    "      where\n",
    "      name ~* 'data scientist|data science|исследователь данных|machine learning|машинн%обучен' \n",
    "      or (name ~* 'ML' and name !~* 'HTML')\n",
    "         \n",
    "    '''  \n"
   ]
  },
  {
   "cell_type": "code",
   "execution_count": 198,
   "id": "1a75fb18-f294-4f6f-a344-bab0cf00e8b8",
   "metadata": {
    "editable": true,
    "scrolled": true,
    "slideshow": {
     "slide_type": ""
    },
    "tags": []
   },
   "outputs": [],
   "source": [
    "query = f''' select name, REPLACE(key_skills, ' ', ',')\n",
    "     from public.vacancies v\n",
    "     where\n",
    "      name ~* 'data scientist|data science|исследователь данных|machine learning|машинн%обучен' \n",
    "      or (name ~* 'ML' and name !~* 'HTML')\n",
    "         \n",
    "    '''  \n"
   ]
  },
  {
   "cell_type": "code",
   "execution_count": 199,
   "id": "b4f2fa60-0e08-4ed7-b7ab-cefb6c878df3",
   "metadata": {
    "editable": true,
    "jupyter": {
     "source_hidden": true
    },
    "scrolled": true,
    "slideshow": {
     "slide_type": ""
    },
    "tags": []
   },
   "outputs": [
    {
     "name": "stderr",
     "output_type": "stream",
     "text": [
      "C:\\Users\\Станислав\\AppData\\Local\\Temp\\ipykernel_6684\\137330334.py:1: UserWarning: pandas only supports SQLAlchemy connectable (engine/connection) or database string URI or sqlite3 DBAPI2 connection. Other DBAPI2 objects are not tested. Please consider using SQLAlchemy.\n",
      "  df = pd.read_sql_query(query, connection)\n"
     ]
    },
    {
     "data": {
      "text/html": [
       "<div>\n",
       "<style scoped>\n",
       "    .dataframe tbody tr th:only-of-type {\n",
       "        vertical-align: middle;\n",
       "    }\n",
       "\n",
       "    .dataframe tbody tr th {\n",
       "        vertical-align: top;\n",
       "    }\n",
       "\n",
       "    .dataframe thead th {\n",
       "        text-align: right;\n",
       "    }\n",
       "</style>\n",
       "<table border=\"1\" class=\"dataframe\">\n",
       "  <thead>\n",
       "    <tr style=\"text-align: right;\">\n",
       "      <th></th>\n",
       "      <th>name</th>\n",
       "      <th>replace</th>\n",
       "    </tr>\n",
       "  </thead>\n",
       "  <tbody>\n",
       "    <tr>\n",
       "      <th>0</th>\n",
       "      <td>Junior+ CV/ML developer</td>\n",
       "      <td>Python\\tSQL\\tРабота,в,команде\\tOpenCV\\tML</td>\n",
       "    </tr>\n",
       "    <tr>\n",
       "      <th>1</th>\n",
       "      <td>Data Scientist</td>\n",
       "      <td>Oracle,Pl/SQL\\tБазы,данных\\tMachine,Learning\\t...</td>\n",
       "    </tr>\n",
       "    <tr>\n",
       "      <th>2</th>\n",
       "      <td>Data Scientist (Junior+)</td>\n",
       "      <td>Python\\tOpenCV\\tTensorflow\\tComputer,Vision\\tН...</td>\n",
       "    </tr>\n",
       "    <tr>\n",
       "      <th>3</th>\n",
       "      <td>AI/ML Senior Engineer</td>\n",
       "      <td>Python\\tFlask\\tLinux\\tAWS\\tGit</td>\n",
       "    </tr>\n",
       "    <tr>\n",
       "      <th>4</th>\n",
       "      <td>QA Automation TeamLead</td>\n",
       "      <td>Atlassian,Jira\\tФункциональное,тестирование\\tS...</td>\n",
       "    </tr>\n",
       "    <tr>\n",
       "      <th>...</th>\n",
       "      <td>...</td>\n",
       "      <td>...</td>\n",
       "    </tr>\n",
       "    <tr>\n",
       "      <th>519</th>\n",
       "      <td>C++ разработчик (QML)</td>\n",
       "      <td>Qt\\tООП\\tC++\\tMS,Visual,Studio\\tРазработка,ком...</td>\n",
       "    </tr>\n",
       "    <tr>\n",
       "      <th>520</th>\n",
       "      <td>Middle+/Senior Data Scientist</td>\n",
       "      <td>SCALA\\tSQL\\tМатематический,анализ\\tСтатистичес...</td>\n",
       "    </tr>\n",
       "    <tr>\n",
       "      <th>521</th>\n",
       "      <td>ML Engineer Team Lead (to Cyprus)</td>\n",
       "      <td>Python\\tLinux\\tKubernetes\\tAWS\\tGit\\tPeople,Ma...</td>\n",
       "    </tr>\n",
       "    <tr>\n",
       "      <th>522</th>\n",
       "      <td>Системный аналитик /Middle+/Senior/TeamLead</td>\n",
       "      <td>UML\\tSQL\\tBPMN\\tSOAP\\tREST\\tПостановка,задач,р...</td>\n",
       "    </tr>\n",
       "    <tr>\n",
       "      <th>523</th>\n",
       "      <td>Frontend разработчик, VueJS (Senior), TeamLead</td>\n",
       "      <td>Git\\tJavaScript\\tHTML\\tCSS\\tVue.js\\tVue\\tREST,...</td>\n",
       "    </tr>\n",
       "  </tbody>\n",
       "</table>\n",
       "<p>524 rows × 2 columns</p>\n",
       "</div>"
      ],
      "text/plain": [
       "                                               name  \\\n",
       "0                           Junior+ CV/ML developer   \n",
       "1                                    Data Scientist   \n",
       "2                          Data Scientist (Junior+)   \n",
       "3                             AI/ML Senior Engineer   \n",
       "4                            QA Automation TeamLead   \n",
       "..                                              ...   \n",
       "519                           C++ разработчик (QML)   \n",
       "520                   Middle+/Senior Data Scientist   \n",
       "521               ML Engineer Team Lead (to Cyprus)   \n",
       "522     Системный аналитик /Middle+/Senior/TeamLead   \n",
       "523  Frontend разработчик, VueJS (Senior), TeamLead   \n",
       "\n",
       "                                               replace  \n",
       "0            Python\\tSQL\\tРабота,в,команде\\tOpenCV\\tML  \n",
       "1    Oracle,Pl/SQL\\tБазы,данных\\tMachine,Learning\\t...  \n",
       "2    Python\\tOpenCV\\tTensorflow\\tComputer,Vision\\tН...  \n",
       "3                       Python\\tFlask\\tLinux\\tAWS\\tGit  \n",
       "4    Atlassian,Jira\\tФункциональное,тестирование\\tS...  \n",
       "..                                                 ...  \n",
       "519  Qt\\tООП\\tC++\\tMS,Visual,Studio\\tРазработка,ком...  \n",
       "520  SCALA\\tSQL\\tМатематический,анализ\\tСтатистичес...  \n",
       "521  Python\\tLinux\\tKubernetes\\tAWS\\tGit\\tPeople,Ma...  \n",
       "522  UML\\tSQL\\tBPMN\\tSOAP\\tREST\\tПостановка,задач,р...  \n",
       "523  Git\\tJavaScript\\tHTML\\tCSS\\tVue.js\\tVue\\tREST,...  \n",
       "\n",
       "[524 rows x 2 columns]"
      ]
     },
     "execution_count": 199,
     "metadata": {},
     "output_type": "execute_result"
    }
   ],
   "source": [
    "df = pd.read_sql_query(query, connection)\n",
    "df"
   ]
  },
  {
   "cell_type": "code",
   "execution_count": 117,
   "id": "bfdfde03-4c58-4146-be2f-2b4a4255916d",
   "metadata": {
    "editable": true,
    "scrolled": true,
    "slideshow": {
     "slide_type": ""
    },
    "tags": []
   },
   "outputs": [],
   "source": [
    "query = f''' select  length(replace(key_skills,',',\n",
    "''))\n",
    "     from public.vacancies v\n",
    "     \n",
    "         \n",
    "    '''  \n"
   ]
  },
  {
   "cell_type": "code",
   "execution_count": 118,
   "id": "acc70818-0ae3-4ae9-9a01-8d93511ab093",
   "metadata": {
    "editable": true,
    "scrolled": true,
    "slideshow": {
     "slide_type": ""
    },
    "tags": []
   },
   "outputs": [
    {
     "name": "stderr",
     "output_type": "stream",
     "text": [
      "C:\\Users\\Станислав\\AppData\\Local\\Temp\\ipykernel_6684\\137330334.py:1: UserWarning: pandas only supports SQLAlchemy connectable (engine/connection) or database string URI or sqlite3 DBAPI2 connection. Other DBAPI2 objects are not tested. Please consider using SQLAlchemy.\n",
      "  df = pd.read_sql_query(query, connection)\n"
     ]
    },
    {
     "data": {
      "text/html": [
       "<div>\n",
       "<style scoped>\n",
       "    .dataframe tbody tr th:only-of-type {\n",
       "        vertical-align: middle;\n",
       "    }\n",
       "\n",
       "    .dataframe tbody tr th {\n",
       "        vertical-align: top;\n",
       "    }\n",
       "\n",
       "    .dataframe thead th {\n",
       "        text-align: right;\n",
       "    }\n",
       "</style>\n",
       "<table border=\"1\" class=\"dataframe\">\n",
       "  <thead>\n",
       "    <tr style=\"text-align: right;\">\n",
       "      <th></th>\n",
       "      <th>length</th>\n",
       "    </tr>\n",
       "  </thead>\n",
       "  <tbody>\n",
       "    <tr>\n",
       "      <th>0</th>\n",
       "      <td>138.0</td>\n",
       "    </tr>\n",
       "    <tr>\n",
       "      <th>1</th>\n",
       "      <td>125.0</td>\n",
       "    </tr>\n",
       "    <tr>\n",
       "      <th>2</th>\n",
       "      <td>43.0</td>\n",
       "    </tr>\n",
       "    <tr>\n",
       "      <th>3</th>\n",
       "      <td>43.0</td>\n",
       "    </tr>\n",
       "    <tr>\n",
       "      <th>4</th>\n",
       "      <td>NaN</td>\n",
       "    </tr>\n",
       "    <tr>\n",
       "      <th>...</th>\n",
       "      <td>...</td>\n",
       "    </tr>\n",
       "    <tr>\n",
       "      <th>49192</th>\n",
       "      <td>276.0</td>\n",
       "    </tr>\n",
       "    <tr>\n",
       "      <th>49193</th>\n",
       "      <td>77.0</td>\n",
       "    </tr>\n",
       "    <tr>\n",
       "      <th>49194</th>\n",
       "      <td>104.0</td>\n",
       "    </tr>\n",
       "    <tr>\n",
       "      <th>49195</th>\n",
       "      <td>52.0</td>\n",
       "    </tr>\n",
       "    <tr>\n",
       "      <th>49196</th>\n",
       "      <td>NaN</td>\n",
       "    </tr>\n",
       "  </tbody>\n",
       "</table>\n",
       "<p>49197 rows × 1 columns</p>\n",
       "</div>"
      ],
      "text/plain": [
       "       length\n",
       "0       138.0\n",
       "1       125.0\n",
       "2        43.0\n",
       "3        43.0\n",
       "4         NaN\n",
       "...       ...\n",
       "49192   276.0\n",
       "49193    77.0\n",
       "49194   104.0\n",
       "49195    52.0\n",
       "49196     NaN\n",
       "\n",
       "[49197 rows x 1 columns]"
      ]
     },
     "execution_count": 118,
     "metadata": {},
     "output_type": "execute_result"
    }
   ],
   "source": [
    "df = pd.read_sql_query(query, connection)\n",
    "df"
   ]
  },
  {
   "cell_type": "code",
   "execution_count": 170,
   "id": "ffaa12a5-ad9f-4750-b913-30a3976214d2",
   "metadata": {},
   "outputs": [],
   "source": [
    "query = f''' select name, key_skills\n",
    "     from public.vacancies v\n",
    "     where name ilike '%DS%'\n",
    "     '''"
   ]
  },
  {
   "cell_type": "code",
   "execution_count": 174,
   "id": "713660d4-9b1a-4413-853a-5866ebc11f3f",
   "metadata": {},
   "outputs": [],
   "source": [
    "query = f''' select name, REPLACE(key_skills, ' ', ',')\n",
    "     from public.vacancies v\n",
    "     where name ilike '%DS%'\n",
    "     '''"
   ]
  },
  {
   "cell_type": "code",
   "execution_count": 175,
   "id": "488019f9-bdf8-4058-9026-46314d3d5bb1",
   "metadata": {
    "editable": true,
    "scrolled": true,
    "slideshow": {
     "slide_type": ""
    },
    "tags": []
   },
   "outputs": [
    {
     "name": "stderr",
     "output_type": "stream",
     "text": [
      "C:\\Users\\Станислав\\AppData\\Local\\Temp\\ipykernel_6684\\137330334.py:1: UserWarning: pandas only supports SQLAlchemy connectable (engine/connection) or database string URI or sqlite3 DBAPI2 connection. Other DBAPI2 objects are not tested. Please consider using SQLAlchemy.\n",
      "  df = pd.read_sql_query(query, connection)\n"
     ]
    },
    {
     "data": {
      "text/html": [
       "<div>\n",
       "<style scoped>\n",
       "    .dataframe tbody tr th:only-of-type {\n",
       "        vertical-align: middle;\n",
       "    }\n",
       "\n",
       "    .dataframe tbody tr th {\n",
       "        vertical-align: top;\n",
       "    }\n",
       "\n",
       "    .dataframe thead th {\n",
       "        text-align: right;\n",
       "    }\n",
       "</style>\n",
       "<table border=\"1\" class=\"dataframe\">\n",
       "  <thead>\n",
       "    <tr style=\"text-align: right;\">\n",
       "      <th></th>\n",
       "      <th>name</th>\n",
       "      <th>replace</th>\n",
       "    </tr>\n",
       "  </thead>\n",
       "  <tbody>\n",
       "    <tr>\n",
       "      <th>0</th>\n",
       "      <td>Консультант SAP PPDS</td>\n",
       "      <td>Разработка,инструкций\\tSAP,ERP\\tSAP,PPDS</td>\n",
       "    </tr>\n",
       "    <tr>\n",
       "      <th>1</th>\n",
       "      <td>DevOps Engineer  with clouds (Poland)</td>\n",
       "      <td>Python\\tAnsible\\tJenkins\\tLinux\\tАнглийский,яз...</td>\n",
       "    </tr>\n",
       "    <tr>\n",
       "      <th>2</th>\n",
       "      <td>GDS Expert, Flight Booking Platform</td>\n",
       "      <td>Java\\tАнглийский,язык\\tBusiness,Development\\tП...</td>\n",
       "    </tr>\n",
       "    <tr>\n",
       "      <th>3</th>\n",
       "      <td>GDS Expert, Flight Booking Platform</td>\n",
       "      <td>Java\\tАнглийский,язык\\tBusiness,Development\\tП...</td>\n",
       "    </tr>\n",
       "    <tr>\n",
       "      <th>4</th>\n",
       "      <td>GDS Expert, Flight Booking Platform</td>\n",
       "      <td>Java\\tАнглийский,язык\\tBusiness,Development\\tП...</td>\n",
       "    </tr>\n",
       "    <tr>\n",
       "      <th>5</th>\n",
       "      <td>Cтажер по ведению рекламы в Google Ads/Faceboo...</td>\n",
       "      <td>Работа,с,большим,объемом,информации\\tКонтекстн...</td>\n",
       "    </tr>\n",
       "    <tr>\n",
       "      <th>6</th>\n",
       "      <td>IDS Infrastructure and Technology Supervisor</td>\n",
       "      <td>None</td>\n",
       "    </tr>\n",
       "    <tr>\n",
       "      <th>7</th>\n",
       "      <td>Ведущий программист DS/DE</td>\n",
       "      <td>Python\\tSQL\\tGit\\tBig,Data\\tSpark</td>\n",
       "    </tr>\n",
       "    <tr>\n",
       "      <th>8</th>\n",
       "      <td>Ведущий программист DS/DE</td>\n",
       "      <td>Python\\tSQL\\tGit\\tBig,Data\\tSpark</td>\n",
       "    </tr>\n",
       "    <tr>\n",
       "      <th>9</th>\n",
       "      <td>Ведущий программист DS/DE</td>\n",
       "      <td>Python\\tSQL\\tGit\\tBig,Data\\tSpark</td>\n",
       "    </tr>\n",
       "    <tr>\n",
       "      <th>10</th>\n",
       "      <td>Ведущий программист DS/DE</td>\n",
       "      <td>Python\\tSQL\\tGit\\tBig,Data\\tSpark</td>\n",
       "    </tr>\n",
       "    <tr>\n",
       "      <th>11</th>\n",
       "      <td>Специалист технической поддержки (42Clouds, Ку...</td>\n",
       "      <td>Грамотная,речь\\tРабота,в,команде\\tГрамотность\\...</td>\n",
       "    </tr>\n",
       "    <tr>\n",
       "      <th>12</th>\n",
       "      <td>Android Developer, Greeting Cards App</td>\n",
       "      <td>Java\\tAndroid,SDK\\tAndroid\\tАнглийский,язык\\tD...</td>\n",
       "    </tr>\n",
       "    <tr>\n",
       "      <th>13</th>\n",
       "      <td>ML/DS инженер (CV)</td>\n",
       "      <td>Python\\tTensorflow\\tАнглийский,язык\\tPyTorch\\t...</td>\n",
       "    </tr>\n",
       "    <tr>\n",
       "      <th>14</th>\n",
       "      <td>Директор детского модельного агентства Happy K...</td>\n",
       "      <td>Грамотная,речь\\tУправление,персоналом\\tРабота,...</td>\n",
       "    </tr>\n",
       "    <tr>\n",
       "      <th>15</th>\n",
       "      <td>QA Engineer (Feeds Team)</td>\n",
       "      <td>Тестирование\\tLinux\\tHTTP</td>\n",
       "    </tr>\n",
       "    <tr>\n",
       "      <th>16</th>\n",
       "      <td>Product/Web Analyst, Greeting Cards App</td>\n",
       "      <td>Английский,язык\\tAnalytical,skills\\tBusiness,c...</td>\n",
       "    </tr>\n",
       "    <tr>\n",
       "      <th>17</th>\n",
       "      <td>Product/Web Analyst, Greeting Cards App</td>\n",
       "      <td>Английский,язык\\tAnalytical,skills\\tBusiness,c...</td>\n",
       "    </tr>\n",
       "    <tr>\n",
       "      <th>18</th>\n",
       "      <td>ML/DS Team Lead</td>\n",
       "      <td>PyTorch\\tPython\\tSQL\\tУправление,проектами\\tNL...</td>\n",
       "    </tr>\n",
       "    <tr>\n",
       "      <th>19</th>\n",
       "      <td>Специалист Tableau Dashboards</td>\n",
       "      <td>SQL\\tTableau\\tАналитическое,мышление\\tData,Ana...</td>\n",
       "    </tr>\n",
       "    <tr>\n",
       "      <th>20</th>\n",
       "      <td>GDS Expert, Flight Booking Platform</td>\n",
       "      <td>Java\\tАнглийский,язык\\tBusiness,Development\\tП...</td>\n",
       "    </tr>\n",
       "    <tr>\n",
       "      <th>21</th>\n",
       "      <td>Product/Web Analyst, Greeting Cards App</td>\n",
       "      <td>Английский,язык\\tAnalytical,skills\\tProject,ma...</td>\n",
       "    </tr>\n",
       "    <tr>\n",
       "      <th>22</th>\n",
       "      <td>Специалист сопровождения платформы коммуникаци...</td>\n",
       "      <td>None</td>\n",
       "    </tr>\n",
       "    <tr>\n",
       "      <th>23</th>\n",
       "      <td>Android Developer, Greeting Cards App</td>\n",
       "      <td>Java\\tAndroid,SDK\\tAndroid\\tАнглийский,язык\\tD...</td>\n",
       "    </tr>\n",
       "    <tr>\n",
       "      <th>24</th>\n",
       "      <td>UA Manager Google Ads (Wellness Unit)</td>\n",
       "      <td>None</td>\n",
       "    </tr>\n",
       "    <tr>\n",
       "      <th>25</th>\n",
       "      <td>Контент-менеджер в Tagline Awards в Новосибирске</td>\n",
       "      <td>Грамотность\\tДеловая,переписка\\tТайм-менеджмен...</td>\n",
       "    </tr>\n",
       "    <tr>\n",
       "      <th>26</th>\n",
       "      <td>Data Scientist (DS SWAT)</td>\n",
       "      <td>Big,Data\\tPython\\tMachine,Learning\\tNLP\\tData,...</td>\n",
       "    </tr>\n",
       "    <tr>\n",
       "      <th>27</th>\n",
       "      <td>Senior DS на проекты по разработке бизнес-орие...</td>\n",
       "      <td>Python\\tData,Mining\\tMATLAB\\tМатематическая,ст...</td>\n",
       "    </tr>\n",
       "    <tr>\n",
       "      <th>28</th>\n",
       "      <td>Старший разработчик Go, Команда платёжного фас...</td>\n",
       "      <td>SQL\\tGolang\\tIT\\tФинансы\\tАлгоритмы,и,структур...</td>\n",
       "    </tr>\n",
       "    <tr>\n",
       "      <th>29</th>\n",
       "      <td>Старший разработчик Go, Команда платёжного фас...</td>\n",
       "      <td>SQL\\tGolang\\tIT\\tФинансы\\tАлгоритмы,и,структур...</td>\n",
       "    </tr>\n",
       "    <tr>\n",
       "      <th>30</th>\n",
       "      <td>Старший разработчик Go, Команда платёжного фас...</td>\n",
       "      <td>SQL\\tGolang\\tIT\\tФинансы\\tАлгоритмы,и,структур...</td>\n",
       "    </tr>\n",
       "    <tr>\n",
       "      <th>31</th>\n",
       "      <td>Старший разработчик Go, Команда платёжного фас...</td>\n",
       "      <td>SQL\\tGolang\\tIT\\tФинансы\\tАлгоритмы,и,структур...</td>\n",
       "    </tr>\n",
       "    <tr>\n",
       "      <th>32</th>\n",
       "      <td>Старший инженер данных TDS / Data engineer</td>\n",
       "      <td>Hadoop\\tHive\\tPython\\tPostgreSQL\\tSQL</td>\n",
       "    </tr>\n",
       "    <tr>\n",
       "      <th>33</th>\n",
       "      <td>Ведущий бизнес-аналитик (DS/Power Bi)</td>\n",
       "      <td>MS,Visio\\tAtlassian,Confluence\\tAgile,Project,...</td>\n",
       "    </tr>\n",
       "    <tr>\n",
       "      <th>34</th>\n",
       "      <td>Middle DS, проекты по разработке симуляционных...</td>\n",
       "      <td>Python\\tМатематическая,статистика\\tSQL\\tАнализ...</td>\n",
       "    </tr>\n",
       "    <tr>\n",
       "      <th>35</th>\n",
       "      <td>Middle DS специалист (разработка симуляционных...</td>\n",
       "      <td>Python\\tМатематическая,статистика\\tSQL\\tАнализ...</td>\n",
       "    </tr>\n",
       "    <tr>\n",
       "      <th>36</th>\n",
       "      <td>Ads Monetization Manager</td>\n",
       "      <td>Gamedev\\tОптимизация\\tНавыки,разрешения,спорны...</td>\n",
       "    </tr>\n",
       "    <tr>\n",
       "      <th>37</th>\n",
       "      <td>Senior frontend-разработчик на проект Skybonds...</td>\n",
       "      <td>ООП\\tGit\\tJS\\tReact\\tRedux\\tBabel\\tNpm\\tУдален...</td>\n",
       "    </tr>\n",
       "    <tr>\n",
       "      <th>38</th>\n",
       "      <td>Консультант SAP PPDS</td>\n",
       "      <td>Разработка,инструкций\\tSAP,ERP\\tSAP,PPDS</td>\n",
       "    </tr>\n",
       "    <tr>\n",
       "      <th>39</th>\n",
       "      <td>Лидер направления DS</td>\n",
       "      <td>Data,Science\\tMachine,Learning\\tArtificial,Int...</td>\n",
       "    </tr>\n",
       "    <tr>\n",
       "      <th>40</th>\n",
       "      <td>Embedded DSP Software Developer</td>\n",
       "      <td>ARM\\tC/C++\\tEmbedded\\tDSP\\tЦОС\\tMATLAB</td>\n",
       "    </tr>\n",
       "    <tr>\n",
       "      <th>41</th>\n",
       "      <td>Product/Web Analyst, Greeting Cards App</td>\n",
       "      <td>Английский,язык\\tAnalytical,skills\\tProject,ma...</td>\n",
       "    </tr>\n",
       "    <tr>\n",
       "      <th>42</th>\n",
       "      <td>Технический специалист в парк Angry Birds</td>\n",
       "      <td>3,группа,по,электробезопасности\\tПользователь,...</td>\n",
       "    </tr>\n",
       "    <tr>\n",
       "      <th>43</th>\n",
       "      <td>DS/ML engineer</td>\n",
       "      <td>None</td>\n",
       "    </tr>\n",
       "    <tr>\n",
       "      <th>44</th>\n",
       "      <td>Playable Ads Developer Trainee</td>\n",
       "      <td>Git\\tBlender,3D\\tJavaScript\\tAPI,WebGl\\tThree....</td>\n",
       "    </tr>\n",
       "    <tr>\n",
       "      <th>45</th>\n",
       "      <td>Специалист ML/DS</td>\n",
       "      <td>Python\\tNumpy\\tPyTorch\\tPandas\\tМатематический...</td>\n",
       "    </tr>\n",
       "    <tr>\n",
       "      <th>46</th>\n",
       "      <td>Директор детского модельного агентства Happy K...</td>\n",
       "      <td>Организация,мероприятий\\tУправление,персоналом...</td>\n",
       "    </tr>\n",
       "  </tbody>\n",
       "</table>\n",
       "</div>"
      ],
      "text/plain": [
       "                                                 name  \\\n",
       "0                                Консультант SAP PPDS   \n",
       "1               DevOps Engineer  with clouds (Poland)   \n",
       "2                 GDS Expert, Flight Booking Platform   \n",
       "3                 GDS Expert, Flight Booking Platform   \n",
       "4                 GDS Expert, Flight Booking Platform   \n",
       "5   Cтажер по ведению рекламы в Google Ads/Faceboo...   \n",
       "6        IDS Infrastructure and Technology Supervisor   \n",
       "7                           Ведущий программист DS/DE   \n",
       "8                           Ведущий программист DS/DE   \n",
       "9                           Ведущий программист DS/DE   \n",
       "10                          Ведущий программист DS/DE   \n",
       "11  Специалист технической поддержки (42Clouds, Ку...   \n",
       "12              Android Developer, Greeting Cards App   \n",
       "13                                 ML/DS инженер (CV)   \n",
       "14  Директор детского модельного агентства Happy K...   \n",
       "15                           QA Engineer (Feeds Team)   \n",
       "16            Product/Web Analyst, Greeting Cards App   \n",
       "17            Product/Web Analyst, Greeting Cards App   \n",
       "18                                    ML/DS Team Lead   \n",
       "19                      Специалист Tableau Dashboards   \n",
       "20                GDS Expert, Flight Booking Platform   \n",
       "21            Product/Web Analyst, Greeting Cards App   \n",
       "22  Специалист сопровождения платформы коммуникаци...   \n",
       "23              Android Developer, Greeting Cards App   \n",
       "24              UA Manager Google Ads (Wellness Unit)   \n",
       "25   Контент-менеджер в Tagline Awards в Новосибирске   \n",
       "26                           Data Scientist (DS SWAT)   \n",
       "27  Senior DS на проекты по разработке бизнес-орие...   \n",
       "28  Старший разработчик Go, Команда платёжного фас...   \n",
       "29  Старший разработчик Go, Команда платёжного фас...   \n",
       "30  Старший разработчик Go, Команда платёжного фас...   \n",
       "31  Старший разработчик Go, Команда платёжного фас...   \n",
       "32         Старший инженер данных TDS / Data engineer   \n",
       "33              Ведущий бизнес-аналитик (DS/Power Bi)   \n",
       "34  Middle DS, проекты по разработке симуляционных...   \n",
       "35  Middle DS специалист (разработка симуляционных...   \n",
       "36                           Ads Monetization Manager   \n",
       "37  Senior frontend-разработчик на проект Skybonds...   \n",
       "38                               Консультант SAP PPDS   \n",
       "39                               Лидер направления DS   \n",
       "40                    Embedded DSP Software Developer   \n",
       "41            Product/Web Analyst, Greeting Cards App   \n",
       "42          Технический специалист в парк Angry Birds   \n",
       "43                                     DS/ML engineer   \n",
       "44                     Playable Ads Developer Trainee   \n",
       "45                                   Специалист ML/DS   \n",
       "46  Директор детского модельного агентства Happy K...   \n",
       "\n",
       "                                              replace  \n",
       "0            Разработка,инструкций\\tSAP,ERP\\tSAP,PPDS  \n",
       "1   Python\\tAnsible\\tJenkins\\tLinux\\tАнглийский,яз...  \n",
       "2   Java\\tАнглийский,язык\\tBusiness,Development\\tП...  \n",
       "3   Java\\tАнглийский,язык\\tBusiness,Development\\tП...  \n",
       "4   Java\\tАнглийский,язык\\tBusiness,Development\\tП...  \n",
       "5   Работа,с,большим,объемом,информации\\tКонтекстн...  \n",
       "6                                                None  \n",
       "7                   Python\\tSQL\\tGit\\tBig,Data\\tSpark  \n",
       "8                   Python\\tSQL\\tGit\\tBig,Data\\tSpark  \n",
       "9                   Python\\tSQL\\tGit\\tBig,Data\\tSpark  \n",
       "10                  Python\\tSQL\\tGit\\tBig,Data\\tSpark  \n",
       "11  Грамотная,речь\\tРабота,в,команде\\tГрамотность\\...  \n",
       "12  Java\\tAndroid,SDK\\tAndroid\\tАнглийский,язык\\tD...  \n",
       "13  Python\\tTensorflow\\tАнглийский,язык\\tPyTorch\\t...  \n",
       "14  Грамотная,речь\\tУправление,персоналом\\tРабота,...  \n",
       "15                          Тестирование\\tLinux\\tHTTP  \n",
       "16  Английский,язык\\tAnalytical,skills\\tBusiness,c...  \n",
       "17  Английский,язык\\tAnalytical,skills\\tBusiness,c...  \n",
       "18  PyTorch\\tPython\\tSQL\\tУправление,проектами\\tNL...  \n",
       "19  SQL\\tTableau\\tАналитическое,мышление\\tData,Ana...  \n",
       "20  Java\\tАнглийский,язык\\tBusiness,Development\\tП...  \n",
       "21  Английский,язык\\tAnalytical,skills\\tProject,ma...  \n",
       "22                                               None  \n",
       "23  Java\\tAndroid,SDK\\tAndroid\\tАнглийский,язык\\tD...  \n",
       "24                                               None  \n",
       "25  Грамотность\\tДеловая,переписка\\tТайм-менеджмен...  \n",
       "26  Big,Data\\tPython\\tMachine,Learning\\tNLP\\tData,...  \n",
       "27  Python\\tData,Mining\\tMATLAB\\tМатематическая,ст...  \n",
       "28  SQL\\tGolang\\tIT\\tФинансы\\tАлгоритмы,и,структур...  \n",
       "29  SQL\\tGolang\\tIT\\tФинансы\\tАлгоритмы,и,структур...  \n",
       "30  SQL\\tGolang\\tIT\\tФинансы\\tАлгоритмы,и,структур...  \n",
       "31  SQL\\tGolang\\tIT\\tФинансы\\tАлгоритмы,и,структур...  \n",
       "32              Hadoop\\tHive\\tPython\\tPostgreSQL\\tSQL  \n",
       "33  MS,Visio\\tAtlassian,Confluence\\tAgile,Project,...  \n",
       "34  Python\\tМатематическая,статистика\\tSQL\\tАнализ...  \n",
       "35  Python\\tМатематическая,статистика\\tSQL\\tАнализ...  \n",
       "36  Gamedev\\tОптимизация\\tНавыки,разрешения,спорны...  \n",
       "37  ООП\\tGit\\tJS\\tReact\\tRedux\\tBabel\\tNpm\\tУдален...  \n",
       "38           Разработка,инструкций\\tSAP,ERP\\tSAP,PPDS  \n",
       "39  Data,Science\\tMachine,Learning\\tArtificial,Int...  \n",
       "40             ARM\\tC/C++\\tEmbedded\\tDSP\\tЦОС\\tMATLAB  \n",
       "41  Английский,язык\\tAnalytical,skills\\tProject,ma...  \n",
       "42  3,группа,по,электробезопасности\\tПользователь,...  \n",
       "43                                               None  \n",
       "44  Git\\tBlender,3D\\tJavaScript\\tAPI,WebGl\\tThree....  \n",
       "45  Python\\tNumpy\\tPyTorch\\tPandas\\tМатематический...  \n",
       "46  Организация,мероприятий\\tУправление,персоналом...  "
      ]
     },
     "execution_count": 175,
     "metadata": {},
     "output_type": "execute_result"
    }
   ],
   "source": [
    "df = pd.read_sql_query(query, connection)\n",
    "df"
   ]
  },
  {
   "cell_type": "code",
   "execution_count": null,
   "id": "c01eaf0e-8a5a-4bd4-984b-2906b32679de",
   "metadata": {},
   "outputs": [],
   "source": []
  },
  {
   "cell_type": "code",
   "execution_count": null,
   "id": "c80ea509-eaff-4a65-9473-ffae1c0a6010",
   "metadata": {},
   "outputs": [],
   "source": []
  }
 ],
 "metadata": {
  "kernelspec": {
   "display_name": "Python 3 (ipykernel)",
   "language": "python",
   "name": "python3"
  },
  "language_info": {
   "codemirror_mode": {
    "name": "ipython",
    "version": 3
   },
   "file_extension": ".py",
   "mimetype": "text/x-python",
   "name": "python",
   "nbconvert_exporter": "python",
   "pygments_lexer": "ipython3",
   "version": "3.12.6"
  }
 },
 "nbformat": 4,
 "nbformat_minor": 5
}
