{
 "cells": [
  {
   "cell_type": "code",
   "execution_count": 1,
   "id": "b96c02bb-42bd-45ed-95dc-a9df3d2723a4",
   "metadata": {
    "editable": true,
    "slideshow": {
     "slide_type": ""
    },
    "tags": []
   },
   "outputs": [],
   "source": [
    "import pandas as pd\n",
    "import psycopg2"
   ]
  },
  {
   "cell_type": "code",
   "execution_count": 2,
   "id": "64ac8e1b-30f6-4566-9211-bdecd0c61239",
   "metadata": {
    "editable": true,
    "slideshow": {
     "slide_type": ""
    },
    "tags": []
   },
   "outputs": [],
   "source": [
    "DBNAME = 'project_sql'\n",
    "USER = 'skillfactory'\n",
    "PASSWORD = 'cCkxxLVrDE8EbvjueeMedPKt'\n",
    "HOST = '84.201.134.129'\n",
    "PORT = 5432"
   ]
  },
  {
   "cell_type": "code",
   "execution_count": 3,
   "id": "f040a362-f7b9-4e7a-8bfd-a46beff0ce31",
   "metadata": {
    "editable": true,
    "slideshow": {
     "slide_type": ""
    },
    "tags": []
   },
   "outputs": [],
   "source": [
    "connection = psycopg2.connect(\n",
    "    dbname=DBNAME,\n",
    "    user=USER,\n",
    "    host=HOST,\n",
    "    password=PASSWORD,\n",
    "    port=PORT\n",
    ")"
   ]
  },
  {
   "cell_type": "markdown",
   "id": "7fd88b82-2daa-4e72-b34f-e79b24fb2c45",
   "metadata": {
    "editable": true,
    "slideshow": {
     "slide_type": ""
    },
    "tags": []
   },
   "source": [
    "6. Предметный \n",
    "✍ Переходим к самому интересному — нам предстоит исследовать требования работодателей к дата-сайентистам."
   ]
  },
  {
   "cell_type": "markdown",
   "id": "f37f589e-4ba3-4eb2-8b13-720d38fc052c",
   "metadata": {},
   "source": [
    "!!! Задание 6.1\n",
    "Сколько вакансий имеет отношение к данным"
   ]
  },
  {
   "cell_type": "code",
   "execution_count": 4,
   "id": "e95b40f5-01b6-468a-855e-2755cd1a0c66",
   "metadata": {
    "editable": true,
    "scrolled": true,
    "slideshow": {
     "slide_type": ""
    },
    "tags": []
   },
   "outputs": [],
   "source": [
    "query = f''' select count(2)\n",
    "\n",
    " from public.vacancies v\n",
    "    where \n",
    "      name ilike '%данн%'\n",
    "      or name ilike '%data%' \n",
    "          \n",
    "       '''  "
   ]
  },
  {
   "cell_type": "code",
   "execution_count": 5,
   "id": "9507c7a1-e672-4163-b16c-787aff13a0d2",
   "metadata": {},
   "outputs": [
    {
     "name": "stderr",
     "output_type": "stream",
     "text": [
      "C:\\Users\\Станислав\\AppData\\Local\\Temp\\ipykernel_3460\\137330334.py:1: UserWarning: pandas only supports SQLAlchemy connectable (engine/connection) or database string URI or sqlite3 DBAPI2 connection. Other DBAPI2 objects are not tested. Please consider using SQLAlchemy.\n",
      "  df = pd.read_sql_query(query, connection)\n"
     ]
    },
    {
     "data": {
      "text/html": [
       "<div>\n",
       "<style scoped>\n",
       "    .dataframe tbody tr th:only-of-type {\n",
       "        vertical-align: middle;\n",
       "    }\n",
       "\n",
       "    .dataframe tbody tr th {\n",
       "        vertical-align: top;\n",
       "    }\n",
       "\n",
       "    .dataframe thead th {\n",
       "        text-align: right;\n",
       "    }\n",
       "</style>\n",
       "<table border=\"1\" class=\"dataframe\">\n",
       "  <thead>\n",
       "    <tr style=\"text-align: right;\">\n",
       "      <th></th>\n",
       "      <th>count</th>\n",
       "    </tr>\n",
       "  </thead>\n",
       "  <tbody>\n",
       "    <tr>\n",
       "      <th>0</th>\n",
       "      <td>1771</td>\n",
       "    </tr>\n",
       "  </tbody>\n",
       "</table>\n",
       "</div>"
      ],
      "text/plain": [
       "   count\n",
       "0   1771"
      ]
     },
     "execution_count": 5,
     "metadata": {},
     "output_type": "execute_result"
    }
   ],
   "source": [
    "df = pd.read_sql_query(query, connection)\n",
    "df"
   ]
  },
  {
   "cell_type": "markdown",
   "id": "070132dc-933d-4c58-9fe6-5821cb40d32c",
   "metadata": {
    "editable": true,
    "slideshow": {
     "slide_type": ""
    },
    "tags": []
   },
   "source": [
    "!!! Задание 6.2\n",
    "Будем считать вакансиями для дата-сайентистов такие, в названии которых есть хотя бы одно из следующих сочетаний:\n",
    "В следующих заданиях мы продолжим работать с вакансиями по указанному выше условию (уже не учитывая вакансии уровня Junior)."
   ]
  },
  {
   "cell_type": "markdown",
   "id": "7da4680c-6efa-4c4f-aea2-999752080756",
   "metadata": {
    "editable": true,
    "slideshow": {
     "slide_type": ""
    },
    "tags": []
   },
   "source": [
    "Будем считать вакансиями для дата-сайентистов такие, в названии которых есть хотя бы одно из следующих сочетаний:\n",
    "‘data scientist’;\n",
    "‘data science’;\n",
    "‘исследователь данных’;\n",
    "‘ML’ (здесь не нужно брать вакансии по HTML);\n",
    "‘machine learning’;\n",
    "‘машинн%обучен%’.\n",
    "\n",
    "Считаем вакансиями для специалистов уровня Junior следующие:\n",
    "в названии есть слово “junior” или\n",
    "требуемый опыт — «Нет опыта» или\n",
    "тип трудоустройства — «Стажировка»."
   ]
  },
  {
   "cell_type": "code",
   "execution_count": 45,
   "id": "bfb486b5-9f7d-4dc4-bb95-a52ac20c0624",
   "metadata": {
    "editable": true,
    "scrolled": true,
    "slideshow": {
     "slide_type": ""
    },
    "tags": []
   },
   "outputs": [],
   "source": [
    "query = f''' select count(*)\n",
    "     from public.vacancies v\n",
    "     where \n",
    "     (name ilike '%data scientist%'\n",
    "     or name ilike '%data science%'\n",
    "     or name ilike '%исследователь данных%'\n",
    "     or (name ilike '%ML%' and name not ilike '%HTML%')\n",
    "     or name ilike '%machine learning%'\n",
    "     or name ilike '%машинн%обучен%')\n",
    "     and\n",
    "     (name ilike '%junior%'\n",
    "     or experience ilike '%Нет опыта%'\n",
    "     or employment ilike '%Стажировка%')\n",
    "    '''  "
   ]
  },
  {
   "cell_type": "code",
   "execution_count": 46,
   "id": "4e122147-d9a3-4d88-bf08-848f817ba2a0",
   "metadata": {
    "editable": true,
    "slideshow": {
     "slide_type": ""
    },
    "tags": []
   },
   "outputs": [
    {
     "name": "stderr",
     "output_type": "stream",
     "text": [
      "C:\\Users\\Станислав\\AppData\\Local\\Temp\\ipykernel_3460\\137330334.py:1: UserWarning: pandas only supports SQLAlchemy connectable (engine/connection) or database string URI or sqlite3 DBAPI2 connection. Other DBAPI2 objects are not tested. Please consider using SQLAlchemy.\n",
      "  df = pd.read_sql_query(query, connection)\n"
     ]
    },
    {
     "data": {
      "text/html": [
       "<div>\n",
       "<style scoped>\n",
       "    .dataframe tbody tr th:only-of-type {\n",
       "        vertical-align: middle;\n",
       "    }\n",
       "\n",
       "    .dataframe tbody tr th {\n",
       "        vertical-align: top;\n",
       "    }\n",
       "\n",
       "    .dataframe thead th {\n",
       "        text-align: right;\n",
       "    }\n",
       "</style>\n",
       "<table border=\"1\" class=\"dataframe\">\n",
       "  <thead>\n",
       "    <tr style=\"text-align: right;\">\n",
       "      <th></th>\n",
       "      <th>count</th>\n",
       "    </tr>\n",
       "  </thead>\n",
       "  <tbody>\n",
       "    <tr>\n",
       "      <th>0</th>\n",
       "      <td>51</td>\n",
       "    </tr>\n",
       "  </tbody>\n",
       "</table>\n",
       "</div>"
      ],
      "text/plain": [
       "   count\n",
       "0     51"
      ]
     },
     "execution_count": 46,
     "metadata": {},
     "output_type": "execute_result"
    }
   ],
   "source": [
    "df = pd.read_sql_query(query, connection)\n",
    "df"
   ]
  },
  {
   "cell_type": "markdown",
   "id": "02aec441-e665-468c-845e-01ce30eb9350",
   "metadata": {
    "editable": true,
    "slideshow": {
     "slide_type": ""
    },
    "tags": []
   },
   "source": [
    "Чтобы определить количество подходящих вакансий для начинающего дата-сайентиста, нужно выполнить следующие шаги:\n",
    "1. Фильтрация вакансий по названию (Data Science / ML)\n",
    "Отбираем вакансии, в названии которых есть хотя бы одно из указанных сочетаний:\n",
    "data scientist\n",
    "data science\n",
    "исследователь данных\n",
    "ML (но не HTML)\n",
    "machine learning\n",
    "машинн%обучен% (здесь % означает любые символы, например, \"машинное обучение\", \"машинному обучению\" и т. д.)\n",
    "2. Фильтрация по уровню Junior\n",
    "Из отобранных вакансий выбираем те, которые подходят для начинающих специалистов, по критериям:\n",
    "В названии есть слово junior (регистр не учитывается, например, Junior, JUNIOR, junior), или\n",
    "Требуемый опыт работы — Нет опыта, или\n",
    "Тип трудоустройства — Стажировка.\n",
    "Итоговый запрос (пример для SQL)\n",
    "sql\n",
    "Copy\n",
    "SELECT COUNT(*) AS junior_ds_vacancies\n",
    "FROM vacancies\n",
    "WHERE (\n",
    "    -- Условия по названию (Data Science / ML)\n",
    "    LOWER(title) LIKE '%data scientist%'\n",
    "    OR LOWER(title) LIKE '%data science%'\n",
    "    OR LOWER(title) LIKE '%исследователь данных%'\n",
    "    OR (LOWER(title) LIKE '%ml%' AND LOWER(title) NOT LIKE '%html%')\n",
    "    OR LOWER(title) LIKE '%machine learning%'\n",
    "    OR LOWER(title) LIKE '%машинн%обучен%'\n",
    ")\n",
    "AND (\n",
    "    -- Условия для Junior\n",
    "    LOWER(title) LIKE '%junior%'\n",
    "    OR experience = 'Нет опыта'\n",
    "    OR employment = 'Стажировка'\n",
    ");\n",
    "Приблизительное количество вакансий (оценка)\n",
    "Точное число зависит от базы данных (например, HeadHunter, LinkedIn, Indeed). В среднем, для российского рынка (на HH.ru) может быть от 50 до 200+ Junior-вакансий в Data Science / ML, но это сильно зависит от времени года и текущего спроса.\n",
    "Если у вас есть доступ к конкретной базе данных, можно выполнить запрос выше для точного подсчёта.\n",
    "New chat\n",
    "Message DeepSeek"
   ]
  },
  {
   "cell_type": "markdown",
   "id": "67790ba5-57b9-4c57-8c6b-5428b733a2fa",
   "metadata": {
    "editable": true,
    "slideshow": {
     "slide_type": ""
    },
    "tags": []
   },
   "source": [
    "!!! Задание 6.3\n",
    "Сколько есть вакансий для DS, в которых в качестве ключевого навыка указан SQL или postgres?\n",
    "В качестве ответа запишите количество, которое вернул запрос."
   ]
  },
  {
   "cell_type": "code",
   "execution_count": 8,
   "id": "b2be09ae-6414-4791-b57d-76efdeb68b95",
   "metadata": {
    "editable": true,
    "scrolled": true,
    "slideshow": {
     "slide_type": ""
    },
    "tags": []
   },
   "outputs": [],
   "source": [
    "query = f''' select count(*)\n",
    "     from public.vacancies v\n",
    "     where\n",
    "     (name ilike '%data scientist%'\n",
    "     or name ilike '%data science%'\n",
    "     or name ilike '%исследователь данных%'\n",
    "     or (name ilike '%ML%' and name not ilike '%HTML%')\n",
    "     or name ilike '%machine learning%'\n",
    "     or name ilike '%машинн%обучен%')\n",
    "     \n",
    "     and (key_skills ilike '%SQL%' \n",
    "     or key_skills ilike '%postgres%')\n",
    "         \n",
    "    '''  \n"
   ]
  },
  {
   "cell_type": "code",
   "execution_count": 9,
   "id": "5f3ff727-9b93-4ec7-bae7-2a6ce4eecaf7",
   "metadata": {
    "editable": true,
    "scrolled": true,
    "slideshow": {
     "slide_type": ""
    },
    "tags": []
   },
   "outputs": [
    {
     "name": "stderr",
     "output_type": "stream",
     "text": [
      "C:\\Users\\Станислав\\AppData\\Local\\Temp\\ipykernel_3460\\137330334.py:1: UserWarning: pandas only supports SQLAlchemy connectable (engine/connection) or database string URI or sqlite3 DBAPI2 connection. Other DBAPI2 objects are not tested. Please consider using SQLAlchemy.\n",
      "  df = pd.read_sql_query(query, connection)\n"
     ]
    },
    {
     "data": {
      "text/html": [
       "<div>\n",
       "<style scoped>\n",
       "    .dataframe tbody tr th:only-of-type {\n",
       "        vertical-align: middle;\n",
       "    }\n",
       "\n",
       "    .dataframe tbody tr th {\n",
       "        vertical-align: top;\n",
       "    }\n",
       "\n",
       "    .dataframe thead th {\n",
       "        text-align: right;\n",
       "    }\n",
       "</style>\n",
       "<table border=\"1\" class=\"dataframe\">\n",
       "  <thead>\n",
       "    <tr style=\"text-align: right;\">\n",
       "      <th></th>\n",
       "      <th>count</th>\n",
       "    </tr>\n",
       "  </thead>\n",
       "  <tbody>\n",
       "    <tr>\n",
       "      <th>0</th>\n",
       "      <td>229</td>\n",
       "    </tr>\n",
       "  </tbody>\n",
       "</table>\n",
       "</div>"
      ],
      "text/plain": [
       "   count\n",
       "0    229"
      ]
     },
     "execution_count": 9,
     "metadata": {},
     "output_type": "execute_result"
    }
   ],
   "source": [
    "df = pd.read_sql_query(query, connection)\n",
    "df"
   ]
  },
  {
   "cell_type": "markdown",
   "id": "a3c3b604-5a3c-4efc-8eba-94b310280d8b",
   "metadata": {},
   "source": [
    "!!! Задание 6.4\n",
    "С помощью запроса, аналогичного предыдущему, проверьте, насколько популярен Python в требованиях работодателей к DS. Вычислите количество вакансий, в которых в качестве ключевого навыка указан Python.\n",
    "В качестве ответа запишите количество, которое вернул запрос."
   ]
  },
  {
   "cell_type": "code",
   "execution_count": 51,
   "id": "60658793-0288-4d96-8f8b-7a043352a67d",
   "metadata": {
    "editable": true,
    "scrolled": true,
    "slideshow": {
     "slide_type": ""
    },
    "tags": []
   },
   "outputs": [],
   "source": [
    "query = f''' select count(*)\n",
    "     from public.vacancies v\n",
    "     where\n",
    "     (name ilike '%data scientist%'\n",
    "     or name ilike '%data science%'\n",
    "     or name ilike '%исследователь данных%'\n",
    "     or (name ilike '%ML%' and name not ilike '%HTML%')\n",
    "     or name ilike '%machine learning%'\n",
    "     or name ilike '%машинн%обучен%')\n",
    "     and key_skills ilike '%Python%' \n",
    "    '''  \n"
   ]
  },
  {
   "cell_type": "code",
   "execution_count": 52,
   "id": "af4e6cba-d35f-4e46-a387-ace28dcb71ef",
   "metadata": {
    "editable": true,
    "slideshow": {
     "slide_type": ""
    },
    "tags": []
   },
   "outputs": [
    {
     "name": "stderr",
     "output_type": "stream",
     "text": [
      "C:\\Users\\Станислав\\AppData\\Local\\Temp\\ipykernel_3460\\137330334.py:1: UserWarning: pandas only supports SQLAlchemy connectable (engine/connection) or database string URI or sqlite3 DBAPI2 connection. Other DBAPI2 objects are not tested. Please consider using SQLAlchemy.\n",
      "  df = pd.read_sql_query(query, connection)\n"
     ]
    },
    {
     "data": {
      "text/html": [
       "<div>\n",
       "<style scoped>\n",
       "    .dataframe tbody tr th:only-of-type {\n",
       "        vertical-align: middle;\n",
       "    }\n",
       "\n",
       "    .dataframe tbody tr th {\n",
       "        vertical-align: top;\n",
       "    }\n",
       "\n",
       "    .dataframe thead th {\n",
       "        text-align: right;\n",
       "    }\n",
       "</style>\n",
       "<table border=\"1\" class=\"dataframe\">\n",
       "  <thead>\n",
       "    <tr style=\"text-align: right;\">\n",
       "      <th></th>\n",
       "      <th>count</th>\n",
       "    </tr>\n",
       "  </thead>\n",
       "  <tbody>\n",
       "    <tr>\n",
       "      <th>0</th>\n",
       "      <td>357</td>\n",
       "    </tr>\n",
       "  </tbody>\n",
       "</table>\n",
       "</div>"
      ],
      "text/plain": [
       "   count\n",
       "0    357"
      ]
     },
     "execution_count": 52,
     "metadata": {},
     "output_type": "execute_result"
    }
   ],
   "source": [
    "df = pd.read_sql_query(query, connection)\n",
    "df"
   ]
  },
  {
   "cell_type": "markdown",
   "id": "0c2eadad-5dcd-4619-ba40-018cd4871754",
   "metadata": {},
   "source": [
    "--- Задание 6.5\n",
    "Сколько ключевых навыков в среднем указывают в вакансиях для DS?\n",
    "Ответ округлите до двух знаков после точки-разделителя."
   ]
  },
  {
   "cell_type": "markdown",
   "id": "cf767bf7-c45e-41bc-9147-657c30a736eb",
   "metadata": {},
   "source": [
    "Подсказка (1 из 3): Посчитать количество определённых символов в строке с помощью SQL можно следующим образом: из длины исходной строки вычесть длину строки, в которой все вхождения этого символа заменены на пустую строку (''). Работа со строками изучалась в юните «*BONUS. SQL-5. Типы данных 6. Функции и операторы для работы со строками»."
   ]
  },
  {
   "cell_type": "code",
   "execution_count": 56,
   "id": "fa20ceb7-038f-4580-8e51-743ecff19dbb",
   "metadata": {},
   "outputs": [],
   "source": [
    "query = f''' select name, key_skills\n",
    "     from public.vacancies v\n",
    "     where\n",
    "     name ilike '%DS%'\n",
    "    and\n",
    "     (key_skills ilike '%SQL%'\n",
    "     or\n",
    "     key_skills ilike '%postgres%' \n",
    "     or\n",
    "     key_skills ilike '% Python%')        \n",
    "    '''  "
   ]
  },
  {
   "cell_type": "code",
   "execution_count": 58,
   "id": "d22e8443-ba18-4015-b018-87e68af1b2c1",
   "metadata": {},
   "outputs": [],
   "source": [
    "query = '''\n",
    "SELECT ROUND(AVG(skill_count), 2) AS avg_skills\n",
    "FROM (\n",
    "    SELECT \n",
    "        CASE \n",
    "            WHEN key_skills IS NULL OR TRIM(key_skills) = '' THEN 0\n",
    "            ELSE ARRAY_LENGTH(STRING_TO_ARRAY(key_skills, ','), 1)\n",
    "        END AS skill_count\n",
    "    FROM public.vacancies\n",
    "    WHERE \n",
    "        name ~* 'data scientist|data science|исследователь данных|machine learning|машинн.*обучен'\n",
    "        OR (name ~* 'ML' AND name !~* 'HTML')\n",
    ") t;\n",
    "'''"
   ]
  },
  {
   "cell_type": "code",
   "execution_count": 60,
   "id": "df0a9074-af58-44b5-b0fc-881661393ed5",
   "metadata": {},
   "outputs": [],
   "source": [
    "query = '''\n",
    "SELECT ROUND(AVG(\n",
    "    CASE \n",
    "        WHEN key_skills IS NULL OR key_skills = '' THEN 0\n",
    "        ELSE (LENGTH(key_skills) - LENGTH(REPLACE(key_skills, ',', ''))) + 1\n",
    "    END\n",
    "), 2) AS avg_skills\n",
    "FROM public.vacancies\n",
    "WHERE \n",
    "    name ~* 'data scientist|data science|исследователь данных|machine learning|машинн.*обучен'\n",
    "    OR (name ~* 'ML' AND name !~* 'HTML');\n",
    "'''"
   ]
  },
  {
   "cell_type": "code",
   "execution_count": 61,
   "id": "ff0e6c25-61eb-43e0-9036-a7e5dcbbffb1",
   "metadata": {
    "editable": true,
    "slideshow": {
     "slide_type": ""
    },
    "tags": []
   },
   "outputs": [
    {
     "name": "stderr",
     "output_type": "stream",
     "text": [
      "C:\\Users\\Станислав\\AppData\\Local\\Temp\\ipykernel_3460\\137330334.py:1: UserWarning: pandas only supports SQLAlchemy connectable (engine/connection) or database string URI or sqlite3 DBAPI2 connection. Other DBAPI2 objects are not tested. Please consider using SQLAlchemy.\n",
      "  df = pd.read_sql_query(query, connection)\n"
     ]
    },
    {
     "data": {
      "text/html": [
       "<div>\n",
       "<style scoped>\n",
       "    .dataframe tbody tr th:only-of-type {\n",
       "        vertical-align: middle;\n",
       "    }\n",
       "\n",
       "    .dataframe tbody tr th {\n",
       "        vertical-align: top;\n",
       "    }\n",
       "\n",
       "    .dataframe thead th {\n",
       "        text-align: right;\n",
       "    }\n",
       "</style>\n",
       "<table border=\"1\" class=\"dataframe\">\n",
       "  <thead>\n",
       "    <tr style=\"text-align: right;\">\n",
       "      <th></th>\n",
       "      <th>avg_skills</th>\n",
       "    </tr>\n",
       "  </thead>\n",
       "  <tbody>\n",
       "    <tr>\n",
       "      <th>0</th>\n",
       "      <td>0.98</td>\n",
       "    </tr>\n",
       "  </tbody>\n",
       "</table>\n",
       "</div>"
      ],
      "text/plain": [
       "   avg_skills\n",
       "0        0.98"
      ]
     },
     "execution_count": 61,
     "metadata": {},
     "output_type": "execute_result"
    }
   ],
   "source": [
    "df = pd.read_sql_query(query, connection)\n",
    "df"
   ]
  },
  {
   "cell_type": "code",
   "execution_count": null,
   "id": "aec77f76-1566-499b-b52c-b4d155c53198",
   "metadata": {},
   "outputs": [],
   "source": [
    "Задание 6.6\n",
    "1 point possible (graded)\n",
    "Напишите запрос, позволяющий вычислить, какую зарплату для DS в среднем указывают для каждого типа требуемого опыта (уникальное значение из поля experience)."
   ]
  },
  {
   "cell_type": "code",
   "execution_count": 182,
   "id": "2d0c13d6-7b41-49a4-9b4f-1794af3acf05",
   "metadata": {
    "editable": true,
    "scrolled": true,
    "slideshow": {
     "slide_type": ""
    },
    "tags": []
   },
   "outputs": [],
   "source": [
    "query = f''' select name, REPLACE(key_skills, ' ', ',')\n",
    "     from public.vacancies v\n",
    "      where\n",
    "     (name ilike '%data scientist%'\n",
    "     or name ilike '%data science%'\n",
    "     or name ilike '%исследователь данных%'\n",
    "     or (name ilike '%ML%' and name not ilike '%HTML%')\n",
    "     or name ilike '%machine learning%'\n",
    "     or name ilike '%машинн%обучен%')\n",
    "     \n",
    "     and (key_skills ilike '%SQL%' \n",
    "     or key_skills ilike '%postgres%')\n",
    "         \n",
    "    '''  \n"
   ]
  },
  {
   "cell_type": "code",
   "execution_count": 196,
   "id": "18cb101b-1b08-4faf-9550-cf27adc3e65e",
   "metadata": {
    "editable": true,
    "scrolled": true,
    "slideshow": {
     "slide_type": ""
    },
    "tags": []
   },
   "outputs": [],
   "source": [
    " query = f''' select name, v.key_skills\n",
    "      from public.vacancies v\n",
    "      where\n",
    "      name ~* 'data scientist|data science|исследователь данных|machine learning|машинн%обучен' \n",
    "      or (name ~* 'ML' and name !~* 'HTML')\n",
    "         \n",
    "    '''  \n"
   ]
  },
  {
   "cell_type": "code",
   "execution_count": 6,
   "id": "1a75fb18-f294-4f6f-a344-bab0cf00e8b8",
   "metadata": {
    "editable": true,
    "scrolled": true,
    "slideshow": {
     "slide_type": ""
    },
    "tags": []
   },
   "outputs": [],
   "source": [
    "query = f''' select name, REPLACE(key_skills, ' ', ',')\n",
    "     from public.vacancies v\n",
    "     where\n",
    "      name ~* 'data scientist|data science|исследователь данных|machine learning|машинн%обучен' \n",
    "      or (name ~* 'ML' and name !~* 'HTML')\n",
    "         \n",
    "    '''  \n"
   ]
  },
  {
   "cell_type": "code",
   "execution_count": 7,
   "id": "b4f2fa60-0e08-4ed7-b7ab-cefb6c878df3",
   "metadata": {
    "editable": true,
    "jupyter": {
     "source_hidden": true
    },
    "scrolled": true,
    "slideshow": {
     "slide_type": ""
    },
    "tags": []
   },
   "outputs": [
    {
     "name": "stderr",
     "output_type": "stream",
     "text": [
      "C:\\Users\\Станислав\\AppData\\Local\\Temp\\ipykernel_19268\\137330334.py:1: UserWarning: pandas only supports SQLAlchemy connectable (engine/connection) or database string URI or sqlite3 DBAPI2 connection. Other DBAPI2 objects are not tested. Please consider using SQLAlchemy.\n",
      "  df = pd.read_sql_query(query, connection)\n"
     ]
    },
    {
     "data": {
      "text/html": [
       "<div>\n",
       "<style scoped>\n",
       "    .dataframe tbody tr th:only-of-type {\n",
       "        vertical-align: middle;\n",
       "    }\n",
       "\n",
       "    .dataframe tbody tr th {\n",
       "        vertical-align: top;\n",
       "    }\n",
       "\n",
       "    .dataframe thead th {\n",
       "        text-align: right;\n",
       "    }\n",
       "</style>\n",
       "<table border=\"1\" class=\"dataframe\">\n",
       "  <thead>\n",
       "    <tr style=\"text-align: right;\">\n",
       "      <th></th>\n",
       "      <th>name</th>\n",
       "      <th>replace</th>\n",
       "    </tr>\n",
       "  </thead>\n",
       "  <tbody>\n",
       "    <tr>\n",
       "      <th>0</th>\n",
       "      <td>Junior+ CV/ML developer</td>\n",
       "      <td>Python\\tSQL\\tРабота,в,команде\\tOpenCV\\tML</td>\n",
       "    </tr>\n",
       "    <tr>\n",
       "      <th>1</th>\n",
       "      <td>Data Scientist</td>\n",
       "      <td>Oracle,Pl/SQL\\tБазы,данных\\tMachine,Learning\\t...</td>\n",
       "    </tr>\n",
       "    <tr>\n",
       "      <th>2</th>\n",
       "      <td>Data Scientist (Junior+)</td>\n",
       "      <td>Python\\tOpenCV\\tTensorflow\\tComputer,Vision\\tН...</td>\n",
       "    </tr>\n",
       "    <tr>\n",
       "      <th>3</th>\n",
       "      <td>AI/ML Senior Engineer</td>\n",
       "      <td>Python\\tFlask\\tLinux\\tAWS\\tGit</td>\n",
       "    </tr>\n",
       "    <tr>\n",
       "      <th>4</th>\n",
       "      <td>QA Automation TeamLead</td>\n",
       "      <td>Atlassian,Jira\\tФункциональное,тестирование\\tS...</td>\n",
       "    </tr>\n",
       "    <tr>\n",
       "      <th>...</th>\n",
       "      <td>...</td>\n",
       "      <td>...</td>\n",
       "    </tr>\n",
       "    <tr>\n",
       "      <th>519</th>\n",
       "      <td>C++ разработчик (QML)</td>\n",
       "      <td>Qt\\tООП\\tC++\\tMS,Visual,Studio\\tРазработка,ком...</td>\n",
       "    </tr>\n",
       "    <tr>\n",
       "      <th>520</th>\n",
       "      <td>Middle+/Senior Data Scientist</td>\n",
       "      <td>SCALA\\tSQL\\tМатематический,анализ\\tСтатистичес...</td>\n",
       "    </tr>\n",
       "    <tr>\n",
       "      <th>521</th>\n",
       "      <td>ML Engineer Team Lead (to Cyprus)</td>\n",
       "      <td>Python\\tLinux\\tKubernetes\\tAWS\\tGit\\tPeople,Ma...</td>\n",
       "    </tr>\n",
       "    <tr>\n",
       "      <th>522</th>\n",
       "      <td>Системный аналитик /Middle+/Senior/TeamLead</td>\n",
       "      <td>UML\\tSQL\\tBPMN\\tSOAP\\tREST\\tПостановка,задач,р...</td>\n",
       "    </tr>\n",
       "    <tr>\n",
       "      <th>523</th>\n",
       "      <td>Frontend разработчик, VueJS (Senior), TeamLead</td>\n",
       "      <td>Git\\tJavaScript\\tHTML\\tCSS\\tVue.js\\tVue\\tREST,...</td>\n",
       "    </tr>\n",
       "  </tbody>\n",
       "</table>\n",
       "<p>524 rows × 2 columns</p>\n",
       "</div>"
      ],
      "text/plain": [
       "                                               name  \\\n",
       "0                           Junior+ CV/ML developer   \n",
       "1                                    Data Scientist   \n",
       "2                          Data Scientist (Junior+)   \n",
       "3                             AI/ML Senior Engineer   \n",
       "4                            QA Automation TeamLead   \n",
       "..                                              ...   \n",
       "519                           C++ разработчик (QML)   \n",
       "520                   Middle+/Senior Data Scientist   \n",
       "521               ML Engineer Team Lead (to Cyprus)   \n",
       "522     Системный аналитик /Middle+/Senior/TeamLead   \n",
       "523  Frontend разработчик, VueJS (Senior), TeamLead   \n",
       "\n",
       "                                               replace  \n",
       "0            Python\\tSQL\\tРабота,в,команде\\tOpenCV\\tML  \n",
       "1    Oracle,Pl/SQL\\tБазы,данных\\tMachine,Learning\\t...  \n",
       "2    Python\\tOpenCV\\tTensorflow\\tComputer,Vision\\tН...  \n",
       "3                       Python\\tFlask\\tLinux\\tAWS\\tGit  \n",
       "4    Atlassian,Jira\\tФункциональное,тестирование\\tS...  \n",
       "..                                                 ...  \n",
       "519  Qt\\tООП\\tC++\\tMS,Visual,Studio\\tРазработка,ком...  \n",
       "520  SCALA\\tSQL\\tМатематический,анализ\\tСтатистичес...  \n",
       "521  Python\\tLinux\\tKubernetes\\tAWS\\tGit\\tPeople,Ma...  \n",
       "522  UML\\tSQL\\tBPMN\\tSOAP\\tREST\\tПостановка,задач,р...  \n",
       "523  Git\\tJavaScript\\tHTML\\tCSS\\tVue.js\\tVue\\tREST,...  \n",
       "\n",
       "[524 rows x 2 columns]"
      ]
     },
     "execution_count": 7,
     "metadata": {},
     "output_type": "execute_result"
    }
   ],
   "source": [
    "df = pd.read_sql_query(query, connection)\n",
    "df"
   ]
  },
  {
   "cell_type": "code",
   "execution_count": 117,
   "id": "bfdfde03-4c58-4146-be2f-2b4a4255916d",
   "metadata": {
    "editable": true,
    "scrolled": true,
    "slideshow": {
     "slide_type": ""
    },
    "tags": []
   },
   "outputs": [],
   "source": [
    "query = f''' select  length(replace(key_skills,',',\n",
    "''))\n",
    "     from public.vacancies v\n",
    "     \n",
    "         \n",
    "    '''  \n"
   ]
  },
  {
   "cell_type": "code",
   "execution_count": 118,
   "id": "acc70818-0ae3-4ae9-9a01-8d93511ab093",
   "metadata": {
    "editable": true,
    "scrolled": true,
    "slideshow": {
     "slide_type": ""
    },
    "tags": []
   },
   "outputs": [
    {
     "name": "stderr",
     "output_type": "stream",
     "text": [
      "C:\\Users\\Станислав\\AppData\\Local\\Temp\\ipykernel_6684\\137330334.py:1: UserWarning: pandas only supports SQLAlchemy connectable (engine/connection) or database string URI or sqlite3 DBAPI2 connection. Other DBAPI2 objects are not tested. Please consider using SQLAlchemy.\n",
      "  df = pd.read_sql_query(query, connection)\n"
     ]
    },
    {
     "data": {
      "text/html": [
       "<div>\n",
       "<style scoped>\n",
       "    .dataframe tbody tr th:only-of-type {\n",
       "        vertical-align: middle;\n",
       "    }\n",
       "\n",
       "    .dataframe tbody tr th {\n",
       "        vertical-align: top;\n",
       "    }\n",
       "\n",
       "    .dataframe thead th {\n",
       "        text-align: right;\n",
       "    }\n",
       "</style>\n",
       "<table border=\"1\" class=\"dataframe\">\n",
       "  <thead>\n",
       "    <tr style=\"text-align: right;\">\n",
       "      <th></th>\n",
       "      <th>length</th>\n",
       "    </tr>\n",
       "  </thead>\n",
       "  <tbody>\n",
       "    <tr>\n",
       "      <th>0</th>\n",
       "      <td>138.0</td>\n",
       "    </tr>\n",
       "    <tr>\n",
       "      <th>1</th>\n",
       "      <td>125.0</td>\n",
       "    </tr>\n",
       "    <tr>\n",
       "      <th>2</th>\n",
       "      <td>43.0</td>\n",
       "    </tr>\n",
       "    <tr>\n",
       "      <th>3</th>\n",
       "      <td>43.0</td>\n",
       "    </tr>\n",
       "    <tr>\n",
       "      <th>4</th>\n",
       "      <td>NaN</td>\n",
       "    </tr>\n",
       "    <tr>\n",
       "      <th>...</th>\n",
       "      <td>...</td>\n",
       "    </tr>\n",
       "    <tr>\n",
       "      <th>49192</th>\n",
       "      <td>276.0</td>\n",
       "    </tr>\n",
       "    <tr>\n",
       "      <th>49193</th>\n",
       "      <td>77.0</td>\n",
       "    </tr>\n",
       "    <tr>\n",
       "      <th>49194</th>\n",
       "      <td>104.0</td>\n",
       "    </tr>\n",
       "    <tr>\n",
       "      <th>49195</th>\n",
       "      <td>52.0</td>\n",
       "    </tr>\n",
       "    <tr>\n",
       "      <th>49196</th>\n",
       "      <td>NaN</td>\n",
       "    </tr>\n",
       "  </tbody>\n",
       "</table>\n",
       "<p>49197 rows × 1 columns</p>\n",
       "</div>"
      ],
      "text/plain": [
       "       length\n",
       "0       138.0\n",
       "1       125.0\n",
       "2        43.0\n",
       "3        43.0\n",
       "4         NaN\n",
       "...       ...\n",
       "49192   276.0\n",
       "49193    77.0\n",
       "49194   104.0\n",
       "49195    52.0\n",
       "49196     NaN\n",
       "\n",
       "[49197 rows x 1 columns]"
      ]
     },
     "execution_count": 118,
     "metadata": {},
     "output_type": "execute_result"
    }
   ],
   "source": [
    "df = pd.read_sql_query(query, connection)\n",
    "df"
   ]
  },
  {
   "cell_type": "code",
   "execution_count": 170,
   "id": "ffaa12a5-ad9f-4750-b913-30a3976214d2",
   "metadata": {},
   "outputs": [],
   "source": [
    "query = f''' select name, key_skills\n",
    "     from public.vacancies v\n",
    "     where name ilike '%DS%'\n",
    "     '''"
   ]
  },
  {
   "cell_type": "code",
   "execution_count": 78,
   "id": "713660d4-9b1a-4413-853a-5866ebc11f3f",
   "metadata": {},
   "outputs": [],
   "source": [
    "query = f''' select name, REPLACE((key_skills, 'SQL', ' ')\n",
    " (key_skills, 'postgres', ' ') (key_skills, 'Python', ' '))\n",
    "     from public.vacancies v\n",
    "     where name ilike '%DS%'\n",
    "     '''"
   ]
  },
  {
   "cell_type": "code",
   "execution_count": 79,
   "id": "488019f9-bdf8-4058-9026-46314d3d5bb1",
   "metadata": {
    "editable": true,
    "scrolled": true,
    "slideshow": {
     "slide_type": ""
    },
    "tags": []
   },
   "outputs": [
    {
     "name": "stderr",
     "output_type": "stream",
     "text": [
      "C:\\Users\\Станислав\\AppData\\Local\\Temp\\ipykernel_3460\\137330334.py:1: UserWarning: pandas only supports SQLAlchemy connectable (engine/connection) or database string URI or sqlite3 DBAPI2 connection. Other DBAPI2 objects are not tested. Please consider using SQLAlchemy.\n",
      "  df = pd.read_sql_query(query, connection)\n"
     ]
    },
    {
     "ename": "DatabaseError",
     "evalue": "Execution failed on sql ' select name, REPLACE((key_skills, 'SQL', ' ')\n (key_skills, 'postgres', ' ') (key_skills, 'Python', ' '))\n     from public.vacancies v\n     where name ilike '%DS%'\n     ': syntax error at or near \"(\"\nLINE 2:  (key_skills, 'postgres', ' ') (key_skills, 'Python', ' '))\n         ^\n",
     "output_type": "error",
     "traceback": [
      "\u001b[1;31m---------------------------------------------------------------------------\u001b[0m",
      "\u001b[1;31mSyntaxError\u001b[0m                               Traceback (most recent call last)",
      "File \u001b[1;32m~\\AppData\\Local\\Programs\\Python\\Python312\\Lib\\site-packages\\pandas\\io\\sql.py:2672\u001b[0m, in \u001b[0;36mSQLiteDatabase.execute\u001b[1;34m(self, sql, params)\u001b[0m\n\u001b[0;32m   2671\u001b[0m \u001b[38;5;28;01mtry\u001b[39;00m:\n\u001b[1;32m-> 2672\u001b[0m     \u001b[43mcur\u001b[49m\u001b[38;5;241;43m.\u001b[39;49m\u001b[43mexecute\u001b[49m\u001b[43m(\u001b[49m\u001b[43msql\u001b[49m\u001b[43m,\u001b[49m\u001b[43m \u001b[49m\u001b[38;5;241;43m*\u001b[39;49m\u001b[43margs\u001b[49m\u001b[43m)\u001b[49m\n\u001b[0;32m   2673\u001b[0m     \u001b[38;5;28;01mreturn\u001b[39;00m cur\n",
      "\u001b[1;31mSyntaxError\u001b[0m: syntax error at or near \"(\"\nLINE 2:  (key_skills, 'postgres', ' ') (key_skills, 'Python', ' '))\n         ^\n",
      "\nThe above exception was the direct cause of the following exception:\n",
      "\u001b[1;31mDatabaseError\u001b[0m                             Traceback (most recent call last)",
      "Cell \u001b[1;32mIn[79], line 1\u001b[0m\n\u001b[1;32m----> 1\u001b[0m df \u001b[38;5;241m=\u001b[39m \u001b[43mpd\u001b[49m\u001b[38;5;241;43m.\u001b[39;49m\u001b[43mread_sql_query\u001b[49m\u001b[43m(\u001b[49m\u001b[43mquery\u001b[49m\u001b[43m,\u001b[49m\u001b[43m \u001b[49m\u001b[43mconnection\u001b[49m\u001b[43m)\u001b[49m\n\u001b[0;32m      2\u001b[0m df\n",
      "File \u001b[1;32m~\\AppData\\Local\\Programs\\Python\\Python312\\Lib\\site-packages\\pandas\\io\\sql.py:526\u001b[0m, in \u001b[0;36mread_sql_query\u001b[1;34m(sql, con, index_col, coerce_float, params, parse_dates, chunksize, dtype, dtype_backend)\u001b[0m\n\u001b[0;32m    523\u001b[0m \u001b[38;5;28;01massert\u001b[39;00m dtype_backend \u001b[38;5;129;01mis\u001b[39;00m \u001b[38;5;129;01mnot\u001b[39;00m lib\u001b[38;5;241m.\u001b[39mno_default\n\u001b[0;32m    525\u001b[0m \u001b[38;5;28;01mwith\u001b[39;00m pandasSQL_builder(con) \u001b[38;5;28;01mas\u001b[39;00m pandas_sql:\n\u001b[1;32m--> 526\u001b[0m     \u001b[38;5;28;01mreturn\u001b[39;00m \u001b[43mpandas_sql\u001b[49m\u001b[38;5;241;43m.\u001b[39;49m\u001b[43mread_query\u001b[49m\u001b[43m(\u001b[49m\n\u001b[0;32m    527\u001b[0m \u001b[43m        \u001b[49m\u001b[43msql\u001b[49m\u001b[43m,\u001b[49m\n\u001b[0;32m    528\u001b[0m \u001b[43m        \u001b[49m\u001b[43mindex_col\u001b[49m\u001b[38;5;241;43m=\u001b[39;49m\u001b[43mindex_col\u001b[49m\u001b[43m,\u001b[49m\n\u001b[0;32m    529\u001b[0m \u001b[43m        \u001b[49m\u001b[43mparams\u001b[49m\u001b[38;5;241;43m=\u001b[39;49m\u001b[43mparams\u001b[49m\u001b[43m,\u001b[49m\n\u001b[0;32m    530\u001b[0m \u001b[43m        \u001b[49m\u001b[43mcoerce_float\u001b[49m\u001b[38;5;241;43m=\u001b[39;49m\u001b[43mcoerce_float\u001b[49m\u001b[43m,\u001b[49m\n\u001b[0;32m    531\u001b[0m \u001b[43m        \u001b[49m\u001b[43mparse_dates\u001b[49m\u001b[38;5;241;43m=\u001b[39;49m\u001b[43mparse_dates\u001b[49m\u001b[43m,\u001b[49m\n\u001b[0;32m    532\u001b[0m \u001b[43m        \u001b[49m\u001b[43mchunksize\u001b[49m\u001b[38;5;241;43m=\u001b[39;49m\u001b[43mchunksize\u001b[49m\u001b[43m,\u001b[49m\n\u001b[0;32m    533\u001b[0m \u001b[43m        \u001b[49m\u001b[43mdtype\u001b[49m\u001b[38;5;241;43m=\u001b[39;49m\u001b[43mdtype\u001b[49m\u001b[43m,\u001b[49m\n\u001b[0;32m    534\u001b[0m \u001b[43m        \u001b[49m\u001b[43mdtype_backend\u001b[49m\u001b[38;5;241;43m=\u001b[39;49m\u001b[43mdtype_backend\u001b[49m\u001b[43m,\u001b[49m\n\u001b[0;32m    535\u001b[0m \u001b[43m    \u001b[49m\u001b[43m)\u001b[49m\n",
      "File \u001b[1;32m~\\AppData\\Local\\Programs\\Python\\Python312\\Lib\\site-packages\\pandas\\io\\sql.py:2736\u001b[0m, in \u001b[0;36mSQLiteDatabase.read_query\u001b[1;34m(self, sql, index_col, coerce_float, parse_dates, params, chunksize, dtype, dtype_backend)\u001b[0m\n\u001b[0;32m   2725\u001b[0m \u001b[38;5;28;01mdef\u001b[39;00m \u001b[38;5;21mread_query\u001b[39m(\n\u001b[0;32m   2726\u001b[0m     \u001b[38;5;28mself\u001b[39m,\n\u001b[0;32m   2727\u001b[0m     sql,\n\u001b[1;32m   (...)\u001b[0m\n\u001b[0;32m   2734\u001b[0m     dtype_backend: DtypeBackend \u001b[38;5;241m|\u001b[39m Literal[\u001b[38;5;124m\"\u001b[39m\u001b[38;5;124mnumpy\u001b[39m\u001b[38;5;124m\"\u001b[39m] \u001b[38;5;241m=\u001b[39m \u001b[38;5;124m\"\u001b[39m\u001b[38;5;124mnumpy\u001b[39m\u001b[38;5;124m\"\u001b[39m,\n\u001b[0;32m   2735\u001b[0m ) \u001b[38;5;241m-\u001b[39m\u001b[38;5;241m>\u001b[39m DataFrame \u001b[38;5;241m|\u001b[39m Iterator[DataFrame]:\n\u001b[1;32m-> 2736\u001b[0m     cursor \u001b[38;5;241m=\u001b[39m \u001b[38;5;28;43mself\u001b[39;49m\u001b[38;5;241;43m.\u001b[39;49m\u001b[43mexecute\u001b[49m\u001b[43m(\u001b[49m\u001b[43msql\u001b[49m\u001b[43m,\u001b[49m\u001b[43m \u001b[49m\u001b[43mparams\u001b[49m\u001b[43m)\u001b[49m\n\u001b[0;32m   2737\u001b[0m     columns \u001b[38;5;241m=\u001b[39m [col_desc[\u001b[38;5;241m0\u001b[39m] \u001b[38;5;28;01mfor\u001b[39;00m col_desc \u001b[38;5;129;01min\u001b[39;00m cursor\u001b[38;5;241m.\u001b[39mdescription]\n\u001b[0;32m   2739\u001b[0m     \u001b[38;5;28;01mif\u001b[39;00m chunksize \u001b[38;5;129;01mis\u001b[39;00m \u001b[38;5;129;01mnot\u001b[39;00m \u001b[38;5;28;01mNone\u001b[39;00m:\n",
      "File \u001b[1;32m~\\AppData\\Local\\Programs\\Python\\Python312\\Lib\\site-packages\\pandas\\io\\sql.py:2684\u001b[0m, in \u001b[0;36mSQLiteDatabase.execute\u001b[1;34m(self, sql, params)\u001b[0m\n\u001b[0;32m   2681\u001b[0m     \u001b[38;5;28;01mraise\u001b[39;00m ex \u001b[38;5;28;01mfrom\u001b[39;00m \u001b[38;5;21;01minner_exc\u001b[39;00m\n\u001b[0;32m   2683\u001b[0m ex \u001b[38;5;241m=\u001b[39m DatabaseError(\u001b[38;5;124mf\u001b[39m\u001b[38;5;124m\"\u001b[39m\u001b[38;5;124mExecution failed on sql \u001b[39m\u001b[38;5;124m'\u001b[39m\u001b[38;5;132;01m{\u001b[39;00msql\u001b[38;5;132;01m}\u001b[39;00m\u001b[38;5;124m'\u001b[39m\u001b[38;5;124m: \u001b[39m\u001b[38;5;132;01m{\u001b[39;00mexc\u001b[38;5;132;01m}\u001b[39;00m\u001b[38;5;124m\"\u001b[39m)\n\u001b[1;32m-> 2684\u001b[0m \u001b[38;5;28;01mraise\u001b[39;00m ex \u001b[38;5;28;01mfrom\u001b[39;00m \u001b[38;5;21;01mexc\u001b[39;00m\n",
      "\u001b[1;31mDatabaseError\u001b[0m: Execution failed on sql ' select name, REPLACE((key_skills, 'SQL', ' ')\n (key_skills, 'postgres', ' ') (key_skills, 'Python', ' '))\n     from public.vacancies v\n     where name ilike '%DS%'\n     ': syntax error at or near \"(\"\nLINE 2:  (key_skills, 'postgres', ' ') (key_skills, 'Python', ' '))\n         ^\n"
     ]
    }
   ],
   "source": [
    "df = pd.read_sql_query(query, connection)\n",
    "df"
   ]
  },
  {
   "cell_type": "code",
   "execution_count": null,
   "id": "c01eaf0e-8a5a-4bd4-984b-2906b32679de",
   "metadata": {},
   "outputs": [],
   "source": []
  },
  {
   "cell_type": "code",
   "execution_count": 62,
   "id": "c80ea509-eaff-4a65-9473-ffae1c0a6010",
   "metadata": {},
   "outputs": [
    {
     "ename": "SyntaxError",
     "evalue": "invalid syntax (3602166826.py, line 1)",
     "output_type": "error",
     "traceback": [
      "\u001b[1;36m  Cell \u001b[1;32mIn[62], line 1\u001b[1;36m\u001b[0m\n\u001b[1;33m    select 'select * from '||t.table_schema||'.'||t.table_name||';' query\u001b[0m\n\u001b[1;37m           ^\u001b[0m\n\u001b[1;31mSyntaxError\u001b[0m\u001b[1;31m:\u001b[0m invalid syntax\n"
     ]
    }
   ],
   "source": [
    "select 'select * from '||t.table_schema||'.'||t.table_name||';' query\n",
    "from information_schema.tables t\n",
    "where table_schema = 'shipping'"
   ]
  },
  {
   "cell_type": "code",
   "execution_count": 64,
   "id": "c8e70d06-dd0a-4c08-abdb-d15cbe89e194",
   "metadata": {},
   "outputs": [],
   "source": [
    "query = f'''select\n",
    "    name, format('Hello, %s',key_skills) \n",
    "\n",
    "    -- name, key_skills\n",
    "    from public.vacancies v\n",
    "    where\n",
    "    name ilike '%DS%'\n",
    "    and\n",
    "    (key_skills ilike '%SQL%' \n",
    "    or\n",
    "    key_skills ilike '%postgres%' \n",
    "    or\n",
    "    key_skills ilike '% Python%')'''"
   ]
  },
  {
   "cell_type": "code",
   "execution_count": 65,
   "id": "3b7ab01d-b8cf-47b0-9e4c-7acd2a89fa17",
   "metadata": {
    "editable": true,
    "scrolled": true,
    "slideshow": {
     "slide_type": ""
    },
    "tags": []
   },
   "outputs": [
    {
     "name": "stderr",
     "output_type": "stream",
     "text": [
      "C:\\Users\\Станислав\\AppData\\Local\\Temp\\ipykernel_3460\\137330334.py:1: UserWarning: pandas only supports SQLAlchemy connectable (engine/connection) or database string URI or sqlite3 DBAPI2 connection. Other DBAPI2 objects are not tested. Please consider using SQLAlchemy.\n",
      "  df = pd.read_sql_query(query, connection)\n"
     ]
    },
    {
     "data": {
      "text/html": [
       "<div>\n",
       "<style scoped>\n",
       "    .dataframe tbody tr th:only-of-type {\n",
       "        vertical-align: middle;\n",
       "    }\n",
       "\n",
       "    .dataframe tbody tr th {\n",
       "        vertical-align: top;\n",
       "    }\n",
       "\n",
       "    .dataframe thead th {\n",
       "        text-align: right;\n",
       "    }\n",
       "</style>\n",
       "<table border=\"1\" class=\"dataframe\">\n",
       "  <thead>\n",
       "    <tr style=\"text-align: right;\">\n",
       "      <th></th>\n",
       "      <th>name</th>\n",
       "      <th>format</th>\n",
       "    </tr>\n",
       "  </thead>\n",
       "  <tbody>\n",
       "    <tr>\n",
       "      <th>0</th>\n",
       "      <td>Ведущий программист DS/DE</td>\n",
       "      <td>Hello, Python\\tSQL\\tGit\\tBig Data\\tSpark</td>\n",
       "    </tr>\n",
       "    <tr>\n",
       "      <th>1</th>\n",
       "      <td>Ведущий программист DS/DE</td>\n",
       "      <td>Hello, Python\\tSQL\\tGit\\tBig Data\\tSpark</td>\n",
       "    </tr>\n",
       "    <tr>\n",
       "      <th>2</th>\n",
       "      <td>Ведущий программист DS/DE</td>\n",
       "      <td>Hello, Python\\tSQL\\tGit\\tBig Data\\tSpark</td>\n",
       "    </tr>\n",
       "    <tr>\n",
       "      <th>3</th>\n",
       "      <td>Ведущий программист DS/DE</td>\n",
       "      <td>Hello, Python\\tSQL\\tGit\\tBig Data\\tSpark</td>\n",
       "    </tr>\n",
       "    <tr>\n",
       "      <th>4</th>\n",
       "      <td>Product/Web Analyst, Greeting Cards App</td>\n",
       "      <td>Hello, Английский язык\\tAnalytical skills\\tBus...</td>\n",
       "    </tr>\n",
       "    <tr>\n",
       "      <th>5</th>\n",
       "      <td>Product/Web Analyst, Greeting Cards App</td>\n",
       "      <td>Hello, Английский язык\\tAnalytical skills\\tBus...</td>\n",
       "    </tr>\n",
       "    <tr>\n",
       "      <th>6</th>\n",
       "      <td>ML/DS Team Lead</td>\n",
       "      <td>Hello, PyTorch\\tPython\\tSQL\\tУправление проект...</td>\n",
       "    </tr>\n",
       "    <tr>\n",
       "      <th>7</th>\n",
       "      <td>Специалист Tableau Dashboards</td>\n",
       "      <td>Hello, SQL\\tTableau\\tАналитическое мышление\\tD...</td>\n",
       "    </tr>\n",
       "    <tr>\n",
       "      <th>8</th>\n",
       "      <td>Старший разработчик Go, Команда платёжного фас...</td>\n",
       "      <td>Hello, SQL\\tGolang\\tIT\\tФинансы\\tАлгоритмы и с...</td>\n",
       "    </tr>\n",
       "    <tr>\n",
       "      <th>9</th>\n",
       "      <td>Старший разработчик Go, Команда платёжного фас...</td>\n",
       "      <td>Hello, SQL\\tGolang\\tIT\\tФинансы\\tАлгоритмы и с...</td>\n",
       "    </tr>\n",
       "    <tr>\n",
       "      <th>10</th>\n",
       "      <td>Старший разработчик Go, Команда платёжного фас...</td>\n",
       "      <td>Hello, SQL\\tGolang\\tIT\\tФинансы\\tАлгоритмы и с...</td>\n",
       "    </tr>\n",
       "    <tr>\n",
       "      <th>11</th>\n",
       "      <td>Старший разработчик Go, Команда платёжного фас...</td>\n",
       "      <td>Hello, SQL\\tGolang\\tIT\\tФинансы\\tАлгоритмы и с...</td>\n",
       "    </tr>\n",
       "    <tr>\n",
       "      <th>12</th>\n",
       "      <td>Старший инженер данных TDS / Data engineer</td>\n",
       "      <td>Hello, Hadoop\\tHive\\tPython\\tPostgreSQL\\tSQL</td>\n",
       "    </tr>\n",
       "    <tr>\n",
       "      <th>13</th>\n",
       "      <td>Middle DS, проекты по разработке симуляционных...</td>\n",
       "      <td>Hello, Python\\tМатематическая статистика\\tSQL\\...</td>\n",
       "    </tr>\n",
       "    <tr>\n",
       "      <th>14</th>\n",
       "      <td>Middle DS специалист (разработка симуляционных...</td>\n",
       "      <td>Hello, Python\\tМатематическая статистика\\tSQL\\...</td>\n",
       "    </tr>\n",
       "  </tbody>\n",
       "</table>\n",
       "</div>"
      ],
      "text/plain": [
       "                                                 name  \\\n",
       "0                           Ведущий программист DS/DE   \n",
       "1                           Ведущий программист DS/DE   \n",
       "2                           Ведущий программист DS/DE   \n",
       "3                           Ведущий программист DS/DE   \n",
       "4             Product/Web Analyst, Greeting Cards App   \n",
       "5             Product/Web Analyst, Greeting Cards App   \n",
       "6                                     ML/DS Team Lead   \n",
       "7                       Специалист Tableau Dashboards   \n",
       "8   Старший разработчик Go, Команда платёжного фас...   \n",
       "9   Старший разработчик Go, Команда платёжного фас...   \n",
       "10  Старший разработчик Go, Команда платёжного фас...   \n",
       "11  Старший разработчик Go, Команда платёжного фас...   \n",
       "12         Старший инженер данных TDS / Data engineer   \n",
       "13  Middle DS, проекты по разработке симуляционных...   \n",
       "14  Middle DS специалист (разработка симуляционных...   \n",
       "\n",
       "                                               format  \n",
       "0            Hello, Python\\tSQL\\tGit\\tBig Data\\tSpark  \n",
       "1            Hello, Python\\tSQL\\tGit\\tBig Data\\tSpark  \n",
       "2            Hello, Python\\tSQL\\tGit\\tBig Data\\tSpark  \n",
       "3            Hello, Python\\tSQL\\tGit\\tBig Data\\tSpark  \n",
       "4   Hello, Английский язык\\tAnalytical skills\\tBus...  \n",
       "5   Hello, Английский язык\\tAnalytical skills\\tBus...  \n",
       "6   Hello, PyTorch\\tPython\\tSQL\\tУправление проект...  \n",
       "7   Hello, SQL\\tTableau\\tАналитическое мышление\\tD...  \n",
       "8   Hello, SQL\\tGolang\\tIT\\tФинансы\\tАлгоритмы и с...  \n",
       "9   Hello, SQL\\tGolang\\tIT\\tФинансы\\tАлгоритмы и с...  \n",
       "10  Hello, SQL\\tGolang\\tIT\\tФинансы\\tАлгоритмы и с...  \n",
       "11  Hello, SQL\\tGolang\\tIT\\tФинансы\\tАлгоритмы и с...  \n",
       "12       Hello, Hadoop\\tHive\\tPython\\tPostgreSQL\\tSQL  \n",
       "13  Hello, Python\\tМатематическая статистика\\tSQL\\...  \n",
       "14  Hello, Python\\tМатематическая статистика\\tSQL\\...  "
      ]
     },
     "execution_count": 65,
     "metadata": {},
     "output_type": "execute_result"
    }
   ],
   "source": [
    "df = pd.read_sql_query(query, connection)\n",
    "df"
   ]
  },
  {
   "cell_type": "code",
   "execution_count": null,
   "id": "f629090a-4dc5-49f7-80ee-66107cd86e50",
   "metadata": {},
   "outputs": [],
   "source": []
  }
 ],
 "metadata": {
  "kernelspec": {
   "display_name": "Python 3 (ipykernel)",
   "language": "python",
   "name": "python3"
  },
  "language_info": {
   "codemirror_mode": {
    "name": "ipython",
    "version": 3
   },
   "file_extension": ".py",
   "mimetype": "text/x-python",
   "name": "python",
   "nbconvert_exporter": "python",
   "pygments_lexer": "ipython3",
   "version": "3.12.6"
  }
 },
 "nbformat": 4,
 "nbformat_minor": 5
}
