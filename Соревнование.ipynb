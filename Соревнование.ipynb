{
 "cells": [
  {
   "cell_type": "code",
   "execution_count": null,
   "id": "1e5cae3e-c63d-4f69-8e46-f50bf4e4c929",
   "metadata": {},
   "outputs": [],
   "source": [
    "Соревнование\n",
    "\n",
    "1.Описание набора данных\n",
    "Файлы для соревнований\n",
    " *Hotels_train.csv — набор данных для обучения\n",
    " *Hotels_test.csv — набор данных для оценки качества\n",
    " *submit.csv — файл в нужном формате\n",
    "\n",
    "2.Признаки\n",
    " 1.hotel_address- адрес отеля\n",
    " 2.review_date- дата, когда был выдан соответствующий отзыв.\n",
    " 3.average_score- средний балл отеля, рассчитанный на основе последних комментариев за прошлый год\n",
    " 4.hotel_name- название отеля\n",
    " 5.reviewer_nationality- национальность рецензента\n",
    " 6.negative_review- отрицательный отзыв, который дал отелю рецензент.\n",
    " 7.review_total_negative_word_counts- общее количество слов в отрицательном отзыве\n",
    " 8.positive_review- положительный отзыв, который дал отелю признательность\n",
    " 9.review_total_positive_word_counts- общее количество слов в положительном отзыве\n",
    " 10.reviewer_score- оценка, которую рецензент поставил отелю на основе своего опыта\n",
    " 11.total_number_of_reviews_reviewer_has_given- количество отзывов, которые были оставлены в прошлом\n",
    " 12.total_number_of_reviews- общее количество реальных отзывов об отелях\n",
    " 13.tags- теги, которые наградил дал отелю.\n",
    " 14.days_since_review- продолжительность между датой проверки и датой очистки\n",
    " 15.additional_number_of_scoring- есть также некоторые гости, которые просто поставили оценку сервису, что не оставило отзыв. Это число указывает, сколько существует оценок без проверок.\n",
    " 16.lat- широта отеля\n",
    " 17.lng- долгота отеля"
   ]
  },
  {
   "cell_type": "code",
   "execution_count": null,
   "id": "a6f971b4-2690-4a54-98e2-93fda8c5da43",
   "metadata": {},
   "outputs": [],
   "source": [
    "✍ В нашем курсе и во всей специализации в дальнейшем мы будем использовать площадку Kaggle для проведения соревнований по машинному обучению. Да-да, мы помним, что вы ещё не начали изучение машинного обучения. Но ведь код для создания модели у вас уже есть? Значит, вы вполне можете представить свою первую модель на конкурс.\n",
    "Итак, давайте рассмотрим последовательность действий, которые вам предстоит совершить:\n",
    "1. Перейдите по этой ссылке для доступа к закрытому соревнованию на Kaggle, ознакомьтесь с правилами и примите их (вкладка Rules). https://www.kaggle.com/competitions/sf-booking\n",
    "2. Используйте базовое решение в качестве основы, попробуйте улучшить его результат. Для этого сделайте сабмит своего решения и ищите себя в лидерборде.\n",
    "3. Одержите победу в соревновании!\n",
    "Как победить в соревновании?\n",
    "При выполнении этого проекта у каждого должен получиться свой уникальный набор данных, содержащий уникальный набор признаков. Иными словами, мы не стремимся привести всех к единому результату и одинаковому «единственно правильному» набору признаков.\n",
    "У вас в руках есть немало полезных инструментов и ценных знаний. Настало время экспериментов. Попробуйте «поиграть» с имеющимися в вашем распоряжении данными:\n",
    "* добавляйте и удаляйте столбцы с признаками;\n",
    "* попробуйте использовать разные способы представления информации об одном и том же признаке;\n",
    "* используйте дополнительные источники информации о расположении отелей, чтобы лучше охарактеризовать среду, в которой находится отель;\n",
    "* используйте различные преобразования признаков;\n",
    "* разберите дату на несколько новых признаков;\n",
    "* используйте отбор мультиколлинеарных признаков;\n",
    "* пробуйте извлекать полезные данные из строковых признаков: в текстах отзывов, адресах или тегах отеля может скрываться важная информация;\n",
    "* используйте кодирование признаков как оцифровку некоторых строковых значений.\n",
    "Помните, ваша главная задача — добиться максимальной точности модели, которая предсказывает рейтинг отеля. \n",
    "После завершения экспериментов предоставьте свой код для проверки и обратной связи.\n",
    "Используйте предложенные рекомендации для улучшения модели. Обучите модель, сделайте сабмит результата. Подумайте, как ещё можно изменить или дополнить признаки, чтобы улучшить модель, сохраните и сделайте сабмит нового решения. Если позволяет время, вы можете создать сколько угодно вариантов решения и выбрать лучшие из них, которые пойдут в лидерборд, но мы рекомендуем сделать минимум три варианта.\n",
    "*\"сабмит\" может означать подачу, представление, отправку чего-либо. Например, \"сабмитнуть документы\" означает подать документы на рассмотрени* \n",
    "В следующем юните вы отправите свой проект на проверку ментору.\n",
    "Удачи!"
   ]
  },
  {
   "cell_type": "code",
   "execution_count": 1,
   "id": "908b8f03-94de-4b8d-997e-d36c98f3dba8",
   "metadata": {},
   "outputs": [],
   "source": [
    "from sklearn.feature_selection import chi2\n",
    "import pandas as pd\n",
    "import matplotlib.pyplot as plt\n",
    "import seaborn as sns\n",
    "from matplotlib import pyplot as plt"
   ]
  },
  {
   "cell_type": "code",
   "execution_count": null,
   "id": "638f8139-5a7c-4a18-9e55-222154e20179",
   "metadata": {
    "scrolled": true
   },
   "outputs": [],
   "source": [
    "kaggle competitions download -c sf-booking"
   ]
  },
  {
   "cell_type": "code",
   "execution_count": 3,
   "id": "0360ed75-33fc-4d48-9c29-272e99de295f",
   "metadata": {
    "collapsed": true,
    "jupyter": {
     "outputs_hidden": true
    }
   },
   "outputs": [
    {
     "data": {
      "text/html": [
       "<div>\n",
       "<style scoped>\n",
       "    .dataframe tbody tr th:only-of-type {\n",
       "        vertical-align: middle;\n",
       "    }\n",
       "\n",
       "    .dataframe tbody tr th {\n",
       "        vertical-align: top;\n",
       "    }\n",
       "\n",
       "    .dataframe thead th {\n",
       "        text-align: right;\n",
       "    }\n",
       "</style>\n",
       "<table border=\"1\" class=\"dataframe\">\n",
       "  <thead>\n",
       "    <tr style=\"text-align: right;\">\n",
       "      <th></th>\n",
       "      <th>hotel_address</th>\n",
       "      <th>additional_number_of_scoring</th>\n",
       "      <th>review_date</th>\n",
       "      <th>average_score</th>\n",
       "      <th>hotel_name</th>\n",
       "      <th>reviewer_nationality</th>\n",
       "      <th>negative_review</th>\n",
       "      <th>review_total_negative_word_counts</th>\n",
       "      <th>total_number_of_reviews</th>\n",
       "      <th>positive_review</th>\n",
       "      <th>review_total_positive_word_counts</th>\n",
       "      <th>total_number_of_reviews_reviewer_has_given</th>\n",
       "      <th>tags</th>\n",
       "      <th>days_since_review</th>\n",
       "      <th>lat</th>\n",
       "      <th>lng</th>\n",
       "    </tr>\n",
       "  </thead>\n",
       "  <tbody>\n",
       "    <tr>\n",
       "      <th>0</th>\n",
       "      <td>Via Senigallia 6 20161 Milan Italy</td>\n",
       "      <td>904</td>\n",
       "      <td>7/21/2017</td>\n",
       "      <td>8.1</td>\n",
       "      <td>Hotel Da Vinci</td>\n",
       "      <td>United Kingdom</td>\n",
       "      <td>Would have appreciated a shop in the hotel th...</td>\n",
       "      <td>52</td>\n",
       "      <td>16670</td>\n",
       "      <td>Hotel was great clean friendly staff free bre...</td>\n",
       "      <td>62</td>\n",
       "      <td>1</td>\n",
       "      <td>[' Leisure trip ', ' Couple ', ' Double Room '...</td>\n",
       "      <td>13 days</td>\n",
       "      <td>45.533137</td>\n",
       "      <td>9.171102</td>\n",
       "    </tr>\n",
       "    <tr>\n",
       "      <th>1</th>\n",
       "      <td>Arlandaweg 10 Westpoort 1043 EW Amsterdam Neth...</td>\n",
       "      <td>612</td>\n",
       "      <td>12/12/2016</td>\n",
       "      <td>8.6</td>\n",
       "      <td>Urban Lodge Hotel</td>\n",
       "      <td>Belgium</td>\n",
       "      <td>No tissue paper box was present at the room</td>\n",
       "      <td>10</td>\n",
       "      <td>5018</td>\n",
       "      <td>No Positive</td>\n",
       "      <td>0</td>\n",
       "      <td>7</td>\n",
       "      <td>[' Leisure trip ', ' Group ', ' Triple Room ',...</td>\n",
       "      <td>234 day</td>\n",
       "      <td>52.385649</td>\n",
       "      <td>4.834443</td>\n",
       "    </tr>\n",
       "  </tbody>\n",
       "</table>\n",
       "</div>"
      ],
      "text/plain": [
       "                                       hotel_address  \\\n",
       "0                 Via Senigallia 6 20161 Milan Italy   \n",
       "1  Arlandaweg 10 Westpoort 1043 EW Amsterdam Neth...   \n",
       "\n",
       "   additional_number_of_scoring review_date  average_score         hotel_name  \\\n",
       "0                           904   7/21/2017            8.1     Hotel Da Vinci   \n",
       "1                           612  12/12/2016            8.6  Urban Lodge Hotel   \n",
       "\n",
       "  reviewer_nationality                                    negative_review  \\\n",
       "0      United Kingdom    Would have appreciated a shop in the hotel th...   \n",
       "1             Belgium         No tissue paper box was present at the room   \n",
       "\n",
       "   review_total_negative_word_counts  total_number_of_reviews  \\\n",
       "0                                 52                    16670   \n",
       "1                                 10                     5018   \n",
       "\n",
       "                                     positive_review  \\\n",
       "0   Hotel was great clean friendly staff free bre...   \n",
       "1                                        No Positive   \n",
       "\n",
       "   review_total_positive_word_counts  \\\n",
       "0                                 62   \n",
       "1                                  0   \n",
       "\n",
       "   total_number_of_reviews_reviewer_has_given  \\\n",
       "0                                           1   \n",
       "1                                           7   \n",
       "\n",
       "                                                tags days_since_review  \\\n",
       "0  [' Leisure trip ', ' Couple ', ' Double Room '...           13 days   \n",
       "1  [' Leisure trip ', ' Group ', ' Triple Room ',...           234 day   \n",
       "\n",
       "         lat       lng  \n",
       "0  45.533137  9.171102  \n",
       "1  52.385649  4.834443  "
      ]
     },
     "execution_count": 3,
     "metadata": {},
     "output_type": "execute_result"
    }
   ],
   "source": [
    "df_tt = pd.read_csv('hotels_test1.csv')\n",
    "df_tt.head(2)"
   ]
  },
  {
   "cell_type": "code",
   "execution_count": 7,
   "id": "2a7a5501-6119-401e-9887-8bd9d5052075",
   "metadata": {
    "scrolled": true
   },
   "outputs": [
    {
     "name": "stdout",
     "output_type": "stream",
     "text": [
      "<class 'pandas.core.frame.DataFrame'>\n",
      "RangeIndex: 128935 entries, 0 to 128934\n",
      "Data columns (total 16 columns):\n",
      " #   Column                                      Non-Null Count   Dtype  \n",
      "---  ------                                      --------------   -----  \n",
      " 0   hotel_address                               128935 non-null  object \n",
      " 1   additional_number_of_scoring                128935 non-null  int64  \n",
      " 2   review_date                                 128935 non-null  object \n",
      " 3   average_score                               128935 non-null  float64\n",
      " 4   hotel_name                                  128935 non-null  object \n",
      " 5   reviewer_nationality                        128935 non-null  object \n",
      " 6   negative_review                             128935 non-null  object \n",
      " 7   review_total_negative_word_counts           128935 non-null  int64  \n",
      " 8   total_number_of_reviews                     128935 non-null  int64  \n",
      " 9   positive_review                             128935 non-null  object \n",
      " 10  review_total_positive_word_counts           128935 non-null  int64  \n",
      " 11  total_number_of_reviews_reviewer_has_given  128935 non-null  int64  \n",
      " 12  tags                                        128935 non-null  object \n",
      " 13  days_since_review                           128935 non-null  object \n",
      " 14  lat                                         128115 non-null  float64\n",
      " 15  lng                                         128115 non-null  float64\n",
      "dtypes: float64(3), int64(5), object(8)\n",
      "memory usage: 15.7+ MB\n"
     ]
    }
   ],
   "source": [
    "df_tt.info()"
   ]
  },
  {
   "cell_type": "code",
   "execution_count": 12,
   "id": "672a3183-b8be-4d86-b2ee-1bf4332a6ef3",
   "metadata": {
    "collapsed": true,
    "jupyter": {
     "outputs_hidden": true
    },
    "scrolled": true
   },
   "outputs": [
    {
     "data": {
      "text/plain": [
       "1492"
      ]
     },
     "execution_count": 12,
     "metadata": {},
     "output_type": "execute_result"
    }
   ],
   "source": [
    "num_df_tt = df_tt['hotel_name'].nunique()\n",
    "num_df_tt"
   ]
  },
  {
   "cell_type": "code",
   "execution_count": 13,
   "id": "1d279043-79a7-40b3-9a65-de69aa5e5c3d",
   "metadata": {},
   "outputs": [
    {
     "data": {
      "text/plain": [
       "1492"
      ]
     },
     "execution_count": 13,
     "metadata": {},
     "output_type": "execute_result"
    }
   ],
   "source": [
    "num_df_tn = df_tn['hotel_name'].nunique()\n",
    "num_df_tn"
   ]
  },
  {
   "cell_type": "code",
   "execution_count": 5,
   "id": "7da8da35-35b2-44cc-8ab7-471d3c4e9d46",
   "metadata": {
    "scrolled": true
   },
   "outputs": [
    {
     "data": {
      "text/html": [
       "<div>\n",
       "<style scoped>\n",
       "    .dataframe tbody tr th:only-of-type {\n",
       "        vertical-align: middle;\n",
       "    }\n",
       "\n",
       "    .dataframe tbody tr th {\n",
       "        vertical-align: top;\n",
       "    }\n",
       "\n",
       "    .dataframe thead th {\n",
       "        text-align: right;\n",
       "    }\n",
       "</style>\n",
       "<table border=\"1\" class=\"dataframe\">\n",
       "  <thead>\n",
       "    <tr style=\"text-align: right;\">\n",
       "      <th></th>\n",
       "      <th>reviewer_score</th>\n",
       "      <th>id</th>\n",
       "    </tr>\n",
       "  </thead>\n",
       "  <tbody>\n",
       "    <tr>\n",
       "      <th>0</th>\n",
       "      <td>1</td>\n",
       "      <td>488440</td>\n",
       "    </tr>\n",
       "    <tr>\n",
       "      <th>1</th>\n",
       "      <td>10</td>\n",
       "      <td>274649</td>\n",
       "    </tr>\n",
       "  </tbody>\n",
       "</table>\n",
       "</div>"
      ],
      "text/plain": [
       "   reviewer_score      id\n",
       "0               1  488440\n",
       "1              10  274649"
      ]
     },
     "execution_count": 5,
     "metadata": {},
     "output_type": "execute_result"
    }
   ],
   "source": [
    "df_sn = pd.read_csv('submission1.csv')\n",
    "df_sn.head(2)"
   ]
  },
  {
   "cell_type": "code",
   "execution_count": 9,
   "id": "e7962b5b-ad12-4902-ae03-d33557d95bc5",
   "metadata": {
    "collapsed": true,
    "jupyter": {
     "outputs_hidden": true
    },
    "scrolled": true
   },
   "outputs": [
    {
     "name": "stdout",
     "output_type": "stream",
     "text": [
      "<class 'pandas.core.frame.DataFrame'>\n",
      "RangeIndex: 128935 entries, 0 to 128934\n",
      "Data columns (total 2 columns):\n",
      " #   Column          Non-Null Count   Dtype\n",
      "---  ------          --------------   -----\n",
      " 0   reviewer_score  128935 non-null  int64\n",
      " 1   id              128935 non-null  int64\n",
      "dtypes: int64(2)\n",
      "memory usage: 2.0 MB\n"
     ]
    }
   ],
   "source": [
    "df_sn.info()"
   ]
  },
  {
   "cell_type": "markdown",
   "id": "0e55bf3e-7207-4f0f-873c-91135630d678",
   "metadata": {},
   "source": [
    "Описание набора данных для соревнования обычно включает объяснение содержимого и назначения каждого файла, а также что ожидается от участников в итоговом файле для отправки. Вот пояснение по вашим файлам:\n",
    "\n",
    " * Hotels_train.csv — это тренировочный набор данных, который используется для обучения модели. В этом файле, как правило, содержатся данные с известными целевыми значениями (например, рейтингами, бронированиями, ценами и т.п.), на основе которых модель учится делать предсказания.\n",
    "\n",
    " * Hotels_test.csv — это тестовый набор данных, предназначенный для оценки качества модели. В этом файле данные представлены без целевых значений (labels). Задача участников — использовать обученную модель, чтобы сделать предсказания для этих данных.\n",
    "\n",
    " * submit.csv — это файл, который участник создает для подачи результатов своего решения. Он должен содержать прогнозы модели для данных из Hotels_test.csv в требуемом формате. Обычно это таблица с идентификаторами объектов (например, номерами отелей или заявок) и соответствующими предсказанными значениями, чтобы организаторы могли оценить качество модели.\n",
    "\n",
    "Таким образом, процесс работы с набором данных выглядит так: сначала вы обучаете модель на данных из Hotels_train.csv, затем делаете предсказания на Hotels_test.csv и сохраняете результаты в submit.csv в соответствии с форматом, который требует соревнование. Именно submit.csv вы отправляете на проверку для оценки качества решения."
   ]
  },
  {
   "cell_type": "code",
   "execution_count": null,
   "id": "832ad7cf-5019-4f44-810b-fd6695efa80c",
   "metadata": {},
   "outputs": [],
   "source": []
  },
  {
   "cell_type": "code",
   "execution_count": null,
   "id": "96e9900f-9e10-4fc2-9e76-a696724ae1be",
   "metadata": {},
   "outputs": [],
   "source": []
  },
  {
   "cell_type": "code",
   "execution_count": null,
   "id": "b3844ee1-c000-42b6-8aa5-3c6cda8796c1",
   "metadata": {},
   "outputs": [],
   "source": []
  },
  {
   "cell_type": "code",
   "execution_count": 21,
   "id": "fdc93104-ae0a-4df1-a58b-98cf42b36a8d",
   "metadata": {
    "collapsed": true,
    "jupyter": {
     "outputs_hidden": true
    },
    "scrolled": true
   },
   "outputs": [
    {
     "data": {
      "text/html": [
       "<div>\n",
       "<style scoped>\n",
       "    .dataframe tbody tr th:only-of-type {\n",
       "        vertical-align: middle;\n",
       "    }\n",
       "\n",
       "    .dataframe tbody tr th {\n",
       "        vertical-align: top;\n",
       "    }\n",
       "\n",
       "    .dataframe thead th {\n",
       "        text-align: right;\n",
       "    }\n",
       "</style>\n",
       "<table border=\"1\" class=\"dataframe\">\n",
       "  <thead>\n",
       "    <tr style=\"text-align: right;\">\n",
       "      <th></th>\n",
       "      <th>hotel_address</th>\n",
       "      <th>additional_number_of_scoring</th>\n",
       "      <th>review_date</th>\n",
       "      <th>average_score</th>\n",
       "      <th>hotel_name</th>\n",
       "      <th>reviewer_nationality</th>\n",
       "      <th>negative_review</th>\n",
       "      <th>review_total_negative_word_counts</th>\n",
       "      <th>total_number_of_reviews</th>\n",
       "      <th>positive_review</th>\n",
       "      <th>review_total_positive_word_counts</th>\n",
       "      <th>total_number_of_reviews_reviewer_has_given</th>\n",
       "      <th>reviewer_score</th>\n",
       "      <th>tags</th>\n",
       "      <th>days_since_review</th>\n",
       "      <th>lat</th>\n",
       "      <th>lng</th>\n",
       "    </tr>\n",
       "  </thead>\n",
       "  <tbody>\n",
       "    <tr>\n",
       "      <th>0</th>\n",
       "      <td>Stratton Street Mayfair Westminster Borough Lo...</td>\n",
       "      <td>581</td>\n",
       "      <td>2/19/2016</td>\n",
       "      <td>8.4</td>\n",
       "      <td>The May Fair Hotel</td>\n",
       "      <td>United Kingdom</td>\n",
       "      <td>Leaving</td>\n",
       "      <td>3</td>\n",
       "      <td>1994</td>\n",
       "      <td>Staff were amazing</td>\n",
       "      <td>4</td>\n",
       "      <td>7</td>\n",
       "      <td>10.0</td>\n",
       "      <td>[' Leisure trip ', ' Couple ', ' Studio Suite ...</td>\n",
       "      <td>531 day</td>\n",
       "      <td>51.507894</td>\n",
       "      <td>-0.143671</td>\n",
       "    </tr>\n",
       "    <tr>\n",
       "      <th>1</th>\n",
       "      <td>130 134 Southampton Row Camden London WC1B 5AF...</td>\n",
       "      <td>299</td>\n",
       "      <td>1/12/2017</td>\n",
       "      <td>8.3</td>\n",
       "      <td>Mercure London Bloomsbury Hotel</td>\n",
       "      <td>United Kingdom</td>\n",
       "      <td>poor breakfast</td>\n",
       "      <td>3</td>\n",
       "      <td>1361</td>\n",
       "      <td>location</td>\n",
       "      <td>2</td>\n",
       "      <td>14</td>\n",
       "      <td>6.3</td>\n",
       "      <td>[' Business trip ', ' Couple ', ' Standard Dou...</td>\n",
       "      <td>203 day</td>\n",
       "      <td>51.521009</td>\n",
       "      <td>-0.123097</td>\n",
       "    </tr>\n",
       "  </tbody>\n",
       "</table>\n",
       "</div>"
      ],
      "text/plain": [
       "                                       hotel_address  \\\n",
       "0  Stratton Street Mayfair Westminster Borough Lo...   \n",
       "1  130 134 Southampton Row Camden London WC1B 5AF...   \n",
       "\n",
       "   additional_number_of_scoring review_date  average_score  \\\n",
       "0                           581   2/19/2016            8.4   \n",
       "1                           299   1/12/2017            8.3   \n",
       "\n",
       "                        hotel_name reviewer_nationality  negative_review  \\\n",
       "0               The May Fair Hotel      United Kingdom          Leaving    \n",
       "1  Mercure London Bloomsbury Hotel      United Kingdom    poor breakfast   \n",
       "\n",
       "   review_total_negative_word_counts  total_number_of_reviews  \\\n",
       "0                                  3                     1994   \n",
       "1                                  3                     1361   \n",
       "\n",
       "       positive_review  review_total_positive_word_counts  \\\n",
       "0   Staff were amazing                                  4   \n",
       "1             location                                  2   \n",
       "\n",
       "   total_number_of_reviews_reviewer_has_given  reviewer_score  \\\n",
       "0                                           7            10.0   \n",
       "1                                          14             6.3   \n",
       "\n",
       "                                                tags days_since_review  \\\n",
       "0  [' Leisure trip ', ' Couple ', ' Studio Suite ...           531 day   \n",
       "1  [' Business trip ', ' Couple ', ' Standard Dou...           203 day   \n",
       "\n",
       "         lat       lng  \n",
       "0  51.507894 -0.143671  \n",
       "1  51.521009 -0.123097  "
      ]
     },
     "execution_count": 21,
     "metadata": {},
     "output_type": "execute_result"
    }
   ],
   "source": [
    "df_tn = pd.read_csv('hotels_train1.csv')\n",
    "df_tn.head(2)"
   ]
  },
  {
   "cell_type": "code",
   "execution_count": 22,
   "id": "17f44652-82ad-4424-ad5d-775dc3d64c98",
   "metadata": {
    "collapsed": true,
    "jupyter": {
     "outputs_hidden": true
    },
    "scrolled": true
   },
   "outputs": [
    {
     "name": "stdout",
     "output_type": "stream",
     "text": [
      "<class 'pandas.core.frame.DataFrame'>\n",
      "RangeIndex: 386803 entries, 0 to 386802\n",
      "Data columns (total 17 columns):\n",
      " #   Column                                      Non-Null Count   Dtype  \n",
      "---  ------                                      --------------   -----  \n",
      " 0   hotel_address                               386803 non-null  object \n",
      " 1   additional_number_of_scoring                386803 non-null  int64  \n",
      " 2   review_date                                 386803 non-null  object \n",
      " 3   average_score                               386803 non-null  float64\n",
      " 4   hotel_name                                  386803 non-null  object \n",
      " 5   reviewer_nationality                        386803 non-null  object \n",
      " 6   negative_review                             386803 non-null  object \n",
      " 7   review_total_negative_word_counts           386803 non-null  int64  \n",
      " 8   total_number_of_reviews                     386803 non-null  int64  \n",
      " 9   positive_review                             386803 non-null  object \n",
      " 10  review_total_positive_word_counts           386803 non-null  int64  \n",
      " 11  total_number_of_reviews_reviewer_has_given  386803 non-null  int64  \n",
      " 12  reviewer_score                              386803 non-null  float64\n",
      " 13  tags                                        386803 non-null  object \n",
      " 14  days_since_review                           386803 non-null  object \n",
      " 15  lat                                         384355 non-null  float64\n",
      " 16  lng                                         384355 non-null  float64\n",
      "dtypes: float64(4), int64(5), object(8)\n",
      "memory usage: 50.2+ MB\n"
     ]
    }
   ],
   "source": [
    "df_tn.info()"
   ]
  },
  {
   "cell_type": "code",
   "execution_count": 23,
   "id": "c72d3aa4-9dc4-4a2a-87db-64db8ba884b2",
   "metadata": {
    "scrolled": true
   },
   "outputs": [],
   "source": [
    "df_tn['review_date'] = pd.to_datetime(df_tn['review_date'], errors='coerce') # Преобразовать столбец с датами в формат datetime, если это ещё не сделано"
   ]
  },
  {
   "cell_type": "code",
   "execution_count": 24,
   "id": "c74f1543-ec9e-46f3-8343-e1dad4a3d9f5",
   "metadata": {
    "scrolled": true
   },
   "outputs": [
    {
     "name": "stdout",
     "output_type": "stream",
     "text": [
      "<class 'pandas.core.frame.DataFrame'>\n",
      "RangeIndex: 386803 entries, 0 to 386802\n",
      "Data columns (total 17 columns):\n",
      " #   Column                                      Non-Null Count   Dtype         \n",
      "---  ------                                      --------------   -----         \n",
      " 0   hotel_address                               386803 non-null  object        \n",
      " 1   additional_number_of_scoring                386803 non-null  int64         \n",
      " 2   review_date                                 386803 non-null  datetime64[ns]\n",
      " 3   average_score                               386803 non-null  float64       \n",
      " 4   hotel_name                                  386803 non-null  object        \n",
      " 5   reviewer_nationality                        386803 non-null  object        \n",
      " 6   negative_review                             386803 non-null  object        \n",
      " 7   review_total_negative_word_counts           386803 non-null  int64         \n",
      " 8   total_number_of_reviews                     386803 non-null  int64         \n",
      " 9   positive_review                             386803 non-null  object        \n",
      " 10  review_total_positive_word_counts           386803 non-null  int64         \n",
      " 11  total_number_of_reviews_reviewer_has_given  386803 non-null  int64         \n",
      " 12  reviewer_score                              386803 non-null  float64       \n",
      " 13  tags                                        386803 non-null  object        \n",
      " 14  days_since_review                           386803 non-null  object        \n",
      " 15  lat                                         384355 non-null  float64       \n",
      " 16  lng                                         384355 non-null  float64       \n",
      "dtypes: datetime64[ns](1), float64(4), int64(5), object(7)\n",
      "memory usage: 50.2+ MB\n"
     ]
    }
   ],
   "source": [
    "df_tn.info()"
   ]
  },
  {
   "cell_type": "code",
   "execution_count": 25,
   "id": "7058928b-dfb5-4f2b-a75b-2b40286fa28f",
   "metadata": {
    "colab": {
     "base_uri": "https://localhost:8080/"
    },
    "id": "As_X7I6jl7Za",
    "jp-MarkdownHeadingCollapsed": true,
    "outputId": "3d3795b3-ab7c-4cc6-ab3d-23a4796a7b5c",
    "scrolled": true
   },
   "outputs": [
    {
     "name": "stdout",
     "output_type": "stream",
     "text": [
      "Количество дубликатов: 307\n",
      "Размер таблицы после удаления дубликатов: (386496, 17)\n"
     ]
    }
   ],
   "source": [
    "# Проверим данные на наличие полных дубликатов:\n",
    "print('Количество дубликатов: {}'.format(df_tn[df_tn.duplicated()].shape[0]))\n",
    "# Удаляем дубликаты:\n",
    "df_tn = df_tn.drop_duplicates()\n",
    "print('Размер таблицы после удаления дубликатов: {}'.format(df_tn.shape))"
   ]
  },
  {
   "cell_type": "code",
   "execution_count": 26,
   "id": "6d0aae7f-9b8d-4a1d-9306-7b1767f3100f",
   "metadata": {
    "scrolled": true
   },
   "outputs": [
    {
     "data": {
      "text/html": [
       "<div>\n",
       "<style scoped>\n",
       "    .dataframe tbody tr th:only-of-type {\n",
       "        vertical-align: middle;\n",
       "    }\n",
       "\n",
       "    .dataframe tbody tr th {\n",
       "        vertical-align: top;\n",
       "    }\n",
       "\n",
       "    .dataframe thead th {\n",
       "        text-align: right;\n",
       "    }\n",
       "</style>\n",
       "<table border=\"1\" class=\"dataframe\">\n",
       "  <thead>\n",
       "    <tr style=\"text-align: right;\">\n",
       "      <th></th>\n",
       "      <th>additional_number_of_scoring</th>\n",
       "      <th>review_date</th>\n",
       "      <th>average_score</th>\n",
       "      <th>review_total_negative_word_counts</th>\n",
       "      <th>total_number_of_reviews</th>\n",
       "      <th>review_total_positive_word_counts</th>\n",
       "      <th>total_number_of_reviews_reviewer_has_given</th>\n",
       "      <th>reviewer_score</th>\n",
       "      <th>lat</th>\n",
       "      <th>lng</th>\n",
       "    </tr>\n",
       "  </thead>\n",
       "  <tbody>\n",
       "    <tr>\n",
       "      <th>0</th>\n",
       "      <td>581</td>\n",
       "      <td>2016-02-19</td>\n",
       "      <td>8.4</td>\n",
       "      <td>3</td>\n",
       "      <td>1994</td>\n",
       "      <td>4</td>\n",
       "      <td>7</td>\n",
       "      <td>10.0</td>\n",
       "      <td>51.507894</td>\n",
       "      <td>-0.143671</td>\n",
       "    </tr>\n",
       "    <tr>\n",
       "      <th>1</th>\n",
       "      <td>299</td>\n",
       "      <td>2017-01-12</td>\n",
       "      <td>8.3</td>\n",
       "      <td>3</td>\n",
       "      <td>1361</td>\n",
       "      <td>2</td>\n",
       "      <td>14</td>\n",
       "      <td>6.3</td>\n",
       "      <td>51.521009</td>\n",
       "      <td>-0.123097</td>\n",
       "    </tr>\n",
       "  </tbody>\n",
       "</table>\n",
       "</div>"
      ],
      "text/plain": [
       "   additional_number_of_scoring review_date  average_score  \\\n",
       "0                           581  2016-02-19            8.4   \n",
       "1                           299  2017-01-12            8.3   \n",
       "\n",
       "   review_total_negative_word_counts  total_number_of_reviews  \\\n",
       "0                                  3                     1994   \n",
       "1                                  3                     1361   \n",
       "\n",
       "   review_total_positive_word_counts  \\\n",
       "0                                  4   \n",
       "1                                  2   \n",
       "\n",
       "   total_number_of_reviews_reviewer_has_given  reviewer_score        lat  \\\n",
       "0                                           7            10.0  51.507894   \n",
       "1                                          14             6.3  51.521009   \n",
       "\n",
       "        lng  \n",
       "0 -0.143671  \n",
       "1 -0.123097  "
      ]
     },
     "execution_count": 26,
     "metadata": {},
     "output_type": "execute_result"
    }
   ],
   "source": [
    "df_tn = df_tn.drop(['hotel_address', 'hotel_name', 'reviewer_nationality', 'negative_review', \n",
    "               'positive_review', 'tags', 'days_since_review'], axis = 1)\n",
    "df_tn.head(2)"
   ]
  },
  {
   "cell_type": "code",
   "execution_count": 30,
   "id": "0eb8a9b4-2498-4b42-9381-2659ebacc052",
   "metadata": {
    "scrolled": true
   },
   "outputs": [
    {
     "data": {
      "text/html": [
       "<div>\n",
       "<style scoped>\n",
       "    .dataframe tbody tr th:only-of-type {\n",
       "        vertical-align: middle;\n",
       "    }\n",
       "\n",
       "    .dataframe tbody tr th {\n",
       "        vertical-align: top;\n",
       "    }\n",
       "\n",
       "    .dataframe thead th {\n",
       "        text-align: right;\n",
       "    }\n",
       "</style>\n",
       "<table border=\"1\" class=\"dataframe\">\n",
       "  <thead>\n",
       "    <tr style=\"text-align: right;\">\n",
       "      <th></th>\n",
       "      <th>additional_number_of_scoring</th>\n",
       "      <th>average_score</th>\n",
       "      <th>review_total_negative_word_counts</th>\n",
       "      <th>total_number_of_reviews</th>\n",
       "      <th>review_total_positive_word_counts</th>\n",
       "      <th>total_number_of_reviews_reviewer_has_given</th>\n",
       "      <th>reviewer_score</th>\n",
       "      <th>lat</th>\n",
       "      <th>lng</th>\n",
       "    </tr>\n",
       "  </thead>\n",
       "  <tbody>\n",
       "    <tr>\n",
       "      <th>0</th>\n",
       "      <td>581</td>\n",
       "      <td>8.4</td>\n",
       "      <td>3</td>\n",
       "      <td>1994</td>\n",
       "      <td>4</td>\n",
       "      <td>7</td>\n",
       "      <td>10.0</td>\n",
       "      <td>51.507894</td>\n",
       "      <td>-0.143671</td>\n",
       "    </tr>\n",
       "    <tr>\n",
       "      <th>1</th>\n",
       "      <td>299</td>\n",
       "      <td>8.3</td>\n",
       "      <td>3</td>\n",
       "      <td>1361</td>\n",
       "      <td>2</td>\n",
       "      <td>14</td>\n",
       "      <td>6.3</td>\n",
       "      <td>51.521009</td>\n",
       "      <td>-0.123097</td>\n",
       "    </tr>\n",
       "  </tbody>\n",
       "</table>\n",
       "</div>"
      ],
      "text/plain": [
       "   additional_number_of_scoring  average_score  \\\n",
       "0                           581            8.4   \n",
       "1                           299            8.3   \n",
       "\n",
       "   review_total_negative_word_counts  total_number_of_reviews  \\\n",
       "0                                  3                     1994   \n",
       "1                                  3                     1361   \n",
       "\n",
       "   review_total_positive_word_counts  \\\n",
       "0                                  4   \n",
       "1                                  2   \n",
       "\n",
       "   total_number_of_reviews_reviewer_has_given  reviewer_score        lat  \\\n",
       "0                                           7            10.0  51.507894   \n",
       "1                                          14             6.3  51.521009   \n",
       "\n",
       "        lng  \n",
       "0 -0.143671  \n",
       "1 -0.123097  "
      ]
     },
     "execution_count": 30,
     "metadata": {},
     "output_type": "execute_result"
    }
   ],
   "source": [
    "df_tn = df_tn.drop(['review_date'], axis = 1)\n",
    "df_tn.head(2)"
   ]
  },
  {
   "cell_type": "code",
   "execution_count": 31,
   "id": "dab4cd77-9342-4bfc-b79d-dec61603ba61",
   "metadata": {},
   "outputs": [
    {
     "name": "stdout",
     "output_type": "stream",
     "text": [
      "<class 'pandas.core.frame.DataFrame'>\n",
      "Index: 386496 entries, 0 to 386802\n",
      "Data columns (total 9 columns):\n",
      " #   Column                                      Non-Null Count   Dtype  \n",
      "---  ------                                      --------------   -----  \n",
      " 0   additional_number_of_scoring                386496 non-null  int64  \n",
      " 1   average_score                               386496 non-null  float64\n",
      " 2   review_total_negative_word_counts           386496 non-null  int64  \n",
      " 3   total_number_of_reviews                     386496 non-null  int64  \n",
      " 4   review_total_positive_word_counts           386496 non-null  int64  \n",
      " 5   total_number_of_reviews_reviewer_has_given  386496 non-null  int64  \n",
      " 6   reviewer_score                              386496 non-null  float64\n",
      " 7   lat                                         384048 non-null  float64\n",
      " 8   lng                                         384048 non-null  float64\n",
      "dtypes: float64(4), int64(5)\n",
      "memory usage: 29.5 MB\n"
     ]
    }
   ],
   "source": [
    "df_tn.info()"
   ]
  },
  {
   "cell_type": "code",
   "execution_count": 32,
   "id": "0b711fa5-0518-407a-95ce-6ae1546346aa",
   "metadata": {},
   "outputs": [],
   "source": [
    "    # Разбиваем датафрейм на части, необходимые для обучения и тестирования модели  \n",
    "    # Х — данные с информацией об отелях, у — целевая переменная (рейтинги отелей)  \n",
    "    X = df_tn.drop(['reviewer_score'], axis = 1)  \n",
    "    y = df_tn['reviewer_score']  \n",
    "    y=y.astype('int') # означает, что объект y (например, столбец pandas.Series, содержащий данные) преобразуется к типу данных целое число (integer).  \n",
    "    # Загружаем специальный инструмент для разбивки:  \n",
    "    from sklearn.model_selection import train_test_split  \n",
    "      \n",
    "    # Наборы данных с меткой \"train\" будут использоваться для обучения модели, \"test\" — для тестирования.  \n",
    "    # Для тестирования мы будем использовать 25 % от исходного датасета.  \n",
    "    X_train, X_test, y_train, y_test = train_test_split(X, y, test_size=0.25, random_state=42)"
   ]
  },
  {
   "cell_type": "code",
   "execution_count": 33,
   "id": "814ceb0c-3eeb-4e9a-acd4-7c5b58b2932e",
   "metadata": {},
   "outputs": [
    {
     "data": {
      "text/plain": [
       "additional_number_of_scoring                       0\n",
       "average_score                                      0\n",
       "review_total_negative_word_counts                  0\n",
       "total_number_of_reviews                            0\n",
       "review_total_positive_word_counts                  0\n",
       "total_number_of_reviews_reviewer_has_given         0\n",
       "lat                                                0\n",
       "lng                                           192242\n",
       "dtype: int64"
      ]
     },
     "execution_count": 33,
     "metadata": {},
     "output_type": "execute_result"
    }
   ],
   "source": [
    "(X < 0).sum()"
   ]
  },
  {
   "cell_type": "code",
   "execution_count": 34,
   "id": "34585334-4e1e-4105-b40a-012c62b604bc",
   "metadata": {},
   "outputs": [],
   "source": [
    "mask = X['lng'] >= 0\n",
    "X = X.loc[mask]\n",
    "y = y.loc[mask]"
   ]
  },
  {
   "cell_type": "code",
   "execution_count": 35,
   "id": "e19a2194-a19e-4190-a302-8963437656af",
   "metadata": {},
   "outputs": [],
   "source": [
    "cat_cols = ['average_score', 'lat', 'lng']\n",
    "X_filled = X[cat_cols].fillna(0)\n",
    "X_filled = X_filled[X_filled['lng'] >= 0] # Если нужно удалить строки с отрицательными lng (только по этому столбцу):\n",
    "# X_filled = X[['average_score', 'lat', 'lng']].fillna(0)"
   ]
  },
  {
   "cell_type": "code",
   "execution_count": 36,
   "id": "e1bdc937-06f0-4f13-ad25-55a525660aa0",
   "metadata": {},
   "outputs": [
    {
     "data": {
      "text/plain": [
       "additional_number_of_scoring                  0\n",
       "average_score                                 0\n",
       "review_total_negative_word_counts             0\n",
       "total_number_of_reviews                       0\n",
       "review_total_positive_word_counts             0\n",
       "total_number_of_reviews_reviewer_has_given    0\n",
       "lat                                           0\n",
       "lng                                           0\n",
       "dtype: int64"
      ]
     },
     "execution_count": 36,
     "metadata": {},
     "output_type": "execute_result"
    }
   ],
   "source": [
    "(X < 0).sum()"
   ]
  },
  {
   "cell_type": "code",
   "execution_count": 45,
   "id": "ea5e46c7-b19a-4cf3-ad8c-042bc9be93f7",
   "metadata": {},
   "outputs": [
    {
     "name": "stdout",
     "output_type": "stream",
     "text": [
      "average_score    0\n",
      "lat              0\n",
      "lng              0\n",
      "dtype: int64\n"
     ]
    }
   ],
   "source": [
    "# 1. Проверить наличие NaN\n",
    "print(X_filled[cat_cols].isnull().sum())\n",
    "# print(pd.isnull(y).sum())"
   ]
  },
  {
   "cell_type": "code",
   "execution_count": 40,
   "id": "a57226f5-de56-43e1-ba0f-00ef08f2b0f1",
   "metadata": {},
   "outputs": [
    {
     "name": "stdout",
     "output_type": "stream",
     "text": [
      "average_score    0\n",
      "lat              0\n",
      "lng              0\n",
      "dtype: int64\n"
     ]
    }
   ],
   "source": [
    "print((X_filled[cat_cols] < 0).sum())"
   ]
  },
  {
   "cell_type": "code",
   "execution_count": 41,
   "id": "333d2266-d570-4390-8beb-4dd130cf89b8",
   "metadata": {},
   "outputs": [
    {
     "name": "stdout",
     "output_type": "stream",
     "text": [
      "<class 'pandas.core.frame.DataFrame'>\n",
      "Index: 191806 entries, 2 to 386799\n",
      "Data columns (total 8 columns):\n",
      " #   Column                                      Non-Null Count   Dtype  \n",
      "---  ------                                      --------------   -----  \n",
      " 0   additional_number_of_scoring                191806 non-null  int64  \n",
      " 1   average_score                               191806 non-null  float64\n",
      " 2   review_total_negative_word_counts           191806 non-null  int64  \n",
      " 3   total_number_of_reviews                     191806 non-null  int64  \n",
      " 4   review_total_positive_word_counts           191806 non-null  int64  \n",
      " 5   total_number_of_reviews_reviewer_has_given  191806 non-null  int64  \n",
      " 6   lat                                         191806 non-null  float64\n",
      " 7   lng                                         191806 non-null  float64\n",
      "dtypes: float64(3), int64(5)\n",
      "memory usage: 13.2 MB\n"
     ]
    }
   ],
   "source": [
    "X.info()"
   ]
  },
  {
   "cell_type": "code",
   "execution_count": 42,
   "id": "ed1bc901-1dad-49d2-b951-879aba9d3904",
   "metadata": {},
   "outputs": [
    {
     "name": "stdout",
     "output_type": "stream",
     "text": [
      "<class 'pandas.core.series.Series'>\n",
      "Index: 191806 entries, 2 to 386799\n",
      "Series name: reviewer_score\n",
      "Non-Null Count   Dtype\n",
      "--------------   -----\n",
      "191806 non-null  int32\n",
      "dtypes: int32(1)\n",
      "memory usage: 2.2 MB\n"
     ]
    }
   ],
   "source": [
    "y.info()"
   ]
  },
  {
   "cell_type": "code",
   "execution_count": 43,
   "id": "86264ea9-ad27-4f29-828b-a12a6f677adc",
   "metadata": {},
   "outputs": [],
   "source": [
    "imp_cat = pd.Series(chi2(X_filled[cat_cols], y)[0], index=cat_cols)"
   ]
  },
  {
   "cell_type": "code",
   "execution_count": 44,
   "id": "06fa1637-d498-4465-8982-51c5724d3c77",
   "metadata": {
    "scrolled": true
   },
   "outputs": [
    {
     "name": "stdout",
     "output_type": "stream",
     "text": [
      "MAPE на тестовой выборке: 16.74%\n"
     ]
    }
   ],
   "source": [
    "import numpy as np\n",
    "from sklearn.ensemble import RandomForestRegressor  # пример модели\n",
    "from sklearn.metrics import mean_absolute_percentage_error\n",
    "# Обучение модели (пример)\n",
    "model = RandomForestRegressor(random_state=42)\n",
    "model.fit(X_train, y_train)\n",
    "# Предсказания на тесте\n",
    "y_pred = model.predict(X_test)\n",
    "# Расчёт MAPE\n",
    "mape_value = mean_absolute_percentage_error(y_test, y_pred) * 100  # умножаем на 100 для %\n",
    "print(f\"MAPE на тестовой выборке: {mape_value:.2f}%\")"
   ]
  },
  {
   "cell_type": "code",
   "execution_count": 47,
   "id": "d3f1aa6c-47af-4174-9c70-75f37465a64d",
   "metadata": {},
   "outputs": [
    {
     "data": {
      "text/html": [
       "<div>\n",
       "<style scoped>\n",
       "    .dataframe tbody tr th:only-of-type {\n",
       "        vertical-align: middle;\n",
       "    }\n",
       "\n",
       "    .dataframe tbody tr th {\n",
       "        vertical-align: top;\n",
       "    }\n",
       "\n",
       "    .dataframe thead th {\n",
       "        text-align: right;\n",
       "    }\n",
       "</style>\n",
       "<table border=\"1\" class=\"dataframe\">\n",
       "  <thead>\n",
       "    <tr style=\"text-align: right;\">\n",
       "      <th></th>\n",
       "      <th>additional_number_of_scoring</th>\n",
       "      <th>average_score</th>\n",
       "      <th>review_total_negative_word_counts</th>\n",
       "      <th>total_number_of_reviews</th>\n",
       "      <th>review_total_positive_word_counts</th>\n",
       "      <th>total_number_of_reviews_reviewer_has_given</th>\n",
       "      <th>lat</th>\n",
       "      <th>lng</th>\n",
       "    </tr>\n",
       "  </thead>\n",
       "  <tbody>\n",
       "    <tr>\n",
       "      <th>116139</th>\n",
       "      <td>301</td>\n",
       "      <td>8.8</td>\n",
       "      <td>14</td>\n",
       "      <td>1071</td>\n",
       "      <td>32</td>\n",
       "      <td>8</td>\n",
       "      <td>51.468956</td>\n",
       "      <td>-0.178726</td>\n",
       "    </tr>\n",
       "    <tr>\n",
       "      <th>120556</th>\n",
       "      <td>245</td>\n",
       "      <td>7.5</td>\n",
       "      <td>61</td>\n",
       "      <td>2362</td>\n",
       "      <td>27</td>\n",
       "      <td>5</td>\n",
       "      <td>52.315453</td>\n",
       "      <td>4.996300</td>\n",
       "    </tr>\n",
       "    <tr>\n",
       "      <th>329558</th>\n",
       "      <td>542</td>\n",
       "      <td>8.2</td>\n",
       "      <td>3</td>\n",
       "      <td>2266</td>\n",
       "      <td>5</td>\n",
       "      <td>3</td>\n",
       "      <td>51.522247</td>\n",
       "      <td>-0.142613</td>\n",
       "    </tr>\n",
       "    <tr>\n",
       "      <th>211280</th>\n",
       "      <td>354</td>\n",
       "      <td>8.3</td>\n",
       "      <td>4</td>\n",
       "      <td>1871</td>\n",
       "      <td>4</td>\n",
       "      <td>8</td>\n",
       "      <td>51.529860</td>\n",
       "      <td>-0.144462</td>\n",
       "    </tr>\n",
       "    <tr>\n",
       "      <th>73822</th>\n",
       "      <td>68</td>\n",
       "      <td>8.6</td>\n",
       "      <td>68</td>\n",
       "      <td>664</td>\n",
       "      <td>12</td>\n",
       "      <td>3</td>\n",
       "      <td>48.191830</td>\n",
       "      <td>16.377088</td>\n",
       "    </tr>\n",
       "    <tr>\n",
       "      <th>...</th>\n",
       "      <td>...</td>\n",
       "      <td>...</td>\n",
       "      <td>...</td>\n",
       "      <td>...</td>\n",
       "      <td>...</td>\n",
       "      <td>...</td>\n",
       "      <td>...</td>\n",
       "      <td>...</td>\n",
       "    </tr>\n",
       "    <tr>\n",
       "      <th>259308</th>\n",
       "      <td>392</td>\n",
       "      <td>8.8</td>\n",
       "      <td>100</td>\n",
       "      <td>1803</td>\n",
       "      <td>0</td>\n",
       "      <td>1</td>\n",
       "      <td>51.529441</td>\n",
       "      <td>-0.123374</td>\n",
       "    </tr>\n",
       "    <tr>\n",
       "      <th>366109</th>\n",
       "      <td>804</td>\n",
       "      <td>9.1</td>\n",
       "      <td>16</td>\n",
       "      <td>3802</td>\n",
       "      <td>6</td>\n",
       "      <td>23</td>\n",
       "      <td>51.505151</td>\n",
       "      <td>-0.100472</td>\n",
       "    </tr>\n",
       "    <tr>\n",
       "      <th>131958</th>\n",
       "      <td>275</td>\n",
       "      <td>8.5</td>\n",
       "      <td>34</td>\n",
       "      <td>3748</td>\n",
       "      <td>31</td>\n",
       "      <td>11</td>\n",
       "      <td>48.175628</td>\n",
       "      <td>16.420096</td>\n",
       "    </tr>\n",
       "    <tr>\n",
       "      <th>146903</th>\n",
       "      <td>243</td>\n",
       "      <td>8.8</td>\n",
       "      <td>8</td>\n",
       "      <td>1039</td>\n",
       "      <td>20</td>\n",
       "      <td>12</td>\n",
       "      <td>51.507746</td>\n",
       "      <td>-0.137873</td>\n",
       "    </tr>\n",
       "    <tr>\n",
       "      <th>121980</th>\n",
       "      <td>728</td>\n",
       "      <td>8.9</td>\n",
       "      <td>13</td>\n",
       "      <td>3168</td>\n",
       "      <td>43</td>\n",
       "      <td>1</td>\n",
       "      <td>51.528677</td>\n",
       "      <td>-0.128349</td>\n",
       "    </tr>\n",
       "  </tbody>\n",
       "</table>\n",
       "<p>289872 rows × 8 columns</p>\n",
       "</div>"
      ],
      "text/plain": [
       "        additional_number_of_scoring  average_score  \\\n",
       "116139                           301            8.8   \n",
       "120556                           245            7.5   \n",
       "329558                           542            8.2   \n",
       "211280                           354            8.3   \n",
       "73822                             68            8.6   \n",
       "...                              ...            ...   \n",
       "259308                           392            8.8   \n",
       "366109                           804            9.1   \n",
       "131958                           275            8.5   \n",
       "146903                           243            8.8   \n",
       "121980                           728            8.9   \n",
       "\n",
       "        review_total_negative_word_counts  total_number_of_reviews  \\\n",
       "116139                                 14                     1071   \n",
       "120556                                 61                     2362   \n",
       "329558                                  3                     2266   \n",
       "211280                                  4                     1871   \n",
       "73822                                  68                      664   \n",
       "...                                   ...                      ...   \n",
       "259308                                100                     1803   \n",
       "366109                                 16                     3802   \n",
       "131958                                 34                     3748   \n",
       "146903                                  8                     1039   \n",
       "121980                                 13                     3168   \n",
       "\n",
       "        review_total_positive_word_counts  \\\n",
       "116139                                 32   \n",
       "120556                                 27   \n",
       "329558                                  5   \n",
       "211280                                  4   \n",
       "73822                                  12   \n",
       "...                                   ...   \n",
       "259308                                  0   \n",
       "366109                                  6   \n",
       "131958                                 31   \n",
       "146903                                 20   \n",
       "121980                                 43   \n",
       "\n",
       "        total_number_of_reviews_reviewer_has_given        lat        lng  \n",
       "116139                                           8  51.468956  -0.178726  \n",
       "120556                                           5  52.315453   4.996300  \n",
       "329558                                           3  51.522247  -0.142613  \n",
       "211280                                           8  51.529860  -0.144462  \n",
       "73822                                            3  48.191830  16.377088  \n",
       "...                                            ...        ...        ...  \n",
       "259308                                           1  51.529441  -0.123374  \n",
       "366109                                          23  51.505151  -0.100472  \n",
       "131958                                          11  48.175628  16.420096  \n",
       "146903                                          12  51.507746  -0.137873  \n",
       "121980                                           1  51.528677  -0.128349  \n",
       "\n",
       "[289872 rows x 8 columns]"
      ]
     },
     "execution_count": 47,
     "metadata": {},
     "output_type": "execute_result"
    }
   ],
   "source": [
    "X_train\n",
    "# X_test\n",
    "# y_train\n",
    "# y_test"
   ]
  },
  {
   "cell_type": "code",
   "execution_count": 48,
   "id": "22f29d12-05e2-4011-bf7d-40347725dc87",
   "metadata": {
    "scrolled": true
   },
   "outputs": [
    {
     "data": {
      "text/html": [
       "<div>\n",
       "<style scoped>\n",
       "    .dataframe tbody tr th:only-of-type {\n",
       "        vertical-align: middle;\n",
       "    }\n",
       "\n",
       "    .dataframe tbody tr th {\n",
       "        vertical-align: top;\n",
       "    }\n",
       "\n",
       "    .dataframe thead th {\n",
       "        text-align: right;\n",
       "    }\n",
       "</style>\n",
       "<table border=\"1\" class=\"dataframe\">\n",
       "  <thead>\n",
       "    <tr style=\"text-align: right;\">\n",
       "      <th></th>\n",
       "      <th>additional_number_of_scoring</th>\n",
       "      <th>average_score</th>\n",
       "      <th>review_total_negative_word_counts</th>\n",
       "      <th>total_number_of_reviews</th>\n",
       "      <th>review_total_positive_word_counts</th>\n",
       "      <th>total_number_of_reviews_reviewer_has_given</th>\n",
       "      <th>lat</th>\n",
       "      <th>lng</th>\n",
       "    </tr>\n",
       "  </thead>\n",
       "  <tbody>\n",
       "    <tr>\n",
       "      <th>129228</th>\n",
       "      <td>694</td>\n",
       "      <td>8.7</td>\n",
       "      <td>14</td>\n",
       "      <td>2332</td>\n",
       "      <td>27</td>\n",
       "      <td>27</td>\n",
       "      <td>51.508372</td>\n",
       "      <td>0.035577</td>\n",
       "    </tr>\n",
       "    <tr>\n",
       "      <th>377913</th>\n",
       "      <td>60</td>\n",
       "      <td>9.2</td>\n",
       "      <td>0</td>\n",
       "      <td>259</td>\n",
       "      <td>40</td>\n",
       "      <td>8</td>\n",
       "      <td>51.511783</td>\n",
       "      <td>-0.119417</td>\n",
       "    </tr>\n",
       "    <tr>\n",
       "      <th>179157</th>\n",
       "      <td>1485</td>\n",
       "      <td>7.5</td>\n",
       "      <td>7</td>\n",
       "      <td>6977</td>\n",
       "      <td>6</td>\n",
       "      <td>28</td>\n",
       "      <td>51.519569</td>\n",
       "      <td>-0.170521</td>\n",
       "    </tr>\n",
       "    <tr>\n",
       "      <th>157587</th>\n",
       "      <td>378</td>\n",
       "      <td>8.7</td>\n",
       "      <td>0</td>\n",
       "      <td>1543</td>\n",
       "      <td>154</td>\n",
       "      <td>1</td>\n",
       "      <td>51.509963</td>\n",
       "      <td>-0.129797</td>\n",
       "    </tr>\n",
       "    <tr>\n",
       "      <th>296755</th>\n",
       "      <td>163</td>\n",
       "      <td>8.7</td>\n",
       "      <td>2</td>\n",
       "      <td>1319</td>\n",
       "      <td>15</td>\n",
       "      <td>49</td>\n",
       "      <td>41.393550</td>\n",
       "      <td>2.162710</td>\n",
       "    </tr>\n",
       "    <tr>\n",
       "      <th>...</th>\n",
       "      <td>...</td>\n",
       "      <td>...</td>\n",
       "      <td>...</td>\n",
       "      <td>...</td>\n",
       "      <td>...</td>\n",
       "      <td>...</td>\n",
       "      <td>...</td>\n",
       "      <td>...</td>\n",
       "    </tr>\n",
       "    <tr>\n",
       "      <th>50978</th>\n",
       "      <td>1322</td>\n",
       "      <td>8.4</td>\n",
       "      <td>5</td>\n",
       "      <td>6117</td>\n",
       "      <td>2</td>\n",
       "      <td>1</td>\n",
       "      <td>51.501400</td>\n",
       "      <td>-0.116009</td>\n",
       "    </tr>\n",
       "    <tr>\n",
       "      <th>165107</th>\n",
       "      <td>62</td>\n",
       "      <td>9.3</td>\n",
       "      <td>2</td>\n",
       "      <td>169</td>\n",
       "      <td>2</td>\n",
       "      <td>8</td>\n",
       "      <td>51.501572</td>\n",
       "      <td>-0.162851</td>\n",
       "    </tr>\n",
       "    <tr>\n",
       "      <th>106173</th>\n",
       "      <td>597</td>\n",
       "      <td>7.9</td>\n",
       "      <td>20</td>\n",
       "      <td>2308</td>\n",
       "      <td>7</td>\n",
       "      <td>19</td>\n",
       "      <td>51.516191</td>\n",
       "      <td>-0.157949</td>\n",
       "    </tr>\n",
       "    <tr>\n",
       "      <th>170746</th>\n",
       "      <td>101</td>\n",
       "      <td>9.4</td>\n",
       "      <td>68</td>\n",
       "      <td>824</td>\n",
       "      <td>13</td>\n",
       "      <td>3</td>\n",
       "      <td>48.204576</td>\n",
       "      <td>16.356366</td>\n",
       "    </tr>\n",
       "    <tr>\n",
       "      <th>318564</th>\n",
       "      <td>244</td>\n",
       "      <td>8.5</td>\n",
       "      <td>0</td>\n",
       "      <td>1831</td>\n",
       "      <td>3</td>\n",
       "      <td>1</td>\n",
       "      <td>51.491888</td>\n",
       "      <td>-0.194971</td>\n",
       "    </tr>\n",
       "  </tbody>\n",
       "</table>\n",
       "<p>96624 rows × 8 columns</p>\n",
       "</div>"
      ],
      "text/plain": [
       "        additional_number_of_scoring  average_score  \\\n",
       "129228                           694            8.7   \n",
       "377913                            60            9.2   \n",
       "179157                          1485            7.5   \n",
       "157587                           378            8.7   \n",
       "296755                           163            8.7   \n",
       "...                              ...            ...   \n",
       "50978                           1322            8.4   \n",
       "165107                            62            9.3   \n",
       "106173                           597            7.9   \n",
       "170746                           101            9.4   \n",
       "318564                           244            8.5   \n",
       "\n",
       "        review_total_negative_word_counts  total_number_of_reviews  \\\n",
       "129228                                 14                     2332   \n",
       "377913                                  0                      259   \n",
       "179157                                  7                     6977   \n",
       "157587                                  0                     1543   \n",
       "296755                                  2                     1319   \n",
       "...                                   ...                      ...   \n",
       "50978                                   5                     6117   \n",
       "165107                                  2                      169   \n",
       "106173                                 20                     2308   \n",
       "170746                                 68                      824   \n",
       "318564                                  0                     1831   \n",
       "\n",
       "        review_total_positive_word_counts  \\\n",
       "129228                                 27   \n",
       "377913                                 40   \n",
       "179157                                  6   \n",
       "157587                                154   \n",
       "296755                                 15   \n",
       "...                                   ...   \n",
       "50978                                   2   \n",
       "165107                                  2   \n",
       "106173                                  7   \n",
       "170746                                 13   \n",
       "318564                                  3   \n",
       "\n",
       "        total_number_of_reviews_reviewer_has_given        lat        lng  \n",
       "129228                                          27  51.508372   0.035577  \n",
       "377913                                           8  51.511783  -0.119417  \n",
       "179157                                          28  51.519569  -0.170521  \n",
       "157587                                           1  51.509963  -0.129797  \n",
       "296755                                          49  41.393550   2.162710  \n",
       "...                                            ...        ...        ...  \n",
       "50978                                            1  51.501400  -0.116009  \n",
       "165107                                           8  51.501572  -0.162851  \n",
       "106173                                          19  51.516191  -0.157949  \n",
       "170746                                           3  48.204576  16.356366  \n",
       "318564                                           1  51.491888  -0.194971  \n",
       "\n",
       "[96624 rows x 8 columns]"
      ]
     },
     "execution_count": 48,
     "metadata": {},
     "output_type": "execute_result"
    }
   ],
   "source": [
    " X_test"
   ]
  },
  {
   "cell_type": "code",
   "execution_count": 49,
   "id": "dc34dee4-030f-4d39-a11b-4c26dcb859c2",
   "metadata": {
    "scrolled": true
   },
   "outputs": [
    {
     "data": {
      "text/plain": [
       "116139     9\n",
       "120556     7\n",
       "329558     9\n",
       "211280     8\n",
       "73822      7\n",
       "          ..\n",
       "259308     5\n",
       "366109     7\n",
       "131958     7\n",
       "146903     7\n",
       "121980    10\n",
       "Name: reviewer_score, Length: 289872, dtype: int32"
      ]
     },
     "execution_count": 49,
     "metadata": {},
     "output_type": "execute_result"
    }
   ],
   "source": [
    "y_train"
   ]
  },
  {
   "cell_type": "code",
   "execution_count": 50,
   "id": "e1e18ee9-172b-4d23-b5bc-9852f689ef92",
   "metadata": {},
   "outputs": [
    {
     "data": {
      "text/plain": [
       "129228    10\n",
       "377913     9\n",
       "179157     8\n",
       "157587    10\n",
       "296755     9\n",
       "          ..\n",
       "50978      7\n",
       "165107    10\n",
       "106173     8\n",
       "170746     8\n",
       "318564     8\n",
       "Name: reviewer_score, Length: 96624, dtype: int32"
      ]
     },
     "execution_count": 50,
     "metadata": {},
     "output_type": "execute_result"
    }
   ],
   "source": [
    "y_test"
   ]
  },
  {
   "cell_type": "code",
   "execution_count": null,
   "id": "a026ff9e-4fe0-4ffd-8637-b4abfa4d6ef7",
   "metadata": {},
   "outputs": [],
   "source": []
  }
 ],
 "metadata": {
  "kernelspec": {
   "display_name": "Python 3 (ipykernel)",
   "language": "python",
   "name": "python3"
  },
  "language_info": {
   "codemirror_mode": {
    "name": "ipython",
    "version": 3
   },
   "file_extension": ".py",
   "mimetype": "text/x-python",
   "name": "python",
   "nbconvert_exporter": "python",
   "pygments_lexer": "ipython3",
   "version": "3.12.6"
  }
 },
 "nbformat": 4,
 "nbformat_minor": 5
}
