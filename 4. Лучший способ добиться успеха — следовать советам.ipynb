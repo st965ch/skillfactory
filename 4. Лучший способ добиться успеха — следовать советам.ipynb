{
 "cells": [
  {
   "cell_type": "markdown",
   "id": "2aec7a32-392e-468f-97ac-d317eabec0e2",
   "metadata": {},
   "source": [
    "4. Лучший способ добиться успеха — следовать советам"
   ]
  },
  {
   "cell_type": "markdown",
   "id": "605d5759-831d-4f54-bc5e-bfc168303a51",
   "metadata": {},
   "source": [
    "✍ Что делать дальше?\n",
    "\n",
    "*Повысить точность прогнозов, которые делает модель, с помощью более тщательной подготовки данных.*\n",
    "При подготовке датасета необходимо будет вспомнить все шаги, которые мы проделывали в модулях EDA. Нам нужно будет не только избавиться от пропущенных значений и нечисловых признаков, но и спроектировать новые признаки на основе информации, уже содержащейся в данных, или используя внешние источники данных, если это возможно. Также мы закодируем и преобразуем признаки, а после отберём лучшие из них.\n",
    "\n",
    "Задачу, которая стоит перед вами, можно свести к пяти пунктам:\n",
    "- Удаление строковых значений. Вам необходимо удалить из набора данных столбцы, данные в которых представлены не числами.\n",
    "- Очистка от пропущенных значений. На предыдущем шаге мы делали это самым грубым из всех возможных способов, сейчас попробуйте подойти к процессу более гибко.\n",
    "- Создание новых признаков. Мы попробуем создать новые столбцы с данными из существующих данных или с использованием внешних источников.\n",
    "- Преобразование признаков. Применим различные преобразования над признаками вроде нормализации, стандартизации.\n",
    "- Отбор признаков. Используем анализ мультиколлинеарности как шаг отбора признаков для модели."
   ]
  },
  {
   "cell_type": "markdown",
   "id": "c8efa248-c11c-44ab-932b-a3b3ae6258a8",
   "metadata": {},
   "source": [
    "*Ваша задача — при помощи этих шагов и рекомендаций повысить качество предсказания. Чтобы понять, что качество улучшилось, ориентируйтесь на метрику MAPE: чем она меньше, тем лучше. Рассмотрим шаги подробнее.*\n",
    "\n",
    "##### Строковые данные\n",
    "В исходном наборе данных всего девять столбцов содержат числовые данные. Так что просто удалить все object-значения и считать задачу выполненной не получится. Мы сделали это в прошлом юните, чтобы получить значение метрики. Но чтобы улучшить качество модели, вам перед удалением придётся очень основательно поработать со строковыми данными и извлечь из них как можно больше информации, которую можно представить в числовом виде.\n",
    "\n",
    "##### Пропущенные значения\n",
    "Мы уже говорили о том, что в задачах по машинному обучению принято не удалять строки с пустыми значениями, а заполнять их максимально близкими к реальности данными. Используйте знания из модулей очистки данных или вспомните о мере центральной тенденции в юнитах статистики. Попробуйте различные способы и ориентируйтесь на итоговую метрику.\n",
    "\n",
    "##### Новые признаки\n",
    "Это, пожалуй, самая творческая часть работы на данном шаге. Создание новых признаков потребует от вас способности вникать в контент, умения подключать к работе интуицию, творческого подхода и готовности к экспериментам. Попробуйте извлечь несколько признаков из даты, проанализируйте датасет на возможность добавления внешних источников данных. При наличии времени разберите текстовые столбцы на признаки.\n",
    "\n",
    "##### Преобразование признаков\n",
    "Данные могут быть представлены в невыгодном для модели свете. Используйте изученные вами способы преобразования данных, чтобы сделать данные качественнее.\n",
    "\n",
    "##### Отбор признаков\n",
    "Признаки могут дублировать информацию. Анализ мультиколлинеарности мы будем использовать, чтобы выбрать уникальные признаки для модели.\n",
    "\n",
    "*Также перед обучением (после разделения выборки на X и y) мы можем оценить значимость каждого признака для целевой переменной — рейтинг отеля. При помощи теста мы сможем узнать, как географическая долгота отеля и количество негативных отзывов влияют на его рейтинг.*"
   ]
  },
  {
   "cell_type": "markdown",
   "id": "dec82f1f-5cfe-4f61-acf2-adb988f8ad49",
   "metadata": {},
   "source": [
    "Для оценки значимости категориальных признаков будем использовать тест хи-квадрат, для непрерывных признаков — тест ANOVA."
   ]
  },
  {
   "cell_type": "code",
   "execution_count": 1,
   "id": "d98ea4b1-ec58-4051-8148-c0e59e7f5caa",
   "metadata": {},
   "outputs": [],
   "source": [
    "from sklearn.feature_selection import chi2\n",
    "import pandas as pd\n",
    "import matplotlib.pyplot as plt\n",
    "import seaborn as sns\n",
    "from matplotlib import pyplot as plt"
   ]
  },
  {
   "cell_type": "code",
   "execution_count": 2,
   "id": "6fcab9f0-2b06-48d5-8020-63eeceb3b132",
   "metadata": {},
   "outputs": [
    {
     "data": {
      "text/html": [
       "<div>\n",
       "<style scoped>\n",
       "    .dataframe tbody tr th:only-of-type {\n",
       "        vertical-align: middle;\n",
       "    }\n",
       "\n",
       "    .dataframe tbody tr th {\n",
       "        vertical-align: top;\n",
       "    }\n",
       "\n",
       "    .dataframe thead th {\n",
       "        text-align: right;\n",
       "    }\n",
       "</style>\n",
       "<table border=\"1\" class=\"dataframe\">\n",
       "  <thead>\n",
       "    <tr style=\"text-align: right;\">\n",
       "      <th></th>\n",
       "      <th>hotel_address</th>\n",
       "      <th>additional_number_of_scoring</th>\n",
       "      <th>review_date</th>\n",
       "      <th>average_score</th>\n",
       "      <th>hotel_name</th>\n",
       "      <th>reviewer_nationality</th>\n",
       "      <th>negative_review</th>\n",
       "      <th>review_total_negative_word_counts</th>\n",
       "      <th>total_number_of_reviews</th>\n",
       "      <th>positive_review</th>\n",
       "      <th>review_total_positive_word_counts</th>\n",
       "      <th>total_number_of_reviews_reviewer_has_given</th>\n",
       "      <th>reviewer_score</th>\n",
       "      <th>tags</th>\n",
       "      <th>days_since_review</th>\n",
       "      <th>lat</th>\n",
       "      <th>lng</th>\n",
       "    </tr>\n",
       "  </thead>\n",
       "  <tbody>\n",
       "    <tr>\n",
       "      <th>0</th>\n",
       "      <td>Stratton Street Mayfair Westminster Borough Lo...</td>\n",
       "      <td>581</td>\n",
       "      <td>2/19/2016</td>\n",
       "      <td>8.4</td>\n",
       "      <td>The May Fair Hotel</td>\n",
       "      <td>United Kingdom</td>\n",
       "      <td>Leaving</td>\n",
       "      <td>3</td>\n",
       "      <td>1994</td>\n",
       "      <td>Staff were amazing</td>\n",
       "      <td>4</td>\n",
       "      <td>7</td>\n",
       "      <td>10.0</td>\n",
       "      <td>[' Leisure trip ', ' Couple ', ' Studio Suite ...</td>\n",
       "      <td>531 day</td>\n",
       "      <td>51.507894</td>\n",
       "      <td>-0.143671</td>\n",
       "    </tr>\n",
       "    <tr>\n",
       "      <th>1</th>\n",
       "      <td>130 134 Southampton Row Camden London WC1B 5AF...</td>\n",
       "      <td>299</td>\n",
       "      <td>1/12/2017</td>\n",
       "      <td>8.3</td>\n",
       "      <td>Mercure London Bloomsbury Hotel</td>\n",
       "      <td>United Kingdom</td>\n",
       "      <td>poor breakfast</td>\n",
       "      <td>3</td>\n",
       "      <td>1361</td>\n",
       "      <td>location</td>\n",
       "      <td>2</td>\n",
       "      <td>14</td>\n",
       "      <td>6.3</td>\n",
       "      <td>[' Business trip ', ' Couple ', ' Standard Dou...</td>\n",
       "      <td>203 day</td>\n",
       "      <td>51.521009</td>\n",
       "      <td>-0.123097</td>\n",
       "    </tr>\n",
       "  </tbody>\n",
       "</table>\n",
       "</div>"
      ],
      "text/plain": [
       "                                       hotel_address  \\\n",
       "0  Stratton Street Mayfair Westminster Borough Lo...   \n",
       "1  130 134 Southampton Row Camden London WC1B 5AF...   \n",
       "\n",
       "   additional_number_of_scoring review_date  average_score  \\\n",
       "0                           581   2/19/2016            8.4   \n",
       "1                           299   1/12/2017            8.3   \n",
       "\n",
       "                        hotel_name reviewer_nationality  negative_review  \\\n",
       "0               The May Fair Hotel      United Kingdom          Leaving    \n",
       "1  Mercure London Bloomsbury Hotel      United Kingdom    poor breakfast   \n",
       "\n",
       "   review_total_negative_word_counts  total_number_of_reviews  \\\n",
       "0                                  3                     1994   \n",
       "1                                  3                     1361   \n",
       "\n",
       "       positive_review  review_total_positive_word_counts  \\\n",
       "0   Staff were amazing                                  4   \n",
       "1             location                                  2   \n",
       "\n",
       "   total_number_of_reviews_reviewer_has_given  reviewer_score  \\\n",
       "0                                           7            10.0   \n",
       "1                                          14             6.3   \n",
       "\n",
       "                                                tags days_since_review  \\\n",
       "0  [' Leisure trip ', ' Couple ', ' Studio Suite ...           531 day   \n",
       "1  [' Business trip ', ' Couple ', ' Standard Dou...           203 day   \n",
       "\n",
       "         lat       lng  \n",
       "0  51.507894 -0.143671  \n",
       "1  51.521009 -0.123097  "
      ]
     },
     "execution_count": 2,
     "metadata": {},
     "output_type": "execute_result"
    }
   ],
   "source": [
    "df = pd.read_csv('hotels.csv')\n",
    "df.head(2)"
   ]
  },
  {
   "cell_type": "code",
   "execution_count": 3,
   "id": "b8161d77-f1d4-4bbd-ad90-9868e2129f5d",
   "metadata": {},
   "outputs": [
    {
     "data": {
      "text/html": [
       "<div>\n",
       "<style scoped>\n",
       "    .dataframe tbody tr th:only-of-type {\n",
       "        vertical-align: middle;\n",
       "    }\n",
       "\n",
       "    .dataframe tbody tr th {\n",
       "        vertical-align: top;\n",
       "    }\n",
       "\n",
       "    .dataframe thead th {\n",
       "        text-align: right;\n",
       "    }\n",
       "</style>\n",
       "<table border=\"1\" class=\"dataframe\">\n",
       "  <thead>\n",
       "    <tr style=\"text-align: right;\">\n",
       "      <th></th>\n",
       "      <th>hotel_address</th>\n",
       "      <th>additional_number_of_scoring</th>\n",
       "      <th>review_date</th>\n",
       "      <th>average_score</th>\n",
       "      <th>hotel_name</th>\n",
       "      <th>reviewer_nationality</th>\n",
       "      <th>negative_review</th>\n",
       "      <th>review_total_negative_word_counts</th>\n",
       "      <th>total_number_of_reviews</th>\n",
       "      <th>positive_review</th>\n",
       "      <th>review_total_positive_word_counts</th>\n",
       "      <th>total_number_of_reviews_reviewer_has_given</th>\n",
       "      <th>reviewer_score</th>\n",
       "      <th>tags</th>\n",
       "      <th>days_since_review</th>\n",
       "      <th>lat</th>\n",
       "      <th>lng</th>\n",
       "    </tr>\n",
       "  </thead>\n",
       "  <tbody>\n",
       "    <tr>\n",
       "      <th>386801</th>\n",
       "      <td>31 Great Cumberland Place Westminster Borough ...</td>\n",
       "      <td>365</td>\n",
       "      <td>5/21/2017</td>\n",
       "      <td>8.1</td>\n",
       "      <td>The Marble Arch London</td>\n",
       "      <td>United Arab Emirates</td>\n",
       "      <td>No Negative</td>\n",
       "      <td>0</td>\n",
       "      <td>1567</td>\n",
       "      <td>Location and very comfy bed</td>\n",
       "      <td>6</td>\n",
       "      <td>28</td>\n",
       "      <td>9.2</td>\n",
       "      <td>[' Leisure trip ', ' Solo traveler ', ' Deluxe...</td>\n",
       "      <td>74 days</td>\n",
       "      <td>51.515125</td>\n",
       "      <td>-0.160066</td>\n",
       "    </tr>\n",
       "    <tr>\n",
       "      <th>386802</th>\n",
       "      <td>25 Courtfield Gardens Kensington and Chelsea L...</td>\n",
       "      <td>222</td>\n",
       "      <td>8/5/2016</td>\n",
       "      <td>9.0</td>\n",
       "      <td>The Nadler Kensington</td>\n",
       "      <td>Australia</td>\n",
       "      <td>Patio outside could have been cleaned of alga...</td>\n",
       "      <td>20</td>\n",
       "      <td>1209</td>\n",
       "      <td>Beds comfortable Pillows also good Homely fee...</td>\n",
       "      <td>20</td>\n",
       "      <td>2</td>\n",
       "      <td>8.8</td>\n",
       "      <td>[' Leisure trip ', ' Couple ', ' Bunk Bed Room...</td>\n",
       "      <td>363 day</td>\n",
       "      <td>51.493109</td>\n",
       "      <td>-0.190208</td>\n",
       "    </tr>\n",
       "  </tbody>\n",
       "</table>\n",
       "</div>"
      ],
      "text/plain": [
       "                                            hotel_address  \\\n",
       "386801  31 Great Cumberland Place Westminster Borough ...   \n",
       "386802  25 Courtfield Gardens Kensington and Chelsea L...   \n",
       "\n",
       "        additional_number_of_scoring review_date  average_score  \\\n",
       "386801                           365   5/21/2017            8.1   \n",
       "386802                           222    8/5/2016            9.0   \n",
       "\n",
       "                    hotel_name    reviewer_nationality  \\\n",
       "386801  The Marble Arch London   United Arab Emirates    \n",
       "386802   The Nadler Kensington              Australia    \n",
       "\n",
       "                                          negative_review  \\\n",
       "386801                                        No Negative   \n",
       "386802   Patio outside could have been cleaned of alga...   \n",
       "\n",
       "        review_total_negative_word_counts  total_number_of_reviews  \\\n",
       "386801                                  0                     1567   \n",
       "386802                                 20                     1209   \n",
       "\n",
       "                                          positive_review  \\\n",
       "386801                        Location and very comfy bed   \n",
       "386802   Beds comfortable Pillows also good Homely fee...   \n",
       "\n",
       "        review_total_positive_word_counts  \\\n",
       "386801                                  6   \n",
       "386802                                 20   \n",
       "\n",
       "        total_number_of_reviews_reviewer_has_given  reviewer_score  \\\n",
       "386801                                          28             9.2   \n",
       "386802                                           2             8.8   \n",
       "\n",
       "                                                     tags days_since_review  \\\n",
       "386801  [' Leisure trip ', ' Solo traveler ', ' Deluxe...           74 days   \n",
       "386802  [' Leisure trip ', ' Couple ', ' Bunk Bed Room...           363 day   \n",
       "\n",
       "              lat       lng  \n",
       "386801  51.515125 -0.160066  \n",
       "386802  51.493109 -0.190208  "
      ]
     },
     "execution_count": 3,
     "metadata": {},
     "output_type": "execute_result"
    }
   ],
   "source": [
    "df.tail(2)"
   ]
  },
  {
   "cell_type": "code",
   "execution_count": 4,
   "id": "b4471aed-a392-47fe-97bd-ad0c0d84cfd4",
   "metadata": {},
   "outputs": [
    {
     "name": "stdout",
     "output_type": "stream",
     "text": [
      "В наборе данных представлено 1492 уникальных отелей.\n"
     ]
    }
   ],
   "source": [
    "num_hotels = df['hotel_name'].nunique()\n",
    "print(f\"В наборе данных представлено {num_hotels} уникальных отелей.\")"
   ]
  },
  {
   "cell_type": "markdown",
   "id": "3bb2cce1-ed47-4aea-8990-ca96f82adfba",
   "metadata": {},
   "source": [
    "* Что здесь происходит:\n",
    "  - pd.to_datetime() — функция pandas, которая пытается превратить значения (строки, числа и др.) в даты.\n",
    "  - df['review_date'] — столбец с исходными данными, которые могут быть в строковом формате или других.\n",
    "  - Параметр errors='coerce' означает, что если какое-то значение невозможно преобразовать в дату (например, некорректная строка), то вместо ошибки будет записано значение NaT (Not a Time) — специальное        обозначение пропущенной даты.\n",
    "* Зачем это нужно?\n",
    "  - Для правильной работы с датами в pandas — например, сортировки по дате, вычисления разниц между датами, фильтрации по периоду.\n",
    "* Приведение к датам позволяет избежать ошибок при работе с временными данными.\n",
    "\n",
    " - выводит значение переменной max_date в формате даты год-месяц-день (например, 2025-08-04).\n",
    "*Здесь max_date — объект типа datetime или Timestamp в pandas, а метод .strftime('%Y-%m-%d') преобразует его в строку в заданном формате.*"
   ]
  },
  {
   "cell_type": "code",
   "execution_count": 4,
   "id": "0f050211-9a29-407f-bcd7-adecfb7875bf",
   "metadata": {},
   "outputs": [
    {
     "name": "stdout",
     "output_type": "stream",
     "text": [
      "2017-08-03\n"
     ]
    }
   ],
   "source": [
    "# Преобразовать столбец с датами в формат datetime, если это ещё не сделано\n",
    "df['review_date'] = pd.to_datetime(df['review_date'], errors='coerce')\n",
    "# Найти максимальную дату\n",
    "max_date = df['review_date'].max()\n",
    "# Вывести дату в нужном формате yyyy-mm-dd\n",
    "print(max_date.strftime('%Y-%m-%d'))"
   ]
  },
  {
   "cell_type": "code",
   "execution_count": 5,
   "id": "9474b262-d20a-469a-a2eb-d56e3ead5a1a",
   "metadata": {},
   "outputs": [
    {
     "name": "stdout",
     "output_type": "stream",
     "text": [
      "2015-08-04\n"
     ]
    }
   ],
   "source": [
    "df['review_date'] = pd.to_datetime(df['review_date'], errors='coerce')\n",
    "min_date = df['review_date'].min()\n",
    "print(min_date.strftime('%Y-%m-%d'))"
   ]
  },
  {
   "cell_type": "markdown",
   "id": "462aa0df-030f-4626-a2f8-2a52d856f6c1",
   "metadata": {},
   "source": [
    "##### Чтобы проверить структуру столбца tags в вашем DataFrame df, можно выполнить несколько простых действий:"
   ]
  },
  {
   "cell_type": "code",
   "execution_count": 6,
   "id": "e43037d0-0f9e-4cb3-8e64-50f93b67d67f",
   "metadata": {
    "scrolled": true
   },
   "outputs": [
    {
     "name": "stdout",
     "output_type": "stream",
     "text": [
      "0    [' Leisure trip ', ' Couple ', ' Studio Suite ...\n",
      "1    [' Business trip ', ' Couple ', ' Standard Dou...\n",
      "2    [' Leisure trip ', ' Solo traveler ', ' Modern...\n",
      "3    [' Leisure trip ', ' Solo traveler ', ' Standa...\n",
      "4    [' Business trip ', ' Couple ', ' Standard Dou...\n",
      "5    [' Business trip ', ' Solo traveler ', ' Super...\n",
      "6    [' Leisure trip ', ' Couple ', ' Double Room N...\n",
      "7    [' Leisure trip ', ' Couple ', ' Superior Doub...\n",
      "8    [' Leisure trip ', ' Couple ', ' Double Room '...\n",
      "9    [' Leisure trip ', ' Couple ', ' Twin Hilton G...\n",
      "Name: tags, dtype: object\n"
     ]
    }
   ],
   "source": [
    "# 1 Посмотреть первые несколько значений столбца:\n",
    "print(df['tags'].head(10))\n",
    "# Это покажет, как выглядят теги — есть ли там списки, строки с разделителями, кавычки и т.д."
   ]
  },
  {
   "cell_type": "code",
   "execution_count": 7,
   "id": "ef0a3f50-108d-4163-a796-32525e1f7299",
   "metadata": {},
   "outputs": [
    {
     "name": "stdout",
     "output_type": "stream",
     "text": [
      "object\n"
     ]
    }
   ],
   "source": [
    "# 2 Узнать тип данных столбца:\n",
    "print(df['tags'].dtype)"
   ]
  },
  {
   "cell_type": "code",
   "execution_count": 8,
   "id": "68281215-cba6-440c-86fe-5b404fe2db1b",
   "metadata": {
    "scrolled": true
   },
   "outputs": [
    {
     "name": "stdout",
     "output_type": "stream",
     "text": [
      "[\"[' Leisure trip ', ' Couple ', ' Studio Suite ', ' Stayed 2 nights ', ' Submitted from a mobile device ']\"\n",
      " \"[' Business trip ', ' Couple ', ' Standard Double Room ', ' Stayed 1 night ']\"\n",
      " \"[' Leisure trip ', ' Solo traveler ', ' Modern Double Room Echo ', ' Stayed 3 nights ', ' Submitted from a mobile device ']\"\n",
      " \"[' Leisure trip ', ' Solo traveler ', ' Standard Room with 1 Double Bed ', ' Stayed 1 night ']\"\n",
      " \"[' Business trip ', ' Couple ', ' Standard Double or Twin Room ', ' Stayed 6 nights ']\"\n",
      " \"[' Business trip ', ' Solo traveler ', ' Superior Twin Room ', ' Stayed 1 night ', ' Submitted from a mobile device ']\"\n",
      " \"[' Leisure trip ', ' Couple ', ' Double Room Non Smoking ', ' Stayed 1 night ', ' Submitted from a mobile device ']\"\n",
      " \"[' Leisure trip ', ' Couple ', ' Superior Double Room ', ' Stayed 4 nights ']\"\n",
      " \"[' Leisure trip ', ' Couple ', ' Double Room ', ' Stayed 1 night ']\"\n",
      " \"[' Leisure trip ', ' Couple ', ' Twin Hilton Guest Room ', ' Stayed 1 night ', ' Submitted from a mobile device ']\"]\n",
      "tags\n",
      "[' Leisure trip ', ' Couple ', ' Double Room ', ' Stayed 1 night ', ' Submitted from a mobile device ']              3853\n",
      "[' Leisure trip ', ' Couple ', ' Standard Double Room ', ' Stayed 1 night ', ' Submitted from a mobile device ']     3673\n",
      "[' Leisure trip ', ' Couple ', ' Superior Double Room ', ' Stayed 1 night ', ' Submitted from a mobile device ']     3274\n",
      "[' Leisure trip ', ' Couple ', ' Deluxe Double Room ', ' Stayed 1 night ', ' Submitted from a mobile device ']       2964\n",
      "[' Leisure trip ', ' Couple ', ' Double Room ', ' Stayed 2 nights ', ' Submitted from a mobile device ']             2454\n",
      "[' Leisure trip ', ' Couple ', ' Superior Double Room ', ' Stayed 2 nights ', ' Submitted from a mobile device ']    2330\n",
      "[' Leisure trip ', ' Couple ', ' Double Room ', ' Stayed 1 night ']                                                  2181\n",
      "[' Leisure trip ', ' Couple ', ' Standard Double Room ', ' Stayed 2 nights ', ' Submitted from a mobile device ']    2163\n",
      "[' Leisure trip ', ' Couple ', ' Standard Double Room ', ' Stayed 1 night ']                                         1965\n",
      "[' Leisure trip ', ' Couple ', ' Deluxe Double Room ', ' Stayed 2 nights ', ' Submitted from a mobile device ']      1771\n",
      "Name: count, dtype: int64\n"
     ]
    }
   ],
   "source": [
    "# 3 Посмотреть распределение или примеры уникальных значений:\n",
    "print(df['tags'].dropna().unique()[:10])\n",
    "# или\n",
    "print(df['tags'].value_counts().head(10))"
   ]
  },
  {
   "cell_type": "code",
   "execution_count": 9,
   "id": "8f138198-26cf-40b9-8891-de116f646220",
   "metadata": {},
   "outputs": [
    {
     "name": "stdout",
     "output_type": "stream",
     "text": [
      "0\n",
      "Empty DataFrame\n",
      "Columns: [hotel_address, additional_number_of_scoring, review_date, average_score, hotel_name, reviewer_nationality, negative_review, review_total_negative_word_counts, total_number_of_reviews, positive_review, review_total_positive_word_counts, total_number_of_reviews_reviewer_has_given, reviewer_score, tags, days_since_review, lat, lng]\n",
      "Index: []\n"
     ]
    }
   ],
   "source": [
    "# 4 Проверить, есть ли пустые или необычные значения:\n",
    "print(df['tags'].isna().sum())    # количество пропусков\n",
    "print(df.loc[df['tags'].isna()])  # строки с пропусками в tags\n",
    "# означает, что в вашем DataFrame сейчас нет ни одной строки данных (пустой DataFrame)."
   ]
  },
  {
   "cell_type": "code",
   "execution_count": 10,
   "id": "b0d31ee7-b478-412d-9b7d-bbd38af6623c",
   "metadata": {},
   "outputs": [
    {
     "name": "stdout",
     "output_type": "stream",
     "text": [
      "[' Leisure trip ', ' Couple ', ' Studio Suite ', ' Stayed 2 nights ', ' Submitted from a mobile device ']\n"
     ]
    }
   ],
   "source": [
    "# 5 Если значения в виде строк со списками или скобками, можно вывести срез по конкретной строке для подробного анализа:\n",
    "print(df.loc[0, 'tags'])"
   ]
  },
  {
   "cell_type": "code",
   "execution_count": 11,
   "id": "4475e4ad-35ee-4b28-acfb-f946233f1a47",
   "metadata": {},
   "outputs": [
    {
     "name": "stdout",
     "output_type": "stream",
     "text": [
      "Всего уникальных тегов: 2368\n"
     ]
    }
   ],
   "source": [
    "import ast\n",
    "\n",
    "# Преобразуем текстовое представление списка в настоящий список Python\n",
    "df['tags_list'] = df['tags'].apply(ast.literal_eval)\n",
    "\n",
    "# Теперь можно работать со списками тегов\n",
    "\n",
    "# Разворачиваем списки тегов в одну плоскость\n",
    "all_tags = [tag.strip() for sublist in df['tags_list'] for tag in sublist]\n",
    "\n",
    "# Считаем уникальные теги\n",
    "unique_tags = set(all_tags)\n",
    "num_unique_tags = len(unique_tags)\n",
    "\n",
    "print(f\"Всего уникальных тегов: {num_unique_tags}\")\n"
   ]
  },
  {
   "cell_type": "code",
   "execution_count": 12,
   "id": "e2b19520-269c-4afa-9f7c-2633afca6286",
   "metadata": {
    "scrolled": true
   },
   "outputs": [
    {
     "name": "stdout",
     "output_type": "stream",
     "text": [
      "(386803, 18)\n",
      "                                       hotel_address  \\\n",
      "0  Stratton Street Mayfair Westminster Borough Lo...   \n",
      "1  130 134 Southampton Row Camden London WC1B 5AF...   \n",
      "2   151 bis Rue de Rennes 6th arr 75006 Paris France   \n",
      "3  216 Avenue Jean Jaures 19th arr 75019 Paris Fr...   \n",
      "4          Molenwerf 1 1014 AG Amsterdam Netherlands   \n",
      "\n",
      "   additional_number_of_scoring review_date  average_score  \\\n",
      "0                           581  2016-02-19            8.4   \n",
      "1                           299  2017-01-12            8.3   \n",
      "2                            32  2016-10-18            8.9   \n",
      "3                            34  2015-09-22            7.5   \n",
      "4                           914  2016-03-05            8.5   \n",
      "\n",
      "                                  hotel_name reviewer_nationality  \\\n",
      "0                         The May Fair Hotel      United Kingdom    \n",
      "1            Mercure London Bloomsbury Hotel      United Kingdom    \n",
      "2          Legend Saint Germain by Elegancia               China    \n",
      "3  Mercure Paris 19 Philharmonie La Villette      United Kingdom    \n",
      "4                Golden Tulip Amsterdam West              Poland    \n",
      "\n",
      "       negative_review  review_total_negative_word_counts  \\\n",
      "0             Leaving                                   3   \n",
      "1       poor breakfast                                  3   \n",
      "2   No kettle in room                                   6   \n",
      "3          No Negative                                  0   \n",
      "4         Torn sheets                                   4   \n",
      "\n",
      "   total_number_of_reviews                                    positive_review  \\\n",
      "0                     1994                                 Staff were amazing   \n",
      "1                     1361                                           location   \n",
      "2                      406                                        No Positive   \n",
      "3                      607   Friendly staff quiet comfortable room spotles...   \n",
      "4                     7586   The staff was very friendly and helpful Break...   \n",
      "\n",
      "   review_total_positive_word_counts  \\\n",
      "0                                  4   \n",
      "1                                  2   \n",
      "2                                  0   \n",
      "3                                 11   \n",
      "4                                 20   \n",
      "\n",
      "   total_number_of_reviews_reviewer_has_given  reviewer_score  \\\n",
      "0                                           7            10.0   \n",
      "1                                          14             6.3   \n",
      "2                                          14             7.5   \n",
      "3                                           8            10.0   \n",
      "4                                          10             9.6   \n",
      "\n",
      "                                                tags days_since_review  \\\n",
      "0  [' Leisure trip ', ' Couple ', ' Studio Suite ...           531 day   \n",
      "1  [' Business trip ', ' Couple ', ' Standard Dou...           203 day   \n",
      "2  [' Leisure trip ', ' Solo traveler ', ' Modern...           289 day   \n",
      "3  [' Leisure trip ', ' Solo traveler ', ' Standa...           681 day   \n",
      "4  [' Business trip ', ' Couple ', ' Standard Dou...           516 day   \n",
      "\n",
      "         lat       lng                                          tags_list  \n",
      "0  51.507894 -0.143671  [ Leisure trip ,  Couple ,  Studio Suite ,  St...  \n",
      "1  51.521009 -0.123097  [ Business trip ,  Couple ,  Standard Double R...  \n",
      "2  48.845377  2.325643  [ Leisure trip ,  Solo traveler ,  Modern Doub...  \n",
      "3  48.888697  2.394540  [ Leisure trip ,  Solo traveler ,  Standard Ro...  \n",
      "4  52.385601  4.847060  [ Business trip ,  Couple ,  Standard Double o...  \n"
     ]
    }
   ],
   "source": [
    "# Из-за этого, естественно, при попытке вывести примеры из столбца tags или других ничего не покажется.\n",
    "# Что проверить дальше\n",
    "#  Убедитесь, что данные действительно загружены в DataFrame df и он не пустой:\n",
    "print(df.shape)  # Покажет количество строк и столбцов\n",
    "print(df.head())  # Покажет первые несколько строк с данными"
   ]
  },
  {
   "cell_type": "code",
   "execution_count": 13,
   "id": "8935ddf1-20ec-49e1-afba-9a748330310f",
   "metadata": {},
   "outputs": [
    {
     "name": "stdout",
     "output_type": "stream",
     "text": [
      "Тег, представленный в наибольшем числе отзывов: '[' Leisure trip '', встречается в 312768 отзывах.\n"
     ]
    }
   ],
   "source": [
    "# Убираем пропуски в столбце с тегами\n",
    "tags_series = df['tags'].dropna()\n",
    "# Разбиваем строки на списки тегов по запятой\n",
    "tags_lists = tags_series.str.split(',')\n",
    "# Преобразуем в DataFrame, где каждая строка — один тег\n",
    "tags_exploded = tags_lists.explode().str.strip()\n",
    "# Считаем количество вхождений каждого тега (в скольких отзывах он встречается)\n",
    "tag_counts = tags_exploded.value_counts()\n",
    "# Получаем самый частотный тег\n",
    "most_common_tag = tag_counts.idxmax()\n",
    "most_common_count = tag_counts.max()\n",
    "print(f\"Тег, представленный в наибольшем числе отзывов: '{most_common_tag}', встречается в {most_common_count} отзывах.\")"
   ]
  },
  {
   "cell_type": "code",
   "execution_count": 14,
   "id": "49c20e03-6e0f-461c-862e-2d9df56a4ed2",
   "metadata": {
    "jp-MarkdownHeadingCollapsed": true
   },
   "outputs": [
    {
     "name": "stdout",
     "output_type": "stream",
     "text": [
      "Чаще всего путешественники останавливаются на: '' Stayed 1 night '' (встречается в 88083 отзывах).\n"
     ]
    }
   ],
   "source": [
    "tags_exploded = tags_lists.explode()\n",
    "# Удаляем пробелы и кавычки вне зависимости, одинарные или двойные\n",
    "tags_exploded = tags_exploded.str.strip().str.strip('\"\\'')\n",
    "# Убираем пропуски в столбце с тегами\n",
    "tags_series = df['tags'].dropna()\n",
    "# Разбиваем строки на отдельные теги\n",
    "tags_lists = tags_series.str.split(',')\n",
    "# Разворачиваем список списков в один столбец\n",
    "tags_exploded = tags_lists.explode().str.strip()\n",
    "# Фильтруем теги, которые содержат упоминание ночей (например, \"night\" или \"ночь\")\n",
    "nights_tags = tags_exploded[tags_exploded.str.contains('night|ночь', case=False, na=False)]\n",
    "# Считаем количество каждого такого тега\n",
    "nights_counts = nights_tags.value_counts()\n",
    "# Получаем самый частотный тег и количество\n",
    "most_common_nights_tag = nights_counts.idxmax()\n",
    "most_common_nights_count = nights_counts.max()\n",
    "print(f\"Чаще всего путешественники останавливаются на: '{most_common_nights_tag}' (встречается в {most_common_nights_count} отзывах).\")"
   ]
  },
  {
   "cell_type": "code",
   "execution_count": 15,
   "id": "8c1476e8-09b7-43bc-8d2b-61fef8a9a871",
   "metadata": {},
   "outputs": [
    {
     "name": "stdout",
     "output_type": "stream",
     "text": [
      "Чаще всего путешественники останавливаются на 1 ночей.\n"
     ]
    }
   ],
   "source": [
    "import pandas as pd\n",
    "import re\n",
    "# Убираем пропуски\n",
    "tags_series = df['tags'].dropna()\n",
    "# Разбиваем строки на отдельные теги\n",
    "tags_lists = tags_series.str.split(',')\n",
    "# Разворачиваем в один столбец\n",
    "tags_exploded = tags_lists.explode().str.strip().str.strip('\"\\'')\n",
    "# Фильтруем теги, содержащие слово \"night\" или \"ночь\"\n",
    "nights_tags = tags_exploded[tags_exploded.str.contains('night|ночь', case=False, na=False)]\n",
    "# Функция для извлечения числа ночей из текста\n",
    "def extract_nights(text):\n",
    "    match = re.search(r'(\\d+)', text)\n",
    "    if match:\n",
    "        return int(match.group(1))\n",
    "    return None\n",
    "# Применяем\n",
    "nights_counts = nights_tags.apply(extract_nights).dropna()\n",
    "# Считаем, какое число ночей встречается чаще всего\n",
    "most_common_nights = nights_counts.mode()\n",
    "if not most_common_nights.empty:\n",
    "    print(f\"Чаще всего путешественники останавливаются на {int(most_common_nights[0])} ночей.\")\n",
    "else:\n",
    "    print(\"Не удалось определить наиболее частое количество ночей.\")"
   ]
  },
  {
   "cell_type": "code",
   "execution_count": 16,
   "id": "82106a09-7a72-41ba-8abf-b4fa81825f08",
   "metadata": {},
   "outputs": [
    {
     "name": "stdout",
     "output_type": "stream",
     "text": [
      "<class 'pandas.core.frame.DataFrame'>\n",
      "RangeIndex: 386803 entries, 0 to 386802\n",
      "Data columns (total 18 columns):\n",
      " #   Column                                      Non-Null Count   Dtype         \n",
      "---  ------                                      --------------   -----         \n",
      " 0   hotel_address                               386803 non-null  object        \n",
      " 1   additional_number_of_scoring                386803 non-null  int64         \n",
      " 2   review_date                                 386803 non-null  datetime64[ns]\n",
      " 3   average_score                               386803 non-null  float64       \n",
      " 4   hotel_name                                  386803 non-null  object        \n",
      " 5   reviewer_nationality                        386803 non-null  object        \n",
      " 6   negative_review                             386803 non-null  object        \n",
      " 7   review_total_negative_word_counts           386803 non-null  int64         \n",
      " 8   total_number_of_reviews                     386803 non-null  int64         \n",
      " 9   positive_review                             386803 non-null  object        \n",
      " 10  review_total_positive_word_counts           386803 non-null  int64         \n",
      " 11  total_number_of_reviews_reviewer_has_given  386803 non-null  int64         \n",
      " 12  reviewer_score                              386803 non-null  float64       \n",
      " 13  tags                                        386803 non-null  object        \n",
      " 14  days_since_review                           386803 non-null  object        \n",
      " 15  lat                                         384355 non-null  float64       \n",
      " 16  lng                                         384355 non-null  float64       \n",
      " 17  tags_list                                   386803 non-null  object        \n",
      "dtypes: datetime64[ns](1), float64(4), int64(5), object(8)\n",
      "memory usage: 53.1+ MB\n"
     ]
    }
   ],
   "source": [
    "df.info()"
   ]
  },
  {
   "cell_type": "markdown",
   "id": "dae053c3-b8d5-40c8-971b-54cc40c7bae5",
   "metadata": {},
   "source": [
    "##### Удаление строковых значений. Вам необходимо удалить из набора данных столбцы, данные в которых представлены не числами."
   ]
  },
  {
   "cell_type": "code",
   "execution_count": 23,
   "id": "78f5a475-4f6e-49c9-b327-118510797387",
   "metadata": {
    "scrolled": true
   },
   "outputs": [
    {
     "data": {
      "text/html": [
       "<div>\n",
       "<style scoped>\n",
       "    .dataframe tbody tr th:only-of-type {\n",
       "        vertical-align: middle;\n",
       "    }\n",
       "\n",
       "    .dataframe tbody tr th {\n",
       "        vertical-align: top;\n",
       "    }\n",
       "\n",
       "    .dataframe thead th {\n",
       "        text-align: right;\n",
       "    }\n",
       "</style>\n",
       "<table border=\"1\" class=\"dataframe\">\n",
       "  <thead>\n",
       "    <tr style=\"text-align: right;\">\n",
       "      <th></th>\n",
       "      <th>additional_number_of_scoring</th>\n",
       "      <th>average_score</th>\n",
       "      <th>review_total_negative_word_counts</th>\n",
       "      <th>total_number_of_reviews</th>\n",
       "      <th>review_total_positive_word_counts</th>\n",
       "      <th>total_number_of_reviews_reviewer_has_given</th>\n",
       "      <th>reviewer_score</th>\n",
       "      <th>lat</th>\n",
       "      <th>lng</th>\n",
       "    </tr>\n",
       "  </thead>\n",
       "  <tbody>\n",
       "    <tr>\n",
       "      <th>0</th>\n",
       "      <td>581</td>\n",
       "      <td>8.4</td>\n",
       "      <td>3</td>\n",
       "      <td>1994</td>\n",
       "      <td>4</td>\n",
       "      <td>7</td>\n",
       "      <td>10.0</td>\n",
       "      <td>51.507894</td>\n",
       "      <td>-0.143671</td>\n",
       "    </tr>\n",
       "    <tr>\n",
       "      <th>1</th>\n",
       "      <td>299</td>\n",
       "      <td>8.3</td>\n",
       "      <td>3</td>\n",
       "      <td>1361</td>\n",
       "      <td>2</td>\n",
       "      <td>14</td>\n",
       "      <td>6.3</td>\n",
       "      <td>51.521009</td>\n",
       "      <td>-0.123097</td>\n",
       "    </tr>\n",
       "  </tbody>\n",
       "</table>\n",
       "</div>"
      ],
      "text/plain": [
       "   additional_number_of_scoring  average_score  \\\n",
       "0                           581            8.4   \n",
       "1                           299            8.3   \n",
       "\n",
       "   review_total_negative_word_counts  total_number_of_reviews  \\\n",
       "0                                  3                     1994   \n",
       "1                                  3                     1361   \n",
       "\n",
       "   review_total_positive_word_counts  \\\n",
       "0                                  4   \n",
       "1                                  2   \n",
       "\n",
       "   total_number_of_reviews_reviewer_has_given  reviewer_score        lat  \\\n",
       "0                                           7            10.0  51.507894   \n",
       "1                                          14             6.3  51.521009   \n",
       "\n",
       "        lng  \n",
       "0 -0.143671  \n",
       "1 -0.123097  "
      ]
     },
     "execution_count": 23,
     "metadata": {},
     "output_type": "execute_result"
    }
   ],
   "source": [
    "df1 = df.drop(['hotel_address', 'review_date', 'hotel_name', 'hotel_address', 'review_date', 'hotel_address', 'reviewer_nationality', 'negative_review', \n",
    "               'positive_review', 'tags', 'days_since_review', 'tags_list'], axis = 1)\n",
    "df1.head(2)"
   ]
  },
  {
   "cell_type": "code",
   "execution_count": 24,
   "id": "82546111-ec4e-4282-8376-affdc62a831b",
   "metadata": {},
   "outputs": [
    {
     "name": "stdout",
     "output_type": "stream",
     "text": [
      "<class 'pandas.core.frame.DataFrame'>\n",
      "RangeIndex: 386803 entries, 0 to 386802\n",
      "Data columns (total 9 columns):\n",
      " #   Column                                      Non-Null Count   Dtype  \n",
      "---  ------                                      --------------   -----  \n",
      " 0   additional_number_of_scoring                386803 non-null  int64  \n",
      " 1   average_score                               386803 non-null  float64\n",
      " 2   review_total_negative_word_counts           386803 non-null  int64  \n",
      " 3   total_number_of_reviews                     386803 non-null  int64  \n",
      " 4   review_total_positive_word_counts           386803 non-null  int64  \n",
      " 5   total_number_of_reviews_reviewer_has_given  386803 non-null  int64  \n",
      " 6   reviewer_score                              386803 non-null  float64\n",
      " 7   lat                                         384355 non-null  float64\n",
      " 8   lng                                         384355 non-null  float64\n",
      "dtypes: float64(4), int64(5)\n",
      "memory usage: 26.6 MB\n"
     ]
    }
   ],
   "source": [
    "df1.info()"
   ]
  },
  {
   "cell_type": "markdown",
   "id": "f41fd918-43c1-4d1b-a4ff-c50f8865c1d1",
   "metadata": {},
   "source": [
    "##### Очистка от пропущенных значений. На предыдущем шаге мы делали это самым грубым из всех возможных способов, сейчас попробуйте подойти к процессу более гибко."
   ]
  },
  {
   "cell_type": "code",
   "execution_count": 25,
   "id": "fa2728d3-ce91-416c-b5da-48df68d923b5",
   "metadata": {
    "colab": {
     "base_uri": "https://localhost:8080/"
    },
    "id": "As_X7I6jl7Za",
    "jp-MarkdownHeadingCollapsed": true,
    "outputId": "3d3795b3-ab7c-4cc6-ab3d-23a4796a7b5c",
    "scrolled": true
   },
   "outputs": [
    {
     "name": "stdout",
     "output_type": "stream",
     "text": [
      "Количество дубликатов: 9090\n",
      "Размер таблицы после удаления дубликатов: (377713, 9)\n"
     ]
    }
   ],
   "source": [
    "# Проверим данные на наличие полных дубликатов:\n",
    "print('Количество дубликатов: {}'.format(df1[df1.duplicated()].shape[0]))\n",
    "# Удаляем дубликаты:\n",
    "df1 = df1.drop_duplicates()\n",
    "print('Размер таблицы после удаления дубликатов: {}'.format(df1.shape))"
   ]
  },
  {
   "cell_type": "code",
   "execution_count": 26,
   "id": "60108f03-0b33-4b0f-bee9-a483e67458a4",
   "metadata": {},
   "outputs": [],
   "source": [
    "    # Разбиваем датафрейм на части, необходимые для обучения и тестирования модели  \n",
    "    # Х — данные с информацией об отелях, у — целевая переменная (рейтинги отелей)  \n",
    "    X = df.drop(['reviewer_score'], axis = 1)  \n",
    "    y = df['reviewer_score']  \n",
    "      \n",
    "    # Загружаем специальный инструмент для разбивки:  \n",
    "    from sklearn.model_selection import train_test_split  \n",
    "      \n",
    "    # Наборы данных с меткой \"train\" будут использоваться для обучения модели, \"test\" — для тестирования.  \n",
    "    # Для тестирования мы будем использовать 25 % от исходного датасета.  \n",
    "    X_train, X_test, y_train, y_test = train_test_split(X, y, test_size=0.25, random_state=42)"
   ]
  },
  {
   "cell_type": "code",
   "execution_count": 27,
   "id": "3e58d1a6-64cd-4056-b539-71778161d529",
   "metadata": {},
   "outputs": [
    {
     "name": "stdout",
     "output_type": "stream",
     "text": [
      "<class 'pandas.core.frame.DataFrame'>\n",
      "Index: 377713 entries, 0 to 386802\n",
      "Data columns (total 9 columns):\n",
      " #   Column                                      Non-Null Count   Dtype  \n",
      "---  ------                                      --------------   -----  \n",
      " 0   additional_number_of_scoring                377713 non-null  int64  \n",
      " 1   average_score                               377713 non-null  float64\n",
      " 2   review_total_negative_word_counts           377713 non-null  int64  \n",
      " 3   total_number_of_reviews                     377713 non-null  int64  \n",
      " 4   review_total_positive_word_counts           377713 non-null  int64  \n",
      " 5   total_number_of_reviews_reviewer_has_given  377713 non-null  int64  \n",
      " 6   reviewer_score                              377713 non-null  float64\n",
      " 7   lat                                         375286 non-null  float64\n",
      " 8   lng                                         375286 non-null  float64\n",
      "dtypes: float64(4), int64(5)\n",
      "memory usage: 28.8 MB\n"
     ]
    }
   ],
   "source": [
    "df1.info()"
   ]
  },
  {
   "cell_type": "code",
   "execution_count": 28,
   "id": "86a1af81-423a-4627-8c9c-b5e131bd40f2",
   "metadata": {},
   "outputs": [],
   "source": [
    "# Разбиваем датафрейм на части, необходимые для обучения и тестирования модели  \n",
    "# Х — данные с информацией об отелях, у — целевая переменная (рейтинги отелей)  \n",
    "X = df1.drop(['reviewer_score'], axis = 1)  \n",
    "y = df1['reviewer_score']  \n",
    "y=y.astype('int') # означает, что объект y (например, столбец pandas.Series, содержащий данные) преобразуется к типу данных целое число (integer). \n",
    "# Метод astype() из библиотеки pandas служит для изменения типа данных элементов Series или DataFrame.\n",
    "# Загружаем специальный инструмент для разбивки:  \n",
    "from sklearn.model_selection import train_test_split  \n",
    "# Наборы данных с меткой \"train\" будут использоваться для обучения модели, \"test\" — для тестирования.  \n",
    "# Для тестирования мы будем использовать 25 % от исходного датасета.  \n",
    "X_train, X_test, y_train, y_test = train_test_split(X, y, test_size=0.25, random_state=42)"
   ]
  },
  {
   "cell_type": "code",
   "execution_count": 29,
   "id": "fbed8ec2-01db-4c71-909b-fe85f071e4f6",
   "metadata": {},
   "outputs": [
    {
     "name": "stdout",
     "output_type": "stream",
     "text": [
      "MAPE на тестовой выборке: 16.95%\n"
     ]
    }
   ],
   "source": [
    "import numpy as np\n",
    "from sklearn.ensemble import RandomForestRegressor  # пример модели\n",
    "from sklearn.metrics import mean_absolute_percentage_error\n",
    "# Обучение модели (пример)\n",
    "model = RandomForestRegressor(random_state=42)\n",
    "model.fit(X_train, y_train)\n",
    "# Предсказания на тесте\n",
    "y_pred = model.predict(X_test)\n",
    "# Расчёт MAPE\n",
    "mape_value = mean_absolute_percentage_error(y_test, y_pred) * 100  # умножаем на 100 для %\n",
    "print(f\"MAPE на тестовой выборке: {mape_value:.2f}%\")"
   ]
  },
  {
   "cell_type": "markdown",
   "id": "199d714b-8b99-4203-9984-029f6430f32a",
   "metadata": {},
   "source": [
    "Означают разделение вашего DataFrame df1 на два объекта:\n",
    "X — это DataFrame, который содержит все признаки (фичи), кроме столбца 'reviewer_score'. Метод drop удаляет указанный столбец (axis=1 — значит по столбцам), и возвращает новый DataFrame без этого столбца.\n",
    "y — это Series, который содержит только целевую переменную 'reviewer_score', то есть то, что вы хотите предсказывать или использовать как метку.\n",
    "Такое разделение часто используется в задачах машинного обучения или анализа данных:\n",
    "X — входные данные (признаки) для модели,\n",
    "y — целевая переменная (ответ).\n",
    "Это позволяет отдельно подготовить и обработать признаки и целевую переменную и затем обучить модель или провести анализ.\n",
    "\n",
    "Что происходит при этом:\n",
    "\n",
    "Все значения в y будут приведены к типу int (целое число).\n",
    "Если в y изначально были значения в другом формате (например, строки чисел \"1\", \"2\" или числа с плавающей точкой 1.0, 2.7), после astype('int') они станут целыми числами (в случае с float — дробная часть отбрасывается).\n",
    "Это важно, когда функции, например из sklearn, требуют определённого типа для целевой переменной — обычно целочисленного (например, метки классов).\n",
    "\n",
    "Метод astype:\n",
    "Работает для объектов типа pandas Series или DataFrame.\n",
    "Принимает в аргумент тип данных, к которому нужно привести ('int', 'float', 'str', и др.).\n",
    "Возвращает новый объект с преобразованными типами (если не использовать параметр copy=False, тогда можно изменить объект на месте).\n",
    "\n",
    "Таким образом, ваш код y = y.astype('int') обеспечивает, что целевая переменная y будет именно целочисленной, что важно для корректной работы статистических и машинно-обучающих методов."
   ]
  },
  {
   "cell_type": "code",
   "execution_count": 30,
   "id": "19960a8e-7629-4629-93c9-32ab7f9259c1",
   "metadata": {
    "scrolled": true
   },
   "outputs": [
    {
     "data": {
      "text/html": [
       "<div>\n",
       "<style scoped>\n",
       "    .dataframe tbody tr th:only-of-type {\n",
       "        vertical-align: middle;\n",
       "    }\n",
       "\n",
       "    .dataframe tbody tr th {\n",
       "        vertical-align: top;\n",
       "    }\n",
       "\n",
       "    .dataframe thead th {\n",
       "        text-align: right;\n",
       "    }\n",
       "</style>\n",
       "<table border=\"1\" class=\"dataframe\">\n",
       "  <thead>\n",
       "    <tr style=\"text-align: right;\">\n",
       "      <th></th>\n",
       "      <th>additional_number_of_scoring</th>\n",
       "      <th>average_score</th>\n",
       "      <th>review_total_negative_word_counts</th>\n",
       "      <th>total_number_of_reviews</th>\n",
       "      <th>review_total_positive_word_counts</th>\n",
       "      <th>total_number_of_reviews_reviewer_has_given</th>\n",
       "      <th>lat</th>\n",
       "      <th>lng</th>\n",
       "    </tr>\n",
       "  </thead>\n",
       "  <tbody>\n",
       "    <tr>\n",
       "      <th>0</th>\n",
       "      <td>581</td>\n",
       "      <td>8.4</td>\n",
       "      <td>3</td>\n",
       "      <td>1994</td>\n",
       "      <td>4</td>\n",
       "      <td>7</td>\n",
       "      <td>51.507894</td>\n",
       "      <td>-0.143671</td>\n",
       "    </tr>\n",
       "    <tr>\n",
       "      <th>1</th>\n",
       "      <td>299</td>\n",
       "      <td>8.3</td>\n",
       "      <td>3</td>\n",
       "      <td>1361</td>\n",
       "      <td>2</td>\n",
       "      <td>14</td>\n",
       "      <td>51.521009</td>\n",
       "      <td>-0.123097</td>\n",
       "    </tr>\n",
       "  </tbody>\n",
       "</table>\n",
       "</div>"
      ],
      "text/plain": [
       "   additional_number_of_scoring  average_score  \\\n",
       "0                           581            8.4   \n",
       "1                           299            8.3   \n",
       "\n",
       "   review_total_negative_word_counts  total_number_of_reviews  \\\n",
       "0                                  3                     1994   \n",
       "1                                  3                     1361   \n",
       "\n",
       "   review_total_positive_word_counts  \\\n",
       "0                                  4   \n",
       "1                                  2   \n",
       "\n",
       "   total_number_of_reviews_reviewer_has_given        lat       lng  \n",
       "0                                           7  51.507894 -0.143671  \n",
       "1                                          14  51.521009 -0.123097  "
      ]
     },
     "execution_count": 30,
     "metadata": {},
     "output_type": "execute_result"
    }
   ],
   "source": [
    "X.head(2)"
   ]
  },
  {
   "cell_type": "code",
   "execution_count": 31,
   "id": "b95dfd52-3776-4a58-8c77-173891d1ca49",
   "metadata": {},
   "outputs": [
    {
     "name": "stdout",
     "output_type": "stream",
     "text": [
      "<class 'pandas.core.frame.DataFrame'>\n",
      "Index: 377713 entries, 0 to 386802\n",
      "Data columns (total 8 columns):\n",
      " #   Column                                      Non-Null Count   Dtype  \n",
      "---  ------                                      --------------   -----  \n",
      " 0   additional_number_of_scoring                377713 non-null  int64  \n",
      " 1   average_score                               377713 non-null  float64\n",
      " 2   review_total_negative_word_counts           377713 non-null  int64  \n",
      " 3   total_number_of_reviews                     377713 non-null  int64  \n",
      " 4   review_total_positive_word_counts           377713 non-null  int64  \n",
      " 5   total_number_of_reviews_reviewer_has_given  377713 non-null  int64  \n",
      " 6   lat                                         375286 non-null  float64\n",
      " 7   lng                                         375286 non-null  float64\n",
      "dtypes: float64(3), int64(5)\n",
      "memory usage: 25.9 MB\n",
      "None\n"
     ]
    }
   ],
   "source": [
    "print(X.info())"
   ]
  },
  {
   "cell_type": "code",
   "execution_count": 32,
   "id": "b14e3718-6686-4ed5-9eb2-722ed75f7466",
   "metadata": {},
   "outputs": [
    {
     "name": "stdout",
     "output_type": "stream",
     "text": [
      "<class 'pandas.core.frame.DataFrame'>\n",
      "Index: 377713 entries, 0 to 386802\n",
      "Data columns (total 8 columns):\n",
      " #   Column                                      Non-Null Count   Dtype  \n",
      "---  ------                                      --------------   -----  \n",
      " 0   additional_number_of_scoring                377713 non-null  int64  \n",
      " 1   average_score                               377713 non-null  float64\n",
      " 2   review_total_negative_word_counts           377713 non-null  int64  \n",
      " 3   total_number_of_reviews                     377713 non-null  int64  \n",
      " 4   review_total_positive_word_counts           377713 non-null  int64  \n",
      " 5   total_number_of_reviews_reviewer_has_given  377713 non-null  int64  \n",
      " 6   lat                                         375286 non-null  float64\n",
      " 7   lng                                         375286 non-null  float64\n",
      "dtypes: float64(3), int64(5)\n",
      "memory usage: 25.9 MB\n"
     ]
    },
    {
     "data": {
      "text/plain": [
       "None"
      ]
     },
     "metadata": {},
     "output_type": "display_data"
    }
   ],
   "source": [
    "display(X.info())"
   ]
  },
  {
   "cell_type": "code",
   "execution_count": 33,
   "id": "695e8b90-b0d2-4f0d-aaec-662683ac2697",
   "metadata": {},
   "outputs": [
    {
     "data": {
      "text/plain": [
       "0    10\n",
       "1     6\n",
       "Name: reviewer_score, dtype: int32"
      ]
     },
     "execution_count": 33,
     "metadata": {},
     "output_type": "execute_result"
    }
   ],
   "source": [
    "y.head(2)"
   ]
  },
  {
   "cell_type": "code",
   "execution_count": 34,
   "id": "800f46e7-9ac2-4193-8a64-58e00bf0b19f",
   "metadata": {},
   "outputs": [
    {
     "name": "stdout",
     "output_type": "stream",
     "text": [
      "<class 'pandas.core.series.Series'>\n",
      "Index: 377713 entries, 0 to 386802\n",
      "Series name: reviewer_score\n",
      "Non-Null Count   Dtype\n",
      "--------------   -----\n",
      "377713 non-null  int32\n",
      "dtypes: int32(1)\n",
      "memory usage: 4.3 MB\n"
     ]
    },
    {
     "data": {
      "text/plain": [
       "None"
      ]
     },
     "metadata": {},
     "output_type": "display_data"
    }
   ],
   "source": [
    "display(y.info())"
   ]
  },
  {
   "cell_type": "code",
   "execution_count": 35,
   "id": "606e674b-d807-4a89-87a7-5ea187239c66",
   "metadata": {},
   "outputs": [
    {
     "data": {
      "text/plain": [
       "average_score         0\n",
       "lat                   0\n",
       "lng              186108\n",
       "dtype: int64"
      ]
     },
     "execution_count": 35,
     "metadata": {},
     "output_type": "execute_result"
    }
   ],
   "source": [
    "cat_cols = ['average_score', 'lat', 'lng']\n",
    "X_filled = X[cat_cols].fillna(0)\n",
    "(X_filled < 0).sum()"
   ]
  },
  {
   "cell_type": "code",
   "execution_count": 36,
   "id": "be356698-c382-4804-9b1a-06e8a23252f5",
   "metadata": {},
   "outputs": [
    {
     "data": {
      "text/plain": [
       "average_score         0\n",
       "lat                   0\n",
       "lng              186108\n",
       "dtype: int64"
      ]
     },
     "execution_count": 36,
     "metadata": {},
     "output_type": "execute_result"
    }
   ],
   "source": [
    "#Правильная форма для выбора нескольких столбцов в pandas — использование списка с квадратными скобками: X_filled = X[['average_score', 'lat', 'lng']].fillna(0)\n",
    "X_filled = X[['average_score', 'lat', 'lng']].fillna(0) \n",
    "(X_filled < 0).sum()"
   ]
  },
  {
   "cell_type": "markdown",
   "id": "cac69cc7-23d7-4c5c-bbc6-d19a929feea6",
   "metadata": {},
   "source": [
    "Из перечисленных столбцов вашего DataFrame, основываясь на типах данных и типичной предметной логике, вот рекомендации по выделению категориальных признаков (cat_cols):\n",
    "\n",
    "Ваши колонки и их типы:\n",
    "Колонка\t                                        Non-null\tТип данных\t    Предположение о типе признака\n",
    "additional_number_of_scoring\t                386803\t    int64\t        Скорее количественный (числовой)\n",
    "average_score\t                                386803\t    float64\t        Скорее числовой (например, рейтинг)\n",
    "review_total_negative_word_counts\t            386803\t    int64\t        Количественный (число слов)\n",
    "total_number_of_reviews\t                        386803\t    int64\t        Количественный\n",
    "review_total_positive_word_counts\t            386803\t    int64\t        Количественный\n",
    "total_number_of_reviews_reviewer_has_given      386803\t    int64\t        Количественный\n",
    "reviewer_score\t                                386803\t    float64\t        Целевая переменная (обычно числовая)\n",
    "lat\t                                            384355\t    float64\t        Географическая координата — непрерывный числовой\n",
    "lng\t                                            384355\t    float64\t        Географическая координата — непрерывный числовой\n",
    "\n",
    "Категориальные признаки (cat_cols)\n",
    "Категориальные (категории, классы, метки) — обычно признаками считаются дискретные переменные с конечным числом уникальных значений, значения которых нельзя упорядочивать как обычные числа (или по которым модель должна учитывать категорию, а не величину).\n",
    "\n",
    "В вашем списке нет явно категориальных признаков с типом object или явных категорий (строковых, например, название города, тип, класс и т.п.).\n",
    "\n",
    "Возможные варианты для категориальных:\n",
    "Если у вас считаются average_score, lat, lng как категории (например, когда average_score дискретизируется в группы, или lat, lng округляются до района/зоны), тогда их можно считать категориальными после дискретизации/бинирования.\n",
    "\n",
    "Если у вас есть отдельный список категориальных признаков, например, в исходных данных есть другие колонки с типом object или с небольшим числом уникальных значений, их надо добавить в cat_cols.\n",
    "\n",
    "Итоговая рекомендация\n",
    "Пока что, с указанными данными, все перечисленные признаки считаются числовыми (непрерывными).\n",
    "\n",
    "Если вы хотите выделить категориальные признаки для задачи, то, скорее всего, вам нужно:\n",
    "\n",
    "создать категориальные признаки, дискретизировав числовые (например, average_score разделить на категории: низкий, средний, высокий);\n",
    "\n",
    "либо добавить в cat_cols признаки из других переменных, не перечисленных здесь.\n",
    "\n",
    "Пример\n",
    "python\n",
    "num_cols = [\n",
    "    'additional_number_of_scoring',\n",
    "    'average_score',\n",
    "    'review_total_negative_word_counts',\n",
    "    'total_number_of_reviews',\n",
    "    'review_total_positive_word_counts',\n",
    "    'total_number_of_reviews_reviewer_has_given',\n",
    "    'lat',\n",
    "    'lng'\n",
    "]\n",
    "\n",
    "# Если дискретизировать average_score и координаты для категорий:\n",
    "cat_cols = ['discretized_average_score', 'discretized_lat', 'discretized_lng']\n",
    "Если вы предоставите список с другими признаками или поясните, какие колонки в исходных данных являются категориальными, смогу точнее помочь с cat_cols.\n",
    "\n",
    "Если хотите, могу помочь с кодом для преобразования числовых признаков в категориальные (дискретизация и т.п.)."
   ]
  },
  {
   "cell_type": "code",
   "execution_count": 37,
   "id": "18763165-cb93-4b29-8b65-8069b21aa19e",
   "metadata": {},
   "outputs": [],
   "source": [
    "# непрерывные признаки\n",
    "num_cols = ['total_number_of_reviews', 'review_total_negative_word_counts', ...]\n",
    "# категориальные признаки\n",
    "cat_cols = ['average_score', 'lat', 'lng']"
   ]
  },
  {
   "cell_type": "markdown",
   "id": "a5259251-0982-436e-a4db-f979902b41d1",
   "metadata": {},
   "source": [
    "вы разделяете признаки (фичи) на два типа:\n",
    "\n",
    "1. Непрерывные признаки (num_cols)\n",
    "Это числовые переменные, которые могут принимать любые значения из некоторого числового диапазона, обычно с дробной частью или большим количеством уникальных значений. Примеры:\n",
    "Количество отзывов (total_number_of_reviews)\n",
    "Количество негативных слов в отзыве (review_total_negative_word_counts)\n",
    "Эти признаки обычно используете в виде исходных чисел или подвергаете масштабированию и нормализации.\n",
    "\n",
    "2. Категориальные признаки (cat_cols)\n",
    "Это признаки, которые принимают ограниченный набор уникальных значений, часто качественные переменные или дискретные категории, например:\n",
    "Средний балл (average_score) — если это дискретное значение с фиксированным набором вариантов\n",
    "Географические координаты или коды районов (lat, но обычно координаты считаются числовыми, однако, если у вас они представлены как категории, например по зонам)\n",
    "Категориальные признаки обычно не интерпретируются как числа с порядком или расстоянием, а используются как метки категорий. Перед применением моделей часто кодируют их через dummy-переменные (one-hot encoding) или применяют методы статистического анализа для категорий.\n",
    "\n",
    "Почему важно разделять?\n",
    "Для непрерывных признаков обычно используют методы регрессии, масштабирование и дискретизацию.\n",
    "Для категориальных признаков — методы кодирования, статистические тесты для категорий (например, хи-квадрат), или специфические модели.\n",
    "\n",
    "Что делать с ... в списках?\n",
    "Троеточие ... — это сокращение, чтобы показать, что список признаков длинный или вы его продолжаете заполнить. Вам нужно заменить ... на реальные имена признаков вашего DataFrame.\n",
    "Если хотите, могу помочь помочь с корректным определением непрерывных и категориальных признаков по вашему набору данных или с конкретным примером кода."
   ]
  },
  {
   "cell_type": "code",
   "execution_count": 43,
   "id": "71c3e975-d1a2-463f-b893-cfce9bbcb2c3",
   "metadata": {},
   "outputs": [
    {
     "data": {
      "text/html": [
       "<div>\n",
       "<style scoped>\n",
       "    .dataframe tbody tr th:only-of-type {\n",
       "        vertical-align: middle;\n",
       "    }\n",
       "\n",
       "    .dataframe tbody tr th {\n",
       "        vertical-align: top;\n",
       "    }\n",
       "\n",
       "    .dataframe thead th {\n",
       "        text-align: right;\n",
       "    }\n",
       "</style>\n",
       "<table border=\"1\" class=\"dataframe\">\n",
       "  <thead>\n",
       "    <tr style=\"text-align: right;\">\n",
       "      <th></th>\n",
       "      <th>average_score</th>\n",
       "      <th>lat</th>\n",
       "      <th>lng</th>\n",
       "    </tr>\n",
       "  </thead>\n",
       "  <tbody>\n",
       "    <tr>\n",
       "      <th>0</th>\n",
       "      <td>8.4</td>\n",
       "      <td>51.507894</td>\n",
       "      <td>0.000000</td>\n",
       "    </tr>\n",
       "    <tr>\n",
       "      <th>1</th>\n",
       "      <td>8.3</td>\n",
       "      <td>51.521009</td>\n",
       "      <td>0.000000</td>\n",
       "    </tr>\n",
       "    <tr>\n",
       "      <th>2</th>\n",
       "      <td>8.9</td>\n",
       "      <td>48.845377</td>\n",
       "      <td>2.325643</td>\n",
       "    </tr>\n",
       "    <tr>\n",
       "      <th>3</th>\n",
       "      <td>7.5</td>\n",
       "      <td>48.888697</td>\n",
       "      <td>2.394540</td>\n",
       "    </tr>\n",
       "    <tr>\n",
       "      <th>4</th>\n",
       "      <td>8.5</td>\n",
       "      <td>52.385601</td>\n",
       "      <td>4.847060</td>\n",
       "    </tr>\n",
       "    <tr>\n",
       "      <th>...</th>\n",
       "      <td>...</td>\n",
       "      <td>...</td>\n",
       "      <td>...</td>\n",
       "    </tr>\n",
       "    <tr>\n",
       "      <th>386798</th>\n",
       "      <td>9.0</td>\n",
       "      <td>51.494028</td>\n",
       "      <td>0.000000</td>\n",
       "    </tr>\n",
       "    <tr>\n",
       "      <th>386799</th>\n",
       "      <td>8.4</td>\n",
       "      <td>48.192379</td>\n",
       "      <td>16.399451</td>\n",
       "    </tr>\n",
       "    <tr>\n",
       "      <th>386800</th>\n",
       "      <td>6.8</td>\n",
       "      <td>51.520795</td>\n",
       "      <td>0.000000</td>\n",
       "    </tr>\n",
       "    <tr>\n",
       "      <th>386801</th>\n",
       "      <td>8.1</td>\n",
       "      <td>51.515125</td>\n",
       "      <td>0.000000</td>\n",
       "    </tr>\n",
       "    <tr>\n",
       "      <th>386802</th>\n",
       "      <td>9.0</td>\n",
       "      <td>51.493109</td>\n",
       "      <td>0.000000</td>\n",
       "    </tr>\n",
       "  </tbody>\n",
       "</table>\n",
       "<p>377713 rows × 3 columns</p>\n",
       "</div>"
      ],
      "text/plain": [
       "        average_score        lat        lng\n",
       "0                 8.4  51.507894   0.000000\n",
       "1                 8.3  51.521009   0.000000\n",
       "2                 8.9  48.845377   2.325643\n",
       "3                 7.5  48.888697   2.394540\n",
       "4                 8.5  52.385601   4.847060\n",
       "...               ...        ...        ...\n",
       "386798            9.0  51.494028   0.000000\n",
       "386799            8.4  48.192379  16.399451\n",
       "386800            6.8  51.520795   0.000000\n",
       "386801            8.1  51.515125   0.000000\n",
       "386802            9.0  51.493109   0.000000\n",
       "\n",
       "[377713 rows x 3 columns]"
      ]
     },
     "execution_count": 43,
     "metadata": {},
     "output_type": "execute_result"
    }
   ],
   "source": [
    "X_filled = X_filled.clip(lower=0)  # Заменяет все отрицательные значения на 0\n",
    "X_filled"
   ]
  },
  {
   "cell_type": "code",
   "execution_count": 44,
   "id": "fbd83426-6d6b-4f54-b96a-a4b4b04c6c1d",
   "metadata": {},
   "outputs": [
    {
     "name": "stdout",
     "output_type": "stream",
     "text": [
      "additional_number_of_scoring                    int64\n",
      "average_score                                 float64\n",
      "review_total_negative_word_counts               int64\n",
      "total_number_of_reviews                         int64\n",
      "review_total_positive_word_counts               int64\n",
      "total_number_of_reviews_reviewer_has_given      int64\n",
      "lat                                           float64\n",
      "lng                                           float64\n",
      "dtype: object\n"
     ]
    }
   ],
   "source": [
    "print(X.dtypes)"
   ]
  },
  {
   "cell_type": "code",
   "execution_count": 45,
   "id": "6ee11f56-f385-419f-bedf-52f2adfaf630",
   "metadata": {},
   "outputs": [],
   "source": [
    "from sklearn.impute import SimpleImputer"
   ]
  },
  {
   "cell_type": "code",
   "execution_count": 46,
   "id": "1882b9ad-d778-4bfd-9328-7503502e77e4",
   "metadata": {},
   "outputs": [],
   "source": [
    "# Выделите числовые и категориальные признаки отдельно:\n",
    "num_cols = X.select_dtypes(include=['number']).columns\n",
    "cat_cols = X.select_dtypes(include=['object', 'category']).columns"
   ]
  },
  {
   "cell_type": "code",
   "execution_count": 47,
   "id": "39093ef3-6611-4d2a-aa91-edbeac9f5065",
   "metadata": {},
   "outputs": [],
   "source": [
    "imputer_num = SimpleImputer(strategy='mean') # Для числовых признаков используйте SimpleImputer с подходящей стратегией:\n",
    "X_num_filled = imputer_num.fit_transform(X[num_cols])"
   ]
  },
  {
   "cell_type": "code",
   "execution_count": 48,
   "id": "6f207bd5-c2ac-4f47-90ea-4000ac8d2782",
   "metadata": {},
   "outputs": [],
   "source": [
    "import numpy as np\n",
    "X_num_filled_df = pd.DataFrame(X_num_filled, columns=num_cols, index=X.index)"
   ]
  },
  {
   "cell_type": "code",
   "execution_count": 49,
   "id": "88662ade-ef32-4db0-bd92-2acbc38e049c",
   "metadata": {},
   "outputs": [
    {
     "data": {
      "text/plain": [
       "Index([], dtype='object')"
      ]
     },
     "metadata": {},
     "output_type": "display_data"
    },
    {
     "data": {
      "text/plain": [
       "pandas.core.indexes.base.Index"
      ]
     },
     "metadata": {},
     "output_type": "display_data"
    }
   ],
   "source": [
    "display(cat_cols)\n",
    "display(type(cat_cols))"
   ]
  },
  {
   "cell_type": "markdown",
   "id": "84295e2a-7da4-4e17-9bcf-e75730bc3847",
   "metadata": {},
   "source": [
    "builtins — это специальный модуль в Python, который содержит все встроенные функции, типы и исключения, доступные по умолчанию без необходимости их импортировать.\n",
    "Например, встроенные функции print(), open(), len(), типы int, list и др. на самом деле доступны через модуль builtins: например, builtins.print, builtins.open.\n",
    "\n",
    "*import builtins\n",
    "builtins.print(\"Это вызов встроенной функции print, даже если print был переопределён\")*"
   ]
  },
  {
   "cell_type": "code",
   "execution_count": 50,
   "id": "b51f3146-77e5-4aaf-923e-9712b5167e41",
   "metadata": {},
   "outputs": [
    {
     "name": "stdout",
     "output_type": "stream",
     "text": [
      "Index([], dtype='object')\n",
      "<class 'pandas.core.indexes.base.Index'>\n"
     ]
    }
   ],
   "source": [
    "import builtins\n",
    "builtins.print(cat_cols)\n",
    "builtins.print(type(cat_cols))"
   ]
  },
  {
   "cell_type": "markdown",
   "id": "df4acb3a-7e7b-4443-b453-98cd7eb783dd",
   "metadata": {},
   "source": [
    "imputer_cat = SimpleImputer(strategy='most_frequent') # Для категориальных — можно заполнить наиболее частым значением:\n",
    "X_cat_filled = imputer_cat.fit_transform(X[cat_cols])"
   ]
  },
  {
   "cell_type": "code",
   "execution_count": 52,
   "id": "bceaf75f-536e-4fc7-bba0-daca9f08ff79",
   "metadata": {},
   "outputs": [
    {
     "name": "stdout",
     "output_type": "stream",
     "text": [
      "<class 'pandas.core.frame.DataFrame'>\n",
      "(377713, 8)\n",
      "   additional_number_of_scoring  average_score  \\\n",
      "0                           581            8.4   \n",
      "1                           299            8.3   \n",
      "2                            32            8.9   \n",
      "3                            34            7.5   \n",
      "4                           914            8.5   \n",
      "\n",
      "   review_total_negative_word_counts  total_number_of_reviews  \\\n",
      "0                                  3                     1994   \n",
      "1                                  3                     1361   \n",
      "2                                  6                      406   \n",
      "3                                  0                      607   \n",
      "4                                  4                     7586   \n",
      "\n",
      "   review_total_positive_word_counts  \\\n",
      "0                                  4   \n",
      "1                                  2   \n",
      "2                                  0   \n",
      "3                                 11   \n",
      "4                                 20   \n",
      "\n",
      "   total_number_of_reviews_reviewer_has_given        lat       lng  \n",
      "0                                           7  51.507894 -0.143671  \n",
      "1                                          14  51.521009 -0.123097  \n",
      "2                                          14  48.845377  2.325643  \n",
      "3                                           8  48.888697  2.394540  \n",
      "4                                          10  52.385601  4.847060  \n"
     ]
    }
   ],
   "source": [
    "print(type(X))\n",
    "print(X.shape)\n",
    "print(X.head())"
   ]
  },
  {
   "cell_type": "code",
   "execution_count": 53,
   "id": "830db023-76dc-4b47-89da-4865460e2944",
   "metadata": {},
   "outputs": [],
   "source": [
    "df_clean = pd.concat([X, y], axis=1).dropna()\n",
    "X_clean = df_clean[X.columns]\n",
    "y_clean = df_clean[y.name]"
   ]
  },
  {
   "cell_type": "code",
   "execution_count": 54,
   "id": "769964e3-8d4a-4251-b96d-2a84d2c174f6",
   "metadata": {},
   "outputs": [],
   "source": [
    "from sklearn.impute import SimpleImputer\n",
    "imputer = SimpleImputer(strategy='constant', fill_value=0)  # Или 'mean', 'median' и т.д.\n",
    "X_filled = imputer.fit_transform(X)\n",
    "# Если y тоже содержит NaN (редко), можно обработать аналогично"
   ]
  },
  {
   "cell_type": "code",
   "execution_count": 55,
   "id": "32576a6c-d9d1-430c-97f1-dd4eebbe58f5",
   "metadata": {},
   "outputs": [
    {
     "name": "stdout",
     "output_type": "stream",
     "text": [
      "Index([], dtype='object')\n"
     ]
    }
   ],
   "source": [
    "print(cat_cols)"
   ]
  },
  {
   "cell_type": "code",
   "execution_count": 77,
   "id": "9b7bbdc6-a217-46fd-a8f9-cde1ba8567cc",
   "metadata": {
    "scrolled": true
   },
   "outputs": [],
   "source": [
    "y=y.astype('int')\n",
    "\n",
    "# ...\n",
    "from sklearn.feature_selection import chi2 # хи-квадрат\n",
    "\n",
    "# imp_cat = pd.Series(chi2(X[cat_cols], y)[0], index=cat_cols)\n",
    "# imp_cat.sort_values(inplace = True)\n",
    "# imp_cat.plot(kind = 'barh')"
   ]
  },
  {
   "cell_type": "code",
   "execution_count": null,
   "id": "905f38f8-918b-4441-b5b8-3de12272d5ed",
   "metadata": {},
   "outputs": [],
   "source": [
    "делает следующее:\n",
    "\n",
    "1. y = y.astype('int') — приводите целевую переменную к целочисленному типу, что требуется для работы со многими функциями машинного обучения и статистики.\n",
    "   \n",
    "2. chi2(X[cat_cols], y) — вызывает функцию из sklearn.feature_selection, которая для каждого признака из набора категориальных признаков X[cat_cols] вычисляет статистику теста хи-квадрат относительно целевой переменной y.\n",
    " - Входные данные X[cat_cols] должны содержать только неотрицательные числовые значения (частоты, индикаторы), без пропусков (NaN).\n",
    " - Цель теста — выявить, насколько каждый категориальный признак статистически связан с целевой переменной. Высокое значение статистики хи-квадрат говорит о сильной зависимости (значимости) признака для       классификации.\n",
    "\n",
    "3. chi2(X[cat_cols], y) — берёт первый элемент результата, это массив значений статистик хи-квадрат для всех признаков.\n",
    "\n",
    "4. pd.Series(..., index=cat_cols) — создаёт pandas Series, где индексами являются имена признаков, а значениями — вычисленные статистики хи-квадрат. Это удобно для анализа и визуализации.\n",
    "\n",
    "5. imp_cat.sort_values(inplace=True) — сортирует признаки по возрастанию статистики хи-квадрат, чтобы легче было видеть самые и наименее значимые.\n",
    "\n",
    "6. imp_cat.plot(kind='barh') — строит горизонтальную столбчатую диаграмму, визуализируя значимость категориальных признаков по их статистике хи-квадрат.\n",
    "\n",
    "Таким образом, этот код помогает быстро оценить важность категориальных признаков относительно целевой переменной для задачи классификации, отделяя информативные признаки от менее значимых.\n",
    "\n",
    "Для полной корректной работы:\n",
    " - X[cat_cols] не должен содержать NaN и отрицательных значений. При необходимости предварительно обработайте данные (заполните или удалите пропуски, преобразуйте категориальные переменные в числовые          индикаторы).\n",
    " - Целевая переменная y должна содержать метки классов в целочисленном виде.\n",
    "\n",
    "Это классический подход для отбора признаков (feature selection) на основе теста хи-квадрат с помощью sklearn.\n",
    "Если хотите, могу помочь с примером подготовки данных для этого теста или с интерпретацией результатов.\n",
    " - sklearn.feature_selection.chi2 documentation: computes chi-squared statistics for non-negative features relative to class labels\n",
    " - https://scikit-learn.org/stable/modules/generated/sklearn.feature_selection.chi2.html"
   ]
  },
  {
   "cell_type": "markdown",
   "id": "2c354bb6-57c1-47bd-aea0-cd057ac2f12f",
   "metadata": {},
   "source": [
    "# Импортируем необходимые библиотеки:  \n",
    "from sklearn.ensemble import RandomForestRegressor # инструмент для создания и обучения модели  \n",
    "from sklearn import metrics # инструменты для оценки точности модели  \n",
    "      \n",
    "# Создаём модель  \n",
    "regr = RandomForestRegressor(n_estimators=100)  \n",
    "      \n",
    "# Обучаем модель на тестовом наборе данных  \n",
    "regr.fit(X_train, y_train)  \n",
    "        \n",
    "# Используем обученную модель для предсказания рейтинга отелей в тестовой выборке.  \n",
    "# Предсказанные значения записываем в переменную y_pred  \n",
    "y_pred = regr.predict(X_test)"
   ]
  },
  {
   "cell_type": "code",
   "execution_count": 57,
   "id": "4566477c-f65b-4a18-bb59-6895cf42e62b",
   "metadata": {},
   "outputs": [],
   "source": [
    "from sklearn.impute import SimpleImputer\n",
    "imputer = SimpleImputer(strategy='mean')  # или 'median', или другая стратегия\n",
    "X_num_filled = imputer.fit_transform(X[num_cols])"
   ]
  },
  {
   "cell_type": "code",
   "execution_count": 58,
   "id": "c538b35c-6ba7-4ec9-9735-37cebc27b6de",
   "metadata": {},
   "outputs": [
    {
     "name": "stdout",
     "output_type": "stream",
     "text": [
      "0\n"
     ]
    }
   ],
   "source": [
    "import numpy as np\n",
    "print(np.isnan(X_num_filled).sum())  # должно быть 0"
   ]
  },
  {
   "cell_type": "code",
   "execution_count": 59,
   "id": "df34096d-661c-4fd3-a96e-dda2ed23ef0d",
   "metadata": {},
   "outputs": [
    {
     "data": {
      "text/plain": [
       "<Axes: >"
      ]
     },
     "execution_count": 59,
     "metadata": {},
     "output_type": "execute_result"
    },
    {
     "data": {
      "image/png": "[encoded data removed]",
      "text/plain": [
       "<Figure size 640x480 with 1 Axes>"
      ]
     },
     "metadata": {},
     "output_type": "display_data"
    }
   ],
   "source": [
    "from sklearn.feature_selection import f_classif\n",
    "imp_num = pd.Series(f_classif(X_num_filled, y)[0], index=num_cols)\n",
    "imp_num.sort_values(inplace=True)\n",
    "imp_num.plot(kind='barh')"
   ]
  },
  {
   "cell_type": "code",
   "execution_count": 60,
   "id": "5781bf7f-bff7-4f44-804f-69365bea464c",
   "metadata": {},
   "outputs": [
    {
     "name": "stdout",
     "output_type": "stream",
     "text": [
      "В наборе данных представлено 1492 уникальных отелей.\n"
     ]
    }
   ],
   "source": [
    "num_hotels = df['hotel_name'].nunique()\n",
    "print(f\"В наборе данных представлено {num_hotels} уникальных отелей.\")"
   ]
  },
  {
   "cell_type": "code",
   "execution_count": 61,
   "id": "5e8b3c76-604d-4ea4-a252-d78dd0e5ef00",
   "metadata": {},
   "outputs": [
    {
     "name": "stdout",
     "output_type": "stream",
     "text": [
      "Всего уникальных тегов: 2413\n"
     ]
    }
   ],
   "source": [
    "# Предположим, столбец с тегами называется 'tags'\n",
    "# Разобьём все теги на отдельные элементы и составим множество уникальных\n",
    "all_tags = df['tags'].dropna().str.split(',')  # Разделение по запятой, если другой разделитель — замените\n",
    "unique_tags = set(tag.strip() for sublist in all_tags for tag in sublist)\n",
    "num_unique_tags = len(unique_tags)\n",
    "print(f\"Всего уникальных тегов: {num_unique_tags}\")"
   ]
  },
  {
   "cell_type": "code",
   "execution_count": 62,
   "id": "dca3d9ef-b33f-4fc8-aadb-98395d5381af",
   "metadata": {},
   "outputs": [
    {
     "name": "stdout",
     "output_type": "stream",
     "text": [
      "Всего уникальных тегов: 2413\n"
     ]
    }
   ],
   "source": [
    "# Убираем пропуски\n",
    "tags_series = df['tags'].dropna()\n",
    "# Разбиваем строки на списки тегов (уточните разделитель, если не запятая)\n",
    "tags_lists = tags_series.str.split(',')\n",
    "# Разворачиваем в один плоский список\n",
    "all_tags = [tag.strip().strip('\"\\'' ) for sublist in tags_lists for tag in sublist if tag.strip()]\n",
    "# Получаем множество уникальных тегов\n",
    "unique_tags = set(all_tags)\n",
    "num_unique_tags = len(unique_tags)\n",
    "print(f\"Всего уникальных тегов: {num_unique_tags}\")"
   ]
  },
  {
   "cell_type": "markdown",
   "id": "6a1625ac-649e-433d-ab69-f85cc018d4ca",
   "metadata": {},
   "source": [
    "##### Чтобы проверить структуру столбца tags в вашем DataFrame df, можно выполнить несколько простых действий:"
   ]
  },
  {
   "cell_type": "code",
   "execution_count": 63,
   "id": "f1b52588-f330-4632-af6e-3a848a3ecb3c",
   "metadata": {},
   "outputs": [
    {
     "name": "stdout",
     "output_type": "stream",
     "text": [
      "0    [' Leisure trip ', ' Couple ', ' Studio Suite ...\n",
      "1    [' Business trip ', ' Couple ', ' Standard Dou...\n",
      "2    [' Leisure trip ', ' Solo traveler ', ' Modern...\n",
      "3    [' Leisure trip ', ' Solo traveler ', ' Standa...\n",
      "4    [' Business trip ', ' Couple ', ' Standard Dou...\n",
      "5    [' Business trip ', ' Solo traveler ', ' Super...\n",
      "6    [' Leisure trip ', ' Couple ', ' Double Room N...\n",
      "7    [' Leisure trip ', ' Couple ', ' Superior Doub...\n",
      "8    [' Leisure trip ', ' Couple ', ' Double Room '...\n",
      "9    [' Leisure trip ', ' Couple ', ' Twin Hilton G...\n",
      "Name: tags, dtype: object\n"
     ]
    }
   ],
   "source": [
    "# Посмотреть первые несколько значений столбца:\n",
    "print(df['tags'].head(10))\n",
    "# Это покажет, как выглядят теги — есть ли там списки, строки с разделителями, кавычки и т.д."
   ]
  },
  {
   "cell_type": "code",
   "execution_count": 64,
   "id": "cf48b66a-0abc-4856-925e-8957b3ed27ac",
   "metadata": {},
   "outputs": [
    {
     "name": "stdout",
     "output_type": "stream",
     "text": [
      "object\n"
     ]
    }
   ],
   "source": [
    "# Узнать тип данных столбца:\n",
    "print(df['tags'].dtype)"
   ]
  },
  {
   "cell_type": "code",
   "execution_count": 65,
   "id": "51711b62-b02a-408c-a102-00de75d92e76",
   "metadata": {
    "scrolled": true
   },
   "outputs": [
    {
     "name": "stdout",
     "output_type": "stream",
     "text": [
      "[\"[' Leisure trip ', ' Couple ', ' Studio Suite ', ' Stayed 2 nights ', ' Submitted from a mobile device ']\"\n",
      " \"[' Business trip ', ' Couple ', ' Standard Double Room ', ' Stayed 1 night ']\"\n",
      " \"[' Leisure trip ', ' Solo traveler ', ' Modern Double Room Echo ', ' Stayed 3 nights ', ' Submitted from a mobile device ']\"\n",
      " \"[' Leisure trip ', ' Solo traveler ', ' Standard Room with 1 Double Bed ', ' Stayed 1 night ']\"\n",
      " \"[' Business trip ', ' Couple ', ' Standard Double or Twin Room ', ' Stayed 6 nights ']\"\n",
      " \"[' Business trip ', ' Solo traveler ', ' Superior Twin Room ', ' Stayed 1 night ', ' Submitted from a mobile device ']\"\n",
      " \"[' Leisure trip ', ' Couple ', ' Double Room Non Smoking ', ' Stayed 1 night ', ' Submitted from a mobile device ']\"\n",
      " \"[' Leisure trip ', ' Couple ', ' Superior Double Room ', ' Stayed 4 nights ']\"\n",
      " \"[' Leisure trip ', ' Couple ', ' Double Room ', ' Stayed 1 night ']\"\n",
      " \"[' Leisure trip ', ' Couple ', ' Twin Hilton Guest Room ', ' Stayed 1 night ', ' Submitted from a mobile device ']\"]\n",
      "tags\n",
      "[' Leisure trip ', ' Couple ', ' Double Room ', ' Stayed 1 night ', ' Submitted from a mobile device ']              3853\n",
      "[' Leisure trip ', ' Couple ', ' Standard Double Room ', ' Stayed 1 night ', ' Submitted from a mobile device ']     3673\n",
      "[' Leisure trip ', ' Couple ', ' Superior Double Room ', ' Stayed 1 night ', ' Submitted from a mobile device ']     3274\n",
      "[' Leisure trip ', ' Couple ', ' Deluxe Double Room ', ' Stayed 1 night ', ' Submitted from a mobile device ']       2964\n",
      "[' Leisure trip ', ' Couple ', ' Double Room ', ' Stayed 2 nights ', ' Submitted from a mobile device ']             2454\n",
      "[' Leisure trip ', ' Couple ', ' Superior Double Room ', ' Stayed 2 nights ', ' Submitted from a mobile device ']    2330\n",
      "[' Leisure trip ', ' Couple ', ' Double Room ', ' Stayed 1 night ']                                                  2181\n",
      "[' Leisure trip ', ' Couple ', ' Standard Double Room ', ' Stayed 2 nights ', ' Submitted from a mobile device ']    2163\n",
      "[' Leisure trip ', ' Couple ', ' Standard Double Room ', ' Stayed 1 night ']                                         1965\n",
      "[' Leisure trip ', ' Couple ', ' Deluxe Double Room ', ' Stayed 2 nights ', ' Submitted from a mobile device ']      1771\n",
      "Name: count, dtype: int64\n"
     ]
    }
   ],
   "source": [
    "# Посмотреть распределение или примеры уникальных значений:\n",
    "print(df['tags'].dropna().unique()[:10])\n",
    "# или\n",
    "print(df['tags'].value_counts().head(10))"
   ]
  },
  {
   "cell_type": "code",
   "execution_count": 66,
   "id": "b3156b65-f9ee-4393-94f7-0fa8f03ad036",
   "metadata": {},
   "outputs": [
    {
     "name": "stdout",
     "output_type": "stream",
     "text": [
      "0\n",
      "Empty DataFrame\n",
      "Columns: [hotel_address, additional_number_of_scoring, review_date, average_score, hotel_name, reviewer_nationality, negative_review, review_total_negative_word_counts, total_number_of_reviews, positive_review, review_total_positive_word_counts, total_number_of_reviews_reviewer_has_given, reviewer_score, tags, days_since_review, lat, lng, tags_list]\n",
      "Index: []\n"
     ]
    }
   ],
   "source": [
    "# Проверить, есть ли пустые или необычные значения:\n",
    "print(df['tags'].isna().sum())    # количество пропусков\n",
    "print(df.loc[df['tags'].isna()])  # строки с пропусками в tags\n",
    "# означает, что в вашем DataFrame сейчас нет ни одной строки данных (пустой DataFrame)."
   ]
  },
  {
   "cell_type": "code",
   "execution_count": 67,
   "id": "5c33caa5-29d4-4ae2-8e06-917e8fa663d5",
   "metadata": {},
   "outputs": [
    {
     "name": "stdout",
     "output_type": "stream",
     "text": [
      "[' Leisure trip ', ' Couple ', ' Studio Suite ', ' Stayed 2 nights ', ' Submitted from a mobile device ']\n"
     ]
    }
   ],
   "source": [
    "# Если значения в виде строк со списками или скобками, можно вывести срез по конкретной строке для подробного анализа:\n",
    "print(df.loc[0, 'tags'])"
   ]
  },
  {
   "cell_type": "code",
   "execution_count": 68,
   "id": "b5bc29fe-71e0-42e4-813a-f9e93fd4802d",
   "metadata": {
    "scrolled": true
   },
   "outputs": [
    {
     "name": "stdout",
     "output_type": "stream",
     "text": [
      "(386803, 18)\n",
      "                                       hotel_address  \\\n",
      "0  Stratton Street Mayfair Westminster Borough Lo...   \n",
      "1  130 134 Southampton Row Camden London WC1B 5AF...   \n",
      "2   151 bis Rue de Rennes 6th arr 75006 Paris France   \n",
      "3  216 Avenue Jean Jaures 19th arr 75019 Paris Fr...   \n",
      "4          Molenwerf 1 1014 AG Amsterdam Netherlands   \n",
      "\n",
      "   additional_number_of_scoring review_date  average_score  \\\n",
      "0                           581  2016-02-19            8.4   \n",
      "1                           299  2017-01-12            8.3   \n",
      "2                            32  2016-10-18            8.9   \n",
      "3                            34  2015-09-22            7.5   \n",
      "4                           914  2016-03-05            8.5   \n",
      "\n",
      "                                  hotel_name reviewer_nationality  \\\n",
      "0                         The May Fair Hotel      United Kingdom    \n",
      "1            Mercure London Bloomsbury Hotel      United Kingdom    \n",
      "2          Legend Saint Germain by Elegancia               China    \n",
      "3  Mercure Paris 19 Philharmonie La Villette      United Kingdom    \n",
      "4                Golden Tulip Amsterdam West              Poland    \n",
      "\n",
      "       negative_review  review_total_negative_word_counts  \\\n",
      "0             Leaving                                   3   \n",
      "1       poor breakfast                                  3   \n",
      "2   No kettle in room                                   6   \n",
      "3          No Negative                                  0   \n",
      "4         Torn sheets                                   4   \n",
      "\n",
      "   total_number_of_reviews                                    positive_review  \\\n",
      "0                     1994                                 Staff were amazing   \n",
      "1                     1361                                           location   \n",
      "2                      406                                        No Positive   \n",
      "3                      607   Friendly staff quiet comfortable room spotles...   \n",
      "4                     7586   The staff was very friendly and helpful Break...   \n",
      "\n",
      "   review_total_positive_word_counts  \\\n",
      "0                                  4   \n",
      "1                                  2   \n",
      "2                                  0   \n",
      "3                                 11   \n",
      "4                                 20   \n",
      "\n",
      "   total_number_of_reviews_reviewer_has_given  reviewer_score  \\\n",
      "0                                           7            10.0   \n",
      "1                                          14             6.3   \n",
      "2                                          14             7.5   \n",
      "3                                           8            10.0   \n",
      "4                                          10             9.6   \n",
      "\n",
      "                                                tags days_since_review  \\\n",
      "0  [' Leisure trip ', ' Couple ', ' Studio Suite ...           531 day   \n",
      "1  [' Business trip ', ' Couple ', ' Standard Dou...           203 day   \n",
      "2  [' Leisure trip ', ' Solo traveler ', ' Modern...           289 day   \n",
      "3  [' Leisure trip ', ' Solo traveler ', ' Standa...           681 day   \n",
      "4  [' Business trip ', ' Couple ', ' Standard Dou...           516 day   \n",
      "\n",
      "         lat       lng                                          tags_list  \n",
      "0  51.507894 -0.143671  [ Leisure trip ,  Couple ,  Studio Suite ,  St...  \n",
      "1  51.521009 -0.123097  [ Business trip ,  Couple ,  Standard Double R...  \n",
      "2  48.845377  2.325643  [ Leisure trip ,  Solo traveler ,  Modern Doub...  \n",
      "3  48.888697  2.394540  [ Leisure trip ,  Solo traveler ,  Standard Ro...  \n",
      "4  52.385601  4.847060  [ Business trip ,  Couple ,  Standard Double o...  \n"
     ]
    }
   ],
   "source": [
    "# Из-за этого, естественно, при попытке вывести примеры из столбца tags или других ничего не покажется.\n",
    "# Что проверить дальше\n",
    "#  Убедитесь, что данные действительно загружены в DataFrame df и он не пустой:\n",
    "print(df.shape)  # Покажет количество строк и столбцов\n",
    "print(df.head())  # Покажет первые несколько строк с данными"
   ]
  },
  {
   "cell_type": "code",
   "execution_count": 69,
   "id": "821b953e-f1dd-45e3-bf57-24b83a16c67e",
   "metadata": {},
   "outputs": [
    {
     "name": "stdout",
     "output_type": "stream",
     "text": [
      "Всего уникальных тегов: 2368\n"
     ]
    }
   ],
   "source": [
    "import ast\n",
    "# Преобразуем текстовое представление списка в настоящий список Python\n",
    "df['tags_list'] = df['tags'].apply(ast.literal_eval)\n",
    "# Теперь можно работать со списками тегов\n",
    "# Разворачиваем списки тегов в одну плоскость\n",
    "all_tags = [tag.strip() for sublist in df['tags_list'] for tag in sublist]\n",
    "# Считаем уникальные теги\n",
    "unique_tags = set(all_tags)\n",
    "num_unique_tags = len(unique_tags)\n",
    "print(f\"Всего уникальных тегов: {num_unique_tags}\")"
   ]
  },
  {
   "cell_type": "code",
   "execution_count": 70,
   "id": "1196973f-bc22-4629-92ee-0a22db44ae6d",
   "metadata": {},
   "outputs": [
    {
     "name": "stdout",
     "output_type": "stream",
     "text": [
      "Тег, представленный в наибольшем числе отзывов: '[' Leisure trip '', встречается в 312768 отзывах.\n"
     ]
    }
   ],
   "source": [
    "# Убираем пропуски в столбце с тегами\n",
    "tags_series = df['tags'].dropna()\n",
    "# Разбиваем строки на списки тегов по запятой\n",
    "tags_lists = tags_series.str.split(',')\n",
    "# Преобразуем в DataFrame, где каждая строка — один тег\n",
    "tags_exploded = tags_lists.explode().str.strip()\n",
    "# Считаем количество вхождений каждого тега (в скольких отзывах он встречается)\n",
    "tag_counts = tags_exploded.value_counts()\n",
    "# Получаем самый частотный тег\n",
    "most_common_tag = tag_counts.idxmax()\n",
    "most_common_count = tag_counts.max()\n",
    "print(f\"Тег, представленный в наибольшем числе отзывов: '{most_common_tag}', встречается в {most_common_count} отзывах.\")"
   ]
  },
  {
   "cell_type": "code",
   "execution_count": 71,
   "id": "219a5779-41b7-4507-b6d3-de5f8a64dc5c",
   "metadata": {},
   "outputs": [
    {
     "name": "stdout",
     "output_type": "stream",
     "text": [
      "Чаще всего путешественники останавливаются на: '' Stayed 1 night '' (встречается в 88083 отзывах).\n"
     ]
    }
   ],
   "source": [
    "tags_exploded = tags_lists.explode()\n",
    "# Удаляем пробелы и кавычки вне зависимости, одинарные или двойные\n",
    "tags_exploded = tags_exploded.str.strip().str.strip('\"\\'')\n",
    "# Убираем пропуски в столбце с тегами\n",
    "tags_series = df['tags'].dropna()\n",
    "# Разбиваем строки на отдельные теги\n",
    "tags_lists = tags_series.str.split(',')\n",
    "# Разворачиваем список списков в один столбец\n",
    "tags_exploded = tags_lists.explode().str.strip()\n",
    "# Фильтруем теги, которые содержат упоминание ночей (например, \"night\" или \"ночь\")\n",
    "nights_tags = tags_exploded[tags_exploded.str.contains('night|ночь', case=False, na=False)]\n",
    "# Считаем количество каждого такого тега\n",
    "nights_counts = nights_tags.value_counts()\n",
    "# Получаем самый частотный тег и количество\n",
    "most_common_nights_tag = nights_counts.idxmax()\n",
    "most_common_nights_count = nights_counts.max()\n",
    "print(f\"Чаще всего путешественники останавливаются на: '{most_common_nights_tag}' (встречается в {most_common_nights_count} отзывах).\")"
   ]
  },
  {
   "cell_type": "code",
   "execution_count": 72,
   "id": "f6b3989d-634f-4e42-b103-729d43104eaa",
   "metadata": {},
   "outputs": [
    {
     "name": "stdout",
     "output_type": "stream",
     "text": [
      "Чаще всего путешественники останавливаются на 1 ночей.\n"
     ]
    }
   ],
   "source": [
    "import pandas as pd\n",
    "import re\n",
    "# Убираем пропуски\n",
    "tags_series = df['tags'].dropna()\n",
    "# Разбиваем строки на отдельные теги\n",
    "tags_lists = tags_series.str.split(',')\n",
    "# Разворачиваем в один столбец\n",
    "tags_exploded = tags_lists.explode().str.strip().str.strip('\"\\'')\n",
    "# Фильтруем теги, содержащие слово \"night\" или \"ночь\"\n",
    "nights_tags = tags_exploded[tags_exploded.str.contains('night|ночь', case=False, na=False)]\n",
    "# Функция для извлечения числа ночей из текста\n",
    "def extract_nights(text):\n",
    "    match = re.search(r'(\\d+)', text)\n",
    "    if match:\n",
    "        return int(match.group(1))\n",
    "    return None\n",
    "# Применяем\n",
    "nights_counts = nights_tags.apply(extract_nights).dropna()\n",
    "# Считаем, какое число ночей встречается чаще всего\n",
    "most_common_nights = nights_counts.mode()\n",
    "if not most_common_nights.empty:\n",
    "    print(f\"Чаще всего путешественники останавливаются на {int(most_common_nights[0])} ночей.\")\n",
    "else:\n",
    "    print(\"Не удалось определить наиболее частое количество ночей.\")"
   ]
  },
  {
   "cell_type": "code",
   "execution_count": 73,
   "id": "fbf186bf-57d0-46e7-a306-93eafb1bf003",
   "metadata": {},
   "outputs": [],
   "source": [
    "X_train = np.array(X_train).reshape(-1, 1)\n",
    "X_test = np.array(X_test).reshape(-1, 1)\n"
   ]
  },
  {
   "cell_type": "code",
   "execution_count": 74,
   "id": "82879127-081a-4c2b-9883-7fc6b4db2009",
   "metadata": {},
   "outputs": [],
   "source": [
    "y_train = np.array(y_train).ravel()\n",
    "y_test = np.array(y_test).ravel()\n"
   ]
  },
  {
   "cell_type": "markdown",
   "id": "81017a4b-d0c7-42dd-bc81-098243ddf9b6",
   "metadata": {},
   "source": [
    "import numpy as np\n",
    "from sklearn.ensemble import RandomForestRegressor\n",
    "from sklearn.metrics import mean_absolute_percentage_error\n",
    "\n",
    "# Преобразование данных (если X одномерный)\n",
    "X_train = np.array(X_train)\n",
    "X_test = np.array(X_test)\n",
    "if X_train.ndim == 1:\n",
    "    X_train = X_train.reshape(-1, 1)\n",
    "if X_test.ndim == 1:\n",
    "    X_test = X_test.reshape(-1, 1)\n",
    "y_train = np.array(y_train).ravel()\n",
    "y_test = np.array(y_test).ravel()\n",
    "\n",
    "model = RandomForestRegressor(random_state=42)\n",
    "model.fit(X_train, y_train)\n",
    "\n",
    "y_pred = model.predict(X_test)\n",
    "mape_value = mean_absolute_percentage_error(y_test, y_pred) * 100\n",
    "print(f\"MAPE на тестовой выборке: {mape_value:.2f}%\")\n"
   ]
  },
  {
   "cell_type": "code",
   "execution_count": null,
   "id": "cdcbf8ce-a34f-4769-be51-3da19981aab7",
   "metadata": {},
   "outputs": [],
   "source": [
    "import numpy as np\n",
    "from sklearn.ensemble import RandomForestRegressor  # пример модели\n",
    "from sklearn.metrics import mean_absolute_percentage_error\n",
    "\n",
    "# Обучение модели (пример)\n",
    "model = RandomForestRegressor(random_state=42)\n",
    "model.fit(X_train, y_train)\n",
    "\n",
    "# Предсказания на тесте\n",
    "y_pred = model.predict(X_test)\n",
    "\n",
    "# Расчёт MAPE\n",
    "mape_value = mean_absolute_percentage_error(y_test, y_pred) * 100  # умножаем на 100 для %\n",
    "print(f\"MAPE на тестовой выборке: {mape_value:.2f}%\")\n"
   ]
  },
  {
   "cell_type": "markdown",
   "id": "3f7bfa07-fc5c-4228-b2b2-83fa1960ecb3",
   "metadata": {},
   "source": [
    "Какое значение метрики MAPE вам удалось получить на этом этапе?"
   ]
  },
  {
   "cell_type": "code",
   "execution_count": null,
   "id": "a5135c11-c58a-4c5a-8080-c05e31e68505",
   "metadata": {},
   "outputs": [],
   "source": [
    "y = y.astype(int).fillna(0)  # или другой метод обработки NaN"
   ]
  },
  {
   "cell_type": "markdown",
   "id": "a027e1be-184c-4a2c-a818-ad40ff391a36",
   "metadata": {},
   "source": [
    "Для оценки значимости категориальных переменных будем использовать изученный нами непараметрический тест хи-квадрат, реализованный в библиотеке sklearn.feature_selection.chi2  https://scikit-learn.org/stable/modules/generated/sklearn.feature_selection.chi2.html#sklearn.feature_selection.chi2. Метод возвращает массив значений хи-квадрат и p-value для каждого признака. Используем только значения хи-квадрат и выведем их на графике:"
   ]
  },
  {
   "cell_type": "markdown",
   "id": "ffbb762d-9074-41e1-a520-1a8d5dcb549b",
   "metadata": {},
   "source": [
    "*→ Тесты chi2 и f_classif можно использовать для выбора n заданных признаков с наивысшими значениями статистик с помощью метода SelectKBest. Подробнее об этом вы можете прочесть в руководстве Feature selection.* https://scikit-learn.org/stable/modules/feature_selection.html#univariate-feature-selection"
   ]
  },
  {
   "cell_type": "code",
   "execution_count": null,
   "id": "91ebe2fa-8116-40a6-827e-6f1c84ddd9d0",
   "metadata": {},
   "outputs": [],
   "source": [
    "Задание 4.1 (на самопроверку)\n",
    "Дополните списки num_cols и cat_cols для оценки значимости всех признаков."
   ]
  }
 ],
 "metadata": {
  "kernelspec": {
   "display_name": "Python 3 (ipykernel)",
   "language": "python",
   "name": "python3"
  },
  "language_info": {
   "codemirror_mode": {
    "name": "ipython",
    "version": 3
   },
   "file_extension": ".py",
   "mimetype": "text/x-python",
   "name": "python",
   "nbconvert_exporter": "python",
   "pygments_lexer": "ipython3",
   "version": "3.12.6"
  }
 },
 "nbformat": 4,
 "nbformat_minor": 5
}
