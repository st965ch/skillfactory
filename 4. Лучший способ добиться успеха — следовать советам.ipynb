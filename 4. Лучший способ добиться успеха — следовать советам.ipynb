{
 "cells": [
  {
   "cell_type": "markdown",
   "id": "2aec7a32-392e-468f-97ac-d317eabec0e2",
   "metadata": {},
   "source": [
    "4. Лучший способ добиться успеха — следовать советам"
   ]
  },
  {
   "cell_type": "markdown",
   "id": "605d5759-831d-4f54-bc5e-bfc168303a51",
   "metadata": {},
   "source": [
    "✍ Что делать дальше?\n",
    "\n",
    "*Повысить точность прогнозов, которые делает модель, с помощью более тщательной подготовки данных.*\n",
    "При подготовке датасета необходимо будет вспомнить все шаги, которые мы проделывали в модулях EDA. Нам нужно будет не только избавиться от пропущенных значений и нечисловых признаков, но и спроектировать новые признаки на основе информации, уже содержащейся в данных, или используя внешние источники данных, если это возможно. Также мы закодируем и преобразуем признаки, а после отберём лучшие из них.\n",
    "\n",
    "Задачу, которая стоит перед вами, можно свести к пяти пунктам:\n",
    "- Удаление строковых значений. Вам необходимо удалить из набора данных столбцы, данные в которых представлены не числами.\n",
    "- Очистка от пропущенных значений. На предыдущем шаге мы делали это самым грубым из всех возможных способов, сейчас попробуйте подойти к процессу более гибко.\n",
    "- Создание новых признаков. Мы попробуем создать новые столбцы с данными из существующих данных или с использованием внешних источников.\n",
    "- Преобразование признаков. Применим различные преобразования над признаками вроде нормализации, стандартизации.\n",
    "- Отбор признаков. Используем анализ мультиколлинеарности как шаг отбора признаков для модели."
   ]
  },
  {
   "cell_type": "markdown",
   "id": "c8efa248-c11c-44ab-932b-a3b3ae6258a8",
   "metadata": {},
   "source": [
    "*Ваша задача — при помощи этих шагов и рекомендаций повысить качество предсказания. Чтобы понять, что качество улучшилось, ориентируйтесь на метрику MAPE: чем она меньше, тем лучше. Рассмотрим шаги подробнее.*\n",
    "\n",
    "##### Строковые данные\n",
    "В исходном наборе данных всего девять столбцов содержат числовые данные. Так что просто удалить все object-значения и считать задачу выполненной не получится. Мы сделали это в прошлом юните, чтобы получить значение метрики. Но чтобы улучшить качество модели, вам перед удалением придётся очень основательно поработать со строковыми данными и извлечь из них как можно больше информации, которую можно представить в числовом виде.\n",
    "\n",
    "##### Пропущенные значения\n",
    "Мы уже говорили о том, что в задачах по машинному обучению принято не удалять строки с пустыми значениями, а заполнять их максимально близкими к реальности данными. Используйте знания из модулей очистки данных или вспомните о мере центральной тенденции в юнитах статистики. Попробуйте различные способы и ориентируйтесь на итоговую метрику.\n",
    "\n",
    "##### Новые признаки\n",
    "Это, пожалуй, самая творческая часть работы на данном шаге. Создание новых признаков потребует от вас способности вникать в контент, умения подключать к работе интуицию, творческого подхода и готовности к экспериментам. Попробуйте извлечь несколько признаков из даты, проанализируйте датасет на возможность добавления внешних источников данных. При наличии времени разберите текстовые столбцы на признаки.\n",
    "\n",
    "##### Преобразование признаков\n",
    "Данные могут быть представлены в невыгодном для модели свете. Используйте изученные вами способы преобразования данных, чтобы сделать данные качественнее.\n",
    "\n",
    "##### Отбор признаков\n",
    "Признаки могут дублировать информацию. Анализ мультиколлинеарности мы будем использовать, чтобы выбрать уникальные признаки для модели.\n",
    "\n",
    "*Также перед обучением (после разделения выборки на X и y) мы можем оценить значимость каждого признака для целевой переменной — рейтинг отеля. При помощи теста мы сможем узнать, как географическая долгота отеля и количество негативных отзывов влияют на его рейтинг.*"
   ]
  },
  {
   "cell_type": "markdown",
   "id": "dec82f1f-5cfe-4f61-acf2-adb988f8ad49",
   "metadata": {},
   "source": [
    "Для оценки значимости категориальных признаков будем использовать тест хи-квадрат, для непрерывных признаков — тест ANOVA."
   ]
  },
  {
   "cell_type": "code",
   "execution_count": 1,
   "id": "d98ea4b1-ec58-4051-8148-c0e59e7f5caa",
   "metadata": {},
   "outputs": [],
   "source": [
    "from sklearn.feature_selection import chi2\n",
    "import pandas as pd\n",
    "import matplotlib.pyplot as plt\n",
    "import seaborn as sns\n",
    "from matplotlib import pyplot as plt"
   ]
  },
  {
   "cell_type": "code",
   "execution_count": 2,
   "id": "6fcab9f0-2b06-48d5-8020-63eeceb3b132",
   "metadata": {},
   "outputs": [
    {
     "data": {
      "text/html": [
       "<div>\n",
       "<style scoped>\n",
       "    .dataframe tbody tr th:only-of-type {\n",
       "        vertical-align: middle;\n",
       "    }\n",
       "\n",
       "    .dataframe tbody tr th {\n",
       "        vertical-align: top;\n",
       "    }\n",
       "\n",
       "    .dataframe thead th {\n",
       "        text-align: right;\n",
       "    }\n",
       "</style>\n",
       "<table border=\"1\" class=\"dataframe\">\n",
       "  <thead>\n",
       "    <tr style=\"text-align: right;\">\n",
       "      <th></th>\n",
       "      <th>hotel_address</th>\n",
       "      <th>additional_number_of_scoring</th>\n",
       "      <th>review_date</th>\n",
       "      <th>average_score</th>\n",
       "      <th>hotel_name</th>\n",
       "      <th>reviewer_nationality</th>\n",
       "      <th>negative_review</th>\n",
       "      <th>review_total_negative_word_counts</th>\n",
       "      <th>total_number_of_reviews</th>\n",
       "      <th>positive_review</th>\n",
       "      <th>review_total_positive_word_counts</th>\n",
       "      <th>total_number_of_reviews_reviewer_has_given</th>\n",
       "      <th>reviewer_score</th>\n",
       "      <th>tags</th>\n",
       "      <th>days_since_review</th>\n",
       "      <th>lat</th>\n",
       "      <th>lng</th>\n",
       "    </tr>\n",
       "  </thead>\n",
       "  <tbody>\n",
       "    <tr>\n",
       "      <th>0</th>\n",
       "      <td>Stratton Street Mayfair Westminster Borough Lo...</td>\n",
       "      <td>581</td>\n",
       "      <td>2/19/2016</td>\n",
       "      <td>8.4</td>\n",
       "      <td>The May Fair Hotel</td>\n",
       "      <td>United Kingdom</td>\n",
       "      <td>Leaving</td>\n",
       "      <td>3</td>\n",
       "      <td>1994</td>\n",
       "      <td>Staff were amazing</td>\n",
       "      <td>4</td>\n",
       "      <td>7</td>\n",
       "      <td>10.0</td>\n",
       "      <td>[' Leisure trip ', ' Couple ', ' Studio Suite ...</td>\n",
       "      <td>531 day</td>\n",
       "      <td>51.507894</td>\n",
       "      <td>-0.143671</td>\n",
       "    </tr>\n",
       "    <tr>\n",
       "      <th>1</th>\n",
       "      <td>130 134 Southampton Row Camden London WC1B 5AF...</td>\n",
       "      <td>299</td>\n",
       "      <td>1/12/2017</td>\n",
       "      <td>8.3</td>\n",
       "      <td>Mercure London Bloomsbury Hotel</td>\n",
       "      <td>United Kingdom</td>\n",
       "      <td>poor breakfast</td>\n",
       "      <td>3</td>\n",
       "      <td>1361</td>\n",
       "      <td>location</td>\n",
       "      <td>2</td>\n",
       "      <td>14</td>\n",
       "      <td>6.3</td>\n",
       "      <td>[' Business trip ', ' Couple ', ' Standard Dou...</td>\n",
       "      <td>203 day</td>\n",
       "      <td>51.521009</td>\n",
       "      <td>-0.123097</td>\n",
       "    </tr>\n",
       "  </tbody>\n",
       "</table>\n",
       "</div>"
      ],
      "text/plain": [
       "                                       hotel_address  \\\n",
       "0  Stratton Street Mayfair Westminster Borough Lo...   \n",
       "1  130 134 Southampton Row Camden London WC1B 5AF...   \n",
       "\n",
       "   additional_number_of_scoring review_date  average_score  \\\n",
       "0                           581   2/19/2016            8.4   \n",
       "1                           299   1/12/2017            8.3   \n",
       "\n",
       "                        hotel_name reviewer_nationality  negative_review  \\\n",
       "0               The May Fair Hotel      United Kingdom          Leaving    \n",
       "1  Mercure London Bloomsbury Hotel      United Kingdom    poor breakfast   \n",
       "\n",
       "   review_total_negative_word_counts  total_number_of_reviews  \\\n",
       "0                                  3                     1994   \n",
       "1                                  3                     1361   \n",
       "\n",
       "       positive_review  review_total_positive_word_counts  \\\n",
       "0   Staff were amazing                                  4   \n",
       "1             location                                  2   \n",
       "\n",
       "   total_number_of_reviews_reviewer_has_given  reviewer_score  \\\n",
       "0                                           7            10.0   \n",
       "1                                          14             6.3   \n",
       "\n",
       "                                                tags days_since_review  \\\n",
       "0  [' Leisure trip ', ' Couple ', ' Studio Suite ...           531 day   \n",
       "1  [' Business trip ', ' Couple ', ' Standard Dou...           203 day   \n",
       "\n",
       "         lat       lng  \n",
       "0  51.507894 -0.143671  \n",
       "1  51.521009 -0.123097  "
      ]
     },
     "execution_count": 2,
     "metadata": {},
     "output_type": "execute_result"
    }
   ],
   "source": [
    "df = pd.read_csv('hotels.csv')\n",
    "df.head(2)"
   ]
  },
  {
   "cell_type": "code",
   "execution_count": 3,
   "id": "b8161d77-f1d4-4bbd-ad90-9868e2129f5d",
   "metadata": {},
   "outputs": [
    {
     "data": {
      "text/html": [
       "<div>\n",
       "<style scoped>\n",
       "    .dataframe tbody tr th:only-of-type {\n",
       "        vertical-align: middle;\n",
       "    }\n",
       "\n",
       "    .dataframe tbody tr th {\n",
       "        vertical-align: top;\n",
       "    }\n",
       "\n",
       "    .dataframe thead th {\n",
       "        text-align: right;\n",
       "    }\n",
       "</style>\n",
       "<table border=\"1\" class=\"dataframe\">\n",
       "  <thead>\n",
       "    <tr style=\"text-align: right;\">\n",
       "      <th></th>\n",
       "      <th>hotel_address</th>\n",
       "      <th>additional_number_of_scoring</th>\n",
       "      <th>review_date</th>\n",
       "      <th>average_score</th>\n",
       "      <th>hotel_name</th>\n",
       "      <th>reviewer_nationality</th>\n",
       "      <th>negative_review</th>\n",
       "      <th>review_total_negative_word_counts</th>\n",
       "      <th>total_number_of_reviews</th>\n",
       "      <th>positive_review</th>\n",
       "      <th>review_total_positive_word_counts</th>\n",
       "      <th>total_number_of_reviews_reviewer_has_given</th>\n",
       "      <th>reviewer_score</th>\n",
       "      <th>tags</th>\n",
       "      <th>days_since_review</th>\n",
       "      <th>lat</th>\n",
       "      <th>lng</th>\n",
       "    </tr>\n",
       "  </thead>\n",
       "  <tbody>\n",
       "    <tr>\n",
       "      <th>386801</th>\n",
       "      <td>31 Great Cumberland Place Westminster Borough ...</td>\n",
       "      <td>365</td>\n",
       "      <td>5/21/2017</td>\n",
       "      <td>8.1</td>\n",
       "      <td>The Marble Arch London</td>\n",
       "      <td>United Arab Emirates</td>\n",
       "      <td>No Negative</td>\n",
       "      <td>0</td>\n",
       "      <td>1567</td>\n",
       "      <td>Location and very comfy bed</td>\n",
       "      <td>6</td>\n",
       "      <td>28</td>\n",
       "      <td>9.2</td>\n",
       "      <td>[' Leisure trip ', ' Solo traveler ', ' Deluxe...</td>\n",
       "      <td>74 days</td>\n",
       "      <td>51.515125</td>\n",
       "      <td>-0.160066</td>\n",
       "    </tr>\n",
       "    <tr>\n",
       "      <th>386802</th>\n",
       "      <td>25 Courtfield Gardens Kensington and Chelsea L...</td>\n",
       "      <td>222</td>\n",
       "      <td>8/5/2016</td>\n",
       "      <td>9.0</td>\n",
       "      <td>The Nadler Kensington</td>\n",
       "      <td>Australia</td>\n",
       "      <td>Patio outside could have been cleaned of alga...</td>\n",
       "      <td>20</td>\n",
       "      <td>1209</td>\n",
       "      <td>Beds comfortable Pillows also good Homely fee...</td>\n",
       "      <td>20</td>\n",
       "      <td>2</td>\n",
       "      <td>8.8</td>\n",
       "      <td>[' Leisure trip ', ' Couple ', ' Bunk Bed Room...</td>\n",
       "      <td>363 day</td>\n",
       "      <td>51.493109</td>\n",
       "      <td>-0.190208</td>\n",
       "    </tr>\n",
       "  </tbody>\n",
       "</table>\n",
       "</div>"
      ],
      "text/plain": [
       "                                            hotel_address  \\\n",
       "386801  31 Great Cumberland Place Westminster Borough ...   \n",
       "386802  25 Courtfield Gardens Kensington and Chelsea L...   \n",
       "\n",
       "        additional_number_of_scoring review_date  average_score  \\\n",
       "386801                           365   5/21/2017            8.1   \n",
       "386802                           222    8/5/2016            9.0   \n",
       "\n",
       "                    hotel_name    reviewer_nationality  \\\n",
       "386801  The Marble Arch London   United Arab Emirates    \n",
       "386802   The Nadler Kensington              Australia    \n",
       "\n",
       "                                          negative_review  \\\n",
       "386801                                        No Negative   \n",
       "386802   Patio outside could have been cleaned of alga...   \n",
       "\n",
       "        review_total_negative_word_counts  total_number_of_reviews  \\\n",
       "386801                                  0                     1567   \n",
       "386802                                 20                     1209   \n",
       "\n",
       "                                          positive_review  \\\n",
       "386801                        Location and very comfy bed   \n",
       "386802   Beds comfortable Pillows also good Homely fee...   \n",
       "\n",
       "        review_total_positive_word_counts  \\\n",
       "386801                                  6   \n",
       "386802                                 20   \n",
       "\n",
       "        total_number_of_reviews_reviewer_has_given  reviewer_score  \\\n",
       "386801                                          28             9.2   \n",
       "386802                                           2             8.8   \n",
       "\n",
       "                                                     tags days_since_review  \\\n",
       "386801  [' Leisure trip ', ' Solo traveler ', ' Deluxe...           74 days   \n",
       "386802  [' Leisure trip ', ' Couple ', ' Bunk Bed Room...           363 day   \n",
       "\n",
       "              lat       lng  \n",
       "386801  51.515125 -0.160066  \n",
       "386802  51.493109 -0.190208  "
      ]
     },
     "execution_count": 3,
     "metadata": {},
     "output_type": "execute_result"
    }
   ],
   "source": [
    "df.tail(2)"
   ]
  },
  {
   "cell_type": "code",
   "execution_count": 69,
   "id": "b4471aed-a392-47fe-97bd-ad0c0d84cfd4",
   "metadata": {},
   "outputs": [
    {
     "name": "stdout",
     "output_type": "stream",
     "text": [
      "В наборе данных представлено 1492 уникальных отелей.\n"
     ]
    }
   ],
   "source": [
    "num_hotels = df['hotel_name'].nunique()\n",
    "print(f\"В наборе данных представлено {num_hotels} уникальных отелей.\")"
   ]
  },
  {
   "cell_type": "markdown",
   "id": "3bb2cce1-ed47-4aea-8990-ca96f82adfba",
   "metadata": {},
   "source": [
    "* Что здесь происходит:\n",
    "  - pd.to_datetime() — функция pandas, которая пытается превратить значения (строки, числа и др.) в даты.\n",
    "  - df['review_date'] — столбец с исходными данными, которые могут быть в строковом формате или других.\n",
    "  - Параметр errors='coerce' означает, что если какое-то значение невозможно преобразовать в дату (например, некорректная строка), то вместо ошибки будет записано значение NaT (Not a Time) — специальное        обозначение пропущенной даты.\n",
    "* Зачем это нужно?\n",
    "  - Для правильной работы с датами в pandas — например, сортировки по дате, вычисления разниц между датами, фильтрации по периоду.\n",
    "* Приведение к датам позволяет избежать ошибок при работе с временными данными.\n",
    "\n",
    " - выводит значение переменной max_date в формате даты год-месяц-день (например, 2025-08-04).\n",
    "*Здесь max_date — объект типа datetime или Timestamp в pandas, а метод .strftime('%Y-%m-%d') преобразует его в строку в заданном формате.*"
   ]
  },
  {
   "cell_type": "code",
   "execution_count": 4,
   "id": "0f050211-9a29-407f-bcd7-adecfb7875bf",
   "metadata": {},
   "outputs": [
    {
     "name": "stdout",
     "output_type": "stream",
     "text": [
      "2017-08-03\n"
     ]
    }
   ],
   "source": [
    "# Преобразовать столбец с датами в формат datetime, если это ещё не сделано\n",
    "df['review_date'] = pd.to_datetime(df['review_date'], errors='coerce')\n",
    "# Найти максимальную дату\n",
    "max_date = df['review_date'].max()\n",
    "# Вывести дату в нужном формате yyyy-mm-dd\n",
    "print(max_date.strftime('%Y-%m-%d'))"
   ]
  },
  {
   "cell_type": "code",
   "execution_count": 5,
   "id": "9474b262-d20a-469a-a2eb-d56e3ead5a1a",
   "metadata": {},
   "outputs": [
    {
     "name": "stdout",
     "output_type": "stream",
     "text": [
      "2015-08-04\n"
     ]
    }
   ],
   "source": [
    "df['review_date'] = pd.to_datetime(df['review_date'], errors='coerce')\n",
    "min_date = df['review_date'].min()\n",
    "print(min_date.strftime('%Y-%m-%d'))"
   ]
  },
  {
   "cell_type": "markdown",
   "id": "462aa0df-030f-4626-a2f8-2a52d856f6c1",
   "metadata": {},
   "source": [
    "##### Чтобы проверить структуру столбца tags в вашем DataFrame df, можно выполнить несколько простых действий:"
   ]
  },
  {
   "cell_type": "code",
   "execution_count": 93,
   "id": "e43037d0-0f9e-4cb3-8e64-50f93b67d67f",
   "metadata": {
    "scrolled": true
   },
   "outputs": [
    {
     "name": "stdout",
     "output_type": "stream",
     "text": [
      "0    [' Leisure trip ', ' Couple ', ' Studio Suite ...\n",
      "1    [' Business trip ', ' Couple ', ' Standard Dou...\n",
      "2    [' Leisure trip ', ' Solo traveler ', ' Modern...\n",
      "3    [' Leisure trip ', ' Solo traveler ', ' Standa...\n",
      "4    [' Business trip ', ' Couple ', ' Standard Dou...\n",
      "5    [' Business trip ', ' Solo traveler ', ' Super...\n",
      "6    [' Leisure trip ', ' Couple ', ' Double Room N...\n",
      "7    [' Leisure trip ', ' Couple ', ' Superior Doub...\n",
      "8    [' Leisure trip ', ' Couple ', ' Double Room '...\n",
      "9    [' Leisure trip ', ' Couple ', ' Twin Hilton G...\n",
      "Name: tags, dtype: object\n"
     ]
    }
   ],
   "source": [
    "# 1 Посмотреть первые несколько значений столбца:\n",
    "print(df['tags'].head(10))\n",
    "# Это покажет, как выглядят теги — есть ли там списки, строки с разделителями, кавычки и т.д."
   ]
  },
  {
   "cell_type": "code",
   "execution_count": 94,
   "id": "ef0a3f50-108d-4163-a796-32525e1f7299",
   "metadata": {},
   "outputs": [
    {
     "name": "stdout",
     "output_type": "stream",
     "text": [
      "object\n"
     ]
    }
   ],
   "source": [
    "# 2 Узнать тип данных столбца:\n",
    "print(df['tags'].dtype)"
   ]
  },
  {
   "cell_type": "code",
   "execution_count": 71,
   "id": "68281215-cba6-440c-86fe-5b404fe2db1b",
   "metadata": {
    "scrolled": true
   },
   "outputs": [
    {
     "name": "stdout",
     "output_type": "stream",
     "text": [
      "[\"[' Leisure trip ', ' Couple ', ' Studio Suite ', ' Stayed 2 nights ', ' Submitted from a mobile device ']\"\n",
      " \"[' Business trip ', ' Couple ', ' Standard Double Room ', ' Stayed 1 night ']\"\n",
      " \"[' Leisure trip ', ' Solo traveler ', ' Modern Double Room Echo ', ' Stayed 3 nights ', ' Submitted from a mobile device ']\"\n",
      " \"[' Leisure trip ', ' Solo traveler ', ' Standard Room with 1 Double Bed ', ' Stayed 1 night ']\"\n",
      " \"[' Business trip ', ' Couple ', ' Standard Double or Twin Room ', ' Stayed 6 nights ']\"\n",
      " \"[' Business trip ', ' Solo traveler ', ' Superior Twin Room ', ' Stayed 1 night ', ' Submitted from a mobile device ']\"\n",
      " \"[' Leisure trip ', ' Couple ', ' Double Room Non Smoking ', ' Stayed 1 night ', ' Submitted from a mobile device ']\"\n",
      " \"[' Leisure trip ', ' Couple ', ' Superior Double Room ', ' Stayed 4 nights ']\"\n",
      " \"[' Leisure trip ', ' Couple ', ' Double Room ', ' Stayed 1 night ']\"\n",
      " \"[' Leisure trip ', ' Couple ', ' Twin Hilton Guest Room ', ' Stayed 1 night ', ' Submitted from a mobile device ']\"]\n",
      "tags\n",
      "[' Leisure trip ', ' Couple ', ' Double Room ', ' Stayed 1 night ', ' Submitted from a mobile device ']              3853\n",
      "[' Leisure trip ', ' Couple ', ' Standard Double Room ', ' Stayed 1 night ', ' Submitted from a mobile device ']     3673\n",
      "[' Leisure trip ', ' Couple ', ' Superior Double Room ', ' Stayed 1 night ', ' Submitted from a mobile device ']     3274\n",
      "[' Leisure trip ', ' Couple ', ' Deluxe Double Room ', ' Stayed 1 night ', ' Submitted from a mobile device ']       2964\n",
      "[' Leisure trip ', ' Couple ', ' Double Room ', ' Stayed 2 nights ', ' Submitted from a mobile device ']             2454\n",
      "[' Leisure trip ', ' Couple ', ' Superior Double Room ', ' Stayed 2 nights ', ' Submitted from a mobile device ']    2330\n",
      "[' Leisure trip ', ' Couple ', ' Double Room ', ' Stayed 1 night ']                                                  2181\n",
      "[' Leisure trip ', ' Couple ', ' Standard Double Room ', ' Stayed 2 nights ', ' Submitted from a mobile device ']    2163\n",
      "[' Leisure trip ', ' Couple ', ' Standard Double Room ', ' Stayed 1 night ']                                         1965\n",
      "[' Leisure trip ', ' Couple ', ' Deluxe Double Room ', ' Stayed 2 nights ', ' Submitted from a mobile device ']      1771\n",
      "Name: count, dtype: int64\n"
     ]
    }
   ],
   "source": [
    "# 3 Посмотреть распределение или примеры уникальных значений:\n",
    "print(df['tags'].dropna().unique()[:10])\n",
    "# или\n",
    "print(df['tags'].value_counts().head(10))"
   ]
  },
  {
   "cell_type": "code",
   "execution_count": 95,
   "id": "8f138198-26cf-40b9-8891-de116f646220",
   "metadata": {},
   "outputs": [
    {
     "name": "stdout",
     "output_type": "stream",
     "text": [
      "0\n",
      "Empty DataFrame\n",
      "Columns: [hotel_address, additional_number_of_scoring, review_date, average_score, hotel_name, reviewer_nationality, negative_review, review_total_negative_word_counts, total_number_of_reviews, positive_review, review_total_positive_word_counts, total_number_of_reviews_reviewer_has_given, reviewer_score, tags, days_since_review, lat, lng, tags_list]\n",
      "Index: []\n"
     ]
    }
   ],
   "source": [
    "# 4 Проверить, есть ли пустые или необычные значения:\n",
    "print(df['tags'].isna().sum())    # количество пропусков\n",
    "print(df.loc[df['tags'].isna()])  # строки с пропусками в tags\n",
    "# означает, что в вашем DataFrame сейчас нет ни одной строки данных (пустой DataFrame)."
   ]
  },
  {
   "cell_type": "code",
   "execution_count": 96,
   "id": "b0d31ee7-b478-412d-9b7d-bbd38af6623c",
   "metadata": {},
   "outputs": [
    {
     "name": "stdout",
     "output_type": "stream",
     "text": [
      "[' Leisure trip ', ' Couple ', ' Studio Suite ', ' Stayed 2 nights ', ' Submitted from a mobile device ']\n"
     ]
    }
   ],
   "source": [
    "# 5 Если значения в виде строк со списками или скобками, можно вывести срез по конкретной строке для подробного анализа:\n",
    "print(df.loc[0, 'tags'])"
   ]
  },
  {
   "cell_type": "code",
   "execution_count": 97,
   "id": "4475e4ad-35ee-4b28-acfb-f946233f1a47",
   "metadata": {},
   "outputs": [
    {
     "name": "stdout",
     "output_type": "stream",
     "text": [
      "Всего уникальных тегов: 2368\n"
     ]
    }
   ],
   "source": [
    "import ast\n",
    "\n",
    "# Преобразуем текстовое представление списка в настоящий список Python\n",
    "df['tags_list'] = df['tags'].apply(ast.literal_eval)\n",
    "\n",
    "# Теперь можно работать со списками тегов\n",
    "\n",
    "# Разворачиваем списки тегов в одну плоскость\n",
    "all_tags = [tag.strip() for sublist in df['tags_list'] for tag in sublist]\n",
    "\n",
    "# Считаем уникальные теги\n",
    "unique_tags = set(all_tags)\n",
    "num_unique_tags = len(unique_tags)\n",
    "\n",
    "print(f\"Всего уникальных тегов: {num_unique_tags}\")\n"
   ]
  },
  {
   "cell_type": "code",
   "execution_count": 75,
   "id": "e2b19520-269c-4afa-9f7c-2633afca6286",
   "metadata": {
    "scrolled": true
   },
   "outputs": [
    {
     "name": "stdout",
     "output_type": "stream",
     "text": [
      "(386803, 18)\n",
      "                                       hotel_address  \\\n",
      "0  Stratton Street Mayfair Westminster Borough Lo...   \n",
      "1  130 134 Southampton Row Camden London WC1B 5AF...   \n",
      "2   151 bis Rue de Rennes 6th arr 75006 Paris France   \n",
      "3  216 Avenue Jean Jaures 19th arr 75019 Paris Fr...   \n",
      "4          Molenwerf 1 1014 AG Amsterdam Netherlands   \n",
      "\n",
      "   additional_number_of_scoring review_date  average_score  \\\n",
      "0                           581   2/19/2016            8.4   \n",
      "1                           299   1/12/2017            8.3   \n",
      "2                            32  10/18/2016            8.9   \n",
      "3                            34   9/22/2015            7.5   \n",
      "4                           914    3/5/2016            8.5   \n",
      "\n",
      "                                  hotel_name reviewer_nationality  \\\n",
      "0                         The May Fair Hotel      United Kingdom    \n",
      "1            Mercure London Bloomsbury Hotel      United Kingdom    \n",
      "2          Legend Saint Germain by Elegancia               China    \n",
      "3  Mercure Paris 19 Philharmonie La Villette      United Kingdom    \n",
      "4                Golden Tulip Amsterdam West              Poland    \n",
      "\n",
      "       negative_review  review_total_negative_word_counts  \\\n",
      "0             Leaving                                   3   \n",
      "1       poor breakfast                                  3   \n",
      "2   No kettle in room                                   6   \n",
      "3          No Negative                                  0   \n",
      "4         Torn sheets                                   4   \n",
      "\n",
      "   total_number_of_reviews                                    positive_review  \\\n",
      "0                     1994                                 Staff were amazing   \n",
      "1                     1361                                           location   \n",
      "2                      406                                        No Positive   \n",
      "3                      607   Friendly staff quiet comfortable room spotles...   \n",
      "4                     7586   The staff was very friendly and helpful Break...   \n",
      "\n",
      "   review_total_positive_word_counts  \\\n",
      "0                                  4   \n",
      "1                                  2   \n",
      "2                                  0   \n",
      "3                                 11   \n",
      "4                                 20   \n",
      "\n",
      "   total_number_of_reviews_reviewer_has_given  reviewer_score  \\\n",
      "0                                           7            10.0   \n",
      "1                                          14             6.3   \n",
      "2                                          14             7.5   \n",
      "3                                           8            10.0   \n",
      "4                                          10             9.6   \n",
      "\n",
      "                                                tags days_since_review  \\\n",
      "0  [' Leisure trip ', ' Couple ', ' Studio Suite ...           531 day   \n",
      "1  [' Business trip ', ' Couple ', ' Standard Dou...           203 day   \n",
      "2  [' Leisure trip ', ' Solo traveler ', ' Modern...           289 day   \n",
      "3  [' Leisure trip ', ' Solo traveler ', ' Standa...           681 day   \n",
      "4  [' Business trip ', ' Couple ', ' Standard Dou...           516 day   \n",
      "\n",
      "         lat       lng                                          tags_list  \n",
      "0  51.507894 -0.143671  [ Leisure trip ,  Couple ,  Studio Suite ,  St...  \n",
      "1  51.521009 -0.123097  [ Business trip ,  Couple ,  Standard Double R...  \n",
      "2  48.845377  2.325643  [ Leisure trip ,  Solo traveler ,  Modern Doub...  \n",
      "3  48.888697  2.394540  [ Leisure trip ,  Solo traveler ,  Standard Ro...  \n",
      "4  52.385601  4.847060  [ Business trip ,  Couple ,  Standard Double o...  \n"
     ]
    }
   ],
   "source": [
    "# Из-за этого, естественно, при попытке вывести примеры из столбца tags или других ничего не покажется.\n",
    "# Что проверить дальше\n",
    "#  Убедитесь, что данные действительно загружены в DataFrame df и он не пустой:\n",
    "print(df.shape)  # Покажет количество строк и столбцов\n",
    "print(df.head())  # Покажет первые несколько строк с данными"
   ]
  },
  {
   "cell_type": "code",
   "execution_count": 83,
   "id": "8935ddf1-20ec-49e1-afba-9a748330310f",
   "metadata": {},
   "outputs": [
    {
     "name": "stdout",
     "output_type": "stream",
     "text": [
      "Тег, представленный в наибольшем числе отзывов: '[' Leisure trip '', встречается в 312768 отзывах.\n"
     ]
    }
   ],
   "source": [
    "# Убираем пропуски в столбце с тегами\n",
    "tags_series = df['tags'].dropna()\n",
    "# Разбиваем строки на списки тегов по запятой\n",
    "tags_lists = tags_series.str.split(',')\n",
    "# Преобразуем в DataFrame, где каждая строка — один тег\n",
    "tags_exploded = tags_lists.explode().str.strip()\n",
    "# Считаем количество вхождений каждого тега (в скольких отзывах он встречается)\n",
    "tag_counts = tags_exploded.value_counts()\n",
    "# Получаем самый частотный тег\n",
    "most_common_tag = tag_counts.idxmax()\n",
    "most_common_count = tag_counts.max()\n",
    "print(f\"Тег, представленный в наибольшем числе отзывов: '{most_common_tag}', встречается в {most_common_count} отзывах.\")"
   ]
  },
  {
   "cell_type": "code",
   "execution_count": 84,
   "id": "49c20e03-6e0f-461c-862e-2d9df56a4ed2",
   "metadata": {
    "jp-MarkdownHeadingCollapsed": true
   },
   "outputs": [
    {
     "name": "stdout",
     "output_type": "stream",
     "text": [
      "Чаще всего путешественники останавливаются на: '' Stayed 1 night '' (встречается в 88083 отзывах).\n"
     ]
    }
   ],
   "source": [
    "tags_exploded = tags_lists.explode()\n",
    "# Удаляем пробелы и кавычки вне зависимости, одинарные или двойные\n",
    "tags_exploded = tags_exploded.str.strip().str.strip('\"\\'')\n",
    "# Убираем пропуски в столбце с тегами\n",
    "tags_series = df['tags'].dropna()\n",
    "# Разбиваем строки на отдельные теги\n",
    "tags_lists = tags_series.str.split(',')\n",
    "# Разворачиваем список списков в один столбец\n",
    "tags_exploded = tags_lists.explode().str.strip()\n",
    "# Фильтруем теги, которые содержат упоминание ночей (например, \"night\" или \"ночь\")\n",
    "nights_tags = tags_exploded[tags_exploded.str.contains('night|ночь', case=False, na=False)]\n",
    "# Считаем количество каждого такого тега\n",
    "nights_counts = nights_tags.value_counts()\n",
    "# Получаем самый частотный тег и количество\n",
    "most_common_nights_tag = nights_counts.idxmax()\n",
    "most_common_nights_count = nights_counts.max()\n",
    "print(f\"Чаще всего путешественники останавливаются на: '{most_common_nights_tag}' (встречается в {most_common_nights_count} отзывах).\")"
   ]
  },
  {
   "cell_type": "code",
   "execution_count": 85,
   "id": "8c1476e8-09b7-43bc-8d2b-61fef8a9a871",
   "metadata": {},
   "outputs": [
    {
     "name": "stdout",
     "output_type": "stream",
     "text": [
      "Чаще всего путешественники останавливаются на 1 ночей.\n"
     ]
    }
   ],
   "source": [
    "import pandas as pd\n",
    "import re\n",
    "# Убираем пропуски\n",
    "tags_series = df['tags'].dropna()\n",
    "# Разбиваем строки на отдельные теги\n",
    "tags_lists = tags_series.str.split(',')\n",
    "# Разворачиваем в один столбец\n",
    "tags_exploded = tags_lists.explode().str.strip().str.strip('\"\\'')\n",
    "# Фильтруем теги, содержащие слово \"night\" или \"ночь\"\n",
    "nights_tags = tags_exploded[tags_exploded.str.contains('night|ночь', case=False, na=False)]\n",
    "# Функция для извлечения числа ночей из текста\n",
    "def extract_nights(text):\n",
    "    match = re.search(r'(\\d+)', text)\n",
    "    if match:\n",
    "        return int(match.group(1))\n",
    "    return None\n",
    "# Применяем\n",
    "nights_counts = nights_tags.apply(extract_nights).dropna()\n",
    "# Считаем, какое число ночей встречается чаще всего\n",
    "most_common_nights = nights_counts.mode()\n",
    "if not most_common_nights.empty:\n",
    "    print(f\"Чаще всего путешественники останавливаются на {int(most_common_nights[0])} ночей.\")\n",
    "else:\n",
    "    print(\"Не удалось определить наиболее частое количество ночей.\")"
   ]
  },
  {
   "cell_type": "code",
   "execution_count": 4,
   "id": "82106a09-7a72-41ba-8abf-b4fa81825f08",
   "metadata": {},
   "outputs": [
    {
     "name": "stdout",
     "output_type": "stream",
     "text": [
      "<class 'pandas.core.frame.DataFrame'>\n",
      "RangeIndex: 386803 entries, 0 to 386802\n",
      "Data columns (total 17 columns):\n",
      " #   Column                                      Non-Null Count   Dtype  \n",
      "---  ------                                      --------------   -----  \n",
      " 0   hotel_address                               386803 non-null  object \n",
      " 1   additional_number_of_scoring                386803 non-null  int64  \n",
      " 2   review_date                                 386803 non-null  object \n",
      " 3   average_score                               386803 non-null  float64\n",
      " 4   hotel_name                                  386803 non-null  object \n",
      " 5   reviewer_nationality                        386803 non-null  object \n",
      " 6   negative_review                             386803 non-null  object \n",
      " 7   review_total_negative_word_counts           386803 non-null  int64  \n",
      " 8   total_number_of_reviews                     386803 non-null  int64  \n",
      " 9   positive_review                             386803 non-null  object \n",
      " 10  review_total_positive_word_counts           386803 non-null  int64  \n",
      " 11  total_number_of_reviews_reviewer_has_given  386803 non-null  int64  \n",
      " 12  reviewer_score                              386803 non-null  float64\n",
      " 13  tags                                        386803 non-null  object \n",
      " 14  days_since_review                           386803 non-null  object \n",
      " 15  lat                                         384355 non-null  float64\n",
      " 16  lng                                         384355 non-null  float64\n",
      "dtypes: float64(4), int64(5), object(8)\n",
      "memory usage: 50.2+ MB\n"
     ]
    }
   ],
   "source": [
    "df.info()"
   ]
  },
  {
   "cell_type": "markdown",
   "id": "dae053c3-b8d5-40c8-971b-54cc40c7bae5",
   "metadata": {},
   "source": [
    "##### Удаление строковых значений. Вам необходимо удалить из набора данных столбцы, данные в которых представлены не числами."
   ]
  },
  {
   "cell_type": "code",
   "execution_count": 5,
   "id": "78f5a475-4f6e-49c9-b327-118510797387",
   "metadata": {
    "scrolled": true
   },
   "outputs": [
    {
     "data": {
      "text/html": [
       "<div>\n",
       "<style scoped>\n",
       "    .dataframe tbody tr th:only-of-type {\n",
       "        vertical-align: middle;\n",
       "    }\n",
       "\n",
       "    .dataframe tbody tr th {\n",
       "        vertical-align: top;\n",
       "    }\n",
       "\n",
       "    .dataframe thead th {\n",
       "        text-align: right;\n",
       "    }\n",
       "</style>\n",
       "<table border=\"1\" class=\"dataframe\">\n",
       "  <thead>\n",
       "    <tr style=\"text-align: right;\">\n",
       "      <th></th>\n",
       "      <th>additional_number_of_scoring</th>\n",
       "      <th>average_score</th>\n",
       "      <th>review_total_negative_word_counts</th>\n",
       "      <th>total_number_of_reviews</th>\n",
       "      <th>review_total_positive_word_counts</th>\n",
       "      <th>total_number_of_reviews_reviewer_has_given</th>\n",
       "      <th>reviewer_score</th>\n",
       "      <th>lat</th>\n",
       "      <th>lng</th>\n",
       "    </tr>\n",
       "  </thead>\n",
       "  <tbody>\n",
       "    <tr>\n",
       "      <th>0</th>\n",
       "      <td>581</td>\n",
       "      <td>8.4</td>\n",
       "      <td>3</td>\n",
       "      <td>1994</td>\n",
       "      <td>4</td>\n",
       "      <td>7</td>\n",
       "      <td>10.0</td>\n",
       "      <td>51.507894</td>\n",
       "      <td>-0.143671</td>\n",
       "    </tr>\n",
       "    <tr>\n",
       "      <th>1</th>\n",
       "      <td>299</td>\n",
       "      <td>8.3</td>\n",
       "      <td>3</td>\n",
       "      <td>1361</td>\n",
       "      <td>2</td>\n",
       "      <td>14</td>\n",
       "      <td>6.3</td>\n",
       "      <td>51.521009</td>\n",
       "      <td>-0.123097</td>\n",
       "    </tr>\n",
       "  </tbody>\n",
       "</table>\n",
       "</div>"
      ],
      "text/plain": [
       "   additional_number_of_scoring  average_score  \\\n",
       "0                           581            8.4   \n",
       "1                           299            8.3   \n",
       "\n",
       "   review_total_negative_word_counts  total_number_of_reviews  \\\n",
       "0                                  3                     1994   \n",
       "1                                  3                     1361   \n",
       "\n",
       "   review_total_positive_word_counts  \\\n",
       "0                                  4   \n",
       "1                                  2   \n",
       "\n",
       "   total_number_of_reviews_reviewer_has_given  reviewer_score        lat  \\\n",
       "0                                           7            10.0  51.507894   \n",
       "1                                          14             6.3  51.521009   \n",
       "\n",
       "        lng  \n",
       "0 -0.143671  \n",
       "1 -0.123097  "
      ]
     },
     "execution_count": 5,
     "metadata": {},
     "output_type": "execute_result"
    }
   ],
   "source": [
    "df1 = df.drop(['hotel_address', 'review_date', 'hotel_name', 'hotel_address', 'review_date', 'hotel_address', 'reviewer_nationality', 'negative_review', \n",
    "               'positive_review', 'tags', 'days_since_review'], axis = 1)\n",
    "df1.head(2)"
   ]
  },
  {
   "cell_type": "code",
   "execution_count": 6,
   "id": "82546111-ec4e-4282-8376-affdc62a831b",
   "metadata": {
    "scrolled": true
   },
   "outputs": [
    {
     "name": "stdout",
     "output_type": "stream",
     "text": [
      "<class 'pandas.core.frame.DataFrame'>\n",
      "RangeIndex: 386803 entries, 0 to 386802\n",
      "Data columns (total 9 columns):\n",
      " #   Column                                      Non-Null Count   Dtype  \n",
      "---  ------                                      --------------   -----  \n",
      " 0   additional_number_of_scoring                386803 non-null  int64  \n",
      " 1   average_score                               386803 non-null  float64\n",
      " 2   review_total_negative_word_counts           386803 non-null  int64  \n",
      " 3   total_number_of_reviews                     386803 non-null  int64  \n",
      " 4   review_total_positive_word_counts           386803 non-null  int64  \n",
      " 5   total_number_of_reviews_reviewer_has_given  386803 non-null  int64  \n",
      " 6   reviewer_score                              386803 non-null  float64\n",
      " 7   lat                                         384355 non-null  float64\n",
      " 8   lng                                         384355 non-null  float64\n",
      "dtypes: float64(4), int64(5)\n",
      "memory usage: 26.6 MB\n"
     ]
    }
   ],
   "source": [
    "df1.info()"
   ]
  },
  {
   "cell_type": "markdown",
   "id": "f41fd918-43c1-4d1b-a4ff-c50f8865c1d1",
   "metadata": {},
   "source": [
    "##### Очистка от пропущенных значений. На предыдущем шаге мы делали это самым грубым из всех возможных способов, сейчас попробуйте подойти к процессу более гибко."
   ]
  },
  {
   "cell_type": "code",
   "execution_count": 7,
   "id": "fa2728d3-ce91-416c-b5da-48df68d923b5",
   "metadata": {
    "colab": {
     "base_uri": "https://localhost:8080/"
    },
    "id": "As_X7I6jl7Za",
    "jp-MarkdownHeadingCollapsed": true,
    "outputId": "3d3795b3-ab7c-4cc6-ab3d-23a4796a7b5c",
    "scrolled": true
   },
   "outputs": [
    {
     "name": "stdout",
     "output_type": "stream",
     "text": [
      "Количество дубликатов: 9090\n",
      "Размер таблицы после удаления дубликатов: (377713, 9)\n"
     ]
    }
   ],
   "source": [
    "# Проверим данные на наличие полных дубликатов:\n",
    "print('Количество дубликатов: {}'.format(df1[df1.duplicated()].shape[0]))\n",
    "# Удаляем дубликаты:\n",
    "df1 = df1.drop_duplicates()\n",
    "print('Размер таблицы после удаления дубликатов: {}'.format(df1.shape))"
   ]
  },
  {
   "cell_type": "code",
   "execution_count": 10,
   "id": "60108f03-0b33-4b0f-bee9-a483e67458a4",
   "metadata": {},
   "outputs": [],
   "source": [
    "    # Разбиваем датафрейм на части, необходимые для обучения и тестирования модели  \n",
    "    # Х — данные с информацией об отелях, у — целевая переменная (рейтинги отелей)  \n",
    "    X = df.drop(['reviewer_score'], axis = 1)  \n",
    "    y = df['reviewer_score']  \n",
    "      \n",
    "    # Загружаем специальный инструмент для разбивки:  \n",
    "    from sklearn.model_selection import train_test_split  \n",
    "      \n",
    "    # Наборы данных с меткой \"train\" будут использоваться для обучения модели, \"test\" — для тестирования.  \n",
    "    # Для тестирования мы будем использовать 25 % от исходного датасета.  \n",
    "    X_train, X_test, y_train, y_test = train_test_split(X, y, test_size=0.25, random_state=42)"
   ]
  },
  {
   "cell_type": "code",
   "execution_count": 31,
   "id": "3e58d1a6-64cd-4056-b539-71778161d529",
   "metadata": {},
   "outputs": [
    {
     "name": "stdout",
     "output_type": "stream",
     "text": [
      "<class 'pandas.core.frame.DataFrame'>\n",
      "RangeIndex: 386803 entries, 0 to 386802\n",
      "Data columns (total 10 columns):\n",
      " #   Column                                      Non-Null Count   Dtype  \n",
      "---  ------                                      --------------   -----  \n",
      " 0   additional_number_of_scoring                386803 non-null  int64  \n",
      " 1   average_score                               386803 non-null  float64\n",
      " 2   review_total_negative_word_counts           386803 non-null  int64  \n",
      " 3   total_number_of_reviews                     386803 non-null  int64  \n",
      " 4   review_total_positive_word_counts           386803 non-null  int64  \n",
      " 5   total_number_of_reviews_reviewer_has_given  386803 non-null  int64  \n",
      " 6   reviewer_score                              386803 non-null  float64\n",
      " 7   lat                                         384355 non-null  float64\n",
      " 8   lng                                         384355 non-null  float64\n",
      " 9   tags_list                                   386803 non-null  object \n",
      "dtypes: float64(4), int64(5), object(1)\n",
      "memory usage: 29.5+ MB\n"
     ]
    }
   ],
   "source": [
    "df1.info()"
   ]
  },
  {
   "cell_type": "code",
   "execution_count": 20,
   "id": "86a1af81-423a-4627-8c9c-b5e131bd40f2",
   "metadata": {},
   "outputs": [],
   "source": [
    "# Разбиваем датафрейм на части, необходимые для обучения и тестирования модели  \n",
    "# Х — данные с информацией об отелях, у — целевая переменная (рейтинги отелей)  \n",
    "X = df1.drop(['reviewer_score'], axis = 1)  \n",
    "y = df1['reviewer_score']  \n",
    "y=y.astype('int') # означает, что объект y (например, столбец pandas.Series, содержащий данные) преобразуется к типу данных целое число (integer). \n",
    "# Метод astype() из библиотеки pandas служит для изменения типа данных элементов Series или DataFrame.\n",
    "# Загружаем специальный инструмент для разбивки:  \n",
    "from sklearn.model_selection import train_test_split  \n",
    "# Наборы данных с меткой \"train\" будут использоваться для обучения модели, \"test\" — для тестирования.  \n",
    "# Для тестирования мы будем использовать 25 % от исходного датасета.  \n",
    "X_train, X_test, y_train, y_test = train_test_split(X, y, test_size=0.25, random_state=42)"
   ]
  },
  {
   "cell_type": "code",
   "execution_count": 11,
   "id": "fbed8ec2-01db-4c71-909b-fe85f071e4f6",
   "metadata": {},
   "outputs": [
    {
     "ename": "ValueError",
     "evalue": "could not convert string to float: 'Pla a de Llevant s n Sant Mart 08019 Barcelona Spain'",
     "output_type": "error",
     "traceback": [
      "\u001b[1;31m---------------------------------------------------------------------------\u001b[0m",
      "\u001b[1;31mValueError\u001b[0m                                Traceback (most recent call last)",
      "\u001b[1;32m~\\AppData\\Local\\Temp\\ipykernel_12660\\2554356100.py\u001b[0m in \u001b[0;36m?\u001b[1;34m()\u001b[0m\n\u001b[0;32m      2\u001b[0m \u001b[1;32mfrom\u001b[0m \u001b[0msklearn\u001b[0m\u001b[1;33m.\u001b[0m\u001b[0mensemble\u001b[0m \u001b[1;32mimport\u001b[0m \u001b[0mRandomForestRegressor\u001b[0m  \u001b[1;31m# пример модели\u001b[0m\u001b[1;33m\u001b[0m\u001b[1;33m\u001b[0m\u001b[0m\n\u001b[0;32m      3\u001b[0m \u001b[1;32mfrom\u001b[0m \u001b[0msklearn\u001b[0m\u001b[1;33m.\u001b[0m\u001b[0mmetrics\u001b[0m \u001b[1;32mimport\u001b[0m \u001b[0mmean_absolute_percentage_error\u001b[0m\u001b[1;33m\u001b[0m\u001b[1;33m\u001b[0m\u001b[0m\n\u001b[0;32m      4\u001b[0m \u001b[1;31m# Обучение модели (пример)\u001b[0m\u001b[1;33m\u001b[0m\u001b[1;33m\u001b[0m\u001b[0m\n\u001b[0;32m      5\u001b[0m \u001b[0mmodel\u001b[0m \u001b[1;33m=\u001b[0m \u001b[0mRandomForestRegressor\u001b[0m\u001b[1;33m(\u001b[0m\u001b[0mrandom_state\u001b[0m\u001b[1;33m=\u001b[0m\u001b[1;36m42\u001b[0m\u001b[1;33m)\u001b[0m\u001b[1;33m\u001b[0m\u001b[1;33m\u001b[0m\u001b[0m\n\u001b[1;32m----> 6\u001b[1;33m \u001b[0mmodel\u001b[0m\u001b[1;33m.\u001b[0m\u001b[0mfit\u001b[0m\u001b[1;33m(\u001b[0m\u001b[0mX_train\u001b[0m\u001b[1;33m,\u001b[0m \u001b[0my_train\u001b[0m\u001b[1;33m)\u001b[0m\u001b[1;33m\u001b[0m\u001b[1;33m\u001b[0m\u001b[0m\n\u001b[0m\u001b[0;32m      7\u001b[0m \u001b[1;31m# Предсказания на тесте\u001b[0m\u001b[1;33m\u001b[0m\u001b[1;33m\u001b[0m\u001b[0m\n\u001b[0;32m      8\u001b[0m \u001b[0my_pred\u001b[0m \u001b[1;33m=\u001b[0m \u001b[0mmodel\u001b[0m\u001b[1;33m.\u001b[0m\u001b[0mpredict\u001b[0m\u001b[1;33m(\u001b[0m\u001b[0mX_test\u001b[0m\u001b[1;33m)\u001b[0m\u001b[1;33m\u001b[0m\u001b[1;33m\u001b[0m\u001b[0m\n\u001b[0;32m      9\u001b[0m \u001b[1;31m# Расчёт MAPE\u001b[0m\u001b[1;33m\u001b[0m\u001b[1;33m\u001b[0m\u001b[0m\n",
      "\u001b[1;32m~\\AppData\\Local\\Programs\\Python\\Python312\\Lib\\site-packages\\sklearn\\base.py\u001b[0m in \u001b[0;36m?\u001b[1;34m(estimator, *args, **kwargs)\u001b[0m\n\u001b[0;32m   1385\u001b[0m                 skip_parameter_validation=(\n\u001b[0;32m   1386\u001b[0m                     \u001b[0mprefer_skip_nested_validation\u001b[0m \u001b[1;32mor\u001b[0m \u001b[0mglobal_skip_validation\u001b[0m\u001b[1;33m\u001b[0m\u001b[1;33m\u001b[0m\u001b[0m\n\u001b[0;32m   1387\u001b[0m                 \u001b[1;33m)\u001b[0m\u001b[1;33m\u001b[0m\u001b[1;33m\u001b[0m\u001b[0m\n\u001b[0;32m   1388\u001b[0m             \u001b[1;33m)\u001b[0m\u001b[1;33m:\u001b[0m\u001b[1;33m\u001b[0m\u001b[1;33m\u001b[0m\u001b[0m\n\u001b[1;32m-> 1389\u001b[1;33m                 \u001b[1;32mreturn\u001b[0m \u001b[0mfit_method\u001b[0m\u001b[1;33m(\u001b[0m\u001b[0mestimator\u001b[0m\u001b[1;33m,\u001b[0m \u001b[1;33m*\u001b[0m\u001b[0margs\u001b[0m\u001b[1;33m,\u001b[0m \u001b[1;33m**\u001b[0m\u001b[0mkwargs\u001b[0m\u001b[1;33m)\u001b[0m\u001b[1;33m\u001b[0m\u001b[1;33m\u001b[0m\u001b[0m\n\u001b[0m",
      "\u001b[1;32m~\\AppData\\Local\\Programs\\Python\\Python312\\Lib\\site-packages\\sklearn\\ensemble\\_forest.py\u001b[0m in \u001b[0;36m?\u001b[1;34m(self, X, y, sample_weight)\u001b[0m\n\u001b[0;32m    356\u001b[0m         \u001b[1;31m# Validate or convert input data\u001b[0m\u001b[1;33m\u001b[0m\u001b[1;33m\u001b[0m\u001b[0m\n\u001b[0;32m    357\u001b[0m         \u001b[1;32mif\u001b[0m \u001b[0missparse\u001b[0m\u001b[1;33m(\u001b[0m\u001b[0my\u001b[0m\u001b[1;33m)\u001b[0m\u001b[1;33m:\u001b[0m\u001b[1;33m\u001b[0m\u001b[1;33m\u001b[0m\u001b[0m\n\u001b[0;32m    358\u001b[0m             \u001b[1;32mraise\u001b[0m \u001b[0mValueError\u001b[0m\u001b[1;33m(\u001b[0m\u001b[1;34m\"sparse multilabel-indicator for y is not supported.\"\u001b[0m\u001b[1;33m)\u001b[0m\u001b[1;33m\u001b[0m\u001b[1;33m\u001b[0m\u001b[0m\n\u001b[0;32m    359\u001b[0m \u001b[1;33m\u001b[0m\u001b[0m\n\u001b[1;32m--> 360\u001b[1;33m         X, y = validate_data(\n\u001b[0m\u001b[0;32m    361\u001b[0m             \u001b[0mself\u001b[0m\u001b[1;33m,\u001b[0m\u001b[1;33m\u001b[0m\u001b[1;33m\u001b[0m\u001b[0m\n\u001b[0;32m    362\u001b[0m             \u001b[0mX\u001b[0m\u001b[1;33m,\u001b[0m\u001b[1;33m\u001b[0m\u001b[1;33m\u001b[0m\u001b[0m\n\u001b[0;32m    363\u001b[0m             \u001b[0my\u001b[0m\u001b[1;33m,\u001b[0m\u001b[1;33m\u001b[0m\u001b[1;33m\u001b[0m\u001b[0m\n",
      "\u001b[1;32m~\\AppData\\Local\\Programs\\Python\\Python312\\Lib\\site-packages\\sklearn\\utils\\validation.py\u001b[0m in \u001b[0;36m?\u001b[1;34m(_estimator, X, y, reset, validate_separately, skip_check_array, **check_params)\u001b[0m\n\u001b[0;32m   2957\u001b[0m             \u001b[1;32mif\u001b[0m \u001b[1;34m\"estimator\"\u001b[0m \u001b[1;32mnot\u001b[0m \u001b[1;32min\u001b[0m \u001b[0mcheck_y_params\u001b[0m\u001b[1;33m:\u001b[0m\u001b[1;33m\u001b[0m\u001b[1;33m\u001b[0m\u001b[0m\n\u001b[0;32m   2958\u001b[0m                 \u001b[0mcheck_y_params\u001b[0m \u001b[1;33m=\u001b[0m \u001b[1;33m{\u001b[0m\u001b[1;33m**\u001b[0m\u001b[0mdefault_check_params\u001b[0m\u001b[1;33m,\u001b[0m \u001b[1;33m**\u001b[0m\u001b[0mcheck_y_params\u001b[0m\u001b[1;33m}\u001b[0m\u001b[1;33m\u001b[0m\u001b[1;33m\u001b[0m\u001b[0m\n\u001b[0;32m   2959\u001b[0m             \u001b[0my\u001b[0m \u001b[1;33m=\u001b[0m \u001b[0mcheck_array\u001b[0m\u001b[1;33m(\u001b[0m\u001b[0my\u001b[0m\u001b[1;33m,\u001b[0m \u001b[0minput_name\u001b[0m\u001b[1;33m=\u001b[0m\u001b[1;34m\"y\"\u001b[0m\u001b[1;33m,\u001b[0m \u001b[1;33m**\u001b[0m\u001b[0mcheck_y_params\u001b[0m\u001b[1;33m)\u001b[0m\u001b[1;33m\u001b[0m\u001b[1;33m\u001b[0m\u001b[0m\n\u001b[0;32m   2960\u001b[0m         \u001b[1;32melse\u001b[0m\u001b[1;33m:\u001b[0m\u001b[1;33m\u001b[0m\u001b[1;33m\u001b[0m\u001b[0m\n\u001b[1;32m-> 2961\u001b[1;33m             \u001b[0mX\u001b[0m\u001b[1;33m,\u001b[0m \u001b[0my\u001b[0m \u001b[1;33m=\u001b[0m \u001b[0mcheck_X_y\u001b[0m\u001b[1;33m(\u001b[0m\u001b[0mX\u001b[0m\u001b[1;33m,\u001b[0m \u001b[0my\u001b[0m\u001b[1;33m,\u001b[0m \u001b[1;33m**\u001b[0m\u001b[0mcheck_params\u001b[0m\u001b[1;33m)\u001b[0m\u001b[1;33m\u001b[0m\u001b[1;33m\u001b[0m\u001b[0m\n\u001b[0m\u001b[0;32m   2962\u001b[0m         \u001b[0mout\u001b[0m \u001b[1;33m=\u001b[0m \u001b[0mX\u001b[0m\u001b[1;33m,\u001b[0m \u001b[0my\u001b[0m\u001b[1;33m\u001b[0m\u001b[1;33m\u001b[0m\u001b[0m\n\u001b[0;32m   2963\u001b[0m \u001b[1;33m\u001b[0m\u001b[0m\n\u001b[0;32m   2964\u001b[0m     \u001b[1;32mif\u001b[0m \u001b[1;32mnot\u001b[0m \u001b[0mno_val_X\u001b[0m \u001b[1;32mand\u001b[0m \u001b[0mcheck_params\u001b[0m\u001b[1;33m.\u001b[0m\u001b[0mget\u001b[0m\u001b[1;33m(\u001b[0m\u001b[1;34m\"ensure_2d\"\u001b[0m\u001b[1;33m,\u001b[0m \u001b[1;32mTrue\u001b[0m\u001b[1;33m)\u001b[0m\u001b[1;33m:\u001b[0m\u001b[1;33m\u001b[0m\u001b[1;33m\u001b[0m\u001b[0m\n",
      "\u001b[1;32m~\\AppData\\Local\\Programs\\Python\\Python312\\Lib\\site-packages\\sklearn\\utils\\validation.py\u001b[0m in \u001b[0;36m?\u001b[1;34m(X, y, accept_sparse, accept_large_sparse, dtype, order, copy, force_writeable, force_all_finite, ensure_all_finite, ensure_2d, allow_nd, multi_output, ensure_min_samples, ensure_min_features, y_numeric, estimator)\u001b[0m\n\u001b[0;32m   1366\u001b[0m         \u001b[1;33m)\u001b[0m\u001b[1;33m\u001b[0m\u001b[1;33m\u001b[0m\u001b[0m\n\u001b[0;32m   1367\u001b[0m \u001b[1;33m\u001b[0m\u001b[0m\n\u001b[0;32m   1368\u001b[0m     \u001b[0mensure_all_finite\u001b[0m \u001b[1;33m=\u001b[0m \u001b[0m_deprecate_force_all_finite\u001b[0m\u001b[1;33m(\u001b[0m\u001b[0mforce_all_finite\u001b[0m\u001b[1;33m,\u001b[0m \u001b[0mensure_all_finite\u001b[0m\u001b[1;33m)\u001b[0m\u001b[1;33m\u001b[0m\u001b[1;33m\u001b[0m\u001b[0m\n\u001b[0;32m   1369\u001b[0m \u001b[1;33m\u001b[0m\u001b[0m\n\u001b[1;32m-> 1370\u001b[1;33m     X = check_array(\n\u001b[0m\u001b[0;32m   1371\u001b[0m         \u001b[0mX\u001b[0m\u001b[1;33m,\u001b[0m\u001b[1;33m\u001b[0m\u001b[1;33m\u001b[0m\u001b[0m\n\u001b[0;32m   1372\u001b[0m         \u001b[0maccept_sparse\u001b[0m\u001b[1;33m=\u001b[0m\u001b[0maccept_sparse\u001b[0m\u001b[1;33m,\u001b[0m\u001b[1;33m\u001b[0m\u001b[1;33m\u001b[0m\u001b[0m\n\u001b[0;32m   1373\u001b[0m         \u001b[0maccept_large_sparse\u001b[0m\u001b[1;33m=\u001b[0m\u001b[0maccept_large_sparse\u001b[0m\u001b[1;33m,\u001b[0m\u001b[1;33m\u001b[0m\u001b[1;33m\u001b[0m\u001b[0m\n",
      "\u001b[1;32m~\\AppData\\Local\\Programs\\Python\\Python312\\Lib\\site-packages\\sklearn\\utils\\validation.py\u001b[0m in \u001b[0;36m?\u001b[1;34m(array, accept_sparse, accept_large_sparse, dtype, order, copy, force_writeable, force_all_finite, ensure_all_finite, ensure_non_negative, ensure_2d, allow_nd, ensure_min_samples, ensure_min_features, estimator, input_name)\u001b[0m\n\u001b[0;32m   1052\u001b[0m                         \u001b[1;33m)\u001b[0m\u001b[1;33m\u001b[0m\u001b[1;33m\u001b[0m\u001b[0m\n\u001b[0;32m   1053\u001b[0m                     \u001b[0marray\u001b[0m \u001b[1;33m=\u001b[0m \u001b[0mxp\u001b[0m\u001b[1;33m.\u001b[0m\u001b[0mastype\u001b[0m\u001b[1;33m(\u001b[0m\u001b[0marray\u001b[0m\u001b[1;33m,\u001b[0m \u001b[0mdtype\u001b[0m\u001b[1;33m,\u001b[0m \u001b[0mcopy\u001b[0m\u001b[1;33m=\u001b[0m\u001b[1;32mFalse\u001b[0m\u001b[1;33m)\u001b[0m\u001b[1;33m\u001b[0m\u001b[1;33m\u001b[0m\u001b[0m\n\u001b[0;32m   1054\u001b[0m                 \u001b[1;32melse\u001b[0m\u001b[1;33m:\u001b[0m\u001b[1;33m\u001b[0m\u001b[1;33m\u001b[0m\u001b[0m\n\u001b[0;32m   1055\u001b[0m                     \u001b[0marray\u001b[0m \u001b[1;33m=\u001b[0m \u001b[0m_asarray_with_order\u001b[0m\u001b[1;33m(\u001b[0m\u001b[0marray\u001b[0m\u001b[1;33m,\u001b[0m \u001b[0morder\u001b[0m\u001b[1;33m=\u001b[0m\u001b[0morder\u001b[0m\u001b[1;33m,\u001b[0m \u001b[0mdtype\u001b[0m\u001b[1;33m=\u001b[0m\u001b[0mdtype\u001b[0m\u001b[1;33m,\u001b[0m \u001b[0mxp\u001b[0m\u001b[1;33m=\u001b[0m\u001b[0mxp\u001b[0m\u001b[1;33m)\u001b[0m\u001b[1;33m\u001b[0m\u001b[1;33m\u001b[0m\u001b[0m\n\u001b[1;32m-> 1056\u001b[1;33m             \u001b[1;32mexcept\u001b[0m \u001b[0mComplexWarning\u001b[0m \u001b[1;32mas\u001b[0m \u001b[0mcomplex_warning\u001b[0m\u001b[1;33m:\u001b[0m\u001b[1;33m\u001b[0m\u001b[1;33m\u001b[0m\u001b[0m\n\u001b[0m\u001b[0;32m   1057\u001b[0m                 raise ValueError(\n\u001b[0;32m   1058\u001b[0m                     \u001b[1;34m\"Complex data not supported\\n{}\\n\"\u001b[0m\u001b[1;33m.\u001b[0m\u001b[0mformat\u001b[0m\u001b[1;33m(\u001b[0m\u001b[0marray\u001b[0m\u001b[1;33m)\u001b[0m\u001b[1;33m\u001b[0m\u001b[1;33m\u001b[0m\u001b[0m\n\u001b[0;32m   1059\u001b[0m                 \u001b[1;33m)\u001b[0m \u001b[1;32mfrom\u001b[0m \u001b[0mcomplex_warning\u001b[0m\u001b[1;33m\u001b[0m\u001b[1;33m\u001b[0m\u001b[0m\n",
      "\u001b[1;32m~\\AppData\\Local\\Programs\\Python\\Python312\\Lib\\site-packages\\sklearn\\utils\\_array_api.py\u001b[0m in \u001b[0;36m?\u001b[1;34m(array, dtype, order, copy, xp, device)\u001b[0m\n\u001b[0;32m    835\u001b[0m         \u001b[1;31m# Use NumPy API to support order\u001b[0m\u001b[1;33m\u001b[0m\u001b[1;33m\u001b[0m\u001b[0m\n\u001b[0;32m    836\u001b[0m         \u001b[1;32mif\u001b[0m \u001b[0mcopy\u001b[0m \u001b[1;32mis\u001b[0m \u001b[1;32mTrue\u001b[0m\u001b[1;33m:\u001b[0m\u001b[1;33m\u001b[0m\u001b[1;33m\u001b[0m\u001b[0m\n\u001b[0;32m    837\u001b[0m             \u001b[0marray\u001b[0m \u001b[1;33m=\u001b[0m \u001b[0mnumpy\u001b[0m\u001b[1;33m.\u001b[0m\u001b[0marray\u001b[0m\u001b[1;33m(\u001b[0m\u001b[0marray\u001b[0m\u001b[1;33m,\u001b[0m \u001b[0morder\u001b[0m\u001b[1;33m=\u001b[0m\u001b[0morder\u001b[0m\u001b[1;33m,\u001b[0m \u001b[0mdtype\u001b[0m\u001b[1;33m=\u001b[0m\u001b[0mdtype\u001b[0m\u001b[1;33m)\u001b[0m\u001b[1;33m\u001b[0m\u001b[1;33m\u001b[0m\u001b[0m\n\u001b[0;32m    838\u001b[0m         \u001b[1;32melse\u001b[0m\u001b[1;33m:\u001b[0m\u001b[1;33m\u001b[0m\u001b[1;33m\u001b[0m\u001b[0m\n\u001b[1;32m--> 839\u001b[1;33m             \u001b[0marray\u001b[0m \u001b[1;33m=\u001b[0m \u001b[0mnumpy\u001b[0m\u001b[1;33m.\u001b[0m\u001b[0masarray\u001b[0m\u001b[1;33m(\u001b[0m\u001b[0marray\u001b[0m\u001b[1;33m,\u001b[0m \u001b[0morder\u001b[0m\u001b[1;33m=\u001b[0m\u001b[0morder\u001b[0m\u001b[1;33m,\u001b[0m \u001b[0mdtype\u001b[0m\u001b[1;33m=\u001b[0m\u001b[0mdtype\u001b[0m\u001b[1;33m)\u001b[0m\u001b[1;33m\u001b[0m\u001b[1;33m\u001b[0m\u001b[0m\n\u001b[0m\u001b[0;32m    840\u001b[0m \u001b[1;33m\u001b[0m\u001b[0m\n\u001b[0;32m    841\u001b[0m         \u001b[1;31m# At this point array is a NumPy ndarray. We convert it to an array\u001b[0m\u001b[1;33m\u001b[0m\u001b[1;33m\u001b[0m\u001b[0m\n\u001b[0;32m    842\u001b[0m         \u001b[1;31m# container that is consistent with the input's namespace.\u001b[0m\u001b[1;33m\u001b[0m\u001b[1;33m\u001b[0m\u001b[0m\n",
      "\u001b[1;32m~\\AppData\\Local\\Programs\\Python\\Python312\\Lib\\site-packages\\pandas\\core\\generic.py\u001b[0m in \u001b[0;36m?\u001b[1;34m(self, dtype)\u001b[0m\n\u001b[0;32m   2148\u001b[0m     \u001b[1;32mdef\u001b[0m \u001b[0m__array__\u001b[0m\u001b[1;33m(\u001b[0m\u001b[0mself\u001b[0m\u001b[1;33m,\u001b[0m \u001b[0mdtype\u001b[0m\u001b[1;33m:\u001b[0m \u001b[0mnpt\u001b[0m\u001b[1;33m.\u001b[0m\u001b[0mDTypeLike\u001b[0m \u001b[1;33m|\u001b[0m \u001b[1;32mNone\u001b[0m \u001b[1;33m=\u001b[0m \u001b[1;32mNone\u001b[0m\u001b[1;33m)\u001b[0m \u001b[1;33m->\u001b[0m \u001b[0mnp\u001b[0m\u001b[1;33m.\u001b[0m\u001b[0mndarray\u001b[0m\u001b[1;33m:\u001b[0m\u001b[1;33m\u001b[0m\u001b[1;33m\u001b[0m\u001b[0m\n\u001b[0;32m   2149\u001b[0m         \u001b[0mvalues\u001b[0m \u001b[1;33m=\u001b[0m \u001b[0mself\u001b[0m\u001b[1;33m.\u001b[0m\u001b[0m_values\u001b[0m\u001b[1;33m\u001b[0m\u001b[1;33m\u001b[0m\u001b[0m\n\u001b[1;32m-> 2150\u001b[1;33m         \u001b[0marr\u001b[0m \u001b[1;33m=\u001b[0m \u001b[0mnp\u001b[0m\u001b[1;33m.\u001b[0m\u001b[0masarray\u001b[0m\u001b[1;33m(\u001b[0m\u001b[0mvalues\u001b[0m\u001b[1;33m,\u001b[0m \u001b[0mdtype\u001b[0m\u001b[1;33m=\u001b[0m\u001b[0mdtype\u001b[0m\u001b[1;33m)\u001b[0m\u001b[1;33m\u001b[0m\u001b[1;33m\u001b[0m\u001b[0m\n\u001b[0m\u001b[0;32m   2151\u001b[0m         if (\n\u001b[0;32m   2152\u001b[0m             \u001b[0mastype_is_view\u001b[0m\u001b[1;33m(\u001b[0m\u001b[0mvalues\u001b[0m\u001b[1;33m.\u001b[0m\u001b[0mdtype\u001b[0m\u001b[1;33m,\u001b[0m \u001b[0marr\u001b[0m\u001b[1;33m.\u001b[0m\u001b[0mdtype\u001b[0m\u001b[1;33m)\u001b[0m\u001b[1;33m\u001b[0m\u001b[1;33m\u001b[0m\u001b[0m\n\u001b[0;32m   2153\u001b[0m             \u001b[1;32mand\u001b[0m \u001b[0musing_copy_on_write\u001b[0m\u001b[1;33m(\u001b[0m\u001b[1;33m)\u001b[0m\u001b[1;33m\u001b[0m\u001b[1;33m\u001b[0m\u001b[0m\n",
      "\u001b[1;31mValueError\u001b[0m: could not convert string to float: 'Pla a de Llevant s n Sant Mart 08019 Barcelona Spain'"
     ]
    }
   ],
   "source": [
    "import numpy as np\n",
    "from sklearn.ensemble import RandomForestRegressor  # пример модели\n",
    "from sklearn.metrics import mean_absolute_percentage_error\n",
    "# Обучение модели (пример)\n",
    "model = RandomForestRegressor(random_state=42)\n",
    "model.fit(X_train, y_train)\n",
    "# Предсказания на тесте\n",
    "y_pred = model.predict(X_test)\n",
    "# Расчёт MAPE\n",
    "mape_value = mean_absolute_percentage_error(y_test, y_pred) * 100  # умножаем на 100 для %\n",
    "print(f\"MAPE на тестовой выборке: {mape_value:.2f}%\")"
   ]
  },
  {
   "cell_type": "markdown",
   "id": "199d714b-8b99-4203-9984-029f6430f32a",
   "metadata": {},
   "source": [
    "Означают разделение вашего DataFrame df1 на два объекта:\n",
    "X — это DataFrame, который содержит все признаки (фичи), кроме столбца 'reviewer_score'. Метод drop удаляет указанный столбец (axis=1 — значит по столбцам), и возвращает новый DataFrame без этого столбца.\n",
    "y — это Series, который содержит только целевую переменную 'reviewer_score', то есть то, что вы хотите предсказывать или использовать как метку.\n",
    "Такое разделение часто используется в задачах машинного обучения или анализа данных:\n",
    "X — входные данные (признаки) для модели,\n",
    "y — целевая переменная (ответ).\n",
    "Это позволяет отдельно подготовить и обработать признаки и целевую переменную и затем обучить модель или провести анализ.\n",
    "\n",
    "Что происходит при этом:\n",
    "\n",
    "Все значения в y будут приведены к типу int (целое число).\n",
    "Если в y изначально были значения в другом формате (например, строки чисел \"1\", \"2\" или числа с плавающей точкой 1.0, 2.7), после astype('int') они станут целыми числами (в случае с float — дробная часть отбрасывается).\n",
    "Это важно, когда функции, например из sklearn, требуют определённого типа для целевой переменной — обычно целочисленного (например, метки классов).\n",
    "\n",
    "Метод astype:\n",
    "Работает для объектов типа pandas Series или DataFrame.\n",
    "Принимает в аргумент тип данных, к которому нужно привести ('int', 'float', 'str', и др.).\n",
    "Возвращает новый объект с преобразованными типами (если не использовать параметр copy=False, тогда можно изменить объект на месте).\n",
    "\n",
    "Таким образом, ваш код y = y.astype('int') обеспечивает, что целевая переменная y будет именно целочисленной, что важно для корректной работы статистических и машинно-обучающих методов."
   ]
  },
  {
   "cell_type": "code",
   "execution_count": 9,
   "id": "19960a8e-7629-4629-93c9-32ab7f9259c1",
   "metadata": {
    "scrolled": true
   },
   "outputs": [
    {
     "ename": "NameError",
     "evalue": "name 'X' is not defined",
     "output_type": "error",
     "traceback": [
      "\u001b[1;31m---------------------------------------------------------------------------\u001b[0m",
      "\u001b[1;31mNameError\u001b[0m                                 Traceback (most recent call last)",
      "Cell \u001b[1;32mIn[9], line 1\u001b[0m\n\u001b[1;32m----> 1\u001b[0m \u001b[43mX\u001b[49m\u001b[38;5;241m.\u001b[39mhead(\u001b[38;5;241m2\u001b[39m)\n",
      "\u001b[1;31mNameError\u001b[0m: name 'X' is not defined"
     ]
    }
   ],
   "source": [
    "X.head(2)"
   ]
  },
  {
   "cell_type": "code",
   "execution_count": 109,
   "id": "b95dfd52-3776-4a58-8c77-173891d1ca49",
   "metadata": {
    "scrolled": true
   },
   "outputs": [
    {
     "name": "stdout",
     "output_type": "stream",
     "text": [
      "<class 'pandas.core.frame.DataFrame'>\n",
      "RangeIndex: 386803 entries, 0 to 386802\n",
      "Data columns (total 9 columns):\n",
      " #   Column                                      Non-Null Count   Dtype  \n",
      "---  ------                                      --------------   -----  \n",
      " 0   additional_number_of_scoring                386803 non-null  int64  \n",
      " 1   average_score                               386803 non-null  float64\n",
      " 2   review_total_negative_word_counts           386803 non-null  int64  \n",
      " 3   total_number_of_reviews                     386803 non-null  int64  \n",
      " 4   review_total_positive_word_counts           386803 non-null  int64  \n",
      " 5   total_number_of_reviews_reviewer_has_given  386803 non-null  int64  \n",
      " 6   lat                                         384355 non-null  float64\n",
      " 7   lng                                         384355 non-null  float64\n",
      " 8   tags_list                                   386803 non-null  object \n",
      "dtypes: float64(3), int64(5), object(1)\n",
      "memory usage: 26.6+ MB\n",
      "None\n"
     ]
    }
   ],
   "source": [
    "print(X.info())"
   ]
  },
  {
   "cell_type": "code",
   "execution_count": 108,
   "id": "b14e3718-6686-4ed5-9eb2-722ed75f7466",
   "metadata": {},
   "outputs": [
    {
     "name": "stdout",
     "output_type": "stream",
     "text": [
      "<class 'pandas.core.frame.DataFrame'>\n",
      "RangeIndex: 386803 entries, 0 to 386802\n",
      "Data columns (total 9 columns):\n",
      " #   Column                                      Non-Null Count   Dtype  \n",
      "---  ------                                      --------------   -----  \n",
      " 0   additional_number_of_scoring                386803 non-null  int64  \n",
      " 1   average_score                               386803 non-null  float64\n",
      " 2   review_total_negative_word_counts           386803 non-null  int64  \n",
      " 3   total_number_of_reviews                     386803 non-null  int64  \n",
      " 4   review_total_positive_word_counts           386803 non-null  int64  \n",
      " 5   total_number_of_reviews_reviewer_has_given  386803 non-null  int64  \n",
      " 6   lat                                         384355 non-null  float64\n",
      " 7   lng                                         384355 non-null  float64\n",
      " 8   tags_list                                   386803 non-null  object \n",
      "dtypes: float64(3), int64(5), object(1)\n",
      "memory usage: 26.6+ MB\n"
     ]
    },
    {
     "data": {
      "text/plain": [
       "None"
      ]
     },
     "metadata": {},
     "output_type": "display_data"
    }
   ],
   "source": [
    "display(X.info())"
   ]
  },
  {
   "cell_type": "code",
   "execution_count": 31,
   "id": "695e8b90-b0d2-4f0d-aaec-662683ac2697",
   "metadata": {},
   "outputs": [
    {
     "data": {
      "text/plain": [
       "0    10\n",
       "1     6\n",
       "Name: reviewer_score, dtype: int32"
      ]
     },
     "execution_count": 31,
     "metadata": {},
     "output_type": "execute_result"
    }
   ],
   "source": [
    "y.head(2)"
   ]
  },
  {
   "cell_type": "code",
   "execution_count": 15,
   "id": "800f46e7-9ac2-4193-8a64-58e00bf0b19f",
   "metadata": {},
   "outputs": [
    {
     "name": "stdout",
     "output_type": "stream",
     "text": [
      "<class 'pandas.core.series.Series'>\n",
      "Index: 377713 entries, 0 to 386802\n",
      "Series name: reviewer_score\n",
      "Non-Null Count   Dtype\n",
      "--------------   -----\n",
      "377713 non-null  int32\n",
      "dtypes: int32(1)\n",
      "memory usage: 4.3 MB\n"
     ]
    },
    {
     "data": {
      "text/plain": [
       "None"
      ]
     },
     "metadata": {},
     "output_type": "display_data"
    }
   ],
   "source": [
    "display(y.info())"
   ]
  },
  {
   "cell_type": "code",
   "execution_count": 32,
   "id": "606e674b-d807-4a89-87a7-5ea187239c66",
   "metadata": {},
   "outputs": [
    {
     "data": {
      "text/plain": [
       "average_score         0\n",
       "lat                   0\n",
       "lng              192243\n",
       "dtype: int64"
      ]
     },
     "execution_count": 32,
     "metadata": {},
     "output_type": "execute_result"
    }
   ],
   "source": [
    "cat_cols = ['average_score', 'lat', 'lng']\n",
    "X_filled = X[cat_cols].fillna(0)\n",
    "(X_filled < 0).sum()"
   ]
  },
  {
   "cell_type": "code",
   "execution_count": 33,
   "id": "be356698-c382-4804-9b1a-06e8a23252f5",
   "metadata": {},
   "outputs": [
    {
     "data": {
      "text/plain": [
       "average_score         0\n",
       "lat                   0\n",
       "lng              192243\n",
       "dtype: int64"
      ]
     },
     "execution_count": 33,
     "metadata": {},
     "output_type": "execute_result"
    }
   ],
   "source": [
    "#Правильная форма для выбора нескольких столбцов в pandas — использование списка с квадратными скобками: X_filled = X[['average_score', 'lat', 'lng']].fillna(0)\n",
    "X_filled = X[['average_score', 'lat', 'lng']].fillna(0) \n",
    "(X_filled < 0).sum()"
   ]
  },
  {
   "cell_type": "markdown",
   "id": "cac69cc7-23d7-4c5c-bbc6-d19a929feea6",
   "metadata": {},
   "source": [
    "Из перечисленных столбцов вашего DataFrame, основываясь на типах данных и типичной предметной логике, вот рекомендации по выделению категориальных признаков (cat_cols):\n",
    "\n",
    "Ваши колонки и их типы:\n",
    "Колонка\t                                        Non-null\tТип данных\t    Предположение о типе признака\n",
    "additional_number_of_scoring\t                386803\t    int64\t        Скорее количественный (числовой)\n",
    "average_score\t                                386803\t    float64\t        Скорее числовой (например, рейтинг)\n",
    "review_total_negative_word_counts\t            386803\t    int64\t        Количественный (число слов)\n",
    "total_number_of_reviews\t                        386803\t    int64\t        Количественный\n",
    "review_total_positive_word_counts\t            386803\t    int64\t        Количественный\n",
    "total_number_of_reviews_reviewer_has_given      386803\t    int64\t        Количественный\n",
    "reviewer_score\t                                386803\t    float64\t        Целевая переменная (обычно числовая)\n",
    "lat\t                                            384355\t    float64\t        Географическая координата — непрерывный числовой\n",
    "lng\t                                            384355\t    float64\t        Географическая координата — непрерывный числовой\n",
    "\n",
    "Категориальные признаки (cat_cols)\n",
    "Категориальные (категории, классы, метки) — обычно признаками считаются дискретные переменные с конечным числом уникальных значений, значения которых нельзя упорядочивать как обычные числа (или по которым модель должна учитывать категорию, а не величину).\n",
    "\n",
    "В вашем списке нет явно категориальных признаков с типом object или явных категорий (строковых, например, название города, тип, класс и т.п.).\n",
    "\n",
    "Возможные варианты для категориальных:\n",
    "Если у вас считаются average_score, lat, lng как категории (например, когда average_score дискретизируется в группы, или lat, lng округляются до района/зоны), тогда их можно считать категориальными после дискретизации/бинирования.\n",
    "\n",
    "Если у вас есть отдельный список категориальных признаков, например, в исходных данных есть другие колонки с типом object или с небольшим числом уникальных значений, их надо добавить в cat_cols.\n",
    "\n",
    "Итоговая рекомендация\n",
    "Пока что, с указанными данными, все перечисленные признаки считаются числовыми (непрерывными).\n",
    "\n",
    "Если вы хотите выделить категориальные признаки для задачи, то, скорее всего, вам нужно:\n",
    "\n",
    "создать категориальные признаки, дискретизировав числовые (например, average_score разделить на категории: низкий, средний, высокий);\n",
    "\n",
    "либо добавить в cat_cols признаки из других переменных, не перечисленных здесь.\n",
    "\n",
    "Пример\n",
    "python\n",
    "num_cols = [\n",
    "    'additional_number_of_scoring',\n",
    "    'average_score',\n",
    "    'review_total_negative_word_counts',\n",
    "    'total_number_of_reviews',\n",
    "    'review_total_positive_word_counts',\n",
    "    'total_number_of_reviews_reviewer_has_given',\n",
    "    'lat',\n",
    "    'lng'\n",
    "]\n",
    "\n",
    "# Если дискретизировать average_score и координаты для категорий:\n",
    "cat_cols = ['discretized_average_score', 'discretized_lat', 'discretized_lng']\n",
    "Если вы предоставите список с другими признаками или поясните, какие колонки в исходных данных являются категориальными, смогу точнее помочь с cat_cols.\n",
    "\n",
    "Если хотите, могу помочь с кодом для преобразования числовых признаков в категориальные (дискретизация и т.п.)."
   ]
  },
  {
   "cell_type": "code",
   "execution_count": 34,
   "id": "18763165-cb93-4b29-8b65-8069b21aa19e",
   "metadata": {},
   "outputs": [],
   "source": [
    "# непрерывные признаки\n",
    "num_cols = ['total_number_of_reviews', 'review_total_negative_word_counts', ...]\n",
    "# категориальные признаки\n",
    "cat_cols = ['average_score', 'lat', 'lng']"
   ]
  },
  {
   "cell_type": "markdown",
   "id": "a5259251-0982-436e-a4db-f979902b41d1",
   "metadata": {},
   "source": [
    "вы разделяете признаки (фичи) на два типа:\n",
    "\n",
    "1. Непрерывные признаки (num_cols)\n",
    "Это числовые переменные, которые могут принимать любые значения из некоторого числового диапазона, обычно с дробной частью или большим количеством уникальных значений. Примеры:\n",
    "Количество отзывов (total_number_of_reviews)\n",
    "Количество негативных слов в отзыве (review_total_negative_word_counts)\n",
    "Эти признаки обычно используете в виде исходных чисел или подвергаете масштабированию и нормализации.\n",
    "\n",
    "2. Категориальные признаки (cat_cols)\n",
    "Это признаки, которые принимают ограниченный набор уникальных значений, часто качественные переменные или дискретные категории, например:\n",
    "Средний балл (average_score) — если это дискретное значение с фиксированным набором вариантов\n",
    "Географические координаты или коды районов (lat, но обычно координаты считаются числовыми, однако, если у вас они представлены как категории, например по зонам)\n",
    "Категориальные признаки обычно не интерпретируются как числа с порядком или расстоянием, а используются как метки категорий. Перед применением моделей часто кодируют их через dummy-переменные (one-hot encoding) или применяют методы статистического анализа для категорий.\n",
    "\n",
    "Почему важно разделять?\n",
    "Для непрерывных признаков обычно используют методы регрессии, масштабирование и дискретизацию.\n",
    "Для категориальных признаков — методы кодирования, статистические тесты для категорий (например, хи-квадрат), или специфические модели.\n",
    "\n",
    "Что делать с ... в списках?\n",
    "Троеточие ... — это сокращение, чтобы показать, что список признаков длинный или вы его продолжаете заполнить. Вам нужно заменить ... на реальные имена признаков вашего DataFrame.\n",
    "Если хотите, могу помочь помочь с корректным определением непрерывных и категориальных признаков по вашему набору данных или с конкретным примером кода."
   ]
  },
  {
   "cell_type": "code",
   "execution_count": null,
   "id": "f1b54d47-6992-4f04-b2fd-29c7b978dbaf",
   "metadata": {},
   "outputs": [],
   "source": [
    "cat_cols = ['average_score', 'lat', 'some_other_cat_feature', 'another_cat_feature']"
   ]
  },
  {
   "cell_type": "code",
   "execution_count": 35,
   "id": "2b343f8a-c0af-4ca0-b145-3cfcab8c8a05",
   "metadata": {
    "jp-MarkdownHeadingCollapsed": true,
    "scrolled": true
   },
   "outputs": [
    {
     "data": {
      "text/html": [
       "<div>\n",
       "<style scoped>\n",
       "    .dataframe tbody tr th:only-of-type {\n",
       "        vertical-align: middle;\n",
       "    }\n",
       "\n",
       "    .dataframe tbody tr th {\n",
       "        vertical-align: top;\n",
       "    }\n",
       "\n",
       "    .dataframe thead th {\n",
       "        text-align: right;\n",
       "    }\n",
       "</style>\n",
       "<table border=\"1\" class=\"dataframe\">\n",
       "  <thead>\n",
       "    <tr style=\"text-align: right;\">\n",
       "      <th></th>\n",
       "      <th>average_score</th>\n",
       "      <th>lat</th>\n",
       "      <th>lng</th>\n",
       "    </tr>\n",
       "  </thead>\n",
       "  <tbody>\n",
       "    <tr>\n",
       "      <th>0</th>\n",
       "      <td>8.4</td>\n",
       "      <td>51.507894</td>\n",
       "      <td>-0.143671</td>\n",
       "    </tr>\n",
       "    <tr>\n",
       "      <th>1</th>\n",
       "      <td>8.3</td>\n",
       "      <td>51.521009</td>\n",
       "      <td>-0.123097</td>\n",
       "    </tr>\n",
       "    <tr>\n",
       "      <th>2</th>\n",
       "      <td>8.9</td>\n",
       "      <td>48.845377</td>\n",
       "      <td>2.325643</td>\n",
       "    </tr>\n",
       "    <tr>\n",
       "      <th>3</th>\n",
       "      <td>7.5</td>\n",
       "      <td>48.888697</td>\n",
       "      <td>2.394540</td>\n",
       "    </tr>\n",
       "    <tr>\n",
       "      <th>4</th>\n",
       "      <td>8.5</td>\n",
       "      <td>52.385601</td>\n",
       "      <td>4.847060</td>\n",
       "    </tr>\n",
       "    <tr>\n",
       "      <th>...</th>\n",
       "      <td>...</td>\n",
       "      <td>...</td>\n",
       "      <td>...</td>\n",
       "    </tr>\n",
       "    <tr>\n",
       "      <th>386798</th>\n",
       "      <td>9.0</td>\n",
       "      <td>51.494028</td>\n",
       "      <td>-0.191050</td>\n",
       "    </tr>\n",
       "    <tr>\n",
       "      <th>386799</th>\n",
       "      <td>8.4</td>\n",
       "      <td>48.192379</td>\n",
       "      <td>16.399451</td>\n",
       "    </tr>\n",
       "    <tr>\n",
       "      <th>386800</th>\n",
       "      <td>6.8</td>\n",
       "      <td>51.520795</td>\n",
       "      <td>-0.131084</td>\n",
       "    </tr>\n",
       "    <tr>\n",
       "      <th>386801</th>\n",
       "      <td>8.1</td>\n",
       "      <td>51.515125</td>\n",
       "      <td>-0.160066</td>\n",
       "    </tr>\n",
       "    <tr>\n",
       "      <th>386802</th>\n",
       "      <td>9.0</td>\n",
       "      <td>51.493109</td>\n",
       "      <td>-0.190208</td>\n",
       "    </tr>\n",
       "  </tbody>\n",
       "</table>\n",
       "<p>386803 rows × 3 columns</p>\n",
       "</div>"
      ],
      "text/plain": [
       "        average_score        lat        lng\n",
       "0                 8.4  51.507894  -0.143671\n",
       "1                 8.3  51.521009  -0.123097\n",
       "2                 8.9  48.845377   2.325643\n",
       "3                 7.5  48.888697   2.394540\n",
       "4                 8.5  52.385601   4.847060\n",
       "...               ...        ...        ...\n",
       "386798            9.0  51.494028  -0.191050\n",
       "386799            8.4  48.192379  16.399451\n",
       "386800            6.8  51.520795  -0.131084\n",
       "386801            8.1  51.515125  -0.160066\n",
       "386802            9.0  51.493109  -0.190208\n",
       "\n",
       "[386803 rows x 3 columns]"
      ]
     },
     "execution_count": 35,
     "metadata": {},
     "output_type": "execute_result"
    }
   ],
   "source": [
    "# Если есть отрицательные значения, то:\n",
    "# Попробуйте заменить их на 0 или другое подходящее неотрицательное значение, если это логично по задаче:\n",
    "X_filled = X[cat_cols].fillna(0)\n",
    "X_filled"
   ]
  },
  {
   "cell_type": "code",
   "execution_count": 16,
   "id": "71c3e975-d1a2-463f-b893-cfce9bbcb2c3",
   "metadata": {},
   "outputs": [
    {
     "data": {
      "text/html": [
       "<div>\n",
       "<style scoped>\n",
       "    .dataframe tbody tr th:only-of-type {\n",
       "        vertical-align: middle;\n",
       "    }\n",
       "\n",
       "    .dataframe tbody tr th {\n",
       "        vertical-align: top;\n",
       "    }\n",
       "\n",
       "    .dataframe thead th {\n",
       "        text-align: right;\n",
       "    }\n",
       "</style>\n",
       "<table border=\"1\" class=\"dataframe\">\n",
       "  <thead>\n",
       "    <tr style=\"text-align: right;\">\n",
       "      <th></th>\n",
       "      <th>average_score</th>\n",
       "      <th>lat</th>\n",
       "      <th>lng</th>\n",
       "    </tr>\n",
       "  </thead>\n",
       "  <tbody>\n",
       "    <tr>\n",
       "      <th>0</th>\n",
       "      <td>8.4</td>\n",
       "      <td>51.507894</td>\n",
       "      <td>0.000000</td>\n",
       "    </tr>\n",
       "    <tr>\n",
       "      <th>1</th>\n",
       "      <td>8.3</td>\n",
       "      <td>51.521009</td>\n",
       "      <td>0.000000</td>\n",
       "    </tr>\n",
       "    <tr>\n",
       "      <th>2</th>\n",
       "      <td>8.9</td>\n",
       "      <td>48.845377</td>\n",
       "      <td>2.325643</td>\n",
       "    </tr>\n",
       "    <tr>\n",
       "      <th>3</th>\n",
       "      <td>7.5</td>\n",
       "      <td>48.888697</td>\n",
       "      <td>2.394540</td>\n",
       "    </tr>\n",
       "    <tr>\n",
       "      <th>4</th>\n",
       "      <td>8.5</td>\n",
       "      <td>52.385601</td>\n",
       "      <td>4.847060</td>\n",
       "    </tr>\n",
       "    <tr>\n",
       "      <th>...</th>\n",
       "      <td>...</td>\n",
       "      <td>...</td>\n",
       "      <td>...</td>\n",
       "    </tr>\n",
       "    <tr>\n",
       "      <th>386798</th>\n",
       "      <td>9.0</td>\n",
       "      <td>51.494028</td>\n",
       "      <td>0.000000</td>\n",
       "    </tr>\n",
       "    <tr>\n",
       "      <th>386799</th>\n",
       "      <td>8.4</td>\n",
       "      <td>48.192379</td>\n",
       "      <td>16.399451</td>\n",
       "    </tr>\n",
       "    <tr>\n",
       "      <th>386800</th>\n",
       "      <td>6.8</td>\n",
       "      <td>51.520795</td>\n",
       "      <td>0.000000</td>\n",
       "    </tr>\n",
       "    <tr>\n",
       "      <th>386801</th>\n",
       "      <td>8.1</td>\n",
       "      <td>51.515125</td>\n",
       "      <td>0.000000</td>\n",
       "    </tr>\n",
       "    <tr>\n",
       "      <th>386802</th>\n",
       "      <td>9.0</td>\n",
       "      <td>51.493109</td>\n",
       "      <td>0.000000</td>\n",
       "    </tr>\n",
       "  </tbody>\n",
       "</table>\n",
       "<p>377713 rows × 3 columns</p>\n",
       "</div>"
      ],
      "text/plain": [
       "        average_score        lat        lng\n",
       "0                 8.4  51.507894   0.000000\n",
       "1                 8.3  51.521009   0.000000\n",
       "2                 8.9  48.845377   2.325643\n",
       "3                 7.5  48.888697   2.394540\n",
       "4                 8.5  52.385601   4.847060\n",
       "...               ...        ...        ...\n",
       "386798            9.0  51.494028   0.000000\n",
       "386799            8.4  48.192379  16.399451\n",
       "386800            6.8  51.520795   0.000000\n",
       "386801            8.1  51.515125   0.000000\n",
       "386802            9.0  51.493109   0.000000\n",
       "\n",
       "[377713 rows x 3 columns]"
      ]
     },
     "execution_count": 16,
     "metadata": {},
     "output_type": "execute_result"
    }
   ],
   "source": [
    "X_filled = X_filled.clip(lower=0)  # Заменяет все отрицательные значения на 0\n",
    "X_filled"
   ]
  },
  {
   "cell_type": "code",
   "execution_count": null,
   "id": "fbd83426-6d6b-4f54-b96a-a4b4b04c6c1d",
   "metadata": {},
   "outputs": [],
   "source": [
    "print(X.dtypes)"
   ]
  },
  {
   "cell_type": "code",
   "execution_count": 36,
   "id": "6ee11f56-f385-419f-bedf-52f2adfaf630",
   "metadata": {},
   "outputs": [],
   "source": [
    "from sklearn.impute import SimpleImputer"
   ]
  },
  {
   "cell_type": "code",
   "execution_count": 113,
   "id": "1882b9ad-d778-4bfd-9328-7503502e77e4",
   "metadata": {},
   "outputs": [],
   "source": [
    "# Выделите числовые и категориальные признаки отдельно:\n",
    "num_cols = X.select_dtypes(include=['number']).columns\n",
    "cat_cols = X.select_dtypes(include=['object', 'category']).columns"
   ]
  },
  {
   "cell_type": "code",
   "execution_count": 38,
   "id": "39093ef3-6611-4d2a-aa91-edbeac9f5065",
   "metadata": {},
   "outputs": [],
   "source": [
    "imputer_num = SimpleImputer(strategy='mean') # Для числовых признаков используйте SimpleImputer с подходящей стратегией:\n",
    "X_num_filled = imputer_num.fit_transform(X[num_cols])"
   ]
  },
  {
   "cell_type": "code",
   "execution_count": 39,
   "id": "6f207bd5-c2ac-4f47-90ea-4000ac8d2782",
   "metadata": {},
   "outputs": [],
   "source": [
    "import numpy as np\n",
    "X_num_filled_df = pd.DataFrame(X_num_filled, columns=num_cols, index=X.index)"
   ]
  },
  {
   "cell_type": "code",
   "execution_count": 40,
   "id": "88662ade-ef32-4db0-bd92-2acbc38e049c",
   "metadata": {},
   "outputs": [
    {
     "data": {
      "text/plain": [
       "Index(['tags_list'], dtype='object')"
      ]
     },
     "metadata": {},
     "output_type": "display_data"
    },
    {
     "data": {
      "text/plain": [
       "pandas.core.indexes.base.Index"
      ]
     },
     "metadata": {},
     "output_type": "display_data"
    }
   ],
   "source": [
    "display(cat_cols)\n",
    "display(type(cat_cols))"
   ]
  },
  {
   "cell_type": "markdown",
   "id": "84295e2a-7da4-4e17-9bcf-e75730bc3847",
   "metadata": {},
   "source": [
    "builtins — это специальный модуль в Python, который содержит все встроенные функции, типы и исключения, доступные по умолчанию без необходимости их импортировать.\n",
    "Например, встроенные функции print(), open(), len(), типы int, list и др. на самом деле доступны через модуль builtins: например, builtins.print, builtins.open.\n",
    "\n",
    "*import builtins\n",
    "builtins.print(\"Это вызов встроенной функции print, даже если print был переопределён\")*"
   ]
  },
  {
   "cell_type": "code",
   "execution_count": 41,
   "id": "b51f3146-77e5-4aaf-923e-9712b5167e41",
   "metadata": {},
   "outputs": [
    {
     "name": "stdout",
     "output_type": "stream",
     "text": [
      "Index(['tags_list'], dtype='object')\n",
      "<class 'pandas.core.indexes.base.Index'>\n"
     ]
    }
   ],
   "source": [
    "import builtins\n",
    "builtins.print(cat_cols)\n",
    "builtins.print(type(cat_cols))"
   ]
  },
  {
   "cell_type": "code",
   "execution_count": 114,
   "id": "68765f50-ee8e-4f83-a9ef-d5c3ea741e63",
   "metadata": {},
   "outputs": [
    {
     "ename": "TypeError",
     "evalue": "unhashable type: 'list'",
     "output_type": "error",
     "traceback": [
      "\u001b[1;31m---------------------------------------------------------------------------\u001b[0m",
      "\u001b[1;31mTypeError\u001b[0m                                 Traceback (most recent call last)",
      "Cell \u001b[1;32mIn[114], line 2\u001b[0m\n\u001b[0;32m      1\u001b[0m imputer_cat \u001b[38;5;241m=\u001b[39m SimpleImputer(strategy\u001b[38;5;241m=\u001b[39m\u001b[38;5;124m'\u001b[39m\u001b[38;5;124mmost_frequent\u001b[39m\u001b[38;5;124m'\u001b[39m) \u001b[38;5;66;03m# Для категориальных — можно заполнить наиболее частым значением:\u001b[39;00m\n\u001b[1;32m----> 2\u001b[0m X_cat_filled \u001b[38;5;241m=\u001b[39m \u001b[43mimputer_cat\u001b[49m\u001b[38;5;241;43m.\u001b[39;49m\u001b[43mfit_transform\u001b[49m\u001b[43m(\u001b[49m\u001b[43mX\u001b[49m\u001b[43m[\u001b[49m\u001b[43mcat_cols\u001b[49m\u001b[43m]\u001b[49m\u001b[43m)\u001b[49m\n",
      "File \u001b[1;32m~\\AppData\\Local\\Programs\\Python\\Python312\\Lib\\site-packages\\sklearn\\utils\\_set_output.py:319\u001b[0m, in \u001b[0;36m_wrap_method_output.<locals>.wrapped\u001b[1;34m(self, X, *args, **kwargs)\u001b[0m\n\u001b[0;32m    317\u001b[0m \u001b[38;5;129m@wraps\u001b[39m(f)\n\u001b[0;32m    318\u001b[0m \u001b[38;5;28;01mdef\u001b[39;00m \u001b[38;5;21mwrapped\u001b[39m(\u001b[38;5;28mself\u001b[39m, X, \u001b[38;5;241m*\u001b[39margs, \u001b[38;5;241m*\u001b[39m\u001b[38;5;241m*\u001b[39mkwargs):\n\u001b[1;32m--> 319\u001b[0m     data_to_wrap \u001b[38;5;241m=\u001b[39m \u001b[43mf\u001b[49m\u001b[43m(\u001b[49m\u001b[38;5;28;43mself\u001b[39;49m\u001b[43m,\u001b[49m\u001b[43m \u001b[49m\u001b[43mX\u001b[49m\u001b[43m,\u001b[49m\u001b[43m \u001b[49m\u001b[38;5;241;43m*\u001b[39;49m\u001b[43margs\u001b[49m\u001b[43m,\u001b[49m\u001b[43m \u001b[49m\u001b[38;5;241;43m*\u001b[39;49m\u001b[38;5;241;43m*\u001b[39;49m\u001b[43mkwargs\u001b[49m\u001b[43m)\u001b[49m\n\u001b[0;32m    320\u001b[0m     \u001b[38;5;28;01mif\u001b[39;00m \u001b[38;5;28misinstance\u001b[39m(data_to_wrap, \u001b[38;5;28mtuple\u001b[39m):\n\u001b[0;32m    321\u001b[0m         \u001b[38;5;66;03m# only wrap the first output for cross decomposition\u001b[39;00m\n\u001b[0;32m    322\u001b[0m         return_tuple \u001b[38;5;241m=\u001b[39m (\n\u001b[0;32m    323\u001b[0m             _wrap_data_with_container(method, data_to_wrap[\u001b[38;5;241m0\u001b[39m], X, \u001b[38;5;28mself\u001b[39m),\n\u001b[0;32m    324\u001b[0m             \u001b[38;5;241m*\u001b[39mdata_to_wrap[\u001b[38;5;241m1\u001b[39m:],\n\u001b[0;32m    325\u001b[0m         )\n",
      "File \u001b[1;32m~\\AppData\\Local\\Programs\\Python\\Python312\\Lib\\site-packages\\sklearn\\base.py:918\u001b[0m, in \u001b[0;36mTransformerMixin.fit_transform\u001b[1;34m(self, X, y, **fit_params)\u001b[0m\n\u001b[0;32m    903\u001b[0m         warnings\u001b[38;5;241m.\u001b[39mwarn(\n\u001b[0;32m    904\u001b[0m             (\n\u001b[0;32m    905\u001b[0m                 \u001b[38;5;124mf\u001b[39m\u001b[38;5;124m\"\u001b[39m\u001b[38;5;124mThis object (\u001b[39m\u001b[38;5;132;01m{\u001b[39;00m\u001b[38;5;28mself\u001b[39m\u001b[38;5;241m.\u001b[39m\u001b[38;5;18m__class__\u001b[39m\u001b[38;5;241m.\u001b[39m\u001b[38;5;18m__name__\u001b[39m\u001b[38;5;132;01m}\u001b[39;00m\u001b[38;5;124m) has a `transform`\u001b[39m\u001b[38;5;124m\"\u001b[39m\n\u001b[1;32m   (...)\u001b[0m\n\u001b[0;32m    913\u001b[0m             \u001b[38;5;167;01mUserWarning\u001b[39;00m,\n\u001b[0;32m    914\u001b[0m         )\n\u001b[0;32m    916\u001b[0m \u001b[38;5;28;01mif\u001b[39;00m y \u001b[38;5;129;01mis\u001b[39;00m \u001b[38;5;28;01mNone\u001b[39;00m:\n\u001b[0;32m    917\u001b[0m     \u001b[38;5;66;03m# fit method of arity 1 (unsupervised transformation)\u001b[39;00m\n\u001b[1;32m--> 918\u001b[0m     \u001b[38;5;28;01mreturn\u001b[39;00m \u001b[38;5;28;43mself\u001b[39;49m\u001b[38;5;241;43m.\u001b[39;49m\u001b[43mfit\u001b[49m\u001b[43m(\u001b[49m\u001b[43mX\u001b[49m\u001b[43m,\u001b[49m\u001b[43m \u001b[49m\u001b[38;5;241;43m*\u001b[39;49m\u001b[38;5;241;43m*\u001b[39;49m\u001b[43mfit_params\u001b[49m\u001b[43m)\u001b[49m\u001b[38;5;241m.\u001b[39mtransform(X)\n\u001b[0;32m    919\u001b[0m \u001b[38;5;28;01melse\u001b[39;00m:\n\u001b[0;32m    920\u001b[0m     \u001b[38;5;66;03m# fit method of arity 2 (supervised transformation)\u001b[39;00m\n\u001b[0;32m    921\u001b[0m     \u001b[38;5;28;01mreturn\u001b[39;00m \u001b[38;5;28mself\u001b[39m\u001b[38;5;241m.\u001b[39mfit(X, y, \u001b[38;5;241m*\u001b[39m\u001b[38;5;241m*\u001b[39mfit_params)\u001b[38;5;241m.\u001b[39mtransform(X)\n",
      "File \u001b[1;32m~\\AppData\\Local\\Programs\\Python\\Python312\\Lib\\site-packages\\sklearn\\base.py:1389\u001b[0m, in \u001b[0;36m_fit_context.<locals>.decorator.<locals>.wrapper\u001b[1;34m(estimator, *args, **kwargs)\u001b[0m\n\u001b[0;32m   1382\u001b[0m     estimator\u001b[38;5;241m.\u001b[39m_validate_params()\n\u001b[0;32m   1384\u001b[0m \u001b[38;5;28;01mwith\u001b[39;00m config_context(\n\u001b[0;32m   1385\u001b[0m     skip_parameter_validation\u001b[38;5;241m=\u001b[39m(\n\u001b[0;32m   1386\u001b[0m         prefer_skip_nested_validation \u001b[38;5;129;01mor\u001b[39;00m global_skip_validation\n\u001b[0;32m   1387\u001b[0m     )\n\u001b[0;32m   1388\u001b[0m ):\n\u001b[1;32m-> 1389\u001b[0m     \u001b[38;5;28;01mreturn\u001b[39;00m \u001b[43mfit_method\u001b[49m\u001b[43m(\u001b[49m\u001b[43mestimator\u001b[49m\u001b[43m,\u001b[49m\u001b[43m \u001b[49m\u001b[38;5;241;43m*\u001b[39;49m\u001b[43margs\u001b[49m\u001b[43m,\u001b[49m\u001b[43m \u001b[49m\u001b[38;5;241;43m*\u001b[39;49m\u001b[38;5;241;43m*\u001b[39;49m\u001b[43mkwargs\u001b[49m\u001b[43m)\u001b[49m\n",
      "File \u001b[1;32m~\\AppData\\Local\\Programs\\Python\\Python312\\Lib\\site-packages\\sklearn\\impute\\_base.py:451\u001b[0m, in \u001b[0;36mSimpleImputer.fit\u001b[1;34m(self, X, y)\u001b[0m\n\u001b[0;32m    447\u001b[0m     \u001b[38;5;28mself\u001b[39m\u001b[38;5;241m.\u001b[39mstatistics_ \u001b[38;5;241m=\u001b[39m \u001b[38;5;28mself\u001b[39m\u001b[38;5;241m.\u001b[39m_sparse_fit(\n\u001b[0;32m    448\u001b[0m         X, \u001b[38;5;28mself\u001b[39m\u001b[38;5;241m.\u001b[39mstrategy, \u001b[38;5;28mself\u001b[39m\u001b[38;5;241m.\u001b[39mmissing_values, fill_value\n\u001b[0;32m    449\u001b[0m     )\n\u001b[0;32m    450\u001b[0m \u001b[38;5;28;01melse\u001b[39;00m:\n\u001b[1;32m--> 451\u001b[0m     \u001b[38;5;28mself\u001b[39m\u001b[38;5;241m.\u001b[39mstatistics_ \u001b[38;5;241m=\u001b[39m \u001b[38;5;28;43mself\u001b[39;49m\u001b[38;5;241;43m.\u001b[39;49m\u001b[43m_dense_fit\u001b[49m\u001b[43m(\u001b[49m\n\u001b[0;32m    452\u001b[0m \u001b[43m        \u001b[49m\u001b[43mX\u001b[49m\u001b[43m,\u001b[49m\u001b[43m \u001b[49m\u001b[38;5;28;43mself\u001b[39;49m\u001b[38;5;241;43m.\u001b[39;49m\u001b[43mstrategy\u001b[49m\u001b[43m,\u001b[49m\u001b[43m \u001b[49m\u001b[38;5;28;43mself\u001b[39;49m\u001b[38;5;241;43m.\u001b[39;49m\u001b[43mmissing_values\u001b[49m\u001b[43m,\u001b[49m\u001b[43m \u001b[49m\u001b[43mfill_value\u001b[49m\n\u001b[0;32m    453\u001b[0m \u001b[43m    \u001b[49m\u001b[43m)\u001b[49m\n\u001b[0;32m    455\u001b[0m \u001b[38;5;28;01mreturn\u001b[39;00m \u001b[38;5;28mself\u001b[39m\n",
      "File \u001b[1;32m~\\AppData\\Local\\Programs\\Python\\Python312\\Lib\\site-packages\\sklearn\\impute\\_base.py:563\u001b[0m, in \u001b[0;36mSimpleImputer._dense_fit\u001b[1;34m(self, X, strategy, missing_values, fill_value)\u001b[0m\n\u001b[0;32m    561\u001b[0m             most_frequent[i] \u001b[38;5;241m=\u001b[39m \u001b[38;5;241m0\u001b[39m\n\u001b[0;32m    562\u001b[0m         \u001b[38;5;28;01melse\u001b[39;00m:\n\u001b[1;32m--> 563\u001b[0m             most_frequent[i] \u001b[38;5;241m=\u001b[39m \u001b[43m_most_frequent\u001b[49m\u001b[43m(\u001b[49m\u001b[43mrow\u001b[49m\u001b[43m,\u001b[49m\u001b[43m \u001b[49m\u001b[43mnp\u001b[49m\u001b[38;5;241;43m.\u001b[39;49m\u001b[43mnan\u001b[49m\u001b[43m,\u001b[49m\u001b[43m \u001b[49m\u001b[38;5;241;43m0\u001b[39;49m\u001b[43m)\u001b[49m\n\u001b[0;32m    565\u001b[0m     \u001b[38;5;28;01mreturn\u001b[39;00m most_frequent\n\u001b[0;32m    567\u001b[0m \u001b[38;5;66;03m# Constant\u001b[39;00m\n",
      "File \u001b[1;32m~\\AppData\\Local\\Programs\\Python\\Python312\\Lib\\site-packages\\sklearn\\impute\\_base.py:50\u001b[0m, in \u001b[0;36m_most_frequent\u001b[1;34m(array, extra_value, n_repeat)\u001b[0m\n\u001b[0;32m     46\u001b[0m \u001b[38;5;28;01mif\u001b[39;00m array\u001b[38;5;241m.\u001b[39msize \u001b[38;5;241m>\u001b[39m \u001b[38;5;241m0\u001b[39m:\n\u001b[0;32m     47\u001b[0m     \u001b[38;5;28;01mif\u001b[39;00m array\u001b[38;5;241m.\u001b[39mdtype \u001b[38;5;241m==\u001b[39m \u001b[38;5;28mobject\u001b[39m:\n\u001b[0;32m     48\u001b[0m         \u001b[38;5;66;03m# scipy.stats.mode is slow with object dtype array.\u001b[39;00m\n\u001b[0;32m     49\u001b[0m         \u001b[38;5;66;03m# Python Counter is more efficient\u001b[39;00m\n\u001b[1;32m---> 50\u001b[0m         counter \u001b[38;5;241m=\u001b[39m \u001b[43mCounter\u001b[49m\u001b[43m(\u001b[49m\u001b[43marray\u001b[49m\u001b[43m)\u001b[49m\n\u001b[0;32m     51\u001b[0m         most_frequent_count \u001b[38;5;241m=\u001b[39m counter\u001b[38;5;241m.\u001b[39mmost_common(\u001b[38;5;241m1\u001b[39m)[\u001b[38;5;241m0\u001b[39m][\u001b[38;5;241m1\u001b[39m]\n\u001b[0;32m     52\u001b[0m         \u001b[38;5;66;03m# tie breaking similarly to scipy.stats.mode\u001b[39;00m\n",
      "File \u001b[1;32m~\\AppData\\Local\\Programs\\Python\\Python312\\Lib\\collections\\__init__.py:607\u001b[0m, in \u001b[0;36mCounter.__init__\u001b[1;34m(self, iterable, **kwds)\u001b[0m\n\u001b[0;32m    596\u001b[0m \u001b[38;5;250m\u001b[39m\u001b[38;5;124;03m'''Create a new, empty Counter object.  And if given, count elements\u001b[39;00m\n\u001b[0;32m    597\u001b[0m \u001b[38;5;124;03mfrom an input iterable.  Or, initialize the count from another mapping\u001b[39;00m\n\u001b[0;32m    598\u001b[0m \u001b[38;5;124;03mof elements to their counts.\u001b[39;00m\n\u001b[1;32m   (...)\u001b[0m\n\u001b[0;32m    604\u001b[0m \n\u001b[0;32m    605\u001b[0m \u001b[38;5;124;03m'''\u001b[39;00m\n\u001b[0;32m    606\u001b[0m \u001b[38;5;28msuper\u001b[39m()\u001b[38;5;241m.\u001b[39m\u001b[38;5;21m__init__\u001b[39m()\n\u001b[1;32m--> 607\u001b[0m \u001b[38;5;28;43mself\u001b[39;49m\u001b[38;5;241;43m.\u001b[39;49m\u001b[43mupdate\u001b[49m\u001b[43m(\u001b[49m\u001b[43miterable\u001b[49m\u001b[43m,\u001b[49m\u001b[43m \u001b[49m\u001b[38;5;241;43m*\u001b[39;49m\u001b[38;5;241;43m*\u001b[39;49m\u001b[43mkwds\u001b[49m\u001b[43m)\u001b[49m\n",
      "File \u001b[1;32m~\\AppData\\Local\\Programs\\Python\\Python312\\Lib\\collections\\__init__.py:699\u001b[0m, in \u001b[0;36mCounter.update\u001b[1;34m(self, iterable, **kwds)\u001b[0m\n\u001b[0;32m    697\u001b[0m             \u001b[38;5;28msuper\u001b[39m()\u001b[38;5;241m.\u001b[39mupdate(iterable)\n\u001b[0;32m    698\u001b[0m     \u001b[38;5;28;01melse\u001b[39;00m:\n\u001b[1;32m--> 699\u001b[0m         \u001b[43m_count_elements\u001b[49m\u001b[43m(\u001b[49m\u001b[38;5;28;43mself\u001b[39;49m\u001b[43m,\u001b[49m\u001b[43m \u001b[49m\u001b[43miterable\u001b[49m\u001b[43m)\u001b[49m\n\u001b[0;32m    700\u001b[0m \u001b[38;5;28;01mif\u001b[39;00m kwds:\n\u001b[0;32m    701\u001b[0m     \u001b[38;5;28mself\u001b[39m\u001b[38;5;241m.\u001b[39mupdate(kwds)\n",
      "\u001b[1;31mTypeError\u001b[0m: unhashable type: 'list'"
     ]
    }
   ],
   "source": [
    "imputer_cat = SimpleImputer(strategy='most_frequent') # Для категориальных — можно заполнить наиболее частым значением:\n",
    "X_cat_filled = imputer_cat.fit_transform(X[cat_cols])"
   ]
  },
  {
   "cell_type": "code",
   "execution_count": 42,
   "id": "bceaf75f-536e-4fc7-bba0-daca9f08ff79",
   "metadata": {},
   "outputs": [
    {
     "name": "stdout",
     "output_type": "stream",
     "text": [
      "<class 'pandas.core.frame.DataFrame'>\n",
      "(386803, 9)\n",
      "   additional_number_of_scoring  average_score  \\\n",
      "0                           581            8.4   \n",
      "1                           299            8.3   \n",
      "2                            32            8.9   \n",
      "3                            34            7.5   \n",
      "4                           914            8.5   \n",
      "\n",
      "   review_total_negative_word_counts  total_number_of_reviews  \\\n",
      "0                                  3                     1994   \n",
      "1                                  3                     1361   \n",
      "2                                  6                      406   \n",
      "3                                  0                      607   \n",
      "4                                  4                     7586   \n",
      "\n",
      "   review_total_positive_word_counts  \\\n",
      "0                                  4   \n",
      "1                                  2   \n",
      "2                                  0   \n",
      "3                                 11   \n",
      "4                                 20   \n",
      "\n",
      "   total_number_of_reviews_reviewer_has_given        lat       lng  \\\n",
      "0                                           7  51.507894 -0.143671   \n",
      "1                                          14  51.521009 -0.123097   \n",
      "2                                          14  48.845377  2.325643   \n",
      "3                                           8  48.888697  2.394540   \n",
      "4                                          10  52.385601  4.847060   \n",
      "\n",
      "                                           tags_list  \n",
      "0  [ Leisure trip ,  Couple ,  Studio Suite ,  St...  \n",
      "1  [ Business trip ,  Couple ,  Standard Double R...  \n",
      "2  [ Leisure trip ,  Solo traveler ,  Modern Doub...  \n",
      "3  [ Leisure trip ,  Solo traveler ,  Standard Ro...  \n",
      "4  [ Business trip ,  Couple ,  Standard Double o...  \n"
     ]
    }
   ],
   "source": [
    "print(type(X))\n",
    "print(X.shape)\n",
    "print(X.head())"
   ]
  },
  {
   "cell_type": "code",
   "execution_count": 43,
   "id": "830db023-76dc-4b47-89da-4865460e2944",
   "metadata": {},
   "outputs": [],
   "source": [
    "df_clean = pd.concat([X, y], axis=1).dropna()\n",
    "X_clean = df_clean[X.columns]\n",
    "y_clean = df_clean[y.name]"
   ]
  },
  {
   "cell_type": "code",
   "execution_count": 44,
   "id": "769964e3-8d4a-4251-b96d-2a84d2c174f6",
   "metadata": {},
   "outputs": [],
   "source": [
    "from sklearn.impute import SimpleImputer\n",
    "imputer = SimpleImputer(strategy='constant', fill_value=0)  # Или 'mean', 'median' и т.д.\n",
    "X_filled = imputer.fit_transform(X)\n",
    "# Если y тоже содержит NaN (редко), можно обработать аналогично"
   ]
  },
  {
   "cell_type": "code",
   "execution_count": 45,
   "id": "32576a6c-d9d1-430c-97f1-dd4eebbe58f5",
   "metadata": {},
   "outputs": [
    {
     "name": "stdout",
     "output_type": "stream",
     "text": [
      "Index(['tags_list'], dtype='object')\n"
     ]
    }
   ],
   "source": [
    "print(cat_cols)"
   ]
  },
  {
   "cell_type": "code",
   "execution_count": null,
   "id": "9b7bbdc6-a217-46fd-a8f9-cde1ba8567cc",
   "metadata": {
    "scrolled": true
   },
   "outputs": [],
   "source": [
    "y=y.astype('int')\n",
    "\n",
    "...\n",
    "from sklearn.feature_selection import chi2 # хи-квадрат\n",
    "\n",
    "imp_cat = pd.Series(chi2(X[cat_cols], y)[0], index=cat_cols)\n",
    "# imp_cat.sort_values(inplace = True)\n",
    "# imp_cat.plot(kind = 'barh')"
   ]
  },
  {
   "cell_type": "code",
   "execution_count": null,
   "id": "905f38f8-918b-4441-b5b8-3de12272d5ed",
   "metadata": {},
   "outputs": [],
   "source": [
    "делает следующее:\n",
    "\n",
    "1. y = y.astype('int') — приводите целевую переменную к целочисленному типу, что требуется для работы со многими функциями машинного обучения и статистики.\n",
    "   \n",
    "2. chi2(X[cat_cols], y) — вызывает функцию из sklearn.feature_selection, которая для каждого признака из набора категориальных признаков X[cat_cols] вычисляет статистику теста хи-квадрат относительно целевой переменной y.\n",
    " - Входные данные X[cat_cols] должны содержать только неотрицательные числовые значения (частоты, индикаторы), без пропусков (NaN).\n",
    " - Цель теста — выявить, насколько каждый категориальный признак статистически связан с целевой переменной. Высокое значение статистики хи-квадрат говорит о сильной зависимости (значимости) признака для       классификации.\n",
    "\n",
    "3. chi2(X[cat_cols], y) — берёт первый элемент результата, это массив значений статистик хи-квадрат для всех признаков.\n",
    "\n",
    "4. pd.Series(..., index=cat_cols) — создаёт pandas Series, где индексами являются имена признаков, а значениями — вычисленные статистики хи-квадрат. Это удобно для анализа и визуализации.\n",
    "\n",
    "5. imp_cat.sort_values(inplace=True) — сортирует признаки по возрастанию статистики хи-квадрат, чтобы легче было видеть самые и наименее значимые.\n",
    "\n",
    "6. imp_cat.plot(kind='barh') — строит горизонтальную столбчатую диаграмму, визуализируя значимость категориальных признаков по их статистике хи-квадрат.\n",
    "\n",
    "Таким образом, этот код помогает быстро оценить важность категориальных признаков относительно целевой переменной для задачи классификации, отделяя информативные признаки от менее значимых.\n",
    "\n",
    "Для полной корректной работы:\n",
    " - X[cat_cols] не должен содержать NaN и отрицательных значений. При необходимости предварительно обработайте данные (заполните или удалите пропуски, преобразуйте категориальные переменные в числовые          индикаторы).\n",
    " - Целевая переменная y должна содержать метки классов в целочисленном виде.\n",
    "\n",
    "Это классический подход для отбора признаков (feature selection) на основе теста хи-квадрат с помощью sklearn.\n",
    "Если хотите, могу помочь с примером подготовки данных для этого теста или с интерпретацией результатов.\n",
    " - sklearn.feature_selection.chi2 documentation: computes chi-squared statistics for non-negative features relative to class labels\n",
    " - https://scikit-learn.org/stable/modules/generated/sklearn.feature_selection.chi2.html"
   ]
  },
  {
   "cell_type": "markdown",
   "id": "2c354bb6-57c1-47bd-aea0-cd057ac2f12f",
   "metadata": {},
   "source": [
    "# Импортируем необходимые библиотеки:  \n",
    "from sklearn.ensemble import RandomForestRegressor # инструмент для создания и обучения модели  \n",
    "from sklearn import metrics # инструменты для оценки точности модели  \n",
    "      \n",
    "# Создаём модель  \n",
    "regr = RandomForestRegressor(n_estimators=100)  \n",
    "      \n",
    "# Обучаем модель на тестовом наборе данных  \n",
    "regr.fit(X_train, y_train)  \n",
    "        \n",
    "# Используем обученную модель для предсказания рейтинга отелей в тестовой выборке.  \n",
    "# Предсказанные значения записываем в переменную y_pred  \n",
    "y_pred = regr.predict(X_test)"
   ]
  },
  {
   "cell_type": "code",
   "execution_count": 46,
   "id": "4566477c-f65b-4a18-bb59-6895cf42e62b",
   "metadata": {},
   "outputs": [],
   "source": [
    "from sklearn.impute import SimpleImputer\n",
    "imputer = SimpleImputer(strategy='mean')  # или 'median', или другая стратегия\n",
    "X_num_filled = imputer.fit_transform(X[num_cols])"
   ]
  },
  {
   "cell_type": "code",
   "execution_count": 47,
   "id": "c538b35c-6ba7-4ec9-9735-37cebc27b6de",
   "metadata": {},
   "outputs": [
    {
     "name": "stdout",
     "output_type": "stream",
     "text": [
      "0\n"
     ]
    }
   ],
   "source": [
    "import numpy as np\n",
    "print(np.isnan(X_num_filled).sum())  # должно быть 0"
   ]
  },
  {
   "cell_type": "code",
   "execution_count": 48,
   "id": "df34096d-661c-4fd3-a96e-dda2ed23ef0d",
   "metadata": {},
   "outputs": [
    {
     "data": {
      "text/plain": [
       "<Axes: >"
      ]
     },
     "execution_count": 48,
     "metadata": {},
     "output_type": "execute_result"
    },
    {
     "data": {
      "image/png": "[encoded data removed]",
      "text/plain": [
       "<Figure size 640x480 with 1 Axes>"
      ]
     },
     "metadata": {},
     "output_type": "display_data"
    }
   ],
   "source": [
    "from sklearn.feature_selection import f_classif\n",
    "imp_num = pd.Series(f_classif(X_num_filled, y)[0], index=num_cols)\n",
    "imp_num.sort_values(inplace=True)\n",
    "imp_num.plot(kind='barh')"
   ]
  },
  {
   "cell_type": "code",
   "execution_count": 49,
   "id": "5781bf7f-bff7-4f44-804f-69365bea464c",
   "metadata": {},
   "outputs": [
    {
     "name": "stdout",
     "output_type": "stream",
     "text": [
      "В наборе данных представлено 1492 уникальных отелей.\n"
     ]
    }
   ],
   "source": [
    "num_hotels = df['hotel_name'].nunique()\n",
    "print(f\"В наборе данных представлено {num_hotels} уникальных отелей.\")"
   ]
  },
  {
   "cell_type": "code",
   "execution_count": 98,
   "id": "5e8b3c76-604d-4ea4-a252-d78dd0e5ef00",
   "metadata": {},
   "outputs": [
    {
     "name": "stdout",
     "output_type": "stream",
     "text": [
      "Всего уникальных тегов: 2413\n"
     ]
    }
   ],
   "source": [
    "# Предположим, столбец с тегами называется 'tags'\n",
    "# Разобьём все теги на отдельные элементы и составим множество уникальных\n",
    "all_tags = df['tags'].dropna().str.split(',')  # Разделение по запятой, если другой разделитель — замените\n",
    "unique_tags = set(tag.strip() for sublist in all_tags for tag in sublist)\n",
    "num_unique_tags = len(unique_tags)\n",
    "print(f\"Всего уникальных тегов: {num_unique_tags}\")"
   ]
  },
  {
   "cell_type": "code",
   "execution_count": 99,
   "id": "dca3d9ef-b33f-4fc8-aadb-98395d5381af",
   "metadata": {},
   "outputs": [
    {
     "name": "stdout",
     "output_type": "stream",
     "text": [
      "Всего уникальных тегов: 2413\n"
     ]
    }
   ],
   "source": [
    "# Убираем пропуски\n",
    "tags_series = df['tags'].dropna()\n",
    "# Разбиваем строки на списки тегов (уточните разделитель, если не запятая)\n",
    "tags_lists = tags_series.str.split(',')\n",
    "# Разворачиваем в один плоский список\n",
    "all_tags = [tag.strip().strip('\"\\'' ) for sublist in tags_lists for tag in sublist if tag.strip()]\n",
    "# Получаем множество уникальных тегов\n",
    "unique_tags = set(all_tags)\n",
    "num_unique_tags = len(unique_tags)\n",
    "print(f\"Всего уникальных тегов: {num_unique_tags}\")"
   ]
  },
  {
   "cell_type": "markdown",
   "id": "6a1625ac-649e-433d-ab69-f85cc018d4ca",
   "metadata": {},
   "source": [
    "##### Чтобы проверить структуру столбца tags в вашем DataFrame df, можно выполнить несколько простых действий:"
   ]
  },
  {
   "cell_type": "code",
   "execution_count": 100,
   "id": "f1b52588-f330-4632-af6e-3a848a3ecb3c",
   "metadata": {},
   "outputs": [
    {
     "name": "stdout",
     "output_type": "stream",
     "text": [
      "0    [' Leisure trip ', ' Couple ', ' Studio Suite ...\n",
      "1    [' Business trip ', ' Couple ', ' Standard Dou...\n",
      "2    [' Leisure trip ', ' Solo traveler ', ' Modern...\n",
      "3    [' Leisure trip ', ' Solo traveler ', ' Standa...\n",
      "4    [' Business trip ', ' Couple ', ' Standard Dou...\n",
      "5    [' Business trip ', ' Solo traveler ', ' Super...\n",
      "6    [' Leisure trip ', ' Couple ', ' Double Room N...\n",
      "7    [' Leisure trip ', ' Couple ', ' Superior Doub...\n",
      "8    [' Leisure trip ', ' Couple ', ' Double Room '...\n",
      "9    [' Leisure trip ', ' Couple ', ' Twin Hilton G...\n",
      "Name: tags, dtype: object\n"
     ]
    }
   ],
   "source": [
    "# Посмотреть первые несколько значений столбца:\n",
    "print(df['tags'].head(10))\n",
    "# Это покажет, как выглядят теги — есть ли там списки, строки с разделителями, кавычки и т.д."
   ]
  },
  {
   "cell_type": "code",
   "execution_count": 101,
   "id": "cf48b66a-0abc-4856-925e-8957b3ed27ac",
   "metadata": {},
   "outputs": [
    {
     "name": "stdout",
     "output_type": "stream",
     "text": [
      "object\n"
     ]
    }
   ],
   "source": [
    "# Узнать тип данных столбца:\n",
    "print(df['tags'].dtype)"
   ]
  },
  {
   "cell_type": "code",
   "execution_count": 102,
   "id": "51711b62-b02a-408c-a102-00de75d92e76",
   "metadata": {
    "scrolled": true
   },
   "outputs": [
    {
     "name": "stdout",
     "output_type": "stream",
     "text": [
      "[\"[' Leisure trip ', ' Couple ', ' Studio Suite ', ' Stayed 2 nights ', ' Submitted from a mobile device ']\"\n",
      " \"[' Business trip ', ' Couple ', ' Standard Double Room ', ' Stayed 1 night ']\"\n",
      " \"[' Leisure trip ', ' Solo traveler ', ' Modern Double Room Echo ', ' Stayed 3 nights ', ' Submitted from a mobile device ']\"\n",
      " \"[' Leisure trip ', ' Solo traveler ', ' Standard Room with 1 Double Bed ', ' Stayed 1 night ']\"\n",
      " \"[' Business trip ', ' Couple ', ' Standard Double or Twin Room ', ' Stayed 6 nights ']\"\n",
      " \"[' Business trip ', ' Solo traveler ', ' Superior Twin Room ', ' Stayed 1 night ', ' Submitted from a mobile device ']\"\n",
      " \"[' Leisure trip ', ' Couple ', ' Double Room Non Smoking ', ' Stayed 1 night ', ' Submitted from a mobile device ']\"\n",
      " \"[' Leisure trip ', ' Couple ', ' Superior Double Room ', ' Stayed 4 nights ']\"\n",
      " \"[' Leisure trip ', ' Couple ', ' Double Room ', ' Stayed 1 night ']\"\n",
      " \"[' Leisure trip ', ' Couple ', ' Twin Hilton Guest Room ', ' Stayed 1 night ', ' Submitted from a mobile device ']\"]\n",
      "tags\n",
      "[' Leisure trip ', ' Couple ', ' Double Room ', ' Stayed 1 night ', ' Submitted from a mobile device ']              3853\n",
      "[' Leisure trip ', ' Couple ', ' Standard Double Room ', ' Stayed 1 night ', ' Submitted from a mobile device ']     3673\n",
      "[' Leisure trip ', ' Couple ', ' Superior Double Room ', ' Stayed 1 night ', ' Submitted from a mobile device ']     3274\n",
      "[' Leisure trip ', ' Couple ', ' Deluxe Double Room ', ' Stayed 1 night ', ' Submitted from a mobile device ']       2964\n",
      "[' Leisure trip ', ' Couple ', ' Double Room ', ' Stayed 2 nights ', ' Submitted from a mobile device ']             2454\n",
      "[' Leisure trip ', ' Couple ', ' Superior Double Room ', ' Stayed 2 nights ', ' Submitted from a mobile device ']    2330\n",
      "[' Leisure trip ', ' Couple ', ' Double Room ', ' Stayed 1 night ']                                                  2181\n",
      "[' Leisure trip ', ' Couple ', ' Standard Double Room ', ' Stayed 2 nights ', ' Submitted from a mobile device ']    2163\n",
      "[' Leisure trip ', ' Couple ', ' Standard Double Room ', ' Stayed 1 night ']                                         1965\n",
      "[' Leisure trip ', ' Couple ', ' Deluxe Double Room ', ' Stayed 2 nights ', ' Submitted from a mobile device ']      1771\n",
      "Name: count, dtype: int64\n"
     ]
    }
   ],
   "source": [
    "# Посмотреть распределение или примеры уникальных значений:\n",
    "print(df['tags'].dropna().unique()[:10])\n",
    "# или\n",
    "print(df['tags'].value_counts().head(10))"
   ]
  },
  {
   "cell_type": "code",
   "execution_count": 103,
   "id": "b3156b65-f9ee-4393-94f7-0fa8f03ad036",
   "metadata": {},
   "outputs": [
    {
     "name": "stdout",
     "output_type": "stream",
     "text": [
      "0\n",
      "Empty DataFrame\n",
      "Columns: [hotel_address, additional_number_of_scoring, review_date, average_score, hotel_name, reviewer_nationality, negative_review, review_total_negative_word_counts, total_number_of_reviews, positive_review, review_total_positive_word_counts, total_number_of_reviews_reviewer_has_given, reviewer_score, tags, days_since_review, lat, lng, tags_list]\n",
      "Index: []\n"
     ]
    }
   ],
   "source": [
    "# Проверить, есть ли пустые или необычные значения:\n",
    "print(df['tags'].isna().sum())    # количество пропусков\n",
    "print(df.loc[df['tags'].isna()])  # строки с пропусками в tags\n",
    "# означает, что в вашем DataFrame сейчас нет ни одной строки данных (пустой DataFrame)."
   ]
  },
  {
   "cell_type": "code",
   "execution_count": 104,
   "id": "5c33caa5-29d4-4ae2-8e06-917e8fa663d5",
   "metadata": {},
   "outputs": [
    {
     "name": "stdout",
     "output_type": "stream",
     "text": [
      "[' Leisure trip ', ' Couple ', ' Studio Suite ', ' Stayed 2 nights ', ' Submitted from a mobile device ']\n"
     ]
    }
   ],
   "source": [
    "# Если значения в виде строк со списками или скобками, можно вывести срез по конкретной строке для подробного анализа:\n",
    "print(df.loc[0, 'tags'])"
   ]
  },
  {
   "cell_type": "code",
   "execution_count": 105,
   "id": "b5bc29fe-71e0-42e4-813a-f9e93fd4802d",
   "metadata": {
    "scrolled": true
   },
   "outputs": [
    {
     "name": "stdout",
     "output_type": "stream",
     "text": [
      "(386803, 18)\n",
      "                                       hotel_address  \\\n",
      "0  Stratton Street Mayfair Westminster Borough Lo...   \n",
      "1  130 134 Southampton Row Camden London WC1B 5AF...   \n",
      "2   151 bis Rue de Rennes 6th arr 75006 Paris France   \n",
      "3  216 Avenue Jean Jaures 19th arr 75019 Paris Fr...   \n",
      "4          Molenwerf 1 1014 AG Amsterdam Netherlands   \n",
      "\n",
      "   additional_number_of_scoring review_date  average_score  \\\n",
      "0                           581   2/19/2016            8.4   \n",
      "1                           299   1/12/2017            8.3   \n",
      "2                            32  10/18/2016            8.9   \n",
      "3                            34   9/22/2015            7.5   \n",
      "4                           914    3/5/2016            8.5   \n",
      "\n",
      "                                  hotel_name reviewer_nationality  \\\n",
      "0                         The May Fair Hotel      United Kingdom    \n",
      "1            Mercure London Bloomsbury Hotel      United Kingdom    \n",
      "2          Legend Saint Germain by Elegancia               China    \n",
      "3  Mercure Paris 19 Philharmonie La Villette      United Kingdom    \n",
      "4                Golden Tulip Amsterdam West              Poland    \n",
      "\n",
      "       negative_review  review_total_negative_word_counts  \\\n",
      "0             Leaving                                   3   \n",
      "1       poor breakfast                                  3   \n",
      "2   No kettle in room                                   6   \n",
      "3          No Negative                                  0   \n",
      "4         Torn sheets                                   4   \n",
      "\n",
      "   total_number_of_reviews                                    positive_review  \\\n",
      "0                     1994                                 Staff were amazing   \n",
      "1                     1361                                           location   \n",
      "2                      406                                        No Positive   \n",
      "3                      607   Friendly staff quiet comfortable room spotles...   \n",
      "4                     7586   The staff was very friendly and helpful Break...   \n",
      "\n",
      "   review_total_positive_word_counts  \\\n",
      "0                                  4   \n",
      "1                                  2   \n",
      "2                                  0   \n",
      "3                                 11   \n",
      "4                                 20   \n",
      "\n",
      "   total_number_of_reviews_reviewer_has_given  reviewer_score  \\\n",
      "0                                           7            10.0   \n",
      "1                                          14             6.3   \n",
      "2                                          14             7.5   \n",
      "3                                           8            10.0   \n",
      "4                                          10             9.6   \n",
      "\n",
      "                                                tags days_since_review  \\\n",
      "0  [' Leisure trip ', ' Couple ', ' Studio Suite ...           531 day   \n",
      "1  [' Business trip ', ' Couple ', ' Standard Dou...           203 day   \n",
      "2  [' Leisure trip ', ' Solo traveler ', ' Modern...           289 day   \n",
      "3  [' Leisure trip ', ' Solo traveler ', ' Standa...           681 day   \n",
      "4  [' Business trip ', ' Couple ', ' Standard Dou...           516 day   \n",
      "\n",
      "         lat       lng                                          tags_list  \n",
      "0  51.507894 -0.143671  [ Leisure trip ,  Couple ,  Studio Suite ,  St...  \n",
      "1  51.521009 -0.123097  [ Business trip ,  Couple ,  Standard Double R...  \n",
      "2  48.845377  2.325643  [ Leisure trip ,  Solo traveler ,  Modern Doub...  \n",
      "3  48.888697  2.394540  [ Leisure trip ,  Solo traveler ,  Standard Ro...  \n",
      "4  52.385601  4.847060  [ Business trip ,  Couple ,  Standard Double o...  \n"
     ]
    }
   ],
   "source": [
    "# Из-за этого, естественно, при попытке вывести примеры из столбца tags или других ничего не покажется.\n",
    "# Что проверить дальше\n",
    "#  Убедитесь, что данные действительно загружены в DataFrame df и он не пустой:\n",
    "print(df.shape)  # Покажет количество строк и столбцов\n",
    "print(df.head())  # Покажет первые несколько строк с данными"
   ]
  },
  {
   "cell_type": "code",
   "execution_count": 106,
   "id": "821b953e-f1dd-45e3-bf57-24b83a16c67e",
   "metadata": {},
   "outputs": [
    {
     "name": "stdout",
     "output_type": "stream",
     "text": [
      "Всего уникальных тегов: 2368\n"
     ]
    }
   ],
   "source": [
    "import ast\n",
    "# Преобразуем текстовое представление списка в настоящий список Python\n",
    "df['tags_list'] = df['tags'].apply(ast.literal_eval)\n",
    "# Теперь можно работать со списками тегов\n",
    "# Разворачиваем списки тегов в одну плоскость\n",
    "all_tags = [tag.strip() for sublist in df['tags_list'] for tag in sublist]\n",
    "# Считаем уникальные теги\n",
    "unique_tags = set(all_tags)\n",
    "num_unique_tags = len(unique_tags)\n",
    "print(f\"Всего уникальных тегов: {num_unique_tags}\")"
   ]
  },
  {
   "cell_type": "code",
   "execution_count": 59,
   "id": "1196973f-bc22-4629-92ee-0a22db44ae6d",
   "metadata": {},
   "outputs": [
    {
     "name": "stdout",
     "output_type": "stream",
     "text": [
      "Тег, представленный в наибольшем числе отзывов: '[' Leisure trip '', встречается в 312768 отзывах.\n"
     ]
    }
   ],
   "source": [
    "# Убираем пропуски в столбце с тегами\n",
    "tags_series = df['tags'].dropna()\n",
    "# Разбиваем строки на списки тегов по запятой\n",
    "tags_lists = tags_series.str.split(',')\n",
    "# Преобразуем в DataFrame, где каждая строка — один тег\n",
    "tags_exploded = tags_lists.explode().str.strip()\n",
    "# Считаем количество вхождений каждого тега (в скольких отзывах он встречается)\n",
    "tag_counts = tags_exploded.value_counts()\n",
    "# Получаем самый частотный тег\n",
    "most_common_tag = tag_counts.idxmax()\n",
    "most_common_count = tag_counts.max()\n",
    "print(f\"Тег, представленный в наибольшем числе отзывов: '{most_common_tag}', встречается в {most_common_count} отзывах.\")"
   ]
  },
  {
   "cell_type": "code",
   "execution_count": 60,
   "id": "219a5779-41b7-4507-b6d3-de5f8a64dc5c",
   "metadata": {},
   "outputs": [
    {
     "name": "stdout",
     "output_type": "stream",
     "text": [
      "Чаще всего путешественники останавливаются на: '' Stayed 1 night '' (встречается в 88083 отзывах).\n"
     ]
    }
   ],
   "source": [
    "tags_exploded = tags_lists.explode()\n",
    "# Удаляем пробелы и кавычки вне зависимости, одинарные или двойные\n",
    "tags_exploded = tags_exploded.str.strip().str.strip('\"\\'')\n",
    "# Убираем пропуски в столбце с тегами\n",
    "tags_series = df['tags'].dropna()\n",
    "# Разбиваем строки на отдельные теги\n",
    "tags_lists = tags_series.str.split(',')\n",
    "# Разворачиваем список списков в один столбец\n",
    "tags_exploded = tags_lists.explode().str.strip()\n",
    "# Фильтруем теги, которые содержат упоминание ночей (например, \"night\" или \"ночь\")\n",
    "nights_tags = tags_exploded[tags_exploded.str.contains('night|ночь', case=False, na=False)]\n",
    "# Считаем количество каждого такого тега\n",
    "nights_counts = nights_tags.value_counts()\n",
    "# Получаем самый частотный тег и количество\n",
    "most_common_nights_tag = nights_counts.idxmax()\n",
    "most_common_nights_count = nights_counts.max()\n",
    "print(f\"Чаще всего путешественники останавливаются на: '{most_common_nights_tag}' (встречается в {most_common_nights_count} отзывах).\")"
   ]
  },
  {
   "cell_type": "code",
   "execution_count": 61,
   "id": "f6b3989d-634f-4e42-b103-729d43104eaa",
   "metadata": {},
   "outputs": [
    {
     "name": "stdout",
     "output_type": "stream",
     "text": [
      "Чаще всего путешественники останавливаются на 1 ночей.\n"
     ]
    }
   ],
   "source": [
    "import pandas as pd\n",
    "import re\n",
    "# Убираем пропуски\n",
    "tags_series = df['tags'].dropna()\n",
    "# Разбиваем строки на отдельные теги\n",
    "tags_lists = tags_series.str.split(',')\n",
    "# Разворачиваем в один столбец\n",
    "tags_exploded = tags_lists.explode().str.strip().str.strip('\"\\'')\n",
    "# Фильтруем теги, содержащие слово \"night\" или \"ночь\"\n",
    "nights_tags = tags_exploded[tags_exploded.str.contains('night|ночь', case=False, na=False)]\n",
    "# Функция для извлечения числа ночей из текста\n",
    "def extract_nights(text):\n",
    "    match = re.search(r'(\\d+)', text)\n",
    "    if match:\n",
    "        return int(match.group(1))\n",
    "    return None\n",
    "# Применяем\n",
    "nights_counts = nights_tags.apply(extract_nights).dropna()\n",
    "# Считаем, какое число ночей встречается чаще всего\n",
    "most_common_nights = nights_counts.mode()\n",
    "if not most_common_nights.empty:\n",
    "    print(f\"Чаще всего путешественники останавливаются на {int(most_common_nights[0])} ночей.\")\n",
    "else:\n",
    "    print(\"Не удалось определить наиболее частое количество ночей.\")"
   ]
  },
  {
   "cell_type": "code",
   "execution_count": 90,
   "id": "fbf186bf-57d0-46e7-a306-93eafb1bf003",
   "metadata": {},
   "outputs": [],
   "source": [
    "X_train = np.array(X_train).reshape(-1, 1)\n",
    "X_test = np.array(X_test).reshape(-1, 1)\n"
   ]
  },
  {
   "cell_type": "code",
   "execution_count": 91,
   "id": "82879127-081a-4c2b-9883-7fc6b4db2009",
   "metadata": {},
   "outputs": [],
   "source": [
    "y_train = np.array(y_train).ravel()\n",
    "y_test = np.array(y_test).ravel()\n"
   ]
  },
  {
   "cell_type": "code",
   "execution_count": 92,
   "id": "71929087-9e2a-4f9c-8937-5fd6fb801f51",
   "metadata": {},
   "outputs": [
    {
     "ename": "ValueError",
     "evalue": "setting an array element with a sequence.",
     "output_type": "error",
     "traceback": [
      "\u001b[1;31m---------------------------------------------------------------------------\u001b[0m",
      "\u001b[1;31mTypeError\u001b[0m                                 Traceback (most recent call last)",
      "\u001b[1;31mTypeError\u001b[0m: float() argument must be a string or a real number, not 'list'",
      "\nThe above exception was the direct cause of the following exception:\n",
      "\u001b[1;31mValueError\u001b[0m                                Traceback (most recent call last)",
      "Cell \u001b[1;32mIn[92], line 16\u001b[0m\n\u001b[0;32m     13\u001b[0m y_test \u001b[38;5;241m=\u001b[39m np\u001b[38;5;241m.\u001b[39marray(y_test)\u001b[38;5;241m.\u001b[39mravel()\n\u001b[0;32m     15\u001b[0m model \u001b[38;5;241m=\u001b[39m RandomForestRegressor(random_state\u001b[38;5;241m=\u001b[39m\u001b[38;5;241m42\u001b[39m)\n\u001b[1;32m---> 16\u001b[0m \u001b[43mmodel\u001b[49m\u001b[38;5;241;43m.\u001b[39;49m\u001b[43mfit\u001b[49m\u001b[43m(\u001b[49m\u001b[43mX_train\u001b[49m\u001b[43m,\u001b[49m\u001b[43m \u001b[49m\u001b[43my_train\u001b[49m\u001b[43m)\u001b[49m\n\u001b[0;32m     18\u001b[0m y_pred \u001b[38;5;241m=\u001b[39m model\u001b[38;5;241m.\u001b[39mpredict(X_test)\n\u001b[0;32m     19\u001b[0m mape_value \u001b[38;5;241m=\u001b[39m mean_absolute_percentage_error(y_test, y_pred) \u001b[38;5;241m*\u001b[39m \u001b[38;5;241m100\u001b[39m\n",
      "File \u001b[1;32m~\\AppData\\Local\\Programs\\Python\\Python312\\Lib\\site-packages\\sklearn\\base.py:1389\u001b[0m, in \u001b[0;36m_fit_context.<locals>.decorator.<locals>.wrapper\u001b[1;34m(estimator, *args, **kwargs)\u001b[0m\n\u001b[0;32m   1382\u001b[0m     estimator\u001b[38;5;241m.\u001b[39m_validate_params()\n\u001b[0;32m   1384\u001b[0m \u001b[38;5;28;01mwith\u001b[39;00m config_context(\n\u001b[0;32m   1385\u001b[0m     skip_parameter_validation\u001b[38;5;241m=\u001b[39m(\n\u001b[0;32m   1386\u001b[0m         prefer_skip_nested_validation \u001b[38;5;129;01mor\u001b[39;00m global_skip_validation\n\u001b[0;32m   1387\u001b[0m     )\n\u001b[0;32m   1388\u001b[0m ):\n\u001b[1;32m-> 1389\u001b[0m     \u001b[38;5;28;01mreturn\u001b[39;00m \u001b[43mfit_method\u001b[49m\u001b[43m(\u001b[49m\u001b[43mestimator\u001b[49m\u001b[43m,\u001b[49m\u001b[43m \u001b[49m\u001b[38;5;241;43m*\u001b[39;49m\u001b[43margs\u001b[49m\u001b[43m,\u001b[49m\u001b[43m \u001b[49m\u001b[38;5;241;43m*\u001b[39;49m\u001b[38;5;241;43m*\u001b[39;49m\u001b[43mkwargs\u001b[49m\u001b[43m)\u001b[49m\n",
      "File \u001b[1;32m~\\AppData\\Local\\Programs\\Python\\Python312\\Lib\\site-packages\\sklearn\\ensemble\\_forest.py:360\u001b[0m, in \u001b[0;36mBaseForest.fit\u001b[1;34m(self, X, y, sample_weight)\u001b[0m\n\u001b[0;32m    357\u001b[0m \u001b[38;5;28;01mif\u001b[39;00m issparse(y):\n\u001b[0;32m    358\u001b[0m     \u001b[38;5;28;01mraise\u001b[39;00m \u001b[38;5;167;01mValueError\u001b[39;00m(\u001b[38;5;124m\"\u001b[39m\u001b[38;5;124msparse multilabel-indicator for y is not supported.\u001b[39m\u001b[38;5;124m\"\u001b[39m)\n\u001b[1;32m--> 360\u001b[0m X, y \u001b[38;5;241m=\u001b[39m \u001b[43mvalidate_data\u001b[49m\u001b[43m(\u001b[49m\n\u001b[0;32m    361\u001b[0m \u001b[43m    \u001b[49m\u001b[38;5;28;43mself\u001b[39;49m\u001b[43m,\u001b[49m\n\u001b[0;32m    362\u001b[0m \u001b[43m    \u001b[49m\u001b[43mX\u001b[49m\u001b[43m,\u001b[49m\n\u001b[0;32m    363\u001b[0m \u001b[43m    \u001b[49m\u001b[43my\u001b[49m\u001b[43m,\u001b[49m\n\u001b[0;32m    364\u001b[0m \u001b[43m    \u001b[49m\u001b[43mmulti_output\u001b[49m\u001b[38;5;241;43m=\u001b[39;49m\u001b[38;5;28;43;01mTrue\u001b[39;49;00m\u001b[43m,\u001b[49m\n\u001b[0;32m    365\u001b[0m \u001b[43m    \u001b[49m\u001b[43maccept_sparse\u001b[49m\u001b[38;5;241;43m=\u001b[39;49m\u001b[38;5;124;43m\"\u001b[39;49m\u001b[38;5;124;43mcsc\u001b[39;49m\u001b[38;5;124;43m\"\u001b[39;49m\u001b[43m,\u001b[49m\n\u001b[0;32m    366\u001b[0m \u001b[43m    \u001b[49m\u001b[43mdtype\u001b[49m\u001b[38;5;241;43m=\u001b[39;49m\u001b[43mDTYPE\u001b[49m\u001b[43m,\u001b[49m\n\u001b[0;32m    367\u001b[0m \u001b[43m    \u001b[49m\u001b[43mensure_all_finite\u001b[49m\u001b[38;5;241;43m=\u001b[39;49m\u001b[38;5;28;43;01mFalse\u001b[39;49;00m\u001b[43m,\u001b[49m\n\u001b[0;32m    368\u001b[0m \u001b[43m\u001b[49m\u001b[43m)\u001b[49m\n\u001b[0;32m    369\u001b[0m \u001b[38;5;66;03m# _compute_missing_values_in_feature_mask checks if X has missing values and\u001b[39;00m\n\u001b[0;32m    370\u001b[0m \u001b[38;5;66;03m# will raise an error if the underlying tree base estimator can't handle missing\u001b[39;00m\n\u001b[0;32m    371\u001b[0m \u001b[38;5;66;03m# values. Only the criterion is required to determine if the tree supports\u001b[39;00m\n\u001b[0;32m    372\u001b[0m \u001b[38;5;66;03m# missing values.\u001b[39;00m\n\u001b[0;32m    373\u001b[0m estimator \u001b[38;5;241m=\u001b[39m \u001b[38;5;28mtype\u001b[39m(\u001b[38;5;28mself\u001b[39m\u001b[38;5;241m.\u001b[39mestimator)(criterion\u001b[38;5;241m=\u001b[39m\u001b[38;5;28mself\u001b[39m\u001b[38;5;241m.\u001b[39mcriterion)\n",
      "File \u001b[1;32m~\\AppData\\Local\\Programs\\Python\\Python312\\Lib\\site-packages\\sklearn\\utils\\validation.py:2961\u001b[0m, in \u001b[0;36mvalidate_data\u001b[1;34m(_estimator, X, y, reset, validate_separately, skip_check_array, **check_params)\u001b[0m\n\u001b[0;32m   2959\u001b[0m         y \u001b[38;5;241m=\u001b[39m check_array(y, input_name\u001b[38;5;241m=\u001b[39m\u001b[38;5;124m\"\u001b[39m\u001b[38;5;124my\u001b[39m\u001b[38;5;124m\"\u001b[39m, \u001b[38;5;241m*\u001b[39m\u001b[38;5;241m*\u001b[39mcheck_y_params)\n\u001b[0;32m   2960\u001b[0m     \u001b[38;5;28;01melse\u001b[39;00m:\n\u001b[1;32m-> 2961\u001b[0m         X, y \u001b[38;5;241m=\u001b[39m \u001b[43mcheck_X_y\u001b[49m\u001b[43m(\u001b[49m\u001b[43mX\u001b[49m\u001b[43m,\u001b[49m\u001b[43m \u001b[49m\u001b[43my\u001b[49m\u001b[43m,\u001b[49m\u001b[43m \u001b[49m\u001b[38;5;241;43m*\u001b[39;49m\u001b[38;5;241;43m*\u001b[39;49m\u001b[43mcheck_params\u001b[49m\u001b[43m)\u001b[49m\n\u001b[0;32m   2962\u001b[0m     out \u001b[38;5;241m=\u001b[39m X, y\n\u001b[0;32m   2964\u001b[0m \u001b[38;5;28;01mif\u001b[39;00m \u001b[38;5;129;01mnot\u001b[39;00m no_val_X \u001b[38;5;129;01mand\u001b[39;00m check_params\u001b[38;5;241m.\u001b[39mget(\u001b[38;5;124m\"\u001b[39m\u001b[38;5;124mensure_2d\u001b[39m\u001b[38;5;124m\"\u001b[39m, \u001b[38;5;28;01mTrue\u001b[39;00m):\n",
      "File \u001b[1;32m~\\AppData\\Local\\Programs\\Python\\Python312\\Lib\\site-packages\\sklearn\\utils\\validation.py:1370\u001b[0m, in \u001b[0;36mcheck_X_y\u001b[1;34m(X, y, accept_sparse, accept_large_sparse, dtype, order, copy, force_writeable, force_all_finite, ensure_all_finite, ensure_2d, allow_nd, multi_output, ensure_min_samples, ensure_min_features, y_numeric, estimator)\u001b[0m\n\u001b[0;32m   1364\u001b[0m     \u001b[38;5;28;01mraise\u001b[39;00m \u001b[38;5;167;01mValueError\u001b[39;00m(\n\u001b[0;32m   1365\u001b[0m         \u001b[38;5;124mf\u001b[39m\u001b[38;5;124m\"\u001b[39m\u001b[38;5;132;01m{\u001b[39;00mestimator_name\u001b[38;5;132;01m}\u001b[39;00m\u001b[38;5;124m requires y to be passed, but the target y is None\u001b[39m\u001b[38;5;124m\"\u001b[39m\n\u001b[0;32m   1366\u001b[0m     )\n\u001b[0;32m   1368\u001b[0m ensure_all_finite \u001b[38;5;241m=\u001b[39m _deprecate_force_all_finite(force_all_finite, ensure_all_finite)\n\u001b[1;32m-> 1370\u001b[0m X \u001b[38;5;241m=\u001b[39m \u001b[43mcheck_array\u001b[49m\u001b[43m(\u001b[49m\n\u001b[0;32m   1371\u001b[0m \u001b[43m    \u001b[49m\u001b[43mX\u001b[49m\u001b[43m,\u001b[49m\n\u001b[0;32m   1372\u001b[0m \u001b[43m    \u001b[49m\u001b[43maccept_sparse\u001b[49m\u001b[38;5;241;43m=\u001b[39;49m\u001b[43maccept_sparse\u001b[49m\u001b[43m,\u001b[49m\n\u001b[0;32m   1373\u001b[0m \u001b[43m    \u001b[49m\u001b[43maccept_large_sparse\u001b[49m\u001b[38;5;241;43m=\u001b[39;49m\u001b[43maccept_large_sparse\u001b[49m\u001b[43m,\u001b[49m\n\u001b[0;32m   1374\u001b[0m \u001b[43m    \u001b[49m\u001b[43mdtype\u001b[49m\u001b[38;5;241;43m=\u001b[39;49m\u001b[43mdtype\u001b[49m\u001b[43m,\u001b[49m\n\u001b[0;32m   1375\u001b[0m \u001b[43m    \u001b[49m\u001b[43morder\u001b[49m\u001b[38;5;241;43m=\u001b[39;49m\u001b[43morder\u001b[49m\u001b[43m,\u001b[49m\n\u001b[0;32m   1376\u001b[0m \u001b[43m    \u001b[49m\u001b[43mcopy\u001b[49m\u001b[38;5;241;43m=\u001b[39;49m\u001b[43mcopy\u001b[49m\u001b[43m,\u001b[49m\n\u001b[0;32m   1377\u001b[0m \u001b[43m    \u001b[49m\u001b[43mforce_writeable\u001b[49m\u001b[38;5;241;43m=\u001b[39;49m\u001b[43mforce_writeable\u001b[49m\u001b[43m,\u001b[49m\n\u001b[0;32m   1378\u001b[0m \u001b[43m    \u001b[49m\u001b[43mensure_all_finite\u001b[49m\u001b[38;5;241;43m=\u001b[39;49m\u001b[43mensure_all_finite\u001b[49m\u001b[43m,\u001b[49m\n\u001b[0;32m   1379\u001b[0m \u001b[43m    \u001b[49m\u001b[43mensure_2d\u001b[49m\u001b[38;5;241;43m=\u001b[39;49m\u001b[43mensure_2d\u001b[49m\u001b[43m,\u001b[49m\n\u001b[0;32m   1380\u001b[0m \u001b[43m    \u001b[49m\u001b[43mallow_nd\u001b[49m\u001b[38;5;241;43m=\u001b[39;49m\u001b[43mallow_nd\u001b[49m\u001b[43m,\u001b[49m\n\u001b[0;32m   1381\u001b[0m \u001b[43m    \u001b[49m\u001b[43mensure_min_samples\u001b[49m\u001b[38;5;241;43m=\u001b[39;49m\u001b[43mensure_min_samples\u001b[49m\u001b[43m,\u001b[49m\n\u001b[0;32m   1382\u001b[0m \u001b[43m    \u001b[49m\u001b[43mensure_min_features\u001b[49m\u001b[38;5;241;43m=\u001b[39;49m\u001b[43mensure_min_features\u001b[49m\u001b[43m,\u001b[49m\n\u001b[0;32m   1383\u001b[0m \u001b[43m    \u001b[49m\u001b[43mestimator\u001b[49m\u001b[38;5;241;43m=\u001b[39;49m\u001b[43mestimator\u001b[49m\u001b[43m,\u001b[49m\n\u001b[0;32m   1384\u001b[0m \u001b[43m    \u001b[49m\u001b[43minput_name\u001b[49m\u001b[38;5;241;43m=\u001b[39;49m\u001b[38;5;124;43m\"\u001b[39;49m\u001b[38;5;124;43mX\u001b[39;49m\u001b[38;5;124;43m\"\u001b[39;49m\u001b[43m,\u001b[49m\n\u001b[0;32m   1385\u001b[0m \u001b[43m\u001b[49m\u001b[43m)\u001b[49m\n\u001b[0;32m   1387\u001b[0m y \u001b[38;5;241m=\u001b[39m _check_y(y, multi_output\u001b[38;5;241m=\u001b[39mmulti_output, y_numeric\u001b[38;5;241m=\u001b[39my_numeric, estimator\u001b[38;5;241m=\u001b[39mestimator)\n\u001b[0;32m   1389\u001b[0m check_consistent_length(X, y)\n",
      "File \u001b[1;32m~\\AppData\\Local\\Programs\\Python\\Python312\\Lib\\site-packages\\sklearn\\utils\\validation.py:1055\u001b[0m, in \u001b[0;36mcheck_array\u001b[1;34m(array, accept_sparse, accept_large_sparse, dtype, order, copy, force_writeable, force_all_finite, ensure_all_finite, ensure_non_negative, ensure_2d, allow_nd, ensure_min_samples, ensure_min_features, estimator, input_name)\u001b[0m\n\u001b[0;32m   1053\u001b[0m         array \u001b[38;5;241m=\u001b[39m xp\u001b[38;5;241m.\u001b[39mastype(array, dtype, copy\u001b[38;5;241m=\u001b[39m\u001b[38;5;28;01mFalse\u001b[39;00m)\n\u001b[0;32m   1054\u001b[0m     \u001b[38;5;28;01melse\u001b[39;00m:\n\u001b[1;32m-> 1055\u001b[0m         array \u001b[38;5;241m=\u001b[39m \u001b[43m_asarray_with_order\u001b[49m\u001b[43m(\u001b[49m\u001b[43marray\u001b[49m\u001b[43m,\u001b[49m\u001b[43m \u001b[49m\u001b[43morder\u001b[49m\u001b[38;5;241;43m=\u001b[39;49m\u001b[43morder\u001b[49m\u001b[43m,\u001b[49m\u001b[43m \u001b[49m\u001b[43mdtype\u001b[49m\u001b[38;5;241;43m=\u001b[39;49m\u001b[43mdtype\u001b[49m\u001b[43m,\u001b[49m\u001b[43m \u001b[49m\u001b[43mxp\u001b[49m\u001b[38;5;241;43m=\u001b[39;49m\u001b[43mxp\u001b[49m\u001b[43m)\u001b[49m\n\u001b[0;32m   1056\u001b[0m \u001b[38;5;28;01mexcept\u001b[39;00m ComplexWarning \u001b[38;5;28;01mas\u001b[39;00m complex_warning:\n\u001b[0;32m   1057\u001b[0m     \u001b[38;5;28;01mraise\u001b[39;00m \u001b[38;5;167;01mValueError\u001b[39;00m(\n\u001b[0;32m   1058\u001b[0m         \u001b[38;5;124m\"\u001b[39m\u001b[38;5;124mComplex data not supported\u001b[39m\u001b[38;5;130;01m\\n\u001b[39;00m\u001b[38;5;132;01m{}\u001b[39;00m\u001b[38;5;130;01m\\n\u001b[39;00m\u001b[38;5;124m\"\u001b[39m\u001b[38;5;241m.\u001b[39mformat(array)\n\u001b[0;32m   1059\u001b[0m     ) \u001b[38;5;28;01mfrom\u001b[39;00m \u001b[38;5;21;01mcomplex_warning\u001b[39;00m\n",
      "File \u001b[1;32m~\\AppData\\Local\\Programs\\Python\\Python312\\Lib\\site-packages\\sklearn\\utils\\_array_api.py:839\u001b[0m, in \u001b[0;36m_asarray_with_order\u001b[1;34m(array, dtype, order, copy, xp, device)\u001b[0m\n\u001b[0;32m    837\u001b[0m     array \u001b[38;5;241m=\u001b[39m numpy\u001b[38;5;241m.\u001b[39marray(array, order\u001b[38;5;241m=\u001b[39morder, dtype\u001b[38;5;241m=\u001b[39mdtype)\n\u001b[0;32m    838\u001b[0m \u001b[38;5;28;01melse\u001b[39;00m:\n\u001b[1;32m--> 839\u001b[0m     array \u001b[38;5;241m=\u001b[39m \u001b[43mnumpy\u001b[49m\u001b[38;5;241;43m.\u001b[39;49m\u001b[43masarray\u001b[49m\u001b[43m(\u001b[49m\u001b[43marray\u001b[49m\u001b[43m,\u001b[49m\u001b[43m \u001b[49m\u001b[43morder\u001b[49m\u001b[38;5;241;43m=\u001b[39;49m\u001b[43morder\u001b[49m\u001b[43m,\u001b[49m\u001b[43m \u001b[49m\u001b[43mdtype\u001b[49m\u001b[38;5;241;43m=\u001b[39;49m\u001b[43mdtype\u001b[49m\u001b[43m)\u001b[49m\n\u001b[0;32m    841\u001b[0m \u001b[38;5;66;03m# At this point array is a NumPy ndarray. We convert it to an array\u001b[39;00m\n\u001b[0;32m    842\u001b[0m \u001b[38;5;66;03m# container that is consistent with the input's namespace.\u001b[39;00m\n\u001b[0;32m    843\u001b[0m \u001b[38;5;28;01mreturn\u001b[39;00m xp\u001b[38;5;241m.\u001b[39masarray(array)\n",
      "\u001b[1;31mValueError\u001b[0m: setting an array element with a sequence."
     ]
    }
   ],
   "source": [
    "import numpy as np\n",
    "from sklearn.ensemble import RandomForestRegressor\n",
    "from sklearn.metrics import mean_absolute_percentage_error\n",
    "\n",
    "# Преобразование данных (если X одномерный)\n",
    "X_train = np.array(X_train)\n",
    "X_test = np.array(X_test)\n",
    "if X_train.ndim == 1:\n",
    "    X_train = X_train.reshape(-1, 1)\n",
    "if X_test.ndim == 1:\n",
    "    X_test = X_test.reshape(-1, 1)\n",
    "y_train = np.array(y_train).ravel()\n",
    "y_test = np.array(y_test).ravel()\n",
    "\n",
    "model = RandomForestRegressor(random_state=42)\n",
    "model.fit(X_train, y_train)\n",
    "\n",
    "y_pred = model.predict(X_test)\n",
    "mape_value = mean_absolute_percentage_error(y_test, y_pred) * 100\n",
    "print(f\"MAPE на тестовой выборке: {mape_value:.2f}%\")\n"
   ]
  },
  {
   "cell_type": "code",
   "execution_count": 65,
   "id": "cdcbf8ce-a34f-4769-be51-3da19981aab7",
   "metadata": {},
   "outputs": [
    {
     "ename": "ValueError",
     "evalue": "setting an array element with a sequence.",
     "output_type": "error",
     "traceback": [
      "\u001b[1;31m---------------------------------------------------------------------------\u001b[0m",
      "\u001b[1;31mTypeError\u001b[0m                                 Traceback (most recent call last)",
      "\u001b[1;31mTypeError\u001b[0m: float() argument must be a string or a real number, not 'list'",
      "\nThe above exception was the direct cause of the following exception:\n",
      "\u001b[1;31mValueError\u001b[0m                                Traceback (most recent call last)",
      "\u001b[1;32m~\\AppData\\Local\\Temp\\ipykernel_12860\\2885794896.py\u001b[0m in \u001b[0;36m?\u001b[1;34m()\u001b[0m\n\u001b[0;32m      3\u001b[0m \u001b[1;32mfrom\u001b[0m \u001b[0msklearn\u001b[0m\u001b[1;33m.\u001b[0m\u001b[0mmetrics\u001b[0m \u001b[1;32mimport\u001b[0m \u001b[0mmean_absolute_percentage_error\u001b[0m\u001b[1;33m\u001b[0m\u001b[1;33m\u001b[0m\u001b[0m\n\u001b[0;32m      4\u001b[0m \u001b[1;33m\u001b[0m\u001b[0m\n\u001b[0;32m      5\u001b[0m \u001b[1;31m# Обучение модели (пример)\u001b[0m\u001b[1;33m\u001b[0m\u001b[1;33m\u001b[0m\u001b[0m\n\u001b[0;32m      6\u001b[0m \u001b[0mmodel\u001b[0m \u001b[1;33m=\u001b[0m \u001b[0mRandomForestRegressor\u001b[0m\u001b[1;33m(\u001b[0m\u001b[0mrandom_state\u001b[0m\u001b[1;33m=\u001b[0m\u001b[1;36m42\u001b[0m\u001b[1;33m)\u001b[0m\u001b[1;33m\u001b[0m\u001b[1;33m\u001b[0m\u001b[0m\n\u001b[1;32m----> 7\u001b[1;33m \u001b[0mmodel\u001b[0m\u001b[1;33m.\u001b[0m\u001b[0mfit\u001b[0m\u001b[1;33m(\u001b[0m\u001b[0mX_train\u001b[0m\u001b[1;33m,\u001b[0m \u001b[0my_train\u001b[0m\u001b[1;33m)\u001b[0m\u001b[1;33m\u001b[0m\u001b[1;33m\u001b[0m\u001b[0m\n\u001b[0m\u001b[0;32m      8\u001b[0m \u001b[1;33m\u001b[0m\u001b[0m\n\u001b[0;32m      9\u001b[0m \u001b[1;31m# Предсказания на тесте\u001b[0m\u001b[1;33m\u001b[0m\u001b[1;33m\u001b[0m\u001b[0m\n\u001b[0;32m     10\u001b[0m \u001b[0my_pred\u001b[0m \u001b[1;33m=\u001b[0m \u001b[0mmodel\u001b[0m\u001b[1;33m.\u001b[0m\u001b[0mpredict\u001b[0m\u001b[1;33m(\u001b[0m\u001b[0mX_test\u001b[0m\u001b[1;33m)\u001b[0m\u001b[1;33m\u001b[0m\u001b[1;33m\u001b[0m\u001b[0m\n",
      "\u001b[1;32m~\\AppData\\Local\\Programs\\Python\\Python312\\Lib\\site-packages\\sklearn\\base.py\u001b[0m in \u001b[0;36m?\u001b[1;34m(estimator, *args, **kwargs)\u001b[0m\n\u001b[0;32m   1385\u001b[0m                 skip_parameter_validation=(\n\u001b[0;32m   1386\u001b[0m                     \u001b[0mprefer_skip_nested_validation\u001b[0m \u001b[1;32mor\u001b[0m \u001b[0mglobal_skip_validation\u001b[0m\u001b[1;33m\u001b[0m\u001b[1;33m\u001b[0m\u001b[0m\n\u001b[0;32m   1387\u001b[0m                 \u001b[1;33m)\u001b[0m\u001b[1;33m\u001b[0m\u001b[1;33m\u001b[0m\u001b[0m\n\u001b[0;32m   1388\u001b[0m             \u001b[1;33m)\u001b[0m\u001b[1;33m:\u001b[0m\u001b[1;33m\u001b[0m\u001b[1;33m\u001b[0m\u001b[0m\n\u001b[1;32m-> 1389\u001b[1;33m                 \u001b[1;32mreturn\u001b[0m \u001b[0mfit_method\u001b[0m\u001b[1;33m(\u001b[0m\u001b[0mestimator\u001b[0m\u001b[1;33m,\u001b[0m \u001b[1;33m*\u001b[0m\u001b[0margs\u001b[0m\u001b[1;33m,\u001b[0m \u001b[1;33m**\u001b[0m\u001b[0mkwargs\u001b[0m\u001b[1;33m)\u001b[0m\u001b[1;33m\u001b[0m\u001b[1;33m\u001b[0m\u001b[0m\n\u001b[0m",
      "\u001b[1;32m~\\AppData\\Local\\Programs\\Python\\Python312\\Lib\\site-packages\\sklearn\\ensemble\\_forest.py\u001b[0m in \u001b[0;36m?\u001b[1;34m(self, X, y, sample_weight)\u001b[0m\n\u001b[0;32m    356\u001b[0m         \u001b[1;31m# Validate or convert input data\u001b[0m\u001b[1;33m\u001b[0m\u001b[1;33m\u001b[0m\u001b[0m\n\u001b[0;32m    357\u001b[0m         \u001b[1;32mif\u001b[0m \u001b[0missparse\u001b[0m\u001b[1;33m(\u001b[0m\u001b[0my\u001b[0m\u001b[1;33m)\u001b[0m\u001b[1;33m:\u001b[0m\u001b[1;33m\u001b[0m\u001b[1;33m\u001b[0m\u001b[0m\n\u001b[0;32m    358\u001b[0m             \u001b[1;32mraise\u001b[0m \u001b[0mValueError\u001b[0m\u001b[1;33m(\u001b[0m\u001b[1;34m\"sparse multilabel-indicator for y is not supported.\"\u001b[0m\u001b[1;33m)\u001b[0m\u001b[1;33m\u001b[0m\u001b[1;33m\u001b[0m\u001b[0m\n\u001b[0;32m    359\u001b[0m \u001b[1;33m\u001b[0m\u001b[0m\n\u001b[1;32m--> 360\u001b[1;33m         X, y = validate_data(\n\u001b[0m\u001b[0;32m    361\u001b[0m             \u001b[0mself\u001b[0m\u001b[1;33m,\u001b[0m\u001b[1;33m\u001b[0m\u001b[1;33m\u001b[0m\u001b[0m\n\u001b[0;32m    362\u001b[0m             \u001b[0mX\u001b[0m\u001b[1;33m,\u001b[0m\u001b[1;33m\u001b[0m\u001b[1;33m\u001b[0m\u001b[0m\n\u001b[0;32m    363\u001b[0m             \u001b[0my\u001b[0m\u001b[1;33m,\u001b[0m\u001b[1;33m\u001b[0m\u001b[1;33m\u001b[0m\u001b[0m\n",
      "\u001b[1;32m~\\AppData\\Local\\Programs\\Python\\Python312\\Lib\\site-packages\\sklearn\\utils\\validation.py\u001b[0m in \u001b[0;36m?\u001b[1;34m(_estimator, X, y, reset, validate_separately, skip_check_array, **check_params)\u001b[0m\n\u001b[0;32m   2957\u001b[0m             \u001b[1;32mif\u001b[0m \u001b[1;34m\"estimator\"\u001b[0m \u001b[1;32mnot\u001b[0m \u001b[1;32min\u001b[0m \u001b[0mcheck_y_params\u001b[0m\u001b[1;33m:\u001b[0m\u001b[1;33m\u001b[0m\u001b[1;33m\u001b[0m\u001b[0m\n\u001b[0;32m   2958\u001b[0m                 \u001b[0mcheck_y_params\u001b[0m \u001b[1;33m=\u001b[0m \u001b[1;33m{\u001b[0m\u001b[1;33m**\u001b[0m\u001b[0mdefault_check_params\u001b[0m\u001b[1;33m,\u001b[0m \u001b[1;33m**\u001b[0m\u001b[0mcheck_y_params\u001b[0m\u001b[1;33m}\u001b[0m\u001b[1;33m\u001b[0m\u001b[1;33m\u001b[0m\u001b[0m\n\u001b[0;32m   2959\u001b[0m             \u001b[0my\u001b[0m \u001b[1;33m=\u001b[0m \u001b[0mcheck_array\u001b[0m\u001b[1;33m(\u001b[0m\u001b[0my\u001b[0m\u001b[1;33m,\u001b[0m \u001b[0minput_name\u001b[0m\u001b[1;33m=\u001b[0m\u001b[1;34m\"y\"\u001b[0m\u001b[1;33m,\u001b[0m \u001b[1;33m**\u001b[0m\u001b[0mcheck_y_params\u001b[0m\u001b[1;33m)\u001b[0m\u001b[1;33m\u001b[0m\u001b[1;33m\u001b[0m\u001b[0m\n\u001b[0;32m   2960\u001b[0m         \u001b[1;32melse\u001b[0m\u001b[1;33m:\u001b[0m\u001b[1;33m\u001b[0m\u001b[1;33m\u001b[0m\u001b[0m\n\u001b[1;32m-> 2961\u001b[1;33m             \u001b[0mX\u001b[0m\u001b[1;33m,\u001b[0m \u001b[0my\u001b[0m \u001b[1;33m=\u001b[0m \u001b[0mcheck_X_y\u001b[0m\u001b[1;33m(\u001b[0m\u001b[0mX\u001b[0m\u001b[1;33m,\u001b[0m \u001b[0my\u001b[0m\u001b[1;33m,\u001b[0m \u001b[1;33m**\u001b[0m\u001b[0mcheck_params\u001b[0m\u001b[1;33m)\u001b[0m\u001b[1;33m\u001b[0m\u001b[1;33m\u001b[0m\u001b[0m\n\u001b[0m\u001b[0;32m   2962\u001b[0m         \u001b[0mout\u001b[0m \u001b[1;33m=\u001b[0m \u001b[0mX\u001b[0m\u001b[1;33m,\u001b[0m \u001b[0my\u001b[0m\u001b[1;33m\u001b[0m\u001b[1;33m\u001b[0m\u001b[0m\n\u001b[0;32m   2963\u001b[0m \u001b[1;33m\u001b[0m\u001b[0m\n\u001b[0;32m   2964\u001b[0m     \u001b[1;32mif\u001b[0m \u001b[1;32mnot\u001b[0m \u001b[0mno_val_X\u001b[0m \u001b[1;32mand\u001b[0m \u001b[0mcheck_params\u001b[0m\u001b[1;33m.\u001b[0m\u001b[0mget\u001b[0m\u001b[1;33m(\u001b[0m\u001b[1;34m\"ensure_2d\"\u001b[0m\u001b[1;33m,\u001b[0m \u001b[1;32mTrue\u001b[0m\u001b[1;33m)\u001b[0m\u001b[1;33m:\u001b[0m\u001b[1;33m\u001b[0m\u001b[1;33m\u001b[0m\u001b[0m\n",
      "\u001b[1;32m~\\AppData\\Local\\Programs\\Python\\Python312\\Lib\\site-packages\\sklearn\\utils\\validation.py\u001b[0m in \u001b[0;36m?\u001b[1;34m(X, y, accept_sparse, accept_large_sparse, dtype, order, copy, force_writeable, force_all_finite, ensure_all_finite, ensure_2d, allow_nd, multi_output, ensure_min_samples, ensure_min_features, y_numeric, estimator)\u001b[0m\n\u001b[0;32m   1366\u001b[0m         \u001b[1;33m)\u001b[0m\u001b[1;33m\u001b[0m\u001b[1;33m\u001b[0m\u001b[0m\n\u001b[0;32m   1367\u001b[0m \u001b[1;33m\u001b[0m\u001b[0m\n\u001b[0;32m   1368\u001b[0m     \u001b[0mensure_all_finite\u001b[0m \u001b[1;33m=\u001b[0m \u001b[0m_deprecate_force_all_finite\u001b[0m\u001b[1;33m(\u001b[0m\u001b[0mforce_all_finite\u001b[0m\u001b[1;33m,\u001b[0m \u001b[0mensure_all_finite\u001b[0m\u001b[1;33m)\u001b[0m\u001b[1;33m\u001b[0m\u001b[1;33m\u001b[0m\u001b[0m\n\u001b[0;32m   1369\u001b[0m \u001b[1;33m\u001b[0m\u001b[0m\n\u001b[1;32m-> 1370\u001b[1;33m     X = check_array(\n\u001b[0m\u001b[0;32m   1371\u001b[0m         \u001b[0mX\u001b[0m\u001b[1;33m,\u001b[0m\u001b[1;33m\u001b[0m\u001b[1;33m\u001b[0m\u001b[0m\n\u001b[0;32m   1372\u001b[0m         \u001b[0maccept_sparse\u001b[0m\u001b[1;33m=\u001b[0m\u001b[0maccept_sparse\u001b[0m\u001b[1;33m,\u001b[0m\u001b[1;33m\u001b[0m\u001b[1;33m\u001b[0m\u001b[0m\n\u001b[0;32m   1373\u001b[0m         \u001b[0maccept_large_sparse\u001b[0m\u001b[1;33m=\u001b[0m\u001b[0maccept_large_sparse\u001b[0m\u001b[1;33m,\u001b[0m\u001b[1;33m\u001b[0m\u001b[1;33m\u001b[0m\u001b[0m\n",
      "\u001b[1;32m~\\AppData\\Local\\Programs\\Python\\Python312\\Lib\\site-packages\\sklearn\\utils\\validation.py\u001b[0m in \u001b[0;36m?\u001b[1;34m(array, accept_sparse, accept_large_sparse, dtype, order, copy, force_writeable, force_all_finite, ensure_all_finite, ensure_non_negative, ensure_2d, allow_nd, ensure_min_samples, ensure_min_features, estimator, input_name)\u001b[0m\n\u001b[0;32m   1052\u001b[0m                         \u001b[1;33m)\u001b[0m\u001b[1;33m\u001b[0m\u001b[1;33m\u001b[0m\u001b[0m\n\u001b[0;32m   1053\u001b[0m                     \u001b[0marray\u001b[0m \u001b[1;33m=\u001b[0m \u001b[0mxp\u001b[0m\u001b[1;33m.\u001b[0m\u001b[0mastype\u001b[0m\u001b[1;33m(\u001b[0m\u001b[0marray\u001b[0m\u001b[1;33m,\u001b[0m \u001b[0mdtype\u001b[0m\u001b[1;33m,\u001b[0m \u001b[0mcopy\u001b[0m\u001b[1;33m=\u001b[0m\u001b[1;32mFalse\u001b[0m\u001b[1;33m)\u001b[0m\u001b[1;33m\u001b[0m\u001b[1;33m\u001b[0m\u001b[0m\n\u001b[0;32m   1054\u001b[0m                 \u001b[1;32melse\u001b[0m\u001b[1;33m:\u001b[0m\u001b[1;33m\u001b[0m\u001b[1;33m\u001b[0m\u001b[0m\n\u001b[0;32m   1055\u001b[0m                     \u001b[0marray\u001b[0m \u001b[1;33m=\u001b[0m \u001b[0m_asarray_with_order\u001b[0m\u001b[1;33m(\u001b[0m\u001b[0marray\u001b[0m\u001b[1;33m,\u001b[0m \u001b[0morder\u001b[0m\u001b[1;33m=\u001b[0m\u001b[0morder\u001b[0m\u001b[1;33m,\u001b[0m \u001b[0mdtype\u001b[0m\u001b[1;33m=\u001b[0m\u001b[0mdtype\u001b[0m\u001b[1;33m,\u001b[0m \u001b[0mxp\u001b[0m\u001b[1;33m=\u001b[0m\u001b[0mxp\u001b[0m\u001b[1;33m)\u001b[0m\u001b[1;33m\u001b[0m\u001b[1;33m\u001b[0m\u001b[0m\n\u001b[1;32m-> 1056\u001b[1;33m             \u001b[1;32mexcept\u001b[0m \u001b[0mComplexWarning\u001b[0m \u001b[1;32mas\u001b[0m \u001b[0mcomplex_warning\u001b[0m\u001b[1;33m:\u001b[0m\u001b[1;33m\u001b[0m\u001b[1;33m\u001b[0m\u001b[0m\n\u001b[0m\u001b[0;32m   1057\u001b[0m                 raise ValueError(\n\u001b[0;32m   1058\u001b[0m                     \u001b[1;34m\"Complex data not supported\\n{}\\n\"\u001b[0m\u001b[1;33m.\u001b[0m\u001b[0mformat\u001b[0m\u001b[1;33m(\u001b[0m\u001b[0marray\u001b[0m\u001b[1;33m)\u001b[0m\u001b[1;33m\u001b[0m\u001b[1;33m\u001b[0m\u001b[0m\n\u001b[0;32m   1059\u001b[0m                 \u001b[1;33m)\u001b[0m \u001b[1;32mfrom\u001b[0m \u001b[0mcomplex_warning\u001b[0m\u001b[1;33m\u001b[0m\u001b[1;33m\u001b[0m\u001b[0m\n",
      "\u001b[1;32m~\\AppData\\Local\\Programs\\Python\\Python312\\Lib\\site-packages\\sklearn\\utils\\_array_api.py\u001b[0m in \u001b[0;36m?\u001b[1;34m(array, dtype, order, copy, xp, device)\u001b[0m\n\u001b[0;32m    835\u001b[0m         \u001b[1;31m# Use NumPy API to support order\u001b[0m\u001b[1;33m\u001b[0m\u001b[1;33m\u001b[0m\u001b[0m\n\u001b[0;32m    836\u001b[0m         \u001b[1;32mif\u001b[0m \u001b[0mcopy\u001b[0m \u001b[1;32mis\u001b[0m \u001b[1;32mTrue\u001b[0m\u001b[1;33m:\u001b[0m\u001b[1;33m\u001b[0m\u001b[1;33m\u001b[0m\u001b[0m\n\u001b[0;32m    837\u001b[0m             \u001b[0marray\u001b[0m \u001b[1;33m=\u001b[0m \u001b[0mnumpy\u001b[0m\u001b[1;33m.\u001b[0m\u001b[0marray\u001b[0m\u001b[1;33m(\u001b[0m\u001b[0marray\u001b[0m\u001b[1;33m,\u001b[0m \u001b[0morder\u001b[0m\u001b[1;33m=\u001b[0m\u001b[0morder\u001b[0m\u001b[1;33m,\u001b[0m \u001b[0mdtype\u001b[0m\u001b[1;33m=\u001b[0m\u001b[0mdtype\u001b[0m\u001b[1;33m)\u001b[0m\u001b[1;33m\u001b[0m\u001b[1;33m\u001b[0m\u001b[0m\n\u001b[0;32m    838\u001b[0m         \u001b[1;32melse\u001b[0m\u001b[1;33m:\u001b[0m\u001b[1;33m\u001b[0m\u001b[1;33m\u001b[0m\u001b[0m\n\u001b[1;32m--> 839\u001b[1;33m             \u001b[0marray\u001b[0m \u001b[1;33m=\u001b[0m \u001b[0mnumpy\u001b[0m\u001b[1;33m.\u001b[0m\u001b[0masarray\u001b[0m\u001b[1;33m(\u001b[0m\u001b[0marray\u001b[0m\u001b[1;33m,\u001b[0m \u001b[0morder\u001b[0m\u001b[1;33m=\u001b[0m\u001b[0morder\u001b[0m\u001b[1;33m,\u001b[0m \u001b[0mdtype\u001b[0m\u001b[1;33m=\u001b[0m\u001b[0mdtype\u001b[0m\u001b[1;33m)\u001b[0m\u001b[1;33m\u001b[0m\u001b[1;33m\u001b[0m\u001b[0m\n\u001b[0m\u001b[0;32m    840\u001b[0m \u001b[1;33m\u001b[0m\u001b[0m\n\u001b[0;32m    841\u001b[0m         \u001b[1;31m# At this point array is a NumPy ndarray. We convert it to an array\u001b[0m\u001b[1;33m\u001b[0m\u001b[1;33m\u001b[0m\u001b[0m\n\u001b[0;32m    842\u001b[0m         \u001b[1;31m# container that is consistent with the input's namespace.\u001b[0m\u001b[1;33m\u001b[0m\u001b[1;33m\u001b[0m\u001b[0m\n",
      "\u001b[1;32m~\\AppData\\Local\\Programs\\Python\\Python312\\Lib\\site-packages\\pandas\\core\\generic.py\u001b[0m in \u001b[0;36m?\u001b[1;34m(self, dtype)\u001b[0m\n\u001b[0;32m   2148\u001b[0m     \u001b[1;32mdef\u001b[0m \u001b[0m__array__\u001b[0m\u001b[1;33m(\u001b[0m\u001b[0mself\u001b[0m\u001b[1;33m,\u001b[0m \u001b[0mdtype\u001b[0m\u001b[1;33m:\u001b[0m \u001b[0mnpt\u001b[0m\u001b[1;33m.\u001b[0m\u001b[0mDTypeLike\u001b[0m \u001b[1;33m|\u001b[0m \u001b[1;32mNone\u001b[0m \u001b[1;33m=\u001b[0m \u001b[1;32mNone\u001b[0m\u001b[1;33m)\u001b[0m \u001b[1;33m->\u001b[0m \u001b[0mnp\u001b[0m\u001b[1;33m.\u001b[0m\u001b[0mndarray\u001b[0m\u001b[1;33m:\u001b[0m\u001b[1;33m\u001b[0m\u001b[1;33m\u001b[0m\u001b[0m\n\u001b[0;32m   2149\u001b[0m         \u001b[0mvalues\u001b[0m \u001b[1;33m=\u001b[0m \u001b[0mself\u001b[0m\u001b[1;33m.\u001b[0m\u001b[0m_values\u001b[0m\u001b[1;33m\u001b[0m\u001b[1;33m\u001b[0m\u001b[0m\n\u001b[1;32m-> 2150\u001b[1;33m         \u001b[0marr\u001b[0m \u001b[1;33m=\u001b[0m \u001b[0mnp\u001b[0m\u001b[1;33m.\u001b[0m\u001b[0masarray\u001b[0m\u001b[1;33m(\u001b[0m\u001b[0mvalues\u001b[0m\u001b[1;33m,\u001b[0m \u001b[0mdtype\u001b[0m\u001b[1;33m=\u001b[0m\u001b[0mdtype\u001b[0m\u001b[1;33m)\u001b[0m\u001b[1;33m\u001b[0m\u001b[1;33m\u001b[0m\u001b[0m\n\u001b[0m\u001b[0;32m   2151\u001b[0m         if (\n\u001b[0;32m   2152\u001b[0m             \u001b[0mastype_is_view\u001b[0m\u001b[1;33m(\u001b[0m\u001b[0mvalues\u001b[0m\u001b[1;33m.\u001b[0m\u001b[0mdtype\u001b[0m\u001b[1;33m,\u001b[0m \u001b[0marr\u001b[0m\u001b[1;33m.\u001b[0m\u001b[0mdtype\u001b[0m\u001b[1;33m)\u001b[0m\u001b[1;33m\u001b[0m\u001b[1;33m\u001b[0m\u001b[0m\n\u001b[0;32m   2153\u001b[0m             \u001b[1;32mand\u001b[0m \u001b[0musing_copy_on_write\u001b[0m\u001b[1;33m(\u001b[0m\u001b[1;33m)\u001b[0m\u001b[1;33m\u001b[0m\u001b[1;33m\u001b[0m\u001b[0m\n",
      "\u001b[1;31mValueError\u001b[0m: setting an array element with a sequence."
     ]
    }
   ],
   "source": [
    "import numpy as np\n",
    "from sklearn.ensemble import RandomForestRegressor  # пример модели\n",
    "from sklearn.metrics import mean_absolute_percentage_error\n",
    "\n",
    "# Обучение модели (пример)\n",
    "model = RandomForestRegressor(random_state=42)\n",
    "model.fit(X_train, y_train)\n",
    "\n",
    "# Предсказания на тесте\n",
    "y_pred = model.predict(X_test)\n",
    "\n",
    "# Расчёт MAPE\n",
    "mape_value = mean_absolute_percentage_error(y_test, y_pred) * 100  # умножаем на 100 для %\n",
    "print(f\"MAPE на тестовой выборке: {mape_value:.2f}%\")\n"
   ]
  },
  {
   "cell_type": "markdown",
   "id": "3f7bfa07-fc5c-4228-b2b2-83fa1960ecb3",
   "metadata": {},
   "source": [
    "Какое значение метрики MAPE вам удалось получить на этом этапе?"
   ]
  },
  {
   "cell_type": "code",
   "execution_count": 63,
   "id": "a5135c11-c58a-4c5a-8080-c05e31e68505",
   "metadata": {},
   "outputs": [],
   "source": [
    "y = y.astype(int).fillna(0)  # или другой метод обработки NaN"
   ]
  },
  {
   "cell_type": "markdown",
   "id": "a027e1be-184c-4a2c-a818-ad40ff391a36",
   "metadata": {},
   "source": [
    "Для оценки значимости категориальных переменных будем использовать изученный нами непараметрический тест хи-квадрат, реализованный в библиотеке sklearn.feature_selection.chi2  https://scikit-learn.org/stable/modules/generated/sklearn.feature_selection.chi2.html#sklearn.feature_selection.chi2. Метод возвращает массив значений хи-квадрат и p-value для каждого признака. Используем только значения хи-квадрат и выведем их на графике:"
   ]
  },
  {
   "cell_type": "markdown",
   "id": "ffbb762d-9074-41e1-a520-1a8d5dcb549b",
   "metadata": {},
   "source": [
    "*→ Тесты chi2 и f_classif можно использовать для выбора n заданных признаков с наивысшими значениями статистик с помощью метода SelectKBest. Подробнее об этом вы можете прочесть в руководстве Feature selection.* https://scikit-learn.org/stable/modules/feature_selection.html#univariate-feature-selection"
   ]
  },
  {
   "cell_type": "code",
   "execution_count": null,
   "id": "91ebe2fa-8116-40a6-827e-6f1c84ddd9d0",
   "metadata": {},
   "outputs": [],
   "source": [
    "Задание 4.1 (на самопроверку)\n",
    "Дополните списки num_cols и cat_cols для оценки значимости всех признаков."
   ]
  }
 ],
 "metadata": {
  "kernelspec": {
   "display_name": "Python 3 (ipykernel)",
   "language": "python",
   "name": "python3"
  },
  "language_info": {
   "codemirror_mode": {
    "name": "ipython",
    "version": 3
   },
   "file_extension": ".py",
   "mimetype": "text/x-python",
   "name": "python",
   "nbconvert_exporter": "python",
   "pygments_lexer": "ipython3",
   "version": "3.12.6"
  }
 },
 "nbformat": 4,
 "nbformat_minor": 5
}
