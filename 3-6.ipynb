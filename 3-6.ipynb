{
 "cells": [
  {
   "cell_type": "code",
   "execution_count": 1,
   "id": "b96c02bb-42bd-45ed-95dc-a9df3d2723a4",
   "metadata": {
    "editable": true,
    "slideshow": {
     "slide_type": ""
    },
    "tags": []
   },
   "outputs": [],
   "source": [
    "import pandas as pd\n",
    "import psycopg2"
   ]
  },
  {
   "cell_type": "code",
   "execution_count": 2,
   "id": "64ac8e1b-30f6-4566-9211-bdecd0c61239",
   "metadata": {},
   "outputs": [],
   "source": [
    "DBNAME = 'project_sql'\n",
    "USER = 'skillfactory'\n",
    "PASSWORD = 'cCkxxLVrDE8EbvjueeMedPKt'\n",
    "HOST = '84.201.134.129'\n",
    "PORT = 5432"
   ]
  },
  {
   "cell_type": "code",
   "execution_count": 3,
   "id": "f040a362-f7b9-4e7a-8bfd-a46beff0ce31",
   "metadata": {},
   "outputs": [],
   "source": [
    "connection = psycopg2.connect(\n",
    "    dbname=DBNAME,\n",
    "    user=USER,\n",
    "    host=HOST,\n",
    "    password=PASSWORD,\n",
    "    port=PORT\n",
    ")"
   ]
  },
  {
   "cell_type": "code",
   "execution_count": 4,
   "id": "2c446300-be3e-49af-8998-e9a382239538",
   "metadata": {},
   "outputs": [],
   "source": [
    "query = f'''select  *\n",
    "        from public.vacancies\n",
    "        limit 2\n",
    "        '''\n"
   ]
  },
  {
   "cell_type": "code",
   "execution_count": 5,
   "id": "defa3e30-afa8-4347-b0c3-d413cb97c666",
   "metadata": {},
   "outputs": [
    {
     "name": "stderr",
     "output_type": "stream",
     "text": [
      "C:\\Users\\St965\\AppData\\Local\\Temp\\ipykernel_21472\\137330334.py:1: UserWarning: pandas only supports SQLAlchemy connectable (engine/connection) or database string URI or sqlite3 DBAPI2 connection. Other DBAPI2 objects are not tested. Please consider using SQLAlchemy.\n",
      "  df = pd.read_sql_query(query, connection)\n"
     ]
    },
    {
     "data": {
      "text/html": [
       "<div>\n",
       "<style scoped>\n",
       "    .dataframe tbody tr th:only-of-type {\n",
       "        vertical-align: middle;\n",
       "    }\n",
       "\n",
       "    .dataframe tbody tr th {\n",
       "        vertical-align: top;\n",
       "    }\n",
       "\n",
       "    .dataframe thead th {\n",
       "        text-align: right;\n",
       "    }\n",
       "</style>\n",
       "<table border=\"1\" class=\"dataframe\">\n",
       "  <thead>\n",
       "    <tr style=\"text-align: right;\">\n",
       "      <th></th>\n",
       "      <th>id</th>\n",
       "      <th>name</th>\n",
       "      <th>key_skills</th>\n",
       "      <th>schedule</th>\n",
       "      <th>experience</th>\n",
       "      <th>employment</th>\n",
       "      <th>salary_from</th>\n",
       "      <th>salary_to</th>\n",
       "      <th>area_id</th>\n",
       "      <th>employer_id</th>\n",
       "    </tr>\n",
       "  </thead>\n",
       "  <tbody>\n",
       "    <tr>\n",
       "      <th>0</th>\n",
       "      <td>55312386</td>\n",
       "      <td>Компьютерный Мастер</td>\n",
       "      <td>Пользователь ПК\\tРабота в команде\\tРемонт ноут...</td>\n",
       "      <td>Полный день</td>\n",
       "      <td>Нет опыта</td>\n",
       "      <td>Полная занятость</td>\n",
       "      <td>64000.0</td>\n",
       "      <td>None</td>\n",
       "      <td>1516</td>\n",
       "      <td>5724811</td>\n",
       "    </tr>\n",
       "    <tr>\n",
       "      <th>1</th>\n",
       "      <td>55843014</td>\n",
       "      <td>Системный администратор</td>\n",
       "      <td>Средства криптографической защиты информации\\t...</td>\n",
       "      <td>Полный день</td>\n",
       "      <td>От 3 до 6 лет</td>\n",
       "      <td>Полная занятость</td>\n",
       "      <td>NaN</td>\n",
       "      <td>None</td>\n",
       "      <td>130</td>\n",
       "      <td>4903713</td>\n",
       "    </tr>\n",
       "  </tbody>\n",
       "</table>\n",
       "</div>"
      ],
      "text/plain": [
       "         id                     name  \\\n",
       "0  55312386      Компьютерный Мастер   \n",
       "1  55843014  Системный администратор   \n",
       "\n",
       "                                          key_skills     schedule  \\\n",
       "0  Пользователь ПК\\tРабота в команде\\tРемонт ноут...  Полный день   \n",
       "1  Средства криптографической защиты информации\\t...  Полный день   \n",
       "\n",
       "      experience        employment  salary_from salary_to  area_id  \\\n",
       "0      Нет опыта  Полная занятость      64000.0      None     1516   \n",
       "1  От 3 до 6 лет  Полная занятость          NaN      None      130   \n",
       "\n",
       "   employer_id  \n",
       "0      5724811  \n",
       "1      4903713  "
      ]
     },
     "execution_count": 5,
     "metadata": {},
     "output_type": "execute_result"
    }
   ],
   "source": [
    "df = pd.read_sql_query(query, connection)\n",
    "df"
   ]
  },
  {
   "cell_type": "markdown",
   "id": "c5eaa4db-6009-4f51-907a-06162c8ec52d",
   "metadata": {},
   "source": [
    "Задание 3.1\n",
    "Сколько вакансий есть в базе?"
   ]
  },
  {
   "cell_type": "code",
   "execution_count": 6,
   "id": "9cfdbc68-8076-4b8d-8392-5787260beffa",
   "metadata": {},
   "outputs": [],
   "source": [
    "query = f'''select \n",
    "      count(employment)\n",
    "            from public.vacancies\n",
    "        '''"
   ]
  },
  {
   "cell_type": "code",
   "execution_count": 7,
   "id": "9507c7a1-e672-4163-b16c-787aff13a0d2",
   "metadata": {},
   "outputs": [
    {
     "name": "stderr",
     "output_type": "stream",
     "text": [
      "C:\\Users\\St965\\AppData\\Local\\Temp\\ipykernel_21472\\137330334.py:1: UserWarning: pandas only supports SQLAlchemy connectable (engine/connection) or database string URI or sqlite3 DBAPI2 connection. Other DBAPI2 objects are not tested. Please consider using SQLAlchemy.\n",
      "  df = pd.read_sql_query(query, connection)\n"
     ]
    },
    {
     "data": {
      "text/html": [
       "<div>\n",
       "<style scoped>\n",
       "    .dataframe tbody tr th:only-of-type {\n",
       "        vertical-align: middle;\n",
       "    }\n",
       "\n",
       "    .dataframe tbody tr th {\n",
       "        vertical-align: top;\n",
       "    }\n",
       "\n",
       "    .dataframe thead th {\n",
       "        text-align: right;\n",
       "    }\n",
       "</style>\n",
       "<table border=\"1\" class=\"dataframe\">\n",
       "  <thead>\n",
       "    <tr style=\"text-align: right;\">\n",
       "      <th></th>\n",
       "      <th>count</th>\n",
       "    </tr>\n",
       "  </thead>\n",
       "  <tbody>\n",
       "    <tr>\n",
       "      <th>0</th>\n",
       "      <td>49197</td>\n",
       "    </tr>\n",
       "  </tbody>\n",
       "</table>\n",
       "</div>"
      ],
      "text/plain": [
       "   count\n",
       "0  49197"
      ]
     },
     "execution_count": 7,
     "metadata": {},
     "output_type": "execute_result"
    }
   ],
   "source": [
    "df = pd.read_sql_query(query, connection)\n",
    "df"
   ]
  },
  {
   "cell_type": "code",
   "execution_count": 8,
   "id": "a4aefc80-f534-48b1-bcc9-f2c5beb6fdd4",
   "metadata": {},
   "outputs": [],
   "source": [
    "query = f'''select  *\n",
    "        from public.areas\n",
    "        limit 2\n",
    "        '''"
   ]
  },
  {
   "cell_type": "code",
   "execution_count": 9,
   "id": "5bd0f98c-7a5f-40b9-bd3a-d5cff6e3d4ea",
   "metadata": {
    "scrolled": true
   },
   "outputs": [
    {
     "name": "stderr",
     "output_type": "stream",
     "text": [
      "C:\\Users\\St965\\AppData\\Local\\Temp\\ipykernel_21472\\137330334.py:1: UserWarning: pandas only supports SQLAlchemy connectable (engine/connection) or database string URI or sqlite3 DBAPI2 connection. Other DBAPI2 objects are not tested. Please consider using SQLAlchemy.\n",
      "  df = pd.read_sql_query(query, connection)\n"
     ]
    },
    {
     "data": {
      "text/html": [
       "<div>\n",
       "<style scoped>\n",
       "    .dataframe tbody tr th:only-of-type {\n",
       "        vertical-align: middle;\n",
       "    }\n",
       "\n",
       "    .dataframe tbody tr th {\n",
       "        vertical-align: top;\n",
       "    }\n",
       "\n",
       "    .dataframe thead th {\n",
       "        text-align: right;\n",
       "    }\n",
       "</style>\n",
       "<table border=\"1\" class=\"dataframe\">\n",
       "  <thead>\n",
       "    <tr style=\"text-align: right;\">\n",
       "      <th></th>\n",
       "      <th>id</th>\n",
       "      <th>name</th>\n",
       "    </tr>\n",
       "  </thead>\n",
       "  <tbody>\n",
       "    <tr>\n",
       "      <th>0</th>\n",
       "      <td>2758</td>\n",
       "      <td>Тбилиси</td>\n",
       "    </tr>\n",
       "    <tr>\n",
       "      <th>1</th>\n",
       "      <td>8</td>\n",
       "      <td>Майкоп</td>\n",
       "    </tr>\n",
       "  </tbody>\n",
       "</table>\n",
       "</div>"
      ],
      "text/plain": [
       "     id     name\n",
       "0  2758  Тбилиси\n",
       "1     8   Майкоп"
      ]
     },
     "execution_count": 9,
     "metadata": {},
     "output_type": "execute_result"
    }
   ],
   "source": [
    "df = pd.read_sql_query(query, connection)\n",
    "df"
   ]
  },
  {
   "cell_type": "markdown",
   "id": "ec7a36fc-2b48-4627-a5c3-2542dec5560d",
   "metadata": {},
   "source": [
    "Задание 3.3\n",
    "Сколько регионов?"
   ]
  },
  {
   "cell_type": "code",
   "execution_count": 10,
   "id": "bd3c94d6-4b8b-42d2-bcf8-f724b4c0322b",
   "metadata": {},
   "outputs": [],
   "source": [
    "query = f'''select  count(id)\n",
    "        from public.areas\n",
    "                '''"
   ]
  },
  {
   "cell_type": "code",
   "execution_count": 11,
   "id": "303c6c2d-ecbd-4cff-b631-420d0b4e24be",
   "metadata": {},
   "outputs": [
    {
     "name": "stderr",
     "output_type": "stream",
     "text": [
      "C:\\Users\\St965\\AppData\\Local\\Temp\\ipykernel_21472\\137330334.py:1: UserWarning: pandas only supports SQLAlchemy connectable (engine/connection) or database string URI or sqlite3 DBAPI2 connection. Other DBAPI2 objects are not tested. Please consider using SQLAlchemy.\n",
      "  df = pd.read_sql_query(query, connection)\n"
     ]
    },
    {
     "data": {
      "text/html": [
       "<div>\n",
       "<style scoped>\n",
       "    .dataframe tbody tr th:only-of-type {\n",
       "        vertical-align: middle;\n",
       "    }\n",
       "\n",
       "    .dataframe tbody tr th {\n",
       "        vertical-align: top;\n",
       "    }\n",
       "\n",
       "    .dataframe thead th {\n",
       "        text-align: right;\n",
       "    }\n",
       "</style>\n",
       "<table border=\"1\" class=\"dataframe\">\n",
       "  <thead>\n",
       "    <tr style=\"text-align: right;\">\n",
       "      <th></th>\n",
       "      <th>count</th>\n",
       "    </tr>\n",
       "  </thead>\n",
       "  <tbody>\n",
       "    <tr>\n",
       "      <th>0</th>\n",
       "      <td>1362</td>\n",
       "    </tr>\n",
       "  </tbody>\n",
       "</table>\n",
       "</div>"
      ],
      "text/plain": [
       "   count\n",
       "0   1362"
      ]
     },
     "execution_count": 11,
     "metadata": {},
     "output_type": "execute_result"
    }
   ],
   "source": [
    "df = pd.read_sql_query(query, connection)\n",
    "df"
   ]
  },
  {
   "cell_type": "code",
   "execution_count": 12,
   "id": "42b5af3f-976a-4ce6-983f-4adf8f243436",
   "metadata": {},
   "outputs": [],
   "source": [
    "query = f'''select  *\n",
    "        from public.employers\n",
    "        limit 2\n",
    "        '''"
   ]
  },
  {
   "cell_type": "code",
   "execution_count": 13,
   "id": "09779b3e-7f36-4b3a-892f-997108236873",
   "metadata": {
    "jupyter": {
     "source_hidden": true
    },
    "scrolled": true
   },
   "outputs": [
    {
     "name": "stderr",
     "output_type": "stream",
     "text": [
      "C:\\Users\\St965\\AppData\\Local\\Temp\\ipykernel_21472\\137330334.py:1: UserWarning: pandas only supports SQLAlchemy connectable (engine/connection) or database string URI or sqlite3 DBAPI2 connection. Other DBAPI2 objects are not tested. Please consider using SQLAlchemy.\n",
      "  df = pd.read_sql_query(query, connection)\n"
     ]
    },
    {
     "data": {
      "text/html": [
       "<div>\n",
       "<style scoped>\n",
       "    .dataframe tbody tr th:only-of-type {\n",
       "        vertical-align: middle;\n",
       "    }\n",
       "\n",
       "    .dataframe tbody tr th {\n",
       "        vertical-align: top;\n",
       "    }\n",
       "\n",
       "    .dataframe thead th {\n",
       "        text-align: right;\n",
       "    }\n",
       "</style>\n",
       "<table border=\"1\" class=\"dataframe\">\n",
       "  <thead>\n",
       "    <tr style=\"text-align: right;\">\n",
       "      <th></th>\n",
       "      <th>id</th>\n",
       "      <th>name</th>\n",
       "      <th>area</th>\n",
       "    </tr>\n",
       "  </thead>\n",
       "  <tbody>\n",
       "    <tr>\n",
       "      <th>0</th>\n",
       "      <td>2393</td>\n",
       "      <td>Программный Продукт, ИТ-компания</td>\n",
       "      <td>1</td>\n",
       "    </tr>\n",
       "    <tr>\n",
       "      <th>1</th>\n",
       "      <td>72977</td>\n",
       "      <td>БАРС Груп</td>\n",
       "      <td>88</td>\n",
       "    </tr>\n",
       "  </tbody>\n",
       "</table>\n",
       "</div>"
      ],
      "text/plain": [
       "      id                              name  area\n",
       "0   2393  Программный Продукт, ИТ-компания     1\n",
       "1  72977                         БАРС Груп    88"
      ]
     },
     "execution_count": 13,
     "metadata": {},
     "output_type": "execute_result"
    }
   ],
   "source": [
    "df = pd.read_sql_query(query, connection)\n",
    "df"
   ]
  },
  {
   "cell_type": "markdown",
   "id": "74209818-6017-420d-995e-6a774515accb",
   "metadata": {},
   "source": [
    "Задание 3.2\n",
    "Сколько работодателей?"
   ]
  },
  {
   "cell_type": "code",
   "execution_count": 14,
   "id": "ed99d9aa-b94b-4c3e-86ca-7cb0bf8c4879",
   "metadata": {},
   "outputs": [],
   "source": [
    "query = f'''select  count(id)\n",
    "        from public.employers\n",
    "            '''"
   ]
  },
  {
   "cell_type": "code",
   "execution_count": 15,
   "id": "34e64823-e266-4a83-801a-8b758d541582",
   "metadata": {},
   "outputs": [
    {
     "name": "stderr",
     "output_type": "stream",
     "text": [
      "C:\\Users\\St965\\AppData\\Local\\Temp\\ipykernel_21472\\137330334.py:1: UserWarning: pandas only supports SQLAlchemy connectable (engine/connection) or database string URI or sqlite3 DBAPI2 connection. Other DBAPI2 objects are not tested. Please consider using SQLAlchemy.\n",
      "  df = pd.read_sql_query(query, connection)\n"
     ]
    },
    {
     "data": {
      "text/html": [
       "<div>\n",
       "<style scoped>\n",
       "    .dataframe tbody tr th:only-of-type {\n",
       "        vertical-align: middle;\n",
       "    }\n",
       "\n",
       "    .dataframe tbody tr th {\n",
       "        vertical-align: top;\n",
       "    }\n",
       "\n",
       "    .dataframe thead th {\n",
       "        text-align: right;\n",
       "    }\n",
       "</style>\n",
       "<table border=\"1\" class=\"dataframe\">\n",
       "  <thead>\n",
       "    <tr style=\"text-align: right;\">\n",
       "      <th></th>\n",
       "      <th>count</th>\n",
       "    </tr>\n",
       "  </thead>\n",
       "  <tbody>\n",
       "    <tr>\n",
       "      <th>0</th>\n",
       "      <td>23501</td>\n",
       "    </tr>\n",
       "  </tbody>\n",
       "</table>\n",
       "</div>"
      ],
      "text/plain": [
       "   count\n",
       "0  23501"
      ]
     },
     "execution_count": 15,
     "metadata": {},
     "output_type": "execute_result"
    }
   ],
   "source": [
    "df = pd.read_sql_query(query, connection)\n",
    "df"
   ]
  },
  {
   "cell_type": "code",
   "execution_count": 16,
   "id": "d476ad48-72a1-44a6-97b5-03945be43d3e",
   "metadata": {},
   "outputs": [],
   "source": [
    "query = f'''select  *\n",
    "        from public.industries\n",
    "        limit 2\n",
    "        '''"
   ]
  },
  {
   "cell_type": "code",
   "execution_count": 17,
   "id": "2c5d1f62-2bd8-4ba7-81cf-db8f035be4c9",
   "metadata": {
    "scrolled": true
   },
   "outputs": [
    {
     "name": "stderr",
     "output_type": "stream",
     "text": [
      "C:\\Users\\St965\\AppData\\Local\\Temp\\ipykernel_21472\\137330334.py:1: UserWarning: pandas only supports SQLAlchemy connectable (engine/connection) or database string URI or sqlite3 DBAPI2 connection. Other DBAPI2 objects are not tested. Please consider using SQLAlchemy.\n",
      "  df = pd.read_sql_query(query, connection)\n"
     ]
    },
    {
     "data": {
      "text/html": [
       "<div>\n",
       "<style scoped>\n",
       "    .dataframe tbody tr th:only-of-type {\n",
       "        vertical-align: middle;\n",
       "    }\n",
       "\n",
       "    .dataframe tbody tr th {\n",
       "        vertical-align: top;\n",
       "    }\n",
       "\n",
       "    .dataframe thead th {\n",
       "        text-align: right;\n",
       "    }\n",
       "</style>\n",
       "<table border=\"1\" class=\"dataframe\">\n",
       "  <thead>\n",
       "    <tr style=\"text-align: right;\">\n",
       "      <th></th>\n",
       "      <th>id</th>\n",
       "      <th>name</th>\n",
       "    </tr>\n",
       "  </thead>\n",
       "  <tbody>\n",
       "    <tr>\n",
       "      <th>0</th>\n",
       "      <td>7.540</td>\n",
       "      <td>Разработка программного обеспечения</td>\n",
       "    </tr>\n",
       "    <tr>\n",
       "      <th>1</th>\n",
       "      <td>7.539</td>\n",
       "      <td>Системная интеграция,  автоматизации технологи...</td>\n",
       "    </tr>\n",
       "  </tbody>\n",
       "</table>\n",
       "</div>"
      ],
      "text/plain": [
       "      id                                               name\n",
       "0  7.540                Разработка программного обеспечения\n",
       "1  7.539  Системная интеграция,  автоматизации технологи..."
      ]
     },
     "execution_count": 17,
     "metadata": {},
     "output_type": "execute_result"
    }
   ],
   "source": [
    "df = pd.read_sql_query(query, connection)\n",
    "df"
   ]
  },
  {
   "cell_type": "markdown",
   "id": "e9db8ba3-3c86-4eb5-b07e-70cfce35a58c",
   "metadata": {},
   "source": [
    "Задание 3.4\n",
    "Сколько сфер деятельности?"
   ]
  },
  {
   "cell_type": "code",
   "execution_count": 18,
   "id": "046308d1-5021-41eb-8eab-0c3b41be9c67",
   "metadata": {},
   "outputs": [],
   "source": [
    "query = f'''select  count(id)\n",
    "        from public.industries\n",
    "        '''"
   ]
  },
  {
   "cell_type": "code",
   "execution_count": 19,
   "id": "facdad53-f941-4326-aad6-6f48a9afa8ff",
   "metadata": {
    "scrolled": true
   },
   "outputs": [
    {
     "name": "stderr",
     "output_type": "stream",
     "text": [
      "C:\\Users\\St965\\AppData\\Local\\Temp\\ipykernel_21472\\3888653206.py:1: UserWarning: pandas only supports SQLAlchemy connectable (engine/connection) or database string URI or sqlite3 DBAPI2 connection. Other DBAPI2 objects are not tested. Please consider using SQLAlchemy.\n",
      "  df = pd.read_sql_query(query, connection)\n"
     ]
    },
    {
     "data": {
      "text/html": [
       "<div>\n",
       "<style scoped>\n",
       "    .dataframe tbody tr th:only-of-type {\n",
       "        vertical-align: middle;\n",
       "    }\n",
       "\n",
       "    .dataframe tbody tr th {\n",
       "        vertical-align: top;\n",
       "    }\n",
       "\n",
       "    .dataframe thead th {\n",
       "        text-align: right;\n",
       "    }\n",
       "</style>\n",
       "<table border=\"1\" class=\"dataframe\">\n",
       "  <thead>\n",
       "    <tr style=\"text-align: right;\">\n",
       "      <th></th>\n",
       "      <th>count</th>\n",
       "    </tr>\n",
       "  </thead>\n",
       "  <tbody>\n",
       "    <tr>\n",
       "      <th>0</th>\n",
       "      <td>294</td>\n",
       "    </tr>\n",
       "  </tbody>\n",
       "</table>\n",
       "</div>"
      ],
      "text/plain": [
       "   count\n",
       "0    294"
      ]
     },
     "execution_count": 19,
     "metadata": {},
     "output_type": "execute_result"
    }
   ],
   "source": [
    "df = pd.read_sql_query(query, connection)\n",
    "df\n",
    "\n"
   ]
  },
  {
   "cell_type": "code",
   "execution_count": 21,
   "id": "73fb8619-dd72-47c4-8fab-f596d7c75d4e",
   "metadata": {},
   "outputs": [],
   "source": [
    "connection.close()"
   ]
  },
  {
   "cell_type": "markdown",
   "id": "8ff17e63-8606-4c1a-817c-afec98760b7c",
   "metadata": {},
   "source": [
    "4. Детальный анализ вакансий"
   ]
  },
  {
   "cell_type": "code",
   "execution_count": 3,
   "id": "40e304f2-633f-4a3e-9443-b8d6f8fd5d11",
   "metadata": {},
   "outputs": [],
   "source": [
    "import pandas as pd\n",
    "import psycopg2"
   ]
  },
  {
   "cell_type": "code",
   "execution_count": 4,
   "id": "d0eaaa4d-e215-454f-9629-3b1b8c8d3105",
   "metadata": {},
   "outputs": [],
   "source": [
    "DBNAME = 'project_sql'\n",
    "USER = 'skillfactory'\n",
    "PASSWORD = 'cCkxxLVrDE8EbvjueeMedPKt'\n",
    "HOST = '84.201.134.129'\n",
    "PORT = 5432"
   ]
  },
  {
   "cell_type": "code",
   "execution_count": 5,
   "id": "6ee32ae7-d83a-441f-88f1-a64d3a7819ba",
   "metadata": {},
   "outputs": [],
   "source": [
    "connection = psycopg2.connect(\n",
    "    dbname=DBNAME,\n",
    "    user=USER,\n",
    "    host=HOST,\n",
    "    password=PASSWORD,\n",
    "    port=PORT\n",
    ")"
   ]
  },
  {
   "cell_type": "markdown",
   "id": "ee5aabef-e0fb-488b-a617-a707f79e6d97",
   "metadata": {},
   "source": [
    "Задание 4.1\n",
    "Напишите запрос, который позволит узнать, сколько (cnt) вакансий в каждом регионе (area).\n",
    "Выберите пятёрку лидеров по количеству вакансий:"
   ]
  },
  {
   "cell_type": "code",
   "execution_count": 20,
   "id": "424318fc-a73f-4bef-9db3-f63c9bb0c8dd",
   "metadata": {},
   "outputs": [],
   "source": [
    "query = f'''select\n",
    "        count(v.id) cnt,\n",
    "        a.name\n",
    "        from public.areas a\n",
    "        join public.vacancies v on a.id = v.area_id\n",
    "        group by  2\n",
    "        order by 1 desc\n",
    "        limit 5\n",
    "        '''"
   ]
  },
  {
   "cell_type": "code",
   "execution_count": 21,
   "id": "43437315-a9b8-4fe6-a55e-6b4852d25754",
   "metadata": {
    "scrolled": true
   },
   "outputs": [
    {
     "name": "stderr",
     "output_type": "stream",
     "text": [
      "C:\\Users\\St965\\AppData\\Local\\Temp\\ipykernel_21472\\137330334.py:1: UserWarning: pandas only supports SQLAlchemy connectable (engine/connection) or database string URI or sqlite3 DBAPI2 connection. Other DBAPI2 objects are not tested. Please consider using SQLAlchemy.\n",
      "  df = pd.read_sql_query(query, connection)\n"
     ]
    },
    {
     "data": {
      "text/html": [
       "<div>\n",
       "<style scoped>\n",
       "    .dataframe tbody tr th:only-of-type {\n",
       "        vertical-align: middle;\n",
       "    }\n",
       "\n",
       "    .dataframe tbody tr th {\n",
       "        vertical-align: top;\n",
       "    }\n",
       "\n",
       "    .dataframe thead th {\n",
       "        text-align: right;\n",
       "    }\n",
       "</style>\n",
       "<table border=\"1\" class=\"dataframe\">\n",
       "  <thead>\n",
       "    <tr style=\"text-align: right;\">\n",
       "      <th></th>\n",
       "      <th>cnt</th>\n",
       "      <th>name</th>\n",
       "    </tr>\n",
       "  </thead>\n",
       "  <tbody>\n",
       "    <tr>\n",
       "      <th>0</th>\n",
       "      <td>5333</td>\n",
       "      <td>Москва</td>\n",
       "    </tr>\n",
       "    <tr>\n",
       "      <th>1</th>\n",
       "      <td>2851</td>\n",
       "      <td>Санкт-Петербург</td>\n",
       "    </tr>\n",
       "    <tr>\n",
       "      <th>2</th>\n",
       "      <td>2112</td>\n",
       "      <td>Минск</td>\n",
       "    </tr>\n",
       "    <tr>\n",
       "      <th>3</th>\n",
       "      <td>2006</td>\n",
       "      <td>Новосибирск</td>\n",
       "    </tr>\n",
       "    <tr>\n",
       "      <th>4</th>\n",
       "      <td>1892</td>\n",
       "      <td>Алматы</td>\n",
       "    </tr>\n",
       "  </tbody>\n",
       "</table>\n",
       "</div>"
      ],
      "text/plain": [
       "    cnt             name\n",
       "0  5333           Москва\n",
       "1  2851  Санкт-Петербург\n",
       "2  2112            Минск\n",
       "3  2006      Новосибирск\n",
       "4  1892           Алматы"
      ]
     },
     "execution_count": 21,
     "metadata": {},
     "output_type": "execute_result"
    }
   ],
   "source": [
    "df = pd.read_sql_query(query, connection)\n",
    "df"
   ]
  },
  {
   "cell_type": "markdown",
   "id": "7707642b-2222-4dd2-b031-fcd307ec5983",
   "metadata": {},
   "source": [
    "Задание 4.2\n",
    "Посмотрим на зарплаты. У какого количества вакансий заполнено хотя бы одно из двух полей с зарплатой?"
   ]
  },
  {
   "cell_type": "code",
   "execution_count": 22,
   "id": "582872e2-fb8d-4cf7-bb6e-2c93df4c443a",
   "metadata": {},
   "outputs": [],
   "source": [
    "query = f'''select\n",
    "        count(v.id) cnt\n",
    "        from public.vacancies v\n",
    "        where (v.salary_from is not null or v.salary_to is not null)\n",
    "        '''"
   ]
  },
  {
   "cell_type": "code",
   "execution_count": 23,
   "id": "18874248-be4d-4877-9005-b95d97c696e9",
   "metadata": {},
   "outputs": [
    {
     "name": "stderr",
     "output_type": "stream",
     "text": [
      "C:\\Users\\St965\\AppData\\Local\\Temp\\ipykernel_21472\\137330334.py:1: UserWarning: pandas only supports SQLAlchemy connectable (engine/connection) or database string URI or sqlite3 DBAPI2 connection. Other DBAPI2 objects are not tested. Please consider using SQLAlchemy.\n",
      "  df = pd.read_sql_query(query, connection)\n"
     ]
    },
    {
     "data": {
      "text/html": [
       "<div>\n",
       "<style scoped>\n",
       "    .dataframe tbody tr th:only-of-type {\n",
       "        vertical-align: middle;\n",
       "    }\n",
       "\n",
       "    .dataframe tbody tr th {\n",
       "        vertical-align: top;\n",
       "    }\n",
       "\n",
       "    .dataframe thead th {\n",
       "        text-align: right;\n",
       "    }\n",
       "</style>\n",
       "<table border=\"1\" class=\"dataframe\">\n",
       "  <thead>\n",
       "    <tr style=\"text-align: right;\">\n",
       "      <th></th>\n",
       "      <th>cnt</th>\n",
       "    </tr>\n",
       "  </thead>\n",
       "  <tbody>\n",
       "    <tr>\n",
       "      <th>0</th>\n",
       "      <td>24073</td>\n",
       "    </tr>\n",
       "  </tbody>\n",
       "</table>\n",
       "</div>"
      ],
      "text/plain": [
       "     cnt\n",
       "0  24073"
      ]
     },
     "execution_count": 23,
     "metadata": {},
     "output_type": "execute_result"
    }
   ],
   "source": [
    "df = pd.read_sql_query(query, connection)\n",
    "df"
   ]
  },
  {
   "cell_type": "markdown",
   "id": "392f0b22-a361-4b20-8563-9868fd20c37d",
   "metadata": {},
   "source": [
    "Задание 4.3\n",
    "Найдите средние значения для нижней и верхней границы зарплатной вилки. Округлите значения до целого числа."
   ]
  },
  {
   "cell_type": "code",
   "execution_count": 24,
   "id": "b6d3babd-351a-4601-9cb0-b0a72ad5de43",
   "metadata": {},
   "outputs": [],
   "source": [
    "query = f'''select\n",
    "        round(avg(v.salary_from)),\n",
    "        round(avg(v.salary_to))\n",
    "        from public.vacancies v\n",
    "        '''"
   ]
  },
  {
   "cell_type": "code",
   "execution_count": 25,
   "id": "b203245a-e53e-4f99-8efe-83509276c6d0",
   "metadata": {},
   "outputs": [
    {
     "name": "stderr",
     "output_type": "stream",
     "text": [
      "C:\\Users\\St965\\AppData\\Local\\Temp\\ipykernel_21472\\137330334.py:1: UserWarning: pandas only supports SQLAlchemy connectable (engine/connection) or database string URI or sqlite3 DBAPI2 connection. Other DBAPI2 objects are not tested. Please consider using SQLAlchemy.\n",
      "  df = pd.read_sql_query(query, connection)\n"
     ]
    },
    {
     "data": {
      "text/html": [
       "<div>\n",
       "<style scoped>\n",
       "    .dataframe tbody tr th:only-of-type {\n",
       "        vertical-align: middle;\n",
       "    }\n",
       "\n",
       "    .dataframe tbody tr th {\n",
       "        vertical-align: top;\n",
       "    }\n",
       "\n",
       "    .dataframe thead th {\n",
       "        text-align: right;\n",
       "    }\n",
       "</style>\n",
       "<table border=\"1\" class=\"dataframe\">\n",
       "  <thead>\n",
       "    <tr style=\"text-align: right;\">\n",
       "      <th></th>\n",
       "      <th>round</th>\n",
       "      <th>round</th>\n",
       "    </tr>\n",
       "  </thead>\n",
       "  <tbody>\n",
       "    <tr>\n",
       "      <th>0</th>\n",
       "      <td>71065.0</td>\n",
       "      <td>110537.0</td>\n",
       "    </tr>\n",
       "  </tbody>\n",
       "</table>\n",
       "</div>"
      ],
      "text/plain": [
       "     round     round\n",
       "0  71065.0  110537.0"
      ]
     },
     "execution_count": 25,
     "metadata": {},
     "output_type": "execute_result"
    }
   ],
   "source": [
    "df = pd.read_sql_query(query, connection)\n",
    "df"
   ]
  },
  {
   "cell_type": "markdown",
   "id": "7f9ac547-696d-4737-a3fd-6bab061d7cff",
   "metadata": {},
   "source": [
    "Задание 4.4\n",
    "Напишите запрос, который выведет количество вакансий для каждого сочетания типа рабочего графика (schedule) и типа трудоустройства (employment), используемого в вакансиях. Какая пара находится на втором месте по популярности?"
   ]
  },
  {
   "cell_type": "code",
   "execution_count": 26,
   "id": "380c868d-0ef1-43fc-8d9b-3541484f30bf",
   "metadata": {},
   "outputs": [],
   "source": [
    "query = f'''select\n",
    "        v.id,\n",
    "        v.schedule,\n",
    "        v.employment\n",
    "        from public.vacancies v\n",
    "        group by 1, 2\n",
    "        order by 1 desc\n",
    "        limit 2\n",
    "        '''"
   ]
  },
  {
   "cell_type": "code",
   "execution_count": 27,
   "id": "4b85b7dd-427f-4935-932b-d7481c0c84a8",
   "metadata": {
    "scrolled": true
   },
   "outputs": [
    {
     "name": "stderr",
     "output_type": "stream",
     "text": [
      "C:\\Users\\St965\\AppData\\Local\\Temp\\ipykernel_21472\\137330334.py:1: UserWarning: pandas only supports SQLAlchemy connectable (engine/connection) or database string URI or sqlite3 DBAPI2 connection. Other DBAPI2 objects are not tested. Please consider using SQLAlchemy.\n",
      "  df = pd.read_sql_query(query, connection)\n"
     ]
    },
    {
     "data": {
      "text/html": [
       "<div>\n",
       "<style scoped>\n",
       "    .dataframe tbody tr th:only-of-type {\n",
       "        vertical-align: middle;\n",
       "    }\n",
       "\n",
       "    .dataframe tbody tr th {\n",
       "        vertical-align: top;\n",
       "    }\n",
       "\n",
       "    .dataframe thead th {\n",
       "        text-align: right;\n",
       "    }\n",
       "</style>\n",
       "<table border=\"1\" class=\"dataframe\">\n",
       "  <thead>\n",
       "    <tr style=\"text-align: right;\">\n",
       "      <th></th>\n",
       "      <th>id</th>\n",
       "      <th>schedule</th>\n",
       "      <th>employment</th>\n",
       "    </tr>\n",
       "  </thead>\n",
       "  <tbody>\n",
       "    <tr>\n",
       "      <th>0</th>\n",
       "      <td>66196438</td>\n",
       "      <td>Полный день</td>\n",
       "      <td>Полная занятость</td>\n",
       "    </tr>\n",
       "    <tr>\n",
       "      <th>1</th>\n",
       "      <td>66196369</td>\n",
       "      <td>Удаленная работа</td>\n",
       "      <td>Полная занятость</td>\n",
       "    </tr>\n",
       "  </tbody>\n",
       "</table>\n",
       "</div>"
      ],
      "text/plain": [
       "         id          schedule        employment\n",
       "0  66196438       Полный день  Полная занятость\n",
       "1  66196369  Удаленная работа  Полная занятость"
      ]
     },
     "execution_count": 27,
     "metadata": {},
     "output_type": "execute_result"
    }
   ],
   "source": [
    "df = pd.read_sql_query(query, connection)\n",
    "df"
   ]
  },
  {
   "cell_type": "markdown",
   "id": "13bd2460-c2eb-4a10-83a4-fdd15d5e1f51",
   "metadata": {},
   "source": [
    "Задание 4.5\n",
    "Напишите запрос, выводящий значения поля Требуемый опыт работы (experience) в порядке возрастания количества вакансий, в которых указан данный вариант опыта."
   ]
  },
  {
   "cell_type": "code",
   "execution_count": 28,
   "id": "78162f90-e5e6-4d7d-89a5-28920c42ab3c",
   "metadata": {},
   "outputs": [],
   "source": [
    "query = f'''select\n",
    "        count(v.experience) cnt,\n",
    "        v.experience\n",
    "        from public.vacancies v\n",
    "        group by 2\n",
    "        order by 1\n",
    "        '''"
   ]
  },
  {
   "cell_type": "code",
   "execution_count": 29,
   "id": "c4c16512-de63-4cf2-9653-bee54e0ae4ff",
   "metadata": {
    "scrolled": true
   },
   "outputs": [
    {
     "name": "stderr",
     "output_type": "stream",
     "text": [
      "C:\\Users\\St965\\AppData\\Local\\Temp\\ipykernel_21472\\137330334.py:1: UserWarning: pandas only supports SQLAlchemy connectable (engine/connection) or database string URI or sqlite3 DBAPI2 connection. Other DBAPI2 objects are not tested. Please consider using SQLAlchemy.\n",
      "  df = pd.read_sql_query(query, connection)\n"
     ]
    },
    {
     "data": {
      "text/html": [
       "<div>\n",
       "<style scoped>\n",
       "    .dataframe tbody tr th:only-of-type {\n",
       "        vertical-align: middle;\n",
       "    }\n",
       "\n",
       "    .dataframe tbody tr th {\n",
       "        vertical-align: top;\n",
       "    }\n",
       "\n",
       "    .dataframe thead th {\n",
       "        text-align: right;\n",
       "    }\n",
       "</style>\n",
       "<table border=\"1\" class=\"dataframe\">\n",
       "  <thead>\n",
       "    <tr style=\"text-align: right;\">\n",
       "      <th></th>\n",
       "      <th>cnt</th>\n",
       "      <th>experience</th>\n",
       "    </tr>\n",
       "  </thead>\n",
       "  <tbody>\n",
       "    <tr>\n",
       "      <th>0</th>\n",
       "      <td>1337</td>\n",
       "      <td>Более 6 лет</td>\n",
       "    </tr>\n",
       "    <tr>\n",
       "      <th>1</th>\n",
       "      <td>7197</td>\n",
       "      <td>Нет опыта</td>\n",
       "    </tr>\n",
       "    <tr>\n",
       "      <th>2</th>\n",
       "      <td>14511</td>\n",
       "      <td>От 3 до 6 лет</td>\n",
       "    </tr>\n",
       "    <tr>\n",
       "      <th>3</th>\n",
       "      <td>26152</td>\n",
       "      <td>От 1 года до 3 лет</td>\n",
       "    </tr>\n",
       "  </tbody>\n",
       "</table>\n",
       "</div>"
      ],
      "text/plain": [
       "     cnt          experience\n",
       "0   1337         Более 6 лет\n",
       "1   7197           Нет опыта\n",
       "2  14511       От 3 до 6 лет\n",
       "3  26152  От 1 года до 3 лет"
      ]
     },
     "execution_count": 29,
     "metadata": {},
     "output_type": "execute_result"
    }
   ],
   "source": [
    "df = pd.read_sql_query(query, connection)\n",
    "df"
   ]
  },
  {
   "cell_type": "code",
   "execution_count": 1,
   "id": "395bff65-646b-4e97-a001-a97088b8dae5",
   "metadata": {},
   "outputs": [],
   "source": [
    "import pandas as pd\n",
    "import psycopg2"
   ]
  },
  {
   "cell_type": "code",
   "execution_count": 2,
   "id": "884e1bd5-6264-48b5-b892-bd70f1a73005",
   "metadata": {},
   "outputs": [],
   "source": [
    "DBNAME = 'project_sql'\n",
    "USER = 'skillfactory'\n",
    "PASSWORD = 'cCkxxLVrDE8EbvjueeMedPKt'\n",
    "HOST = '84.201.134.129'\n",
    "PORT = 5432"
   ]
  },
  {
   "cell_type": "code",
   "execution_count": 3,
   "id": "b6f1032a-6cdd-4f82-9d70-258989cad676",
   "metadata": {},
   "outputs": [],
   "source": [
    "connection = psycopg2.connect(\n",
    "    dbname=DBNAME,\n",
    "    user=USER,\n",
    "    host=HOST,\n",
    "    password=PASSWORD,\n",
    "    port=PORT\n",
    ")"
   ]
  },
  {
   "cell_type": "markdown",
   "id": "b3a74519-97e2-4897-af0d-c4639a292549",
   "metadata": {},
   "source": [
    "Задание 5.1\n",
    "Напишите запрос, который позволит узнать, какие работодатели находятся на первом и пятом месте по количеству вакансий."
   ]
  },
  {
   "cell_type": "code",
   "execution_count": 30,
   "id": "078fff15-4ea4-4cb6-ae54-220cb90651dd",
   "metadata": {
    "scrolled": true
   },
   "outputs": [],
   "source": [
    "query = f''' select\n",
    "     e.name, count(v.id) cnt\n",
    "from public.employers e\n",
    "join public.vacancies v on e.id = v.employer_id\n",
    "group by 1\n",
    "order by 2 desc\n",
    "limit 5\n",
    "     '''"
   ]
  },
  {
   "cell_type": "code",
   "execution_count": 31,
   "id": "01b0d3d9-d12d-497e-b134-52cb22d14b5b",
   "metadata": {},
   "outputs": [
    {
     "name": "stderr",
     "output_type": "stream",
     "text": [
      "C:\\Users\\St965\\AppData\\Local\\Temp\\ipykernel_21472\\137330334.py:1: UserWarning: pandas only supports SQLAlchemy connectable (engine/connection) or database string URI or sqlite3 DBAPI2 connection. Other DBAPI2 objects are not tested. Please consider using SQLAlchemy.\n",
      "  df = pd.read_sql_query(query, connection)\n"
     ]
    },
    {
     "data": {
      "text/html": [
       "<div>\n",
       "<style scoped>\n",
       "    .dataframe tbody tr th:only-of-type {\n",
       "        vertical-align: middle;\n",
       "    }\n",
       "\n",
       "    .dataframe tbody tr th {\n",
       "        vertical-align: top;\n",
       "    }\n",
       "\n",
       "    .dataframe thead th {\n",
       "        text-align: right;\n",
       "    }\n",
       "</style>\n",
       "<table border=\"1\" class=\"dataframe\">\n",
       "  <thead>\n",
       "    <tr style=\"text-align: right;\">\n",
       "      <th></th>\n",
       "      <th>name</th>\n",
       "      <th>cnt</th>\n",
       "    </tr>\n",
       "  </thead>\n",
       "  <tbody>\n",
       "    <tr>\n",
       "      <th>0</th>\n",
       "      <td>Яндекс</td>\n",
       "      <td>1933</td>\n",
       "    </tr>\n",
       "    <tr>\n",
       "      <th>1</th>\n",
       "      <td>Ростелеком</td>\n",
       "      <td>491</td>\n",
       "    </tr>\n",
       "    <tr>\n",
       "      <th>2</th>\n",
       "      <td>Тинькофф</td>\n",
       "      <td>444</td>\n",
       "    </tr>\n",
       "    <tr>\n",
       "      <th>3</th>\n",
       "      <td>СБЕР</td>\n",
       "      <td>428</td>\n",
       "    </tr>\n",
       "    <tr>\n",
       "      <th>4</th>\n",
       "      <td>Газпром нефть</td>\n",
       "      <td>331</td>\n",
       "    </tr>\n",
       "  </tbody>\n",
       "</table>\n",
       "</div>"
      ],
      "text/plain": [
       "            name   cnt\n",
       "0         Яндекс  1933\n",
       "1     Ростелеком   491\n",
       "2       Тинькофф   444\n",
       "3           СБЕР   428\n",
       "4  Газпром нефть   331"
      ]
     },
     "execution_count": 31,
     "metadata": {},
     "output_type": "execute_result"
    }
   ],
   "source": [
    "df = pd.read_sql_query(query, connection)\n",
    "df"
   ]
  },
  {
   "cell_type": "markdown",
   "id": "ecfbe060-6f1e-4128-8187-470e5f8ef3f2",
   "metadata": {},
   "source": [
    "Задание 5.2\n",
    "Напишите запрос, который для каждого региона выведет количество работодателей и вакансий в нём.\n",
    "Среди регионов, в которых нет вакансий, найдите тот, в котором наибольшее количество работодателей. Впишите его название в поле ниже в том виде, который вернул запрос."
   ]
  },
  {
   "cell_type": "code",
   "execution_count": 32,
   "id": "9eba5850-3e3b-484e-9f14-b21377ee3dc7",
   "metadata": {},
   "outputs": [],
   "source": [
    "query = f''' select\n",
    "       a.name название_города,\n",
    "       count(distinct e.id) номер_работодатель,\n",
    "       count(v.id) id_вакансии\n",
    "       from public.areas a\n",
    "       left join public.vacancies v on a.id = v.area_id\n",
    "       left join public.employers e on a.id = e.area\n",
    "       where v.id is null\n",
    "       group by 1\n",
    "       order by 2 desc\n",
    "       limit 1\n",
    "       '''"
   ]
  },
  {
   "cell_type": "code",
   "execution_count": 33,
   "id": "b0af3c7a-67ce-49fc-a41a-de4caf385137",
   "metadata": {},
   "outputs": [
    {
     "name": "stderr",
     "output_type": "stream",
     "text": [
      "C:\\Users\\St965\\AppData\\Local\\Temp\\ipykernel_21472\\137330334.py:1: UserWarning: pandas only supports SQLAlchemy connectable (engine/connection) or database string URI or sqlite3 DBAPI2 connection. Other DBAPI2 objects are not tested. Please consider using SQLAlchemy.\n",
      "  df = pd.read_sql_query(query, connection)\n"
     ]
    },
    {
     "data": {
      "text/html": [
       "<div>\n",
       "<style scoped>\n",
       "    .dataframe tbody tr th:only-of-type {\n",
       "        vertical-align: middle;\n",
       "    }\n",
       "\n",
       "    .dataframe tbody tr th {\n",
       "        vertical-align: top;\n",
       "    }\n",
       "\n",
       "    .dataframe thead th {\n",
       "        text-align: right;\n",
       "    }\n",
       "</style>\n",
       "<table border=\"1\" class=\"dataframe\">\n",
       "  <thead>\n",
       "    <tr style=\"text-align: right;\">\n",
       "      <th></th>\n",
       "      <th>название_города</th>\n",
       "      <th>номер_работодатель</th>\n",
       "      <th>id_вакансии</th>\n",
       "    </tr>\n",
       "  </thead>\n",
       "  <tbody>\n",
       "    <tr>\n",
       "      <th>0</th>\n",
       "      <td>Россия</td>\n",
       "      <td>410</td>\n",
       "      <td>0</td>\n",
       "    </tr>\n",
       "  </tbody>\n",
       "</table>\n",
       "</div>"
      ],
      "text/plain": [
       "  название_города  номер_работодатель  id_вакансии\n",
       "0          Россия                 410            0"
      ]
     },
     "execution_count": 33,
     "metadata": {},
     "output_type": "execute_result"
    }
   ],
   "source": [
    "df = pd.read_sql_query(query, connection)\n",
    "df"
   ]
  },
  {
   "cell_type": "markdown",
   "id": "6d0cce4e-388d-4001-b3ac-b54ac2fe294c",
   "metadata": {},
   "source": [
    "Задание 5.3\n",
    "Для каждого работодателя посчитайте количество регионов, в которых он публикует свои вакансии.\n",
    "Выберите максимальное значение из получившегося списка."
   ]
  },
  {
   "cell_type": "code",
   "execution_count": 34,
   "id": "1c320463-0e67-4d6d-a769-f694455fb6d7",
   "metadata": {},
   "outputs": [],
   "source": [
    "query = f''' select \n",
    "       count(distinct v.area_id) id_регион_вакансий,\n",
    "       v.employer_id id_работодателя\n",
    "       from public.vacancies v\n",
    "       group by 2\n",
    "       order by 1 desc\n",
    "       limit 1\n",
    "       '''"
   ]
  },
  {
   "cell_type": "code",
   "execution_count": 35,
   "id": "d895bc7c-34b0-47ea-9ae4-7b3d06a90fee",
   "metadata": {},
   "outputs": [
    {
     "name": "stderr",
     "output_type": "stream",
     "text": [
      "C:\\Users\\St965\\AppData\\Local\\Temp\\ipykernel_21472\\137330334.py:1: UserWarning: pandas only supports SQLAlchemy connectable (engine/connection) or database string URI or sqlite3 DBAPI2 connection. Other DBAPI2 objects are not tested. Please consider using SQLAlchemy.\n",
      "  df = pd.read_sql_query(query, connection)\n"
     ]
    },
    {
     "data": {
      "text/html": [
       "<div>\n",
       "<style scoped>\n",
       "    .dataframe tbody tr th:only-of-type {\n",
       "        vertical-align: middle;\n",
       "    }\n",
       "\n",
       "    .dataframe tbody tr th {\n",
       "        vertical-align: top;\n",
       "    }\n",
       "\n",
       "    .dataframe thead th {\n",
       "        text-align: right;\n",
       "    }\n",
       "</style>\n",
       "<table border=\"1\" class=\"dataframe\">\n",
       "  <thead>\n",
       "    <tr style=\"text-align: right;\">\n",
       "      <th></th>\n",
       "      <th>id_регион_вакансий</th>\n",
       "      <th>id_работодателя</th>\n",
       "    </tr>\n",
       "  </thead>\n",
       "  <tbody>\n",
       "    <tr>\n",
       "      <th>0</th>\n",
       "      <td>181</td>\n",
       "      <td>1740</td>\n",
       "    </tr>\n",
       "  </tbody>\n",
       "</table>\n",
       "</div>"
      ],
      "text/plain": [
       "   id_регион_вакансий  id_работодателя\n",
       "0                 181             1740"
      ]
     },
     "execution_count": 35,
     "metadata": {},
     "output_type": "execute_result"
    }
   ],
   "source": [
    "df = pd.read_sql_query(query, connection)\n",
    "df"
   ]
  },
  {
   "cell_type": "markdown",
   "id": "b6328b50-1f9e-4d4a-a9d7-b05df4038489",
   "metadata": {},
   "source": [
    "Задание 5.4\n",
    "Напишите запрос для подсчёта количества работодателей, у которых не указана сфера деятельности.\n",
    "Введите количество, которое вернул запрос, в поле ниже."
   ]
  },
  {
   "cell_type": "code",
   "execution_count": 36,
   "id": "bd436a67-0b1c-44cf-92a3-3917a1e37890",
   "metadata": {},
   "outputs": [],
   "source": [
    "query = f''' select \n",
    "      count(e.id)\n",
    "      from public.employers_industries ei\n",
    "      right join public.industries i on i.id = ei.industry_id\n",
    "      right join public.employers e on e.id = ei.employer_id\n",
    "      where i.id is null\n",
    "       '''"
   ]
  },
  {
   "cell_type": "code",
   "execution_count": 37,
   "id": "4300b5a3-749e-461d-9095-f9d845bcf678",
   "metadata": {},
   "outputs": [
    {
     "name": "stderr",
     "output_type": "stream",
     "text": [
      "C:\\Users\\St965\\AppData\\Local\\Temp\\ipykernel_21472\\137330334.py:1: UserWarning: pandas only supports SQLAlchemy connectable (engine/connection) or database string URI or sqlite3 DBAPI2 connection. Other DBAPI2 objects are not tested. Please consider using SQLAlchemy.\n",
      "  df = pd.read_sql_query(query, connection)\n"
     ]
    },
    {
     "data": {
      "text/html": [
       "<div>\n",
       "<style scoped>\n",
       "    .dataframe tbody tr th:only-of-type {\n",
       "        vertical-align: middle;\n",
       "    }\n",
       "\n",
       "    .dataframe tbody tr th {\n",
       "        vertical-align: top;\n",
       "    }\n",
       "\n",
       "    .dataframe thead th {\n",
       "        text-align: right;\n",
       "    }\n",
       "</style>\n",
       "<table border=\"1\" class=\"dataframe\">\n",
       "  <thead>\n",
       "    <tr style=\"text-align: right;\">\n",
       "      <th></th>\n",
       "      <th>count</th>\n",
       "    </tr>\n",
       "  </thead>\n",
       "  <tbody>\n",
       "    <tr>\n",
       "      <th>0</th>\n",
       "      <td>8419</td>\n",
       "    </tr>\n",
       "  </tbody>\n",
       "</table>\n",
       "</div>"
      ],
      "text/plain": [
       "   count\n",
       "0   8419"
      ]
     },
     "execution_count": 37,
     "metadata": {},
     "output_type": "execute_result"
    }
   ],
   "source": [
    "df = pd.read_sql_query(query, connection)\n",
    "df"
   ]
  },
  {
   "cell_type": "markdown",
   "id": "26734166-2ed7-4b39-a435-fe86bab5ab0f",
   "metadata": {},
   "source": [
    "Задание 5.5\n",
    "Напишите запрос, чтобы узнать название компании, находящейся на третьем месте в алфавитном списке (по названию) компаний, у которых указано четыре сферы деятельности.\n",
    "Введите в поле ниже название этой компании так же, как оно указано в результате запроса."
   ]
  },
  {
   "cell_type": "code",
   "execution_count": 38,
   "id": "ebc0376e-791e-40d5-b6ab-f974ca53cb02",
   "metadata": {},
   "outputs": [],
   "source": [
    "query = f''' select \n",
    "      e.name, count(e.name) cnt\n",
    "      from public.employers_industries ei\n",
    "      right join public.industries i on i.id = ei.industry_id\n",
    "      right join public.employers e on e.id = ei.employer_id\n",
    "      group by 1\n",
    "      having count(e.name) = 4\n",
    "      order by 1\n",
    "      limit 3\n",
    "       '''"
   ]
  },
  {
   "cell_type": "code",
   "execution_count": 39,
   "id": "f6f7048f-b3d9-4c74-b8f6-4acde08ac376",
   "metadata": {},
   "outputs": [
    {
     "name": "stderr",
     "output_type": "stream",
     "text": [
      "C:\\Users\\St965\\AppData\\Local\\Temp\\ipykernel_21472\\137330334.py:1: UserWarning: pandas only supports SQLAlchemy connectable (engine/connection) or database string URI or sqlite3 DBAPI2 connection. Other DBAPI2 objects are not tested. Please consider using SQLAlchemy.\n",
      "  df = pd.read_sql_query(query, connection)\n"
     ]
    },
    {
     "data": {
      "text/html": [
       "<div>\n",
       "<style scoped>\n",
       "    .dataframe tbody tr th:only-of-type {\n",
       "        vertical-align: middle;\n",
       "    }\n",
       "\n",
       "    .dataframe tbody tr th {\n",
       "        vertical-align: top;\n",
       "    }\n",
       "\n",
       "    .dataframe thead th {\n",
       "        text-align: right;\n",
       "    }\n",
       "</style>\n",
       "<table border=\"1\" class=\"dataframe\">\n",
       "  <thead>\n",
       "    <tr style=\"text-align: right;\">\n",
       "      <th></th>\n",
       "      <th>name</th>\n",
       "      <th>cnt</th>\n",
       "    </tr>\n",
       "  </thead>\n",
       "  <tbody>\n",
       "    <tr>\n",
       "      <th>0</th>\n",
       "      <td>101 Интернет</td>\n",
       "      <td>4</td>\n",
       "    </tr>\n",
       "    <tr>\n",
       "      <th>1</th>\n",
       "      <td>21vek.by</td>\n",
       "      <td>4</td>\n",
       "    </tr>\n",
       "    <tr>\n",
       "      <th>2</th>\n",
       "      <td>2ГИС</td>\n",
       "      <td>4</td>\n",
       "    </tr>\n",
       "  </tbody>\n",
       "</table>\n",
       "</div>"
      ],
      "text/plain": [
       "           name  cnt\n",
       "0  101 Интернет    4\n",
       "1      21vek.by    4\n",
       "2          2ГИС    4"
      ]
     },
     "execution_count": 39,
     "metadata": {},
     "output_type": "execute_result"
    }
   ],
   "source": [
    "df = pd.read_sql_query(query, connection)\n",
    "df"
   ]
  },
  {
   "cell_type": "markdown",
   "id": "b346ea9d-5fc3-430c-9518-59db82a27e24",
   "metadata": {},
   "source": [
    "Задание 5.6\n",
    "С помощью запроса выясните, у какого количества работодателей в качестве сферы деятельности указана «Разработка программного обеспечения»."
   ]
  },
  {
   "cell_type": "code",
   "execution_count": 40,
   "id": "d8317a56-2775-4227-9391-e1bf03c490e3",
   "metadata": {},
   "outputs": [],
   "source": [
    "query = f''' select \n",
    "      count(e.id), i.name\n",
    "      from public.employers_industries ei\n",
    "      right join public.industries i on i.id = ei.industry_id\n",
    "      right join public.employers e on e.id = ei.employer_id\n",
    "      where i.name = 'Разработка программного обеспечения'\n",
    "      group by 2\n",
    "       '''"
   ]
  },
  {
   "cell_type": "code",
   "execution_count": 41,
   "id": "9acfc678-78e5-45d6-84a7-b2c5269084aa",
   "metadata": {
    "scrolled": true
   },
   "outputs": [
    {
     "name": "stderr",
     "output_type": "stream",
     "text": [
      "C:\\Users\\St965\\AppData\\Local\\Temp\\ipykernel_21472\\137330334.py:1: UserWarning: pandas only supports SQLAlchemy connectable (engine/connection) or database string URI or sqlite3 DBAPI2 connection. Other DBAPI2 objects are not tested. Please consider using SQLAlchemy.\n",
      "  df = pd.read_sql_query(query, connection)\n"
     ]
    },
    {
     "data": {
      "text/html": [
       "<div>\n",
       "<style scoped>\n",
       "    .dataframe tbody tr th:only-of-type {\n",
       "        vertical-align: middle;\n",
       "    }\n",
       "\n",
       "    .dataframe tbody tr th {\n",
       "        vertical-align: top;\n",
       "    }\n",
       "\n",
       "    .dataframe thead th {\n",
       "        text-align: right;\n",
       "    }\n",
       "</style>\n",
       "<table border=\"1\" class=\"dataframe\">\n",
       "  <thead>\n",
       "    <tr style=\"text-align: right;\">\n",
       "      <th></th>\n",
       "      <th>count</th>\n",
       "      <th>name</th>\n",
       "    </tr>\n",
       "  </thead>\n",
       "  <tbody>\n",
       "    <tr>\n",
       "      <th>0</th>\n",
       "      <td>3553</td>\n",
       "      <td>Разработка программного обеспечения</td>\n",
       "    </tr>\n",
       "  </tbody>\n",
       "</table>\n",
       "</div>"
      ],
      "text/plain": [
       "   count                                 name\n",
       "0   3553  Разработка программного обеспечения"
      ]
     },
     "execution_count": 41,
     "metadata": {},
     "output_type": "execute_result"
    }
   ],
   "source": [
    "df = pd.read_sql_query(query, connection)\n",
    "df"
   ]
  },
  {
   "cell_type": "code",
   "execution_count": 42,
   "id": "c55f5435-f988-448e-a98b-6899ebe61af0",
   "metadata": {},
   "outputs": [],
   "source": [
    "#industries i  деятельности\n",
    "query = f''' select \n",
    "      i.id ID_сферы_деятельности, \n",
    "      i.name Название_деятельности\n",
    "      from public.industries i\n",
    "      where i.id = '7.541'\n",
    "      group by 1,2\n",
    "      order by 2\n",
    "      limit 5\n",
    "      '''"
   ]
  },
  {
   "cell_type": "code",
   "execution_count": 43,
   "id": "fabe4ede-5a38-4904-96dc-fc845496fe45",
   "metadata": {},
   "outputs": [
    {
     "name": "stderr",
     "output_type": "stream",
     "text": [
      "C:\\Users\\St965\\AppData\\Local\\Temp\\ipykernel_21472\\137330334.py:1: UserWarning: pandas only supports SQLAlchemy connectable (engine/connection) or database string URI or sqlite3 DBAPI2 connection. Other DBAPI2 objects are not tested. Please consider using SQLAlchemy.\n",
      "  df = pd.read_sql_query(query, connection)\n"
     ]
    },
    {
     "data": {
      "text/html": [
       "<div>\n",
       "<style scoped>\n",
       "    .dataframe tbody tr th:only-of-type {\n",
       "        vertical-align: middle;\n",
       "    }\n",
       "\n",
       "    .dataframe tbody tr th {\n",
       "        vertical-align: top;\n",
       "    }\n",
       "\n",
       "    .dataframe thead th {\n",
       "        text-align: right;\n",
       "    }\n",
       "</style>\n",
       "<table border=\"1\" class=\"dataframe\">\n",
       "  <thead>\n",
       "    <tr style=\"text-align: right;\">\n",
       "      <th></th>\n",
       "      <th>id_сферы_деятельности</th>\n",
       "      <th>Название_деятельности</th>\n",
       "    </tr>\n",
       "  </thead>\n",
       "  <tbody>\n",
       "    <tr>\n",
       "      <th>0</th>\n",
       "      <td>7.541</td>\n",
       "      <td>Интернет-компания (поисковики, платежные систе...</td>\n",
       "    </tr>\n",
       "  </tbody>\n",
       "</table>\n",
       "</div>"
      ],
      "text/plain": [
       "  id_сферы_деятельности                              Название_деятельности\n",
       "0                 7.541  Интернет-компания (поисковики, платежные систе..."
      ]
     },
     "execution_count": 43,
     "metadata": {},
     "output_type": "execute_result"
    }
   ],
   "source": [
    "df = pd.read_sql_query(query, connection)\n",
    "df"
   ]
  },
  {
   "cell_type": "code",
   "execution_count": 44,
   "id": "9f65a662-4af2-4603-9ac9-50b7dc287285",
   "metadata": {},
   "outputs": [],
   "source": [
    "#employers_industries ei  работодателями и сферами\n",
    "query = f''' select \n",
    "      ei.employer_id ID_работодателя, \n",
    "      ei.industry_id ID_сферы_деятельности\n",
    "      from public.employers_industries ei\n",
    "      where ei.employer_id = 1740\n",
    "      group by 1,2\n",
    "      order by 2\n",
    "      limit 5\n",
    "      '''"
   ]
  },
  {
   "cell_type": "code",
   "execution_count": 45,
   "id": "716a0371-1f05-4044-ad4b-c44676a39629",
   "metadata": {},
   "outputs": [
    {
     "name": "stderr",
     "output_type": "stream",
     "text": [
      "C:\\Users\\St965\\AppData\\Local\\Temp\\ipykernel_21472\\137330334.py:1: UserWarning: pandas only supports SQLAlchemy connectable (engine/connection) or database string URI or sqlite3 DBAPI2 connection. Other DBAPI2 objects are not tested. Please consider using SQLAlchemy.\n",
      "  df = pd.read_sql_query(query, connection)\n"
     ]
    },
    {
     "data": {
      "text/html": [
       "<div>\n",
       "<style scoped>\n",
       "    .dataframe tbody tr th:only-of-type {\n",
       "        vertical-align: middle;\n",
       "    }\n",
       "\n",
       "    .dataframe tbody tr th {\n",
       "        vertical-align: top;\n",
       "    }\n",
       "\n",
       "    .dataframe thead th {\n",
       "        text-align: right;\n",
       "    }\n",
       "</style>\n",
       "<table border=\"1\" class=\"dataframe\">\n",
       "  <thead>\n",
       "    <tr style=\"text-align: right;\">\n",
       "      <th></th>\n",
       "      <th>id_работодателя</th>\n",
       "      <th>id_сферы_деятельности</th>\n",
       "    </tr>\n",
       "  </thead>\n",
       "  <tbody>\n",
       "    <tr>\n",
       "      <th>0</th>\n",
       "      <td>1740</td>\n",
       "      <td>7.541</td>\n",
       "    </tr>\n",
       "  </tbody>\n",
       "</table>\n",
       "</div>"
      ],
      "text/plain": [
       "   id_работодателя id_сферы_деятельности\n",
       "0             1740                 7.541"
      ]
     },
     "execution_count": 45,
     "metadata": {},
     "output_type": "execute_result"
    }
   ],
   "source": [
    "df = pd.read_sql_query(query, connection)\n",
    "df"
   ]
  },
  {
   "cell_type": "code",
   "execution_count": 46,
   "id": "a6e04ded-dea3-4f32-978f-68cd75457959",
   "metadata": {},
   "outputs": [],
   "source": [
    "#areas a  регион\n",
    "query = f''' select *\n",
    "      from public.cities c\n",
    "      '''"
   ]
  },
  {
   "cell_type": "code",
   "execution_count": 47,
   "id": "17a59d6a-96b7-483e-9059-5c5464df5316",
   "metadata": {},
   "outputs": [
    {
     "name": "stderr",
     "output_type": "stream",
     "text": [
      "C:\\Users\\St965\\AppData\\Local\\Temp\\ipykernel_21472\\137330334.py:1: UserWarning: pandas only supports SQLAlchemy connectable (engine/connection) or database string URI or sqlite3 DBAPI2 connection. Other DBAPI2 objects are not tested. Please consider using SQLAlchemy.\n",
      "  df = pd.read_sql_query(query, connection)\n"
     ]
    },
    {
     "data": {
      "text/html": [
       "<div>\n",
       "<style scoped>\n",
       "    .dataframe tbody tr th:only-of-type {\n",
       "        vertical-align: middle;\n",
       "    }\n",
       "\n",
       "    .dataframe tbody tr th {\n",
       "        vertical-align: top;\n",
       "    }\n",
       "\n",
       "    .dataframe thead th {\n",
       "        text-align: right;\n",
       "    }\n",
       "</style>\n",
       "<table border=\"1\" class=\"dataframe\">\n",
       "  <thead>\n",
       "    <tr style=\"text-align: right;\">\n",
       "      <th></th>\n",
       "      <th>city</th>\n",
       "    </tr>\n",
       "  </thead>\n",
       "  <tbody>\n",
       "    <tr>\n",
       "      <th>0</th>\n",
       "      <td>[Москва, Санкт-Петербург, Новосибирск, Екатери...</td>\n",
       "    </tr>\n",
       "  </tbody>\n",
       "</table>\n",
       "</div>"
      ],
      "text/plain": [
       "                                                city\n",
       "0  [Москва, Санкт-Петербург, Новосибирск, Екатери..."
      ]
     },
     "execution_count": 47,
     "metadata": {},
     "output_type": "execute_result"
    }
   ],
   "source": [
    "df = pd.read_sql_query(query, connection)\n",
    "df"
   ]
  },
  {
   "cell_type": "code",
   "execution_count": 48,
   "id": "79e80fdf-3169-4e5b-a0e2-8555cdf34d51",
   "metadata": {},
   "outputs": [],
   "source": [
    "#employers e  работодатели\n",
    "query = f''' select \n",
    "      e.id Номер_работодателя, \n",
    "      e.name Название_работодателя,\n",
    "      e.area Регион_регистрации\n",
    "      from public.employers e\n",
    "      where e.name = 'Яндекс'\n",
    "      group by 1,2,3\n",
    "      order by 3\n",
    "      limit 5\n",
    "      '''"
   ]
  },
  {
   "cell_type": "code",
   "execution_count": 49,
   "id": "8e88021a-b13d-4b4d-978d-1c3c56464572",
   "metadata": {},
   "outputs": [
    {
     "name": "stderr",
     "output_type": "stream",
     "text": [
      "C:\\Users\\St965\\AppData\\Local\\Temp\\ipykernel_21472\\137330334.py:1: UserWarning: pandas only supports SQLAlchemy connectable (engine/connection) or database string URI or sqlite3 DBAPI2 connection. Other DBAPI2 objects are not tested. Please consider using SQLAlchemy.\n",
      "  df = pd.read_sql_query(query, connection)\n"
     ]
    },
    {
     "data": {
      "text/html": [
       "<div>\n",
       "<style scoped>\n",
       "    .dataframe tbody tr th:only-of-type {\n",
       "        vertical-align: middle;\n",
       "    }\n",
       "\n",
       "    .dataframe tbody tr th {\n",
       "        vertical-align: top;\n",
       "    }\n",
       "\n",
       "    .dataframe thead th {\n",
       "        text-align: right;\n",
       "    }\n",
       "</style>\n",
       "<table border=\"1\" class=\"dataframe\">\n",
       "  <thead>\n",
       "    <tr style=\"text-align: right;\">\n",
       "      <th></th>\n",
       "      <th>Номер_работодателя</th>\n",
       "      <th>Название_работодателя</th>\n",
       "      <th>Регион_регистрации</th>\n",
       "    </tr>\n",
       "  </thead>\n",
       "  <tbody>\n",
       "    <tr>\n",
       "      <th>0</th>\n",
       "      <td>1740</td>\n",
       "      <td>Яндекс</td>\n",
       "      <td>1</td>\n",
       "    </tr>\n",
       "  </tbody>\n",
       "</table>\n",
       "</div>"
      ],
      "text/plain": [
       "   Номер_работодателя Название_работодателя  Регион_регистрации\n",
       "0                1740                Яндекс                   1"
      ]
     },
     "execution_count": 49,
     "metadata": {},
     "output_type": "execute_result"
    }
   ],
   "source": [
    "df = pd.read_sql_query(query, connection)\n",
    "df"
   ]
  },
  {
   "cell_type": "markdown",
   "id": "b34a257e-d5cf-42c5-9f17-befb5fd78cfe",
   "metadata": {},
   "source": [
    "Задание 5.7\n",
    "Для компании «Яндекс» выведите список регионов-миллионников, в которых представлены вакансии компании, вместе с количеством вакансий в этих регионах. Также добавьте строку Total с общим количеством вакансий компании, собранных в этой таблице. Должна получиться выборка такого вида (приведён пример результата для компании SberTech):"
   ]
  },
  {
   "cell_type": "code",
   "execution_count": 50,
   "id": "4aaf13d6-0932-495c-b6f9-a3c63ff0b3d2",
   "metadata": {},
   "outputs": [],
   "source": [
    "query = f''' select \n",
    "      a.name Название_города,\n",
    "      count(v.id) cnt \n",
    "      from public.areas a \n",
    "      join public.vacancies v  on a.id = v.area_id\n",
    "      where v.employer_id = 1740 and (a.name = 'Москва' or a.name = 'Санкт-Петербург' or a.name = 'Новосибирск'  or a.name = 'Екатеринбург' or a.name = 'Казань' or a.name = 'Нижний Новгород' or a.name = 'Челябинск' or a.name = 'Красноярск' or a.name = 'Самара'\n",
    "      or a.name = 'Уфа' or a.name = 'Ростов-на-Дону' or a.name = 'Омск' or a.name = 'Краснодар' or a.name = 'Воронеж' or a.name = 'Пермь' or a.name = 'Волгоград')\n",
    "      group by 1\n",
    "      union all\n",
    "      select 'total',\n",
    "      count(2)\n",
    "      from public.areas a\n",
    "      join public.vacancies v  on a.id = v.area_id\n",
    "      where v.employer_id = 1740 and (a.name = 'Москва' or a.name = 'Санкт-Петербург' or a.name = 'Новосибирск'  or a.name = 'Екатеринбург' or a.name = 'Казань' or a.name = 'Нижний Новгород' or a.name = 'Челябинск' or a.name = 'Красноярск' or a.name = 'Самара'\n",
    "      or a.name = 'Уфа' or a.name = 'Ростов-на-Дону' or a.name = 'Омск' or a.name = 'Краснодар' or a.name = 'Воронеж' or a.name = 'Пермь' or a.name = 'Волгоград')\n",
    "      group by 1\n",
    "      order by 2 desc\n",
    "      '''"
   ]
  },
  {
   "cell_type": "code",
   "execution_count": 51,
   "id": "c983af36-8076-4b1d-a1d2-61734d8a4d4c",
   "metadata": {},
   "outputs": [
    {
     "name": "stderr",
     "output_type": "stream",
     "text": [
      "C:\\Users\\St965\\AppData\\Local\\Temp\\ipykernel_21472\\137330334.py:1: UserWarning: pandas only supports SQLAlchemy connectable (engine/connection) or database string URI or sqlite3 DBAPI2 connection. Other DBAPI2 objects are not tested. Please consider using SQLAlchemy.\n",
      "  df = pd.read_sql_query(query, connection)\n"
     ]
    },
    {
     "data": {
      "text/html": [
       "<div>\n",
       "<style scoped>\n",
       "    .dataframe tbody tr th:only-of-type {\n",
       "        vertical-align: middle;\n",
       "    }\n",
       "\n",
       "    .dataframe tbody tr th {\n",
       "        vertical-align: top;\n",
       "    }\n",
       "\n",
       "    .dataframe thead th {\n",
       "        text-align: right;\n",
       "    }\n",
       "</style>\n",
       "<table border=\"1\" class=\"dataframe\">\n",
       "  <thead>\n",
       "    <tr style=\"text-align: right;\">\n",
       "      <th></th>\n",
       "      <th>Название_города</th>\n",
       "      <th>cnt</th>\n",
       "    </tr>\n",
       "  </thead>\n",
       "  <tbody>\n",
       "    <tr>\n",
       "      <th>0</th>\n",
       "      <td>total</td>\n",
       "      <td>485</td>\n",
       "    </tr>\n",
       "    <tr>\n",
       "      <th>1</th>\n",
       "      <td>Москва</td>\n",
       "      <td>54</td>\n",
       "    </tr>\n",
       "    <tr>\n",
       "      <th>2</th>\n",
       "      <td>Санкт-Петербург</td>\n",
       "      <td>42</td>\n",
       "    </tr>\n",
       "    <tr>\n",
       "      <th>3</th>\n",
       "      <td>Екатеринбург</td>\n",
       "      <td>39</td>\n",
       "    </tr>\n",
       "    <tr>\n",
       "      <th>4</th>\n",
       "      <td>Нижний Новгород</td>\n",
       "      <td>36</td>\n",
       "    </tr>\n",
       "    <tr>\n",
       "      <th>5</th>\n",
       "      <td>Новосибирск</td>\n",
       "      <td>35</td>\n",
       "    </tr>\n",
       "    <tr>\n",
       "      <th>6</th>\n",
       "      <td>Воронеж</td>\n",
       "      <td>32</td>\n",
       "    </tr>\n",
       "    <tr>\n",
       "      <th>7</th>\n",
       "      <td>Краснодар</td>\n",
       "      <td>30</td>\n",
       "    </tr>\n",
       "    <tr>\n",
       "      <th>8</th>\n",
       "      <td>Самара</td>\n",
       "      <td>26</td>\n",
       "    </tr>\n",
       "    <tr>\n",
       "      <th>9</th>\n",
       "      <td>Уфа</td>\n",
       "      <td>26</td>\n",
       "    </tr>\n",
       "    <tr>\n",
       "      <th>10</th>\n",
       "      <td>Казань</td>\n",
       "      <td>25</td>\n",
       "    </tr>\n",
       "    <tr>\n",
       "      <th>11</th>\n",
       "      <td>Пермь</td>\n",
       "      <td>25</td>\n",
       "    </tr>\n",
       "    <tr>\n",
       "      <th>12</th>\n",
       "      <td>Ростов-на-Дону</td>\n",
       "      <td>25</td>\n",
       "    </tr>\n",
       "    <tr>\n",
       "      <th>13</th>\n",
       "      <td>Волгоград</td>\n",
       "      <td>24</td>\n",
       "    </tr>\n",
       "    <tr>\n",
       "      <th>14</th>\n",
       "      <td>Красноярск</td>\n",
       "      <td>23</td>\n",
       "    </tr>\n",
       "    <tr>\n",
       "      <th>15</th>\n",
       "      <td>Челябинск</td>\n",
       "      <td>22</td>\n",
       "    </tr>\n",
       "    <tr>\n",
       "      <th>16</th>\n",
       "      <td>Омск</td>\n",
       "      <td>21</td>\n",
       "    </tr>\n",
       "  </tbody>\n",
       "</table>\n",
       "</div>"
      ],
      "text/plain": [
       "    Название_города  cnt\n",
       "0             total  485\n",
       "1            Москва   54\n",
       "2   Санкт-Петербург   42\n",
       "3      Екатеринбург   39\n",
       "4   Нижний Новгород   36\n",
       "5       Новосибирск   35\n",
       "6           Воронеж   32\n",
       "7         Краснодар   30\n",
       "8            Самара   26\n",
       "9               Уфа   26\n",
       "10           Казань   25\n",
       "11            Пермь   25\n",
       "12   Ростов-на-Дону   25\n",
       "13        Волгоград   24\n",
       "14       Красноярск   23\n",
       "15        Челябинск   22\n",
       "16             Омск   21"
      ]
     },
     "execution_count": 51,
     "metadata": {},
     "output_type": "execute_result"
    }
   ],
   "source": [
    "df = pd.read_sql_query(query, connection)\n",
    "df"
   ]
  },
  {
   "cell_type": "markdown",
   "id": "562844c0-4839-4826-be97-1c4aab3effe4",
   "metadata": {},
   "source": [
    "6. Предметный анализ\n",
    "   ✍ Переходим к самому интересному — нам предстоит исследовать требования работодателей к дата-сайентистам."
   ]
  },
  {
   "cell_type": "code",
   "execution_count": 1,
   "id": "61eb7bfa-feda-481a-8746-35cc947c524f",
   "metadata": {},
   "outputs": [],
   "source": [
    "import pandas as pd\n",
    "import psycopg2"
   ]
  },
  {
   "cell_type": "code",
   "execution_count": 2,
   "id": "5d29a7ef-dd1f-44c3-bc86-5c420a952a47",
   "metadata": {},
   "outputs": [],
   "source": [
    "DBNAME = 'project_sql'\n",
    "USER = 'skillfactory'\n",
    "PASSWORD = 'cCkxxLVrDE8EbvjueeMedPKt'\n",
    "HOST = '84.201.134.129'\n",
    "PORT = 5432"
   ]
  },
  {
   "cell_type": "code",
   "execution_count": 3,
   "id": "76e0385b-bf85-44fc-9b62-02d649464217",
   "metadata": {},
   "outputs": [],
   "source": [
    "connection = psycopg2.connect(\n",
    "    dbname=DBNAME,\n",
    "    user=USER,\n",
    "    host=HOST,\n",
    "    password=PASSWORD,\n",
    "    port=PORT\n",
    ")"
   ]
  },
  {
   "cell_type": "markdown",
   "id": "825dd8b0-7448-44c0-a9d3-57f21e271320",
   "metadata": {},
   "source": [
    "Задание 6.1\n",
    "Считаем, что вакансия имеет отношение к данным, если в её названии содержатся слова 'data' или 'данн'\n",
    "Сколько вакансий "
   ]
  },
  {
   "cell_type": "code",
   "execution_count": 52,
   "id": "d9b34888-f86b-43da-a3d4-405a4d90824b",
   "metadata": {
    "scrolled": true
   },
   "outputs": [],
   "source": [
    "query = f''' select count(2)\n",
    "\n",
    " from public.vacancies v\n",
    "    where \n",
    "      name ilike '%данн%'\n",
    "      or name ilike '%data%' \n",
    "          \n",
    "       '''  "
   ]
  },
  {
   "cell_type": "code",
   "execution_count": 53,
   "id": "b7f96ece-1462-493c-a5d1-7509f9e8475e",
   "metadata": {
    "scrolled": true
   },
   "outputs": [
    {
     "name": "stderr",
     "output_type": "stream",
     "text": [
      "C:\\Users\\St965\\AppData\\Local\\Temp\\ipykernel_21472\\137330334.py:1: UserWarning: pandas only supports SQLAlchemy connectable (engine/connection) or database string URI or sqlite3 DBAPI2 connection. Other DBAPI2 objects are not tested. Please consider using SQLAlchemy.\n",
      "  df = pd.read_sql_query(query, connection)\n"
     ]
    },
    {
     "data": {
      "text/html": [
       "<div>\n",
       "<style scoped>\n",
       "    .dataframe tbody tr th:only-of-type {\n",
       "        vertical-align: middle;\n",
       "    }\n",
       "\n",
       "    .dataframe tbody tr th {\n",
       "        vertical-align: top;\n",
       "    }\n",
       "\n",
       "    .dataframe thead th {\n",
       "        text-align: right;\n",
       "    }\n",
       "</style>\n",
       "<table border=\"1\" class=\"dataframe\">\n",
       "  <thead>\n",
       "    <tr style=\"text-align: right;\">\n",
       "      <th></th>\n",
       "      <th>count</th>\n",
       "    </tr>\n",
       "  </thead>\n",
       "  <tbody>\n",
       "    <tr>\n",
       "      <th>0</th>\n",
       "      <td>1771</td>\n",
       "    </tr>\n",
       "  </tbody>\n",
       "</table>\n",
       "</div>"
      ],
      "text/plain": [
       "   count\n",
       "0   1771"
      ]
     },
     "execution_count": 53,
     "metadata": {},
     "output_type": "execute_result"
    }
   ],
   "source": [
    "df = pd.read_sql_query(query, connection)\n",
    "df"
   ]
  },
  {
   "cell_type": "markdown",
   "id": "7b6d3f93-ea3c-4f43-83f4-d9f23779ea2e",
   "metadata": {},
   "source": [
    "Задание 6.2\n",
    "Будем считать вакансиями для дата-сайентистов такие, в названии которых есть хотя бы одно из следующих сочетаний:\n",
    "В следующих заданиях мы продолжим работать с вакансиями по указанному выше условию (уже не учитывая вакансии уровня Junior)."
   ]
  },
  {
   "cell_type": "code",
   "execution_count": 54,
   "id": "5e335229-ae44-4ccd-b28b-92cb335973a6",
   "metadata": {
    "scrolled": true
   },
   "outputs": [],
   "source": [
    "query = f''' select *\n",
    "     from public.vacancies v\n",
    "     where name ilike '%junior%'\n",
    "  limit 30\n",
    "    '''  "
   ]
  },
  {
   "cell_type": "code",
   "execution_count": 55,
   "id": "d18bdd52-3df8-451b-b5a6-9c245af5ac93",
   "metadata": {
    "scrolled": true
   },
   "outputs": [
    {
     "name": "stderr",
     "output_type": "stream",
     "text": [
      "C:\\Users\\St965\\AppData\\Local\\Temp\\ipykernel_21472\\137330334.py:1: UserWarning: pandas only supports SQLAlchemy connectable (engine/connection) or database string URI or sqlite3 DBAPI2 connection. Other DBAPI2 objects are not tested. Please consider using SQLAlchemy.\n",
      "  df = pd.read_sql_query(query, connection)\n"
     ]
    },
    {
     "data": {
      "text/html": [
       "<div>\n",
       "<style scoped>\n",
       "    .dataframe tbody tr th:only-of-type {\n",
       "        vertical-align: middle;\n",
       "    }\n",
       "\n",
       "    .dataframe tbody tr th {\n",
       "        vertical-align: top;\n",
       "    }\n",
       "\n",
       "    .dataframe thead th {\n",
       "        text-align: right;\n",
       "    }\n",
       "</style>\n",
       "<table border=\"1\" class=\"dataframe\">\n",
       "  <thead>\n",
       "    <tr style=\"text-align: right;\">\n",
       "      <th></th>\n",
       "      <th>id</th>\n",
       "      <th>name</th>\n",
       "      <th>key_skills</th>\n",
       "      <th>schedule</th>\n",
       "      <th>experience</th>\n",
       "      <th>employment</th>\n",
       "      <th>salary_from</th>\n",
       "      <th>salary_to</th>\n",
       "      <th>area_id</th>\n",
       "      <th>employer_id</th>\n",
       "    </tr>\n",
       "  </thead>\n",
       "  <tbody>\n",
       "    <tr>\n",
       "      <th>0</th>\n",
       "      <td>50533416</td>\n",
       "      <td>Junior+ CV/ML developer</td>\n",
       "      <td>Python\\tSQL\\tРабота в команде\\tOpenCV\\tML</td>\n",
       "      <td>Гибкий график</td>\n",
       "      <td>От 1 года до 3 лет</td>\n",
       "      <td>Полная занятость</td>\n",
       "      <td>NaN</td>\n",
       "      <td>NaN</td>\n",
       "      <td>4</td>\n",
       "      <td>80190</td>\n",
       "    </tr>\n",
       "    <tr>\n",
       "      <th>1</th>\n",
       "      <td>47216581</td>\n",
       "      <td>Project-manager ( Junior ) / Менеджер проекта ...</td>\n",
       "      <td>Бизнес-анализ\\tУправление проектами\\tОптимизац...</td>\n",
       "      <td>Полный день</td>\n",
       "      <td>Нет опыта</td>\n",
       "      <td>Полная занятость</td>\n",
       "      <td>35000.0</td>\n",
       "      <td>NaN</td>\n",
       "      <td>2</td>\n",
       "      <td>2619123</td>\n",
       "    </tr>\n",
       "    <tr>\n",
       "      <th>2</th>\n",
       "      <td>66113194</td>\n",
       "      <td>Junior Java-разработчик</td>\n",
       "      <td>None</td>\n",
       "      <td>Полный день</td>\n",
       "      <td>От 1 года до 3 лет</td>\n",
       "      <td>Полная занятость</td>\n",
       "      <td>NaN</td>\n",
       "      <td>NaN</td>\n",
       "      <td>1</td>\n",
       "      <td>3529</td>\n",
       "    </tr>\n",
       "    <tr>\n",
       "      <th>3</th>\n",
       "      <td>55873241</td>\n",
       "      <td>Junior product manager</td>\n",
       "      <td>MS PowerPoint\\tМаркетинговые исследования\\tInt...</td>\n",
       "      <td>Удаленная работа</td>\n",
       "      <td>От 1 года до 3 лет</td>\n",
       "      <td>Полная занятость</td>\n",
       "      <td>80000.0</td>\n",
       "      <td>NaN</td>\n",
       "      <td>23</td>\n",
       "      <td>48090</td>\n",
       "    </tr>\n",
       "    <tr>\n",
       "      <th>4</th>\n",
       "      <td>50368862</td>\n",
       "      <td>Менеджер-аналитик / junior</td>\n",
       "      <td>None</td>\n",
       "      <td>Полный день</td>\n",
       "      <td>Нет опыта</td>\n",
       "      <td>Полная занятость</td>\n",
       "      <td>40000.0</td>\n",
       "      <td>NaN</td>\n",
       "      <td>2</td>\n",
       "      <td>2619123</td>\n",
       "    </tr>\n",
       "    <tr>\n",
       "      <th>5</th>\n",
       "      <td>54743984</td>\n",
       "      <td>Junior/Middle full-stack web developer (Bitrix...</td>\n",
       "      <td>Веб-программирование\\tPHP\\tPHP5\\t1С-Битрикс\\tY...</td>\n",
       "      <td>Полный день</td>\n",
       "      <td>От 1 года до 3 лет</td>\n",
       "      <td>Полная занятость</td>\n",
       "      <td>75000.0</td>\n",
       "      <td>100000.0</td>\n",
       "      <td>54</td>\n",
       "      <td>3177</td>\n",
       "    </tr>\n",
       "    <tr>\n",
       "      <th>6</th>\n",
       "      <td>54825318</td>\n",
       "      <td>Data Scientist (Junior+)</td>\n",
       "      <td>Python\\tOpenCV\\tTensorflow\\tComputer Vision\\tН...</td>\n",
       "      <td>Полный день</td>\n",
       "      <td>От 1 года до 3 лет</td>\n",
       "      <td>Полная занятость</td>\n",
       "      <td>50000.0</td>\n",
       "      <td>70000.0</td>\n",
       "      <td>72</td>\n",
       "      <td>215942</td>\n",
       "    </tr>\n",
       "    <tr>\n",
       "      <th>7</th>\n",
       "      <td>55332731</td>\n",
       "      <td>Junior PHP-разработчик</td>\n",
       "      <td>PHP\\tJavaScript\\tHTML\\tCSS\\tjQuery\\tMySQL\\tGit...</td>\n",
       "      <td>Гибкий график</td>\n",
       "      <td>Нет опыта</td>\n",
       "      <td>Полная занятость</td>\n",
       "      <td>35000.0</td>\n",
       "      <td>NaN</td>\n",
       "      <td>4</td>\n",
       "      <td>824443</td>\n",
       "    </tr>\n",
       "    <tr>\n",
       "      <th>8</th>\n",
       "      <td>55002009</td>\n",
       "      <td>Разработчик учебного портала (Webtutor) junior</td>\n",
       "      <td>JavaScript\\tHTML\\tCSS\\tПланирование карьеры\\tБ...</td>\n",
       "      <td>Полный день</td>\n",
       "      <td>От 1 года до 3 лет</td>\n",
       "      <td>Полная занятость</td>\n",
       "      <td>NaN</td>\n",
       "      <td>NaN</td>\n",
       "      <td>43</td>\n",
       "      <td>33305</td>\n",
       "    </tr>\n",
       "    <tr>\n",
       "      <th>9</th>\n",
       "      <td>55856775</td>\n",
       "      <td>Web-разработчик Junior (Fullstack-developer)</td>\n",
       "      <td>None</td>\n",
       "      <td>Полный день</td>\n",
       "      <td>Нет опыта</td>\n",
       "      <td>Полная занятость</td>\n",
       "      <td>30000.0</td>\n",
       "      <td>60000.0</td>\n",
       "      <td>66</td>\n",
       "      <td>2117135</td>\n",
       "    </tr>\n",
       "    <tr>\n",
       "      <th>10</th>\n",
       "      <td>52990867</td>\n",
       "      <td>SalesForce junior developer</td>\n",
       "      <td>None</td>\n",
       "      <td>Полный день</td>\n",
       "      <td>От 1 года до 3 лет</td>\n",
       "      <td>Полная занятость</td>\n",
       "      <td>NaN</td>\n",
       "      <td>NaN</td>\n",
       "      <td>76</td>\n",
       "      <td>77301</td>\n",
       "    </tr>\n",
       "    <tr>\n",
       "      <th>11</th>\n",
       "      <td>55350191</td>\n",
       "      <td>Бизнес-аналитик (аналитик по бизнес процессам,...</td>\n",
       "      <td>Работа в команде\\tMS PowerPoint\\tВедение отчет...</td>\n",
       "      <td>Полный день</td>\n",
       "      <td>От 1 года до 3 лет</td>\n",
       "      <td>Полная занятость</td>\n",
       "      <td>NaN</td>\n",
       "      <td>NaN</td>\n",
       "      <td>1</td>\n",
       "      <td>2733062</td>\n",
       "    </tr>\n",
       "    <tr>\n",
       "      <th>12</th>\n",
       "      <td>55350343</td>\n",
       "      <td>Junior iOS-разработчик/стажер (Kolesa Academy)</td>\n",
       "      <td>iOS\\tООП\\tSwift\\tGit\\tObjective-C</td>\n",
       "      <td>Полный день</td>\n",
       "      <td>Нет опыта</td>\n",
       "      <td>Стажировка</td>\n",
       "      <td>18307.0</td>\n",
       "      <td>18307.0</td>\n",
       "      <td>159</td>\n",
       "      <td>40662</td>\n",
       "    </tr>\n",
       "    <tr>\n",
       "      <th>13</th>\n",
       "      <td>55350344</td>\n",
       "      <td>Junior iOS-разработчик/стажер (Kolesa Academy)</td>\n",
       "      <td>iOS\\tООП\\tSwift\\tGit\\tObjective-C</td>\n",
       "      <td>Полный день</td>\n",
       "      <td>Нет опыта</td>\n",
       "      <td>Стажировка</td>\n",
       "      <td>18307.0</td>\n",
       "      <td>18307.0</td>\n",
       "      <td>160</td>\n",
       "      <td>40662</td>\n",
       "    </tr>\n",
       "    <tr>\n",
       "      <th>14</th>\n",
       "      <td>55350345</td>\n",
       "      <td>Junior iOS-разработчик/стажер (Kolesa Academy)</td>\n",
       "      <td>iOS\\tООП\\tSwift\\tGit\\tObjective-C</td>\n",
       "      <td>Полный день</td>\n",
       "      <td>Нет опыта</td>\n",
       "      <td>Стажировка</td>\n",
       "      <td>18307.0</td>\n",
       "      <td>18307.0</td>\n",
       "      <td>177</td>\n",
       "      <td>40662</td>\n",
       "    </tr>\n",
       "    <tr>\n",
       "      <th>15</th>\n",
       "      <td>55405029</td>\n",
       "      <td>Разработчик Java (Junior/Middle)</td>\n",
       "      <td>Git\\tJava\\tSpring Framework\\tООП\\tLinux</td>\n",
       "      <td>Полный день</td>\n",
       "      <td>От 1 года до 3 лет</td>\n",
       "      <td>Полная занятость</td>\n",
       "      <td>NaN</td>\n",
       "      <td>NaN</td>\n",
       "      <td>2760</td>\n",
       "      <td>6069017</td>\n",
       "    </tr>\n",
       "    <tr>\n",
       "      <th>16</th>\n",
       "      <td>55088390</td>\n",
       "      <td>Junior фронтенд-разработчик React</td>\n",
       "      <td>Git\\tCSS\\tJavaScript\\tLinux\\tHTML\\tReact\\tmobx...</td>\n",
       "      <td>Полный день</td>\n",
       "      <td>От 1 года до 3 лет</td>\n",
       "      <td>Полная занятость</td>\n",
       "      <td>50000.0</td>\n",
       "      <td>90000.0</td>\n",
       "      <td>3</td>\n",
       "      <td>4540675</td>\n",
       "    </tr>\n",
       "    <tr>\n",
       "      <th>17</th>\n",
       "      <td>55350549</td>\n",
       "      <td>Junior Consultant/Automation Specialist (Marke...</td>\n",
       "      <td>Английский язык\\tSalesforce\\tHTML/CSS</td>\n",
       "      <td>Гибкий график</td>\n",
       "      <td>От 1 года до 3 лет</td>\n",
       "      <td>Полная занятость</td>\n",
       "      <td>NaN</td>\n",
       "      <td>NaN</td>\n",
       "      <td>1002</td>\n",
       "      <td>1516877</td>\n",
       "    </tr>\n",
       "    <tr>\n",
       "      <th>18</th>\n",
       "      <td>55198963</td>\n",
       "      <td>Программист-разработчик (Junior)</td>\n",
       "      <td>SQL\\tBPMN\\tMS SQL\\tC#\\tАвтоматизация процессов...</td>\n",
       "      <td>Полный день</td>\n",
       "      <td>От 1 года до 3 лет</td>\n",
       "      <td>Полная занятость</td>\n",
       "      <td>30000.0</td>\n",
       "      <td>50000.0</td>\n",
       "      <td>96</td>\n",
       "      <td>1561536</td>\n",
       "    </tr>\n",
       "    <tr>\n",
       "      <th>19</th>\n",
       "      <td>55201007</td>\n",
       "      <td>Junior Веб-разработчик</td>\n",
       "      <td>CMS Wordpress\\tPHP\\tHTML\\tJoomla CMS\\tCSS\\t1С-...</td>\n",
       "      <td>Удаленная работа</td>\n",
       "      <td>От 1 года до 3 лет</td>\n",
       "      <td>Частичная занятость</td>\n",
       "      <td>NaN</td>\n",
       "      <td>NaN</td>\n",
       "      <td>1002</td>\n",
       "      <td>2786052</td>\n",
       "    </tr>\n",
       "    <tr>\n",
       "      <th>20</th>\n",
       "      <td>50894440</td>\n",
       "      <td>Junior Frontend разработчик (React)</td>\n",
       "      <td>TypeScript\\tWebpack\\tReact\\tJavaScript\\tFronte...</td>\n",
       "      <td>Гибкий график</td>\n",
       "      <td>От 1 года до 3 лет</td>\n",
       "      <td>Полная занятость</td>\n",
       "      <td>90000.0</td>\n",
       "      <td>NaN</td>\n",
       "      <td>1</td>\n",
       "      <td>2515455</td>\n",
       "    </tr>\n",
       "    <tr>\n",
       "      <th>21</th>\n",
       "      <td>55373400</td>\n",
       "      <td>Junior /Ї Middle Unity Developer</td>\n",
       "      <td>Git\\tC#\\tUnity\\tООП\\tC++</td>\n",
       "      <td>Удаленная работа</td>\n",
       "      <td>От 1 года до 3 лет</td>\n",
       "      <td>Полная занятость</td>\n",
       "      <td>29224.0</td>\n",
       "      <td>46759.0</td>\n",
       "      <td>115</td>\n",
       "      <td>5197055</td>\n",
       "    </tr>\n",
       "    <tr>\n",
       "      <th>22</th>\n",
       "      <td>55279308</td>\n",
       "      <td>Mobile developer (Android, iOS) junior</td>\n",
       "      <td>Git\\tReact Native\\tRedux\\tDart\\tTypeScript\\tHT...</td>\n",
       "      <td>Полный день</td>\n",
       "      <td>От 1 года до 3 лет</td>\n",
       "      <td>Полная занятость</td>\n",
       "      <td>40000.0</td>\n",
       "      <td>60000.0</td>\n",
       "      <td>90</td>\n",
       "      <td>5560707</td>\n",
       "    </tr>\n",
       "    <tr>\n",
       "      <th>23</th>\n",
       "      <td>55351334</td>\n",
       "      <td>Junior Fullstack PHP developer</td>\n",
       "      <td>Git\\tJavaScript\\tMySQL\\tООП\\tPHP\\tLinux\\tCSS\\t...</td>\n",
       "      <td>Полный день</td>\n",
       "      <td>От 1 года до 3 лет</td>\n",
       "      <td>Полная занятость</td>\n",
       "      <td>55000.0</td>\n",
       "      <td>70000.0</td>\n",
       "      <td>73</td>\n",
       "      <td>1367924</td>\n",
       "    </tr>\n",
       "    <tr>\n",
       "      <th>24</th>\n",
       "      <td>54983814</td>\n",
       "      <td>Junior QA Engineer Android/iOS</td>\n",
       "      <td>Atlassian Jira\\tФункциональное тестирование\\tT...</td>\n",
       "      <td>Полный день</td>\n",
       "      <td>От 1 года до 3 лет</td>\n",
       "      <td>Полная занятость</td>\n",
       "      <td>25000.0</td>\n",
       "      <td>35000.0</td>\n",
       "      <td>19</td>\n",
       "      <td>1748732</td>\n",
       "    </tr>\n",
       "    <tr>\n",
       "      <th>25</th>\n",
       "      <td>55352674</td>\n",
       "      <td>Junior Product/Project Manager</td>\n",
       "      <td>Product Management\\tAgile Project Management\\t...</td>\n",
       "      <td>Полный день</td>\n",
       "      <td>Нет опыта</td>\n",
       "      <td>Полная занятость</td>\n",
       "      <td>25000.0</td>\n",
       "      <td>50000.0</td>\n",
       "      <td>2</td>\n",
       "      <td>4888751</td>\n",
       "    </tr>\n",
       "    <tr>\n",
       "      <th>26</th>\n",
       "      <td>55883476</td>\n",
       "      <td>Разработчик No-code/Low-code (junior)</td>\n",
       "      <td>Обучение и развитие\\tСистемное мышление\\tБитри...</td>\n",
       "      <td>Полный день</td>\n",
       "      <td>Нет опыта</td>\n",
       "      <td>Полная занятость</td>\n",
       "      <td>30000.0</td>\n",
       "      <td>40000.0</td>\n",
       "      <td>63</td>\n",
       "      <td>1319572</td>\n",
       "    </tr>\n",
       "    <tr>\n",
       "      <th>27</th>\n",
       "      <td>54828856</td>\n",
       "      <td>Junior Android developer</td>\n",
       "      <td>None</td>\n",
       "      <td>Полный день</td>\n",
       "      <td>Нет опыта</td>\n",
       "      <td>Полная занятость</td>\n",
       "      <td>NaN</td>\n",
       "      <td>NaN</td>\n",
       "      <td>19</td>\n",
       "      <td>1748732</td>\n",
       "    </tr>\n",
       "    <tr>\n",
       "      <th>28</th>\n",
       "      <td>55218546</td>\n",
       "      <td>Junior/Middle/Senior 1C Developer/ Программист 1с</td>\n",
       "      <td>1С: Предприятие 8\\tСоздание конфигурации 1С\\t1...</td>\n",
       "      <td>Полный день</td>\n",
       "      <td>От 3 до 6 лет</td>\n",
       "      <td>Полная занятость</td>\n",
       "      <td>NaN</td>\n",
       "      <td>NaN</td>\n",
       "      <td>95</td>\n",
       "      <td>1922805</td>\n",
       "    </tr>\n",
       "    <tr>\n",
       "      <th>29</th>\n",
       "      <td>54829002</td>\n",
       "      <td>Junior Web-программист (PHP+Vue.js)</td>\n",
       "      <td>None</td>\n",
       "      <td>Полный день</td>\n",
       "      <td>Нет опыта</td>\n",
       "      <td>Полная занятость</td>\n",
       "      <td>50000.0</td>\n",
       "      <td>NaN</td>\n",
       "      <td>19</td>\n",
       "      <td>1748732</td>\n",
       "    </tr>\n",
       "  </tbody>\n",
       "</table>\n",
       "</div>"
      ],
      "text/plain": [
       "          id                                               name  \\\n",
       "0   50533416                            Junior+ CV/ML developer   \n",
       "1   47216581  Project-manager ( Junior ) / Менеджер проекта ...   \n",
       "2   66113194                            Junior Java-разработчик   \n",
       "3   55873241                             Junior product manager   \n",
       "4   50368862                         Менеджер-аналитик / junior   \n",
       "5   54743984  Junior/Middle full-stack web developer (Bitrix...   \n",
       "6   54825318                           Data Scientist (Junior+)   \n",
       "7   55332731                             Junior PHP-разработчик   \n",
       "8   55002009     Разработчик учебного портала (Webtutor) junior   \n",
       "9   55856775       Web-разработчик Junior (Fullstack-developer)   \n",
       "10  52990867                        SalesForce junior developer   \n",
       "11  55350191  Бизнес-аналитик (аналитик по бизнес процессам,...   \n",
       "12  55350343     Junior iOS-разработчик/стажер (Kolesa Academy)   \n",
       "13  55350344     Junior iOS-разработчик/стажер (Kolesa Academy)   \n",
       "14  55350345     Junior iOS-разработчик/стажер (Kolesa Academy)   \n",
       "15  55405029                   Разработчик Java (Junior/Middle)   \n",
       "16  55088390                  Junior фронтенд-разработчик React   \n",
       "17  55350549  Junior Consultant/Automation Specialist (Marke...   \n",
       "18  55198963                   Программист-разработчик (Junior)   \n",
       "19  55201007                             Junior Веб-разработчик   \n",
       "20  50894440                Junior Frontend разработчик (React)   \n",
       "21  55373400                   Junior /Ї Middle Unity Developer   \n",
       "22  55279308             Mobile developer (Android, iOS) junior   \n",
       "23  55351334                     Junior Fullstack PHP developer   \n",
       "24  54983814                     Junior QA Engineer Android/iOS   \n",
       "25  55352674                     Junior Product/Project Manager   \n",
       "26  55883476              Разработчик No-code/Low-code (junior)   \n",
       "27  54828856                           Junior Android developer   \n",
       "28  55218546  Junior/Middle/Senior 1C Developer/ Программист 1с   \n",
       "29  54829002                Junior Web-программист (PHP+Vue.js)   \n",
       "\n",
       "                                           key_skills          schedule  \\\n",
       "0           Python\\tSQL\\tРабота в команде\\tOpenCV\\tML     Гибкий график   \n",
       "1   Бизнес-анализ\\tУправление проектами\\tОптимизац...       Полный день   \n",
       "2                                                None       Полный день   \n",
       "3   MS PowerPoint\\tМаркетинговые исследования\\tInt...  Удаленная работа   \n",
       "4                                                None       Полный день   \n",
       "5   Веб-программирование\\tPHP\\tPHP5\\t1С-Битрикс\\tY...       Полный день   \n",
       "6   Python\\tOpenCV\\tTensorflow\\tComputer Vision\\tН...       Полный день   \n",
       "7   PHP\\tJavaScript\\tHTML\\tCSS\\tjQuery\\tMySQL\\tGit...     Гибкий график   \n",
       "8   JavaScript\\tHTML\\tCSS\\tПланирование карьеры\\tБ...       Полный день   \n",
       "9                                                None       Полный день   \n",
       "10                                               None       Полный день   \n",
       "11  Работа в команде\\tMS PowerPoint\\tВедение отчет...       Полный день   \n",
       "12                  iOS\\tООП\\tSwift\\tGit\\tObjective-C       Полный день   \n",
       "13                  iOS\\tООП\\tSwift\\tGit\\tObjective-C       Полный день   \n",
       "14                  iOS\\tООП\\tSwift\\tGit\\tObjective-C       Полный день   \n",
       "15            Git\\tJava\\tSpring Framework\\tООП\\tLinux       Полный день   \n",
       "16  Git\\tCSS\\tJavaScript\\tLinux\\tHTML\\tReact\\tmobx...       Полный день   \n",
       "17              Английский язык\\tSalesforce\\tHTML/CSS     Гибкий график   \n",
       "18  SQL\\tBPMN\\tMS SQL\\tC#\\tАвтоматизация процессов...       Полный день   \n",
       "19  CMS Wordpress\\tPHP\\tHTML\\tJoomla CMS\\tCSS\\t1С-...  Удаленная работа   \n",
       "20  TypeScript\\tWebpack\\tReact\\tJavaScript\\tFronte...     Гибкий график   \n",
       "21                           Git\\tC#\\tUnity\\tООП\\tC++  Удаленная работа   \n",
       "22  Git\\tReact Native\\tRedux\\tDart\\tTypeScript\\tHT...       Полный день   \n",
       "23  Git\\tJavaScript\\tMySQL\\tООП\\tPHP\\tLinux\\tCSS\\t...       Полный день   \n",
       "24  Atlassian Jira\\tФункциональное тестирование\\tT...       Полный день   \n",
       "25  Product Management\\tAgile Project Management\\t...       Полный день   \n",
       "26  Обучение и развитие\\tСистемное мышление\\tБитри...       Полный день   \n",
       "27                                               None       Полный день   \n",
       "28  1С: Предприятие 8\\tСоздание конфигурации 1С\\t1...       Полный день   \n",
       "29                                               None       Полный день   \n",
       "\n",
       "            experience           employment  salary_from  salary_to  area_id  \\\n",
       "0   От 1 года до 3 лет     Полная занятость          NaN        NaN        4   \n",
       "1            Нет опыта     Полная занятость      35000.0        NaN        2   \n",
       "2   От 1 года до 3 лет     Полная занятость          NaN        NaN        1   \n",
       "3   От 1 года до 3 лет     Полная занятость      80000.0        NaN       23   \n",
       "4            Нет опыта     Полная занятость      40000.0        NaN        2   \n",
       "5   От 1 года до 3 лет     Полная занятость      75000.0   100000.0       54   \n",
       "6   От 1 года до 3 лет     Полная занятость      50000.0    70000.0       72   \n",
       "7            Нет опыта     Полная занятость      35000.0        NaN        4   \n",
       "8   От 1 года до 3 лет     Полная занятость          NaN        NaN       43   \n",
       "9            Нет опыта     Полная занятость      30000.0    60000.0       66   \n",
       "10  От 1 года до 3 лет     Полная занятость          NaN        NaN       76   \n",
       "11  От 1 года до 3 лет     Полная занятость          NaN        NaN        1   \n",
       "12           Нет опыта           Стажировка      18307.0    18307.0      159   \n",
       "13           Нет опыта           Стажировка      18307.0    18307.0      160   \n",
       "14           Нет опыта           Стажировка      18307.0    18307.0      177   \n",
       "15  От 1 года до 3 лет     Полная занятость          NaN        NaN     2760   \n",
       "16  От 1 года до 3 лет     Полная занятость      50000.0    90000.0        3   \n",
       "17  От 1 года до 3 лет     Полная занятость          NaN        NaN     1002   \n",
       "18  От 1 года до 3 лет     Полная занятость      30000.0    50000.0       96   \n",
       "19  От 1 года до 3 лет  Частичная занятость          NaN        NaN     1002   \n",
       "20  От 1 года до 3 лет     Полная занятость      90000.0        NaN        1   \n",
       "21  От 1 года до 3 лет     Полная занятость      29224.0    46759.0      115   \n",
       "22  От 1 года до 3 лет     Полная занятость      40000.0    60000.0       90   \n",
       "23  От 1 года до 3 лет     Полная занятость      55000.0    70000.0       73   \n",
       "24  От 1 года до 3 лет     Полная занятость      25000.0    35000.0       19   \n",
       "25           Нет опыта     Полная занятость      25000.0    50000.0        2   \n",
       "26           Нет опыта     Полная занятость      30000.0    40000.0       63   \n",
       "27           Нет опыта     Полная занятость          NaN        NaN       19   \n",
       "28       От 3 до 6 лет     Полная занятость          NaN        NaN       95   \n",
       "29           Нет опыта     Полная занятость      50000.0        NaN       19   \n",
       "\n",
       "    employer_id  \n",
       "0         80190  \n",
       "1       2619123  \n",
       "2          3529  \n",
       "3         48090  \n",
       "4       2619123  \n",
       "5          3177  \n",
       "6        215942  \n",
       "7        824443  \n",
       "8         33305  \n",
       "9       2117135  \n",
       "10        77301  \n",
       "11      2733062  \n",
       "12        40662  \n",
       "13        40662  \n",
       "14        40662  \n",
       "15      6069017  \n",
       "16      4540675  \n",
       "17      1516877  \n",
       "18      1561536  \n",
       "19      2786052  \n",
       "20      2515455  \n",
       "21      5197055  \n",
       "22      5560707  \n",
       "23      1367924  \n",
       "24      1748732  \n",
       "25      4888751  \n",
       "26      1319572  \n",
       "27      1748732  \n",
       "28      1922805  \n",
       "29      1748732  "
      ]
     },
     "execution_count": 55,
     "metadata": {},
     "output_type": "execute_result"
    }
   ],
   "source": [
    "df = pd.read_sql_query(query, connection)\n",
    "df"
   ]
  },
  {
   "cell_type": "markdown",
   "id": "34f0b3ce-079c-4221-8f2d-842d4179b5f7",
   "metadata": {},
   "source": [
    "Будем считать вакансиями для дата-сайентистов такие, в названии которых есть хотя бы одно из следующих сочетаний:\n",
    "‘data scientist’;\n",
    "‘data science’;\n",
    "‘исследователь данных’;\n",
    "‘ML’ (здесь не нужно брать вакансии по HTML);\n",
    "‘machine learning’;\n",
    "‘машинн%обучен%’.\n",
    "\n",
    "Считаем вакансиями для специалистов уровня Junior следующие:\n",
    "в названии есть слово “junior” или\n",
    "требуемый опыт — «Нет опыта» или\n",
    "тип трудоустройства — «Стажировка»."
   ]
  },
  {
   "cell_type": "code",
   "execution_count": 56,
   "id": "9d193c82-84aa-40a0-a3d2-cd37b7e773c5",
   "metadata": {
    "scrolled": true
   },
   "outputs": [],
   "source": [
    "query = f''' select count(*)\n",
    "     from public.vacancies v\n",
    "     where \n",
    "     name ilike '%data scientist%'\n",
    "     or name ilike '%data science%'\n",
    "     or name ilike '%исследователь данных%'\n",
    "     or name ilike '%ML%' \n",
    "     and name not ilike '%HTML%'\n",
    "     or name ilike '%machine learning%'\n",
    "     or name ilike '%машинн%обучен%'\n",
    "     and name ilike '%junior%'\n",
    "     and experience ilike '%Нет опыта%'\n",
    "     and employment ilike '%Стажировка%'\n",
    "    '''  "
   ]
  },
  {
   "cell_type": "code",
   "execution_count": 57,
   "id": "6db5ece1-8955-4cd5-9b8a-8f667df97efb",
   "metadata": {
    "scrolled": true
   },
   "outputs": [
    {
     "name": "stderr",
     "output_type": "stream",
     "text": [
      "C:\\Users\\St965\\AppData\\Local\\Temp\\ipykernel_21472\\137330334.py:1: UserWarning: pandas only supports SQLAlchemy connectable (engine/connection) or database string URI or sqlite3 DBAPI2 connection. Other DBAPI2 objects are not tested. Please consider using SQLAlchemy.\n",
      "  df = pd.read_sql_query(query, connection)\n"
     ]
    },
    {
     "data": {
      "text/html": [
       "<div>\n",
       "<style scoped>\n",
       "    .dataframe tbody tr th:only-of-type {\n",
       "        vertical-align: middle;\n",
       "    }\n",
       "\n",
       "    .dataframe tbody tr th {\n",
       "        vertical-align: top;\n",
       "    }\n",
       "\n",
       "    .dataframe thead th {\n",
       "        text-align: right;\n",
       "    }\n",
       "</style>\n",
       "<table border=\"1\" class=\"dataframe\">\n",
       "  <thead>\n",
       "    <tr style=\"text-align: right;\">\n",
       "      <th></th>\n",
       "      <th>count</th>\n",
       "    </tr>\n",
       "  </thead>\n",
       "  <tbody>\n",
       "    <tr>\n",
       "      <th>0</th>\n",
       "      <td>524</td>\n",
       "    </tr>\n",
       "  </tbody>\n",
       "</table>\n",
       "</div>"
      ],
      "text/plain": [
       "   count\n",
       "0    524"
      ]
     },
     "execution_count": 57,
     "metadata": {},
     "output_type": "execute_result"
    }
   ],
   "source": [
    "df = pd.read_sql_query(query, connection)\n",
    "df"
   ]
  },
  {
   "cell_type": "code",
   "execution_count": null,
   "id": "eb4d92bc-238f-47d2-971d-310636630248",
   "metadata": {},
   "outputs": [],
   "source": []
  }
 ],
 "metadata": {
  "kernelspec": {
   "display_name": "Python 3 (ipykernel)",
   "language": "python",
   "name": "python3"
  },
  "language_info": {
   "codemirror_mode": {
    "name": "ipython",
    "version": 3
   },
   "file_extension": ".py",
   "mimetype": "text/x-python",
   "name": "python",
   "nbconvert_exporter": "python",
   "pygments_lexer": "ipython3",
   "version": "3.12.6"
  }
 },
 "nbformat": 4,
 "nbformat_minor": 5
}
