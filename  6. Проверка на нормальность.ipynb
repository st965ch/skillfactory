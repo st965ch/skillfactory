{
 "cells": [
  {
   "cell_type": "markdown",
   "id": "d4b1a2f5-350b-4a02-a08a-0ac741b48716",
   "metadata": {},
   "source": [
    "##### 6. Проверка на нормальность"
   ]
  },
  {
   "cell_type": "markdown",
   "id": "bedd791a-0b87-44e5-8cf5-5e36a0d4d64d",
   "metadata": {},
   "source": [
    "В предыдущем юните мы говорили, что для выбора между параметрическими и непараметрическими тестами необходимо проверить распределение признаков на нормальность. Сейчас мы узнаем, что такое нормальное распределение, почему оно так важно для нас и как проверить, подчиняется ли распределение данных нормальному закону.\n",
    "\n",
    "Начиная с этого раздела, мы будем практиковаться на Python. Для этого нам понадобятся две новых библиотеки:\n",
    "SciPy — библиотека для научных и инженерных расчётов. https://docs.scipy.org/doc/scipy/index.html\n",
    "Statsmodels — библиотека для статистических исследований. https://www.statsmodels.org/stable/index.html\n",
    "Установить эти библиотеки можно с помощью стандартной команды:"
   ]
  },
  {
   "cell_type": "code",
   "execution_count": null,
   "id": "ab1b99ad-b958-45ee-9116-9c1a875e839c",
   "metadata": {},
   "outputs": [],
   "source": []
  }
 ],
 "metadata": {
  "kernelspec": {
   "display_name": "Python 3 (ipykernel)",
   "language": "python",
   "name": "python3"
  },
  "language_info": {
   "codemirror_mode": {
    "name": "ipython",
    "version": 3
   },
   "file_extension": ".py",
   "mimetype": "text/x-python",
   "name": "python",
   "nbconvert_exporter": "python",
   "pygments_lexer": "ipython3",
   "version": "3.12.6"
  }
 },
 "nbformat": 4,
 "nbformat_minor": 5
}
