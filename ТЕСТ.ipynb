{
 "cells": [
  {
   "cell_type": "code",
   "execution_count": 1,
   "id": "debca30c-d3f1-41d8-96b0-ea4247885b8b",
   "metadata": {},
   "outputs": [],
   "source": [
    "from sklearn.feature_selection import chi2\n",
    "import pandas as pd\n",
    "import matplotlib.pyplot as plt\n",
    "import seaborn as sns\n",
    "from matplotlib import pyplot as plt"
   ]
  },
  {
   "cell_type": "code",
   "execution_count": 2,
   "id": "6d65388b-0f3b-4308-82d4-2c6f89795ff6",
   "metadata": {
    "scrolled": true
   },
   "outputs": [
    {
     "data": {
      "text/html": [
       "<div>\n",
       "<style scoped>\n",
       "    .dataframe tbody tr th:only-of-type {\n",
       "        vertical-align: middle;\n",
       "    }\n",
       "\n",
       "    .dataframe tbody tr th {\n",
       "        vertical-align: top;\n",
       "    }\n",
       "\n",
       "    .dataframe thead th {\n",
       "        text-align: right;\n",
       "    }\n",
       "</style>\n",
       "<table border=\"1\" class=\"dataframe\">\n",
       "  <thead>\n",
       "    <tr style=\"text-align: right;\">\n",
       "      <th></th>\n",
       "      <th>hotel_address</th>\n",
       "      <th>additional_number_of_scoring</th>\n",
       "      <th>review_date</th>\n",
       "      <th>average_score</th>\n",
       "      <th>hotel_name</th>\n",
       "      <th>reviewer_nationality</th>\n",
       "      <th>negative_review</th>\n",
       "      <th>review_total_negative_word_counts</th>\n",
       "      <th>total_number_of_reviews</th>\n",
       "      <th>positive_review</th>\n",
       "      <th>review_total_positive_word_counts</th>\n",
       "      <th>total_number_of_reviews_reviewer_has_given</th>\n",
       "      <th>reviewer_score</th>\n",
       "      <th>tags</th>\n",
       "      <th>days_since_review</th>\n",
       "      <th>lat</th>\n",
       "      <th>lng</th>\n",
       "    </tr>\n",
       "  </thead>\n",
       "  <tbody>\n",
       "    <tr>\n",
       "      <th>0</th>\n",
       "      <td>Stratton Street Mayfair Westminster Borough Lo...</td>\n",
       "      <td>581</td>\n",
       "      <td>2/19/2016</td>\n",
       "      <td>8.4</td>\n",
       "      <td>The May Fair Hotel</td>\n",
       "      <td>United Kingdom</td>\n",
       "      <td>Leaving</td>\n",
       "      <td>3</td>\n",
       "      <td>1994</td>\n",
       "      <td>Staff were amazing</td>\n",
       "      <td>4</td>\n",
       "      <td>7</td>\n",
       "      <td>10.0</td>\n",
       "      <td>[' Leisure trip ', ' Couple ', ' Studio Suite ...</td>\n",
       "      <td>531 day</td>\n",
       "      <td>51.507894</td>\n",
       "      <td>-0.143671</td>\n",
       "    </tr>\n",
       "    <tr>\n",
       "      <th>1</th>\n",
       "      <td>130 134 Southampton Row Camden London WC1B 5AF...</td>\n",
       "      <td>299</td>\n",
       "      <td>1/12/2017</td>\n",
       "      <td>8.3</td>\n",
       "      <td>Mercure London Bloomsbury Hotel</td>\n",
       "      <td>United Kingdom</td>\n",
       "      <td>poor breakfast</td>\n",
       "      <td>3</td>\n",
       "      <td>1361</td>\n",
       "      <td>location</td>\n",
       "      <td>2</td>\n",
       "      <td>14</td>\n",
       "      <td>6.3</td>\n",
       "      <td>[' Business trip ', ' Couple ', ' Standard Dou...</td>\n",
       "      <td>203 day</td>\n",
       "      <td>51.521009</td>\n",
       "      <td>-0.123097</td>\n",
       "    </tr>\n",
       "  </tbody>\n",
       "</table>\n",
       "</div>"
      ],
      "text/plain": [
       "                                       hotel_address  \\\n",
       "0  Stratton Street Mayfair Westminster Borough Lo...   \n",
       "1  130 134 Southampton Row Camden London WC1B 5AF...   \n",
       "\n",
       "   additional_number_of_scoring review_date  average_score  \\\n",
       "0                           581   2/19/2016            8.4   \n",
       "1                           299   1/12/2017            8.3   \n",
       "\n",
       "                        hotel_name reviewer_nationality  negative_review  \\\n",
       "0               The May Fair Hotel      United Kingdom          Leaving    \n",
       "1  Mercure London Bloomsbury Hotel      United Kingdom    poor breakfast   \n",
       "\n",
       "   review_total_negative_word_counts  total_number_of_reviews  \\\n",
       "0                                  3                     1994   \n",
       "1                                  3                     1361   \n",
       "\n",
       "       positive_review  review_total_positive_word_counts  \\\n",
       "0   Staff were amazing                                  4   \n",
       "1             location                                  2   \n",
       "\n",
       "   total_number_of_reviews_reviewer_has_given  reviewer_score  \\\n",
       "0                                           7            10.0   \n",
       "1                                          14             6.3   \n",
       "\n",
       "                                                tags days_since_review  \\\n",
       "0  [' Leisure trip ', ' Couple ', ' Studio Suite ...           531 day   \n",
       "1  [' Business trip ', ' Couple ', ' Standard Dou...           203 day   \n",
       "\n",
       "         lat       lng  \n",
       "0  51.507894 -0.143671  \n",
       "1  51.521009 -0.123097  "
      ]
     },
     "execution_count": 2,
     "metadata": {},
     "output_type": "execute_result"
    }
   ],
   "source": [
    "df = pd.read_csv('hotels.csv')\n",
    "df.head(2)"
   ]
  },
  {
   "cell_type": "code",
   "execution_count": 3,
   "id": "4864d352-fe4e-45d6-99c1-a4b2303ddf44",
   "metadata": {},
   "outputs": [
    {
     "data": {
      "text/html": [
       "<div>\n",
       "<style scoped>\n",
       "    .dataframe tbody tr th:only-of-type {\n",
       "        vertical-align: middle;\n",
       "    }\n",
       "\n",
       "    .dataframe tbody tr th {\n",
       "        vertical-align: top;\n",
       "    }\n",
       "\n",
       "    .dataframe thead th {\n",
       "        text-align: right;\n",
       "    }\n",
       "</style>\n",
       "<table border=\"1\" class=\"dataframe\">\n",
       "  <thead>\n",
       "    <tr style=\"text-align: right;\">\n",
       "      <th></th>\n",
       "      <th>hotel_address</th>\n",
       "      <th>additional_number_of_scoring</th>\n",
       "      <th>review_date</th>\n",
       "      <th>average_score</th>\n",
       "      <th>hotel_name</th>\n",
       "      <th>reviewer_nationality</th>\n",
       "      <th>negative_review</th>\n",
       "      <th>review_total_negative_word_counts</th>\n",
       "      <th>total_number_of_reviews</th>\n",
       "      <th>positive_review</th>\n",
       "      <th>review_total_positive_word_counts</th>\n",
       "      <th>total_number_of_reviews_reviewer_has_given</th>\n",
       "      <th>reviewer_score</th>\n",
       "      <th>tags</th>\n",
       "      <th>days_since_review</th>\n",
       "      <th>lat</th>\n",
       "      <th>lng</th>\n",
       "    </tr>\n",
       "  </thead>\n",
       "  <tbody>\n",
       "    <tr>\n",
       "      <th>386801</th>\n",
       "      <td>31 Great Cumberland Place Westminster Borough ...</td>\n",
       "      <td>365</td>\n",
       "      <td>5/21/2017</td>\n",
       "      <td>8.1</td>\n",
       "      <td>The Marble Arch London</td>\n",
       "      <td>United Arab Emirates</td>\n",
       "      <td>No Negative</td>\n",
       "      <td>0</td>\n",
       "      <td>1567</td>\n",
       "      <td>Location and very comfy bed</td>\n",
       "      <td>6</td>\n",
       "      <td>28</td>\n",
       "      <td>9.2</td>\n",
       "      <td>[' Leisure trip ', ' Solo traveler ', ' Deluxe...</td>\n",
       "      <td>74 days</td>\n",
       "      <td>51.515125</td>\n",
       "      <td>-0.160066</td>\n",
       "    </tr>\n",
       "    <tr>\n",
       "      <th>386802</th>\n",
       "      <td>25 Courtfield Gardens Kensington and Chelsea L...</td>\n",
       "      <td>222</td>\n",
       "      <td>8/5/2016</td>\n",
       "      <td>9.0</td>\n",
       "      <td>The Nadler Kensington</td>\n",
       "      <td>Australia</td>\n",
       "      <td>Patio outside could have been cleaned of alga...</td>\n",
       "      <td>20</td>\n",
       "      <td>1209</td>\n",
       "      <td>Beds comfortable Pillows also good Homely fee...</td>\n",
       "      <td>20</td>\n",
       "      <td>2</td>\n",
       "      <td>8.8</td>\n",
       "      <td>[' Leisure trip ', ' Couple ', ' Bunk Bed Room...</td>\n",
       "      <td>363 day</td>\n",
       "      <td>51.493109</td>\n",
       "      <td>-0.190208</td>\n",
       "    </tr>\n",
       "  </tbody>\n",
       "</table>\n",
       "</div>"
      ],
      "text/plain": [
       "                                            hotel_address  \\\n",
       "386801  31 Great Cumberland Place Westminster Borough ...   \n",
       "386802  25 Courtfield Gardens Kensington and Chelsea L...   \n",
       "\n",
       "        additional_number_of_scoring review_date  average_score  \\\n",
       "386801                           365   5/21/2017            8.1   \n",
       "386802                           222    8/5/2016            9.0   \n",
       "\n",
       "                    hotel_name    reviewer_nationality  \\\n",
       "386801  The Marble Arch London   United Arab Emirates    \n",
       "386802   The Nadler Kensington              Australia    \n",
       "\n",
       "                                          negative_review  \\\n",
       "386801                                        No Negative   \n",
       "386802   Patio outside could have been cleaned of alga...   \n",
       "\n",
       "        review_total_negative_word_counts  total_number_of_reviews  \\\n",
       "386801                                  0                     1567   \n",
       "386802                                 20                     1209   \n",
       "\n",
       "                                          positive_review  \\\n",
       "386801                        Location and very comfy bed   \n",
       "386802   Beds comfortable Pillows also good Homely fee...   \n",
       "\n",
       "        review_total_positive_word_counts  \\\n",
       "386801                                  6   \n",
       "386802                                 20   \n",
       "\n",
       "        total_number_of_reviews_reviewer_has_given  reviewer_score  \\\n",
       "386801                                          28             9.2   \n",
       "386802                                           2             8.8   \n",
       "\n",
       "                                                     tags days_since_review  \\\n",
       "386801  [' Leisure trip ', ' Solo traveler ', ' Deluxe...           74 days   \n",
       "386802  [' Leisure trip ', ' Couple ', ' Bunk Bed Room...           363 day   \n",
       "\n",
       "              lat       lng  \n",
       "386801  51.515125 -0.160066  \n",
       "386802  51.493109 -0.190208  "
      ]
     },
     "execution_count": 3,
     "metadata": {},
     "output_type": "execute_result"
    }
   ],
   "source": [
    "df.tail(2)"
   ]
  },
  {
   "cell_type": "code",
   "execution_count": 4,
   "id": "9ef2b774-e1db-4ca9-a784-3f49200976f2",
   "metadata": {
    "scrolled": true
   },
   "outputs": [
    {
     "name": "stdout",
     "output_type": "stream",
     "text": [
      "<class 'pandas.core.frame.DataFrame'>\n",
      "RangeIndex: 386803 entries, 0 to 386802\n",
      "Data columns (total 17 columns):\n",
      " #   Column                                      Non-Null Count   Dtype  \n",
      "---  ------                                      --------------   -----  \n",
      " 0   hotel_address                               386803 non-null  object \n",
      " 1   additional_number_of_scoring                386803 non-null  int64  \n",
      " 2   review_date                                 386803 non-null  object \n",
      " 3   average_score                               386803 non-null  float64\n",
      " 4   hotel_name                                  386803 non-null  object \n",
      " 5   reviewer_nationality                        386803 non-null  object \n",
      " 6   negative_review                             386803 non-null  object \n",
      " 7   review_total_negative_word_counts           386803 non-null  int64  \n",
      " 8   total_number_of_reviews                     386803 non-null  int64  \n",
      " 9   positive_review                             386803 non-null  object \n",
      " 10  review_total_positive_word_counts           386803 non-null  int64  \n",
      " 11  total_number_of_reviews_reviewer_has_given  386803 non-null  int64  \n",
      " 12  reviewer_score                              386803 non-null  float64\n",
      " 13  tags                                        386803 non-null  object \n",
      " 14  days_since_review                           386803 non-null  object \n",
      " 15  lat                                         384355 non-null  float64\n",
      " 16  lng                                         384355 non-null  float64\n",
      "dtypes: float64(4), int64(5), object(8)\n",
      "memory usage: 50.2+ MB\n"
     ]
    }
   ],
   "source": [
    "df.info()"
   ]
  },
  {
   "cell_type": "code",
   "execution_count": 5,
   "id": "d26552e0-1cbe-4a52-9543-08efb1864385",
   "metadata": {},
   "outputs": [],
   "source": [
    "df['review_date'] = pd.to_datetime(df['review_date'], errors='coerce')"
   ]
  },
  {
   "cell_type": "code",
   "execution_count": 6,
   "id": "4b43780d-a6c4-4e26-9715-bbc28bba74f6",
   "metadata": {
    "scrolled": true
   },
   "outputs": [
    {
     "name": "stdout",
     "output_type": "stream",
     "text": [
      "<class 'pandas.core.frame.DataFrame'>\n",
      "RangeIndex: 386803 entries, 0 to 386802\n",
      "Data columns (total 17 columns):\n",
      " #   Column                                      Non-Null Count   Dtype         \n",
      "---  ------                                      --------------   -----         \n",
      " 0   hotel_address                               386803 non-null  object        \n",
      " 1   additional_number_of_scoring                386803 non-null  int64         \n",
      " 2   review_date                                 386803 non-null  datetime64[ns]\n",
      " 3   average_score                               386803 non-null  float64       \n",
      " 4   hotel_name                                  386803 non-null  object        \n",
      " 5   reviewer_nationality                        386803 non-null  object        \n",
      " 6   negative_review                             386803 non-null  object        \n",
      " 7   review_total_negative_word_counts           386803 non-null  int64         \n",
      " 8   total_number_of_reviews                     386803 non-null  int64         \n",
      " 9   positive_review                             386803 non-null  object        \n",
      " 10  review_total_positive_word_counts           386803 non-null  int64         \n",
      " 11  total_number_of_reviews_reviewer_has_given  386803 non-null  int64         \n",
      " 12  reviewer_score                              386803 non-null  float64       \n",
      " 13  tags                                        386803 non-null  object        \n",
      " 14  days_since_review                           386803 non-null  object        \n",
      " 15  lat                                         384355 non-null  float64       \n",
      " 16  lng                                         384355 non-null  float64       \n",
      "dtypes: datetime64[ns](1), float64(4), int64(5), object(7)\n",
      "memory usage: 50.2+ MB\n"
     ]
    }
   ],
   "source": [
    "df.info()"
   ]
  },
  {
   "cell_type": "code",
   "execution_count": 7,
   "id": "e6bd07ee-5e53-46a7-af15-9be6af438a16",
   "metadata": {},
   "outputs": [
    {
     "name": "stdout",
     "output_type": "stream",
     "text": [
      "0    [' Leisure trip ', ' Couple ', ' Studio Suite ...\n",
      "1    [' Business trip ', ' Couple ', ' Standard Dou...\n",
      "2    [' Leisure trip ', ' Solo traveler ', ' Modern...\n",
      "3    [' Leisure trip ', ' Solo traveler ', ' Standa...\n",
      "4    [' Business trip ', ' Couple ', ' Standard Dou...\n",
      "5    [' Business trip ', ' Solo traveler ', ' Super...\n",
      "6    [' Leisure trip ', ' Couple ', ' Double Room N...\n",
      "7    [' Leisure trip ', ' Couple ', ' Superior Doub...\n",
      "8    [' Leisure trip ', ' Couple ', ' Double Room '...\n",
      "9    [' Leisure trip ', ' Couple ', ' Twin Hilton G...\n",
      "Name: tags, dtype: object\n"
     ]
    }
   ],
   "source": [
    "# 1 Посмотреть первые несколько значений столбца:\n",
    "print(df['tags'].head(10))\n",
    "# Это покажет, как выглядят теги — есть ли там списки, строки с разделителями, кавычки и т.д."
   ]
  },
  {
   "cell_type": "code",
   "execution_count": 8,
   "id": "eaec2a24-974f-49e2-a84a-f22094554389",
   "metadata": {},
   "outputs": [
    {
     "name": "stdout",
     "output_type": "stream",
     "text": [
      "object\n"
     ]
    }
   ],
   "source": [
    "# 2 Узнать тип данных столбца:\n",
    "print(df['tags'].dtype)"
   ]
  },
  {
   "cell_type": "code",
   "execution_count": 9,
   "id": "4d22d9e0-2180-466e-9744-5ee95083d999",
   "metadata": {},
   "outputs": [
    {
     "name": "stdout",
     "output_type": "stream",
     "text": [
      "[\"[' Leisure trip ', ' Couple ', ' Studio Suite ', ' Stayed 2 nights ', ' Submitted from a mobile device ']\"\n",
      " \"[' Business trip ', ' Couple ', ' Standard Double Room ', ' Stayed 1 night ']\"\n",
      " \"[' Leisure trip ', ' Solo traveler ', ' Modern Double Room Echo ', ' Stayed 3 nights ', ' Submitted from a mobile device ']\"\n",
      " \"[' Leisure trip ', ' Solo traveler ', ' Standard Room with 1 Double Bed ', ' Stayed 1 night ']\"\n",
      " \"[' Business trip ', ' Couple ', ' Standard Double or Twin Room ', ' Stayed 6 nights ']\"\n",
      " \"[' Business trip ', ' Solo traveler ', ' Superior Twin Room ', ' Stayed 1 night ', ' Submitted from a mobile device ']\"\n",
      " \"[' Leisure trip ', ' Couple ', ' Double Room Non Smoking ', ' Stayed 1 night ', ' Submitted from a mobile device ']\"\n",
      " \"[' Leisure trip ', ' Couple ', ' Superior Double Room ', ' Stayed 4 nights ']\"\n",
      " \"[' Leisure trip ', ' Couple ', ' Double Room ', ' Stayed 1 night ']\"\n",
      " \"[' Leisure trip ', ' Couple ', ' Twin Hilton Guest Room ', ' Stayed 1 night ', ' Submitted from a mobile device ']\"]\n",
      "tags\n",
      "[' Leisure trip ', ' Couple ', ' Double Room ', ' Stayed 1 night ', ' Submitted from a mobile device ']              3853\n",
      "[' Leisure trip ', ' Couple ', ' Standard Double Room ', ' Stayed 1 night ', ' Submitted from a mobile device ']     3673\n",
      "[' Leisure trip ', ' Couple ', ' Superior Double Room ', ' Stayed 1 night ', ' Submitted from a mobile device ']     3274\n",
      "[' Leisure trip ', ' Couple ', ' Deluxe Double Room ', ' Stayed 1 night ', ' Submitted from a mobile device ']       2964\n",
      "[' Leisure trip ', ' Couple ', ' Double Room ', ' Stayed 2 nights ', ' Submitted from a mobile device ']             2454\n",
      "[' Leisure trip ', ' Couple ', ' Superior Double Room ', ' Stayed 2 nights ', ' Submitted from a mobile device ']    2330\n",
      "[' Leisure trip ', ' Couple ', ' Double Room ', ' Stayed 1 night ']                                                  2181\n",
      "[' Leisure trip ', ' Couple ', ' Standard Double Room ', ' Stayed 2 nights ', ' Submitted from a mobile device ']    2163\n",
      "[' Leisure trip ', ' Couple ', ' Standard Double Room ', ' Stayed 1 night ']                                         1965\n",
      "[' Leisure trip ', ' Couple ', ' Deluxe Double Room ', ' Stayed 2 nights ', ' Submitted from a mobile device ']      1771\n",
      "Name: count, dtype: int64\n"
     ]
    }
   ],
   "source": [
    "# 3 Посмотреть распределение или примеры уникальных значений:\n",
    "print(df['tags'].dropna().unique()[:10])\n",
    "# или\n",
    "print(df['tags'].value_counts().head(10))"
   ]
  },
  {
   "cell_type": "code",
   "execution_count": 10,
   "id": "eb39e531-33c1-4bdc-b82c-8b40e7068cbb",
   "metadata": {},
   "outputs": [
    {
     "name": "stdout",
     "output_type": "stream",
     "text": [
      "0\n",
      "Empty DataFrame\n",
      "Columns: [hotel_address, additional_number_of_scoring, review_date, average_score, hotel_name, reviewer_nationality, negative_review, review_total_negative_word_counts, total_number_of_reviews, positive_review, review_total_positive_word_counts, total_number_of_reviews_reviewer_has_given, reviewer_score, tags, days_since_review, lat, lng]\n",
      "Index: []\n"
     ]
    }
   ],
   "source": [
    "# 4 Проверить, есть ли пустые или необычные значения:\n",
    "print(df['tags'].isna().sum())    # количество пропусков\n",
    "print(df.loc[df['tags'].isna()])  # строки с пропусками в tags\n",
    "# означает, что в вашем DataFrame сейчас нет ни одной строки данных (пустой DataFrame)."
   ]
  },
  {
   "cell_type": "code",
   "execution_count": 11,
   "id": "695ad1b2-acdc-428d-9133-0af40bb1bb88",
   "metadata": {},
   "outputs": [
    {
     "name": "stdout",
     "output_type": "stream",
     "text": [
      "[' Leisure trip ', ' Couple ', ' Studio Suite ', ' Stayed 2 nights ', ' Submitted from a mobile device ']\n"
     ]
    }
   ],
   "source": [
    "# 5 Если значения в виде строк со списками или скобками, можно вывести срез по конкретной строке для подробного анализа:\n",
    "print(df.loc[0, 'tags'])"
   ]
  },
  {
   "cell_type": "code",
   "execution_count": 12,
   "id": "b3224907-c06c-450f-a015-4290daeea84c",
   "metadata": {
    "scrolled": true
   },
   "outputs": [
    {
     "name": "stdout",
     "output_type": "stream",
     "text": [
      "(386803, 17)\n",
      "                                       hotel_address  \\\n",
      "0  Stratton Street Mayfair Westminster Borough Lo...   \n",
      "1  130 134 Southampton Row Camden London WC1B 5AF...   \n",
      "2   151 bis Rue de Rennes 6th arr 75006 Paris France   \n",
      "3  216 Avenue Jean Jaures 19th arr 75019 Paris Fr...   \n",
      "4          Molenwerf 1 1014 AG Amsterdam Netherlands   \n",
      "\n",
      "   additional_number_of_scoring review_date  average_score  \\\n",
      "0                           581  2016-02-19            8.4   \n",
      "1                           299  2017-01-12            8.3   \n",
      "2                            32  2016-10-18            8.9   \n",
      "3                            34  2015-09-22            7.5   \n",
      "4                           914  2016-03-05            8.5   \n",
      "\n",
      "                                  hotel_name reviewer_nationality  \\\n",
      "0                         The May Fair Hotel      United Kingdom    \n",
      "1            Mercure London Bloomsbury Hotel      United Kingdom    \n",
      "2          Legend Saint Germain by Elegancia               China    \n",
      "3  Mercure Paris 19 Philharmonie La Villette      United Kingdom    \n",
      "4                Golden Tulip Amsterdam West              Poland    \n",
      "\n",
      "       negative_review  review_total_negative_word_counts  \\\n",
      "0             Leaving                                   3   \n",
      "1       poor breakfast                                  3   \n",
      "2   No kettle in room                                   6   \n",
      "3          No Negative                                  0   \n",
      "4         Torn sheets                                   4   \n",
      "\n",
      "   total_number_of_reviews                                    positive_review  \\\n",
      "0                     1994                                 Staff were amazing   \n",
      "1                     1361                                           location   \n",
      "2                      406                                        No Positive   \n",
      "3                      607   Friendly staff quiet comfortable room spotles...   \n",
      "4                     7586   The staff was very friendly and helpful Break...   \n",
      "\n",
      "   review_total_positive_word_counts  \\\n",
      "0                                  4   \n",
      "1                                  2   \n",
      "2                                  0   \n",
      "3                                 11   \n",
      "4                                 20   \n",
      "\n",
      "   total_number_of_reviews_reviewer_has_given  reviewer_score  \\\n",
      "0                                           7            10.0   \n",
      "1                                          14             6.3   \n",
      "2                                          14             7.5   \n",
      "3                                           8            10.0   \n",
      "4                                          10             9.6   \n",
      "\n",
      "                                                tags days_since_review  \\\n",
      "0  [' Leisure trip ', ' Couple ', ' Studio Suite ...           531 day   \n",
      "1  [' Business trip ', ' Couple ', ' Standard Dou...           203 day   \n",
      "2  [' Leisure trip ', ' Solo traveler ', ' Modern...           289 day   \n",
      "3  [' Leisure trip ', ' Solo traveler ', ' Standa...           681 day   \n",
      "4  [' Business trip ', ' Couple ', ' Standard Dou...           516 day   \n",
      "\n",
      "         lat       lng  \n",
      "0  51.507894 -0.143671  \n",
      "1  51.521009 -0.123097  \n",
      "2  48.845377  2.325643  \n",
      "3  48.888697  2.394540  \n",
      "4  52.385601  4.847060  \n"
     ]
    }
   ],
   "source": [
    "# Из-за этого, естественно, при попытке вывести примеры из столбца tags или других ничего не покажется.\n",
    "# Что проверить дальше\n",
    "#  Убедитесь, что данные действительно загружены в DataFrame df и он не пустой:\n",
    "print(df.shape)  # Покажет количество строк и столбцов\n",
    "print(df.head())  # Покажет первые несколько строк с данными"
   ]
  },
  {
   "cell_type": "code",
   "execution_count": 13,
   "id": "4d30f175-ba08-42f5-9da9-b47b5830cbcd",
   "metadata": {},
   "outputs": [
    {
     "data": {
      "text/html": [
       "<div>\n",
       "<style scoped>\n",
       "    .dataframe tbody tr th:only-of-type {\n",
       "        vertical-align: middle;\n",
       "    }\n",
       "\n",
       "    .dataframe tbody tr th {\n",
       "        vertical-align: top;\n",
       "    }\n",
       "\n",
       "    .dataframe thead th {\n",
       "        text-align: right;\n",
       "    }\n",
       "</style>\n",
       "<table border=\"1\" class=\"dataframe\">\n",
       "  <thead>\n",
       "    <tr style=\"text-align: right;\">\n",
       "      <th></th>\n",
       "      <th>hotel_address</th>\n",
       "      <th>additional_number_of_scoring</th>\n",
       "      <th>review_date</th>\n",
       "      <th>average_score</th>\n",
       "      <th>hotel_name</th>\n",
       "      <th>reviewer_nationality</th>\n",
       "      <th>negative_review</th>\n",
       "      <th>review_total_negative_word_counts</th>\n",
       "      <th>total_number_of_reviews</th>\n",
       "      <th>positive_review</th>\n",
       "      <th>review_total_positive_word_counts</th>\n",
       "      <th>total_number_of_reviews_reviewer_has_given</th>\n",
       "      <th>reviewer_score</th>\n",
       "      <th>tags</th>\n",
       "      <th>days_since_review</th>\n",
       "      <th>lat</th>\n",
       "      <th>lng</th>\n",
       "    </tr>\n",
       "  </thead>\n",
       "  <tbody>\n",
       "    <tr>\n",
       "      <th>0</th>\n",
       "      <td>Stratton Street Mayfair Westminster Borough Lo...</td>\n",
       "      <td>581</td>\n",
       "      <td>2016-02-19</td>\n",
       "      <td>8.4</td>\n",
       "      <td>The May Fair Hotel</td>\n",
       "      <td>United Kingdom</td>\n",
       "      <td>Leaving</td>\n",
       "      <td>3</td>\n",
       "      <td>1994</td>\n",
       "      <td>Staff were amazing</td>\n",
       "      <td>4</td>\n",
       "      <td>7</td>\n",
       "      <td>10.0</td>\n",
       "      <td>[' Leisure trip ', ' Couple ', ' Studio Suite ...</td>\n",
       "      <td>531 day</td>\n",
       "      <td>51.507894</td>\n",
       "      <td>-0.143671</td>\n",
       "    </tr>\n",
       "    <tr>\n",
       "      <th>1</th>\n",
       "      <td>130 134 Southampton Row Camden London WC1B 5AF...</td>\n",
       "      <td>299</td>\n",
       "      <td>2017-01-12</td>\n",
       "      <td>8.3</td>\n",
       "      <td>Mercure London Bloomsbury Hotel</td>\n",
       "      <td>United Kingdom</td>\n",
       "      <td>poor breakfast</td>\n",
       "      <td>3</td>\n",
       "      <td>1361</td>\n",
       "      <td>location</td>\n",
       "      <td>2</td>\n",
       "      <td>14</td>\n",
       "      <td>6.3</td>\n",
       "      <td>[' Business trip ', ' Couple ', ' Standard Dou...</td>\n",
       "      <td>203 day</td>\n",
       "      <td>51.521009</td>\n",
       "      <td>-0.123097</td>\n",
       "    </tr>\n",
       "  </tbody>\n",
       "</table>\n",
       "</div>"
      ],
      "text/plain": [
       "                                       hotel_address  \\\n",
       "0  Stratton Street Mayfair Westminster Borough Lo...   \n",
       "1  130 134 Southampton Row Camden London WC1B 5AF...   \n",
       "\n",
       "   additional_number_of_scoring review_date  average_score  \\\n",
       "0                           581  2016-02-19            8.4   \n",
       "1                           299  2017-01-12            8.3   \n",
       "\n",
       "                        hotel_name reviewer_nationality  negative_review  \\\n",
       "0               The May Fair Hotel      United Kingdom          Leaving    \n",
       "1  Mercure London Bloomsbury Hotel      United Kingdom    poor breakfast   \n",
       "\n",
       "   review_total_negative_word_counts  total_number_of_reviews  \\\n",
       "0                                  3                     1994   \n",
       "1                                  3                     1361   \n",
       "\n",
       "       positive_review  review_total_positive_word_counts  \\\n",
       "0   Staff were amazing                                  4   \n",
       "1             location                                  2   \n",
       "\n",
       "   total_number_of_reviews_reviewer_has_given  reviewer_score  \\\n",
       "0                                           7            10.0   \n",
       "1                                          14             6.3   \n",
       "\n",
       "                                                tags days_since_review  \\\n",
       "0  [' Leisure trip ', ' Couple ', ' Studio Suite ...           531 day   \n",
       "1  [' Business trip ', ' Couple ', ' Standard Dou...           203 day   \n",
       "\n",
       "         lat       lng  \n",
       "0  51.507894 -0.143671  \n",
       "1  51.521009 -0.123097  "
      ]
     },
     "execution_count": 13,
     "metadata": {},
     "output_type": "execute_result"
    }
   ],
   "source": [
    "df.head(2)"
   ]
  },
  {
   "cell_type": "code",
   "execution_count": 14,
   "id": "a07061b2-c3f4-402e-9a47-c58508bb015f",
   "metadata": {},
   "outputs": [
    {
     "name": "stdout",
     "output_type": "stream",
     "text": [
      "<class 'pandas.core.frame.DataFrame'>\n",
      "RangeIndex: 386803 entries, 0 to 386802\n",
      "Data columns (total 17 columns):\n",
      " #   Column                                      Non-Null Count   Dtype         \n",
      "---  ------                                      --------------   -----         \n",
      " 0   hotel_address                               386803 non-null  object        \n",
      " 1   additional_number_of_scoring                386803 non-null  int64         \n",
      " 2   review_date                                 386803 non-null  datetime64[ns]\n",
      " 3   average_score                               386803 non-null  float64       \n",
      " 4   hotel_name                                  386803 non-null  object        \n",
      " 5   reviewer_nationality                        386803 non-null  object        \n",
      " 6   negative_review                             386803 non-null  object        \n",
      " 7   review_total_negative_word_counts           386803 non-null  int64         \n",
      " 8   total_number_of_reviews                     386803 non-null  int64         \n",
      " 9   positive_review                             386803 non-null  object        \n",
      " 10  review_total_positive_word_counts           386803 non-null  int64         \n",
      " 11  total_number_of_reviews_reviewer_has_given  386803 non-null  int64         \n",
      " 12  reviewer_score                              386803 non-null  float64       \n",
      " 13  tags                                        386803 non-null  object        \n",
      " 14  days_since_review                           386803 non-null  object        \n",
      " 15  lat                                         384355 non-null  float64       \n",
      " 16  lng                                         384355 non-null  float64       \n",
      "dtypes: datetime64[ns](1), float64(4), int64(5), object(7)\n",
      "memory usage: 50.2+ MB\n"
     ]
    }
   ],
   "source": [
    "df.info()"
   ]
  },
  {
   "cell_type": "code",
   "execution_count": 15,
   "id": "b0e1a6e4-1702-44d5-9965-d2cf77893562",
   "metadata": {
    "scrolled": true
   },
   "outputs": [
    {
     "data": {
      "text/html": [
       "<div>\n",
       "<style scoped>\n",
       "    .dataframe tbody tr th:only-of-type {\n",
       "        vertical-align: middle;\n",
       "    }\n",
       "\n",
       "    .dataframe tbody tr th {\n",
       "        vertical-align: top;\n",
       "    }\n",
       "\n",
       "    .dataframe thead th {\n",
       "        text-align: right;\n",
       "    }\n",
       "</style>\n",
       "<table border=\"1\" class=\"dataframe\">\n",
       "  <thead>\n",
       "    <tr style=\"text-align: right;\">\n",
       "      <th></th>\n",
       "      <th>additional_number_of_scoring</th>\n",
       "      <th>average_score</th>\n",
       "      <th>review_total_negative_word_counts</th>\n",
       "      <th>total_number_of_reviews</th>\n",
       "      <th>review_total_positive_word_counts</th>\n",
       "      <th>total_number_of_reviews_reviewer_has_given</th>\n",
       "      <th>reviewer_score</th>\n",
       "      <th>lat</th>\n",
       "      <th>lng</th>\n",
       "    </tr>\n",
       "  </thead>\n",
       "  <tbody>\n",
       "    <tr>\n",
       "      <th>0</th>\n",
       "      <td>581</td>\n",
       "      <td>8.4</td>\n",
       "      <td>3</td>\n",
       "      <td>1994</td>\n",
       "      <td>4</td>\n",
       "      <td>7</td>\n",
       "      <td>10.0</td>\n",
       "      <td>51.507894</td>\n",
       "      <td>-0.143671</td>\n",
       "    </tr>\n",
       "    <tr>\n",
       "      <th>1</th>\n",
       "      <td>299</td>\n",
       "      <td>8.3</td>\n",
       "      <td>3</td>\n",
       "      <td>1361</td>\n",
       "      <td>2</td>\n",
       "      <td>14</td>\n",
       "      <td>6.3</td>\n",
       "      <td>51.521009</td>\n",
       "      <td>-0.123097</td>\n",
       "    </tr>\n",
       "  </tbody>\n",
       "</table>\n",
       "</div>"
      ],
      "text/plain": [
       "   additional_number_of_scoring  average_score  \\\n",
       "0                           581            8.4   \n",
       "1                           299            8.3   \n",
       "\n",
       "   review_total_negative_word_counts  total_number_of_reviews  \\\n",
       "0                                  3                     1994   \n",
       "1                                  3                     1361   \n",
       "\n",
       "   review_total_positive_word_counts  \\\n",
       "0                                  4   \n",
       "1                                  2   \n",
       "\n",
       "   total_number_of_reviews_reviewer_has_given  reviewer_score        lat  \\\n",
       "0                                           7            10.0  51.507894   \n",
       "1                                          14             6.3  51.521009   \n",
       "\n",
       "        lng  \n",
       "0 -0.143671  \n",
       "1 -0.123097  "
      ]
     },
     "execution_count": 15,
     "metadata": {},
     "output_type": "execute_result"
    }
   ],
   "source": [
    "df1 = df.drop(['hotel_address', 'review_date', 'hotel_name', 'hotel_address', 'review_date', 'hotel_address', 'reviewer_nationality', 'negative_review', \n",
    "               'positive_review', 'tags', 'days_since_review'], axis = 1)\n",
    "df1.head(2)"
   ]
  },
  {
   "cell_type": "code",
   "execution_count": 16,
   "id": "5fb4f89d-2b64-4fba-96d3-e710b7597347",
   "metadata": {
    "scrolled": true
   },
   "outputs": [
    {
     "name": "stdout",
     "output_type": "stream",
     "text": [
      "<class 'pandas.core.frame.DataFrame'>\n",
      "RangeIndex: 386803 entries, 0 to 386802\n",
      "Data columns (total 9 columns):\n",
      " #   Column                                      Non-Null Count   Dtype  \n",
      "---  ------                                      --------------   -----  \n",
      " 0   additional_number_of_scoring                386803 non-null  int64  \n",
      " 1   average_score                               386803 non-null  float64\n",
      " 2   review_total_negative_word_counts           386803 non-null  int64  \n",
      " 3   total_number_of_reviews                     386803 non-null  int64  \n",
      " 4   review_total_positive_word_counts           386803 non-null  int64  \n",
      " 5   total_number_of_reviews_reviewer_has_given  386803 non-null  int64  \n",
      " 6   reviewer_score                              386803 non-null  float64\n",
      " 7   lat                                         384355 non-null  float64\n",
      " 8   lng                                         384355 non-null  float64\n",
      "dtypes: float64(4), int64(5)\n",
      "memory usage: 26.6 MB\n"
     ]
    }
   ],
   "source": [
    "df1.info()"
   ]
  },
  {
   "cell_type": "code",
   "execution_count": 17,
   "id": "dce8ede3-a1e1-49a4-9dc2-383b9bb2dd04",
   "metadata": {
    "colab": {
     "base_uri": "https://localhost:8080/"
    },
    "id": "As_X7I6jl7Za",
    "jp-MarkdownHeadingCollapsed": true,
    "outputId": "3d3795b3-ab7c-4cc6-ab3d-23a4796a7b5c",
    "scrolled": true
   },
   "outputs": [
    {
     "name": "stdout",
     "output_type": "stream",
     "text": [
      "Количество дубликатов: 9090\n",
      "Размер таблицы после удаления дубликатов: (377713, 9)\n"
     ]
    }
   ],
   "source": [
    "# Проверим данные на наличие полных дубликатов:\n",
    "print('Количество дубликатов: {}'.format(df1[df1.duplicated()].shape[0]))\n",
    "# Удаляем дубликаты:\n",
    "df1 = df1.drop_duplicates()\n",
    "print('Размер таблицы после удаления дубликатов: {}'.format(df1.shape))"
   ]
  },
  {
   "cell_type": "code",
   "execution_count": 18,
   "id": "8a451c85-5e2b-4e95-8c84-c7843eeb3d60",
   "metadata": {
    "scrolled": true
   },
   "outputs": [
    {
     "name": "stdout",
     "output_type": "stream",
     "text": [
      "<class 'pandas.core.frame.DataFrame'>\n",
      "Index: 377713 entries, 0 to 386802\n",
      "Data columns (total 9 columns):\n",
      " #   Column                                      Non-Null Count   Dtype  \n",
      "---  ------                                      --------------   -----  \n",
      " 0   additional_number_of_scoring                377713 non-null  int64  \n",
      " 1   average_score                               377713 non-null  float64\n",
      " 2   review_total_negative_word_counts           377713 non-null  int64  \n",
      " 3   total_number_of_reviews                     377713 non-null  int64  \n",
      " 4   review_total_positive_word_counts           377713 non-null  int64  \n",
      " 5   total_number_of_reviews_reviewer_has_given  377713 non-null  int64  \n",
      " 6   reviewer_score                              377713 non-null  float64\n",
      " 7   lat                                         375286 non-null  float64\n",
      " 8   lng                                         375286 non-null  float64\n",
      "dtypes: float64(4), int64(5)\n",
      "memory usage: 28.8 MB\n"
     ]
    }
   ],
   "source": [
    "df1.info()"
   ]
  },
  {
   "cell_type": "markdown",
   "id": "4b20bb17-d2fe-424f-a293-ffcf0474ccff",
   "metadata": {},
   "source": [
    "Означают разделение вашего DataFrame df1 на два объекта:\n",
    "X — это DataFrame, который содержит все признаки (фичи), кроме столбца 'reviewer_score'. Метод drop удаляет указанный столбец (axis=1 — значит по столбцам), и возвращает новый DataFrame без этого столбца.\n",
    "y — это Series, который содержит только целевую переменную 'reviewer_score', то есть то, что вы хотите предсказывать или использовать как метку.\n",
    "Такое разделение часто используется в задачах машинного обучения или анализа данных:\n",
    "X — входные данные (признаки) для модели,\n",
    "y — целевая переменная (ответ).\n",
    "Это позволяет отдельно подготовить и обработать признаки и целевую переменную и затем обучить модель или провести анализ.\n",
    "\n",
    "Что происходит при этом:\n",
    "\n",
    "Все значения в y будут приведены к типу int (целое число).\n",
    "Если в y изначально были значения в другом формате (например, строки чисел \"1\", \"2\" или числа с плавающей точкой 1.0, 2.7), после astype('int') они станут целыми числами (в случае с float — дробная часть отбрасывается).\n",
    "Это важно, когда функции, например из sklearn, требуют определённого типа для целевой переменной — обычно целочисленного (например, метки классов).\n",
    "\n",
    "Метод astype:\n",
    "Работает для объектов типа pandas Series или DataFrame.\n",
    "Принимает в аргумент тип данных, к которому нужно привести ('int', 'float', 'str', и др.).\n",
    "Возвращает новый объект с преобразованными типами (если не использовать параметр copy=False, тогда можно изменить объект на месте).\n",
    "\n",
    "Таким образом, ваш код y = y.astype('int') обеспечивает, что целевая переменная y будет именно целочисленной, что важно для корректной работы статистических и машинно-обучающих методов."
   ]
  },
  {
   "cell_type": "code",
   "execution_count": 19,
   "id": "84dbfc2c-58d2-4140-b25b-fb5378066969",
   "metadata": {},
   "outputs": [],
   "source": [
    "    # Разбиваем датафрейм на части, необходимые для обучения и тестирования модели  \n",
    "    # Х — данные с информацией об отелях, у — целевая переменная (рейтинги отелей)  \n",
    "    X = df1.drop(['reviewer_score'], axis = 1)  \n",
    "    y = df1['reviewer_score']  \n",
    "      \n",
    "    # Загружаем специальный инструмент для разбивки:  \n",
    "    from sklearn.model_selection import train_test_split  \n",
    "      \n",
    "    # Наборы данных с меткой \"train\" будут использоваться для обучения модели, \"test\" — для тестирования.  \n",
    "    # Для тестирования мы будем использовать 25 % от исходного датасета.  \n",
    "    X_train, X_test, y_train, y_test = train_test_split(X, y, test_size=0.25, random_state=42)"
   ]
  },
  {
   "cell_type": "code",
   "execution_count": 20,
   "id": "1300bf9f-dca1-41af-b884-b67f6a3cfe35",
   "metadata": {
    "scrolled": true
   },
   "outputs": [
    {
     "data": {
      "text/html": [
       "<div>\n",
       "<style scoped>\n",
       "    .dataframe tbody tr th:only-of-type {\n",
       "        vertical-align: middle;\n",
       "    }\n",
       "\n",
       "    .dataframe tbody tr th {\n",
       "        vertical-align: top;\n",
       "    }\n",
       "\n",
       "    .dataframe thead th {\n",
       "        text-align: right;\n",
       "    }\n",
       "</style>\n",
       "<table border=\"1\" class=\"dataframe\">\n",
       "  <thead>\n",
       "    <tr style=\"text-align: right;\">\n",
       "      <th></th>\n",
       "      <th>additional_number_of_scoring</th>\n",
       "      <th>average_score</th>\n",
       "      <th>review_total_negative_word_counts</th>\n",
       "      <th>total_number_of_reviews</th>\n",
       "      <th>review_total_positive_word_counts</th>\n",
       "      <th>total_number_of_reviews_reviewer_has_given</th>\n",
       "      <th>lat</th>\n",
       "      <th>lng</th>\n",
       "    </tr>\n",
       "  </thead>\n",
       "  <tbody>\n",
       "    <tr>\n",
       "      <th>0</th>\n",
       "      <td>581</td>\n",
       "      <td>8.4</td>\n",
       "      <td>3</td>\n",
       "      <td>1994</td>\n",
       "      <td>4</td>\n",
       "      <td>7</td>\n",
       "      <td>51.507894</td>\n",
       "      <td>-0.143671</td>\n",
       "    </tr>\n",
       "    <tr>\n",
       "      <th>1</th>\n",
       "      <td>299</td>\n",
       "      <td>8.3</td>\n",
       "      <td>3</td>\n",
       "      <td>1361</td>\n",
       "      <td>2</td>\n",
       "      <td>14</td>\n",
       "      <td>51.521009</td>\n",
       "      <td>-0.123097</td>\n",
       "    </tr>\n",
       "  </tbody>\n",
       "</table>\n",
       "</div>"
      ],
      "text/plain": [
       "   additional_number_of_scoring  average_score  \\\n",
       "0                           581            8.4   \n",
       "1                           299            8.3   \n",
       "\n",
       "   review_total_negative_word_counts  total_number_of_reviews  \\\n",
       "0                                  3                     1994   \n",
       "1                                  3                     1361   \n",
       "\n",
       "   review_total_positive_word_counts  \\\n",
       "0                                  4   \n",
       "1                                  2   \n",
       "\n",
       "   total_number_of_reviews_reviewer_has_given        lat       lng  \n",
       "0                                           7  51.507894 -0.143671  \n",
       "1                                          14  51.521009 -0.123097  "
      ]
     },
     "execution_count": 20,
     "metadata": {},
     "output_type": "execute_result"
    }
   ],
   "source": [
    "X.head(2)"
   ]
  },
  {
   "cell_type": "code",
   "execution_count": 21,
   "id": "5c9b2f55-3c7d-4dc1-9bb3-93d7a6d5403c",
   "metadata": {
    "scrolled": true
   },
   "outputs": [
    {
     "data": {
      "text/plain": [
       "additional_number_of_scoring                       0\n",
       "average_score                                      0\n",
       "review_total_negative_word_counts                  0\n",
       "total_number_of_reviews                            0\n",
       "review_total_positive_word_counts                  0\n",
       "total_number_of_reviews_reviewer_has_given         0\n",
       "lat                                                0\n",
       "lng                                           186108\n",
       "dtype: int64"
      ]
     },
     "execution_count": 21,
     "metadata": {},
     "output_type": "execute_result"
    }
   ],
   "source": [
    "(X < 0).sum()"
   ]
  },
  {
   "cell_type": "code",
   "execution_count": 22,
   "id": "2410fd96-3cae-4425-82e3-bed228027079",
   "metadata": {},
   "outputs": [
    {
     "name": "stdout",
     "output_type": "stream",
     "text": [
      "<class 'pandas.core.frame.DataFrame'>\n",
      "Index: 377713 entries, 0 to 386802\n",
      "Data columns (total 8 columns):\n",
      " #   Column                                      Non-Null Count   Dtype  \n",
      "---  ------                                      --------------   -----  \n",
      " 0   additional_number_of_scoring                377713 non-null  int64  \n",
      " 1   average_score                               377713 non-null  float64\n",
      " 2   review_total_negative_word_counts           377713 non-null  int64  \n",
      " 3   total_number_of_reviews                     377713 non-null  int64  \n",
      " 4   review_total_positive_word_counts           377713 non-null  int64  \n",
      " 5   total_number_of_reviews_reviewer_has_given  377713 non-null  int64  \n",
      " 6   lat                                         375286 non-null  float64\n",
      " 7   lng                                         375286 non-null  float64\n",
      "dtypes: float64(3), int64(5)\n",
      "memory usage: 25.9 MB\n"
     ]
    }
   ],
   "source": [
    "X.info()"
   ]
  },
  {
   "cell_type": "code",
   "execution_count": 23,
   "id": "c44d83ee-f9b4-4fe3-ac4a-5a0d56b2f0d6",
   "metadata": {},
   "outputs": [
    {
     "data": {
      "text/plain": [
       "0    10.0\n",
       "1     6.3\n",
       "Name: reviewer_score, dtype: float64"
      ]
     },
     "execution_count": 23,
     "metadata": {},
     "output_type": "execute_result"
    }
   ],
   "source": [
    "y.head(2)"
   ]
  },
  {
   "cell_type": "code",
   "execution_count": 24,
   "id": "ee4b3922-b905-4a0e-91c3-d36975e28a81",
   "metadata": {},
   "outputs": [
    {
     "name": "stdout",
     "output_type": "stream",
     "text": [
      "<class 'pandas.core.series.Series'>\n",
      "Index: 377713 entries, 0 to 386802\n",
      "Series name: reviewer_score\n",
      "Non-Null Count   Dtype  \n",
      "--------------   -----  \n",
      "377713 non-null  float64\n",
      "dtypes: float64(1)\n",
      "memory usage: 5.8 MB\n"
     ]
    }
   ],
   "source": [
    "y.info()"
   ]
  },
  {
   "cell_type": "code",
   "execution_count": 25,
   "id": "cae52617-47db-4341-a86f-27e8ad53a289",
   "metadata": {},
   "outputs": [
    {
     "data": {
      "text/plain": [
       "0    10\n",
       "1     6\n",
       "Name: reviewer_score, dtype: int32"
      ]
     },
     "execution_count": 25,
     "metadata": {},
     "output_type": "execute_result"
    }
   ],
   "source": [
    "y = y.astype('int').head(2)\n",
    "y"
   ]
  },
  {
   "cell_type": "code",
   "execution_count": 50,
   "id": "3f6d2932-26fc-4d32-a6e0-875ad079ca41",
   "metadata": {
    "scrolled": true
   },
   "outputs": [
    {
     "data": {
      "text/plain": [
       "additional_number_of_scoring                       0\n",
       "average_score                                      0\n",
       "review_total_negative_word_counts                  0\n",
       "total_number_of_reviews                            0\n",
       "review_total_positive_word_counts                  0\n",
       "total_number_of_reviews_reviewer_has_given         0\n",
       "lat                                                0\n",
       "lng                                           186108\n",
       "dtype: int64"
      ]
     },
     "execution_count": 50,
     "metadata": {},
     "output_type": "execute_result"
    }
   ],
   "source": [
    "(X < 0).sum()"
   ]
  },
  {
   "cell_type": "code",
   "execution_count": 51,
   "id": "788d74a5-23b5-4bf1-82b8-fbfbdeafb3e8",
   "metadata": {},
   "outputs": [],
   "source": [
    "cat_cols = ['average_score', 'lat', 'lng']\n",
    "X_filled = X[cat_cols].fillna(0)\n",
    "X_filled = X_filled[X_filled['lng'] >= 0] # Если нужно удалить строки с отрицательными lng (только по этому столбцу):\n",
    "# X_filled = X[['average_score', 'lat', 'lng']].fillna(0)"
   ]
  },
  {
   "cell_type": "code",
   "execution_count": 52,
   "id": "a23f82a6-3f5a-4eb4-9c8c-5d07120cc5ca",
   "metadata": {},
   "outputs": [
    {
     "name": "stdout",
     "output_type": "stream",
     "text": [
      "   average_score        lat       lng\n",
      "0            8.4  51.507894 -0.143671\n",
      "1            8.3  51.521009 -0.123097\n",
      "2            8.9  48.845377  2.325643\n",
      "3            7.5  48.888697  2.394540\n",
      "4            8.5  52.385601  4.847060\n"
     ]
    }
   ],
   "source": [
    "print(X[cat_cols].head())"
   ]
  },
  {
   "cell_type": "code",
   "execution_count": 54,
   "id": "8f5d0c36-f39f-434e-a0f5-c48dda3d4c12",
   "metadata": {},
   "outputs": [
    {
     "name": "stdout",
     "output_type": "stream",
     "text": [
      "   average_score        lat        lng\n",
      "2            8.9  48.845377   2.325643\n",
      "3            7.5  48.888697   2.394540\n",
      "4            8.5  52.385601   4.847060\n",
      "5            8.0  45.448188   9.257046\n",
      "7            8.3  48.208563  16.354169\n"
     ]
    }
   ],
   "source": [
    "print(X_filled[cat_cols].head())"
   ]
  },
  {
   "cell_type": "code",
   "execution_count": 56,
   "id": "609c0a7f-e724-4f76-b287-23940b191857",
   "metadata": {},
   "outputs": [
    {
     "name": "stdout",
     "output_type": "stream",
     "text": [
      "average_score    0\n",
      "lat              0\n",
      "lng              0\n",
      "dtype: int64\n"
     ]
    }
   ],
   "source": [
    "# Оставить только строки, где все значения >= 0 в указанных столбцах\n",
    "cols = ['average_score', 'lat', 'lng']\n",
    "X_filled = X_filled[(X_filled[cols] >= 0).all(axis=1)]\n",
    "# Если нужно удалить строки с отрицательными lng (только по этому столбцу):\n",
    "# python\n",
    "# X_filled = X_filled[X_filled['lng'] >= 0]\n",
    "# После удаления\n",
    "# Проверить, что больше нет отрицательных:\n",
    "# python\n",
    "print((X_filled[cols] < 0).sum())\n",
    "# Вы увидите нули — значит отрицательных больше нет."
   ]
  },
  {
   "cell_type": "code",
   "execution_count": 78,
   "id": "a0999014-f26d-4f00-a153-7f6cbea2d3fb",
   "metadata": {},
   "outputs": [
    {
     "name": "stdout",
     "output_type": "stream",
     "text": [
      "   average_score        lat        lng\n",
      "2            8.9  48.845377   2.325643\n",
      "3            7.5  48.888697   2.394540\n",
      "4            8.5  52.385601   4.847060\n",
      "5            8.0  45.448188   9.257046\n",
      "7            8.3  48.208563  16.354169\n"
     ]
    }
   ],
   "source": [
    "X = X[(X[cols] >= 0).all(axis=1)]\n",
    "print(X[cat_cols].head())"
   ]
  },
  {
   "cell_type": "code",
   "execution_count": 28,
   "id": "c68a9513-4261-4ad2-bb90-4957675bf03b",
   "metadata": {},
   "outputs": [
    {
     "name": "stdout",
     "output_type": "stream",
     "text": [
      "average_score    0\n",
      "lat              0\n",
      "lng              0\n",
      "dtype: int64\n"
     ]
    }
   ],
   "source": [
    "# После удаления\n",
    "# Проверить, что больше нет отрицательных:\n",
    "(X_filled  < 0).sum()\n",
    "print((X_filled[cat_cols] < 0).sum())"
   ]
  },
  {
   "cell_type": "markdown",
   "id": "b5469ba2-993f-415e-abef-83c7f6bfc932",
   "metadata": {},
   "source": [
    "# Предполагаем, что X и y изначально имеют одинаковый индекс\n",
    "\n",
    "# Если изменяется X (например, удаляются строки), то\n",
    "# нужно применить ту же фильтрацию к y\n",
    "\n",
    "mask = ...  # булевский маск для X (и y)\n",
    "\n",
    "X = X.loc[mask]\n",
    "y = y.loc[mask]\n",
    "\n",
    "# Теперь индексы синхронизированы\n"
   ]
  },
  {
   "cell_type": "markdown",
   "id": "910830d0-5211-4a84-875f-51c355cb594f",
   "metadata": {},
   "source": [
    "# Важно\n",
    "# После удаления строк по X_filled синхронизируйте целевой вектор y (если используете):\n",
    "y = y.loc[X_filled.index]"
   ]
  },
  {
   "cell_type": "markdown",
   "id": "759aef79-170d-44bc-9fe7-9072ae9fa90c",
   "metadata": {
    "scrolled": true
   },
   "source": [
    "(X < 0).sum()"
   ]
  },
  {
   "cell_type": "code",
   "execution_count": 30,
   "id": "f2ec9aa9-4afe-450a-a27d-e39189b025a1",
   "metadata": {},
   "outputs": [
    {
     "data": {
      "text/plain": [
       "2          2.325643\n",
       "3          2.394540\n",
       "4          4.847060\n",
       "5          9.257046\n",
       "7         16.354169\n",
       "            ...    \n",
       "386791     2.179610\n",
       "386792     9.204283\n",
       "386793     2.311274\n",
       "386794     2.321325\n",
       "386799    16.399451\n",
       "Name: lng, Length: 191605, dtype: float64"
      ]
     },
     "execution_count": 30,
     "metadata": {},
     "output_type": "execute_result"
    }
   ],
   "source": [
    "X_filled['lng']"
   ]
  },
  {
   "cell_type": "code",
   "execution_count": 31,
   "id": "f3f5b662-41b5-489f-9402-db7830c8e65a",
   "metadata": {},
   "outputs": [
    {
     "name": "stdout",
     "output_type": "stream",
     "text": [
      "['average_score', 'lat', 'lng']\n",
      "<class 'list'>\n"
     ]
    }
   ],
   "source": [
    "print(cat_cols)\n",
    "print(type(cat_cols))"
   ]
  },
  {
   "cell_type": "code",
   "execution_count": 33,
   "id": "a22ffa86-7535-4488-a894-4999991d4fb5",
   "metadata": {},
   "outputs": [
    {
     "data": {
      "text/plain": [
       "additional_number_of_scoring                  0\n",
       "average_score                                 0\n",
       "review_total_negative_word_counts             0\n",
       "total_number_of_reviews                       0\n",
       "review_total_positive_word_counts             0\n",
       "total_number_of_reviews_reviewer_has_given    0\n",
       "lat                                           0\n",
       "lng                                           0\n",
       "dtype: int64"
      ]
     },
     "execution_count": 33,
     "metadata": {},
     "output_type": "execute_result"
    }
   ],
   "source": [
    "indices_to_drop = X_filled[X_filled['lng'] < 0].index\n",
    "X_filled = X.drop(indices_to_drop)\n",
    "(X_filled < 0).sum()"
   ]
  },
  {
   "cell_type": "code",
   "execution_count": 34,
   "id": "2c174ad1-ff57-4736-8e70-df35b1628d69",
   "metadata": {},
   "outputs": [],
   "source": [
    "df_clean = pd.concat([X, y], axis=1).dropna()\n",
    "X_clean = df_clean[X.columns]\n",
    "y_clean = df_clean[y.name]"
   ]
  },
  {
   "cell_type": "markdown",
   "id": "4faebfc8-83bb-4185-a995-83964cf53cda",
   "metadata": {},
   "source": [
    "# 1. Заполнить пропуски (например, наиболее частым значением)\n",
    "indices_to_drop = X[X_filled['lng'] < 0].index\n",
    "X = X.drop(indices_to_drop)\n",
    "\n",
    "# Заполнить пропуски наиболее частыми значениями в категориальных столбцах\n",
    "X_filled = X[cat_cols].fillna(X[cat_cols].mode().iloc[0])\n",
    "\n",
    "# Применить chi2 (обязательно закрыть скобку!)\n",
    "imp_cat = pd.Series(chi2(X_filled, y)[0], index=cat_cols)\n"
   ]
  },
  {
   "cell_type": "code",
   "execution_count": 46,
   "id": "a6817d0a-fa72-4185-9881-fc64797df419",
   "metadata": {},
   "outputs": [],
   "source": [
    "# 1. Заполнить пропуски в категориальных признаках\n",
    "# Например, заполнить наиболее частыми значениями (mode):\n",
    "X_filled = X[cat_cols].fillna(X[cat_cols].mode().iloc[0])"
   ]
  },
  {
   "cell_type": "markdown",
   "id": "902d471c-ca39-42eb-a48d-98434fa88949",
   "metadata": {},
   "source": [
    "# 2. Закодировать категориальные признаки числовыми значениями\n",
    "# chi2 требует числовых неотрицательных признаков.\n",
    "# Если у вас категории в виде строк:\n",
    "from sklearn.preprocessing import OrdinalEncoder\n",
    "enc = OrdinalEncoder()\n",
    "X_encoded = enc.fit_transform(X_filled)"
   ]
  },
  {
   "cell_type": "code",
   "execution_count": 60,
   "id": "4c7b91c5-8fa7-4c47-b86c-2ca7a7a93615",
   "metadata": {},
   "outputs": [
    {
     "data": {
      "text/plain": [
       "0    10\n",
       "1     6\n",
       "Name: reviewer_score, dtype: int32"
      ]
     },
     "execution_count": 60,
     "metadata": {},
     "output_type": "execute_result"
    }
   ],
   "source": [
    "# from sklearn.feature_selection import chi2\n",
    "# imp_cat = pd.Series(chi2(X[cat_cols], y)[0], index=cat_cols)"
   ]
  },
  {
   "cell_type": "markdown",
   "id": "e704ba88-ccaa-491c-9529-bdbedce25390",
   "metadata": {},
   "source": [
    "imp_cat = pd.Series(chi2(X_encoded, y)[0], index=cat_cols)"
   ]
  },
  {
   "cell_type": "code",
   "execution_count": 65,
   "id": "98a0eaf9-ce29-4c4a-8afc-2bd2121ba6e6",
   "metadata": {},
   "outputs": [
    {
     "name": "stdout",
     "output_type": "stream",
     "text": [
      "average_score       0\n",
      "lat              2427\n",
      "lng              2427\n",
      "dtype: int64\n"
     ]
    }
   ],
   "source": [
    "# 1. Проверить наличие NaN\n",
    "print(X[cat_cols].isnull().sum())\n",
    "# print(pd.isnull(y).sum())"
   ]
  },
  {
   "cell_type": "markdown",
   "id": "24922a4e-8723-4e25-bdb6-997b84d06558",
   "metadata": {},
   "source": [
    "# 2. Удалить строки с пропусками:\n",
    "df = pd.concat([X[cat_cols], y], axis=1)\n",
    "df = df.dropna()\n",
    "X_clean = df[cat_cols]\n",
    "y_clean = df[y.name]\n",
    "imp_cat = pd.Series(chi2(X_clean, y_clean)[0], index=cat_cols)"
   ]
  },
  {
   "cell_type": "code",
   "execution_count": 88,
   "id": "aa7a1dc4-f987-4ccb-b09d-42fcfa0c943d",
   "metadata": {},
   "outputs": [
    {
     "ename": "KeyError",
     "evalue": "\"None of [Index([     2,      3,      4,      5,      7,     10,     14,     15,     19,\\n           24,\\n       ...\\n       386775, 386780, 386783, 386785, 386789, 386791, 386792, 386793, 386794,\\n       386799],\\n      dtype='int64', length=189178)] are in the [index]\"",
     "output_type": "error",
     "traceback": [
      "\u001b[1;31m---------------------------------------------------------------------------\u001b[0m",
      "\u001b[1;31mKeyError\u001b[0m                                  Traceback (most recent call last)",
      "Cell \u001b[1;32mIn[88], line 3\u001b[0m\n\u001b[0;32m      1\u001b[0m \u001b[38;5;66;03m# X_filled = X[cat_cols].fillna(X[cat_cols].mode().iloc[0])\u001b[39;00m\n\u001b[0;32m      2\u001b[0m X_filled \u001b[38;5;241m=\u001b[39m X[cat_cols]\u001b[38;5;241m.\u001b[39mfillna(X[cat_cols]\u001b[38;5;241m.\u001b[39mmode()\u001b[38;5;241m.\u001b[39miloc[\u001b[38;5;241m0\u001b[39m])\n\u001b[1;32m----> 3\u001b[0m y_clean \u001b[38;5;241m=\u001b[39m \u001b[43my\u001b[49m\u001b[38;5;241;43m.\u001b[39;49m\u001b[43mloc\u001b[49m\u001b[43m[\u001b[49m\u001b[43mX_filled\u001b[49m\u001b[38;5;241;43m.\u001b[39;49m\u001b[43mindex\u001b[49m\u001b[43m]\u001b[49m  \u001b[38;5;66;03m# синхронизируем индексы\u001b[39;00m\n\u001b[0;32m      5\u001b[0m enc \u001b[38;5;241m=\u001b[39m OrdinalEncoder()\n\u001b[0;32m      6\u001b[0m X_encoded \u001b[38;5;241m=\u001b[39m enc\u001b[38;5;241m.\u001b[39mfit_transform(X_filled)\n",
      "File \u001b[1;32m~\\AppData\\Local\\Programs\\Python\\Python312\\Lib\\site-packages\\pandas\\core\\indexing.py:1191\u001b[0m, in \u001b[0;36m_LocationIndexer.__getitem__\u001b[1;34m(self, key)\u001b[0m\n\u001b[0;32m   1189\u001b[0m maybe_callable \u001b[38;5;241m=\u001b[39m com\u001b[38;5;241m.\u001b[39mapply_if_callable(key, \u001b[38;5;28mself\u001b[39m\u001b[38;5;241m.\u001b[39mobj)\n\u001b[0;32m   1190\u001b[0m maybe_callable \u001b[38;5;241m=\u001b[39m \u001b[38;5;28mself\u001b[39m\u001b[38;5;241m.\u001b[39m_check_deprecated_callable_usage(key, maybe_callable)\n\u001b[1;32m-> 1191\u001b[0m \u001b[38;5;28;01mreturn\u001b[39;00m \u001b[38;5;28;43mself\u001b[39;49m\u001b[38;5;241;43m.\u001b[39;49m\u001b[43m_getitem_axis\u001b[49m\u001b[43m(\u001b[49m\u001b[43mmaybe_callable\u001b[49m\u001b[43m,\u001b[49m\u001b[43m \u001b[49m\u001b[43maxis\u001b[49m\u001b[38;5;241;43m=\u001b[39;49m\u001b[43maxis\u001b[49m\u001b[43m)\u001b[49m\n",
      "File \u001b[1;32m~\\AppData\\Local\\Programs\\Python\\Python312\\Lib\\site-packages\\pandas\\core\\indexing.py:1420\u001b[0m, in \u001b[0;36m_LocIndexer._getitem_axis\u001b[1;34m(self, key, axis)\u001b[0m\n\u001b[0;32m   1417\u001b[0m     \u001b[38;5;28;01mif\u001b[39;00m \u001b[38;5;28mhasattr\u001b[39m(key, \u001b[38;5;124m\"\u001b[39m\u001b[38;5;124mndim\u001b[39m\u001b[38;5;124m\"\u001b[39m) \u001b[38;5;129;01mand\u001b[39;00m key\u001b[38;5;241m.\u001b[39mndim \u001b[38;5;241m>\u001b[39m \u001b[38;5;241m1\u001b[39m:\n\u001b[0;32m   1418\u001b[0m         \u001b[38;5;28;01mraise\u001b[39;00m \u001b[38;5;167;01mValueError\u001b[39;00m(\u001b[38;5;124m\"\u001b[39m\u001b[38;5;124mCannot index with multidimensional key\u001b[39m\u001b[38;5;124m\"\u001b[39m)\n\u001b[1;32m-> 1420\u001b[0m     \u001b[38;5;28;01mreturn\u001b[39;00m \u001b[38;5;28;43mself\u001b[39;49m\u001b[38;5;241;43m.\u001b[39;49m\u001b[43m_getitem_iterable\u001b[49m\u001b[43m(\u001b[49m\u001b[43mkey\u001b[49m\u001b[43m,\u001b[49m\u001b[43m \u001b[49m\u001b[43maxis\u001b[49m\u001b[38;5;241;43m=\u001b[39;49m\u001b[43maxis\u001b[49m\u001b[43m)\u001b[49m\n\u001b[0;32m   1422\u001b[0m \u001b[38;5;66;03m# nested tuple slicing\u001b[39;00m\n\u001b[0;32m   1423\u001b[0m \u001b[38;5;28;01mif\u001b[39;00m is_nested_tuple(key, labels):\n",
      "File \u001b[1;32m~\\AppData\\Local\\Programs\\Python\\Python312\\Lib\\site-packages\\pandas\\core\\indexing.py:1360\u001b[0m, in \u001b[0;36m_LocIndexer._getitem_iterable\u001b[1;34m(self, key, axis)\u001b[0m\n\u001b[0;32m   1357\u001b[0m \u001b[38;5;28mself\u001b[39m\u001b[38;5;241m.\u001b[39m_validate_key(key, axis)\n\u001b[0;32m   1359\u001b[0m \u001b[38;5;66;03m# A collection of keys\u001b[39;00m\n\u001b[1;32m-> 1360\u001b[0m keyarr, indexer \u001b[38;5;241m=\u001b[39m \u001b[38;5;28;43mself\u001b[39;49m\u001b[38;5;241;43m.\u001b[39;49m\u001b[43m_get_listlike_indexer\u001b[49m\u001b[43m(\u001b[49m\u001b[43mkey\u001b[49m\u001b[43m,\u001b[49m\u001b[43m \u001b[49m\u001b[43maxis\u001b[49m\u001b[43m)\u001b[49m\n\u001b[0;32m   1361\u001b[0m \u001b[38;5;28;01mreturn\u001b[39;00m \u001b[38;5;28mself\u001b[39m\u001b[38;5;241m.\u001b[39mobj\u001b[38;5;241m.\u001b[39m_reindex_with_indexers(\n\u001b[0;32m   1362\u001b[0m     {axis: [keyarr, indexer]}, copy\u001b[38;5;241m=\u001b[39m\u001b[38;5;28;01mTrue\u001b[39;00m, allow_dups\u001b[38;5;241m=\u001b[39m\u001b[38;5;28;01mTrue\u001b[39;00m\n\u001b[0;32m   1363\u001b[0m )\n",
      "File \u001b[1;32m~\\AppData\\Local\\Programs\\Python\\Python312\\Lib\\site-packages\\pandas\\core\\indexing.py:1558\u001b[0m, in \u001b[0;36m_LocIndexer._get_listlike_indexer\u001b[1;34m(self, key, axis)\u001b[0m\n\u001b[0;32m   1555\u001b[0m ax \u001b[38;5;241m=\u001b[39m \u001b[38;5;28mself\u001b[39m\u001b[38;5;241m.\u001b[39mobj\u001b[38;5;241m.\u001b[39m_get_axis(axis)\n\u001b[0;32m   1556\u001b[0m axis_name \u001b[38;5;241m=\u001b[39m \u001b[38;5;28mself\u001b[39m\u001b[38;5;241m.\u001b[39mobj\u001b[38;5;241m.\u001b[39m_get_axis_name(axis)\n\u001b[1;32m-> 1558\u001b[0m keyarr, indexer \u001b[38;5;241m=\u001b[39m \u001b[43max\u001b[49m\u001b[38;5;241;43m.\u001b[39;49m\u001b[43m_get_indexer_strict\u001b[49m\u001b[43m(\u001b[49m\u001b[43mkey\u001b[49m\u001b[43m,\u001b[49m\u001b[43m \u001b[49m\u001b[43maxis_name\u001b[49m\u001b[43m)\u001b[49m\n\u001b[0;32m   1560\u001b[0m \u001b[38;5;28;01mreturn\u001b[39;00m keyarr, indexer\n",
      "File \u001b[1;32m~\\AppData\\Local\\Programs\\Python\\Python312\\Lib\\site-packages\\pandas\\core\\indexes\\base.py:6200\u001b[0m, in \u001b[0;36mIndex._get_indexer_strict\u001b[1;34m(self, key, axis_name)\u001b[0m\n\u001b[0;32m   6197\u001b[0m \u001b[38;5;28;01melse\u001b[39;00m:\n\u001b[0;32m   6198\u001b[0m     keyarr, indexer, new_indexer \u001b[38;5;241m=\u001b[39m \u001b[38;5;28mself\u001b[39m\u001b[38;5;241m.\u001b[39m_reindex_non_unique(keyarr)\n\u001b[1;32m-> 6200\u001b[0m \u001b[38;5;28;43mself\u001b[39;49m\u001b[38;5;241;43m.\u001b[39;49m\u001b[43m_raise_if_missing\u001b[49m\u001b[43m(\u001b[49m\u001b[43mkeyarr\u001b[49m\u001b[43m,\u001b[49m\u001b[43m \u001b[49m\u001b[43mindexer\u001b[49m\u001b[43m,\u001b[49m\u001b[43m \u001b[49m\u001b[43maxis_name\u001b[49m\u001b[43m)\u001b[49m\n\u001b[0;32m   6202\u001b[0m keyarr \u001b[38;5;241m=\u001b[39m \u001b[38;5;28mself\u001b[39m\u001b[38;5;241m.\u001b[39mtake(indexer)\n\u001b[0;32m   6203\u001b[0m \u001b[38;5;28;01mif\u001b[39;00m \u001b[38;5;28misinstance\u001b[39m(key, Index):\n\u001b[0;32m   6204\u001b[0m     \u001b[38;5;66;03m# GH 42790 - Preserve name from an Index\u001b[39;00m\n",
      "File \u001b[1;32m~\\AppData\\Local\\Programs\\Python\\Python312\\Lib\\site-packages\\pandas\\core\\indexes\\base.py:6249\u001b[0m, in \u001b[0;36mIndex._raise_if_missing\u001b[1;34m(self, key, indexer, axis_name)\u001b[0m\n\u001b[0;32m   6247\u001b[0m \u001b[38;5;28;01mif\u001b[39;00m nmissing:\n\u001b[0;32m   6248\u001b[0m     \u001b[38;5;28;01mif\u001b[39;00m nmissing \u001b[38;5;241m==\u001b[39m \u001b[38;5;28mlen\u001b[39m(indexer):\n\u001b[1;32m-> 6249\u001b[0m         \u001b[38;5;28;01mraise\u001b[39;00m \u001b[38;5;167;01mKeyError\u001b[39;00m(\u001b[38;5;124mf\u001b[39m\u001b[38;5;124m\"\u001b[39m\u001b[38;5;124mNone of [\u001b[39m\u001b[38;5;132;01m{\u001b[39;00mkey\u001b[38;5;132;01m}\u001b[39;00m\u001b[38;5;124m] are in the [\u001b[39m\u001b[38;5;132;01m{\u001b[39;00maxis_name\u001b[38;5;132;01m}\u001b[39;00m\u001b[38;5;124m]\u001b[39m\u001b[38;5;124m\"\u001b[39m)\n\u001b[0;32m   6251\u001b[0m     not_found \u001b[38;5;241m=\u001b[39m \u001b[38;5;28mlist\u001b[39m(ensure_index(key)[missing_mask\u001b[38;5;241m.\u001b[39mnonzero()[\u001b[38;5;241m0\u001b[39m]]\u001b[38;5;241m.\u001b[39munique())\n\u001b[0;32m   6252\u001b[0m     \u001b[38;5;28;01mraise\u001b[39;00m \u001b[38;5;167;01mKeyError\u001b[39;00m(\u001b[38;5;124mf\u001b[39m\u001b[38;5;124m\"\u001b[39m\u001b[38;5;132;01m{\u001b[39;00mnot_found\u001b[38;5;132;01m}\u001b[39;00m\u001b[38;5;124m not in index\u001b[39m\u001b[38;5;124m\"\u001b[39m)\n",
      "\u001b[1;31mKeyError\u001b[0m: \"None of [Index([     2,      3,      4,      5,      7,     10,     14,     15,     19,\\n           24,\\n       ...\\n       386775, 386780, 386783, 386785, 386789, 386791, 386792, 386793, 386794,\\n       386799],\\n      dtype='int64', length=189178)] are in the [index]\""
     ]
    }
   ],
   "source": [
    "# X_filled = X[cat_cols].fillna(X[cat_cols].mode().iloc[0])\n",
    "X_filled = X[cat_cols].fillna(X[cat_cols].mode().iloc[0])\n",
    "y_clean = y.loc[X_filled.index]  # синхронизируем индексы\n",
    "\n",
    "enc = OrdinalEncoder()\n",
    "X_encoded = enc.fit_transform(X_filled)\n",
    "\n",
    "imp_cat = pd.Series(chi2(X_encoded, y_clean)[0], index=cat_cols)"
   ]
  },
  {
   "cell_type": "code",
   "execution_count": 86,
   "id": "f0d2e26b-7eb7-460a-91c2-64f63d87c4eb",
   "metadata": {},
   "outputs": [
    {
     "name": "stdout",
     "output_type": "stream",
     "text": [
      "Число строк после удаления пропусков: 0\n"
     ]
    },
    {
     "ename": "ValueError",
     "evalue": "Нет данных после удаления пропусков! Проверьте исходные данные.",
     "output_type": "error",
     "traceback": [
      "\u001b[1;31m---------------------------------------------------------------------------\u001b[0m",
      "\u001b[1;31mValueError\u001b[0m                                Traceback (most recent call last)",
      "Cell \u001b[1;32mIn[86], line 16\u001b[0m\n\u001b[0;32m     13\u001b[0m \u001b[38;5;28mprint\u001b[39m(\u001b[38;5;124mf\u001b[39m\u001b[38;5;124m\"\u001b[39m\u001b[38;5;124mЧисло строк после удаления пропусков: \u001b[39m\u001b[38;5;132;01m{\u001b[39;00m\u001b[38;5;28mlen\u001b[39m(df_clean)\u001b[38;5;132;01m}\u001b[39;00m\u001b[38;5;124m\"\u001b[39m)\n\u001b[0;32m     15\u001b[0m \u001b[38;5;28;01mif\u001b[39;00m \u001b[38;5;28mlen\u001b[39m(df_clean) \u001b[38;5;241m==\u001b[39m \u001b[38;5;241m0\u001b[39m:\n\u001b[1;32m---> 16\u001b[0m     \u001b[38;5;28;01mraise\u001b[39;00m \u001b[38;5;167;01mValueError\u001b[39;00m(\u001b[38;5;124m\"\u001b[39m\u001b[38;5;124mНет данных после удаления пропусков! Проверьте исходные данные.\u001b[39m\u001b[38;5;124m\"\u001b[39m)\n\u001b[0;32m     18\u001b[0m \u001b[38;5;66;03m# 3. Отделяем X и y\u001b[39;00m\n\u001b[0;32m     19\u001b[0m X_clean \u001b[38;5;241m=\u001b[39m df_clean[cat_cols]\n",
      "\u001b[1;31mValueError\u001b[0m: Нет данных после удаления пропусков! Проверьте исходные данные."
     ]
    }
   ],
   "source": [
    "import pandas as pd\n",
    "from sklearn.feature_selection import chi2\n",
    "from sklearn.preprocessing import OrdinalEncoder\n",
    "\n",
    "# Предположим, уже есть X, y и cat_cols\n",
    "\n",
    "# 1. Объединяем с сохранением индекса (обязательно, если y — Series)\n",
    "df = pd.concat([X[cat_cols], y], axis=1)\n",
    "\n",
    "# 2. Удаляем строки с пропусками\n",
    "df_clean = df.dropna()\n",
    "\n",
    "print(f\"Число строк после удаления пропусков: {len(df_clean)}\")\n",
    "\n",
    "if len(df_clean) == 0:\n",
    "    raise ValueError(\"Нет данных после удаления пропусков! Проверьте исходные данные.\")\n",
    "\n",
    "# 3. Отделяем X и y\n",
    "X_clean = df_clean[cat_cols]\n",
    "y_clean = df_clean[y.name]\n",
    "\n",
    "# 4. Кодируем категориальные признаки, если они не числовые\n",
    "enc = OrdinalEncoder()\n",
    "X_encoded = enc.fit_transform(X_clean)\n",
    "\n",
    "# 5. Применяем chi2\n",
    "imp_cat = pd.Series(chi2(X_encoded, y_clean)[0], index=cat_cols)\n",
    "\n",
    "print(imp_cat)\n",
    "# Если df_clean получается пустым — что делать?\n",
    "# Проверьте, что cat_cols и y содержат данные без слишком большого количества пропусков.\n",
    "\n",
    "# Замените dropna() на заполнение пропусков — например:\n",
    "\n",
    "# python\n",
    "# X_filled = X[cat_cols].fillna(X[cat_cols].mode().iloc[0])\n",
    "# и потом объединяйте с y.\n",
    "\n",
    "# Итог\n",
    "# Обычно так:\n",
    "\n",
    "# python\n",
    "# X_filled = X[cat_cols].fillna(X[cat_cols].mode().iloc[0])\n",
    "# y_clean = y.loc[X_filled.index]  # синхронизируем индексы\n",
    "\n",
    "# enc = OrdinalEncoder()\n",
    "# X_encoded = enc.fit_transform(X_filled)\n",
    "\n",
    "# imp_cat = pd.Series(chi2(X_encoded, y_clean)[0], index=cat_cols)\n",
    "# Если нужна помощь с вашим конкретным датасетом — дайте, пожалуйста, больше контекста, могу помочь.\n",
    "\n",
    "\n",
    "\n"
   ]
  },
  {
   "cell_type": "code",
   "execution_count": 66,
   "id": "f557ec69-4bbb-40ac-a13a-353a8b88a0ad",
   "metadata": {},
   "outputs": [
    {
     "name": "stdout",
     "output_type": "stream",
     "text": [
      "average_score    0\n",
      "lat              0\n",
      "lng              0\n",
      "dtype: int64\n"
     ]
    }
   ],
   "source": [
    "# 1. Проверить наличие NaN\n",
    "print(X_filled[cat_cols].isnull().sum())\n",
    "# print(pd.isnull(y).sum())"
   ]
  },
  {
   "cell_type": "code",
   "execution_count": 68,
   "id": "17ceae48-6fde-4760-ad08-98a77ac268e7",
   "metadata": {
    "scrolled": true
   },
   "outputs": [
    {
     "ename": "ValueError",
     "evalue": "Input contains NaN.",
     "output_type": "error",
     "traceback": [
      "\u001b[1;31m---------------------------------------------------------------------------\u001b[0m",
      "\u001b[1;31mValueError\u001b[0m                                Traceback (most recent call last)",
      "Cell \u001b[1;32mIn[68], line 9\u001b[0m\n\u001b[0;32m      3\u001b[0m \u001b[38;5;28;01mimport\u001b[39;00m \u001b[38;5;21;01mmatplotlib\u001b[39;00m\u001b[38;5;21;01m.\u001b[39;00m\u001b[38;5;21;01mpyplot\u001b[39;00m \u001b[38;5;28;01mas\u001b[39;00m \u001b[38;5;21;01mplt\u001b[39;00m\n\u001b[0;32m      5\u001b[0m \u001b[38;5;66;03m# y — целевая переменная, например Series с типом int\u001b[39;00m\n\u001b[0;32m      6\u001b[0m \u001b[38;5;66;03m# X — DataFrame с категориальными признаками\u001b[39;00m\n\u001b[0;32m      7\u001b[0m \u001b[38;5;66;03m# cat_cols — список категориальных столбцов в X\u001b[39;00m\n\u001b[1;32m----> 9\u001b[0m imp_cat \u001b[38;5;241m=\u001b[39m pd\u001b[38;5;241m.\u001b[39mSeries(\u001b[43mchi2\u001b[49m\u001b[43m(\u001b[49m\u001b[43mX\u001b[49m\u001b[43m[\u001b[49m\u001b[43mcat_cols\u001b[49m\u001b[43m]\u001b[49m\u001b[43m,\u001b[49m\u001b[43m \u001b[49m\u001b[43my\u001b[49m\u001b[43m)\u001b[49m[\u001b[38;5;241m0\u001b[39m], index\u001b[38;5;241m=\u001b[39mcat_cols)\n\u001b[0;32m     10\u001b[0m \u001b[38;5;66;03m# imp_cat.sort_values(inplace=True)\u001b[39;00m\n\u001b[0;32m     11\u001b[0m \u001b[38;5;66;03m# imp_cat.plot(kind='barh')\u001b[39;00m\n\u001b[0;32m     12\u001b[0m \u001b[38;5;66;03m# plt.show()\u001b[39;00m\n",
      "File \u001b[1;32m~\\AppData\\Local\\Programs\\Python\\Python312\\Lib\\site-packages\\sklearn\\utils\\_param_validation.py:216\u001b[0m, in \u001b[0;36mvalidate_params.<locals>.decorator.<locals>.wrapper\u001b[1;34m(*args, **kwargs)\u001b[0m\n\u001b[0;32m    210\u001b[0m \u001b[38;5;28;01mtry\u001b[39;00m:\n\u001b[0;32m    211\u001b[0m     \u001b[38;5;28;01mwith\u001b[39;00m config_context(\n\u001b[0;32m    212\u001b[0m         skip_parameter_validation\u001b[38;5;241m=\u001b[39m(\n\u001b[0;32m    213\u001b[0m             prefer_skip_nested_validation \u001b[38;5;129;01mor\u001b[39;00m global_skip_validation\n\u001b[0;32m    214\u001b[0m         )\n\u001b[0;32m    215\u001b[0m     ):\n\u001b[1;32m--> 216\u001b[0m         \u001b[38;5;28;01mreturn\u001b[39;00m \u001b[43mfunc\u001b[49m\u001b[43m(\u001b[49m\u001b[38;5;241;43m*\u001b[39;49m\u001b[43margs\u001b[49m\u001b[43m,\u001b[49m\u001b[43m \u001b[49m\u001b[38;5;241;43m*\u001b[39;49m\u001b[38;5;241;43m*\u001b[39;49m\u001b[43mkwargs\u001b[49m\u001b[43m)\u001b[49m\n\u001b[0;32m    217\u001b[0m \u001b[38;5;28;01mexcept\u001b[39;00m InvalidParameterError \u001b[38;5;28;01mas\u001b[39;00m e:\n\u001b[0;32m    218\u001b[0m     \u001b[38;5;66;03m# When the function is just a wrapper around an estimator, we allow\u001b[39;00m\n\u001b[0;32m    219\u001b[0m     \u001b[38;5;66;03m# the function to delegate validation to the estimator, but we replace\u001b[39;00m\n\u001b[0;32m    220\u001b[0m     \u001b[38;5;66;03m# the name of the estimator by the name of the function in the error\u001b[39;00m\n\u001b[0;32m    221\u001b[0m     \u001b[38;5;66;03m# message to avoid confusion.\u001b[39;00m\n\u001b[0;32m    222\u001b[0m     msg \u001b[38;5;241m=\u001b[39m re\u001b[38;5;241m.\u001b[39msub(\n\u001b[0;32m    223\u001b[0m         \u001b[38;5;124mr\u001b[39m\u001b[38;5;124m\"\u001b[39m\u001b[38;5;124mparameter of \u001b[39m\u001b[38;5;124m\\\u001b[39m\u001b[38;5;124mw+ must be\u001b[39m\u001b[38;5;124m\"\u001b[39m,\n\u001b[0;32m    224\u001b[0m         \u001b[38;5;124mf\u001b[39m\u001b[38;5;124m\"\u001b[39m\u001b[38;5;124mparameter of \u001b[39m\u001b[38;5;132;01m{\u001b[39;00mfunc\u001b[38;5;241m.\u001b[39m\u001b[38;5;18m__qualname__\u001b[39m\u001b[38;5;132;01m}\u001b[39;00m\u001b[38;5;124m must be\u001b[39m\u001b[38;5;124m\"\u001b[39m,\n\u001b[0;32m    225\u001b[0m         \u001b[38;5;28mstr\u001b[39m(e),\n\u001b[0;32m    226\u001b[0m     )\n",
      "File \u001b[1;32m~\\AppData\\Local\\Programs\\Python\\Python312\\Lib\\site-packages\\sklearn\\feature_selection\\_univariate_selection.py:266\u001b[0m, in \u001b[0;36mchi2\u001b[1;34m(X, y)\u001b[0m\n\u001b[0;32m    202\u001b[0m \u001b[38;5;250m\u001b[39m\u001b[38;5;124;03m\"\"\"Compute chi-squared stats between each non-negative feature and class.\u001b[39;00m\n\u001b[0;32m    203\u001b[0m \n\u001b[0;32m    204\u001b[0m \u001b[38;5;124;03mThis score can be used to select the `n_features` features with the\u001b[39;00m\n\u001b[1;32m   (...)\u001b[0m\n\u001b[0;32m    259\u001b[0m \u001b[38;5;124;03marray([0.0004..., 0.0387..., 0.0116... ])\u001b[39;00m\n\u001b[0;32m    260\u001b[0m \u001b[38;5;124;03m\"\"\"\u001b[39;00m\n\u001b[0;32m    262\u001b[0m \u001b[38;5;66;03m# XXX: we might want to do some of the following in logspace instead for\u001b[39;00m\n\u001b[0;32m    263\u001b[0m \u001b[38;5;66;03m# numerical stability.\u001b[39;00m\n\u001b[0;32m    264\u001b[0m \u001b[38;5;66;03m# Converting X to float allows getting better performance for the\u001b[39;00m\n\u001b[0;32m    265\u001b[0m \u001b[38;5;66;03m# safe_sparse_dot call made below.\u001b[39;00m\n\u001b[1;32m--> 266\u001b[0m X \u001b[38;5;241m=\u001b[39m \u001b[43mcheck_array\u001b[49m\u001b[43m(\u001b[49m\u001b[43mX\u001b[49m\u001b[43m,\u001b[49m\u001b[43m \u001b[49m\u001b[43maccept_sparse\u001b[49m\u001b[38;5;241;43m=\u001b[39;49m\u001b[38;5;124;43m\"\u001b[39;49m\u001b[38;5;124;43mcsr\u001b[39;49m\u001b[38;5;124;43m\"\u001b[39;49m\u001b[43m,\u001b[49m\u001b[43m \u001b[49m\u001b[43mdtype\u001b[49m\u001b[38;5;241;43m=\u001b[39;49m\u001b[43m(\u001b[49m\u001b[43mnp\u001b[49m\u001b[38;5;241;43m.\u001b[39;49m\u001b[43mfloat64\u001b[49m\u001b[43m,\u001b[49m\u001b[43m \u001b[49m\u001b[43mnp\u001b[49m\u001b[38;5;241;43m.\u001b[39;49m\u001b[43mfloat32\u001b[49m\u001b[43m)\u001b[49m\u001b[43m)\u001b[49m\n\u001b[0;32m    267\u001b[0m \u001b[38;5;28;01mif\u001b[39;00m np\u001b[38;5;241m.\u001b[39many((X\u001b[38;5;241m.\u001b[39mdata \u001b[38;5;28;01mif\u001b[39;00m issparse(X) \u001b[38;5;28;01melse\u001b[39;00m X) \u001b[38;5;241m<\u001b[39m \u001b[38;5;241m0\u001b[39m):\n\u001b[0;32m    268\u001b[0m     \u001b[38;5;28;01mraise\u001b[39;00m \u001b[38;5;167;01mValueError\u001b[39;00m(\u001b[38;5;124m\"\u001b[39m\u001b[38;5;124mInput X must be non-negative.\u001b[39m\u001b[38;5;124m\"\u001b[39m)\n",
      "File \u001b[1;32m~\\AppData\\Local\\Programs\\Python\\Python312\\Lib\\site-packages\\sklearn\\utils\\validation.py:1107\u001b[0m, in \u001b[0;36mcheck_array\u001b[1;34m(array, accept_sparse, accept_large_sparse, dtype, order, copy, force_writeable, force_all_finite, ensure_all_finite, ensure_non_negative, ensure_2d, allow_nd, ensure_min_samples, ensure_min_features, estimator, input_name)\u001b[0m\n\u001b[0;32m   1101\u001b[0m     \u001b[38;5;28;01mraise\u001b[39;00m \u001b[38;5;167;01mValueError\u001b[39;00m(\n\u001b[0;32m   1102\u001b[0m         \u001b[38;5;124m\"\u001b[39m\u001b[38;5;124mFound array with dim \u001b[39m\u001b[38;5;132;01m%d\u001b[39;00m\u001b[38;5;124m. \u001b[39m\u001b[38;5;132;01m%s\u001b[39;00m\u001b[38;5;124m expected <= 2.\u001b[39m\u001b[38;5;124m\"\u001b[39m\n\u001b[0;32m   1103\u001b[0m         \u001b[38;5;241m%\u001b[39m (array\u001b[38;5;241m.\u001b[39mndim, estimator_name)\n\u001b[0;32m   1104\u001b[0m     )\n\u001b[0;32m   1106\u001b[0m \u001b[38;5;28;01mif\u001b[39;00m ensure_all_finite:\n\u001b[1;32m-> 1107\u001b[0m     \u001b[43m_assert_all_finite\u001b[49m\u001b[43m(\u001b[49m\n\u001b[0;32m   1108\u001b[0m \u001b[43m        \u001b[49m\u001b[43marray\u001b[49m\u001b[43m,\u001b[49m\n\u001b[0;32m   1109\u001b[0m \u001b[43m        \u001b[49m\u001b[43minput_name\u001b[49m\u001b[38;5;241;43m=\u001b[39;49m\u001b[43minput_name\u001b[49m\u001b[43m,\u001b[49m\n\u001b[0;32m   1110\u001b[0m \u001b[43m        \u001b[49m\u001b[43mestimator_name\u001b[49m\u001b[38;5;241;43m=\u001b[39;49m\u001b[43mestimator_name\u001b[49m\u001b[43m,\u001b[49m\n\u001b[0;32m   1111\u001b[0m \u001b[43m        \u001b[49m\u001b[43mallow_nan\u001b[49m\u001b[38;5;241;43m=\u001b[39;49m\u001b[43mensure_all_finite\u001b[49m\u001b[43m \u001b[49m\u001b[38;5;241;43m==\u001b[39;49m\u001b[43m \u001b[49m\u001b[38;5;124;43m\"\u001b[39;49m\u001b[38;5;124;43mallow-nan\u001b[39;49m\u001b[38;5;124;43m\"\u001b[39;49m\u001b[43m,\u001b[49m\n\u001b[0;32m   1112\u001b[0m \u001b[43m    \u001b[49m\u001b[43m)\u001b[49m\n\u001b[0;32m   1114\u001b[0m \u001b[38;5;28;01mif\u001b[39;00m copy:\n\u001b[0;32m   1115\u001b[0m     \u001b[38;5;28;01mif\u001b[39;00m _is_numpy_namespace(xp):\n\u001b[0;32m   1116\u001b[0m         \u001b[38;5;66;03m# only make a copy if `array` and `array_orig` may share memory`\u001b[39;00m\n",
      "File \u001b[1;32m~\\AppData\\Local\\Programs\\Python\\Python312\\Lib\\site-packages\\sklearn\\utils\\validation.py:120\u001b[0m, in \u001b[0;36m_assert_all_finite\u001b[1;34m(X, allow_nan, msg_dtype, estimator_name, input_name)\u001b[0m\n\u001b[0;32m    117\u001b[0m \u001b[38;5;28;01mif\u001b[39;00m first_pass_isfinite:\n\u001b[0;32m    118\u001b[0m     \u001b[38;5;28;01mreturn\u001b[39;00m\n\u001b[1;32m--> 120\u001b[0m \u001b[43m_assert_all_finite_element_wise\u001b[49m\u001b[43m(\u001b[49m\n\u001b[0;32m    121\u001b[0m \u001b[43m    \u001b[49m\u001b[43mX\u001b[49m\u001b[43m,\u001b[49m\n\u001b[0;32m    122\u001b[0m \u001b[43m    \u001b[49m\u001b[43mxp\u001b[49m\u001b[38;5;241;43m=\u001b[39;49m\u001b[43mxp\u001b[49m\u001b[43m,\u001b[49m\n\u001b[0;32m    123\u001b[0m \u001b[43m    \u001b[49m\u001b[43mallow_nan\u001b[49m\u001b[38;5;241;43m=\u001b[39;49m\u001b[43mallow_nan\u001b[49m\u001b[43m,\u001b[49m\n\u001b[0;32m    124\u001b[0m \u001b[43m    \u001b[49m\u001b[43mmsg_dtype\u001b[49m\u001b[38;5;241;43m=\u001b[39;49m\u001b[43mmsg_dtype\u001b[49m\u001b[43m,\u001b[49m\n\u001b[0;32m    125\u001b[0m \u001b[43m    \u001b[49m\u001b[43mestimator_name\u001b[49m\u001b[38;5;241;43m=\u001b[39;49m\u001b[43mestimator_name\u001b[49m\u001b[43m,\u001b[49m\n\u001b[0;32m    126\u001b[0m \u001b[43m    \u001b[49m\u001b[43minput_name\u001b[49m\u001b[38;5;241;43m=\u001b[39;49m\u001b[43minput_name\u001b[49m\u001b[43m,\u001b[49m\n\u001b[0;32m    127\u001b[0m \u001b[43m\u001b[49m\u001b[43m)\u001b[49m\n",
      "File \u001b[1;32m~\\AppData\\Local\\Programs\\Python\\Python312\\Lib\\site-packages\\sklearn\\utils\\validation.py:169\u001b[0m, in \u001b[0;36m_assert_all_finite_element_wise\u001b[1;34m(X, xp, allow_nan, msg_dtype, estimator_name, input_name)\u001b[0m\n\u001b[0;32m    152\u001b[0m \u001b[38;5;28;01mif\u001b[39;00m estimator_name \u001b[38;5;129;01mand\u001b[39;00m input_name \u001b[38;5;241m==\u001b[39m \u001b[38;5;124m\"\u001b[39m\u001b[38;5;124mX\u001b[39m\u001b[38;5;124m\"\u001b[39m \u001b[38;5;129;01mand\u001b[39;00m has_nan_error:\n\u001b[0;32m    153\u001b[0m     \u001b[38;5;66;03m# Improve the error message on how to handle missing values in\u001b[39;00m\n\u001b[0;32m    154\u001b[0m     \u001b[38;5;66;03m# scikit-learn.\u001b[39;00m\n\u001b[0;32m    155\u001b[0m     msg_err \u001b[38;5;241m+\u001b[39m\u001b[38;5;241m=\u001b[39m (\n\u001b[0;32m    156\u001b[0m         \u001b[38;5;124mf\u001b[39m\u001b[38;5;124m\"\u001b[39m\u001b[38;5;130;01m\\n\u001b[39;00m\u001b[38;5;132;01m{\u001b[39;00mestimator_name\u001b[38;5;132;01m}\u001b[39;00m\u001b[38;5;124m does not accept missing values\u001b[39m\u001b[38;5;124m\"\u001b[39m\n\u001b[0;32m    157\u001b[0m         \u001b[38;5;124m\"\u001b[39m\u001b[38;5;124m encoded as NaN natively. For supervised learning, you might want\u001b[39m\u001b[38;5;124m\"\u001b[39m\n\u001b[1;32m   (...)\u001b[0m\n\u001b[0;32m    167\u001b[0m         \u001b[38;5;124m\"\u001b[39m\u001b[38;5;124m#estimators-that-handle-nan-values\u001b[39m\u001b[38;5;124m\"\u001b[39m\n\u001b[0;32m    168\u001b[0m     )\n\u001b[1;32m--> 169\u001b[0m \u001b[38;5;28;01mraise\u001b[39;00m \u001b[38;5;167;01mValueError\u001b[39;00m(msg_err)\n",
      "\u001b[1;31mValueError\u001b[0m: Input contains NaN."
     ]
    }
   ],
   "source": [
    "from sklearn.feature_selection import chi2\n",
    "import pandas as pd\n",
    "import matplotlib.pyplot as plt\n",
    "\n",
    "# y — целевая переменная, например Series с типом int\n",
    "# X — DataFrame с категориальными признаками\n",
    "# cat_cols — список категориальных столбцов в X\n",
    "\n",
    "imp_cat = pd.Series(chi2(X[cat_cols], y)[0], index=cat_cols)\n",
    "# imp_cat.sort_values(inplace=True)\n",
    "# imp_cat.plot(kind='barh')\n",
    "# plt.show()\n"
   ]
  },
  {
   "cell_type": "code",
   "execution_count": 37,
   "id": "fdc8c5d1-fe44-4424-9fbc-02fbedaf50f6",
   "metadata": {},
   "outputs": [
    {
     "name": "stdout",
     "output_type": "stream",
     "text": [
      "MAPE на тестовой выборке: 14.36%\n"
     ]
    }
   ],
   "source": [
    "import numpy as np\n",
    "from sklearn.ensemble import RandomForestRegressor  # пример модели\n",
    "from sklearn.metrics import mean_absolute_percentage_error\n",
    "# Обучение модели (пример)\n",
    "model = RandomForestRegressor(random_state=42)\n",
    "model.fit(X_train, y_train)\n",
    "# Предсказания на тесте\n",
    "y_pred = model.predict(X_test)\n",
    "# Расчёт MAPE\n",
    "mape_value = mean_absolute_percentage_error(y_test, y_pred) * 100  # умножаем на 100 для %\n",
    "print(f\"MAPE на тестовой выборке: {mape_value:.2f}%\")"
   ]
  },
  {
   "cell_type": "code",
   "execution_count": null,
   "id": "f700d057-c7f3-43fc-a625-ed6ab013c2e4",
   "metadata": {},
   "outputs": [],
   "source": []
  },
  {
   "cell_type": "code",
   "execution_count": null,
   "id": "8cd82dfc-c083-4b92-950f-7816768cd2fd",
   "metadata": {},
   "outputs": [],
   "source": []
  },
  {
   "cell_type": "code",
   "execution_count": null,
   "id": "ea840169-27bb-41d5-971d-c26feb655547",
   "metadata": {},
   "outputs": [],
   "source": []
  },
  {
   "cell_type": "markdown",
   "id": "334c8d24-5d99-4b76-ad5d-2a6167911358",
   "metadata": {
    "jupyter": {
     "source_hidden": true
    }
   },
   "source": [
    "import pandas as pd\n",
    "import numpy as np\n",
    "from sklearn.feature_selection import chi2\n",
    "from sklearn.preprocessing import OrdinalEncoder\n",
    "\n",
    "# --- 1. Создание демонстрационных данных ---\n",
    "# Создадим DataFrame X с числовыми и категориальными столбцами, включая отрицательные значения\n",
    "data = {\n",
    "    'average_score': np.random.randint(0, 100, 200000),\n",
    "    'lat': np.random.uniform(0, 90, 200000),\n",
    "    'lng': np.random.uniform(-180, 180, 200000), # Тут будут отрицательные\n",
    "    'category_A': np.random.choice(['red', 'blue', 'green', np.nan], 200000),\n",
    "    'category_B': np.random.choice(['small', 'medium', 'large', np.nan], 200000),\n",
    "    'feature_1': np.random.rand(200000),\n",
    "    'feature_2': np.random.rand(200000)\n",
    "}\n",
    "X = pd.DataFrame(data)\n",
    "\n",
    "# Создадим целевую переменную y\n",
    "y = pd.Series(np.random.randint(0, 2, 200000)) # Бинарный класс для chi2\n",
    "\n",
    "# Умышленно добавим отрицательные lat и average_score для демонстрации\n",
    "X.loc[500:510, 'average_score'] = -1\n",
    "X.loc[1000:1010, 'lat'] = -5\n",
    "\n",
    "print(\"X shape before any processing:\", X.shape)\n",
    "print(\"y shape before any processing:\", y.shape)\n",
    "print(\"\\n(X < 0).sum() before processing:\")\n",
    "print((X[['average_score', 'lat', 'lng']] < 0).sum())\n",
    "\n",
    "# Определяем категориальные столбцы\n",
    "cat_cols = ['category_A', 'category_B']\n",
    "\n",
    "# --- 2. Удаление строк с отрицательными значениями ---\n",
    "# Создаем маску для удаления строк с отрицательными значениями в 'average_score', 'lat', 'lng'\n",
    "# ВНИМАНИЕ: Если вы хотите удалить строки только по 'lng', используйте:\n",
    "# mask_valid_rows = (X['lng'] >= 0)\n",
    "# В этом примере удаляем по всем трем:\n",
    "mask_valid_rows = (X['average_score'] >= 0) & (X['lat'] >= 0) & (X['lng'] >= 0)\n",
    "\n",
    "# Применяем маску к X и y, чтобы сохранить синхронизацию\n",
    "X = X.loc[mask_valid_rows].copy() # .copy() для избежания SettingWithCopyWarning\n",
    "y = y.loc[mask_valid_rows].copy()\n",
    "\n",
    "print(\"\\n--- After removing negative rows ---\")\n",
    "print(\"X shape after removing negative rows:\", X.shape)\n",
    "print(\"y shape after removing negative rows:\", y.shape)\n",
    "print(\"\\n(X < 0).sum() after processing:\")\n",
    "print((X[['average_score', 'lat', 'lng']] < 0).sum())\n",
    "\n",
    "\n",
    "# --- 3. Обработка пропусков в y (если они есть) ---\n",
    "# Убедимся, что в y нет пропусков, так как chi2 не работает с NaN в целевой переменной\n",
    "mask_y_notnull = y.notnull()\n",
    "X = X.loc[mask_y_notnull].copy()\n",
    "y = y.loc[mask_y_notnull].copy()\n",
    "print(\"\\n--- After checking y for nulls ---\")\n",
    "print(\"X shape after checking y for nulls:\", X.shape)\n",
    "print(\"y shape after checking y for nulls:\", y.shape)\n",
    "\n",
    "\n",
    "# --- 4. Обработка пропусков в категориальных признаках и кодирование ---\n",
    "# Заполняем пропуски в категориальных столбцах наиболее частым значением\n",
    "# Используем .copy() на X[cat_cols] перед заполнением, чтобы не изменять исходный X напрямую\n",
    "X_filled_cat = X[cat_cols].fillna(X[cat_cols].mode().iloc[0])\n",
    "\n",
    "print(\"\\n--- After filling NaN in categorical columns ---\")\n",
    "print(\"X_filled_cat shape:\", X_filled_cat.shape)\n",
    "print(\"X_filled_cat NaN count:\\n\", X_filled_cat.isnull().sum())\n",
    "\n",
    "# Кодируем категориальные признаки\n",
    "# chi2 требует числовые неотрицательные значения, поэтому OrdinalEncoder подходит\n",
    "enc = OrdinalEncoder()\n",
    "X_encoded_cat = enc.fit_transform(X_filled_cat)\n",
    "\n",
    "print(\"\\n--- After Ordinal Encoding categorical columns ---\")\n",
    "print(\"X_encoded_cat shape:\", X_encoded_cat.shape)\n",
    "print(\"X_encoded_cat type:\", type(X_encoded_cat)) # Это будет numpy array\n",
    "\n",
    "# --- 5. Вычисление chi2 для отбора признаков ---\n",
    "# Убедитесь, что y имеет тип int, если это не так (особенно если есть bool)\n",
    "y = y.astype('int')\n",
    "\n",
    "# X_encoded_cat - это numpy array, y - Series\n",
    "imp_cat_values = chi2(X_encoded_cat, y)[0] # chi2 возвращает кортеж (scores, pvalues), берем scores\n",
    "\n",
    "# Создаем pd.Series из важностей, с индексами-названиями столбцов\n",
    "imp_cat = pd.Series(imp_cat_values, index=cat_cols)\n",
    "\n",
    "print(\"\\n--- Feature importance (chi2) for categorical columns ---\")\n",
    "print(imp_cat.sort_values(ascending=False))\n"
   ]
  },
  {
   "cell_type": "code",
   "execution_count": null,
   "id": "50ab003c-2922-40e1-a85c-ebb74059692a",
   "metadata": {},
   "outputs": [],
   "source": []
  },
  {
   "cell_type": "code",
   "execution_count": null,
   "id": "11d4b6a8-c668-4c68-8bf0-d0c1562b7421",
   "metadata": {},
   "outputs": [],
   "source": []
  },
  {
   "cell_type": "code",
   "execution_count": null,
   "id": "a8d19cfd-40d2-488f-a065-129da3a53645",
   "metadata": {},
   "outputs": [],
   "source": []
  },
  {
   "cell_type": "code",
   "execution_count": 25,
   "id": "89078fef-64c5-4358-99f1-2ed47a967d4b",
   "metadata": {},
   "outputs": [
    {
     "name": "stdout",
     "output_type": "stream",
     "text": [
      "В наборе данных представлено 1492 уникальных отелей.\n"
     ]
    }
   ],
   "source": [
    "# Задание 4.2\n",
    "# Сколько отелей представлено в наборе данных?\n",
    "num_hotels = df['hotel_name'].nunique()\n",
    "print(f\"В наборе данных представлено {num_hotels} уникальных отелей.\")"
   ]
  },
  {
   "cell_type": "markdown",
   "id": "e870bf71-2f07-4e65-8da1-fb473ad820f9",
   "metadata": {},
   "source": [
    "* Что здесь происходит:\n",
    "  - pd.to_datetime() — функция pandas, которая пытается превратить значения (строки, числа и др.) в даты.\n",
    "  - df['review_date'] — столбец с исходными данными, которые могут быть в строковом формате или других.\n",
    "  - Параметр *errors='coerce'* означает, что если какое-то значение невозможно преобразовать в дату (например, некорректная строка), то вместо ошибки будет записано значение NaT (Not a Time) — специальное        обозначение пропущенной даты.\n",
    "* Зачем это нужно?\n",
    "  - Для правильной работы с датами в pandas — например, сортировки по дате, вычисления разниц между датами, фильтрации по периоду.\n",
    "* Приведение к датам позволяет избежать ошибок при работе с временными данными.\n",
    "\n",
    " - выводит значение переменной max_date в формате даты год-месяц-день (например, 2025-08-04).\n",
    "*Здесь max_date — объект типа datetime или Timestamp в pandas, а метод .strftime('%Y-%m-%d') преобразует его в строку в заданном формате.*"
   ]
  },
  {
   "cell_type": "code",
   "execution_count": 27,
   "id": "111d8156-76c5-47cb-abee-c6699ebd9952",
   "metadata": {},
   "outputs": [
    {
     "name": "stdout",
     "output_type": "stream",
     "text": [
      "2017-08-03\n",
      "2015-08-04\n"
     ]
    }
   ],
   "source": [
    "# Задание 4.3\n",
    "# Ответьте на вопросы о дате размещения отзывов.\n",
    "# Когда был оставлен самый свежий отзыв? Введите ответ в формате yyyy-mm-dd.\n",
    "# Преобразовать столбец с датами в формат datetime, если это ещё не сделано\n",
    "df['review_date'] = pd.to_datetime(df['review_date'], errors='coerce')\n",
    "# Найти максимальную дату\n",
    "max_date = df['review_date'].max()\n",
    "# Вывести дату в нужном формате yyyy-mm-dd\n",
    "print(max_date.strftime('%Y-%m-%d'))\n",
    "# Когда был оставлен самый первый отзыв? Введите ответ в формате yyyy-mm-dd.\n",
    "min_date = df['review_date'].min()\n",
    "print(min_date.strftime('%Y-%m-%d'))"
   ]
  },
  {
   "cell_type": "code",
   "execution_count": 30,
   "id": "955aa365-0055-4404-8300-b360fa02506c",
   "metadata": {},
   "outputs": [
    {
     "name": "stdout",
     "output_type": "stream",
     "text": [
      "Всего уникальных тегов: 2413\n"
     ]
    }
   ],
   "source": [
    "# Задание 4.4\n",
    "# Сколько уникальных тегов представлено в наборе данных?\n",
    "# Предположим, столбец с тегами называется 'tags'\n",
    "# Разобьём все теги на отдельные элементы и составим множество уникальных\n",
    "all_tags = df['tags'].dropna().str.split(',')  # Разделение по запятой, если другой разделитель — замените\n",
    "unique_tags = set(tag.strip() for sublist in all_tags for tag in sublist)\n",
    "num_unique_tags = len(unique_tags)\n",
    "print(f\"Всего уникальных тегов: {num_unique_tags}\")"
   ]
  },
  {
   "cell_type": "code",
   "execution_count": 32,
   "id": "f5671e69-9551-4e02-a781-5c19a6031414",
   "metadata": {},
   "outputs": [
    {
     "name": "stdout",
     "output_type": "stream",
     "text": [
      "Тег, представленный в наибольшем числе отзывов: '[' Leisure trip '', встречается в 312768 отзывах.\n"
     ]
    }
   ],
   "source": [
    "# Задание 4.5\n",
    "# Какой тег представлен в наибольшем числе отзывов?\n",
    "# Убираем пропуски в столбце с тегами\n",
    "tags_series = df['tags'].dropna()\n",
    "# Разбиваем строки на списки тегов по запятой\n",
    "tags_lists = tags_series.str.split(',')\n",
    "# Преобразуем в DataFrame, где каждая строка — один тег\n",
    "tags_exploded = tags_lists.explode().str.strip()\n",
    "# Считаем количество вхождений каждого тега (в скольких отзывах он встречается)\n",
    "tag_counts = tags_exploded.value_counts()\n",
    "# Получаем самый частотный тег\n",
    "most_common_tag = tag_counts.idxmax()\n",
    "most_common_count = tag_counts.max()\n",
    "print(f\"Тег, представленный в наибольшем числе отзывов: '{most_common_tag}', встречается в {most_common_count} отзывах.\")"
   ]
  },
  {
   "cell_type": "code",
   "execution_count": 34,
   "id": "43d4d710-5df9-48f8-ba96-bf1809aa9bb1",
   "metadata": {},
   "outputs": [
    {
     "name": "stdout",
     "output_type": "stream",
     "text": [
      "Чаще всего путешественники останавливаются на: '' Stayed 1 night '' (встречается в 88083 отзывах).\n",
      "Чаще всего путешественники останавливаются на 1 ночей.\n"
     ]
    }
   ],
   "source": [
    "# Задание 4.6\n",
    "# Из тегов выясните, на сколько ночей чаще всего останавливаются путешественники в отелях.\n",
    "\n",
    "tags_exploded = tags_lists.explode()\n",
    "# Удаляем пробелы и кавычки вне зависимости, одинарные или двойные\n",
    "tags_exploded = tags_exploded.str.strip().str.strip('\"\\'')\n",
    "# Убираем пропуски в столбце с тегами\n",
    "tags_series = df['tags'].dropna()\n",
    "# Разбиваем строки на отдельные теги\n",
    "tags_lists = tags_series.str.split(',')\n",
    "# Разворачиваем список списков в один столбец\n",
    "tags_exploded = tags_lists.explode().str.strip()\n",
    "# Фильтруем теги, которые содержат упоминание ночей (например, \"night\" или \"ночь\")\n",
    "nights_tags = tags_exploded[tags_exploded.str.contains('night|ночь', case=False, na=False)]\n",
    "# Считаем количество каждого такого тега\n",
    "nights_counts = nights_tags.value_counts()\n",
    "# Получаем самый частотный тег и количество\n",
    "most_common_nights_tag = nights_counts.idxmax()\n",
    "most_common_nights_count = nights_counts.max()\n",
    "print(f\"Чаще всего путешественники останавливаются на: '{most_common_nights_tag}' (встречается в {most_common_nights_count} отзывах).\")\n",
    "\n",
    "import pandas as pd\n",
    "import re\n",
    "# Убираем пропуски\n",
    "tags_series = df['tags'].dropna()\n",
    "# Разбиваем строки на отдельные теги\n",
    "tags_lists = tags_series.str.split(',')\n",
    "# Разворачиваем в один столбец\n",
    "tags_exploded = tags_lists.explode().str.strip().str.strip('\"\\'')\n",
    "# Фильтруем теги, содержащие слово \"night\" или \"ночь\"\n",
    "nights_tags = tags_exploded[tags_exploded.str.contains('night|ночь', case=False, na=False)]\n",
    "# Функция для извлечения числа ночей из текста\n",
    "def extract_nights(text):\n",
    "    match = re.search(r'(\\d+)', text)\n",
    "    if match:\n",
    "        return int(match.group(1))\n",
    "    return None\n",
    "# Применяем\n",
    "nights_counts = nights_tags.apply(extract_nights).dropna()\n",
    "# Считаем, какое число ночей встречается чаще всего\n",
    "most_common_nights = nights_counts.mode()\n",
    "if not most_common_nights.empty:\n",
    "    print(f\"Чаще всего путешественники останавливаются на {int(most_common_nights[0])} ночей.\")\n",
    "else:\n",
    "    print(\"Не удалось определить наиболее частое количество ночей.\")"
   ]
  },
  {
   "cell_type": "markdown",
   "id": "7c9ce667-045c-481d-aebd-d3d743609bb8",
   "metadata": {},
   "source": [
    "В Python строка import re означает импорт модуля под названием re, который предназначен для работы с регулярными выражениями.\n",
    "\n",
    "Что такое модуль re?\n",
    "Модуль re предоставляет инструменты для поиска, проверки, замены и разделения текста по шаблонам с использованием регулярных выражений.\n",
    "\n",
    "Регулярные выражения — это специальные строки (шаблоны), которые описывают набор правил для поиска или обработки текстовых данных.\n",
    "\n",
    "Основные возможности модуля re:\n",
    "Поиск первого совпадения шаблона в строке (re.search())\n",
    "Поиск совпадения именно в начале строки (re.match())\n",
    "Поиск всех совпадений шаблона в строке (re.findall())\n",
    "Замена всех совпадений шаблона в строке (re.sub())\n",
    "\n",
    "Разделение строки по шаблону (re.split())\n",
    "\n",
    "Компиляция регулярного выражения для повторного использования (re.compile())\n",
    "\n",
    "Пример использования:\n",
    "python\n",
    "import re\n",
    "\n",
    "text = \"Python is an amazing programming language.\"\n",
    "pattern = \"amazing\"\n",
    "\n",
    "match = re.search(pattern, text)\n",
    "if match:\n",
    "    print(\"Совпадение найдено:\", match.group())\n",
    "else:\n",
    "    print(\"Совпадение не найдено\")\n",
    "В данном примере мы ищем слово \"amazing\" в тексте. Если оно найдено, программа выведет его.\n",
    "\n",
    "Таким образом, import re — это команда, которая позволяет включить в ваш скрипт мощные инструменты для работы с текстом через регулярные выражения. Это очень полезно для парсинга, валидации данных, преобразования строк и многих других задач, связанных с текстом.\n",
    "\n",
    "Связанные\n",
    "Что такое модуль re и зачем он нужен в Python\n",
    "Как использовать re.search и re.findall на практике для поиска текста\n",
    "Почему рекомендуется писать строки шаблонов как raw-строки (r'')\n",
    "Чем регулируется скорость выполнения регулярных выражений в Python 3.11"
   ]
  },
  {
   "cell_type": "code",
   "execution_count": null,
   "id": "ce0238a1-5bb0-468a-b57e-2ab669bf7dab",
   "metadata": {},
   "outputs": [],
   "source": [
    "# Задание 4.7\n",
    "# Какое значение метрики MAPE вам удалось получить на этом этапе?"
   ]
  }
 ],
 "metadata": {
  "kernelspec": {
   "display_name": "Python 3 (ipykernel)",
   "language": "python",
   "name": "python3"
  },
  "language_info": {
   "codemirror_mode": {
    "name": "ipython",
    "version": 3
   },
   "file_extension": ".py",
   "mimetype": "text/x-python",
   "name": "python",
   "nbconvert_exporter": "python",
   "pygments_lexer": "ipython3",
   "version": "3.12.6"
  }
 },
 "nbformat": 4,
 "nbformat_minor": 5
}
