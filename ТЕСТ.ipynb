{
 "cells": [
  {
   "cell_type": "code",
   "execution_count": 142,
   "id": "debca30c-d3f1-41d8-96b0-ea4247885b8b",
   "metadata": {},
   "outputs": [],
   "source": [
    "from sklearn.feature_selection import chi2\n",
    "import pandas as pd\n",
    "import matplotlib.pyplot as plt\n",
    "import seaborn as sns\n",
    "from matplotlib import pyplot as plt"
   ]
  },
  {
   "cell_type": "code",
   "execution_count": 143,
   "id": "6d65388b-0f3b-4308-82d4-2c6f89795ff6",
   "metadata": {
    "scrolled": true
   },
   "outputs": [
    {
     "data": {
      "text/html": [
       "<div>\n",
       "<style scoped>\n",
       "    .dataframe tbody tr th:only-of-type {\n",
       "        vertical-align: middle;\n",
       "    }\n",
       "\n",
       "    .dataframe tbody tr th {\n",
       "        vertical-align: top;\n",
       "    }\n",
       "\n",
       "    .dataframe thead th {\n",
       "        text-align: right;\n",
       "    }\n",
       "</style>\n",
       "<table border=\"1\" class=\"dataframe\">\n",
       "  <thead>\n",
       "    <tr style=\"text-align: right;\">\n",
       "      <th></th>\n",
       "      <th>hotel_address</th>\n",
       "      <th>additional_number_of_scoring</th>\n",
       "      <th>review_date</th>\n",
       "      <th>average_score</th>\n",
       "      <th>hotel_name</th>\n",
       "      <th>reviewer_nationality</th>\n",
       "      <th>negative_review</th>\n",
       "      <th>review_total_negative_word_counts</th>\n",
       "      <th>total_number_of_reviews</th>\n",
       "      <th>positive_review</th>\n",
       "      <th>review_total_positive_word_counts</th>\n",
       "      <th>total_number_of_reviews_reviewer_has_given</th>\n",
       "      <th>reviewer_score</th>\n",
       "      <th>tags</th>\n",
       "      <th>days_since_review</th>\n",
       "      <th>lat</th>\n",
       "      <th>lng</th>\n",
       "    </tr>\n",
       "  </thead>\n",
       "  <tbody>\n",
       "    <tr>\n",
       "      <th>0</th>\n",
       "      <td>Stratton Street Mayfair Westminster Borough Lo...</td>\n",
       "      <td>581</td>\n",
       "      <td>2/19/2016</td>\n",
       "      <td>8.4</td>\n",
       "      <td>The May Fair Hotel</td>\n",
       "      <td>United Kingdom</td>\n",
       "      <td>Leaving</td>\n",
       "      <td>3</td>\n",
       "      <td>1994</td>\n",
       "      <td>Staff were amazing</td>\n",
       "      <td>4</td>\n",
       "      <td>7</td>\n",
       "      <td>10.0</td>\n",
       "      <td>[' Leisure trip ', ' Couple ', ' Studio Suite ...</td>\n",
       "      <td>531 day</td>\n",
       "      <td>51.507894</td>\n",
       "      <td>-0.143671</td>\n",
       "    </tr>\n",
       "    <tr>\n",
       "      <th>1</th>\n",
       "      <td>130 134 Southampton Row Camden London WC1B 5AF...</td>\n",
       "      <td>299</td>\n",
       "      <td>1/12/2017</td>\n",
       "      <td>8.3</td>\n",
       "      <td>Mercure London Bloomsbury Hotel</td>\n",
       "      <td>United Kingdom</td>\n",
       "      <td>poor breakfast</td>\n",
       "      <td>3</td>\n",
       "      <td>1361</td>\n",
       "      <td>location</td>\n",
       "      <td>2</td>\n",
       "      <td>14</td>\n",
       "      <td>6.3</td>\n",
       "      <td>[' Business trip ', ' Couple ', ' Standard Dou...</td>\n",
       "      <td>203 day</td>\n",
       "      <td>51.521009</td>\n",
       "      <td>-0.123097</td>\n",
       "    </tr>\n",
       "  </tbody>\n",
       "</table>\n",
       "</div>"
      ],
      "text/plain": [
       "                                       hotel_address  \\\n",
       "0  Stratton Street Mayfair Westminster Borough Lo...   \n",
       "1  130 134 Southampton Row Camden London WC1B 5AF...   \n",
       "\n",
       "   additional_number_of_scoring review_date  average_score  \\\n",
       "0                           581   2/19/2016            8.4   \n",
       "1                           299   1/12/2017            8.3   \n",
       "\n",
       "                        hotel_name reviewer_nationality  negative_review  \\\n",
       "0               The May Fair Hotel      United Kingdom          Leaving    \n",
       "1  Mercure London Bloomsbury Hotel      United Kingdom    poor breakfast   \n",
       "\n",
       "   review_total_negative_word_counts  total_number_of_reviews  \\\n",
       "0                                  3                     1994   \n",
       "1                                  3                     1361   \n",
       "\n",
       "       positive_review  review_total_positive_word_counts  \\\n",
       "0   Staff were amazing                                  4   \n",
       "1             location                                  2   \n",
       "\n",
       "   total_number_of_reviews_reviewer_has_given  reviewer_score  \\\n",
       "0                                           7            10.0   \n",
       "1                                          14             6.3   \n",
       "\n",
       "                                                tags days_since_review  \\\n",
       "0  [' Leisure trip ', ' Couple ', ' Studio Suite ...           531 day   \n",
       "1  [' Business trip ', ' Couple ', ' Standard Dou...           203 day   \n",
       "\n",
       "         lat       lng  \n",
       "0  51.507894 -0.143671  \n",
       "1  51.521009 -0.123097  "
      ]
     },
     "execution_count": 143,
     "metadata": {},
     "output_type": "execute_result"
    }
   ],
   "source": [
    "df = pd.read_csv('hotels.csv')\n",
    "df.head(2)"
   ]
  },
  {
   "cell_type": "code",
   "execution_count": 144,
   "id": "4864d352-fe4e-45d6-99c1-a4b2303ddf44",
   "metadata": {},
   "outputs": [
    {
     "data": {
      "text/html": [
       "<div>\n",
       "<style scoped>\n",
       "    .dataframe tbody tr th:only-of-type {\n",
       "        vertical-align: middle;\n",
       "    }\n",
       "\n",
       "    .dataframe tbody tr th {\n",
       "        vertical-align: top;\n",
       "    }\n",
       "\n",
       "    .dataframe thead th {\n",
       "        text-align: right;\n",
       "    }\n",
       "</style>\n",
       "<table border=\"1\" class=\"dataframe\">\n",
       "  <thead>\n",
       "    <tr style=\"text-align: right;\">\n",
       "      <th></th>\n",
       "      <th>hotel_address</th>\n",
       "      <th>additional_number_of_scoring</th>\n",
       "      <th>review_date</th>\n",
       "      <th>average_score</th>\n",
       "      <th>hotel_name</th>\n",
       "      <th>reviewer_nationality</th>\n",
       "      <th>negative_review</th>\n",
       "      <th>review_total_negative_word_counts</th>\n",
       "      <th>total_number_of_reviews</th>\n",
       "      <th>positive_review</th>\n",
       "      <th>review_total_positive_word_counts</th>\n",
       "      <th>total_number_of_reviews_reviewer_has_given</th>\n",
       "      <th>reviewer_score</th>\n",
       "      <th>tags</th>\n",
       "      <th>days_since_review</th>\n",
       "      <th>lat</th>\n",
       "      <th>lng</th>\n",
       "    </tr>\n",
       "  </thead>\n",
       "  <tbody>\n",
       "    <tr>\n",
       "      <th>386801</th>\n",
       "      <td>31 Great Cumberland Place Westminster Borough ...</td>\n",
       "      <td>365</td>\n",
       "      <td>5/21/2017</td>\n",
       "      <td>8.1</td>\n",
       "      <td>The Marble Arch London</td>\n",
       "      <td>United Arab Emirates</td>\n",
       "      <td>No Negative</td>\n",
       "      <td>0</td>\n",
       "      <td>1567</td>\n",
       "      <td>Location and very comfy bed</td>\n",
       "      <td>6</td>\n",
       "      <td>28</td>\n",
       "      <td>9.2</td>\n",
       "      <td>[' Leisure trip ', ' Solo traveler ', ' Deluxe...</td>\n",
       "      <td>74 days</td>\n",
       "      <td>51.515125</td>\n",
       "      <td>-0.160066</td>\n",
       "    </tr>\n",
       "    <tr>\n",
       "      <th>386802</th>\n",
       "      <td>25 Courtfield Gardens Kensington and Chelsea L...</td>\n",
       "      <td>222</td>\n",
       "      <td>8/5/2016</td>\n",
       "      <td>9.0</td>\n",
       "      <td>The Nadler Kensington</td>\n",
       "      <td>Australia</td>\n",
       "      <td>Patio outside could have been cleaned of alga...</td>\n",
       "      <td>20</td>\n",
       "      <td>1209</td>\n",
       "      <td>Beds comfortable Pillows also good Homely fee...</td>\n",
       "      <td>20</td>\n",
       "      <td>2</td>\n",
       "      <td>8.8</td>\n",
       "      <td>[' Leisure trip ', ' Couple ', ' Bunk Bed Room...</td>\n",
       "      <td>363 day</td>\n",
       "      <td>51.493109</td>\n",
       "      <td>-0.190208</td>\n",
       "    </tr>\n",
       "  </tbody>\n",
       "</table>\n",
       "</div>"
      ],
      "text/plain": [
       "                                            hotel_address  \\\n",
       "386801  31 Great Cumberland Place Westminster Borough ...   \n",
       "386802  25 Courtfield Gardens Kensington and Chelsea L...   \n",
       "\n",
       "        additional_number_of_scoring review_date  average_score  \\\n",
       "386801                           365   5/21/2017            8.1   \n",
       "386802                           222    8/5/2016            9.0   \n",
       "\n",
       "                    hotel_name    reviewer_nationality  \\\n",
       "386801  The Marble Arch London   United Arab Emirates    \n",
       "386802   The Nadler Kensington              Australia    \n",
       "\n",
       "                                          negative_review  \\\n",
       "386801                                        No Negative   \n",
       "386802   Patio outside could have been cleaned of alga...   \n",
       "\n",
       "        review_total_negative_word_counts  total_number_of_reviews  \\\n",
       "386801                                  0                     1567   \n",
       "386802                                 20                     1209   \n",
       "\n",
       "                                          positive_review  \\\n",
       "386801                        Location and very comfy bed   \n",
       "386802   Beds comfortable Pillows also good Homely fee...   \n",
       "\n",
       "        review_total_positive_word_counts  \\\n",
       "386801                                  6   \n",
       "386802                                 20   \n",
       "\n",
       "        total_number_of_reviews_reviewer_has_given  reviewer_score  \\\n",
       "386801                                          28             9.2   \n",
       "386802                                           2             8.8   \n",
       "\n",
       "                                                     tags days_since_review  \\\n",
       "386801  [' Leisure trip ', ' Solo traveler ', ' Deluxe...           74 days   \n",
       "386802  [' Leisure trip ', ' Couple ', ' Bunk Bed Room...           363 day   \n",
       "\n",
       "              lat       lng  \n",
       "386801  51.515125 -0.160066  \n",
       "386802  51.493109 -0.190208  "
      ]
     },
     "execution_count": 144,
     "metadata": {},
     "output_type": "execute_result"
    }
   ],
   "source": [
    "df.tail(2)"
   ]
  },
  {
   "cell_type": "code",
   "execution_count": 145,
   "id": "9ef2b774-e1db-4ca9-a784-3f49200976f2",
   "metadata": {
    "scrolled": true
   },
   "outputs": [
    {
     "name": "stdout",
     "output_type": "stream",
     "text": [
      "<class 'pandas.core.frame.DataFrame'>\n",
      "RangeIndex: 386803 entries, 0 to 386802\n",
      "Data columns (total 17 columns):\n",
      " #   Column                                      Non-Null Count   Dtype  \n",
      "---  ------                                      --------------   -----  \n",
      " 0   hotel_address                               386803 non-null  object \n",
      " 1   additional_number_of_scoring                386803 non-null  int64  \n",
      " 2   review_date                                 386803 non-null  object \n",
      " 3   average_score                               386803 non-null  float64\n",
      " 4   hotel_name                                  386803 non-null  object \n",
      " 5   reviewer_nationality                        386803 non-null  object \n",
      " 6   negative_review                             386803 non-null  object \n",
      " 7   review_total_negative_word_counts           386803 non-null  int64  \n",
      " 8   total_number_of_reviews                     386803 non-null  int64  \n",
      " 9   positive_review                             386803 non-null  object \n",
      " 10  review_total_positive_word_counts           386803 non-null  int64  \n",
      " 11  total_number_of_reviews_reviewer_has_given  386803 non-null  int64  \n",
      " 12  reviewer_score                              386803 non-null  float64\n",
      " 13  tags                                        386803 non-null  object \n",
      " 14  days_since_review                           386803 non-null  object \n",
      " 15  lat                                         384355 non-null  float64\n",
      " 16  lng                                         384355 non-null  float64\n",
      "dtypes: float64(4), int64(5), object(8)\n",
      "memory usage: 50.2+ MB\n"
     ]
    }
   ],
   "source": [
    "df.info()"
   ]
  },
  {
   "cell_type": "code",
   "execution_count": 146,
   "id": "309f03ad-a97e-4f78-af2b-1264da4c8467",
   "metadata": {},
   "outputs": [
    {
     "name": "stdout",
     "output_type": "stream",
     "text": [
      "В наборе данных представлено 1492 уникальных отелей.\n"
     ]
    }
   ],
   "source": [
    "# Задание 4.2\n",
    "# Сколько отелей представлено в наборе данных?\n",
    "num_hotels = df['hotel_name'].nunique()\n",
    "print(f\"В наборе данных представлено {num_hotels} уникальных отелей.\")"
   ]
  },
  {
   "cell_type": "code",
   "execution_count": 147,
   "id": "ec36b1c8-68b8-461f-960f-6230a8f75ca5",
   "metadata": {},
   "outputs": [],
   "source": [
    "df1 = df\n",
    "#df1['review_date'] = pd.to_datetime(df['review_date'], errors='coerce')"
   ]
  },
  {
   "cell_type": "code",
   "execution_count": 148,
   "id": "e3325cd2-d5c4-4719-8ccb-c4bb30a63318",
   "metadata": {},
   "outputs": [
    {
     "data": {
      "text/html": [
       "<div>\n",
       "<style scoped>\n",
       "    .dataframe tbody tr th:only-of-type {\n",
       "        vertical-align: middle;\n",
       "    }\n",
       "\n",
       "    .dataframe tbody tr th {\n",
       "        vertical-align: top;\n",
       "    }\n",
       "\n",
       "    .dataframe thead th {\n",
       "        text-align: right;\n",
       "    }\n",
       "</style>\n",
       "<table border=\"1\" class=\"dataframe\">\n",
       "  <thead>\n",
       "    <tr style=\"text-align: right;\">\n",
       "      <th></th>\n",
       "      <th>hotel_address</th>\n",
       "      <th>additional_number_of_scoring</th>\n",
       "      <th>review_date</th>\n",
       "      <th>average_score</th>\n",
       "      <th>hotel_name</th>\n",
       "      <th>reviewer_nationality</th>\n",
       "      <th>negative_review</th>\n",
       "      <th>review_total_negative_word_counts</th>\n",
       "      <th>total_number_of_reviews</th>\n",
       "      <th>positive_review</th>\n",
       "      <th>review_total_positive_word_counts</th>\n",
       "      <th>total_number_of_reviews_reviewer_has_given</th>\n",
       "      <th>reviewer_score</th>\n",
       "      <th>tags</th>\n",
       "      <th>days_since_review</th>\n",
       "      <th>lat</th>\n",
       "      <th>lng</th>\n",
       "    </tr>\n",
       "  </thead>\n",
       "  <tbody>\n",
       "    <tr>\n",
       "      <th>0</th>\n",
       "      <td>Stratton Street Mayfair Westminster Borough Lo...</td>\n",
       "      <td>581</td>\n",
       "      <td>2/19/2016</td>\n",
       "      <td>8.4</td>\n",
       "      <td>The May Fair Hotel</td>\n",
       "      <td>United Kingdom</td>\n",
       "      <td>Leaving</td>\n",
       "      <td>3</td>\n",
       "      <td>1994</td>\n",
       "      <td>Staff were amazing</td>\n",
       "      <td>4</td>\n",
       "      <td>7</td>\n",
       "      <td>10.0</td>\n",
       "      <td>[' Leisure trip ', ' Couple ', ' Studio Suite ...</td>\n",
       "      <td>531 day</td>\n",
       "      <td>51.507894</td>\n",
       "      <td>-0.143671</td>\n",
       "    </tr>\n",
       "    <tr>\n",
       "      <th>1</th>\n",
       "      <td>130 134 Southampton Row Camden London WC1B 5AF...</td>\n",
       "      <td>299</td>\n",
       "      <td>1/12/2017</td>\n",
       "      <td>8.3</td>\n",
       "      <td>Mercure London Bloomsbury Hotel</td>\n",
       "      <td>United Kingdom</td>\n",
       "      <td>poor breakfast</td>\n",
       "      <td>3</td>\n",
       "      <td>1361</td>\n",
       "      <td>location</td>\n",
       "      <td>2</td>\n",
       "      <td>14</td>\n",
       "      <td>6.3</td>\n",
       "      <td>[' Business trip ', ' Couple ', ' Standard Dou...</td>\n",
       "      <td>203 day</td>\n",
       "      <td>51.521009</td>\n",
       "      <td>-0.123097</td>\n",
       "    </tr>\n",
       "  </tbody>\n",
       "</table>\n",
       "</div>"
      ],
      "text/plain": [
       "                                       hotel_address  \\\n",
       "0  Stratton Street Mayfair Westminster Borough Lo...   \n",
       "1  130 134 Southampton Row Camden London WC1B 5AF...   \n",
       "\n",
       "   additional_number_of_scoring review_date  average_score  \\\n",
       "0                           581   2/19/2016            8.4   \n",
       "1                           299   1/12/2017            8.3   \n",
       "\n",
       "                        hotel_name reviewer_nationality  negative_review  \\\n",
       "0               The May Fair Hotel      United Kingdom          Leaving    \n",
       "1  Mercure London Bloomsbury Hotel      United Kingdom    poor breakfast   \n",
       "\n",
       "   review_total_negative_word_counts  total_number_of_reviews  \\\n",
       "0                                  3                     1994   \n",
       "1                                  3                     1361   \n",
       "\n",
       "       positive_review  review_total_positive_word_counts  \\\n",
       "0   Staff were amazing                                  4   \n",
       "1             location                                  2   \n",
       "\n",
       "   total_number_of_reviews_reviewer_has_given  reviewer_score  \\\n",
       "0                                           7            10.0   \n",
       "1                                          14             6.3   \n",
       "\n",
       "                                                tags days_since_review  \\\n",
       "0  [' Leisure trip ', ' Couple ', ' Studio Suite ...           531 day   \n",
       "1  [' Business trip ', ' Couple ', ' Standard Dou...           203 day   \n",
       "\n",
       "         lat       lng  \n",
       "0  51.507894 -0.143671  \n",
       "1  51.521009 -0.123097  "
      ]
     },
     "execution_count": 148,
     "metadata": {},
     "output_type": "execute_result"
    }
   ],
   "source": [
    "df1.head(2)"
   ]
  },
  {
   "cell_type": "code",
   "execution_count": 149,
   "id": "6380ae8f-42dc-4ed7-a055-d0a7c25a48f8",
   "metadata": {
    "scrolled": true
   },
   "outputs": [
    {
     "name": "stdout",
     "output_type": "stream",
     "text": [
      "<class 'pandas.core.frame.DataFrame'>\n",
      "RangeIndex: 386803 entries, 0 to 386802\n",
      "Data columns (total 17 columns):\n",
      " #   Column                                      Non-Null Count   Dtype  \n",
      "---  ------                                      --------------   -----  \n",
      " 0   hotel_address                               386803 non-null  object \n",
      " 1   additional_number_of_scoring                386803 non-null  int64  \n",
      " 2   review_date                                 386803 non-null  object \n",
      " 3   average_score                               386803 non-null  float64\n",
      " 4   hotel_name                                  386803 non-null  object \n",
      " 5   reviewer_nationality                        386803 non-null  object \n",
      " 6   negative_review                             386803 non-null  object \n",
      " 7   review_total_negative_word_counts           386803 non-null  int64  \n",
      " 8   total_number_of_reviews                     386803 non-null  int64  \n",
      " 9   positive_review                             386803 non-null  object \n",
      " 10  review_total_positive_word_counts           386803 non-null  int64  \n",
      " 11  total_number_of_reviews_reviewer_has_given  386803 non-null  int64  \n",
      " 12  reviewer_score                              386803 non-null  float64\n",
      " 13  tags                                        386803 non-null  object \n",
      " 14  days_since_review                           386803 non-null  object \n",
      " 15  lat                                         384355 non-null  float64\n",
      " 16  lng                                         384355 non-null  float64\n",
      "dtypes: float64(4), int64(5), object(8)\n",
      "memory usage: 50.2+ MB\n"
     ]
    }
   ],
   "source": [
    "df.info()"
   ]
  },
  {
   "cell_type": "code",
   "execution_count": 150,
   "id": "2184542f-7269-40c3-9f7f-7b9ac0cdf525",
   "metadata": {
    "scrolled": true
   },
   "outputs": [
    {
     "name": "stdout",
     "output_type": "stream",
     "text": [
      "<class 'pandas.core.frame.DataFrame'>\n",
      "RangeIndex: 386803 entries, 0 to 386802\n",
      "Data columns (total 17 columns):\n",
      " #   Column                                      Non-Null Count   Dtype  \n",
      "---  ------                                      --------------   -----  \n",
      " 0   hotel_address                               386803 non-null  object \n",
      " 1   additional_number_of_scoring                386803 non-null  int64  \n",
      " 2   review_date                                 386803 non-null  object \n",
      " 3   average_score                               386803 non-null  float64\n",
      " 4   hotel_name                                  386803 non-null  object \n",
      " 5   reviewer_nationality                        386803 non-null  object \n",
      " 6   negative_review                             386803 non-null  object \n",
      " 7   review_total_negative_word_counts           386803 non-null  int64  \n",
      " 8   total_number_of_reviews                     386803 non-null  int64  \n",
      " 9   positive_review                             386803 non-null  object \n",
      " 10  review_total_positive_word_counts           386803 non-null  int64  \n",
      " 11  total_number_of_reviews_reviewer_has_given  386803 non-null  int64  \n",
      " 12  reviewer_score                              386803 non-null  float64\n",
      " 13  tags                                        386803 non-null  object \n",
      " 14  days_since_review                           386803 non-null  object \n",
      " 15  lat                                         384355 non-null  float64\n",
      " 16  lng                                         384355 non-null  float64\n",
      "dtypes: float64(4), int64(5), object(8)\n",
      "memory usage: 50.2+ MB\n"
     ]
    }
   ],
   "source": [
    "df1.info()"
   ]
  },
  {
   "cell_type": "markdown",
   "id": "3dcf4958-3ef8-4ff4-84c2-b6c7a6240425",
   "metadata": {},
   "source": [
    "Удаление строковых значений. Вам необходимо удалить из набора данных столбцы, данные в которых представлены не числами."
   ]
  },
  {
   "cell_type": "code",
   "execution_count": 151,
   "id": "d26552e0-1cbe-4a52-9543-08efb1864385",
   "metadata": {
    "scrolled": true
   },
   "outputs": [],
   "source": [
    "df1['review_date'] = pd.to_datetime(df1['review_date'], errors='coerce') # Преобразовать столбец с датами в формат datetime, если это ещё не сделано"
   ]
  },
  {
   "cell_type": "code",
   "execution_count": 152,
   "id": "9efefdb1-b085-4de2-9d4f-c375f0d2600a",
   "metadata": {},
   "outputs": [
    {
     "name": "stdout",
     "output_type": "stream",
     "text": [
      "2017-08-03\n",
      "2015-08-04\n"
     ]
    }
   ],
   "source": [
    "# Задание 4.3\n",
    "# Ответьте на вопросы о дате размещения отзывов.\n",
    "# Когда был оставлен самый свежий отзыв? Введите ответ в формате yyyy-mm-dd.\n",
    "# Найти максимальную дату\n",
    "max_date = df1['review_date'].max()\n",
    "# Вывести дату в нужном формате yyyy-mm-dd\n",
    "print(max_date.strftime('%Y-%m-%d'))\n",
    "# Когда был оставлен самый первый отзыв? Введите ответ в формате yyyy-mm-dd.\n",
    "min_date = df1['review_date'].min()\n",
    "print(min_date.strftime('%Y-%m-%d'))"
   ]
  },
  {
   "cell_type": "code",
   "execution_count": 154,
   "id": "6f2c735e-6439-4e37-aa2f-07fd2cb629e9",
   "metadata": {},
   "outputs": [
    {
     "name": "stdout",
     "output_type": "stream",
     "text": [
      "Тег, представленный в наибольшем числе отзывов: '[' Leisure trip '', встречается в 312768 отзывах.\n"
     ]
    }
   ],
   "source": [
    "# Задание 4.5\n",
    "# Какой тег представлен в наибольшем числе отзывов?\n",
    "# Убираем пропуски в столбце с тегами\n",
    "tags_series = df['tags'].dropna()\n",
    "# Разбиваем строки на списки тегов по запятой\n",
    "tags_lists = tags_series.str.split(',')\n",
    "# Преобразуем в DataFrame, где каждая строка — один тег\n",
    "tags_exploded = tags_lists.explode().str.strip()\n",
    "# Считаем количество вхождений каждого тега (в скольких отзывах он встречается)\n",
    "tag_counts = tags_exploded.value_counts()\n",
    "# Получаем самый частотный тег\n",
    "most_common_tag = tag_counts.idxmax()\n",
    "most_common_count = tag_counts.max()\n",
    "print(f\"Тег, представленный в наибольшем числе отзывов: '{most_common_tag}', встречается в {most_common_count} отзывах.\")"
   ]
  },
  {
   "cell_type": "code",
   "execution_count": 157,
   "id": "bbe3a05d-3ccb-45d5-9d04-f568522efecf",
   "metadata": {},
   "outputs": [
    {
     "name": "stdout",
     "output_type": "stream",
     "text": [
      "Чаще всего путешественники останавливаются на: '' Stayed 1 night '' (встречается в 88083 отзывах).\n",
      "Чаще всего путешественники останавливаются на 1 ночей.\n"
     ]
    }
   ],
   "source": [
    "# Задание 4.6\n",
    "# Из тегов выясните, на сколько ночей чаще всего останавливаются путешественники в отелях.\n",
    "\n",
    "tags_exploded = tags_lists.explode()\n",
    "# Удаляем пробелы и кавычки вне зависимости, одинарные или двойные\n",
    "tags_exploded = tags_exploded.str.strip().str.strip('\"\\'')\n",
    "# Убираем пропуски в столбце с тегами\n",
    "tags_series = df['tags'].dropna()\n",
    "# Разбиваем строки на отдельные теги\n",
    "tags_lists = tags_series.str.split(',')\n",
    "# Разворачиваем список списков в один столбец\n",
    "tags_exploded = tags_lists.explode().str.strip()\n",
    "# Фильтруем теги, которые содержат упоминание ночей (например, \"night\" или \"ночь\")\n",
    "nights_tags = tags_exploded[tags_exploded.str.contains('night|ночь', case=False, na=False)]\n",
    "# Считаем количество каждого такого тега\n",
    "nights_counts = nights_tags.value_counts()\n",
    "# Получаем самый частотный тег и количество\n",
    "most_common_nights_tag = nights_counts.idxmax()\n",
    "most_common_nights_count = nights_counts.max()\n",
    "print(f\"Чаще всего путешественники останавливаются на: '{most_common_nights_tag}' (встречается в {most_common_nights_count} отзывах).\")\n",
    "\n",
    "import pandas as pd\n",
    "import re\n",
    "# Убираем пропуски\n",
    "tags_series = df['tags'].dropna()\n",
    "# Разбиваем строки на отдельные теги\n",
    "tags_lists = tags_series.str.split(',')\n",
    "# Разворачиваем в один столбец\n",
    "tags_exploded = tags_lists.explode().str.strip().str.strip('\"\\'')\n",
    "# Фильтруем теги, содержащие слово \"night\" или \"ночь\"\n",
    "nights_tags = tags_exploded[tags_exploded.str.contains('night|ночь', case=False, na=False)]\n",
    "# Функция для извлечения числа ночей из текста\n",
    "def extract_nights(text):\n",
    "    match = re.search(r'(\\d+)', text)\n",
    "    if match:\n",
    "        return int(match.group(1))\n",
    "    return None\n",
    "# Применяем\n",
    "nights_counts = nights_tags.apply(extract_nights).dropna()\n",
    "# Считаем, какое число ночей встречается чаще всего\n",
    "most_common_nights = nights_counts.mode()\n",
    "if not most_common_nights.empty:\n",
    "    print(f\"Чаще всего путешественники останавливаются на {int(most_common_nights[0])} ночей.\")\n",
    "else:\n",
    "    print(\"Не удалось определить наиболее частое количество ночей.\")"
   ]
  },
  {
   "cell_type": "code",
   "execution_count": 155,
   "id": "a36caba0-2531-49df-a55d-fa687f05dfc5",
   "metadata": {},
   "outputs": [
    {
     "name": "stdout",
     "output_type": "stream",
     "text": [
      "Всего уникальных тегов: 2413\n"
     ]
    }
   ],
   "source": [
    "# Задание 4.4\n",
    "# Сколько уникальных тегов представлено в наборе данных?\n",
    "# Предположим, столбец с тегами называется 'tags'\n",
    "# Разобьём все теги на отдельные элементы и составим множество уникальных\n",
    "all_tags = df['tags'].dropna().str.split(',')  # Разделение по запятой, если другой разделитель — замените\n",
    "unique_tags = set(tag.strip() for sublist in all_tags for tag in sublist)\n",
    "num_unique_tags = len(unique_tags)\n",
    "print(f\"Всего уникальных тегов: {num_unique_tags}\")"
   ]
  },
  {
   "cell_type": "code",
   "execution_count": 13,
   "id": "50464d47-8dc6-4d61-bebf-bfc694ec445e",
   "metadata": {
    "scrolled": true
   },
   "outputs": [
    {
     "data": {
      "text/html": [
       "<div>\n",
       "<style scoped>\n",
       "    .dataframe tbody tr th:only-of-type {\n",
       "        vertical-align: middle;\n",
       "    }\n",
       "\n",
       "    .dataframe tbody tr th {\n",
       "        vertical-align: top;\n",
       "    }\n",
       "\n",
       "    .dataframe thead th {\n",
       "        text-align: right;\n",
       "    }\n",
       "</style>\n",
       "<table border=\"1\" class=\"dataframe\">\n",
       "  <thead>\n",
       "    <tr style=\"text-align: right;\">\n",
       "      <th></th>\n",
       "      <th>additional_number_of_scoring</th>\n",
       "      <th>review_date</th>\n",
       "      <th>average_score</th>\n",
       "      <th>review_total_negative_word_counts</th>\n",
       "      <th>total_number_of_reviews</th>\n",
       "      <th>review_total_positive_word_counts</th>\n",
       "      <th>total_number_of_reviews_reviewer_has_given</th>\n",
       "      <th>reviewer_score</th>\n",
       "      <th>lat</th>\n",
       "      <th>lng</th>\n",
       "    </tr>\n",
       "  </thead>\n",
       "  <tbody>\n",
       "    <tr>\n",
       "      <th>0</th>\n",
       "      <td>581</td>\n",
       "      <td>2016-02-19</td>\n",
       "      <td>8.4</td>\n",
       "      <td>3</td>\n",
       "      <td>1994</td>\n",
       "      <td>4</td>\n",
       "      <td>7</td>\n",
       "      <td>10.0</td>\n",
       "      <td>51.507894</td>\n",
       "      <td>-0.143671</td>\n",
       "    </tr>\n",
       "    <tr>\n",
       "      <th>1</th>\n",
       "      <td>299</td>\n",
       "      <td>2017-01-12</td>\n",
       "      <td>8.3</td>\n",
       "      <td>3</td>\n",
       "      <td>1361</td>\n",
       "      <td>2</td>\n",
       "      <td>14</td>\n",
       "      <td>6.3</td>\n",
       "      <td>51.521009</td>\n",
       "      <td>-0.123097</td>\n",
       "    </tr>\n",
       "  </tbody>\n",
       "</table>\n",
       "</div>"
      ],
      "text/plain": [
       "   additional_number_of_scoring review_date  average_score  \\\n",
       "0                           581  2016-02-19            8.4   \n",
       "1                           299  2017-01-12            8.3   \n",
       "\n",
       "   review_total_negative_word_counts  total_number_of_reviews  \\\n",
       "0                                  3                     1994   \n",
       "1                                  3                     1361   \n",
       "\n",
       "   review_total_positive_word_counts  \\\n",
       "0                                  4   \n",
       "1                                  2   \n",
       "\n",
       "   total_number_of_reviews_reviewer_has_given  reviewer_score        lat  \\\n",
       "0                                           7            10.0  51.507894   \n",
       "1                                          14             6.3  51.521009   \n",
       "\n",
       "        lng  \n",
       "0 -0.143671  \n",
       "1 -0.123097  "
      ]
     },
     "execution_count": 13,
     "metadata": {},
     "output_type": "execute_result"
    }
   ],
   "source": [
    "df1 = df1.drop(['hotel_address', 'hotel_name', 'reviewer_nationality', 'negative_review', \n",
    "               'positive_review', 'tags', 'days_since_review'], axis = 1)\n",
    "df1.head(2)"
   ]
  },
  {
   "cell_type": "code",
   "execution_count": 14,
   "id": "83ebef38-8649-4952-90c0-9fe006ad37ad",
   "metadata": {
    "scrolled": true
   },
   "outputs": [
    {
     "name": "stdout",
     "output_type": "stream",
     "text": [
      "<class 'pandas.core.frame.DataFrame'>\n",
      "RangeIndex: 386803 entries, 0 to 386802\n",
      "Data columns (total 10 columns):\n",
      " #   Column                                      Non-Null Count   Dtype         \n",
      "---  ------                                      --------------   -----         \n",
      " 0   additional_number_of_scoring                386803 non-null  int64         \n",
      " 1   review_date                                 386803 non-null  datetime64[ns]\n",
      " 2   average_score                               386803 non-null  float64       \n",
      " 3   review_total_negative_word_counts           386803 non-null  int64         \n",
      " 4   total_number_of_reviews                     386803 non-null  int64         \n",
      " 5   review_total_positive_word_counts           386803 non-null  int64         \n",
      " 6   total_number_of_reviews_reviewer_has_given  386803 non-null  int64         \n",
      " 7   reviewer_score                              386803 non-null  float64       \n",
      " 8   lat                                         384355 non-null  float64       \n",
      " 9   lng                                         384355 non-null  float64       \n",
      "dtypes: datetime64[ns](1), float64(4), int64(5)\n",
      "memory usage: 29.5 MB\n"
     ]
    }
   ],
   "source": [
    "df1.info()"
   ]
  },
  {
   "cell_type": "code",
   "execution_count": 15,
   "id": "0bbc3681-006a-4695-b0d9-11fdf51319ad",
   "metadata": {
    "colab": {
     "base_uri": "https://localhost:8080/"
    },
    "id": "As_X7I6jl7Za",
    "jp-MarkdownHeadingCollapsed": true,
    "outputId": "3d3795b3-ab7c-4cc6-ab3d-23a4796a7b5c",
    "scrolled": true
   },
   "outputs": [
    {
     "name": "stdout",
     "output_type": "stream",
     "text": [
      "Количество дубликатов: 380\n",
      "Размер таблицы после удаления дубликатов: (386423, 10)\n"
     ]
    }
   ],
   "source": [
    "# Проверим данные на наличие полных дубликатов:\n",
    "print('Количество дубликатов: {}'.format(df1[df1.duplicated()].shape[0]))\n",
    "# Удаляем дубликаты:\n",
    "df1 = df1.drop_duplicates()\n",
    "print('Размер таблицы после удаления дубликатов: {}'.format(df1.shape))"
   ]
  },
  {
   "cell_type": "code",
   "execution_count": 16,
   "id": "d604edbf-42b1-4d68-965e-5b398679e094",
   "metadata": {},
   "outputs": [
    {
     "name": "stdout",
     "output_type": "stream",
     "text": [
      "<class 'pandas.core.frame.DataFrame'>\n",
      "Index: 386423 entries, 0 to 386802\n",
      "Data columns (total 10 columns):\n",
      " #   Column                                      Non-Null Count   Dtype         \n",
      "---  ------                                      --------------   -----         \n",
      " 0   additional_number_of_scoring                386423 non-null  int64         \n",
      " 1   review_date                                 386423 non-null  datetime64[ns]\n",
      " 2   average_score                               386423 non-null  float64       \n",
      " 3   review_total_negative_word_counts           386423 non-null  int64         \n",
      " 4   total_number_of_reviews                     386423 non-null  int64         \n",
      " 5   review_total_positive_word_counts           386423 non-null  int64         \n",
      " 6   total_number_of_reviews_reviewer_has_given  386423 non-null  int64         \n",
      " 7   reviewer_score                              386423 non-null  float64       \n",
      " 8   lat                                         383976 non-null  float64       \n",
      " 9   lng                                         383976 non-null  float64       \n",
      "dtypes: datetime64[ns](1), float64(4), int64(5)\n",
      "memory usage: 32.4 MB\n"
     ]
    }
   ],
   "source": [
    "df1.info()"
   ]
  },
  {
   "cell_type": "code",
   "execution_count": 17,
   "id": "96651079-8b2e-48f9-9fa2-1dc8b8d41b6f",
   "metadata": {},
   "outputs": [
    {
     "data": {
      "text/html": [
       "<div>\n",
       "<style scoped>\n",
       "    .dataframe tbody tr th:only-of-type {\n",
       "        vertical-align: middle;\n",
       "    }\n",
       "\n",
       "    .dataframe tbody tr th {\n",
       "        vertical-align: top;\n",
       "    }\n",
       "\n",
       "    .dataframe thead th {\n",
       "        text-align: right;\n",
       "    }\n",
       "</style>\n",
       "<table border=\"1\" class=\"dataframe\">\n",
       "  <thead>\n",
       "    <tr style=\"text-align: right;\">\n",
       "      <th></th>\n",
       "      <th>additional_number_of_scoring</th>\n",
       "      <th>average_score</th>\n",
       "      <th>review_total_negative_word_counts</th>\n",
       "      <th>total_number_of_reviews</th>\n",
       "      <th>review_total_positive_word_counts</th>\n",
       "      <th>total_number_of_reviews_reviewer_has_given</th>\n",
       "      <th>reviewer_score</th>\n",
       "      <th>lat</th>\n",
       "      <th>lng</th>\n",
       "    </tr>\n",
       "  </thead>\n",
       "  <tbody>\n",
       "    <tr>\n",
       "      <th>0</th>\n",
       "      <td>581</td>\n",
       "      <td>8.4</td>\n",
       "      <td>3</td>\n",
       "      <td>1994</td>\n",
       "      <td>4</td>\n",
       "      <td>7</td>\n",
       "      <td>10.0</td>\n",
       "      <td>51.507894</td>\n",
       "      <td>-0.143671</td>\n",
       "    </tr>\n",
       "    <tr>\n",
       "      <th>1</th>\n",
       "      <td>299</td>\n",
       "      <td>8.3</td>\n",
       "      <td>3</td>\n",
       "      <td>1361</td>\n",
       "      <td>2</td>\n",
       "      <td>14</td>\n",
       "      <td>6.3</td>\n",
       "      <td>51.521009</td>\n",
       "      <td>-0.123097</td>\n",
       "    </tr>\n",
       "  </tbody>\n",
       "</table>\n",
       "</div>"
      ],
      "text/plain": [
       "   additional_number_of_scoring  average_score  \\\n",
       "0                           581            8.4   \n",
       "1                           299            8.3   \n",
       "\n",
       "   review_total_negative_word_counts  total_number_of_reviews  \\\n",
       "0                                  3                     1994   \n",
       "1                                  3                     1361   \n",
       "\n",
       "   review_total_positive_word_counts  \\\n",
       "0                                  4   \n",
       "1                                  2   \n",
       "\n",
       "   total_number_of_reviews_reviewer_has_given  reviewer_score        lat  \\\n",
       "0                                           7            10.0  51.507894   \n",
       "1                                          14             6.3  51.521009   \n",
       "\n",
       "        lng  \n",
       "0 -0.143671  \n",
       "1 -0.123097  "
      ]
     },
     "execution_count": 17,
     "metadata": {},
     "output_type": "execute_result"
    }
   ],
   "source": [
    "df2 = df1.drop(['review_date'], axis = 1)\n",
    "df2.head(2)"
   ]
  },
  {
   "cell_type": "code",
   "execution_count": 18,
   "id": "3929d92f-4a5b-49f0-9e93-e7ff3542062b",
   "metadata": {},
   "outputs": [
    {
     "name": "stdout",
     "output_type": "stream",
     "text": [
      "<class 'pandas.core.frame.DataFrame'>\n",
      "Index: 386423 entries, 0 to 386802\n",
      "Data columns (total 9 columns):\n",
      " #   Column                                      Non-Null Count   Dtype  \n",
      "---  ------                                      --------------   -----  \n",
      " 0   additional_number_of_scoring                386423 non-null  int64  \n",
      " 1   average_score                               386423 non-null  float64\n",
      " 2   review_total_negative_word_counts           386423 non-null  int64  \n",
      " 3   total_number_of_reviews                     386423 non-null  int64  \n",
      " 4   review_total_positive_word_counts           386423 non-null  int64  \n",
      " 5   total_number_of_reviews_reviewer_has_given  386423 non-null  int64  \n",
      " 6   reviewer_score                              386423 non-null  float64\n",
      " 7   lat                                         383976 non-null  float64\n",
      " 8   lng                                         383976 non-null  float64\n",
      "dtypes: float64(4), int64(5)\n",
      "memory usage: 29.5 MB\n"
     ]
    }
   ],
   "source": [
    "df2.info()"
   ]
  },
  {
   "cell_type": "code",
   "execution_count": 19,
   "id": "9b01e5d6-a5b6-42fe-adb2-e9bb85469201",
   "metadata": {
    "colab": {
     "base_uri": "https://localhost:8080/"
    },
    "id": "As_X7I6jl7Za",
    "jp-MarkdownHeadingCollapsed": true,
    "outputId": "3d3795b3-ab7c-4cc6-ab3d-23a4796a7b5c",
    "scrolled": true
   },
   "outputs": [
    {
     "name": "stdout",
     "output_type": "stream",
     "text": [
      "Количество дубликатов: 8710\n",
      "Размер таблицы после удаления дубликатов: (386423, 10)\n"
     ]
    }
   ],
   "source": [
    "# Проверим данные на наличие полных дубликатов:\n",
    "print('Количество дубликатов: {}'.format(df2[df2.duplicated()].shape[0]))\n",
    "# Удаляем дубликаты:\n",
    "df2 = df2.drop_duplicates()\n",
    "print('Размер таблицы после удаления дубликатов: {}'.format(df1.shape))"
   ]
  },
  {
   "cell_type": "code",
   "execution_count": 20,
   "id": "ae5070c6-7fa0-42b9-b5ba-774877fd1021",
   "metadata": {},
   "outputs": [],
   "source": [
    "    # Разбиваем датафрейм на части, необходимые для обучения и тестирования модели  \n",
    "    # Х — данные с информацией об отелях, у — целевая переменная (рейтинги отелей)  \n",
    "    X = df2.drop(['reviewer_score'], axis = 1)  \n",
    "    y = df2['reviewer_score']  \n",
    "    y=y.astype('int') # означает, что объект y (например, столбец pandas.Series, содержащий данные) преобразуется к типу данных целое число (integer).  \n",
    "    # Загружаем специальный инструмент для разбивки:  \n",
    "    from sklearn.model_selection import train_test_split  \n",
    "      \n",
    "    # Наборы данных с меткой \"train\" будут использоваться для обучения модели, \"test\" — для тестирования.  \n",
    "    # Для тестирования мы будем использовать 25 % от исходного датасета.  \n",
    "    X_train, X_test, y_train, y_test = train_test_split(X, y, test_size=0.25, random_state=42)"
   ]
  },
  {
   "cell_type": "code",
   "execution_count": 21,
   "id": "862c30a5-b45a-445c-80d0-68ebc7c297a3",
   "metadata": {},
   "outputs": [],
   "source": [
    "mask = X['lng'] >= 0\n",
    "X = X.loc[mask]\n",
    "y = y.loc[mask]"
   ]
  },
  {
   "cell_type": "code",
   "execution_count": 22,
   "id": "31bed310-8b65-4a16-a45d-db5b4a7771b1",
   "metadata": {},
   "outputs": [],
   "source": [
    "X = X.loc[mask]; y = y.loc[mask]"
   ]
  },
  {
   "cell_type": "code",
   "execution_count": 23,
   "id": "67294e70-acf3-4a6f-a197-e831d73d348a",
   "metadata": {},
   "outputs": [
    {
     "data": {
      "text/html": [
       "<div>\n",
       "<style scoped>\n",
       "    .dataframe tbody tr th:only-of-type {\n",
       "        vertical-align: middle;\n",
       "    }\n",
       "\n",
       "    .dataframe tbody tr th {\n",
       "        vertical-align: top;\n",
       "    }\n",
       "\n",
       "    .dataframe thead th {\n",
       "        text-align: right;\n",
       "    }\n",
       "</style>\n",
       "<table border=\"1\" class=\"dataframe\">\n",
       "  <thead>\n",
       "    <tr style=\"text-align: right;\">\n",
       "      <th></th>\n",
       "      <th>additional_number_of_scoring</th>\n",
       "      <th>average_score</th>\n",
       "      <th>review_total_negative_word_counts</th>\n",
       "      <th>total_number_of_reviews</th>\n",
       "      <th>review_total_positive_word_counts</th>\n",
       "      <th>total_number_of_reviews_reviewer_has_given</th>\n",
       "      <th>lat</th>\n",
       "      <th>lng</th>\n",
       "    </tr>\n",
       "  </thead>\n",
       "  <tbody>\n",
       "    <tr>\n",
       "      <th>2</th>\n",
       "      <td>32</td>\n",
       "      <td>8.9</td>\n",
       "      <td>6</td>\n",
       "      <td>406</td>\n",
       "      <td>0</td>\n",
       "      <td>14</td>\n",
       "      <td>48.845377</td>\n",
       "      <td>2.325643</td>\n",
       "    </tr>\n",
       "    <tr>\n",
       "      <th>3</th>\n",
       "      <td>34</td>\n",
       "      <td>7.5</td>\n",
       "      <td>0</td>\n",
       "      <td>607</td>\n",
       "      <td>11</td>\n",
       "      <td>8</td>\n",
       "      <td>48.888697</td>\n",
       "      <td>2.394540</td>\n",
       "    </tr>\n",
       "  </tbody>\n",
       "</table>\n",
       "</div>"
      ],
      "text/plain": [
       "   additional_number_of_scoring  average_score  \\\n",
       "2                            32            8.9   \n",
       "3                            34            7.5   \n",
       "\n",
       "   review_total_negative_word_counts  total_number_of_reviews  \\\n",
       "2                                  6                      406   \n",
       "3                                  0                      607   \n",
       "\n",
       "   review_total_positive_word_counts  \\\n",
       "2                                  0   \n",
       "3                                 11   \n",
       "\n",
       "   total_number_of_reviews_reviewer_has_given        lat       lng  \n",
       "2                                          14  48.845377  2.325643  \n",
       "3                                           8  48.888697  2.394540  "
      ]
     },
     "execution_count": 23,
     "metadata": {},
     "output_type": "execute_result"
    }
   ],
   "source": [
    "X.head(2)"
   ]
  },
  {
   "cell_type": "code",
   "execution_count": 24,
   "id": "910f406a-1379-4b9e-b214-cb6232b64f42",
   "metadata": {},
   "outputs": [
    {
     "data": {
      "text/plain": [
       "additional_number_of_scoring                  0\n",
       "average_score                                 0\n",
       "review_total_negative_word_counts             0\n",
       "total_number_of_reviews                       0\n",
       "review_total_positive_word_counts             0\n",
       "total_number_of_reviews_reviewer_has_given    0\n",
       "lat                                           0\n",
       "lng                                           0\n",
       "dtype: int64"
      ]
     },
     "execution_count": 24,
     "metadata": {},
     "output_type": "execute_result"
    }
   ],
   "source": [
    "(X < 0).sum()"
   ]
  },
  {
   "cell_type": "code",
   "execution_count": 25,
   "id": "2ed76445-c552-4ef6-9f72-f7eb103faf98",
   "metadata": {},
   "outputs": [
    {
     "name": "stdout",
     "output_type": "stream",
     "text": [
      "<class 'pandas.core.frame.DataFrame'>\n",
      "Index: 189178 entries, 2 to 386799\n",
      "Data columns (total 8 columns):\n",
      " #   Column                                      Non-Null Count   Dtype  \n",
      "---  ------                                      --------------   -----  \n",
      " 0   additional_number_of_scoring                189178 non-null  int64  \n",
      " 1   average_score                               189178 non-null  float64\n",
      " 2   review_total_negative_word_counts           189178 non-null  int64  \n",
      " 3   total_number_of_reviews                     189178 non-null  int64  \n",
      " 4   review_total_positive_word_counts           189178 non-null  int64  \n",
      " 5   total_number_of_reviews_reviewer_has_given  189178 non-null  int64  \n",
      " 6   lat                                         189178 non-null  float64\n",
      " 7   lng                                         189178 non-null  float64\n",
      "dtypes: float64(3), int64(5)\n",
      "memory usage: 13.0 MB\n"
     ]
    }
   ],
   "source": [
    "X.info()"
   ]
  },
  {
   "cell_type": "code",
   "execution_count": 26,
   "id": "52ecaefe-3163-4508-9d6d-fa5af24ba33d",
   "metadata": {},
   "outputs": [
    {
     "data": {
      "text/plain": [
       "2     7\n",
       "3    10\n",
       "Name: reviewer_score, dtype: int32"
      ]
     },
     "execution_count": 26,
     "metadata": {},
     "output_type": "execute_result"
    }
   ],
   "source": [
    "y.head(2)"
   ]
  },
  {
   "cell_type": "code",
   "execution_count": 27,
   "id": "b4114870-981c-4f6a-9bb9-d4870942cd52",
   "metadata": {},
   "outputs": [
    {
     "name": "stdout",
     "output_type": "stream",
     "text": [
      "<class 'pandas.core.series.Series'>\n",
      "Index: 189178 entries, 2 to 386799\n",
      "Series name: reviewer_score\n",
      "Non-Null Count   Dtype\n",
      "--------------   -----\n",
      "189178 non-null  int32\n",
      "dtypes: int32(1)\n",
      "memory usage: 2.2 MB\n"
     ]
    }
   ],
   "source": [
    "y.info()"
   ]
  },
  {
   "cell_type": "code",
   "execution_count": 28,
   "id": "334842fd-2217-4ba3-bb9f-0fea619e972b",
   "metadata": {},
   "outputs": [],
   "source": [
    "cat_cols = ['average_score', 'lat', 'lng']\n",
    "X_filled = X[cat_cols].fillna(0)\n",
    "X_filled = X_filled[X_filled['lng'] >= 0] # Если нужно удалить строки с отрицательными lng (только по этому столбцу):\n",
    "# X_filled = X[['average_score', 'lat', 'lng']].fillna(0)"
   ]
  },
  {
   "cell_type": "code",
   "execution_count": 29,
   "id": "75c98128-0191-414f-b027-b85c866c226d",
   "metadata": {
    "scrolled": true
   },
   "outputs": [
    {
     "name": "stdout",
     "output_type": "stream",
     "text": [
      "average_score    0\n",
      "lat              0\n",
      "lng              0\n",
      "dtype: int64\n"
     ]
    }
   ],
   "source": [
    "# Оставить только строки, где все значения >= 0 в указанных столбцах\n",
    "cols = ['average_score', 'lat', 'lng']\n",
    "X_filled = X_filled[(X_filled[cols] >= 0).all(axis=1)]\n",
    "# Если нужно удалить строки с отрицательными lng (только по этому столбцу):\n",
    "# python\n",
    "# X_filled = X_filled[X_filled['lng'] >= 0]\n",
    "# После удаления\n",
    "# Проверить, что больше нет отрицательных:\n",
    "# python\n",
    "print((X_filled[cols] < 0).sum())\n",
    "# Вы увидите нули — значит отрицательных больше нет."
   ]
  },
  {
   "cell_type": "code",
   "execution_count": 30,
   "id": "f66e1d3e-4e4f-4b95-9381-427f82747eab",
   "metadata": {
    "scrolled": true
   },
   "outputs": [
    {
     "name": "stdout",
     "output_type": "stream",
     "text": [
      "   average_score        lat        lng\n",
      "2            8.9  48.845377   2.325643\n",
      "3            7.5  48.888697   2.394540\n",
      "4            8.5  52.385601   4.847060\n",
      "5            8.0  45.448188   9.257046\n",
      "7            8.3  48.208563  16.354169\n"
     ]
    }
   ],
   "source": [
    "print(X[cat_cols].head())"
   ]
  },
  {
   "cell_type": "code",
   "execution_count": 31,
   "id": "aa153ed2-f685-4a85-a464-08e85ab62f3b",
   "metadata": {},
   "outputs": [
    {
     "name": "stdout",
     "output_type": "stream",
     "text": [
      "average_score    0\n",
      "lat              0\n",
      "lng              0\n",
      "dtype: int64\n"
     ]
    }
   ],
   "source": [
    "# 1. Проверить наличие NaN\n",
    "print(X_filled[cat_cols].isnull().sum())\n",
    "# print(pd.isnull(y).sum())"
   ]
  },
  {
   "cell_type": "code",
   "execution_count": 32,
   "id": "8886e984-a32b-4fab-80c3-fe11d2c3df47",
   "metadata": {},
   "outputs": [
    {
     "name": "stdout",
     "output_type": "stream",
     "text": [
      "<class 'pandas.core.series.Series'>\n",
      "Index: 189178 entries, 2 to 386799\n",
      "Series name: reviewer_score\n",
      "Non-Null Count   Dtype\n",
      "--------------   -----\n",
      "189178 non-null  int32\n",
      "dtypes: int32(1)\n",
      "memory usage: 2.2 MB\n"
     ]
    }
   ],
   "source": [
    "y.info()"
   ]
  },
  {
   "cell_type": "code",
   "execution_count": 33,
   "id": "d395c430-8e0f-46d9-a6f8-87d5e04aad21",
   "metadata": {
    "scrolled": true
   },
   "outputs": [
    {
     "name": "stdout",
     "output_type": "stream",
     "text": [
      "<class 'pandas.core.frame.DataFrame'>\n",
      "Index: 189178 entries, 2 to 386799\n",
      "Data columns (total 3 columns):\n",
      " #   Column         Non-Null Count   Dtype  \n",
      "---  ------         --------------   -----  \n",
      " 0   average_score  189178 non-null  float64\n",
      " 1   lat            189178 non-null  float64\n",
      " 2   lng            189178 non-null  float64\n",
      "dtypes: float64(3)\n",
      "memory usage: 5.8 MB\n"
     ]
    }
   ],
   "source": [
    "X_filled.info()"
   ]
  },
  {
   "cell_type": "code",
   "execution_count": 34,
   "id": "7ddb9b17-dd1c-40a2-a792-ff835c035da4",
   "metadata": {},
   "outputs": [],
   "source": [
    "y = y.loc[X_filled.index]"
   ]
  },
  {
   "cell_type": "code",
   "execution_count": 35,
   "id": "370b200b-47ce-4cf6-95f6-454a4c818483",
   "metadata": {},
   "outputs": [
    {
     "name": "stdout",
     "output_type": "stream",
     "text": [
      "<class 'pandas.core.series.Series'>\n",
      "Index: 189178 entries, 2 to 386799\n",
      "Series name: reviewer_score\n",
      "Non-Null Count   Dtype\n",
      "--------------   -----\n",
      "189178 non-null  int32\n",
      "dtypes: int32(1)\n",
      "memory usage: 2.2 MB\n"
     ]
    }
   ],
   "source": [
    "y.info()"
   ]
  },
  {
   "cell_type": "code",
   "execution_count": 36,
   "id": "7d735246-6789-41eb-b1bf-0900365af2c7",
   "metadata": {
    "scrolled": true
   },
   "outputs": [],
   "source": [
    "from sklearn.feature_selection import chi2\n",
    "import pandas as pd\n",
    "import matplotlib.pyplot as plt\n",
    "\n",
    "# y — целевая переменная, например Series с типом int\n",
    "# X — DataFrame с категориальными признаками\n",
    "# cat_cols — список категориальных столбцов в X\n",
    "\n",
    "imp_cat = pd.Series(chi2(X_filled[cat_cols], y)[0], index=cat_cols)\n",
    "# imp_cat.sort_values(inplace=True)\n",
    "# imp_cat.plot(kind='barh')\n",
    "# plt.show()\n"
   ]
  },
  {
   "cell_type": "markdown",
   "id": "a85168eb-e725-43f5-988e-4e545715170c",
   "metadata": {
    "scrolled": true
   },
   "source": [
    "from sklearn.feature_selection import chi2\n",
    "import pandas as pd\n",
    "import matplotlib.pyplot as plt\n",
    "\n",
    "# y — целевая переменная, например Series с типом int\n",
    "# X — DataFrame с категориальными признаками\n",
    "# cat_cols — список категориальных столбцов в X\n",
    "\n",
    "imp_cat = pd.Series(chi2(X[cat_cols], y)[0], index=cat_cols)\n",
    "# imp_cat.sort_values(inplace=True)\n",
    "# imp_cat.plot(kind='barh')\n",
    "# plt.show()\n"
   ]
  },
  {
   "cell_type": "markdown",
   "id": "e29b1927-8bfc-4f68-8fe5-106b5fd8a589",
   "metadata": {},
   "source": [
    "import numpy as np\n",
    "\n",
    "# y_true – реальные значения\n",
    "# y_pred – предсказанные значения модели\n",
    "\n",
    "mape = np.mean(np.abs((y_true - y_pred) / y_true)) * 100\n",
    "print(f\"MAPE: {mape:.2f}%\")\n"
   ]
  },
  {
   "cell_type": "code",
   "execution_count": 37,
   "id": "36403e83-7cf0-4358-9a5c-5ee6f5b06c28",
   "metadata": {
    "scrolled": true
   },
   "outputs": [
    {
     "name": "stdout",
     "output_type": "stream",
     "text": [
      "MAPE на тестовой выборке: 16.95%\n"
     ]
    }
   ],
   "source": [
    "import numpy as np\n",
    "from sklearn.ensemble import RandomForestRegressor  # пример модели\n",
    "from sklearn.metrics import mean_absolute_percentage_error\n",
    "# Обучение модели (пример)\n",
    "model = RandomForestRegressor(random_state=42)\n",
    "model.fit(X_train, y_train)\n",
    "# Предсказания на тесте\n",
    "y_pred = model.predict(X_test)\n",
    "# Расчёт MAPE\n",
    "mape_value = mean_absolute_percentage_error(y_test, y_pred) * 100  # умножаем на 100 для %\n",
    "print(f\"MAPE на тестовой выборке: {mape_value:.2f}%\")"
   ]
  },
  {
   "cell_type": "code",
   "execution_count": 38,
   "id": "4b43780d-a6c4-4e26-9715-bbc28bba74f6",
   "metadata": {
    "scrolled": true
   },
   "outputs": [
    {
     "name": "stdout",
     "output_type": "stream",
     "text": [
      "<class 'pandas.core.frame.DataFrame'>\n",
      "RangeIndex: 386803 entries, 0 to 386802\n",
      "Data columns (total 17 columns):\n",
      " #   Column                                      Non-Null Count   Dtype         \n",
      "---  ------                                      --------------   -----         \n",
      " 0   hotel_address                               386803 non-null  object        \n",
      " 1   additional_number_of_scoring                386803 non-null  int64         \n",
      " 2   review_date                                 386803 non-null  datetime64[ns]\n",
      " 3   average_score                               386803 non-null  float64       \n",
      " 4   hotel_name                                  386803 non-null  object        \n",
      " 5   reviewer_nationality                        386803 non-null  object        \n",
      " 6   negative_review                             386803 non-null  object        \n",
      " 7   review_total_negative_word_counts           386803 non-null  int64         \n",
      " 8   total_number_of_reviews                     386803 non-null  int64         \n",
      " 9   positive_review                             386803 non-null  object        \n",
      " 10  review_total_positive_word_counts           386803 non-null  int64         \n",
      " 11  total_number_of_reviews_reviewer_has_given  386803 non-null  int64         \n",
      " 12  reviewer_score                              386803 non-null  float64       \n",
      " 13  tags                                        386803 non-null  object        \n",
      " 14  days_since_review                           386803 non-null  object        \n",
      " 15  lat                                         384355 non-null  float64       \n",
      " 16  lng                                         384355 non-null  float64       \n",
      "dtypes: datetime64[ns](1), float64(4), int64(5), object(7)\n",
      "memory usage: 50.2+ MB\n"
     ]
    }
   ],
   "source": [
    "df.info()"
   ]
  },
  {
   "cell_type": "code",
   "execution_count": 120,
   "id": "e6bd07ee-5e53-46a7-af15-9be6af438a16",
   "metadata": {},
   "outputs": [
    {
     "name": "stdout",
     "output_type": "stream",
     "text": [
      "0    [' Leisure trip ', ' Couple ', ' Studio Suite ...\n",
      "1    [' Business trip ', ' Couple ', ' Standard Dou...\n",
      "2    [' Leisure trip ', ' Solo traveler ', ' Modern...\n",
      "3    [' Leisure trip ', ' Solo traveler ', ' Standa...\n",
      "4    [' Business trip ', ' Couple ', ' Standard Dou...\n",
      "5    [' Business trip ', ' Solo traveler ', ' Super...\n",
      "6    [' Leisure trip ', ' Couple ', ' Double Room N...\n",
      "7    [' Leisure trip ', ' Couple ', ' Superior Doub...\n",
      "8    [' Leisure trip ', ' Couple ', ' Double Room '...\n",
      "9    [' Leisure trip ', ' Couple ', ' Twin Hilton G...\n",
      "Name: tags, dtype: object\n"
     ]
    }
   ],
   "source": [
    "# 1 Посмотреть первые несколько значений столбца:\n",
    "print(df['tags'].head(10))\n",
    "# Это покажет, как выглядят теги — есть ли там списки, строки с разделителями, кавычки и т.д."
   ]
  },
  {
   "cell_type": "code",
   "execution_count": 121,
   "id": "eaec2a24-974f-49e2-a84a-f22094554389",
   "metadata": {},
   "outputs": [
    {
     "name": "stdout",
     "output_type": "stream",
     "text": [
      "object\n"
     ]
    }
   ],
   "source": [
    "# 2 Узнать тип данных столбца:\n",
    "print(df['tags'].dtype)"
   ]
  },
  {
   "cell_type": "code",
   "execution_count": 122,
   "id": "4d22d9e0-2180-466e-9744-5ee95083d999",
   "metadata": {},
   "outputs": [
    {
     "name": "stdout",
     "output_type": "stream",
     "text": [
      "[\"[' Leisure trip ', ' Couple ', ' Studio Suite ', ' Stayed 2 nights ', ' Submitted from a mobile device ']\"\n",
      " \"[' Business trip ', ' Couple ', ' Standard Double Room ', ' Stayed 1 night ']\"\n",
      " \"[' Leisure trip ', ' Solo traveler ', ' Modern Double Room Echo ', ' Stayed 3 nights ', ' Submitted from a mobile device ']\"\n",
      " \"[' Leisure trip ', ' Solo traveler ', ' Standard Room with 1 Double Bed ', ' Stayed 1 night ']\"\n",
      " \"[' Business trip ', ' Couple ', ' Standard Double or Twin Room ', ' Stayed 6 nights ']\"\n",
      " \"[' Business trip ', ' Solo traveler ', ' Superior Twin Room ', ' Stayed 1 night ', ' Submitted from a mobile device ']\"\n",
      " \"[' Leisure trip ', ' Couple ', ' Double Room Non Smoking ', ' Stayed 1 night ', ' Submitted from a mobile device ']\"\n",
      " \"[' Leisure trip ', ' Couple ', ' Superior Double Room ', ' Stayed 4 nights ']\"\n",
      " \"[' Leisure trip ', ' Couple ', ' Double Room ', ' Stayed 1 night ']\"\n",
      " \"[' Leisure trip ', ' Couple ', ' Twin Hilton Guest Room ', ' Stayed 1 night ', ' Submitted from a mobile device ']\"]\n",
      "tags\n",
      "[' Leisure trip ', ' Couple ', ' Double Room ', ' Stayed 1 night ', ' Submitted from a mobile device ']              3853\n",
      "[' Leisure trip ', ' Couple ', ' Standard Double Room ', ' Stayed 1 night ', ' Submitted from a mobile device ']     3673\n",
      "[' Leisure trip ', ' Couple ', ' Superior Double Room ', ' Stayed 1 night ', ' Submitted from a mobile device ']     3274\n",
      "[' Leisure trip ', ' Couple ', ' Deluxe Double Room ', ' Stayed 1 night ', ' Submitted from a mobile device ']       2964\n",
      "[' Leisure trip ', ' Couple ', ' Double Room ', ' Stayed 2 nights ', ' Submitted from a mobile device ']             2454\n",
      "[' Leisure trip ', ' Couple ', ' Superior Double Room ', ' Stayed 2 nights ', ' Submitted from a mobile device ']    2330\n",
      "[' Leisure trip ', ' Couple ', ' Double Room ', ' Stayed 1 night ']                                                  2181\n",
      "[' Leisure trip ', ' Couple ', ' Standard Double Room ', ' Stayed 2 nights ', ' Submitted from a mobile device ']    2163\n",
      "[' Leisure trip ', ' Couple ', ' Standard Double Room ', ' Stayed 1 night ']                                         1965\n",
      "[' Leisure trip ', ' Couple ', ' Deluxe Double Room ', ' Stayed 2 nights ', ' Submitted from a mobile device ']      1771\n",
      "Name: count, dtype: int64\n"
     ]
    }
   ],
   "source": [
    "# 3 Посмотреть распределение или примеры уникальных значений:\n",
    "print(df['tags'].dropna().unique()[:10])\n",
    "# или\n",
    "print(df['tags'].value_counts().head(10))"
   ]
  },
  {
   "cell_type": "code",
   "execution_count": 123,
   "id": "eb39e531-33c1-4bdc-b82c-8b40e7068cbb",
   "metadata": {},
   "outputs": [
    {
     "name": "stdout",
     "output_type": "stream",
     "text": [
      "0\n",
      "Empty DataFrame\n",
      "Columns: [hotel_address, additional_number_of_scoring, review_date, average_score, hotel_name, reviewer_nationality, negative_review, review_total_negative_word_counts, total_number_of_reviews, positive_review, review_total_positive_word_counts, total_number_of_reviews_reviewer_has_given, reviewer_score, tags, days_since_review, lat, lng]\n",
      "Index: []\n"
     ]
    }
   ],
   "source": [
    "# 4 Проверить, есть ли пустые или необычные значения:\n",
    "print(df['tags'].isna().sum())    # количество пропусков\n",
    "print(df.loc[df['tags'].isna()])  # строки с пропусками в tags\n",
    "# означает, что в вашем DataFrame сейчас нет ни одной строки данных (пустой DataFrame)."
   ]
  },
  {
   "cell_type": "code",
   "execution_count": 124,
   "id": "695ad1b2-acdc-428d-9133-0af40bb1bb88",
   "metadata": {},
   "outputs": [
    {
     "name": "stdout",
     "output_type": "stream",
     "text": [
      "[' Leisure trip ', ' Couple ', ' Studio Suite ', ' Stayed 2 nights ', ' Submitted from a mobile device ']\n"
     ]
    }
   ],
   "source": [
    "# 5 Если значения в виде строк со списками или скобками, можно вывести срез по конкретной строке для подробного анализа:\n",
    "print(df.loc[0, 'tags'])"
   ]
  },
  {
   "cell_type": "code",
   "execution_count": 125,
   "id": "b3224907-c06c-450f-a015-4290daeea84c",
   "metadata": {
    "scrolled": true
   },
   "outputs": [
    {
     "name": "stdout",
     "output_type": "stream",
     "text": [
      "(386803, 17)\n",
      "                                       hotel_address  \\\n",
      "0  Stratton Street Mayfair Westminster Borough Lo...   \n",
      "1  130 134 Southampton Row Camden London WC1B 5AF...   \n",
      "2   151 bis Rue de Rennes 6th arr 75006 Paris France   \n",
      "3  216 Avenue Jean Jaures 19th arr 75019 Paris Fr...   \n",
      "4          Molenwerf 1 1014 AG Amsterdam Netherlands   \n",
      "\n",
      "   additional_number_of_scoring review_date  average_score  \\\n",
      "0                           581   2/19/2016            8.4   \n",
      "1                           299   1/12/2017            8.3   \n",
      "2                            32  10/18/2016            8.9   \n",
      "3                            34   9/22/2015            7.5   \n",
      "4                           914    3/5/2016            8.5   \n",
      "\n",
      "                                  hotel_name reviewer_nationality  \\\n",
      "0                         The May Fair Hotel      United Kingdom    \n",
      "1            Mercure London Bloomsbury Hotel      United Kingdom    \n",
      "2          Legend Saint Germain by Elegancia               China    \n",
      "3  Mercure Paris 19 Philharmonie La Villette      United Kingdom    \n",
      "4                Golden Tulip Amsterdam West              Poland    \n",
      "\n",
      "       negative_review  review_total_negative_word_counts  \\\n",
      "0             Leaving                                   3   \n",
      "1       poor breakfast                                  3   \n",
      "2   No kettle in room                                   6   \n",
      "3          No Negative                                  0   \n",
      "4         Torn sheets                                   4   \n",
      "\n",
      "   total_number_of_reviews                                    positive_review  \\\n",
      "0                     1994                                 Staff were amazing   \n",
      "1                     1361                                           location   \n",
      "2                      406                                        No Positive   \n",
      "3                      607   Friendly staff quiet comfortable room spotles...   \n",
      "4                     7586   The staff was very friendly and helpful Break...   \n",
      "\n",
      "   review_total_positive_word_counts  \\\n",
      "0                                  4   \n",
      "1                                  2   \n",
      "2                                  0   \n",
      "3                                 11   \n",
      "4                                 20   \n",
      "\n",
      "   total_number_of_reviews_reviewer_has_given  reviewer_score  \\\n",
      "0                                           7            10.0   \n",
      "1                                          14             6.3   \n",
      "2                                          14             7.5   \n",
      "3                                           8            10.0   \n",
      "4                                          10             9.6   \n",
      "\n",
      "                                                tags days_since_review  \\\n",
      "0  [' Leisure trip ', ' Couple ', ' Studio Suite ...           531 day   \n",
      "1  [' Business trip ', ' Couple ', ' Standard Dou...           203 day   \n",
      "2  [' Leisure trip ', ' Solo traveler ', ' Modern...           289 day   \n",
      "3  [' Leisure trip ', ' Solo traveler ', ' Standa...           681 day   \n",
      "4  [' Business trip ', ' Couple ', ' Standard Dou...           516 day   \n",
      "\n",
      "         lat       lng  \n",
      "0  51.507894 -0.143671  \n",
      "1  51.521009 -0.123097  \n",
      "2  48.845377  2.325643  \n",
      "3  48.888697  2.394540  \n",
      "4  52.385601  4.847060  \n"
     ]
    }
   ],
   "source": [
    "# Из-за этого, естественно, при попытке вывести примеры из столбца tags или других ничего не покажется.\n",
    "# Что проверить дальше\n",
    "#  Убедитесь, что данные действительно загружены в DataFrame df и он не пустой:\n",
    "print(df.shape)  # Покажет количество строк и столбцов\n",
    "print(df.head())  # Покажет первые несколько строк с данными"
   ]
  },
  {
   "cell_type": "code",
   "execution_count": 126,
   "id": "4d30f175-ba08-42f5-9da9-b47b5830cbcd",
   "metadata": {},
   "outputs": [
    {
     "data": {
      "text/html": [
       "<div>\n",
       "<style scoped>\n",
       "    .dataframe tbody tr th:only-of-type {\n",
       "        vertical-align: middle;\n",
       "    }\n",
       "\n",
       "    .dataframe tbody tr th {\n",
       "        vertical-align: top;\n",
       "    }\n",
       "\n",
       "    .dataframe thead th {\n",
       "        text-align: right;\n",
       "    }\n",
       "</style>\n",
       "<table border=\"1\" class=\"dataframe\">\n",
       "  <thead>\n",
       "    <tr style=\"text-align: right;\">\n",
       "      <th></th>\n",
       "      <th>hotel_address</th>\n",
       "      <th>additional_number_of_scoring</th>\n",
       "      <th>review_date</th>\n",
       "      <th>average_score</th>\n",
       "      <th>hotel_name</th>\n",
       "      <th>reviewer_nationality</th>\n",
       "      <th>negative_review</th>\n",
       "      <th>review_total_negative_word_counts</th>\n",
       "      <th>total_number_of_reviews</th>\n",
       "      <th>positive_review</th>\n",
       "      <th>review_total_positive_word_counts</th>\n",
       "      <th>total_number_of_reviews_reviewer_has_given</th>\n",
       "      <th>reviewer_score</th>\n",
       "      <th>tags</th>\n",
       "      <th>days_since_review</th>\n",
       "      <th>lat</th>\n",
       "      <th>lng</th>\n",
       "    </tr>\n",
       "  </thead>\n",
       "  <tbody>\n",
       "    <tr>\n",
       "      <th>0</th>\n",
       "      <td>Stratton Street Mayfair Westminster Borough Lo...</td>\n",
       "      <td>581</td>\n",
       "      <td>2/19/2016</td>\n",
       "      <td>8.4</td>\n",
       "      <td>The May Fair Hotel</td>\n",
       "      <td>United Kingdom</td>\n",
       "      <td>Leaving</td>\n",
       "      <td>3</td>\n",
       "      <td>1994</td>\n",
       "      <td>Staff were amazing</td>\n",
       "      <td>4</td>\n",
       "      <td>7</td>\n",
       "      <td>10.0</td>\n",
       "      <td>[' Leisure trip ', ' Couple ', ' Studio Suite ...</td>\n",
       "      <td>531 day</td>\n",
       "      <td>51.507894</td>\n",
       "      <td>-0.143671</td>\n",
       "    </tr>\n",
       "    <tr>\n",
       "      <th>1</th>\n",
       "      <td>130 134 Southampton Row Camden London WC1B 5AF...</td>\n",
       "      <td>299</td>\n",
       "      <td>1/12/2017</td>\n",
       "      <td>8.3</td>\n",
       "      <td>Mercure London Bloomsbury Hotel</td>\n",
       "      <td>United Kingdom</td>\n",
       "      <td>poor breakfast</td>\n",
       "      <td>3</td>\n",
       "      <td>1361</td>\n",
       "      <td>location</td>\n",
       "      <td>2</td>\n",
       "      <td>14</td>\n",
       "      <td>6.3</td>\n",
       "      <td>[' Business trip ', ' Couple ', ' Standard Dou...</td>\n",
       "      <td>203 day</td>\n",
       "      <td>51.521009</td>\n",
       "      <td>-0.123097</td>\n",
       "    </tr>\n",
       "  </tbody>\n",
       "</table>\n",
       "</div>"
      ],
      "text/plain": [
       "                                       hotel_address  \\\n",
       "0  Stratton Street Mayfair Westminster Borough Lo...   \n",
       "1  130 134 Southampton Row Camden London WC1B 5AF...   \n",
       "\n",
       "   additional_number_of_scoring review_date  average_score  \\\n",
       "0                           581   2/19/2016            8.4   \n",
       "1                           299   1/12/2017            8.3   \n",
       "\n",
       "                        hotel_name reviewer_nationality  negative_review  \\\n",
       "0               The May Fair Hotel      United Kingdom          Leaving    \n",
       "1  Mercure London Bloomsbury Hotel      United Kingdom    poor breakfast   \n",
       "\n",
       "   review_total_negative_word_counts  total_number_of_reviews  \\\n",
       "0                                  3                     1994   \n",
       "1                                  3                     1361   \n",
       "\n",
       "       positive_review  review_total_positive_word_counts  \\\n",
       "0   Staff were amazing                                  4   \n",
       "1             location                                  2   \n",
       "\n",
       "   total_number_of_reviews_reviewer_has_given  reviewer_score  \\\n",
       "0                                           7            10.0   \n",
       "1                                          14             6.3   \n",
       "\n",
       "                                                tags days_since_review  \\\n",
       "0  [' Leisure trip ', ' Couple ', ' Studio Suite ...           531 day   \n",
       "1  [' Business trip ', ' Couple ', ' Standard Dou...           203 day   \n",
       "\n",
       "         lat       lng  \n",
       "0  51.507894 -0.143671  \n",
       "1  51.521009 -0.123097  "
      ]
     },
     "execution_count": 126,
     "metadata": {},
     "output_type": "execute_result"
    }
   ],
   "source": [
    "df.head(2)"
   ]
  },
  {
   "cell_type": "code",
   "execution_count": 127,
   "id": "a07061b2-c3f4-402e-9a47-c58508bb015f",
   "metadata": {},
   "outputs": [
    {
     "name": "stdout",
     "output_type": "stream",
     "text": [
      "<class 'pandas.core.frame.DataFrame'>\n",
      "RangeIndex: 386803 entries, 0 to 386802\n",
      "Data columns (total 17 columns):\n",
      " #   Column                                      Non-Null Count   Dtype  \n",
      "---  ------                                      --------------   -----  \n",
      " 0   hotel_address                               386803 non-null  object \n",
      " 1   additional_number_of_scoring                386803 non-null  int64  \n",
      " 2   review_date                                 386803 non-null  object \n",
      " 3   average_score                               386803 non-null  float64\n",
      " 4   hotel_name                                  386803 non-null  object \n",
      " 5   reviewer_nationality                        386803 non-null  object \n",
      " 6   negative_review                             386803 non-null  object \n",
      " 7   review_total_negative_word_counts           386803 non-null  int64  \n",
      " 8   total_number_of_reviews                     386803 non-null  int64  \n",
      " 9   positive_review                             386803 non-null  object \n",
      " 10  review_total_positive_word_counts           386803 non-null  int64  \n",
      " 11  total_number_of_reviews_reviewer_has_given  386803 non-null  int64  \n",
      " 12  reviewer_score                              386803 non-null  float64\n",
      " 13  tags                                        386803 non-null  object \n",
      " 14  days_since_review                           386803 non-null  object \n",
      " 15  lat                                         384355 non-null  float64\n",
      " 16  lng                                         384355 non-null  float64\n",
      "dtypes: float64(4), int64(5), object(8)\n",
      "memory usage: 50.2+ MB\n"
     ]
    }
   ],
   "source": [
    "df.info()"
   ]
  },
  {
   "cell_type": "code",
   "execution_count": 128,
   "id": "b0e1a6e4-1702-44d5-9965-d2cf77893562",
   "metadata": {
    "scrolled": true
   },
   "outputs": [
    {
     "data": {
      "text/html": [
       "<div>\n",
       "<style scoped>\n",
       "    .dataframe tbody tr th:only-of-type {\n",
       "        vertical-align: middle;\n",
       "    }\n",
       "\n",
       "    .dataframe tbody tr th {\n",
       "        vertical-align: top;\n",
       "    }\n",
       "\n",
       "    .dataframe thead th {\n",
       "        text-align: right;\n",
       "    }\n",
       "</style>\n",
       "<table border=\"1\" class=\"dataframe\">\n",
       "  <thead>\n",
       "    <tr style=\"text-align: right;\">\n",
       "      <th></th>\n",
       "      <th>additional_number_of_scoring</th>\n",
       "      <th>average_score</th>\n",
       "      <th>review_total_negative_word_counts</th>\n",
       "      <th>total_number_of_reviews</th>\n",
       "      <th>review_total_positive_word_counts</th>\n",
       "      <th>total_number_of_reviews_reviewer_has_given</th>\n",
       "      <th>reviewer_score</th>\n",
       "      <th>lat</th>\n",
       "      <th>lng</th>\n",
       "    </tr>\n",
       "  </thead>\n",
       "  <tbody>\n",
       "    <tr>\n",
       "      <th>0</th>\n",
       "      <td>581</td>\n",
       "      <td>8.4</td>\n",
       "      <td>3</td>\n",
       "      <td>1994</td>\n",
       "      <td>4</td>\n",
       "      <td>7</td>\n",
       "      <td>10.0</td>\n",
       "      <td>51.507894</td>\n",
       "      <td>-0.143671</td>\n",
       "    </tr>\n",
       "    <tr>\n",
       "      <th>1</th>\n",
       "      <td>299</td>\n",
       "      <td>8.3</td>\n",
       "      <td>3</td>\n",
       "      <td>1361</td>\n",
       "      <td>2</td>\n",
       "      <td>14</td>\n",
       "      <td>6.3</td>\n",
       "      <td>51.521009</td>\n",
       "      <td>-0.123097</td>\n",
       "    </tr>\n",
       "  </tbody>\n",
       "</table>\n",
       "</div>"
      ],
      "text/plain": [
       "   additional_number_of_scoring  average_score  \\\n",
       "0                           581            8.4   \n",
       "1                           299            8.3   \n",
       "\n",
       "   review_total_negative_word_counts  total_number_of_reviews  \\\n",
       "0                                  3                     1994   \n",
       "1                                  3                     1361   \n",
       "\n",
       "   review_total_positive_word_counts  \\\n",
       "0                                  4   \n",
       "1                                  2   \n",
       "\n",
       "   total_number_of_reviews_reviewer_has_given  reviewer_score        lat  \\\n",
       "0                                           7            10.0  51.507894   \n",
       "1                                          14             6.3  51.521009   \n",
       "\n",
       "        lng  \n",
       "0 -0.143671  \n",
       "1 -0.123097  "
      ]
     },
     "execution_count": 128,
     "metadata": {},
     "output_type": "execute_result"
    }
   ],
   "source": [
    "df1 = df.drop(['hotel_address', 'review_date', 'hotel_name', 'hotel_address', 'review_date', 'hotel_address', 'reviewer_nationality', 'negative_review', \n",
    "               'positive_review', 'tags', 'days_since_review'], axis = 1)\n",
    "df1.head(2)"
   ]
  },
  {
   "cell_type": "code",
   "execution_count": 86,
   "id": "5fb4f89d-2b64-4fba-96d3-e710b7597347",
   "metadata": {
    "scrolled": true
   },
   "outputs": [
    {
     "name": "stdout",
     "output_type": "stream",
     "text": [
      "<class 'pandas.core.frame.DataFrame'>\n",
      "Index: 377713 entries, 0 to 386802\n",
      "Data columns (total 9 columns):\n",
      " #   Column                                      Non-Null Count   Dtype  \n",
      "---  ------                                      --------------   -----  \n",
      " 0   additional_number_of_scoring                377713 non-null  int64  \n",
      " 1   average_score                               377713 non-null  float64\n",
      " 2   review_total_negative_word_counts           377713 non-null  int64  \n",
      " 3   total_number_of_reviews                     377713 non-null  int64  \n",
      " 4   review_total_positive_word_counts           377713 non-null  int64  \n",
      " 5   total_number_of_reviews_reviewer_has_given  377713 non-null  int64  \n",
      " 6   reviewer_score                              377713 non-null  float64\n",
      " 7   lat                                         375286 non-null  float64\n",
      " 8   lng                                         375286 non-null  float64\n",
      "dtypes: float64(4), int64(5)\n",
      "memory usage: 28.8 MB\n"
     ]
    }
   ],
   "source": [
    "df1.info()"
   ]
  },
  {
   "cell_type": "code",
   "execution_count": 87,
   "id": "dce8ede3-a1e1-49a4-9dc2-383b9bb2dd04",
   "metadata": {
    "colab": {
     "base_uri": "https://localhost:8080/"
    },
    "id": "As_X7I6jl7Za",
    "jp-MarkdownHeadingCollapsed": true,
    "outputId": "3d3795b3-ab7c-4cc6-ab3d-23a4796a7b5c",
    "scrolled": true
   },
   "outputs": [
    {
     "name": "stdout",
     "output_type": "stream",
     "text": [
      "Количество дубликатов: 0\n",
      "Размер таблицы после удаления дубликатов: (377713, 9)\n"
     ]
    }
   ],
   "source": [
    "# Проверим данные на наличие полных дубликатов:\n",
    "print('Количество дубликатов: {}'.format(df1[df1.duplicated()].shape[0]))\n",
    "# Удаляем дубликаты:\n",
    "df1 = df1.drop_duplicates()\n",
    "print('Размер таблицы после удаления дубликатов: {}'.format(df1.shape))"
   ]
  },
  {
   "cell_type": "code",
   "execution_count": 88,
   "id": "764a6140-b50f-4af9-bdf0-0384485d0ce1",
   "metadata": {},
   "outputs": [
    {
     "name": "stdout",
     "output_type": "stream",
     "text": [
      "<class 'pandas.core.frame.DataFrame'>\n",
      "Index: 189180 entries, 2 to 1\n",
      "Data columns (total 4 columns):\n",
      " #   Column          Non-Null Count   Dtype  \n",
      "---  ------          --------------   -----  \n",
      " 0   average_score   189178 non-null  float64\n",
      " 1   lat             189178 non-null  float64\n",
      " 2   lng             189178 non-null  float64\n",
      " 3   reviewer_score  2 non-null       float64\n",
      "dtypes: float64(4)\n",
      "memory usage: 11.2 MB\n"
     ]
    }
   ],
   "source": [
    "df.info()"
   ]
  },
  {
   "cell_type": "code",
   "execution_count": 89,
   "id": "8a451c85-5e2b-4e95-8c84-c7843eeb3d60",
   "metadata": {
    "scrolled": true
   },
   "outputs": [
    {
     "name": "stdout",
     "output_type": "stream",
     "text": [
      "<class 'pandas.core.frame.DataFrame'>\n",
      "Index: 377713 entries, 0 to 386802\n",
      "Data columns (total 9 columns):\n",
      " #   Column                                      Non-Null Count   Dtype  \n",
      "---  ------                                      --------------   -----  \n",
      " 0   additional_number_of_scoring                377713 non-null  int64  \n",
      " 1   average_score                               377713 non-null  float64\n",
      " 2   review_total_negative_word_counts           377713 non-null  int64  \n",
      " 3   total_number_of_reviews                     377713 non-null  int64  \n",
      " 4   review_total_positive_word_counts           377713 non-null  int64  \n",
      " 5   total_number_of_reviews_reviewer_has_given  377713 non-null  int64  \n",
      " 6   reviewer_score                              377713 non-null  float64\n",
      " 7   lat                                         375286 non-null  float64\n",
      " 8   lng                                         375286 non-null  float64\n",
      "dtypes: float64(4), int64(5)\n",
      "memory usage: 28.8 MB\n"
     ]
    }
   ],
   "source": [
    "df1.info()"
   ]
  },
  {
   "cell_type": "markdown",
   "id": "4b20bb17-d2fe-424f-a293-ffcf0474ccff",
   "metadata": {},
   "source": [
    "Означают разделение вашего DataFrame df1 на два объекта:\n",
    "X — это DataFrame, который содержит все признаки (фичи), кроме столбца 'reviewer_score'. Метод drop удаляет указанный столбец (axis=1 — значит по столбцам), и возвращает новый DataFrame без этого столбца.\n",
    "y — это Series, который содержит только целевую переменную 'reviewer_score', то есть то, что вы хотите предсказывать или использовать как метку.\n",
    "Такое разделение часто используется в задачах машинного обучения или анализа данных:\n",
    "X — входные данные (признаки) для модели,\n",
    "y — целевая переменная (ответ).\n",
    "Это позволяет отдельно подготовить и обработать признаки и целевую переменную и затем обучить модель или провести анализ.\n",
    "\n",
    "Что происходит при этом:\n",
    "\n",
    "Все значения в y будут приведены к типу int (целое число).\n",
    "Если в y изначально были значения в другом формате (например, строки чисел \"1\", \"2\" или числа с плавающей точкой 1.0, 2.7), после astype('int') они станут целыми числами (в случае с float — дробная часть отбрасывается).\n",
    "Это важно, когда функции, например из sklearn, требуют определённого типа для целевой переменной — обычно целочисленного (например, метки классов).\n",
    "\n",
    "Метод astype:\n",
    "Работает для объектов типа pandas Series или DataFrame.\n",
    "Принимает в аргумент тип данных, к которому нужно привести ('int', 'float', 'str', и др.).\n",
    "Возвращает новый объект с преобразованными типами (если не использовать параметр copy=False, тогда можно изменить объект на месте).\n",
    "\n",
    "Таким образом, ваш код y = y.astype('int') обеспечивает, что целевая переменная y будет именно целочисленной, что важно для корректной работы статистических и машинно-обучающих методов."
   ]
  },
  {
   "cell_type": "code",
   "execution_count": 90,
   "id": "84dbfc2c-58d2-4140-b25b-fb5378066969",
   "metadata": {},
   "outputs": [],
   "source": [
    "    # Разбиваем датафрейм на части, необходимые для обучения и тестирования модели  \n",
    "    # Х — данные с информацией об отелях, у — целевая переменная (рейтинги отелей)  \n",
    "    X = df1.drop(['reviewer_score'], axis = 1)  \n",
    "    y = df1['reviewer_score']  \n",
    "      \n",
    "    # Загружаем специальный инструмент для разбивки:  \n",
    "    from sklearn.model_selection import train_test_split  \n",
    "      \n",
    "    # Наборы данных с меткой \"train\" будут использоваться для обучения модели, \"test\" — для тестирования.  \n",
    "    # Для тестирования мы будем использовать 25 % от исходного датасета.  \n",
    "    X_train, X_test, y_train, y_test = train_test_split(X, y, test_size=0.25, random_state=42)"
   ]
  },
  {
   "cell_type": "code",
   "execution_count": 91,
   "id": "1300bf9f-dca1-41af-b884-b67f6a3cfe35",
   "metadata": {
    "scrolled": true
   },
   "outputs": [
    {
     "data": {
      "text/html": [
       "<div>\n",
       "<style scoped>\n",
       "    .dataframe tbody tr th:only-of-type {\n",
       "        vertical-align: middle;\n",
       "    }\n",
       "\n",
       "    .dataframe tbody tr th {\n",
       "        vertical-align: top;\n",
       "    }\n",
       "\n",
       "    .dataframe thead th {\n",
       "        text-align: right;\n",
       "    }\n",
       "</style>\n",
       "<table border=\"1\" class=\"dataframe\">\n",
       "  <thead>\n",
       "    <tr style=\"text-align: right;\">\n",
       "      <th></th>\n",
       "      <th>additional_number_of_scoring</th>\n",
       "      <th>average_score</th>\n",
       "      <th>review_total_negative_word_counts</th>\n",
       "      <th>total_number_of_reviews</th>\n",
       "      <th>review_total_positive_word_counts</th>\n",
       "      <th>total_number_of_reviews_reviewer_has_given</th>\n",
       "      <th>lat</th>\n",
       "      <th>lng</th>\n",
       "    </tr>\n",
       "  </thead>\n",
       "  <tbody>\n",
       "    <tr>\n",
       "      <th>0</th>\n",
       "      <td>581</td>\n",
       "      <td>8.4</td>\n",
       "      <td>3</td>\n",
       "      <td>1994</td>\n",
       "      <td>4</td>\n",
       "      <td>7</td>\n",
       "      <td>51.507894</td>\n",
       "      <td>-0.143671</td>\n",
       "    </tr>\n",
       "    <tr>\n",
       "      <th>1</th>\n",
       "      <td>299</td>\n",
       "      <td>8.3</td>\n",
       "      <td>3</td>\n",
       "      <td>1361</td>\n",
       "      <td>2</td>\n",
       "      <td>14</td>\n",
       "      <td>51.521009</td>\n",
       "      <td>-0.123097</td>\n",
       "    </tr>\n",
       "  </tbody>\n",
       "</table>\n",
       "</div>"
      ],
      "text/plain": [
       "   additional_number_of_scoring  average_score  \\\n",
       "0                           581            8.4   \n",
       "1                           299            8.3   \n",
       "\n",
       "   review_total_negative_word_counts  total_number_of_reviews  \\\n",
       "0                                  3                     1994   \n",
       "1                                  3                     1361   \n",
       "\n",
       "   review_total_positive_word_counts  \\\n",
       "0                                  4   \n",
       "1                                  2   \n",
       "\n",
       "   total_number_of_reviews_reviewer_has_given        lat       lng  \n",
       "0                                           7  51.507894 -0.143671  \n",
       "1                                          14  51.521009 -0.123097  "
      ]
     },
     "execution_count": 91,
     "metadata": {},
     "output_type": "execute_result"
    }
   ],
   "source": [
    "X.head(2)"
   ]
  },
  {
   "cell_type": "code",
   "execution_count": 92,
   "id": "5c9b2f55-3c7d-4dc1-9bb3-93d7a6d5403c",
   "metadata": {
    "scrolled": true
   },
   "outputs": [
    {
     "data": {
      "text/plain": [
       "additional_number_of_scoring                       0\n",
       "average_score                                      0\n",
       "review_total_negative_word_counts                  0\n",
       "total_number_of_reviews                            0\n",
       "review_total_positive_word_counts                  0\n",
       "total_number_of_reviews_reviewer_has_given         0\n",
       "lat                                                0\n",
       "lng                                           186108\n",
       "dtype: int64"
      ]
     },
     "execution_count": 92,
     "metadata": {},
     "output_type": "execute_result"
    }
   ],
   "source": [
    "(X < 0).sum()"
   ]
  },
  {
   "cell_type": "code",
   "execution_count": 93,
   "id": "2410fd96-3cae-4425-82e3-bed228027079",
   "metadata": {},
   "outputs": [
    {
     "name": "stdout",
     "output_type": "stream",
     "text": [
      "<class 'pandas.core.frame.DataFrame'>\n",
      "Index: 377713 entries, 0 to 386802\n",
      "Data columns (total 8 columns):\n",
      " #   Column                                      Non-Null Count   Dtype  \n",
      "---  ------                                      --------------   -----  \n",
      " 0   additional_number_of_scoring                377713 non-null  int64  \n",
      " 1   average_score                               377713 non-null  float64\n",
      " 2   review_total_negative_word_counts           377713 non-null  int64  \n",
      " 3   total_number_of_reviews                     377713 non-null  int64  \n",
      " 4   review_total_positive_word_counts           377713 non-null  int64  \n",
      " 5   total_number_of_reviews_reviewer_has_given  377713 non-null  int64  \n",
      " 6   lat                                         375286 non-null  float64\n",
      " 7   lng                                         375286 non-null  float64\n",
      "dtypes: float64(3), int64(5)\n",
      "memory usage: 25.9 MB\n"
     ]
    }
   ],
   "source": [
    "X.info()"
   ]
  },
  {
   "cell_type": "code",
   "execution_count": 94,
   "id": "c44d83ee-f9b4-4fe3-ac4a-5a0d56b2f0d6",
   "metadata": {},
   "outputs": [
    {
     "data": {
      "text/plain": [
       "0    10.0\n",
       "1     6.3\n",
       "Name: reviewer_score, dtype: float64"
      ]
     },
     "execution_count": 94,
     "metadata": {},
     "output_type": "execute_result"
    }
   ],
   "source": [
    "y.head(2)"
   ]
  },
  {
   "cell_type": "code",
   "execution_count": 95,
   "id": "ee4b3922-b905-4a0e-91c3-d36975e28a81",
   "metadata": {},
   "outputs": [
    {
     "name": "stdout",
     "output_type": "stream",
     "text": [
      "<class 'pandas.core.series.Series'>\n",
      "Index: 377713 entries, 0 to 386802\n",
      "Series name: reviewer_score\n",
      "Non-Null Count   Dtype  \n",
      "--------------   -----  \n",
      "377713 non-null  float64\n",
      "dtypes: float64(1)\n",
      "memory usage: 5.8 MB\n"
     ]
    }
   ],
   "source": [
    "y.info()"
   ]
  },
  {
   "cell_type": "code",
   "execution_count": 96,
   "id": "cae52617-47db-4341-a86f-27e8ad53a289",
   "metadata": {},
   "outputs": [
    {
     "data": {
      "text/plain": [
       "0    10\n",
       "1     6\n",
       "Name: reviewer_score, dtype: int32"
      ]
     },
     "execution_count": 96,
     "metadata": {},
     "output_type": "execute_result"
    }
   ],
   "source": [
    "y = y.astype('int').head(2)\n",
    "y"
   ]
  },
  {
   "cell_type": "code",
   "execution_count": 97,
   "id": "3f6d2932-26fc-4d32-a6e0-875ad079ca41",
   "metadata": {
    "scrolled": true
   },
   "outputs": [
    {
     "data": {
      "text/plain": [
       "additional_number_of_scoring                       0\n",
       "average_score                                      0\n",
       "review_total_negative_word_counts                  0\n",
       "total_number_of_reviews                            0\n",
       "review_total_positive_word_counts                  0\n",
       "total_number_of_reviews_reviewer_has_given         0\n",
       "lat                                                0\n",
       "lng                                           186108\n",
       "dtype: int64"
      ]
     },
     "execution_count": 97,
     "metadata": {},
     "output_type": "execute_result"
    }
   ],
   "source": [
    "(X < 0).sum()"
   ]
  },
  {
   "cell_type": "code",
   "execution_count": 98,
   "id": "788d74a5-23b5-4bf1-82b8-fbfbdeafb3e8",
   "metadata": {},
   "outputs": [],
   "source": [
    "cat_cols = ['average_score', 'lat', 'lng']\n",
    "X_filled = X[cat_cols].fillna(0)\n",
    "X_filled = X_filled[X_filled['lng'] >= 0] # Если нужно удалить строки с отрицательными lng (только по этому столбцу):\n",
    "# X_filled = X[['average_score', 'lat', 'lng']].fillna(0)"
   ]
  },
  {
   "cell_type": "code",
   "execution_count": 99,
   "id": "a23f82a6-3f5a-4eb4-9c8c-5d07120cc5ca",
   "metadata": {},
   "outputs": [
    {
     "name": "stdout",
     "output_type": "stream",
     "text": [
      "   average_score        lat       lng\n",
      "0            8.4  51.507894 -0.143671\n",
      "1            8.3  51.521009 -0.123097\n",
      "2            8.9  48.845377  2.325643\n",
      "3            7.5  48.888697  2.394540\n",
      "4            8.5  52.385601  4.847060\n"
     ]
    }
   ],
   "source": [
    "print(X[cat_cols].head())"
   ]
  },
  {
   "cell_type": "code",
   "execution_count": 100,
   "id": "8f5d0c36-f39f-434e-a0f5-c48dda3d4c12",
   "metadata": {},
   "outputs": [
    {
     "name": "stdout",
     "output_type": "stream",
     "text": [
      "   average_score        lat        lng\n",
      "2            8.9  48.845377   2.325643\n",
      "3            7.5  48.888697   2.394540\n",
      "4            8.5  52.385601   4.847060\n",
      "5            8.0  45.448188   9.257046\n",
      "7            8.3  48.208563  16.354169\n"
     ]
    }
   ],
   "source": [
    "print(X_filled[cat_cols].head())"
   ]
  },
  {
   "cell_type": "code",
   "execution_count": 101,
   "id": "609c0a7f-e724-4f76-b287-23940b191857",
   "metadata": {},
   "outputs": [
    {
     "name": "stdout",
     "output_type": "stream",
     "text": [
      "average_score    0\n",
      "lat              0\n",
      "lng              0\n",
      "dtype: int64\n"
     ]
    }
   ],
   "source": [
    "# Оставить только строки, где все значения >= 0 в указанных столбцах\n",
    "cols = ['average_score', 'lat', 'lng']\n",
    "X_filled = X_filled[(X_filled[cols] >= 0).all(axis=1)]\n",
    "# Если нужно удалить строки с отрицательными lng (только по этому столбцу):\n",
    "# python\n",
    "# X_filled = X_filled[X_filled['lng'] >= 0]\n",
    "# После удаления\n",
    "# Проверить, что больше нет отрицательных:\n",
    "# python\n",
    "print((X_filled[cols] < 0).sum())\n",
    "# Вы увидите нули — значит отрицательных больше нет."
   ]
  },
  {
   "cell_type": "code",
   "execution_count": 102,
   "id": "a0999014-f26d-4f00-a153-7f6cbea2d3fb",
   "metadata": {},
   "outputs": [
    {
     "name": "stdout",
     "output_type": "stream",
     "text": [
      "   average_score        lat        lng\n",
      "2            8.9  48.845377   2.325643\n",
      "3            7.5  48.888697   2.394540\n",
      "4            8.5  52.385601   4.847060\n",
      "5            8.0  45.448188   9.257046\n",
      "7            8.3  48.208563  16.354169\n"
     ]
    }
   ],
   "source": [
    "X = X[(X[cols] >= 0).all(axis=1)]\n",
    "print(X[cat_cols].head())"
   ]
  },
  {
   "cell_type": "code",
   "execution_count": 103,
   "id": "c68a9513-4261-4ad2-bb90-4957675bf03b",
   "metadata": {},
   "outputs": [
    {
     "name": "stdout",
     "output_type": "stream",
     "text": [
      "average_score    0\n",
      "lat              0\n",
      "lng              0\n",
      "dtype: int64\n"
     ]
    }
   ],
   "source": [
    "# После удаления\n",
    "# Проверить, что больше нет отрицательных:\n",
    "(X_filled  < 0).sum()\n",
    "print((X_filled[cat_cols] < 0).sum())"
   ]
  },
  {
   "cell_type": "markdown",
   "id": "b5469ba2-993f-415e-abef-83c7f6bfc932",
   "metadata": {},
   "source": [
    "# Предполагаем, что X и y изначально имеют одинаковый индекс\n",
    "\n",
    "# Если изменяется X (например, удаляются строки), то\n",
    "# нужно применить ту же фильтрацию к y\n",
    "\n",
    "mask = ...  # булевский маск для X (и y)\n",
    "\n",
    "X = X.loc[mask]\n",
    "y = y.loc[mask]\n",
    "\n",
    "# Теперь индексы синхронизированы\n"
   ]
  },
  {
   "cell_type": "markdown",
   "id": "910830d0-5211-4a84-875f-51c355cb594f",
   "metadata": {},
   "source": [
    "# Важно\n",
    "# После удаления строк по X_filled синхронизируйте целевой вектор y (если используете):\n",
    "y = y.loc[X_filled.index]"
   ]
  },
  {
   "cell_type": "markdown",
   "id": "759aef79-170d-44bc-9fe7-9072ae9fa90c",
   "metadata": {
    "scrolled": true
   },
   "source": [
    "(X < 0).sum()"
   ]
  },
  {
   "cell_type": "code",
   "execution_count": 104,
   "id": "f2ec9aa9-4afe-450a-a27d-e39189b025a1",
   "metadata": {},
   "outputs": [
    {
     "data": {
      "text/plain": [
       "2          2.325643\n",
       "3          2.394540\n",
       "4          4.847060\n",
       "5          9.257046\n",
       "7         16.354169\n",
       "            ...    \n",
       "386791     2.179610\n",
       "386792     9.204283\n",
       "386793     2.311274\n",
       "386794     2.321325\n",
       "386799    16.399451\n",
       "Name: lng, Length: 191605, dtype: float64"
      ]
     },
     "execution_count": 104,
     "metadata": {},
     "output_type": "execute_result"
    }
   ],
   "source": [
    "X_filled['lng']"
   ]
  },
  {
   "cell_type": "code",
   "execution_count": 105,
   "id": "f3f5b662-41b5-489f-9402-db7830c8e65a",
   "metadata": {},
   "outputs": [
    {
     "name": "stdout",
     "output_type": "stream",
     "text": [
      "['average_score', 'lat', 'lng']\n",
      "<class 'list'>\n"
     ]
    }
   ],
   "source": [
    "print(cat_cols)\n",
    "print(type(cat_cols))"
   ]
  },
  {
   "cell_type": "code",
   "execution_count": 106,
   "id": "a22ffa86-7535-4488-a894-4999991d4fb5",
   "metadata": {},
   "outputs": [
    {
     "data": {
      "text/plain": [
       "additional_number_of_scoring                  0\n",
       "average_score                                 0\n",
       "review_total_negative_word_counts             0\n",
       "total_number_of_reviews                       0\n",
       "review_total_positive_word_counts             0\n",
       "total_number_of_reviews_reviewer_has_given    0\n",
       "lat                                           0\n",
       "lng                                           0\n",
       "dtype: int64"
      ]
     },
     "execution_count": 106,
     "metadata": {},
     "output_type": "execute_result"
    }
   ],
   "source": [
    "indices_to_drop = X_filled[X_filled['lng'] < 0].index\n",
    "X_filled = X.drop(indices_to_drop)\n",
    "(X_filled < 0).sum()"
   ]
  },
  {
   "cell_type": "code",
   "execution_count": 107,
   "id": "2c174ad1-ff57-4736-8e70-df35b1628d69",
   "metadata": {},
   "outputs": [],
   "source": [
    "df_clean = pd.concat([X, y], axis=1).dropna()\n",
    "X_clean = df_clean[X.columns]\n",
    "y_clean = df_clean[y.name]"
   ]
  },
  {
   "cell_type": "markdown",
   "id": "4faebfc8-83bb-4185-a995-83964cf53cda",
   "metadata": {},
   "source": [
    "# 1. Заполнить пропуски (например, наиболее частым значением)\n",
    "indices_to_drop = X[X_filled['lng'] < 0].index\n",
    "X = X.drop(indices_to_drop)\n",
    "\n",
    "# Заполнить пропуски наиболее частыми значениями в категориальных столбцах\n",
    "X_filled = X[cat_cols].fillna(X[cat_cols].mode().iloc[0])\n",
    "\n",
    "# Применить chi2 (обязательно закрыть скобку!)\n",
    "imp_cat = pd.Series(chi2(X_filled, y)[0], index=cat_cols)\n"
   ]
  },
  {
   "cell_type": "code",
   "execution_count": 108,
   "id": "a6817d0a-fa72-4185-9881-fc64797df419",
   "metadata": {},
   "outputs": [],
   "source": [
    "# 1. Заполнить пропуски в категориальных признаках\n",
    "# Например, заполнить наиболее частыми значениями (mode):\n",
    "X_filled = X[cat_cols].fillna(X[cat_cols].mode().iloc[0])"
   ]
  },
  {
   "cell_type": "markdown",
   "id": "902d471c-ca39-42eb-a48d-98434fa88949",
   "metadata": {},
   "source": [
    "# 2. Закодировать категориальные признаки числовыми значениями\n",
    "# chi2 требует числовых неотрицательных признаков.\n",
    "# Если у вас категории в виде строк:\n",
    "from sklearn.preprocessing import OrdinalEncoder\n",
    "enc = OrdinalEncoder()\n",
    "X_encoded = enc.fit_transform(X_filled)"
   ]
  },
  {
   "cell_type": "code",
   "execution_count": 109,
   "id": "4c7b91c5-8fa7-4c47-b86c-2ca7a7a93615",
   "metadata": {},
   "outputs": [],
   "source": [
    "# from sklearn.feature_selection import chi2\n",
    "# imp_cat = pd.Series(chi2(X[cat_cols], y)[0], index=cat_cols)"
   ]
  },
  {
   "cell_type": "markdown",
   "id": "e704ba88-ccaa-491c-9529-bdbedce25390",
   "metadata": {},
   "source": [
    "imp_cat = pd.Series(chi2(X_encoded, y)[0], index=cat_cols)"
   ]
  },
  {
   "cell_type": "code",
   "execution_count": 110,
   "id": "98a0eaf9-ce29-4c4a-8afc-2bd2121ba6e6",
   "metadata": {},
   "outputs": [
    {
     "name": "stdout",
     "output_type": "stream",
     "text": [
      "average_score    0\n",
      "lat              0\n",
      "lng              0\n",
      "dtype: int64\n"
     ]
    }
   ],
   "source": [
    "# 1. Проверить наличие NaN\n",
    "print(X[cat_cols].isnull().sum())\n",
    "# print(pd.isnull(y).sum())"
   ]
  },
  {
   "cell_type": "markdown",
   "id": "24922a4e-8723-4e25-bdb6-997b84d06558",
   "metadata": {},
   "source": [
    "# 2. Удалить строки с пропусками:\n",
    "df = pd.concat([X[cat_cols], y], axis=1)\n",
    "df = df.dropna()\n",
    "X_clean = df[cat_cols]\n",
    "y_clean = df[y.name]\n",
    "imp_cat = pd.Series(chi2(X_clean, y_clean)[0], index=cat_cols)"
   ]
  },
  {
   "cell_type": "markdown",
   "id": "eea720d1-f0e3-4f6c-91eb-93e5d47f6f2c",
   "metadata": {},
   "source": [
    "# X_filled = X[cat_cols].fillna(X[cat_cols].mode().iloc[0])\n",
    "X_filled = X[cat_cols].fillna(X[cat_cols].mode().iloc[0])\n",
    "y_clean = y.loc[X_filled.index]  # синхронизируем индексы\n",
    "\n",
    "enc = OrdinalEncoder()\n",
    "X_encoded = enc.fit_transform(X_filled)\n",
    "\n",
    "imp_cat = pd.Series(chi2(X_encoded, y_clean)[0], index=cat_cols)"
   ]
  },
  {
   "cell_type": "code",
   "execution_count": null,
   "id": "e3fac67b-bf2f-4c9d-aeda-aa61672465a8",
   "metadata": {},
   "outputs": [],
   "source": [
    "import pandas as pd\n",
    "from sklearn.feature_selection import chi2\n",
    "from sklearn.preprocessing import OrdinalEncoder\n",
    "\n",
    "# Предположим, уже есть X, y и cat_cols\n",
    "\n",
    "# 1. Объединяем с сохранением индекса (обязательно, если y — Series)\n",
    "df = pd.concat([X[cat_cols], y], axis=1)\n",
    "\n",
    "# 2. Удаляем строки с пропусками\n",
    "df_clean = df.dropna()\n",
    "\n",
    "print(f\"Число строк после удаления пропусков: {len(df_clean)}\")\n",
    "\n",
    "if len(df_clean) == 0:\n",
    "    raise ValueError(\"Нет данных после удаления пропусков! Проверьте исходные данные.\")\n",
    "\n",
    "# 3. Отделяем X и y\n",
    "X_clean = df_clean[cat_cols]\n",
    "y_clean = df_clean[y.name]\n",
    "\n",
    "# 4. Кодируем категориальные признаки, если они не числовые\n",
    "enc = OrdinalEncoder()\n",
    "X_encoded = enc.fit_transform(X_clean)\n",
    "\n",
    "# 5. Применяем chi2\n",
    "imp_cat = pd.Series(chi2(X_encoded, y_clean)[0], index=cat_cols)\n",
    "\n",
    "print(imp_cat)\n",
    "# Если df_clean получается пустым — что делать?\n",
    "# Проверьте, что cat_cols и y содержат данные без слишком большого количества пропусков.\n",
    "\n",
    "# Замените dropna() на заполнение пропусков — например:\n",
    "\n",
    "# python\n",
    "# X_filled = X[cat_cols].fillna(X[cat_cols].mode().iloc[0])\n",
    "# и потом объединяйте с y.\n",
    "\n",
    "# Итог\n",
    "# Обычно так:\n",
    "\n",
    "# python\n",
    "# X_filled = X[cat_cols].fillna(X[cat_cols].mode().iloc[0])\n",
    "# y_clean = y.loc[X_filled.index]  # синхронизируем индексы\n",
    "\n",
    "# enc = OrdinalEncoder()\n",
    "# X_encoded = enc.fit_transform(X_filled)\n",
    "\n",
    "# imp_cat = pd.Series(chi2(X_encoded, y_clean)[0], index=cat_cols)\n",
    "# Если нужна помощь с вашим конкретным датасетом — дайте, пожалуйста, больше контекста, могу помочь.\n",
    "\n",
    "\n",
    "\n"
   ]
  },
  {
   "cell_type": "code",
   "execution_count": 113,
   "id": "f557ec69-4bbb-40ac-a13a-353a8b88a0ad",
   "metadata": {},
   "outputs": [
    {
     "name": "stdout",
     "output_type": "stream",
     "text": [
      "average_score    0\n",
      "lat              0\n",
      "lng              0\n",
      "dtype: int64\n"
     ]
    }
   ],
   "source": [
    "# 1. Проверить наличие NaN\n",
    "print(X_filled[cat_cols].isnull().sum())\n",
    "# print(pd.isnull(y).sum())"
   ]
  },
  {
   "cell_type": "code",
   "execution_count": null,
   "id": "451a6bdb-b803-469b-980a-4cab2541cecf",
   "metadata": {
    "scrolled": true
   },
   "outputs": [],
   "source": [
    "from sklearn.feature_selection import chi2\n",
    "import pandas as pd\n",
    "import matplotlib.pyplot as plt\n",
    "\n",
    "# y — целевая переменная, например Series с типом int\n",
    "# X — DataFrame с категориальными признаками\n",
    "# cat_cols — список категориальных столбцов в X\n",
    "\n",
    "imp_cat = pd.Series(chi2(X[cat_cols], y)[0], index=cat_cols)\n",
    "# imp_cat.sort_values(inplace=True)\n",
    "# imp_cat.plot(kind='barh')\n",
    "# plt.show()\n"
   ]
  },
  {
   "cell_type": "code",
   "execution_count": 115,
   "id": "fdc8c5d1-fe44-4424-9fbc-02fbedaf50f6",
   "metadata": {},
   "outputs": [
    {
     "name": "stdout",
     "output_type": "stream",
     "text": [
      "MAPE на тестовой выборке: 14.36%\n"
     ]
    }
   ],
   "source": [
    "import numpy as np\n",
    "from sklearn.ensemble import RandomForestRegressor  # пример модели\n",
    "from sklearn.metrics import mean_absolute_percentage_error\n",
    "# Обучение модели (пример)\n",
    "model = RandomForestRegressor(random_state=42)\n",
    "model.fit(X_train, y_train)\n",
    "# Предсказания на тесте\n",
    "y_pred = model.predict(X_test)\n",
    "# Расчёт MAPE\n",
    "mape_value = mean_absolute_percentage_error(y_test, y_pred) * 100  # умножаем на 100 для %\n",
    "print(f\"MAPE на тестовой выборке: {mape_value:.2f}%\")"
   ]
  },
  {
   "cell_type": "markdown",
   "id": "334c8d24-5d99-4b76-ad5d-2a6167911358",
   "metadata": {},
   "source": [
    "import pandas as pd\n",
    "import numpy as np\n",
    "from sklearn.feature_selection import chi2\n",
    "from sklearn.preprocessing import OrdinalEncoder\n",
    "\n",
    "# --- 1. Создание демонстрационных данных ---\n",
    "# Создадим DataFrame X с числовыми и категориальными столбцами, включая отрицательные значения\n",
    "data = {\n",
    "    'average_score': np.random.randint(0, 100, 200000),\n",
    "    'lat': np.random.uniform(0, 90, 200000),\n",
    "    'lng': np.random.uniform(-180, 180, 200000), # Тут будут отрицательные\n",
    "    'category_A': np.random.choice(['red', 'blue', 'green', np.nan], 200000),\n",
    "    'category_B': np.random.choice(['small', 'medium', 'large', np.nan], 200000),\n",
    "    'feature_1': np.random.rand(200000),\n",
    "    'feature_2': np.random.rand(200000)\n",
    "}\n",
    "X = pd.DataFrame(data)\n",
    "\n",
    "# Создадим целевую переменную y\n",
    "y = pd.Series(np.random.randint(0, 2, 200000)) # Бинарный класс для chi2\n",
    "\n",
    "# Умышленно добавим отрицательные lat и average_score для демонстрации\n",
    "X.loc[500:510, 'average_score'] = -1\n",
    "X.loc[1000:1010, 'lat'] = -5\n",
    "\n",
    "print(\"X shape before any processing:\", X.shape)\n",
    "print(\"y shape before any processing:\", y.shape)\n",
    "print(\"\\n(X < 0).sum() before processing:\")\n",
    "print((X[['average_score', 'lat', 'lng']] < 0).sum())\n",
    "\n",
    "# Определяем категориальные столбцы\n",
    "cat_cols = ['category_A', 'category_B']\n",
    "\n",
    "# --- 2. Удаление строк с отрицательными значениями ---\n",
    "# Создаем маску для удаления строк с отрицательными значениями в 'average_score', 'lat', 'lng'\n",
    "# ВНИМАНИЕ: Если вы хотите удалить строки только по 'lng', используйте:\n",
    "# mask_valid_rows = (X['lng'] >= 0)\n",
    "# В этом примере удаляем по всем трем:\n",
    "mask_valid_rows = (X['average_score'] >= 0) & (X['lat'] >= 0) & (X['lng'] >= 0)\n",
    "\n",
    "# Применяем маску к X и y, чтобы сохранить синхронизацию\n",
    "X = X.loc[mask_valid_rows].copy() # .copy() для избежания SettingWithCopyWarning\n",
    "y = y.loc[mask_valid_rows].copy()\n",
    "\n",
    "print(\"\\n--- After removing negative rows ---\")\n",
    "print(\"X shape after removing negative rows:\", X.shape)\n",
    "print(\"y shape after removing negative rows:\", y.shape)\n",
    "print(\"\\n(X < 0).sum() after processing:\")\n",
    "print((X[['average_score', 'lat', 'lng']] < 0).sum())\n",
    "\n",
    "\n",
    "# --- 3. Обработка пропусков в y (если они есть) ---\n",
    "# Убедимся, что в y нет пропусков, так как chi2 не работает с NaN в целевой переменной\n",
    "mask_y_notnull = y.notnull()\n",
    "X = X.loc[mask_y_notnull].copy()\n",
    "y = y.loc[mask_y_notnull].copy()\n",
    "print(\"\\n--- After checking y for nulls ---\")\n",
    "print(\"X shape after checking y for nulls:\", X.shape)\n",
    "print(\"y shape after checking y for nulls:\", y.shape)\n",
    "\n",
    "\n",
    "# --- 4. Обработка пропусков в категориальных признаках и кодирование ---\n",
    "# Заполняем пропуски в категориальных столбцах наиболее частым значением\n",
    "# Используем .copy() на X[cat_cols] перед заполнением, чтобы не изменять исходный X напрямую\n",
    "X_filled_cat = X[cat_cols].fillna(X[cat_cols].mode().iloc[0])\n",
    "\n",
    "print(\"\\n--- After filling NaN in categorical columns ---\")\n",
    "print(\"X_filled_cat shape:\", X_filled_cat.shape)\n",
    "print(\"X_filled_cat NaN count:\\n\", X_filled_cat.isnull().sum())\n",
    "\n",
    "# Кодируем категориальные признаки\n",
    "# chi2 требует числовые неотрицательные значения, поэтому OrdinalEncoder подходит\n",
    "enc = OrdinalEncoder()\n",
    "X_encoded_cat = enc.fit_transform(X_filled_cat)\n",
    "\n",
    "print(\"\\n--- After Ordinal Encoding categorical columns ---\")\n",
    "print(\"X_encoded_cat shape:\", X_encoded_cat.shape)\n",
    "print(\"X_encoded_cat type:\", type(X_encoded_cat)) # Это будет numpy array\n",
    "\n",
    "# --- 5. Вычисление chi2 для отбора признаков ---\n",
    "# Убедитесь, что y имеет тип int, если это не так (особенно если есть bool)\n",
    "y = y.astype('int')\n",
    "\n",
    "# X_encoded_cat - это numpy array, y - Series\n",
    "imp_cat_values = chi2(X_encoded_cat, y)[0] # chi2 возвращает кортеж (scores, pvalues), берем scores\n",
    "\n",
    "# Создаем pd.Series из важностей, с индексами-названиями столбцов\n",
    "imp_cat = pd.Series(imp_cat_values, index=cat_cols)\n",
    "\n",
    "print(\"\\n--- Feature importance (chi2) for categorical columns ---\")\n",
    "print(imp_cat.sort_values(ascending=False))\n"
   ]
  },
  {
   "cell_type": "code",
   "execution_count": 50,
   "id": "89078fef-64c5-4358-99f1-2ed47a967d4b",
   "metadata": {},
   "outputs": [
    {
     "name": "stdout",
     "output_type": "stream",
     "text": [
      "В наборе данных представлено 1492 уникальных отелей.\n"
     ]
    }
   ],
   "source": [
    "# Задание 4.2\n",
    "# Сколько отелей представлено в наборе данных?\n",
    "num_hotels = df['hotel_name'].nunique()\n",
    "print(f\"В наборе данных представлено {num_hotels} уникальных отелей.\")"
   ]
  },
  {
   "cell_type": "markdown",
   "id": "e870bf71-2f07-4e65-8da1-fb473ad820f9",
   "metadata": {},
   "source": [
    "* Что здесь происходит:\n",
    "  - pd.to_datetime() — функция pandas, которая пытается превратить значения (строки, числа и др.) в даты.\n",
    "  - df['review_date'] — столбец с исходными данными, которые могут быть в строковом формате или других.\n",
    "  - Параметр *errors='coerce'* означает, что если какое-то значение невозможно преобразовать в дату (например, некорректная строка), то вместо ошибки будет записано значение NaT (Not a Time) — специальное        обозначение пропущенной даты.\n",
    "* Зачем это нужно?\n",
    "  - Для правильной работы с датами в pandas — например, сортировки по дате, вычисления разниц между датами, фильтрации по периоду.\n",
    "* Приведение к датам позволяет избежать ошибок при работе с временными данными.\n",
    "\n",
    " - выводит значение переменной max_date в формате даты год-месяц-день (например, 2025-08-04).\n",
    "*Здесь max_date — объект типа datetime или Timestamp в pandas, а метод .strftime('%Y-%m-%d') преобразует его в строку в заданном формате.*"
   ]
  },
  {
   "cell_type": "code",
   "execution_count": 32,
   "id": "d58ea538-772d-4aac-8adc-c021e4c0dd52",
   "metadata": {},
   "outputs": [
    {
     "name": "stdout",
     "output_type": "stream",
     "text": [
      "Тег, представленный в наибольшем числе отзывов: '[' Leisure trip '', встречается в 312768 отзывах.\n"
     ]
    }
   ],
   "source": [
    "# Задание 4.5\n",
    "# Какой тег представлен в наибольшем числе отзывов?\n",
    "# Убираем пропуски в столбце с тегами\n",
    "tags_series = df['tags'].dropna()\n",
    "# Разбиваем строки на списки тегов по запятой\n",
    "tags_lists = tags_series.str.split(',')\n",
    "# Преобразуем в DataFrame, где каждая строка — один тег\n",
    "tags_exploded = tags_lists.explode().str.strip()\n",
    "# Считаем количество вхождений каждого тега (в скольких отзывах он встречается)\n",
    "tag_counts = tags_exploded.value_counts()\n",
    "# Получаем самый частотный тег\n",
    "most_common_tag = tag_counts.idxmax()\n",
    "most_common_count = tag_counts.max()\n",
    "print(f\"Тег, представленный в наибольшем числе отзывов: '{most_common_tag}', встречается в {most_common_count} отзывах.\")"
   ]
  },
  {
   "cell_type": "code",
   "execution_count": 30,
   "id": "955aa365-0055-4404-8300-b360fa02506c",
   "metadata": {},
   "outputs": [
    {
     "name": "stdout",
     "output_type": "stream",
     "text": [
      "Всего уникальных тегов: 2413\n"
     ]
    }
   ],
   "source": [
    "# Задание 4.4\n",
    "# Сколько уникальных тегов представлено в наборе данных?\n",
    "# Предположим, столбец с тегами называется 'tags'\n",
    "# Разобьём все теги на отдельные элементы и составим множество уникальных\n",
    "all_tags = df['tags'].dropna().str.split(',')  # Разделение по запятой, если другой разделитель — замените\n",
    "unique_tags = set(tag.strip() for sublist in all_tags for tag in sublist)\n",
    "num_unique_tags = len(unique_tags)\n",
    "print(f\"Всего уникальных тегов: {num_unique_tags}\")"
   ]
  },
  {
   "cell_type": "code",
   "execution_count": 32,
   "id": "f5671e69-9551-4e02-a781-5c19a6031414",
   "metadata": {},
   "outputs": [
    {
     "name": "stdout",
     "output_type": "stream",
     "text": [
      "Тег, представленный в наибольшем числе отзывов: '[' Leisure trip '', встречается в 312768 отзывах.\n"
     ]
    }
   ],
   "source": [
    "# Задание 4.5\n",
    "# Какой тег представлен в наибольшем числе отзывов?\n",
    "# Убираем пропуски в столбце с тегами\n",
    "tags_series = df['tags'].dropna()\n",
    "# Разбиваем строки на списки тегов по запятой\n",
    "tags_lists = tags_series.str.split(',')\n",
    "# Преобразуем в DataFrame, где каждая строка — один тег\n",
    "tags_exploded = tags_lists.explode().str.strip()\n",
    "# Считаем количество вхождений каждого тега (в скольких отзывах он встречается)\n",
    "tag_counts = tags_exploded.value_counts()\n",
    "# Получаем самый частотный тег\n",
    "most_common_tag = tag_counts.idxmax()\n",
    "most_common_count = tag_counts.max()\n",
    "print(f\"Тег, представленный в наибольшем числе отзывов: '{most_common_tag}', встречается в {most_common_count} отзывах.\")"
   ]
  },
  {
   "cell_type": "code",
   "execution_count": 156,
   "id": "43d4d710-5df9-48f8-ba96-bf1809aa9bb1",
   "metadata": {},
   "outputs": [
    {
     "name": "stdout",
     "output_type": "stream",
     "text": [
      "Чаще всего путешественники останавливаются на: '' Stayed 1 night '' (встречается в 88083 отзывах).\n",
      "Чаще всего путешественники останавливаются на 1 ночей.\n"
     ]
    }
   ],
   "source": [
    "# Задание 4.6\n",
    "# Из тегов выясните, на сколько ночей чаще всего останавливаются путешественники в отелях.\n",
    "\n",
    "tags_exploded = tags_lists.explode()\n",
    "# Удаляем пробелы и кавычки вне зависимости, одинарные или двойные\n",
    "tags_exploded = tags_exploded.str.strip().str.strip('\"\\'')\n",
    "# Убираем пропуски в столбце с тегами\n",
    "tags_series = df['tags'].dropna()\n",
    "# Разбиваем строки на отдельные теги\n",
    "tags_lists = tags_series.str.split(',')\n",
    "# Разворачиваем список списков в один столбец\n",
    "tags_exploded = tags_lists.explode().str.strip()\n",
    "# Фильтруем теги, которые содержат упоминание ночей (например, \"night\" или \"ночь\")\n",
    "nights_tags = tags_exploded[tags_exploded.str.contains('night|ночь', case=False, na=False)]\n",
    "# Считаем количество каждого такого тега\n",
    "nights_counts = nights_tags.value_counts()\n",
    "# Получаем самый частотный тег и количество\n",
    "most_common_nights_tag = nights_counts.idxmax()\n",
    "most_common_nights_count = nights_counts.max()\n",
    "print(f\"Чаще всего путешественники останавливаются на: '{most_common_nights_tag}' (встречается в {most_common_nights_count} отзывах).\")\n",
    "\n",
    "import pandas as pd\n",
    "import re\n",
    "# Убираем пропуски\n",
    "tags_series = df['tags'].dropna()\n",
    "# Разбиваем строки на отдельные теги\n",
    "tags_lists = tags_series.str.split(',')\n",
    "# Разворачиваем в один столбец\n",
    "tags_exploded = tags_lists.explode().str.strip().str.strip('\"\\'')\n",
    "# Фильтруем теги, содержащие слово \"night\" или \"ночь\"\n",
    "nights_tags = tags_exploded[tags_exploded.str.contains('night|ночь', case=False, na=False)]\n",
    "# Функция для извлечения числа ночей из текста\n",
    "def extract_nights(text):\n",
    "    match = re.search(r'(\\d+)', text)\n",
    "    if match:\n",
    "        return int(match.group(1))\n",
    "    return None\n",
    "# Применяем\n",
    "nights_counts = nights_tags.apply(extract_nights).dropna()\n",
    "# Считаем, какое число ночей встречается чаще всего\n",
    "most_common_nights = nights_counts.mode()\n",
    "if not most_common_nights.empty:\n",
    "    print(f\"Чаще всего путешественники останавливаются на {int(most_common_nights[0])} ночей.\")\n",
    "else:\n",
    "    print(\"Не удалось определить наиболее частое количество ночей.\")"
   ]
  },
  {
   "cell_type": "markdown",
   "id": "7c9ce667-045c-481d-aebd-d3d743609bb8",
   "metadata": {},
   "source": [
    "В Python строка import re означает импорт модуля под названием re, который предназначен для работы с регулярными выражениями.\n",
    "\n",
    "Что такое модуль re?\n",
    "Модуль re предоставляет инструменты для поиска, проверки, замены и разделения текста по шаблонам с использованием регулярных выражений.\n",
    "\n",
    "Регулярные выражения — это специальные строки (шаблоны), которые описывают набор правил для поиска или обработки текстовых данных.\n",
    "\n",
    "Основные возможности модуля re:\n",
    "Поиск первого совпадения шаблона в строке (re.search())\n",
    "Поиск совпадения именно в начале строки (re.match())\n",
    "Поиск всех совпадений шаблона в строке (re.findall())\n",
    "Замена всех совпадений шаблона в строке (re.sub())\n",
    "\n",
    "Разделение строки по шаблону (re.split())\n",
    "\n",
    "Компиляция регулярного выражения для повторного использования (re.compile())\n",
    "\n",
    "Пример использования:\n",
    "python\n",
    "import re\n",
    "\n",
    "text = \"Python is an amazing programming language.\"\n",
    "pattern = \"amazing\"\n",
    "\n",
    "match = re.search(pattern, text)\n",
    "if match:\n",
    "    print(\"Совпадение найдено:\", match.group())\n",
    "else:\n",
    "    print(\"Совпадение не найдено\")\n",
    "В данном примере мы ищем слово \"amazing\" в тексте. Если оно найдено, программа выведет его.\n",
    "\n",
    "Таким образом, import re — это команда, которая позволяет включить в ваш скрипт мощные инструменты для работы с текстом через регулярные выражения. Это очень полезно для парсинга, валидации данных, преобразования строк и многих других задач, связанных с текстом.\n",
    "\n",
    "Связанные\n",
    "Что такое модуль re и зачем он нужен в Python\n",
    "Как использовать re.search и re.findall на практике для поиска текста\n",
    "Почему рекомендуется писать строки шаблонов как raw-строки (r'')\n",
    "Чем регулируется скорость выполнения регулярных выражений в Python 3.11"
   ]
  },
  {
   "cell_type": "code",
   "execution_count": null,
   "id": "ce0238a1-5bb0-468a-b57e-2ab669bf7dab",
   "metadata": {},
   "outputs": [],
   "source": [
    "# Задание 4.7\n",
    "# Какое значение метрики MAPE вам удалось получить на этом этапе?"
   ]
  }
 ],
 "metadata": {
  "kernelspec": {
   "display_name": "Python 3 (ipykernel)",
   "language": "python",
   "name": "python3"
  },
  "language_info": {
   "codemirror_mode": {
    "name": "ipython",
    "version": 3
   },
   "file_extension": ".py",
   "mimetype": "text/x-python",
   "name": "python",
   "nbconvert_exporter": "python",
   "pygments_lexer": "ipython3",
   "version": "3.12.6"
  }
 },
 "nbformat": 4,
 "nbformat_minor": 5
}
