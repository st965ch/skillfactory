{
 "cells": [
  {
   "cell_type": "markdown",
   "id": "e768dcd2-8dd3-435d-9d9e-60585416f4ae",
   "metadata": {},
   "source": [
    "6. Итоги"
   ]
  },
  {
   "cell_type": "markdown",
   "id": "9b04e688-a7d1-48f0-afa9-ca4b5c6ef4fc",
   "metadata": {},
   "source": [
    "⭐ Поздравляем! Вы создали свой первый кейс по машинному обучению: самостоятельно очистили довольно сильно загрязнённый датасет, извлекли из него несколько новых признаков и подготовили данные для обучения модели. Также вы приняли участие в соревновании по машинному обучению и вступили в самое большое в мире сообщество действующих дата-сайентистов. Вам есть чем гордиться!\n",
    "\n",
    "На завершающем этапе вам необходимо выслать свой проект на проверку ментору — это можно сделать через текстовое поле формы ниже. Вы можете сдать своё решение двумя способами:\n",
    "\n",
    " * Kaggle — приложите ссылку на Kaggle-ноутбук.\n",
    " * GitHub, GitLab — приложите ссылку на репозиторий, укажите ваш ник на Kaggle. В таком случае код проекта будет лежать в репозитории, а на Kaggle вы размещаете только файл сабмишна для получения места в лидерборде.\n",
    "\n",
    " * ⚡ В случае создания приватного ноутбука/репозитория предоставьте ментору доступ к вашей работе!"
   ]
  },
  {
   "cell_type": "code",
   "execution_count": null,
   "id": "d37ba41c-c46a-4a58-a6f3-de50503c2d6a",
   "metadata": {},
   "outputs": [],
   "source": [
    "⭐ Поздравляем! Вы создали свой первый кейс по машинному обучению: самостоятельно очистили довольно сильно загрязнённый датасет, извлекли из него несколько новых признаков и подготовили данные для обучения модели. Также вы приняли участие в соревновании по машинному обучению и вступили в самое большое в мире сообщество действующих дата-сайентистов. Вам есть чем гордиться!\n",
    "\n",
    "На завершающем этапе вам необходимо выслать свой проект на проверку ментору — это можно сделать через текстовое поле формы ниже. Вы можете сдать своё решение двумя способами:\n",
    "\n",
    " * Kaggle — приложите ссылку на Kaggle-ноутбук.\n",
    " * GitHub, GitLab — приложите ссылку на репозиторий, укажите ваш ник на Kaggle. В таком случае код проекта будет лежать в репозитории, а на Kaggle вы размещаете только файл сабмишна для получения места в лидерборде.\n",
    "\n",
    " * ⚡ В случае создания приватного ноутбука/репозитория предоставьте ментору доступ к вашей работе!"
   ]
  },
  {
   "cell_type": "markdown",
   "id": "b1613f6c-4296-4626-907f-3ac5283fec07",
   "metadata": {},
   "source": [
    "<small><small>Помните, что ментор будет оценивать вашу работу по определённым критериям. Старайтесь держать планку!\n",
    "Критерии оценивания:\\\n",
    "<small>1. Качество кода (соблюдение стандартов оформления PEP-8, комментирование кода, README к проекту). Оформление проекта на GitHub, GitLab, Kaggle.\\\n",
    "2. Очистка данных.\\\n",
    "3. Исследование данных (качество визуализации, наличие идей, гипотез, комментариев).\\\n",
    "4. Генерация признаков.\\\n",
    "5. Отбор признаков.\\\n",
    "6. Преобразование признаков.\\\n",
    "7. Качество решения: результат метрики MAPE.</small>"
   ]
  },
  {
   "cell_type": "markdown",
   "id": "eced2830-9b51-4978-8f9f-f8ebea7b80e4",
   "metadata": {},
   "source": [
    "<small><small>Описание набора данных для соревнования обычно включает объяснение содержимого и назначения каждого файла, а также что ожидается от участников в итоговом файле для отправки. Вот пояснение по вашим файлам:\\\n",
    "<small>1. Hotels_train.csv — это тренировочный набор данных, который используется для обучения модели. В этом файле, как правило, содержатся данные с известными целевыми значениями (например, рейтингами, бронированиями, ценами и т.п.), на основе которых модель учится делать предсказания.\\\n",
    "2. Hotels_test.csv — это тестовый набор данных, предназначенный для оценки качества модели. В этом файле данные представлены без целевых значений (labels). Задача участников — использовать обученную модель, чтобы сделать предсказания для этих данных.\\\n",
    "3. submit.csv — это файл, который участник создает для подачи результатов своего решения. Он должен содержать прогнозы модели для данных из Hotels_test.csv в требуемом формате. Обычно это таблица с идентификаторами объектов (например, номерами отелей или заявок) и соответствующими предсказанными значениями, чтобы организаторы могли оценить качество модели.\\\n",
    "4. Таким образом, процесс работы с набором данных выглядит так: сначала вы обучаете модель на данных из Hotels_train.csv, затем делаете предсказания на Hotels_test.csv и сохраняете результаты в submit.csv в соответствии с форматом, который требует соревнование. Именно submit.csv вы отправляете на проверку для оценки качества решения.</small>"
   ]
  },
  {
   "cell_type": "code",
   "execution_count": null,
   "id": "1a066132-a438-4ff1-bb5d-92ce0d61ba8e",
   "metadata": {},
   "outputs": [],
   "source": [
    "1.Описание набора данных\n",
    "Файлы для соревнований\n",
    " *Hotels_train.csv — набор данных для обучения\n",
    " *Hotels_test.csv — набор данных для оценки качества\n",
    " *submit.csv — файл в нужном формате\n",
    "\n",
    "2.Признаки\n",
    " 1.hotel_address- адрес отеля\n",
    " 2.review_date- дата, когда был выдан соответствующий отзыв.\n",
    " 3.average_score- средний балл отеля, рассчитанный на основе последних комментариев за прошлый год\n",
    " 4.hotel_name- название отеля\n",
    " 5.reviewer_nationality- национальность рецензента\n",
    " 6.negative_review- отрицательный отзыв, который дал отелю рецензент.\n",
    " 7.review_total_negative_word_counts- общее количество слов в отрицательном отзыве\n",
    " 8.positive_review- положительный отзыв, который дал отелю признательность\n",
    " 9.review_total_positive_word_counts- общее количество слов в положительном отзыве\n",
    " 10.reviewer_score- оценка, которую рецензент поставил отелю на основе своего опыта\n",
    " 11.total_number_of_reviews_reviewer_has_given- количество отзывов, которые были оставлены в прошлом\n",
    " 12.total_number_of_reviews- общее количество реальных отзывов об отелях\n",
    " 13.tags- теги, которые наградил дал отелю.\n",
    " 14.days_since_review- продолжительность между датой проверки и датой очистки\n",
    " 15.additional_number_of_scoring- есть также некоторые гости, которые просто поставили оценку сервису, что не оставило отзыв. Это число указывает, сколько существует оценок без проверок.\n",
    " 16.lat- широта отеля\n",
    " 17.lng- долгота отеля"
   ]
  },
  {
   "cell_type": "code",
   "execution_count": 8,
   "id": "dae38dd2-45dc-4207-b7cb-88aaf0c3f9f4",
   "metadata": {},
   "outputs": [],
   "source": [
    "from sklearn.feature_selection import chi2\n",
    "import pandas as pd\n",
    "import matplotlib.pyplot as plt\n",
    "import seaborn as sns\n",
    "from matplotlib import pyplot as plt"
   ]
  },
  {
   "cell_type": "code",
   "execution_count": 9,
   "id": "4f717882-0baa-4393-9806-0c05e867614b",
   "metadata": {
    "scrolled": true
   },
   "outputs": [
    {
     "data": {
      "text/html": [
       "<div>\n",
       "<style scoped>\n",
       "    .dataframe tbody tr th:only-of-type {\n",
       "        vertical-align: middle;\n",
       "    }\n",
       "\n",
       "    .dataframe tbody tr th {\n",
       "        vertical-align: top;\n",
       "    }\n",
       "\n",
       "    .dataframe thead th {\n",
       "        text-align: right;\n",
       "    }\n",
       "</style>\n",
       "<table border=\"1\" class=\"dataframe\">\n",
       "  <thead>\n",
       "    <tr style=\"text-align: right;\">\n",
       "      <th></th>\n",
       "      <th>hotel_address</th>\n",
       "      <th>additional_number_of_scoring</th>\n",
       "      <th>review_date</th>\n",
       "      <th>average_score</th>\n",
       "      <th>hotel_name</th>\n",
       "      <th>reviewer_nationality</th>\n",
       "      <th>negative_review</th>\n",
       "      <th>review_total_negative_word_counts</th>\n",
       "      <th>total_number_of_reviews</th>\n",
       "      <th>positive_review</th>\n",
       "      <th>review_total_positive_word_counts</th>\n",
       "      <th>total_number_of_reviews_reviewer_has_given</th>\n",
       "      <th>reviewer_score</th>\n",
       "      <th>tags</th>\n",
       "      <th>days_since_review</th>\n",
       "      <th>lat</th>\n",
       "      <th>lng</th>\n",
       "    </tr>\n",
       "  </thead>\n",
       "  <tbody>\n",
       "    <tr>\n",
       "      <th>0</th>\n",
       "      <td>Stratton Street Mayfair Westminster Borough Lo...</td>\n",
       "      <td>581</td>\n",
       "      <td>2/19/2016</td>\n",
       "      <td>8.4</td>\n",
       "      <td>The May Fair Hotel</td>\n",
       "      <td>United Kingdom</td>\n",
       "      <td>Leaving</td>\n",
       "      <td>3</td>\n",
       "      <td>1994</td>\n",
       "      <td>Staff were amazing</td>\n",
       "      <td>4</td>\n",
       "      <td>7</td>\n",
       "      <td>10.0</td>\n",
       "      <td>[' Leisure trip ', ' Couple ', ' Studio Suite ...</td>\n",
       "      <td>531 day</td>\n",
       "      <td>51.507894</td>\n",
       "      <td>-0.143671</td>\n",
       "    </tr>\n",
       "    <tr>\n",
       "      <th>1</th>\n",
       "      <td>130 134 Southampton Row Camden London WC1B 5AF...</td>\n",
       "      <td>299</td>\n",
       "      <td>1/12/2017</td>\n",
       "      <td>8.3</td>\n",
       "      <td>Mercure London Bloomsbury Hotel</td>\n",
       "      <td>United Kingdom</td>\n",
       "      <td>poor breakfast</td>\n",
       "      <td>3</td>\n",
       "      <td>1361</td>\n",
       "      <td>location</td>\n",
       "      <td>2</td>\n",
       "      <td>14</td>\n",
       "      <td>6.3</td>\n",
       "      <td>[' Business trip ', ' Couple ', ' Standard Dou...</td>\n",
       "      <td>203 day</td>\n",
       "      <td>51.521009</td>\n",
       "      <td>-0.123097</td>\n",
       "    </tr>\n",
       "  </tbody>\n",
       "</table>\n",
       "</div>"
      ],
      "text/plain": [
       "                                       hotel_address  \\\n",
       "0  Stratton Street Mayfair Westminster Borough Lo...   \n",
       "1  130 134 Southampton Row Camden London WC1B 5AF...   \n",
       "\n",
       "   additional_number_of_scoring review_date  average_score  \\\n",
       "0                           581   2/19/2016            8.4   \n",
       "1                           299   1/12/2017            8.3   \n",
       "\n",
       "                        hotel_name reviewer_nationality  negative_review  \\\n",
       "0               The May Fair Hotel      United Kingdom          Leaving    \n",
       "1  Mercure London Bloomsbury Hotel      United Kingdom    poor breakfast   \n",
       "\n",
       "   review_total_negative_word_counts  total_number_of_reviews  \\\n",
       "0                                  3                     1994   \n",
       "1                                  3                     1361   \n",
       "\n",
       "       positive_review  review_total_positive_word_counts  \\\n",
       "0   Staff were amazing                                  4   \n",
       "1             location                                  2   \n",
       "\n",
       "   total_number_of_reviews_reviewer_has_given  reviewer_score  \\\n",
       "0                                           7            10.0   \n",
       "1                                          14             6.3   \n",
       "\n",
       "                                                tags days_since_review  \\\n",
       "0  [' Leisure trip ', ' Couple ', ' Studio Suite ...           531 day   \n",
       "1  [' Business trip ', ' Couple ', ' Standard Dou...           203 day   \n",
       "\n",
       "         lat       lng  \n",
       "0  51.507894 -0.143671  \n",
       "1  51.521009 -0.123097  "
      ]
     },
     "execution_count": 9,
     "metadata": {},
     "output_type": "execute_result"
    }
   ],
   "source": [
    "df_tn = pd.read_csv('hotels_train1.csv')\n",
    "df_tn.head(2)"
   ]
  },
  {
   "cell_type": "markdown",
   "id": "2e7e5bdf-121d-44a4-9bf8-043c220e036e",
   "metadata": {},
   "source": [
    "<small><small>Очистка данных."
   ]
  },
  {
   "cell_type": "code",
   "execution_count": 10,
   "id": "60eb1bd5-7aac-4438-a60a-9efeeceb30a4",
   "metadata": {
    "scrolled": true
   },
   "outputs": [
    {
     "name": "stdout",
     "output_type": "stream",
     "text": [
      "<class 'pandas.core.frame.DataFrame'>\n",
      "RangeIndex: 386803 entries, 0 to 386802\n",
      "Data columns (total 17 columns):\n",
      " #   Column                                      Non-Null Count   Dtype  \n",
      "---  ------                                      --------------   -----  \n",
      " 0   hotel_address                               386803 non-null  object \n",
      " 1   additional_number_of_scoring                386803 non-null  int64  \n",
      " 2   review_date                                 386803 non-null  object \n",
      " 3   average_score                               386803 non-null  float64\n",
      " 4   hotel_name                                  386803 non-null  object \n",
      " 5   reviewer_nationality                        386803 non-null  object \n",
      " 6   negative_review                             386803 non-null  object \n",
      " 7   review_total_negative_word_counts           386803 non-null  int64  \n",
      " 8   total_number_of_reviews                     386803 non-null  int64  \n",
      " 9   positive_review                             386803 non-null  object \n",
      " 10  review_total_positive_word_counts           386803 non-null  int64  \n",
      " 11  total_number_of_reviews_reviewer_has_given  386803 non-null  int64  \n",
      " 12  reviewer_score                              386803 non-null  float64\n",
      " 13  tags                                        386803 non-null  object \n",
      " 14  days_since_review                           386803 non-null  object \n",
      " 15  lat                                         384355 non-null  float64\n",
      " 16  lng                                         384355 non-null  float64\n",
      "dtypes: float64(4), int64(5), object(8)\n",
      "memory usage: 50.2+ MB\n"
     ]
    }
   ],
   "source": [
    "df_tn.info()"
   ]
  },
  {
   "cell_type": "code",
   "execution_count": 11,
   "id": "1d34bc83-7de3-48f9-ab0b-2ee19d24750c",
   "metadata": {
    "scrolled": true
   },
   "outputs": [],
   "source": [
    "df_tn['review_date'] = pd.to_datetime(df_tn['review_date'], errors='coerce') # Преобразовать столбец с датами в формат datetime, если это ещё не сделано"
   ]
  },
  {
   "cell_type": "code",
   "execution_count": 13,
   "id": "15f68728-ca89-4303-b542-3d60b0795bbc",
   "metadata": {},
   "outputs": [
    {
     "name": "stdout",
     "output_type": "stream",
     "text": [
      "<class 'pandas.core.frame.DataFrame'>\n",
      "Index: 386496 entries, 0 to 386802\n",
      "Data columns (total 17 columns):\n",
      " #   Column                                      Non-Null Count   Dtype         \n",
      "---  ------                                      --------------   -----         \n",
      " 0   hotel_address                               386496 non-null  object        \n",
      " 1   additional_number_of_scoring                386496 non-null  int64         \n",
      " 2   review_date                                 386496 non-null  datetime64[ns]\n",
      " 3   average_score                               386496 non-null  float64       \n",
      " 4   hotel_name                                  386496 non-null  object        \n",
      " 5   reviewer_nationality                        386496 non-null  object        \n",
      " 6   negative_review                             386496 non-null  object        \n",
      " 7   review_total_negative_word_counts           386496 non-null  int64         \n",
      " 8   total_number_of_reviews                     386496 non-null  int64         \n",
      " 9   positive_review                             386496 non-null  object        \n",
      " 10  review_total_positive_word_counts           386496 non-null  int64         \n",
      " 11  total_number_of_reviews_reviewer_has_given  386496 non-null  int64         \n",
      " 12  reviewer_score                              386496 non-null  float64       \n",
      " 13  tags                                        386496 non-null  object        \n",
      " 14  days_since_review                           386496 non-null  object        \n",
      " 15  lat                                         384048 non-null  float64       \n",
      " 16  lng                                         384048 non-null  float64       \n",
      "dtypes: datetime64[ns](1), float64(4), int64(5), object(7)\n",
      "memory usage: 53.1+ MB\n"
     ]
    }
   ],
   "source": [
    "df_tn.info()"
   ]
  },
  {
   "cell_type": "code",
   "execution_count": 12,
   "id": "3490f5fe-6138-40e0-8c46-8897c27c2ed9",
   "metadata": {
    "colab": {
     "base_uri": "https://localhost:8080/"
    },
    "id": "As_X7I6jl7Za",
    "jp-MarkdownHeadingCollapsed": true,
    "outputId": "3d3795b3-ab7c-4cc6-ab3d-23a4796a7b5c"
   },
   "outputs": [
    {
     "name": "stdout",
     "output_type": "stream",
     "text": [
      "Количество дубликатов: 307\n",
      "Размер таблицы после удаления дубликатов: (386496, 17)\n"
     ]
    }
   ],
   "source": [
    "# Проверим данные на наличие полных дубликатов:\n",
    "print('Количество дубликатов: {}'.format(df_tn[df_tn.duplicated()].shape[0]))\n",
    "# Удаляем дубликаты:\n",
    "df_tn = df_tn.drop_duplicates()\n",
    "print('Размер таблицы после удаления дубликатов: {}'.format(df_tn.shape))"
   ]
  },
  {
   "cell_type": "markdown",
   "id": "40f470d8-461b-4ba5-b99e-36546029e51c",
   "metadata": {
    "jp-MarkdownHeadingCollapsed": true
   },
   "source": [
    "<small><small>Удаление строковых значений. Необходимо удалить из набора данных столбцы, данные в которых представлены не числами."
   ]
  },
  {
   "cell_type": "code",
   "execution_count": 14,
   "id": "af357bdf-3e45-4217-bdce-35a68c9c523d",
   "metadata": {
    "scrolled": true
   },
   "outputs": [
    {
     "data": {
      "text/html": [
       "<div>\n",
       "<style scoped>\n",
       "    .dataframe tbody tr th:only-of-type {\n",
       "        vertical-align: middle;\n",
       "    }\n",
       "\n",
       "    .dataframe tbody tr th {\n",
       "        vertical-align: top;\n",
       "    }\n",
       "\n",
       "    .dataframe thead th {\n",
       "        text-align: right;\n",
       "    }\n",
       "</style>\n",
       "<table border=\"1\" class=\"dataframe\">\n",
       "  <thead>\n",
       "    <tr style=\"text-align: right;\">\n",
       "      <th></th>\n",
       "      <th>additional_number_of_scoring</th>\n",
       "      <th>average_score</th>\n",
       "      <th>review_total_negative_word_counts</th>\n",
       "      <th>total_number_of_reviews</th>\n",
       "      <th>review_total_positive_word_counts</th>\n",
       "      <th>total_number_of_reviews_reviewer_has_given</th>\n",
       "      <th>reviewer_score</th>\n",
       "      <th>lat</th>\n",
       "      <th>lng</th>\n",
       "    </tr>\n",
       "  </thead>\n",
       "  <tbody>\n",
       "    <tr>\n",
       "      <th>0</th>\n",
       "      <td>581</td>\n",
       "      <td>8.4</td>\n",
       "      <td>3</td>\n",
       "      <td>1994</td>\n",
       "      <td>4</td>\n",
       "      <td>7</td>\n",
       "      <td>10.0</td>\n",
       "      <td>51.507894</td>\n",
       "      <td>-0.143671</td>\n",
       "    </tr>\n",
       "    <tr>\n",
       "      <th>1</th>\n",
       "      <td>299</td>\n",
       "      <td>8.3</td>\n",
       "      <td>3</td>\n",
       "      <td>1361</td>\n",
       "      <td>2</td>\n",
       "      <td>14</td>\n",
       "      <td>6.3</td>\n",
       "      <td>51.521009</td>\n",
       "      <td>-0.123097</td>\n",
       "    </tr>\n",
       "  </tbody>\n",
       "</table>\n",
       "</div>"
      ],
      "text/plain": [
       "   additional_number_of_scoring  average_score  \\\n",
       "0                           581            8.4   \n",
       "1                           299            8.3   \n",
       "\n",
       "   review_total_negative_word_counts  total_number_of_reviews  \\\n",
       "0                                  3                     1994   \n",
       "1                                  3                     1361   \n",
       "\n",
       "   review_total_positive_word_counts  \\\n",
       "0                                  4   \n",
       "1                                  2   \n",
       "\n",
       "   total_number_of_reviews_reviewer_has_given  reviewer_score        lat  \\\n",
       "0                                           7            10.0  51.507894   \n",
       "1                                          14             6.3  51.521009   \n",
       "\n",
       "        lng  \n",
       "0 -0.143671  \n",
       "1 -0.123097  "
      ]
     },
     "execution_count": 14,
     "metadata": {},
     "output_type": "execute_result"
    }
   ],
   "source": [
    "df_tn = df_tn.drop(['hotel_address', 'review_date', 'hotel_name', 'reviewer_nationality', 'negative_review', \n",
    "               'positive_review', 'tags', 'days_since_review'], axis = 1)\n",
    "df_tn.head(2)"
   ]
  },
  {
   "cell_type": "code",
   "execution_count": 15,
   "id": "5c925ba0-1ed8-4c13-a161-2d3ab1ee9737",
   "metadata": {
    "scrolled": true
   },
   "outputs": [
    {
     "name": "stdout",
     "output_type": "stream",
     "text": [
      "<class 'pandas.core.frame.DataFrame'>\n",
      "Index: 386496 entries, 0 to 386802\n",
      "Data columns (total 9 columns):\n",
      " #   Column                                      Non-Null Count   Dtype  \n",
      "---  ------                                      --------------   -----  \n",
      " 0   additional_number_of_scoring                386496 non-null  int64  \n",
      " 1   average_score                               386496 non-null  float64\n",
      " 2   review_total_negative_word_counts           386496 non-null  int64  \n",
      " 3   total_number_of_reviews                     386496 non-null  int64  \n",
      " 4   review_total_positive_word_counts           386496 non-null  int64  \n",
      " 5   total_number_of_reviews_reviewer_has_given  386496 non-null  int64  \n",
      " 6   reviewer_score                              386496 non-null  float64\n",
      " 7   lat                                         384048 non-null  float64\n",
      " 8   lng                                         384048 non-null  float64\n",
      "dtypes: float64(4), int64(5)\n",
      "memory usage: 29.5 MB\n"
     ]
    }
   ],
   "source": [
    "df_tn.info()"
   ]
  },
  {
   "cell_type": "code",
   "execution_count": 74,
   "id": "e96455a0-d75c-43de-8d58-bb34fb9485b9",
   "metadata": {},
   "outputs": [],
   "source": [
    "    # Разбиваем датафрейм на части, необходимые для обучения и тестирования модели  \n",
    "    # Х — данные с информацией об отелях, у — целевая переменная (рейтинги отелей)  \n",
    "    X = df_tn.drop(['reviewer_score'], axis = 1)  \n",
    "    y = df_tn['reviewer_score']  \n",
    "    y=y.astype('int') # означает, что объект y (например, столбец pandas.Series, содержащий данные) преобразуется к типу данных целое число (integer).  \n",
    "    # Загружаем специальный инструмент для разбивки:  \n",
    "    from sklearn.model_selection import train_test_split  \n",
    "      \n",
    "    # Наборы данных с меткой \"train\" будут использоваться для обучения модели, \"test\" — для тестирования.  \n",
    "    # Для тестирования мы будем использовать 25 % от исходного датасета.  \n",
    "    X_train, X_test, y_train, y_test = train_test_split(X, y, test_size=0.25, random_state=42)"
   ]
  },
  {
   "cell_type": "code",
   "execution_count": 75,
   "id": "796c76eb-88bf-4e02-959c-a8f59a48320b",
   "metadata": {},
   "outputs": [
    {
     "data": {
      "text/html": [
       "<div>\n",
       "<style scoped>\n",
       "    .dataframe tbody tr th:only-of-type {\n",
       "        vertical-align: middle;\n",
       "    }\n",
       "\n",
       "    .dataframe tbody tr th {\n",
       "        vertical-align: top;\n",
       "    }\n",
       "\n",
       "    .dataframe thead th {\n",
       "        text-align: right;\n",
       "    }\n",
       "</style>\n",
       "<table border=\"1\" class=\"dataframe\">\n",
       "  <thead>\n",
       "    <tr style=\"text-align: right;\">\n",
       "      <th></th>\n",
       "      <th>additional_number_of_scoring</th>\n",
       "      <th>average_score</th>\n",
       "      <th>review_total_negative_word_counts</th>\n",
       "      <th>total_number_of_reviews</th>\n",
       "      <th>review_total_positive_word_counts</th>\n",
       "      <th>total_number_of_reviews_reviewer_has_given</th>\n",
       "      <th>lat</th>\n",
       "      <th>lng</th>\n",
       "    </tr>\n",
       "  </thead>\n",
       "  <tbody>\n",
       "    <tr>\n",
       "      <th>0</th>\n",
       "      <td>581</td>\n",
       "      <td>8.4</td>\n",
       "      <td>3</td>\n",
       "      <td>1994</td>\n",
       "      <td>4</td>\n",
       "      <td>7</td>\n",
       "      <td>51.507894</td>\n",
       "      <td>-0.143671</td>\n",
       "    </tr>\n",
       "    <tr>\n",
       "      <th>1</th>\n",
       "      <td>299</td>\n",
       "      <td>8.3</td>\n",
       "      <td>3</td>\n",
       "      <td>1361</td>\n",
       "      <td>2</td>\n",
       "      <td>14</td>\n",
       "      <td>51.521009</td>\n",
       "      <td>-0.123097</td>\n",
       "    </tr>\n",
       "  </tbody>\n",
       "</table>\n",
       "</div>"
      ],
      "text/plain": [
       "   additional_number_of_scoring  average_score  \\\n",
       "0                           581            8.4   \n",
       "1                           299            8.3   \n",
       "\n",
       "   review_total_negative_word_counts  total_number_of_reviews  \\\n",
       "0                                  3                     1994   \n",
       "1                                  3                     1361   \n",
       "\n",
       "   review_total_positive_word_counts  \\\n",
       "0                                  4   \n",
       "1                                  2   \n",
       "\n",
       "   total_number_of_reviews_reviewer_has_given        lat       lng  \n",
       "0                                           7  51.507894 -0.143671  \n",
       "1                                          14  51.521009 -0.123097  "
      ]
     },
     "metadata": {},
     "output_type": "display_data"
    },
    {
     "data": {
      "text/plain": [
       "0    10\n",
       "1     6\n",
       "Name: reviewer_score, dtype: int32"
      ]
     },
     "metadata": {},
     "output_type": "display_data"
    }
   ],
   "source": [
    "display(X.head(2), y.head(2))"
   ]
  },
  {
   "cell_type": "markdown",
   "id": "7cfe1d8f-8f0b-4fd9-9585-2e5696b789e2",
   "metadata": {},
   "source": [
    "<small><small>Для полной корректной работы:\\\n",
    "<small>- X[cat_cols] не должен содержать NaN и отрицательных значений. При необходимости предварительно обработайте данные (заполните или удалите пропуски, преобразуйте категориальные переменные в числовые          индикаторы).\\\n",
    "<small>- Целевая переменная y должна содержать метки классов в целочисленном виде."
   ]
  },
  {
   "cell_type": "code",
   "execution_count": 76,
   "id": "c3213239-11c3-473d-b030-bdaddee7eeb0",
   "metadata": {
    "scrolled": true
   },
   "outputs": [
    {
     "data": {
      "text/plain": [
       "additional_number_of_scoring                       0\n",
       "average_score                                      0\n",
       "review_total_negative_word_counts                  0\n",
       "total_number_of_reviews                            0\n",
       "review_total_positive_word_counts                  0\n",
       "total_number_of_reviews_reviewer_has_given         0\n",
       "lat                                                0\n",
       "lng                                           192242\n",
       "dtype: int64"
      ]
     },
     "execution_count": 76,
     "metadata": {},
     "output_type": "execute_result"
    }
   ],
   "source": [
    "(X < 0).sum()"
   ]
  },
  {
   "cell_type": "markdown",
   "id": "47dfe8cd-f661-4367-91e1-0ee7ac3cc08a",
   "metadata": {},
   "source": [
    "1. mask = X['lng'] >= 0 — создаётся булевый (логический) массив mask, где для каждой строки в столбце lng (долгота) проверяется условие \"больше или равно нулю\". Для строк, где значение lng >= 0, в mask будет True, у остальных — False.\n",
    "2. X = X.loc[mask] — из исходного DataFrame X выбираются только те строки, в которых значение в mask — True, то есть где lng >= 0. Остальные строки удаляются.\n",
    "3. Аналогично y = y.loc[mask] — из целевой переменной (например, Series с метками y) выбираются те же строки, что и в X, чтобы данные и целевые значения остались соответствующими.\n",
    "4. Таким образом, этот код фильтрует данные, оставляя только строки с допустимыми (неотрицательными) значениями признака lng. Это часто нужно для очистки данных перед анализом или обучением модели."
   ]
  },
  {
   "cell_type": "code",
   "execution_count": 121,
   "id": "e6131954-d25c-4126-bdc3-5fa7b1c2e48f",
   "metadata": {},
   "outputs": [],
   "source": [
    "mask = X['lng'] >= 0\n",
    "X = X.loc[mask]\n",
    "y = y.loc[mask]"
   ]
  },
  {
   "cell_type": "code",
   "execution_count": 122,
   "id": "50ef9ada-ba45-41a5-80d8-5398e8ea1272",
   "metadata": {
    "scrolled": true
   },
   "outputs": [
    {
     "name": "stdout",
     "output_type": "stream",
     "text": [
      "<class 'pandas.core.frame.DataFrame'>\n",
      "Index: 191806 entries, 2 to 386799\n",
      "Data columns (total 8 columns):\n",
      " #   Column                                      Non-Null Count   Dtype  \n",
      "---  ------                                      --------------   -----  \n",
      " 0   additional_number_of_scoring                191806 non-null  int64  \n",
      " 1   average_score                               191806 non-null  float64\n",
      " 2   review_total_negative_word_counts           191806 non-null  int64  \n",
      " 3   total_number_of_reviews                     191806 non-null  int64  \n",
      " 4   review_total_positive_word_counts           191806 non-null  int64  \n",
      " 5   total_number_of_reviews_reviewer_has_given  191806 non-null  int64  \n",
      " 6   lat                                         191806 non-null  float64\n",
      " 7   lng                                         191806 non-null  float64\n",
      "dtypes: float64(3), int64(5)\n",
      "memory usage: 13.2 MB\n"
     ]
    }
   ],
   "source": [
    "X.info()"
   ]
  },
  {
   "cell_type": "code",
   "execution_count": 123,
   "id": "e9c3ce6e-fbfa-49be-8cee-3143ee1ecec8",
   "metadata": {
    "scrolled": true
   },
   "outputs": [
    {
     "name": "stdout",
     "output_type": "stream",
     "text": [
      "<class 'pandas.core.series.Series'>\n",
      "Index: 191806 entries, 2 to 386799\n",
      "Series name: reviewer_score\n",
      "Non-Null Count   Dtype\n",
      "--------------   -----\n",
      "191806 non-null  int32\n",
      "dtypes: int32(1)\n",
      "memory usage: 2.2 MB\n"
     ]
    }
   ],
   "source": [
    "y.info()"
   ]
  },
  {
   "cell_type": "code",
   "execution_count": 131,
   "id": "cb7d9ebb-6ace-4111-b378-60b826362517",
   "metadata": {},
   "outputs": [],
   "source": [
    "mask = X['lng'] >= 0\n",
    "X = X.loc[mask]\n",
    "y = y.loc[mask]"
   ]
  },
  {
   "cell_type": "code",
   "execution_count": 132,
   "id": "c188204d-de2f-4c2d-97f5-d6d19848171f",
   "metadata": {},
   "outputs": [],
   "source": [
    "#cat_cols = ['average_score', 'lat', 'lng'] # cat_cols — это переменная (обычно список), в которой хранятся названия столбцов из DataFrame, которые определены как категориальные признаки.\n",
    "cat_cols = ['average_score', 'lat', 'lng'] \n",
    "X_filled = X[cat_cols].fillna(0)\n",
    "X_filled = X_filled[X_filled['lng'] >= 0] # Если нужно удалить строки с отрицательными lng (только по этому столбцу):\n",
    "# X_filled = X[['average_score', 'lat', 'lng']].fillna(0)"
   ]
  },
  {
   "cell_type": "code",
   "execution_count": 133,
   "id": "c5cce644-aaef-443a-9da7-bce568427f3f",
   "metadata": {},
   "outputs": [
    {
     "name": "stdout",
     "output_type": "stream",
     "text": [
      "average_score    0\n",
      "lat              0\n",
      "lng              0\n",
      "dtype: int64\n"
     ]
    }
   ],
   "source": [
    "# Проверить наличие NaN\n",
    "print(X_filled[cat_cols].isnull().sum())\n",
    "# print(pd.isnull(y).sum())"
   ]
  },
  {
   "cell_type": "code",
   "execution_count": 134,
   "id": "7490cfe2-33f5-4d24-868d-fe8282bae46a",
   "metadata": {
    "scrolled": true
   },
   "outputs": [
    {
     "data": {
      "text/plain": [
       "average_score    0\n",
       "lat              0\n",
       "lng              0\n",
       "dtype: int64"
      ]
     },
     "execution_count": 134,
     "metadata": {},
     "output_type": "execute_result"
    }
   ],
   "source": [
    "(X_filled < 0).sum()"
   ]
  },
  {
   "cell_type": "code",
   "execution_count": 135,
   "id": "73fb897b-02f2-43d4-9a72-bfa207efa4d7",
   "metadata": {},
   "outputs": [],
   "source": [
    "imp_cat = pd.Series(chi2(X_filled[cat_cols], y)[0], index=cat_cols)"
   ]
  },
  {
   "cell_type": "code",
   "execution_count": 191,
   "id": "cec07960-76ad-45e4-9e0f-fb3e26354a27",
   "metadata": {
    "scrolled": true
   },
   "outputs": [
    {
     "name": "stdout",
     "output_type": "stream",
     "text": [
      "MAPE на тестовой выборке: 16.74%\n"
     ]
    }
   ],
   "source": [
    "import numpy as np\n",
    "from comet_ml import Experiment\n",
    "from sklearn.ensemble import RandomForestRegressor  # пример модели\n",
    "from sklearn.metrics import mean_absolute_percentage_error\n",
    "# Обучение модели (пример)\n",
    "model = RandomForestRegressor(random_state=42)\n",
    "model.fit(X_train, y_train)\n",
    "# Предсказания на тесте\n",
    "y_pred = model.predict(X_test)\n",
    "# Расчёт MAPE\n",
    "mape_value = mean_absolute_percentage_error(y_test, y_pred) * 100  # умножаем на 100 для %\n",
    "print(f\"MAPE на тестовой выборке: {mape_value:.2f}%\")"
   ]
  },
  {
   "cell_type": "code",
   "execution_count": 192,
   "id": "b7a255e3-97bd-435d-a0b3-a0f1313730a5",
   "metadata": {},
   "outputs": [],
   "source": [
    "#cat_cols = ['average_score', 'lat', 'lng'] # cat_cols — это переменная (обычно список), в которой хранятся названия столбцов из DataFrame, которые определены как категориальные признаки.\n",
    "cat_cols = ['additional_number_of_scoring', 'average_score', 'review_total_negative_word_counts', 'total_number_of_reviews', 'review_total_positive_word_counts', 'total_number_of_reviews_reviewer_has_given', 'lat', 'lng'] \n",
    "X_filled = X[cat_cols].fillna(0)\n",
    "X_filled = X_filled[X_filled['lng'] >= 0] # Если нужно удалить строки с отрицательными lng (только по этому столбцу):\n",
    "# X_filled = X[['average_score', 'lat', 'lng']].fillna(0)"
   ]
  },
  {
   "cell_type": "code",
   "execution_count": 193,
   "id": "22531870-e8ea-4350-b042-aa417e37845a",
   "metadata": {},
   "outputs": [],
   "source": [
    "imp_cat = pd.Series(chi2(X_filled[cat_cols], y)[0], index=cat_cols)"
   ]
  },
  {
   "cell_type": "code",
   "execution_count": 194,
   "id": "54a65198-6770-4051-b9d0-5180f451f257",
   "metadata": {},
   "outputs": [
    {
     "data": {
      "text/plain": [
       "<Axes: >"
      ]
     },
     "execution_count": 194,
     "metadata": {},
     "output_type": "execute_result"
    },
    {
     "data": {
      "image/png": "[encoded data removed]",
      "text/plain": [
       "<Figure size 640x480 with 1 Axes>"
      ]
     },
     "metadata": {},
     "output_type": "display_data"
    }
   ],
   "source": [
    "from sklearn.feature_selection import f_classif\n",
    "imp_num = pd.Series(f_classif(X_filled, y)[0], index=cat_cols)\n",
    "imp_num.sort_values(inplace=True)\n",
    "imp_num.plot(kind='barh')"
   ]
  },
  {
   "cell_type": "markdown",
   "id": "de3f0eba-cf0d-4a4b-98cc-8330c4c1d8f9",
   "metadata": {},
   "source": [
    "2.Признаки\n",
    "*3.average_score- средний балл отеля, рассчитанный на основе последних комментариев за прошлый год\n",
    "*7.review_total_negative_word_counts- общее количество слов в отрицательном отзыве\n",
    "*9.review_total_positive_word_counts- общее количество слов в положительном отзыве\n",
    "*11.total_number_of_reviews_reviewer_has_given- количество отзывов, которые были оставлены в прошлом\n",
    "*12.total_number_of_reviews- общее количество реальных отзывов об отелях"
   ]
  },
  {
   "cell_type": "code",
   "execution_count": 196,
   "id": "6227b7b3-156e-4cf4-a8e1-d88fdfff6329",
   "metadata": {},
   "outputs": [],
   "source": [
    "#cat_cols = ['average_score', 'lat', 'lng'] # cat_cols — это переменная (обычно список), в которой хранятся названия столбцов из DataFrame, которые определены как категориальные признаки.\n",
    "cat_cols = ['average_score', 'review_total_negative_word_counts', 'review_total_positive_word_counts', 'total_number_of_reviews_reviewer_has_given'] \n",
    "X_filled = X[cat_cols].fillna(0)\n",
    "# X_filled = X_filled[X_filled['lng'] >= 0] # Если нужно удалить строки с отрицательными lng (только по этому столбцу):\n",
    "# X_filled = X[['average_score', 'lat', 'lng']].fillna(0)"
   ]
  },
  {
   "cell_type": "code",
   "execution_count": 197,
   "id": "9066ef33-bda4-406f-87e4-1fc0e245cc12",
   "metadata": {},
   "outputs": [],
   "source": [
    "imp_cat = pd.Series(chi2(X_filled[cat_cols], y)[0], index=cat_cols)"
   ]
  },
  {
   "cell_type": "code",
   "execution_count": 198,
   "id": "b7ad434b-3f53-41c9-ae69-c98db153f2a2",
   "metadata": {
    "scrolled": true
   },
   "outputs": [
    {
     "data": {
      "text/plain": [
       "<Axes: >"
      ]
     },
     "execution_count": 198,
     "metadata": {},
     "output_type": "execute_result"
    },
    {
     "data": {
      "image/png": "[encoded data removed]",
      "text/plain": [
       "<Figure size 640x480 with 1 Axes>"
      ]
     },
     "metadata": {},
     "output_type": "display_data"
    }
   ],
   "source": [
    "from sklearn.feature_selection import f_classif\n",
    "imp_num = pd.Series(f_classif(X_filled, y)[0], index=cat_cols)\n",
    "imp_num.sort_values(inplace=True)\n",
    "imp_num.plot(kind='barh')"
   ]
  },
  {
   "cell_type": "code",
   "execution_count": 199,
   "id": "5d485385-b3cc-4517-83ae-8fc07f2467d7",
   "metadata": {
    "scrolled": true
   },
   "outputs": [],
   "source": [
    "# numeric_data = df[['Age', 'Scholarship', 'Hipertension', 'Diabetes', 'Alcoholism','Handcap', 'SMS_received']]\n",
    "numeric_data = X[cat_cols]\n",
    "# corr_matrix = numeric_data.corr(numeric_only=True)"
   ]
  },
  {
   "cell_type": "code",
   "execution_count": 202,
   "id": "4942df3b-706e-453a-83d3-e851afae28b1",
   "metadata": {},
   "outputs": [
    {
     "name": "stderr",
     "output_type": "stream",
     "text": [
      "\u001b[1;38;5;214mCOMET WARNING:\u001b[0m To get all data logged automatically, import comet_ml before the following modules: sklearn.\n",
      "\u001b[1;38;5;39mCOMET INFO:\u001b[0m ---------------------------------------------------------------------------------------\n",
      "\u001b[1;38;5;39mCOMET INFO:\u001b[0m Comet.ml Experiment Summary\n",
      "\u001b[1;38;5;39mCOMET INFO:\u001b[0m ---------------------------------------------------------------------------------------\n",
      "\u001b[1;38;5;39mCOMET INFO:\u001b[0m   Data:\n",
      "\u001b[1;38;5;39mCOMET INFO:\u001b[0m     display_summary_level : 1\n",
      "\u001b[1;38;5;39mCOMET INFO:\u001b[0m     name                  : big_projection_2073\n",
      "\u001b[1;38;5;39mCOMET INFO:\u001b[0m     url                   : https://www.comet.com/st965ch/medical-dz/62a46934cd5f4771a648d054724549df\n",
      "\u001b[1;38;5;39mCOMET INFO:\u001b[0m   Uploads:\n",
      "\u001b[1;38;5;39mCOMET INFO:\u001b[0m     environment details : 1\n",
      "\u001b[1;38;5;39mCOMET INFO:\u001b[0m     figures             : 1\n",
      "\u001b[1;38;5;39mCOMET INFO:\u001b[0m     filename            : 1\n",
      "\u001b[1;38;5;39mCOMET INFO:\u001b[0m     git metadata        : 1\n",
      "\u001b[1;38;5;39mCOMET INFO:\u001b[0m     installed packages  : 1\n",
      "\u001b[1;38;5;39mCOMET INFO:\u001b[0m     notebook            : 1\n",
      "\u001b[1;38;5;39mCOMET INFO:\u001b[0m     source_code         : 1\n",
      "\u001b[1;38;5;39mCOMET INFO:\u001b[0m \n",
      "\u001b[1;38;5;214mCOMET WARNING:\u001b[0m To get all data logged automatically, import comet_ml before the following modules: sklearn.\n",
      "\u001b[1;38;5;214mCOMET WARNING:\u001b[0m As you are running in a Jupyter environment, you will need to call `experiment.end()` when finished to ensure all metrics and code are logged before exiting.\n",
      "\u001b[1;38;5;39mCOMET INFO:\u001b[0m Experiment is live on comet.com https://www.comet.com/st965ch/medical-dz/2a5c9c7bc69248f4b550103ed21815b0\n",
      "\n"
     ]
    },
    {
     "data": {
      "image/png": "[encoded data removed]",
      "text/plain": [
       "<Figure size 1000x800 with 2 Axes>"
      ]
     },
     "metadata": {},
     "output_type": "display_data"
    }
   ],
   "source": [
    "import seaborn as sns\n",
    "import matplotlib.pyplot as plt\n",
    "from comet_ml import Experiment\n",
    "\n",
    "# Вычисление корреляции\n",
    "corr_matrix = numeric_data.corr(numeric_only=True)\n",
    "# # Инициализация эксперимента Comet\n",
    "# experiment = Experiment(\n",
    "#     api_key='UmCby0azQBlsetmF7ijWfYPFz',\n",
    "#     project_name='medical-DZ',\n",
    "#     workspace='st965ch',\n",
    "# )\n",
    "from comet_ml import Experiment\n",
    "import seaborn as sns\n",
    "import matplotlib.pyplot as plt\n",
    "\n",
    "# Инициализация эксперимента\n",
    "experiment = Experiment(\n",
    "    api_key='UmCby0azQBlsetmF7ijWfYPFz',\n",
    "    project_name='medical-DZ',\n",
    "    workspace='st965ch',\n",
    ")\n",
    "# Визуализация\n",
    "plt.figure(figsize=(10, 8))\n",
    "sns.heatmap(corr_matrix, annot=True, cmap='coolwarm', vmin=-1, vmax=1, center=0)\n",
    "plt.title('Корреляционная матрица 7 числовых признаков')\n",
    "plt.tight_layout()\n",
    "\n",
    "# Логирование в Comet\n",
    "experiment.log_figure(figure=plt)\n",
    "\n",
    "# Отобразить график локально (опционально)\n",
    "plt.show()\n",
    "\n"
   ]
  },
  {
   "cell_type": "code",
   "execution_count": 167,
   "id": "239fd44c-f940-47cb-9ee4-893db1fd5b8f",
   "metadata": {
    "scrolled": true
   },
   "outputs": [
    {
     "name": "stdout",
     "output_type": "stream",
     "text": [
      "MAPE на тестовой выборке: 16.74%\n"
     ]
    }
   ],
   "source": [
    "import numpy as np\n",
    "from sklearn.ensemble import RandomForestRegressor  # пример модели\n",
    "from sklearn.metrics import mean_absolute_percentage_error\n",
    "# Обучение модели (пример)\n",
    "model = RandomForestRegressor(random_state=42)\n",
    "model.fit(X_train, y_train)\n",
    "# Предсказания на тесте\n",
    "y_pred = model.predict(X_test)\n",
    "# Расчёт MAPE\n",
    "mape_value = mean_absolute_percentage_error(y_test, y_pred) * 100  # умножаем на 100 для %\n",
    "print(f\"MAPE на тестовой выборке: {mape_value:.2f}%\")"
   ]
  }
 ],
 "metadata": {
  "kernelspec": {
   "display_name": "Python 3 (ipykernel)",
   "language": "python",
   "name": "python3"
  },
  "language_info": {
   "codemirror_mode": {
    "name": "ipython",
    "version": 3
   },
   "file_extension": ".py",
   "mimetype": "text/x-python",
   "name": "python",
   "nbconvert_exporter": "python",
   "pygments_lexer": "ipython3",
   "version": "3.12.6"
  }
 },
 "nbformat": 4,
 "nbformat_minor": 5
}
