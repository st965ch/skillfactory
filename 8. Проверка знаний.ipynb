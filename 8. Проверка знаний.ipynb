{
 "cells": [
  {
   "cell_type": "markdown",
   "id": "818bbbf8-9299-407a-8a4a-134a5ebd0a29",
   "metadata": {},
   "source": [
    "##### 8. Проверка знаний"
   ]
  }
 ],
 "metadata": {
  "kernelspec": {
   "display_name": "Python 3 (ipykernel)",
   "language": "python",
   "name": "python3"
  },
  "language_info": {
   "codemirror_mode": {
    "name": "ipython",
    "version": 3
   },
   "file_extension": ".py",
   "mimetype": "text/x-python",
   "name": "python",
   "nbconvert_exporter": "python",
   "pygments_lexer": "ipython3",
   "version": "3.12.6"
  }
 },
 "nbformat": 4,
 "nbformat_minor": 5
}
